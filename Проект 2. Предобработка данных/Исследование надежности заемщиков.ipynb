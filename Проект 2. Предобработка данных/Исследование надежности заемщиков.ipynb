{
 "cells": [
  {
   "cell_type": "markdown",
   "id": "4b4e0adb-93db-4b16-8c10-133911f36759",
   "metadata": {},
   "source": [
    "# Исследование надежности заемщиков"
   ]
  },
  {
   "cell_type": "markdown",
   "id": "933c12d8-fd4e-477e-ae3e-fdd512aae9b8",
   "metadata": {},
   "source": [
    "***Заказчик:*** кредитный отдел банка. \n",
    "\n",
    "***Цель:*** Разобраться, влияет ли семейное положение и количество детей клиента на факт погашения кредита в срок. Входные данные от банка — статистика о платёжеспособности клиентов.\n",
    "\n",
    "***Описание данных:***\n",
    "\n",
    "- children (количество детей в семье)\n",
    "- days_employed (общий трудовой стаж в днях)\n",
    "- dob_years — (возраст клиента в годах)\n",
    "- education — (уровень образования клиента)\n",
    "- education_id — (идентификатор уровня образования)\n",
    "- family_status — (семейное положение\n",
    "- family_status_id — (идентификатор семейного положения)\n",
    "- gender — (пол клиента)\n",
    "- income_type — (тип занятости)\n",
    "- debt — (имел ли задолженность по возврату кредитов)\n",
    "- total_income — (ежемесячный доход)\n",
    "- purpose — (цель получения кредита)"
   ]
  },
  {
   "cell_type": "markdown",
   "id": "5a068536-c11e-4d1a-83c5-76242e86ebbc",
   "metadata": {},
   "source": [
    "## 1. Загрузка бибилиотек и знакомство с данными\n"
   ]
  },
  {
   "cell_type": "code",
   "execution_count": 4,
   "id": "bbe3d01b-59b4-4766-9cbb-ecb75d0ef389",
   "metadata": {},
   "outputs": [],
   "source": [
    "import pandas as pd\n",
    "\n",
    "try:\n",
    "    data = pd.read_csv('/datasets/data.csv')\n",
    "except:\n",
    "    data = pd.read_csv('https://code.s3.yandex.net/datasets/data.csv')"
   ]
  },
  {
   "cell_type": "code",
   "execution_count": 5,
   "id": "b0146def-9c81-4d45-a7b1-91adcc821ce4",
   "metadata": {},
   "outputs": [
    {
     "data": {
      "text/html": [
       "<div>\n",
       "<style scoped>\n",
       "    .dataframe tbody tr th:only-of-type {\n",
       "        vertical-align: middle;\n",
       "    }\n",
       "\n",
       "    .dataframe tbody tr th {\n",
       "        vertical-align: top;\n",
       "    }\n",
       "\n",
       "    .dataframe thead th {\n",
       "        text-align: right;\n",
       "    }\n",
       "</style>\n",
       "<table border=\"1\" class=\"dataframe\">\n",
       "  <thead>\n",
       "    <tr style=\"text-align: right;\">\n",
       "      <th></th>\n",
       "      <th>children</th>\n",
       "      <th>days_employed</th>\n",
       "      <th>dob_years</th>\n",
       "      <th>education</th>\n",
       "      <th>education_id</th>\n",
       "      <th>family_status</th>\n",
       "      <th>family_status_id</th>\n",
       "      <th>gender</th>\n",
       "      <th>income_type</th>\n",
       "      <th>debt</th>\n",
       "      <th>total_income</th>\n",
       "      <th>purpose</th>\n",
       "    </tr>\n",
       "  </thead>\n",
       "  <tbody>\n",
       "    <tr>\n",
       "      <th>0</th>\n",
       "      <td>1</td>\n",
       "      <td>-8437.673028</td>\n",
       "      <td>42</td>\n",
       "      <td>высшее</td>\n",
       "      <td>0</td>\n",
       "      <td>женат / замужем</td>\n",
       "      <td>0</td>\n",
       "      <td>F</td>\n",
       "      <td>сотрудник</td>\n",
       "      <td>0</td>\n",
       "      <td>253875.639453</td>\n",
       "      <td>покупка жилья</td>\n",
       "    </tr>\n",
       "    <tr>\n",
       "      <th>1</th>\n",
       "      <td>1</td>\n",
       "      <td>-4024.803754</td>\n",
       "      <td>36</td>\n",
       "      <td>среднее</td>\n",
       "      <td>1</td>\n",
       "      <td>женат / замужем</td>\n",
       "      <td>0</td>\n",
       "      <td>F</td>\n",
       "      <td>сотрудник</td>\n",
       "      <td>0</td>\n",
       "      <td>112080.014102</td>\n",
       "      <td>приобретение автомобиля</td>\n",
       "    </tr>\n",
       "    <tr>\n",
       "      <th>2</th>\n",
       "      <td>0</td>\n",
       "      <td>-5623.422610</td>\n",
       "      <td>33</td>\n",
       "      <td>Среднее</td>\n",
       "      <td>1</td>\n",
       "      <td>женат / замужем</td>\n",
       "      <td>0</td>\n",
       "      <td>M</td>\n",
       "      <td>сотрудник</td>\n",
       "      <td>0</td>\n",
       "      <td>145885.952297</td>\n",
       "      <td>покупка жилья</td>\n",
       "    </tr>\n",
       "    <tr>\n",
       "      <th>3</th>\n",
       "      <td>3</td>\n",
       "      <td>-4124.747207</td>\n",
       "      <td>32</td>\n",
       "      <td>среднее</td>\n",
       "      <td>1</td>\n",
       "      <td>женат / замужем</td>\n",
       "      <td>0</td>\n",
       "      <td>M</td>\n",
       "      <td>сотрудник</td>\n",
       "      <td>0</td>\n",
       "      <td>267628.550329</td>\n",
       "      <td>дополнительное образование</td>\n",
       "    </tr>\n",
       "    <tr>\n",
       "      <th>4</th>\n",
       "      <td>0</td>\n",
       "      <td>340266.072047</td>\n",
       "      <td>53</td>\n",
       "      <td>среднее</td>\n",
       "      <td>1</td>\n",
       "      <td>гражданский брак</td>\n",
       "      <td>1</td>\n",
       "      <td>F</td>\n",
       "      <td>пенсионер</td>\n",
       "      <td>0</td>\n",
       "      <td>158616.077870</td>\n",
       "      <td>сыграть свадьбу</td>\n",
       "    </tr>\n",
       "    <tr>\n",
       "      <th>5</th>\n",
       "      <td>0</td>\n",
       "      <td>-926.185831</td>\n",
       "      <td>27</td>\n",
       "      <td>высшее</td>\n",
       "      <td>0</td>\n",
       "      <td>гражданский брак</td>\n",
       "      <td>1</td>\n",
       "      <td>M</td>\n",
       "      <td>компаньон</td>\n",
       "      <td>0</td>\n",
       "      <td>255763.565419</td>\n",
       "      <td>покупка жилья</td>\n",
       "    </tr>\n",
       "    <tr>\n",
       "      <th>6</th>\n",
       "      <td>0</td>\n",
       "      <td>-2879.202052</td>\n",
       "      <td>43</td>\n",
       "      <td>высшее</td>\n",
       "      <td>0</td>\n",
       "      <td>женат / замужем</td>\n",
       "      <td>0</td>\n",
       "      <td>F</td>\n",
       "      <td>компаньон</td>\n",
       "      <td>0</td>\n",
       "      <td>240525.971920</td>\n",
       "      <td>операции с жильем</td>\n",
       "    </tr>\n",
       "    <tr>\n",
       "      <th>7</th>\n",
       "      <td>0</td>\n",
       "      <td>-152.779569</td>\n",
       "      <td>50</td>\n",
       "      <td>СРЕДНЕЕ</td>\n",
       "      <td>1</td>\n",
       "      <td>женат / замужем</td>\n",
       "      <td>0</td>\n",
       "      <td>M</td>\n",
       "      <td>сотрудник</td>\n",
       "      <td>0</td>\n",
       "      <td>135823.934197</td>\n",
       "      <td>образование</td>\n",
       "    </tr>\n",
       "    <tr>\n",
       "      <th>8</th>\n",
       "      <td>2</td>\n",
       "      <td>-6929.865299</td>\n",
       "      <td>35</td>\n",
       "      <td>ВЫСШЕЕ</td>\n",
       "      <td>0</td>\n",
       "      <td>гражданский брак</td>\n",
       "      <td>1</td>\n",
       "      <td>F</td>\n",
       "      <td>сотрудник</td>\n",
       "      <td>0</td>\n",
       "      <td>95856.832424</td>\n",
       "      <td>на проведение свадьбы</td>\n",
       "    </tr>\n",
       "    <tr>\n",
       "      <th>9</th>\n",
       "      <td>0</td>\n",
       "      <td>-2188.756445</td>\n",
       "      <td>41</td>\n",
       "      <td>среднее</td>\n",
       "      <td>1</td>\n",
       "      <td>женат / замужем</td>\n",
       "      <td>0</td>\n",
       "      <td>M</td>\n",
       "      <td>сотрудник</td>\n",
       "      <td>0</td>\n",
       "      <td>144425.938277</td>\n",
       "      <td>покупка жилья для семьи</td>\n",
       "    </tr>\n",
       "    <tr>\n",
       "      <th>10</th>\n",
       "      <td>2</td>\n",
       "      <td>-4171.483647</td>\n",
       "      <td>36</td>\n",
       "      <td>высшее</td>\n",
       "      <td>0</td>\n",
       "      <td>женат / замужем</td>\n",
       "      <td>0</td>\n",
       "      <td>M</td>\n",
       "      <td>компаньон</td>\n",
       "      <td>0</td>\n",
       "      <td>113943.491460</td>\n",
       "      <td>покупка недвижимости</td>\n",
       "    </tr>\n",
       "    <tr>\n",
       "      <th>11</th>\n",
       "      <td>0</td>\n",
       "      <td>-792.701887</td>\n",
       "      <td>40</td>\n",
       "      <td>среднее</td>\n",
       "      <td>1</td>\n",
       "      <td>женат / замужем</td>\n",
       "      <td>0</td>\n",
       "      <td>F</td>\n",
       "      <td>сотрудник</td>\n",
       "      <td>0</td>\n",
       "      <td>77069.234271</td>\n",
       "      <td>покупка коммерческой недвижимости</td>\n",
       "    </tr>\n",
       "    <tr>\n",
       "      <th>12</th>\n",
       "      <td>0</td>\n",
       "      <td>NaN</td>\n",
       "      <td>65</td>\n",
       "      <td>среднее</td>\n",
       "      <td>1</td>\n",
       "      <td>гражданский брак</td>\n",
       "      <td>1</td>\n",
       "      <td>M</td>\n",
       "      <td>пенсионер</td>\n",
       "      <td>0</td>\n",
       "      <td>NaN</td>\n",
       "      <td>сыграть свадьбу</td>\n",
       "    </tr>\n",
       "    <tr>\n",
       "      <th>13</th>\n",
       "      <td>0</td>\n",
       "      <td>-1846.641941</td>\n",
       "      <td>54</td>\n",
       "      <td>неоконченное высшее</td>\n",
       "      <td>2</td>\n",
       "      <td>женат / замужем</td>\n",
       "      <td>0</td>\n",
       "      <td>F</td>\n",
       "      <td>сотрудник</td>\n",
       "      <td>0</td>\n",
       "      <td>130458.228857</td>\n",
       "      <td>приобретение автомобиля</td>\n",
       "    </tr>\n",
       "    <tr>\n",
       "      <th>14</th>\n",
       "      <td>0</td>\n",
       "      <td>-1844.956182</td>\n",
       "      <td>56</td>\n",
       "      <td>высшее</td>\n",
       "      <td>0</td>\n",
       "      <td>гражданский брак</td>\n",
       "      <td>1</td>\n",
       "      <td>F</td>\n",
       "      <td>компаньон</td>\n",
       "      <td>1</td>\n",
       "      <td>165127.911772</td>\n",
       "      <td>покупка жилой недвижимости</td>\n",
       "    </tr>\n",
       "    <tr>\n",
       "      <th>15</th>\n",
       "      <td>1</td>\n",
       "      <td>-972.364419</td>\n",
       "      <td>26</td>\n",
       "      <td>среднее</td>\n",
       "      <td>1</td>\n",
       "      <td>женат / замужем</td>\n",
       "      <td>0</td>\n",
       "      <td>F</td>\n",
       "      <td>сотрудник</td>\n",
       "      <td>0</td>\n",
       "      <td>116820.904450</td>\n",
       "      <td>строительство собственной недвижимости</td>\n",
       "    </tr>\n",
       "    <tr>\n",
       "      <th>16</th>\n",
       "      <td>0</td>\n",
       "      <td>-1719.934226</td>\n",
       "      <td>35</td>\n",
       "      <td>среднее</td>\n",
       "      <td>1</td>\n",
       "      <td>женат / замужем</td>\n",
       "      <td>0</td>\n",
       "      <td>F</td>\n",
       "      <td>сотрудник</td>\n",
       "      <td>0</td>\n",
       "      <td>289202.704229</td>\n",
       "      <td>недвижимость</td>\n",
       "    </tr>\n",
       "    <tr>\n",
       "      <th>17</th>\n",
       "      <td>0</td>\n",
       "      <td>-2369.999720</td>\n",
       "      <td>33</td>\n",
       "      <td>высшее</td>\n",
       "      <td>0</td>\n",
       "      <td>гражданский брак</td>\n",
       "      <td>1</td>\n",
       "      <td>M</td>\n",
       "      <td>сотрудник</td>\n",
       "      <td>0</td>\n",
       "      <td>90410.586745</td>\n",
       "      <td>строительство недвижимости</td>\n",
       "    </tr>\n",
       "    <tr>\n",
       "      <th>18</th>\n",
       "      <td>0</td>\n",
       "      <td>400281.136913</td>\n",
       "      <td>53</td>\n",
       "      <td>среднее</td>\n",
       "      <td>1</td>\n",
       "      <td>вдовец / вдова</td>\n",
       "      <td>2</td>\n",
       "      <td>F</td>\n",
       "      <td>пенсионер</td>\n",
       "      <td>0</td>\n",
       "      <td>56823.777243</td>\n",
       "      <td>на покупку подержанного автомобиля</td>\n",
       "    </tr>\n",
       "    <tr>\n",
       "      <th>19</th>\n",
       "      <td>0</td>\n",
       "      <td>-10038.818549</td>\n",
       "      <td>48</td>\n",
       "      <td>СРЕДНЕЕ</td>\n",
       "      <td>1</td>\n",
       "      <td>в разводе</td>\n",
       "      <td>3</td>\n",
       "      <td>F</td>\n",
       "      <td>сотрудник</td>\n",
       "      <td>0</td>\n",
       "      <td>242831.107982</td>\n",
       "      <td>на покупку своего автомобиля</td>\n",
       "    </tr>\n",
       "  </tbody>\n",
       "</table>\n",
       "</div>"
      ],
      "text/plain": [
       "    children  days_employed  dob_years            education  education_id  \\\n",
       "0          1   -8437.673028         42               высшее             0   \n",
       "1          1   -4024.803754         36              среднее             1   \n",
       "2          0   -5623.422610         33              Среднее             1   \n",
       "3          3   -4124.747207         32              среднее             1   \n",
       "4          0  340266.072047         53              среднее             1   \n",
       "5          0    -926.185831         27               высшее             0   \n",
       "6          0   -2879.202052         43               высшее             0   \n",
       "7          0    -152.779569         50              СРЕДНЕЕ             1   \n",
       "8          2   -6929.865299         35               ВЫСШЕЕ             0   \n",
       "9          0   -2188.756445         41              среднее             1   \n",
       "10         2   -4171.483647         36               высшее             0   \n",
       "11         0    -792.701887         40              среднее             1   \n",
       "12         0            NaN         65              среднее             1   \n",
       "13         0   -1846.641941         54  неоконченное высшее             2   \n",
       "14         0   -1844.956182         56               высшее             0   \n",
       "15         1    -972.364419         26              среднее             1   \n",
       "16         0   -1719.934226         35              среднее             1   \n",
       "17         0   -2369.999720         33               высшее             0   \n",
       "18         0  400281.136913         53              среднее             1   \n",
       "19         0  -10038.818549         48              СРЕДНЕЕ             1   \n",
       "\n",
       "       family_status  family_status_id gender income_type  debt  \\\n",
       "0    женат / замужем                 0      F   сотрудник     0   \n",
       "1    женат / замужем                 0      F   сотрудник     0   \n",
       "2    женат / замужем                 0      M   сотрудник     0   \n",
       "3    женат / замужем                 0      M   сотрудник     0   \n",
       "4   гражданский брак                 1      F   пенсионер     0   \n",
       "5   гражданский брак                 1      M   компаньон     0   \n",
       "6    женат / замужем                 0      F   компаньон     0   \n",
       "7    женат / замужем                 0      M   сотрудник     0   \n",
       "8   гражданский брак                 1      F   сотрудник     0   \n",
       "9    женат / замужем                 0      M   сотрудник     0   \n",
       "10   женат / замужем                 0      M   компаньон     0   \n",
       "11   женат / замужем                 0      F   сотрудник     0   \n",
       "12  гражданский брак                 1      M   пенсионер     0   \n",
       "13   женат / замужем                 0      F   сотрудник     0   \n",
       "14  гражданский брак                 1      F   компаньон     1   \n",
       "15   женат / замужем                 0      F   сотрудник     0   \n",
       "16   женат / замужем                 0      F   сотрудник     0   \n",
       "17  гражданский брак                 1      M   сотрудник     0   \n",
       "18    вдовец / вдова                 2      F   пенсионер     0   \n",
       "19         в разводе                 3      F   сотрудник     0   \n",
       "\n",
       "     total_income                                 purpose  \n",
       "0   253875.639453                           покупка жилья  \n",
       "1   112080.014102                 приобретение автомобиля  \n",
       "2   145885.952297                           покупка жилья  \n",
       "3   267628.550329              дополнительное образование  \n",
       "4   158616.077870                         сыграть свадьбу  \n",
       "5   255763.565419                           покупка жилья  \n",
       "6   240525.971920                       операции с жильем  \n",
       "7   135823.934197                             образование  \n",
       "8    95856.832424                   на проведение свадьбы  \n",
       "9   144425.938277                 покупка жилья для семьи  \n",
       "10  113943.491460                    покупка недвижимости  \n",
       "11   77069.234271       покупка коммерческой недвижимости  \n",
       "12            NaN                         сыграть свадьбу  \n",
       "13  130458.228857                 приобретение автомобиля  \n",
       "14  165127.911772              покупка жилой недвижимости  \n",
       "15  116820.904450  строительство собственной недвижимости  \n",
       "16  289202.704229                            недвижимость  \n",
       "17   90410.586745              строительство недвижимости  \n",
       "18   56823.777243      на покупку подержанного автомобиля  \n",
       "19  242831.107982            на покупку своего автомобиля  "
      ]
     },
     "execution_count": 5,
     "metadata": {},
     "output_type": "execute_result"
    }
   ],
   "source": [
    "data.head(20)"
   ]
  },
  {
   "cell_type": "code",
   "execution_count": 6,
   "id": "bb90c15c-4cdf-4ff4-878a-a69dbdba96e6",
   "metadata": {},
   "outputs": [
    {
     "name": "stdout",
     "output_type": "stream",
     "text": [
      "<class 'pandas.core.frame.DataFrame'>\n",
      "RangeIndex: 21525 entries, 0 to 21524\n",
      "Data columns (total 12 columns):\n",
      " #   Column            Non-Null Count  Dtype  \n",
      "---  ------            --------------  -----  \n",
      " 0   children          21525 non-null  int64  \n",
      " 1   days_employed     19351 non-null  float64\n",
      " 2   dob_years         21525 non-null  int64  \n",
      " 3   education         21525 non-null  object \n",
      " 4   education_id      21525 non-null  int64  \n",
      " 5   family_status     21525 non-null  object \n",
      " 6   family_status_id  21525 non-null  int64  \n",
      " 7   gender            21525 non-null  object \n",
      " 8   income_type       21525 non-null  object \n",
      " 9   debt              21525 non-null  int64  \n",
      " 10  total_income      19351 non-null  float64\n",
      " 11  purpose           21525 non-null  object \n",
      "dtypes: float64(2), int64(5), object(5)\n",
      "memory usage: 2.0+ MB\n"
     ]
    }
   ],
   "source": [
    "data.info()"
   ]
  },
  {
   "cell_type": "markdown",
   "id": "da3749cb-fb88-42bb-b9e8-1672b41bbdac",
   "metadata": {},
   "source": [
    "## 2. Предобработка данных"
   ]
  },
  {
   "cell_type": "markdown",
   "id": "f83754eb-6718-444c-aa7d-9f8e33d40f37",
   "metadata": {},
   "source": [
    "### 2.1 Удаление пропусков"
   ]
  },
  {
   "cell_type": "markdown",
   "id": "f2933534-f82d-4848-903d-fd914e2b7934",
   "metadata": {},
   "source": [
    "Посмотрим на пропущенные значения в каждом столбце"
   ]
  },
  {
   "cell_type": "code",
   "execution_count": 10,
   "id": "bca6efe2-ae4b-4e1e-a32a-80d514ff867e",
   "metadata": {},
   "outputs": [
    {
     "data": {
      "text/plain": [
       "children               0\n",
       "days_employed       2174\n",
       "dob_years              0\n",
       "education              0\n",
       "education_id           0\n",
       "family_status          0\n",
       "family_status_id       0\n",
       "gender                 0\n",
       "income_type            0\n",
       "debt                   0\n",
       "total_income        2174\n",
       "purpose                0\n",
       "dtype: int64"
      ]
     },
     "execution_count": 10,
     "metadata": {},
     "output_type": "execute_result"
    }
   ],
   "source": [
    "data.isna().sum()"
   ]
  },
  {
   "cell_type": "markdown",
   "id": "49c4af49-d081-4e58-a875-c50442272fd7",
   "metadata": {},
   "source": [
    "Столбец с пропущенными значениями — total_income — хранит данные о доходах. На сумму дохода сильнее всего влияет тип занятости, поэтому заполним пропуски в этом столбце медианным значением по каждому типу из столбца income_type."
   ]
  },
  {
   "cell_type": "code",
   "execution_count": 12,
   "id": "1275698d-4b66-4b35-bb20-e3ac9f24a199",
   "metadata": {},
   "outputs": [],
   "source": [
    "for t in data['income_type'].unique():\n",
    "    data.loc[(data['income_type'] == t) & (data['total_income'].isna()), 'total_income'] = \\\n",
    "    data.loc[(data['income_type'] == t), 'total_income'].median()"
   ]
  },
  {
   "cell_type": "markdown",
   "id": "40a75b22-68a5-4e9c-be47-da5d2bf9f000",
   "metadata": {},
   "source": [
    "### 2.2 Обработка аномальных значений"
   ]
  },
  {
   "cell_type": "markdown",
   "id": "219bdd9b-6d3a-4df3-a66e-8cd5bbb058dc",
   "metadata": {},
   "source": [
    "При знакомстве с данными обнаружено отрицательное количество дней трудового стажа в столбце ***days_employed***. Заменим все отрицательные значения положительными с помощью метода ***abs()***"
   ]
  },
  {
   "cell_type": "code",
   "execution_count": 15,
   "id": "147a7b36-e535-4af0-bffc-fc0d8355545a",
   "metadata": {},
   "outputs": [],
   "source": [
    "data['days_employed'] = data['days_employed'].abs()"
   ]
  },
  {
   "cell_type": "markdown",
   "id": "a04c401a-24c1-493b-83b9-be5a2f87ebab",
   "metadata": {},
   "source": [
    "Рассчитаем медианное значение трудового стажа ***days_employed*** в днях для каждого типа занятости"
   ]
  },
  {
   "cell_type": "code",
   "execution_count": 17,
   "id": "b15c25aa-0a8d-4a28-ae7b-a628423a2d3c",
   "metadata": {},
   "outputs": [
    {
     "data": {
      "text/plain": [
       "income_type\n",
       "безработный        366413.652744\n",
       "в декрете            3296.759962\n",
       "госслужащий          2689.368353\n",
       "компаньон            1547.382223\n",
       "пенсионер          365213.306266\n",
       "предприниматель       520.848083\n",
       "сотрудник            1574.202821\n",
       "студент               578.751554\n",
       "Name: days_employed, dtype: float64"
      ]
     },
     "execution_count": 17,
     "metadata": {},
     "output_type": "execute_result"
    }
   ],
   "source": [
    "data.groupby('income_type')['days_employed'].agg('median')"
   ]
  },
  {
   "cell_type": "markdown",
   "id": "8ebb4c17-049e-4b81-a1dd-c52de9dc560a",
   "metadata": {},
   "source": [
    "У двух типов (безработные и пенсионеры) получатся аномально большие значения. Исправить такие значения сложно, поэтому оставим их как есть."
   ]
  },
  {
   "cell_type": "markdown",
   "id": "e878648c-28f6-4bca-969b-b0ffa722960e",
   "metadata": {},
   "source": [
    "Посмотрим на уникальные значения столбца ***children***"
   ]
  },
  {
   "cell_type": "code",
   "execution_count": 20,
   "id": "86263ab1-594e-4738-ad97-0a2a504531b8",
   "metadata": {},
   "outputs": [
    {
     "data": {
      "text/plain": [
       "array([ 1,  0,  3,  2, -1,  4, 20,  5])"
      ]
     },
     "execution_count": 20,
     "metadata": {},
     "output_type": "execute_result"
    }
   ],
   "source": [
    "data['children'].unique()"
   ]
  },
  {
   "cell_type": "markdown",
   "id": "0e3bbb0d-89e5-4b1d-a17d-49b9ea1a07fa",
   "metadata": {},
   "source": [
    "Видно, что присутствуют 2 аномальных значения в этом столбце, это 20 детей и -1 ребенок. Удалим данные с такими показателями"
   ]
  },
  {
   "cell_type": "code",
   "execution_count": 22,
   "id": "b3747c9c-04ad-47a8-9c03-37f6c63eab05",
   "metadata": {},
   "outputs": [],
   "source": [
    "data = data[(data['children'] != -1) & (data['children'] != 20)]"
   ]
  },
  {
   "cell_type": "markdown",
   "id": "2dacfa56-7e26-406f-a5d1-ee9aca7c3bbf",
   "metadata": {},
   "source": [
    "### 2.3 Удаление пропусков (продолжение)"
   ]
  },
  {
   "cell_type": "markdown",
   "id": "085f27bf-92bb-4f4c-ac19-0cb6f450b71e",
   "metadata": {},
   "source": [
    "Заполним пропуски в столбце ***days_employed*** медианными значениями по каждого типа занятости ***income_type`.***"
   ]
  },
  {
   "cell_type": "code",
   "execution_count": 25,
   "id": "f0987a91-222e-4a6b-9bf0-ac1305cffc5f",
   "metadata": {},
   "outputs": [],
   "source": [
    "for t in data['income_type'].unique():\n",
    "    data.loc[(data['income_type'] == t) & (data['days_employed'].isna()), 'days_employed'] = \\\n",
    "    data.loc[(data['income_type'] == t), 'days_employed'].median()"
   ]
  },
  {
   "cell_type": "markdown",
   "id": "b80a720b-ed32-4868-a79a-afa90e398b24",
   "metadata": {},
   "source": [
    "### 2.4 Изменение типов данных"
   ]
  },
  {
   "cell_type": "markdown",
   "id": "15791211-65f2-4f76-8be6-77c4573c2561",
   "metadata": {},
   "source": [
    "Заменим вещественный тип данных в столбце ***total_income*** на целочисленный с помощью метода ***astype().***"
   ]
  },
  {
   "cell_type": "code",
   "execution_count": 28,
   "id": "b4e7586f-cb86-4b6f-8d97-8051fd7dfecf",
   "metadata": {},
   "outputs": [],
   "source": [
    "data['total_income'] = data['total_income'].astype(int)"
   ]
  },
  {
   "cell_type": "markdown",
   "id": "01285ecb-137d-472c-a0cf-f2e7c842ba15",
   "metadata": {},
   "source": [
    "### 2.5 Обработка дубликатов"
   ]
  },
  {
   "cell_type": "markdown",
   "id": "5e8765b8-5201-45ec-abd9-1d0546df7b7c",
   "metadata": {},
   "source": [
    "В столбце education есть одни и те же значения, но записанные по-разному: с использованием заглавных и строчных букв. Приведем их к нижнему регистру."
   ]
  },
  {
   "cell_type": "code",
   "execution_count": 31,
   "id": "22fd5e6d-2da9-4031-93d6-7d8575d43933",
   "metadata": {},
   "outputs": [],
   "source": [
    "data['education'] = data['education'].str.lower()"
   ]
  },
  {
   "cell_type": "markdown",
   "id": "23abc165-2ac1-4ec1-8bf0-705665a9c2eb",
   "metadata": {},
   "source": [
    "Посмотрим присутствуют ли строки дубликаты в данных и удалим при наличии."
   ]
  },
  {
   "cell_type": "code",
   "execution_count": 33,
   "id": "7e50082b-3139-4e11-b95c-b8ebcc3e2808",
   "metadata": {},
   "outputs": [
    {
     "data": {
      "text/plain": [
       "71"
      ]
     },
     "execution_count": 33,
     "metadata": {},
     "output_type": "execute_result"
    }
   ],
   "source": [
    "data.duplicated().sum()"
   ]
  },
  {
   "cell_type": "code",
   "execution_count": 34,
   "id": "88f72386-6303-4196-9f24-1ea3afdac673",
   "metadata": {},
   "outputs": [],
   "source": [
    "data = data.drop_duplicates()"
   ]
  },
  {
   "cell_type": "markdown",
   "id": "1932079b-0e96-4879-8852-8ffc46af9eed",
   "metadata": {},
   "source": [
    "### 2.6 Категоризация данных"
   ]
  },
  {
   "cell_type": "markdown",
   "id": "358ac36b-bd1b-4383-9c9c-323c3cfd8993",
   "metadata": {},
   "source": [
    "У нас уже есть категории по диапазону дохода, создадим в датафрейме ***data*** столбец ***total_income_category*** используя собственную функцию с именем ***categorize_income()***\n",
    "- 0–30000 — `'E'`;\n",
    "- 30001–50000 — `'D'`;\n",
    "- 50001–200000 — `'C'`;\n",
    "- 200001–1000000 — `'B'`;\n",
    "- 1000001 и выше — `'A'`."
   ]
  },
  {
   "cell_type": "code",
   "execution_count": 37,
   "id": "842fac90-2b43-471f-b101-9140e437a80f",
   "metadata": {},
   "outputs": [],
   "source": [
    "def categorize_income(income):\n",
    "    try:\n",
    "        if 0 <= income <= 30000:\n",
    "            return 'E'\n",
    "        elif 30001 <= income <= 50000:\n",
    "            return 'D'\n",
    "        elif 50001 <= income <= 200000:\n",
    "            return 'C'\n",
    "        elif 200001 <= income <= 1000000:\n",
    "            return 'B'\n",
    "        elif income >= 1000001:\n",
    "            return 'A'\n",
    "    except:\n",
    "        pass"
   ]
  },
  {
   "cell_type": "code",
   "execution_count": 38,
   "id": "ddc36329-1143-4016-9b1a-32d62dca7582",
   "metadata": {},
   "outputs": [],
   "source": [
    "data['total_income_category'] = data['total_income'].apply(categorize_income)"
   ]
  },
  {
   "cell_type": "markdown",
   "id": "3ccab738-bf9c-46dd-b012-caf195d9bb5a",
   "metadata": {},
   "source": [
    "Теперь выведем перечень уникальных целей взятия кредита из столбца ***purpose.***"
   ]
  },
  {
   "cell_type": "code",
   "execution_count": 40,
   "id": "6dfee57f-addd-4346-94fe-be467d7c118a",
   "metadata": {},
   "outputs": [
    {
     "data": {
      "text/plain": [
       "array(['покупка жилья', 'приобретение автомобиля',\n",
       "       'дополнительное образование', 'сыграть свадьбу',\n",
       "       'операции с жильем', 'образование', 'на проведение свадьбы',\n",
       "       'покупка жилья для семьи', 'покупка недвижимости',\n",
       "       'покупка коммерческой недвижимости', 'покупка жилой недвижимости',\n",
       "       'строительство собственной недвижимости', 'недвижимость',\n",
       "       'строительство недвижимости', 'на покупку подержанного автомобиля',\n",
       "       'на покупку своего автомобиля',\n",
       "       'операции с коммерческой недвижимостью',\n",
       "       'строительство жилой недвижимости', 'жилье',\n",
       "       'операции со своей недвижимостью', 'автомобили',\n",
       "       'заняться образованием', 'сделка с подержанным автомобилем',\n",
       "       'получение образования', 'автомобиль', 'свадьба',\n",
       "       'получение дополнительного образования', 'покупка своего жилья',\n",
       "       'операции с недвижимостью', 'получение высшего образования',\n",
       "       'свой автомобиль', 'сделка с автомобилем',\n",
       "       'профильное образование', 'высшее образование',\n",
       "       'покупка жилья для сдачи', 'на покупку автомобиля', 'ремонт жилью',\n",
       "       'заняться высшим образованием'], dtype=object)"
      ]
     },
     "execution_count": 40,
     "metadata": {},
     "output_type": "execute_result"
    }
   ],
   "source": [
    "data['purpose'].unique()"
   ]
  },
  {
   "cell_type": "markdown",
   "id": "b41fea9d-c269-403c-8a05-eff620effdb5",
   "metadata": {},
   "source": [
    "Создадим функцию ***categorize_purpose()***, которая на основании данных из столбца ***purpose*** сформирует новый столбец ***purpose_category***, в который войдут следующие категории:\n",
    "\n",
    "- 'операции с автомобилем',\n",
    "- 'операции с недвижимостью',\n",
    "- 'проведение свадьбы',\n",
    "- 'получение образования'."
   ]
  },
  {
   "cell_type": "code",
   "execution_count": 42,
   "id": "01bb7143-516e-480a-ba93-3190849513fa",
   "metadata": {},
   "outputs": [],
   "source": [
    "def categorize_purpose(row):\n",
    "    try:\n",
    "        if 'автом' in row:\n",
    "            return 'операции с автомобилем'\n",
    "        elif 'жил' in row or 'недвиж' in row:\n",
    "            return 'операции с недвижимостью'\n",
    "        elif 'свад' in row:\n",
    "            return 'проведение свадьбы'\n",
    "        elif 'образов' in row:\n",
    "            return 'получение образования'\n",
    "    except:\n",
    "        return 'нет категории'"
   ]
  },
  {
   "cell_type": "code",
   "execution_count": 43,
   "id": "72508a0b-519a-4079-ab83-6a3d4f1adcab",
   "metadata": {},
   "outputs": [],
   "source": [
    "data['purpose_category'] = data['purpose'].apply(categorize_purpose)"
   ]
  },
  {
   "cell_type": "markdown",
   "id": "22e7dc90-dcef-4191-91b5-3590a3a10cbc",
   "metadata": {},
   "source": [
    "### Шаг 3. Исследуйте данные и ответьте на вопросы"
   ]
  },
  {
   "cell_type": "markdown",
   "id": "705d9eea-03d0-47f3-b3c4-ae433a47489f",
   "metadata": {},
   "source": [
    "#### 3.1 Есть ли зависимость между количеством детей и возвратом кредита в срок?"
   ]
  },
  {
   "cell_type": "markdown",
   "id": "becec794-2fbf-4e11-996b-35a2eabe0bbb",
   "metadata": {},
   "source": [
    "*Для исследования взаимосвязи между возвратом кредита и количеством детей, обратимся к столбцу debt - он отражает наличие задолженности у клиента по кредитам. Где 1, - задолженности есть, 0 - их отсутствие. Сгруппируем клиентов по количеству детей и наличию\\отсутствию задолженностей.*"
   ]
  },
  {
   "cell_type": "code",
   "execution_count": 47,
   "id": "f7ab7a87-1c37-4370-8645-8b4d931dec61",
   "metadata": {},
   "outputs": [
    {
     "name": "stdout",
     "output_type": "stream",
     "text": [
      "children  debt\n",
      "0         0       13028\n",
      "          1        1063\n",
      "1         0        4364\n",
      "          1         444\n",
      "2         0        1858\n",
      "          1         194\n",
      "3         0         303\n",
      "          1          27\n",
      "4         0          37\n",
      "          1           4\n",
      "5         0           9\n",
      "Name: count, dtype: int64\n"
     ]
    }
   ],
   "source": [
    "print(data.groupby('children')['debt'].value_counts())"
   ]
  },
  {
   "cell_type": "markdown",
   "id": "2993045f-4df1-43bd-a04b-14c7c3b5d858",
   "metadata": {},
   "source": [
    "***Очевидно, что группы слишком разные по численности, поэтому сравнение их друг с другом не показательно. Мы будем использовать долю должников в каждой группе и сравним этот показатель.***"
   ]
  },
  {
   "cell_type": "markdown",
   "id": "79189c60-f030-4b83-acca-b11ea5b897fd",
   "metadata": {},
   "source": [
    "\n",
    "*Теперь добавим сводную таблицу указав в ней количество клиентов в каждой группе, количество должников и долю должников в процентном соотношении.*"
   ]
  },
  {
   "cell_type": "code",
   "execution_count": 50,
   "id": "0792ca33-a9db-47cd-a62c-46b0b75bf405",
   "metadata": {},
   "outputs": [
    {
     "name": "stdout",
     "output_type": "stream",
     "text": [
      "           debtors  presence_of_debts  total\n",
      "children                                    \n",
      "0         7.543822               1063  14091\n",
      "1         9.234609                444   4808\n",
      "2         9.454191                194   2052\n",
      "3         8.181818                 27    330\n",
      "4         9.756098                  4     41\n",
      "5         0.000000                  0      9\n"
     ]
    }
   ],
   "source": [
    "debt_grouped = data.pivot_table(index='children', values='debt', aggfunc=['mean', 'sum', 'count'])\n",
    "debt_grouped.columns = ['debtors','presence_of_debts', 'total']\n",
    "debt_grouped['debtors'] = debt_grouped['debtors']*100\n",
    "print(debt_grouped)"
   ]
  },
  {
   "cell_type": "markdown",
   "id": "e60aa81a-c883-4efb-bdc7-418ba10ee438",
   "metadata": {},
   "source": [
    "**Вывод:** \n",
    "\n",
    "* Во всех группах более 90% клиентов не имеют задолженностей. Это говорит о том, что независимо от количества детей клиенты хорошо справляются с долговыми обязательствами.\n",
    "* Обратим внимание на группу с 5 детьми. Процент выплат самый высокий - 100%, но при этом самая малочисленная - 9 человек и такой выборки может быть недостаточно для окончательного вывода.\n",
    "* На втором месте по выплате кредитов идет группа без детей. Это может указывать на то, что люди без дополнительных финансовых обязательств лучше справляются с выплатами.\n",
    "* Прямой зависимости выплаты кредитов от количества детей полученные данные не показываютю Возмодно требуется более глуокий анализ для учета дополнительных факторов."
   ]
  },
  {
   "cell_type": "markdown",
   "id": "7e4a8cfe-ffb8-4ef2-8fbb-e798bfdeef7a",
   "metadata": {},
   "source": [
    "#### 3.2 Есть ли зависимость между семейным положением и возвратом кредита в срок?"
   ]
  },
  {
   "cell_type": "markdown",
   "id": "182bea55-bf9b-4744-81e9-e2aa7022ae41",
   "metadata": {},
   "source": [
    "*В таблице представлены 5 вариантов семейного положения:*\n",
    "* 0 - женат/замужем\n",
    "* 1 - гражданский брак\n",
    "* 2 - вдовец/вдова \n",
    "* 3 - в разводе \n",
    "* 4 - не женат/не замужем "
   ]
  },
  {
   "cell_type": "markdown",
   "id": "67609cc7-b59e-475b-8f42-9674cc3023bf",
   "metadata": {},
   "source": [
    "*Сгруппируем клиентов по семеному положению и наличию\\отсутствию задолженностей.*"
   ]
  },
  {
   "cell_type": "code",
   "execution_count": 55,
   "id": "20a3bf2d-3f47-4eaa-af64-b5d795c7a4fe",
   "metadata": {},
   "outputs": [
    {
     "name": "stdout",
     "output_type": "stream",
     "text": [
      "family_status          debt\n",
      "Не женат / не замужем  0        2523\n",
      "                       1         273\n",
      "в разводе              0        1105\n",
      "                       1          84\n",
      "вдовец / вдова         0         888\n",
      "                       1          63\n",
      "гражданский брак       0        3749\n",
      "                       1         385\n",
      "женат / замужем        0       11334\n",
      "                       1         927\n",
      "Name: count, dtype: int64\n"
     ]
    }
   ],
   "source": [
    "print(data.groupby('family_status')['debt'].value_counts())"
   ]
  },
  {
   "cell_type": "markdown",
   "id": "260dc6bd-c074-4c46-852d-3bf9dfc06bbc",
   "metadata": {},
   "source": [
    "*Посчитаем количество клиентов в каждой группе*"
   ]
  },
  {
   "cell_type": "code",
   "execution_count": 57,
   "id": "0f477649-b8b4-4087-8e8f-a0340d512329",
   "metadata": {},
   "outputs": [
    {
     "name": "stdout",
     "output_type": "stream",
     "text": [
      "           family_status   debt\n",
      "0  Не женат / не замужем   2796\n",
      "1              в разводе   1189\n",
      "2         вдовец / вдова    951\n",
      "3       гражданский брак   4134\n",
      "4        женат / замужем  12261\n"
     ]
    }
   ],
   "source": [
    "total = data.groupby('family_status').agg({'debt':'count'})\n",
    "total.reset_index(inplace=True)\n",
    "print(total)"
   ]
  },
  {
   "cell_type": "markdown",
   "id": "39479091-46f1-413a-bae5-e01c024038c0",
   "metadata": {},
   "source": [
    "*Для дальнейших рассчетов создадим новую таблицу в переменной debt_family_status_grouped на основании исходного датафрейма*"
   ]
  },
  {
   "cell_type": "code",
   "execution_count": 59,
   "id": "5869a1fb-8e63-4163-998e-0c99c6f19d0f",
   "metadata": {},
   "outputs": [
    {
     "name": "stdout",
     "output_type": "stream",
     "text": [
      "                       no_debt  presence_of_debts\n",
      "family_status                                    \n",
      "Не женат / не замужем     2523                273\n",
      "в разводе                 1105                 84\n",
      "вдовец / вдова             888                 63\n",
      "гражданский брак          3749                385\n",
      "женат / замужем          11334                927\n"
     ]
    }
   ],
   "source": [
    "debt_family_status = data.pivot_table(index='family_status', columns='debt', aggfunc={'debt': 'count'})\n",
    "debt_family_status.columns = ['no_debt', 'presence_of_debts']\n",
    "print(debt_family_status)"
   ]
  },
  {
   "cell_type": "markdown",
   "id": "2d5c7cea-9c95-4254-b697-fea8dceb164d",
   "metadata": {},
   "source": [
    "*Теперь объединим данные с общим количеством клиентов из переменной total и переменной debt_family_status для получения общей информации по каждой категории*"
   ]
  },
  {
   "cell_type": "code",
   "execution_count": 61,
   "id": "4983619b-3f1c-4f9f-9172-979be9628f79",
   "metadata": {},
   "outputs": [
    {
     "name": "stdout",
     "output_type": "stream",
     "text": [
      "           family_status  no_debt  presence_of_debts  total\n",
      "0  Не женат / не замужем     2523                273   2796\n",
      "1              в разводе     1105                 84   1189\n",
      "2         вдовец / вдова      888                 63    951\n",
      "3       гражданский брак     3749                385   4134\n",
      "4        женат / замужем    11334                927  12261\n"
     ]
    }
   ],
   "source": [
    "debt_family_status_grouped = pd.merge(debt_family_status, total, on='family_status')\n",
    "debt_family_status_grouped.columns = ['family_status', 'no_debt', 'presence_of_debts', 'total']\n",
    "print(debt_family_status_grouped)"
   ]
  },
  {
   "cell_type": "markdown",
   "id": "d59d9d4b-a475-4292-ad6c-ca63d7855a43",
   "metadata": {},
   "source": [
    "***Больше всего выдано кредитов клиентам с семейным положением \"женат|замужем\". А следом за ними по количеству клиентов идет семейное положение \"гражданский брак\". Предварительно можно сделать вывод что те, кто состоят в отношениях задумываются об улучшении своих жизненных условий, что приводит к потребности в дополнительных финансах.*** "
   ]
  },
  {
   "cell_type": "markdown",
   "id": "adfae66a-5dc0-41ed-abcf-386ee5429b0d",
   "metadata": {},
   "source": [
    "*Теперь посмотрим процент должников по каждой группе. Для этого добавим в таблицу новый столбец debtors.*"
   ]
  },
  {
   "cell_type": "code",
   "execution_count": 64,
   "id": "5c9b6dab-2de1-445f-94b0-1d40f8174dc1",
   "metadata": {},
   "outputs": [
    {
     "name": "stdout",
     "output_type": "stream",
     "text": [
      "           family_status  no_debt  presence_of_debts  total   debtors\n",
      "0  Не женат / не замужем     2523                273   2796  9.763948\n",
      "1              в разводе     1105                 84   1189  7.064760\n",
      "2         вдовец / вдова      888                 63    951  6.624606\n",
      "3       гражданский брак     3749                385   4134  9.313014\n",
      "4        женат / замужем    11334                927  12261  7.560558\n"
     ]
    }
   ],
   "source": [
    "debt_family_status_grouped['debtors'] = debt_family_status_grouped['presence_of_debts']/debt_family_status_grouped['total'] * 100\n",
    "print(debt_family_status_grouped)"
   ]
  },
  {
   "cell_type": "markdown",
   "id": "52a2887a-6a4b-4bce-9b51-9d61d5cc310a",
   "metadata": {},
   "source": [
    "*Теперь добавим сводную debt_family_status_pivot таблицу указав в ней количество клиентов в каждой группе, количество должников и долю должников в процентном соотношении и отсортируем по уменьшению процента задолженности*"
   ]
  },
  {
   "cell_type": "code",
   "execution_count": 66,
   "id": "ecf0fe8a-0050-4fbe-9726-ab4485e25cd9",
   "metadata": {},
   "outputs": [
    {
     "name": "stdout",
     "output_type": "stream",
     "text": [
      "                        debtors  presence_of_debts  total\n",
      "family_status                                            \n",
      "Не женат / не замужем  9.763948                273   2796\n",
      "в разводе              7.064760                 84   1189\n",
      "вдовец / вдова         6.624606                 63    951\n",
      "гражданский брак       9.313014                385   4134\n",
      "женат / замужем        7.560558                927  12261\n"
     ]
    }
   ],
   "source": [
    "debt_family_status_pivot = data.pivot_table(index='family_status', values='debt', aggfunc=['mean', 'sum', 'count'])\n",
    "debt_family_status_pivot.columns = ['debtors','presence_of_debts', 'total']\n",
    "debt_family_status_pivot['debtors'] = debt_family_status_pivot['debtors']*100\n",
    "print(debt_family_status_pivot)"
   ]
  },
  {
   "cell_type": "markdown",
   "id": "b8368fec-c1e9-4f37-823b-7604d8ecf2cb",
   "metadata": {},
   "source": [
    "**Вывод:** \n",
    "* Люди состоящие в зарегистрированных или не зарегистрированных отношениях берут кредиты намного чаще чем остальные группы.\n",
    "* Самый высокий процент возврата имеет группа со статусом 'вдова/вдовец'. Вероятно, что данная группа более возрастная и при этом финансово стабильная. \n",
    "* Исходя из полученных данных можно предположить, что люди которые не имели официальных отношений (группы \"гражданский брак\" , \"не женат/не замужем\") в меньшей степени финансово ответственны, так как имеют наименьший процент возврата. \n",
    "* Так как у всех групп показатель выплаты без задолженностей выше 90%, прямой взаимосвязи между семейным положением и возвратом кредита в срок данные не показывают. "
   ]
  },
  {
   "cell_type": "markdown",
   "id": "5727b46d-9d9b-405a-b440-678c7adff7e7",
   "metadata": {},
   "source": [
    "#### 3.3 Есть ли зависимость между уровнем дохода и возвратом кредита в срок?"
   ]
  },
  {
   "cell_type": "markdown",
   "id": "e4ace370-6ecc-4723-8665-0edf5c3ce483",
   "metadata": {},
   "source": [
    "*Ранее мы присвоили каждому уровню дохода категорию и добавили ее в столбец total_income_category:*\n",
    "* 0–30000 — 'E';\n",
    "* 30001–50000 — 'D';\n",
    "* 50001–200000 — 'C';\n",
    "* 200001–1000000 — 'B';\n",
    "* 1000001 и выше — 'A'."
   ]
  },
  {
   "cell_type": "markdown",
   "id": "c6a55dfc-7d2f-4d40-93c6-d6fa165d802b",
   "metadata": {},
   "source": [
    "*Сгруппируем клиентов по семеному положению и наличию\\отсутствию задолженностей.*"
   ]
  },
  {
   "cell_type": "code",
   "execution_count": 71,
   "id": "eadd73a0-8360-44ef-890f-1cfd1229d181",
   "metadata": {},
   "outputs": [
    {
     "name": "stdout",
     "output_type": "stream",
     "text": [
      "total_income_category  debt\n",
      "A                      0          23\n",
      "                       1           2\n",
      "B                      0        4660\n",
      "                       1         354\n",
      "C                      0       14568\n",
      "                       1        1353\n",
      "D                      0         328\n",
      "                       1          21\n",
      "E                      0          20\n",
      "                       1           2\n",
      "Name: count, dtype: int64\n"
     ]
    }
   ],
   "source": [
    "print(data.groupby('total_income_category')['debt'].value_counts())"
   ]
  },
  {
   "cell_type": "markdown",
   "id": "f98f3078-01f0-44cd-acef-853f51319dd7",
   "metadata": {},
   "source": [
    "*Посмотрим количество клиентов в каждой группе*"
   ]
  },
  {
   "cell_type": "code",
   "execution_count": 73,
   "id": "a1080a77-40b8-41ef-b8c6-b53800d08be0",
   "metadata": {},
   "outputs": [
    {
     "name": "stdout",
     "output_type": "stream",
     "text": [
      "  total_income_category   debt\n",
      "0                     A     25\n",
      "1                     B   5014\n",
      "2                     C  15921\n",
      "3                     D    349\n",
      "4                     E     22\n"
     ]
    }
   ],
   "source": [
    "total = data.groupby('total_income_category').agg({'debt':'count'})\n",
    "total.reset_index(inplace=True)\n",
    "print(total)"
   ]
  },
  {
   "cell_type": "markdown",
   "id": "a4d237ad-7e5e-4793-92b7-d6c64288119a",
   "metadata": {},
   "source": [
    "*Теперь создадим таблицу в переменной debt_income, с которой будем работать в дальнейшем*"
   ]
  },
  {
   "cell_type": "code",
   "execution_count": 75,
   "id": "57867965-f729-4035-809a-358981a20fb8",
   "metadata": {},
   "outputs": [
    {
     "name": "stdout",
     "output_type": "stream",
     "text": [
      "                       no_debt  presence_of_debts\n",
      "total_income_category                            \n",
      "A                           23                  2\n",
      "B                         4660                354\n",
      "C                        14568               1353\n",
      "D                          328                 21\n",
      "E                           20                  2\n"
     ]
    }
   ],
   "source": [
    "debt_income = data.pivot_table(index='total_income_category', columns='debt', aggfunc={'debt': 'count'})\n",
    "debt_income.columns = ['no_debt', 'presence_of_debts']\n",
    "print(debt_income)"
   ]
  },
  {
   "cell_type": "code",
   "execution_count": 76,
   "id": "6f2e181d-249b-4ec3-bafb-09a63e2ac828",
   "metadata": {},
   "outputs": [
    {
     "name": "stdout",
     "output_type": "stream",
     "text": [
      "  total_income_category  no_debt  presence_of_debts  total\n",
      "0                     A       23                  2     25\n",
      "1                     B     4660                354   5014\n",
      "2                     C    14568               1353  15921\n",
      "3                     D      328                 21    349\n",
      "4                     E       20                  2     22\n"
     ]
    }
   ],
   "source": [
    "debt_income_grouped = pd.merge(debt_income, total, on='total_income_category')\n",
    "debt_income_grouped.columns = ['total_income_category','no_debt', 'presence_of_debts','total']\n",
    "print(debt_income_grouped)"
   ]
  },
  {
   "cell_type": "markdown",
   "id": "886d6b58-109e-44c8-bb34-9d1f441eb4d5",
   "metadata": {},
   "source": [
    "Чаще всего, обращаются за кредитом категория C, клиенты с доходом от 50 001 до 200 000. Эта группа в 3 раза больше чем сумма клиентов остальных групп."
   ]
  },
  {
   "cell_type": "markdown",
   "id": "66edf377-b034-4f03-bf50-ed03c86b549a",
   "metadata": {},
   "source": [
    "*Отразим процент должеников по каждой группе. Для этого добавим в таблицу новый столбец debtors.*"
   ]
  },
  {
   "cell_type": "code",
   "execution_count": 79,
   "id": "7c708f2f-f84b-4611-a547-148be2772878",
   "metadata": {},
   "outputs": [
    {
     "name": "stdout",
     "output_type": "stream",
     "text": [
      "  total_income_category  no_debt  presence_of_debts  total   debtors\n",
      "0                     A       23                  2     25  8.000000\n",
      "1                     B     4660                354   5014  7.060231\n",
      "2                     C    14568               1353  15921  8.498210\n",
      "3                     D      328                 21    349  6.017192\n",
      "4                     E       20                  2     22  9.090909\n"
     ]
    }
   ],
   "source": [
    "debt_income_grouped['debtors'] = debt_income_grouped['presence_of_debts']/(debt_income_grouped['total']) * 100\n",
    "print(debt_income_grouped)"
   ]
  },
  {
   "cell_type": "markdown",
   "id": "fcfab22c-a149-4029-b3b2-2af70ad564d8",
   "metadata": {},
   "source": [
    "*Теперь добавим сводную таблицу указав в ней количество клиентов в каждой группе, количество должников и долю должников в процентном соотношении. И отсортируем по уменьшению процента задолженности.*"
   ]
  },
  {
   "cell_type": "code",
   "execution_count": 81,
   "id": "656100ed-5852-4dd4-bff7-fa17e6e358b4",
   "metadata": {},
   "outputs": [
    {
     "name": "stdout",
     "output_type": "stream",
     "text": [
      "                        debtors  presence_of_debts  total\n",
      "total_income_category                                    \n",
      "A                      8.000000                  2     25\n",
      "B                      7.060231                354   5014\n",
      "C                      8.498210               1353  15921\n",
      "D                      6.017192                 21    349\n",
      "E                      9.090909                  2     22\n"
     ]
    }
   ],
   "source": [
    "debt_income_grouped_pivot = data.pivot_table(index='total_income_category', values='debt', aggfunc=['mean', 'sum', 'count'])\n",
    "debt_income_grouped_pivot.columns = ['debtors','presence_of_debts', 'total']\n",
    "debt_income_grouped_pivot['debtors'] = debt_income_grouped_pivot['debtors']*100\n",
    "print(debt_income_grouped_pivot)"
   ]
  },
  {
   "cell_type": "markdown",
   "id": "ff74b1c8-c1fc-4c4d-94ea-d6ce9824529b",
   "metadata": {},
   "source": [
    "**Вывод:** \n",
    "* Люди с категорией доходов С и В составляют 98% от общего числа заемщиков. Если сравнивать 2 эти группы процент возврата выше именно у категории С. Вероятно что люди имющие стабильный средний заработок внимателеней относятся к финансовым обязательствам нежели клиенты с заработком выше среднего. Это также подтверждает сравнение категории С и A, не смотря на самый высокий доход в категории А процент возврата выше все же у категории C.\n",
    "* Делая вывод о влиянии дохода на возврат кредита в срок, наиболее ответственными заемщиками будут люди со средним уровнем дохода."
   ]
  },
  {
   "cell_type": "markdown",
   "id": "c2461912-0b3d-47e0-80f1-9ad0948589c3",
   "metadata": {},
   "source": [
    "#### 3.4 Как разные цели кредита влияют на его возврат в срок?"
   ]
  },
  {
   "cell_type": "markdown",
   "id": "bdd4228f-3a6f-4b9f-b22c-8830a6178099",
   "metadata": {},
   "source": [
    "*Сгруппируем клиентов по целям кредита и наличию\\отсутствию задолженностей.*"
   ]
  },
  {
   "cell_type": "code",
   "execution_count": 85,
   "id": "05857881-1d01-4430-9be3-9425ff5127d9",
   "metadata": {},
   "outputs": [
    {
     "name": "stdout",
     "output_type": "stream",
     "text": [
      "purpose_category          debt\n",
      "операции с автомобилем    0       3879\n",
      "                          1        400\n",
      "операции с недвижимостью  0       9971\n",
      "                          1        780\n",
      "получение образования     0       3619\n",
      "                          1        369\n",
      "проведение свадьбы        0       2130\n",
      "                          1        183\n",
      "Name: count, dtype: int64\n"
     ]
    }
   ],
   "source": [
    "print(data.groupby('purpose_category')['debt'].value_counts())"
   ]
  },
  {
   "cell_type": "markdown",
   "id": "d4115e42-0f77-4bed-b570-815365d03cfa",
   "metadata": {},
   "source": [
    "*Посчитаем количество клиентов для каждой группы.*"
   ]
  },
  {
   "cell_type": "code",
   "execution_count": 87,
   "id": "c1353b20-7bd0-4aed-809e-3a04a3d33728",
   "metadata": {},
   "outputs": [
    {
     "name": "stdout",
     "output_type": "stream",
     "text": [
      "           purpose_category   debt\n",
      "0    операции с автомобилем   4279\n",
      "1  операции с недвижимостью  10751\n",
      "2     получение образования   3988\n",
      "3        проведение свадьбы   2313\n"
     ]
    }
   ],
   "source": [
    "total = data.groupby('purpose_category').agg({'debt':'count'})\n",
    "total.reset_index(inplace=True)\n",
    "print(total)"
   ]
  },
  {
   "cell_type": "markdown",
   "id": "66708655-aeee-4643-b851-e5ed3853b1a7",
   "metadata": {},
   "source": [
    "*Для дальнейших рассчетов создадим таблицу в переменной debt_purpose на основании исходного датафрейма.*"
   ]
  },
  {
   "cell_type": "code",
   "execution_count": 89,
   "id": "5da308d2-59d4-47ef-90eb-283df3c3d635",
   "metadata": {},
   "outputs": [
    {
     "name": "stdout",
     "output_type": "stream",
     "text": [
      "                          no_debt  presence_of_debts\n",
      "purpose_category                                    \n",
      "операции с автомобилем       3879                400\n",
      "операции с недвижимостью     9971                780\n",
      "получение образования        3619                369\n",
      "проведение свадьбы           2130                183\n"
     ]
    }
   ],
   "source": [
    "debt_purpose = data.pivot_table(index='purpose_category', columns='debt', aggfunc={'debt': 'count'})\n",
    "debt_purpose.columns = ['no_debt', 'presence_of_debts']\n",
    "print(debt_purpose)"
   ]
  },
  {
   "cell_type": "markdown",
   "id": "58589e4a-8ee8-4ea0-a361-1efc59f15971",
   "metadata": {},
   "source": [
    "*Используем метод merge и свожу данные из 2х таблиц total и debt_purpose в новой переменной debt_purpose_grouped*"
   ]
  },
  {
   "cell_type": "code",
   "execution_count": 91,
   "id": "a8b18b72-d257-48ae-b5cf-9545f81eab99",
   "metadata": {},
   "outputs": [
    {
     "name": "stdout",
     "output_type": "stream",
     "text": [
      "           purpose_category  no_debt  presence_of_debts  total\n",
      "0    операции с автомобилем     3879                400   4279\n",
      "1  операции с недвижимостью     9971                780  10751\n",
      "2     получение образования     3619                369   3988\n",
      "3        проведение свадьбы     2130                183   2313\n"
     ]
    }
   ],
   "source": [
    "debt_purpose_grouped = pd.merge(debt_purpose, total, on='purpose_category')\n",
    "debt_purpose_grouped.columns = ['purpose_category','no_debt', 'presence_of_debts','total']\n",
    "print(debt_purpose_grouped)"
   ]
  },
  {
   "cell_type": "markdown",
   "id": "21de22b9-be55-4da3-bd99-9d6a816e57dd",
   "metadata": {},
   "source": [
    "*Теперь посмотрим процент должников по каждой группе. Для этого добавим в таблицу новый столбец debtors.*"
   ]
  },
  {
   "cell_type": "code",
   "execution_count": 93,
   "id": "88737d21-9636-4250-b7e9-3bb11c8b4ea8",
   "metadata": {},
   "outputs": [
    {
     "name": "stdout",
     "output_type": "stream",
     "text": [
      "           purpose_category  no_debt  presence_of_debts  total   debtors\n",
      "0    операции с автомобилем     3879                400   4279  9.347978\n",
      "1  операции с недвижимостью     9971                780  10751  7.255139\n",
      "2     получение образования     3619                369   3988  9.252758\n",
      "3        проведение свадьбы     2130                183   2313  7.911803\n"
     ]
    }
   ],
   "source": [
    "debt_purpose_grouped['debtors'] = debt_purpose_grouped['presence_of_debts']/debt_purpose_grouped['total'] * 100\n",
    "print(debt_purpose_grouped)"
   ]
  },
  {
   "cell_type": "markdown",
   "id": "a092756d-81ed-44ba-8045-91259a9092fa",
   "metadata": {},
   "source": [
    "*Упростим таблицу и оставим в ней только цель кредита, количество клиентов в группе, количество должников и процент должников, сохранив результат в новую таблицу debt_purpose_grouped_pivot и отсортируем в порядке уменьшения процента возврата кредита .*"
   ]
  },
  {
   "cell_type": "code",
   "execution_count": 95,
   "id": "e8485c58-266d-455e-b100-105cc385dd84",
   "metadata": {},
   "outputs": [
    {
     "name": "stdout",
     "output_type": "stream",
     "text": [
      "                           debtors  presence_of_debts  total\n",
      "purpose_category                                            \n",
      "операции с автомобилем    9.347978                400   4279\n",
      "операции с недвижимостью  7.255139                780  10751\n",
      "получение образования     9.252758                369   3988\n",
      "проведение свадьбы        7.911803                183   2313\n"
     ]
    }
   ],
   "source": [
    "debt_purpose_grouped_pivot = data.pivot_table(index='purpose_category', values='debt', aggfunc=['mean', 'sum', 'count'])\n",
    "debt_purpose_grouped_pivot.columns = ['debtors','presence_of_debts', 'total']\n",
    "debt_purpose_grouped_pivot['debtors'] = debt_purpose_grouped_pivot['debtors']*100\n",
    "print(debt_purpose_grouped_pivot)"
   ]
  },
  {
   "cell_type": "markdown",
   "id": "71c8cae1-a098-4d11-9c4a-f04d6ea69990",
   "metadata": {},
   "source": [
    "**Вывод:**\n",
    "* Чаще всего клиенты обращаются за кредитом на операции с недвижимостью.\n",
    "* Реже всего требуется кредит на проведение свадьбы, но вместе с тем % возврата по данной категории самый высокий. Но и сумма кредита явно ниже чем на операции с недвижимостью.\n",
    "* В категории \"получение образования\" относительно предыдущих категорий более низкий процент. Возможно, это связано с тем, что после получения образования требуется время чтобы найти новую работу по специальности и погасить задолженность. \n",
    "* \"Операции с автомобилем\" в данной категории самый низкий процент возврата в срок."
   ]
  },
  {
   "cell_type": "markdown",
   "id": "8ec2fc94-959c-4881-b661-a58447a64cac",
   "metadata": {},
   "source": [
    "#### 3.5 Приведите возможные причины появления пропусков в исходных данных."
   ]
  },
  {
   "cell_type": "markdown",
   "id": "4cfd94c7-26f8-4340-b73c-8caca7afb5d2",
   "metadata": {},
   "source": [
    "*Ответ:*   \n",
    "\n",
    "В изначальном отчете были пропуски в столбцах total_income и days_employed. В нашем случае предоставление справки о доходах  и трудовом стаже обязательный критерий одобрения кредита, поэтому высока вероятность именно технической ошибки при выгрузке данных или сбоем в банковской системе. \n",
    "На техничесую ошибку или сбой также указывают отрицательные значения в данных о трудовом стаже.\n",
    "Предложение что пропуски обусловлены отсуствием данных маловероятно, так как банк может запрашивать информацию о трудовом стаже и доходе напрямую из Пенсионного фонда даже если клиентом они поданы не были."
   ]
  },
  {
   "cell_type": "markdown",
   "id": "79102e4d-0310-4999-af19-5af35a096afa",
   "metadata": {},
   "source": [
    "#### 3.6 Объясните, почему заполнить пропуски медианным значением — лучшее решение для количественных переменных."
   ]
  },
  {
   "cell_type": "markdown",
   "id": "d2058a45-f7a2-4b74-858e-bfbbd6852d7e",
   "metadata": {},
   "source": [
    "*Ответ:* \n",
    "* заполнение пропусков медианным значением позволяет более точно выявить средней показатель для всей выборки, если в ней присутствуют аномальные значения(слишком большие или слишком маленькие);\n",
    "* медианное значение легко вычисляется и позволяет быстро заполнить пропуски в данных."
   ]
  },
  {
   "cell_type": "markdown",
   "id": "e381b2cd-a98d-4ccf-ad08-4c35ea45bd4d",
   "metadata": {},
   "source": [
    "### Шаг 4: общий вывод.\n",
    "\n",
    "Перед непосредственным исследованием полученных данных, необходимо привести их к корректному виду - это ПРОЦЕСС ПРЕДОБРАБОТКИ данных. \n",
    "На этом этапе были выпонены следующие шаги:  \n",
    "* ***Удаление пропусков.*** Пропущенные значения присутствовали в данных о доходе и трудовом стаже. Для заполнения пропусков в информации, использовали средний показатель заработной платы и трудового стажа у клиентов с одним и тем же видом дохода, отразив медианное значение в пропущенных ячейках. \n",
    "* ***Обработка аномальных значений.*** Аномалии наблюдаются данных о трудовом стаже - присутствуют отрицательные значения, которые мы приводим к положительному значению - здесь явно техническая ошибка при выгрузке данных из системы. В данных о количестве детей мы также убрали из выборки клиентов у которых -1 и 20 детей, так как они выбиваются из общей выборки и по численности не значительны, что позволяет удалить информацию об этих клиентах без ущерба для итоговых выводов и оставить значения в данном столбце от 0 до 5.  \n",
    "* ***Изменение типов данных.*** На этом этапе были изменены значения дохода клиентов с вещественных на целочисленные, то есть убраны знаки после запятой для удобства расчетов и визуального восприятия.  \n",
    "* ***Обработка дубликатов.*** В столбце с информацие об образовании были замечены неявные дубликаты, то есть данные с одинаковым по смыслу значениями, но написанные разным регистром. Приведение этих показателей к общему написанию дает возможность проверить всю таблицу на предмет строк-дубликатов. Таким образом найдены 71 строка-дубликат и удалены из отчета.\n",
    "* ***Категоризация данных.*** Создали категории по уровню дохода клиентов и получены 5 групп:  \n",
    "1. 0–30000 — 'E'\n",
    "2. 30001–50000 — 'D'\n",
    "3. 50001–200000 — 'C' \n",
    "4. 200001–1000000 — 'B' \n",
    "5. 1000001 и выше — 'A'  \n",
    "\n",
    "Таким же образом создали категории исходя из целей кредита и получили 4 категории: \n",
    "1. операции с автомобилем\n",
    "2. операции с недвижимостью\n",
    "3. проведение свадьбы\n",
    "4. получение образования\n",
    "\n",
    "ИССЛЕДОВАТЕЛЬСКАЯ ЧАСТЬ. \n",
    "Задача которую нам необходимо решить: найти взаимосвязь между различными факторами и возвратом кредита в срок. Поэтому разбили исследование на несколько блоков рассматривая влияние каждого фактора в отдельности.\n",
    "* ***Влияние количества детей на возврат кредита в срок***. Стоит отметить, что выборка клиентов в группах очень разная, поэтому опираться стоит на процент должников в каждой группе:  \n",
    "1. Бездетные клиенты. Общая численность группы 14091 человек. Процент должников 7.5%\n",
    "2. 1 ребёнок. Общая численность группы 4808 человек. Процент должников 9.2%\n",
    "3. 2 ребёнка. Общая численность группы 2052 человек. Процент должников 9.4%\n",
    "4. 3 ребёнка. Общая численность группы 330 человек. Процент должников 8.1%\n",
    "5. 4 ребёнка. Общая численность группы 41 человек. Процент должников 9.7%\n",
    "6. 5 детей. Общая численность группы 9 человек. Процент должников 0%\n",
    "\n",
    "Во всех группах более 90% клиентов не имеют задолженностей. Это говорит о том, что независимо от количества детей клиенты хорошо справляются с долговыми обязательствами. Не смотря на то, что группа с 5 детьми имеет 0% должников, ее численность слишком мала, чтобы делать финальные выводы о наибольшей финансовой ответственности.  \n",
    "Группа без детей представленна в досточном объеме и позволяет сделать вывод в сравнении с остальными 4-ми группами, что люди без дополнительных финансовых обязательств лучше справляются с выплатами.\n",
    "\n",
    "* ***Влияние семейного положения на возврат кредита в срок.*** В данных для исследования вывили 5 групп с семейным положением:  \n",
    "1. женат/замужем. Численность группы 12261. Процент должников 7.5%.\n",
    "2. гражданский брак. Численность группы 4134. Процент должников 9.3%.\n",
    "3. не женат/не замужем. Численность группы 2796. Процент должников 9.7%.\n",
    "4. в разводе. Численность группы 1189. Процент должников 7%.\n",
    "5. вдова/вдовец. Численность группы 951. Процент должников 6.6%.\n",
    "\n",
    "Данные говорят, что люди состоящие в зарегистрированных или не зарегистрированных отношениях берут кредиты намного чаще чем остальные группы.\n",
    "Наименьший процент должникв в группе со статусом 'вдова/вдовец'. Вероятно, что данная группа более возрастная и при этом финансово стабильная. \n",
    "Исходя из полученных данных можно предположить, что люди которые не имели официальных отношений (группы \"гражданский брак\" , \"не женат/не замужем\") в меньшей степени финансово ответственны, так как имеют наименьший процент возврата. \n",
    "\n",
    "* ***Влияние уровня дохода на возврат кредита в срок.*** Для исследования данного фактора была проведена группировка клиентов по уровню дохода и получены 5 категорий:  \n",
    "1. A - доход от 1 000 001 и выше. Численность группы 25 человек. Процент должников 8%.\n",
    "2. B - доход от 200 001 до 1 000 000. Численность группы 5014 человек. Процент должников 7%.\n",
    "3. С - доход от 50001 до 200 000. Численность группы 15921 человек. Процент должников 8.4%.\n",
    "4. D - доход от 30 001 до 50 000. Численность группы 349 человек. Процент должников 6%.\n",
    "5. E - доход от 0 до 30 000. Численность группы 22 человека. Процент должников 9%.\n",
    "\n",
    "Люди с категорией доходов С и В (от 50 001 до 1 000 000) составляют 98% от общего числа заемщиков. Если сравнивать 2 эти группы процент возврата выше именно у категории с более низким доходом, то есть категории С. Это может указывать на то, что люди со средним заработком внимательней относятся к финансовым обязательствам, нежели клиенты с заработком выше среднего. Это также подтверждает сравнение категории С и A, не смотря на самый высокий доход в категории А процент возврата выше все же у категории C. Наиболее ответственными заемщиками будут люди со средним уровнем дохода. Отметим, что не смотря на 0% должников в группе с доходом E, выборка мала - от общего количества заемщиков составляет 0.1%.На такой объем данных не рекомендую опираться при составлении прогнозов.  \n",
    "\n",
    "* ***Влияние целей кредита на возврат в срок.*** Категоризировав все цели клиентов и объединив в группы мы получили следюущие данные:\n",
    "1. На операции с автомобилем, кредит взяли 4279 человек. Процент должников 9.3%\n",
    "2. На получение образования, кредит взяли 3988 человек. Процент должников 9.2%\n",
    "3. На операции с недвижимость, кредит взяли 10751 человек. Процент должников 7.2%\n",
    "4. На проведение свадьбы, кредит взяли 2313 человек. Процент должников 3.5%\n",
    "\n",
    "Исходя из объемов сформированных категорий по целям кредита можно увернно сказать, что наиболее частая цель кредита - недвижимость.Реже всего требуется кредит на проведение свадьбы, но вместе с тем % возврата по данной категории самый высокий. Но и сумма кредита явно ниже чем на операции с недвижимостью.  \n",
    "На втором месте у клиентов \"Операции с автомобилем\" в данной категории самый большой процент задолженностей. Стоит внимательней отнестись к этой категории клиентов и проанализировать с какой целью они берут кредит на автомобиль. Здесь возможно как приобретение автомобиля в качестве инструмента для работы или же смена авто для личного пользования. Вероятно, что именно цель операции с автомобилем будет влиять на погашения задолженности в срок.\n",
    "В категории \"получение образования\" также один из самых низких процентов возврата. Возможно, это связано с тем, что после получения образования требуется время на поиск работы по специальности для погашения долга.\n",
    "\n",
    "***ОБЩИЙ ВЫВОД.***\n",
    "Полученные данные свидетельствуют о том, что взаимосвязь между рассматриваемыми факторами и возвратами кредита в срок есть, но требует более углубленного изучения. Клиенты с более стабильным семейным положением и ответственным финансовым планированием, вероятно, будут более внимательны к выпонению своих обязательств. Однако, уровень дохода и количество зависимых также играют важную роль. Рекомендую продолжить исследование этих взаимосвязей, получив более детальную информацию о заемщаках, для формирования кредитной политики банка."
   ]
  },
  {
   "cell_type": "code",
   "execution_count": null,
   "id": "3951ea42-d4bf-4021-bded-0bebdd904c6a",
   "metadata": {},
   "outputs": [],
   "source": []
  }
 ],
 "metadata": {
  "kernelspec": {
   "display_name": "Python 3 (ipykernel)",
   "language": "python",
   "name": "python3"
  },
  "language_info": {
   "codemirror_mode": {
    "name": "ipython",
    "version": 3
   },
   "file_extension": ".py",
   "mimetype": "text/x-python",
   "name": "python",
   "nbconvert_exporter": "python",
   "pygments_lexer": "ipython3",
   "version": "3.12.7"
  }
 },
 "nbformat": 4,
 "nbformat_minor": 5
}
