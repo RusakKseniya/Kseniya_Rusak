{
 "cells": [
  {
   "cell_type": "markdown",
   "metadata": {},
   "source": [
    "# Исследование закономерностей определяющих успешность компьютерных игр   \n",
    "В нашем распоряжении данные открытых источников о продажах игр, оценки пользователей и экспертов, жанры и платформы. Необходимо выявить определяющие успешность игры закономерности, чтобы сделать ставку на потенциально популярный продукт и спланировать рекламные кампании для интернет-магазина \"Стримчик\". "
   ]
  },
  {
   "cell_type": "markdown",
   "metadata": {},
   "source": [
    "<h1>Оглавление<span class=\"tocSkip\"></span></h1>\n",
    "<div class=\"toc\"><ul class=\"toc-item\"><li><span><a href=\"#Загрузка-данных\" data-toc-modified-id=\"Загрузка-данных-1\"><span class=\"toc-item-num\">1&nbsp;&nbsp;</span>Загрузка данных</a></span></li><li><span><a href=\"#Предобработка-данных\" data-toc-modified-id=\"Предобработка-данных-2\"><span class=\"toc-item-num\">2&nbsp;&nbsp;</span>Предобработка данных</a></span><ul class=\"toc-item\"><li><span><a href=\"#Переименование-столбцов\" data-toc-modified-id=\"Переименование-столбцов-2.1\"><span class=\"toc-item-num\">2.1&nbsp;&nbsp;</span>Переименование столбцов</a></span></li><li><span><a href=\"#Изменение-типов-данных\" data-toc-modified-id=\"Изменение-типов-данных-2.2\"><span class=\"toc-item-num\">2.2&nbsp;&nbsp;</span>Изменение типов данных</a></span></li><li><span><a href=\"#Обработка-пропущенных-значений\" data-toc-modified-id=\"Обработка-пропущенных-значений-2.3\"><span class=\"toc-item-num\">2.3&nbsp;&nbsp;</span>Обработка пропущенных значений</a></span></li></ul></li><li><span><a href=\"#Исследовательский-анализ-данных\" data-toc-modified-id=\"Исследовательский-анализ-данных-3\"><span class=\"toc-item-num\">3&nbsp;&nbsp;</span>Исследовательский анализ данных</a></span><ul class=\"toc-item\"><li><span><a href=\"#Cколько-игр-выпускалось-в-разные-годы\" data-toc-modified-id=\"Cколько-игр-выпускалось-в-разные-годы-3.1\"><span class=\"toc-item-num\">3.1&nbsp;&nbsp;</span>Cколько игр выпускалось в разные годы</a></span></li><li><span><a href=\"#За-какой-характерный-срок-появляются-новые-и-исчезают-старые-платформы.\" data-toc-modified-id=\"За-какой-характерный-срок-появляются-новые-и-исчезают-старые-платформы.-3.2\"><span class=\"toc-item-num\">3.2&nbsp;&nbsp;</span>За какой характерный срок появляются новые и исчезают старые платформы.</a></span></li><li><span><a href=\"#Какие-платформы-лидируют-по-продажам,-растут-или-падают?-Выберите-несколько-потенциально-прибыльных-платформ\" data-toc-modified-id=\"Какие-платформы-лидируют-по-продажам,-растут-или-падают?-Выберите-несколько-потенциально-прибыльных-платформ-3.3\"><span class=\"toc-item-num\">3.3&nbsp;&nbsp;</span>Какие платформы лидируют по продажам, растут или падают? Выберите несколько потенциально прибыльных платформ</a></span></li><li><span><a href=\"#Глолобальные-продажи-игр-в-разбивке-по-платформам\" data-toc-modified-id=\"Глолобальные-продажи-игр-в-разбивке-по-платформам-3.4\"><span class=\"toc-item-num\">3.4&nbsp;&nbsp;</span>Глолобальные продажи игр в разбивке по платформам</a></span></li><li><span><a href=\"#Как-влияют-на-продажи-внутри-одной-популярной-платформы-отзывы-пользователей-и-критиков.\" data-toc-modified-id=\"Как-влияют-на-продажи-внутри-одной-популярной-платформы-отзывы-пользователей-и-критиков.-3.5\"><span class=\"toc-item-num\">3.5&nbsp;&nbsp;</span>Как влияют на продажи внутри одной популярной платформы отзывы пользователей и критиков.</a></span></li><li><span><a href=\"#Соотнесите-выводы-с-продажами-игр-на-других-платформах.\" data-toc-modified-id=\"Соотнесите-выводы-с-продажами-игр-на-других-платформах.-3.6\"><span class=\"toc-item-num\">3.6&nbsp;&nbsp;</span>Соотнесите выводы с продажами игр на других платформах.</a></span></li><li><span><a href=\"#Посмотрите-на-общее-распределение-игр-по-жанрам.-Что-можно-сказать-о-самых-прибыльных-жанрах?-Выделяются-ли-жанры-с-высокими-и-низкими-продажами?\" data-toc-modified-id=\"Посмотрите-на-общее-распределение-игр-по-жанрам.-Что-можно-сказать-о-самых-прибыльных-жанрах?-Выделяются-ли-жанры-с-высокими-и-низкими-продажами?-3.7\"><span class=\"toc-item-num\">3.7&nbsp;&nbsp;</span>Посмотрите на общее распределение игр по жанрам. Что можно сказать о самых прибыльных жанрах? Выделяются ли жанры с высокими и низкими продажами?</a></span></li></ul></li><li><span><a href=\"#Составьте-портрет-пользователя-каждого-региона\" data-toc-modified-id=\"Составьте-портрет-пользователя-каждого-региона-4\"><span class=\"toc-item-num\">4&nbsp;&nbsp;</span>Составьте портрет пользователя каждого региона</a></span><ul class=\"toc-item\"><li><span><a href=\"#Самые-популярные-платформы-(топ-5)\" data-toc-modified-id=\"Самые-популярные-платформы-(топ-5)-4.1\"><span class=\"toc-item-num\">4.1&nbsp;&nbsp;</span>Самые популярные платформы (топ-5)</a></span></li><li><span><a href=\"#Самые-популярные-жанры-(топ-5).\" data-toc-modified-id=\"Самые-популярные-жанры-(топ-5).-4.2\"><span class=\"toc-item-num\">4.2&nbsp;&nbsp;</span>Самые популярные жанры (топ-5).</a></span></li><li><span><a href=\"#Влияет-ли-рейтинг-ESRB-на-продажи-в-отдельном-регионе.\" data-toc-modified-id=\"Влияет-ли-рейтинг-ESRB-на-продажи-в-отдельном-регионе.-4.3\"><span class=\"toc-item-num\">4.3&nbsp;&nbsp;</span>Влияет ли рейтинг ESRB на продажи в отдельном регионе.</a></span></li></ul></li><li><span><a href=\"#Проверка-гипотез\" data-toc-modified-id=\"Проверка-гипотез-5\"><span class=\"toc-item-num\">5&nbsp;&nbsp;</span>Проверка гипотез</a></span><ul class=\"toc-item\"><li><span><a href=\"#Средние-пользовательские-рейтинги-платформ-Xbox-One-и-PC-одинаковые\" data-toc-modified-id=\"Средние-пользовательские-рейтинги-платформ-Xbox-One-и-PC-одинаковые-5.1\"><span class=\"toc-item-num\">5.1&nbsp;&nbsp;</span>Средние пользовательские рейтинги платформ Xbox One и PC одинаковые</a></span></li><li><span><a href=\"#Средние-пользовательские-рейтинги-жанров-Action--и-Sports-разные.\" data-toc-modified-id=\"Средние-пользовательские-рейтинги-жанров-Action--и-Sports-разные.-5.2\"><span class=\"toc-item-num\">5.2&nbsp;&nbsp;</span>Средние пользовательские рейтинги жанров Action  и Sports разные.</a></span></li></ul></li><li><span><a href=\"#Общий-вывод:\" data-toc-modified-id=\"Общий-вывод:-6\"><span class=\"toc-item-num\">6&nbsp;&nbsp;</span>Общий вывод:</a></span></li></ul></div>"
   ]
  },
  {
   "cell_type": "markdown",
   "metadata": {},
   "source": [
    "***Цель проекта***  \n",
    "\n",
    "Цель проведения исследования, понять,  какие факторы и закономерности влияют на успешность игры, и использовать полученныю информацию для планирования рекламных компаний на 2017 год."
   ]
  },
  {
   "cell_type": "markdown",
   "metadata": {},
   "source": [
    "***Задачи проекта***  \n",
    "1. Провести предварительный анализ данных для понимания их структуры и полноты.\n",
    "2. Обработать и очистить данные от выбросов и недостающих значений, чтобы обеспечить корректность последующих анализов.  \n",
    "3. Исследовать данные  о влиянии различных факторов на успешность игр.   \n",
    "4. Составит портрет пользователя для регионов.\n",
    "5. Провести проверку гипотез и среднем пользовательском рейтнге в зависимости от платформы и жанра игр.  \n",
    "6. Сделать общий вывод на основании проведенного исследования и дать рекомендации заказчику."
   ]
  },
  {
   "cell_type": "markdown",
   "metadata": {},
   "source": [
    "***Описание данныx***  \n",
    "\n",
    "Исследование проводится на наборе данных из открытых источников. В датасете представленны следующие категории данных:\n",
    "\n",
    "- **Name** (название игры);\n",
    "- **Platform** (платформа);\n",
    "- **Year_of_Release** (год выпуска);\n",
    "- **Genre** (жанр игры);\n",
    "- **NA_sales** (продажи в Северной Америке (миллионы проданных копий));\n",
    "- **EU_sales** (продажи в Европе (миллионы проданных копий));\n",
    "- **JP_sales** (продажи в Японии (миллионы проданных копий));\n",
    "- **Other_sales** (продажи в других странах (миллионы проданных копий));\n",
    "- **Critic_Score** (оценка критиков (максимум 100));\n",
    "- **User_Score** (оценка пользователей (максимум 10));\n",
    "- **Rating** (рейтинг от организации ESRB (англ. Entertainment Software Rating Board). Эта ассоциация определяет рейтинг компьютерных игр и присваивает им подходящую возрастную категорию).\n"
   ]
  },
  {
   "cell_type": "markdown",
   "metadata": {},
   "source": [
    "### Загрузка данных"
   ]
  },
  {
   "cell_type": "markdown",
   "metadata": {},
   "source": [
    "Импортируем все необходимые для дальнейшей работы библиотеки"
   ]
  },
  {
   "cell_type": "code",
   "execution_count": 1,
   "metadata": {},
   "outputs": [],
   "source": [
    "import pandas as pd\n",
    "import matplotlib.pyplot as plt\n",
    "import numpy as np\n",
    "import seaborn as sns\n",
    "import scipy.stats as stats"
   ]
  },
  {
   "cell_type": "markdown",
   "metadata": {},
   "source": [
    "Cохраним в переменную **games_info** полученный датасет для анализа."
   ]
  },
  {
   "cell_type": "code",
   "execution_count": 2,
   "metadata": {},
   "outputs": [],
   "source": [
    "games_info = pd.read_csv('/datasets/games.csv')"
   ]
  },
  {
   "cell_type": "markdown",
   "metadata": {},
   "source": [
    "Посмотрим первые строки датафрейма **games_info** и общую информацию о нем, чтобы изучить предоставленные данные."
   ]
  },
  {
   "cell_type": "code",
   "execution_count": 3,
   "metadata": {},
   "outputs": [
    {
     "name": "stdout",
     "output_type": "stream",
     "text": [
      "<class 'pandas.core.frame.DataFrame'>\n",
      "RangeIndex: 16715 entries, 0 to 16714\n",
      "Data columns (total 11 columns):\n",
      " #   Column           Non-Null Count  Dtype  \n",
      "---  ------           --------------  -----  \n",
      " 0   Name             16713 non-null  object \n",
      " 1   Platform         16715 non-null  object \n",
      " 2   Year_of_Release  16446 non-null  float64\n",
      " 3   Genre            16713 non-null  object \n",
      " 4   NA_sales         16715 non-null  float64\n",
      " 5   EU_sales         16715 non-null  float64\n",
      " 6   JP_sales         16715 non-null  float64\n",
      " 7   Other_sales      16715 non-null  float64\n",
      " 8   Critic_Score     8137 non-null   float64\n",
      " 9   User_Score       10014 non-null  object \n",
      " 10  Rating           9949 non-null   object \n",
      "dtypes: float64(6), object(5)\n",
      "memory usage: 1.4+ MB\n"
     ]
    }
   ],
   "source": [
    "games_info.info()"
   ]
  },
  {
   "cell_type": "code",
   "execution_count": 4,
   "metadata": {},
   "outputs": [
    {
     "data": {
      "text/html": [
       "<div>\n",
       "<style scoped>\n",
       "    .dataframe tbody tr th:only-of-type {\n",
       "        vertical-align: middle;\n",
       "    }\n",
       "\n",
       "    .dataframe tbody tr th {\n",
       "        vertical-align: top;\n",
       "    }\n",
       "\n",
       "    .dataframe thead th {\n",
       "        text-align: right;\n",
       "    }\n",
       "</style>\n",
       "<table border=\"1\" class=\"dataframe\">\n",
       "  <thead>\n",
       "    <tr style=\"text-align: right;\">\n",
       "      <th></th>\n",
       "      <th>Name</th>\n",
       "      <th>Platform</th>\n",
       "      <th>Year_of_Release</th>\n",
       "      <th>Genre</th>\n",
       "      <th>NA_sales</th>\n",
       "      <th>EU_sales</th>\n",
       "      <th>JP_sales</th>\n",
       "      <th>Other_sales</th>\n",
       "      <th>Critic_Score</th>\n",
       "      <th>User_Score</th>\n",
       "      <th>Rating</th>\n",
       "    </tr>\n",
       "  </thead>\n",
       "  <tbody>\n",
       "    <tr>\n",
       "      <th>0</th>\n",
       "      <td>Wii Sports</td>\n",
       "      <td>Wii</td>\n",
       "      <td>2006.0</td>\n",
       "      <td>Sports</td>\n",
       "      <td>41.36</td>\n",
       "      <td>28.96</td>\n",
       "      <td>3.77</td>\n",
       "      <td>8.45</td>\n",
       "      <td>76.0</td>\n",
       "      <td>8</td>\n",
       "      <td>E</td>\n",
       "    </tr>\n",
       "    <tr>\n",
       "      <th>1</th>\n",
       "      <td>Super Mario Bros.</td>\n",
       "      <td>NES</td>\n",
       "      <td>1985.0</td>\n",
       "      <td>Platform</td>\n",
       "      <td>29.08</td>\n",
       "      <td>3.58</td>\n",
       "      <td>6.81</td>\n",
       "      <td>0.77</td>\n",
       "      <td>NaN</td>\n",
       "      <td>NaN</td>\n",
       "      <td>NaN</td>\n",
       "    </tr>\n",
       "    <tr>\n",
       "      <th>2</th>\n",
       "      <td>Mario Kart Wii</td>\n",
       "      <td>Wii</td>\n",
       "      <td>2008.0</td>\n",
       "      <td>Racing</td>\n",
       "      <td>15.68</td>\n",
       "      <td>12.76</td>\n",
       "      <td>3.79</td>\n",
       "      <td>3.29</td>\n",
       "      <td>82.0</td>\n",
       "      <td>8.3</td>\n",
       "      <td>E</td>\n",
       "    </tr>\n",
       "    <tr>\n",
       "      <th>3</th>\n",
       "      <td>Wii Sports Resort</td>\n",
       "      <td>Wii</td>\n",
       "      <td>2009.0</td>\n",
       "      <td>Sports</td>\n",
       "      <td>15.61</td>\n",
       "      <td>10.93</td>\n",
       "      <td>3.28</td>\n",
       "      <td>2.95</td>\n",
       "      <td>80.0</td>\n",
       "      <td>8</td>\n",
       "      <td>E</td>\n",
       "    </tr>\n",
       "    <tr>\n",
       "      <th>4</th>\n",
       "      <td>Pokemon Red/Pokemon Blue</td>\n",
       "      <td>GB</td>\n",
       "      <td>1996.0</td>\n",
       "      <td>Role-Playing</td>\n",
       "      <td>11.27</td>\n",
       "      <td>8.89</td>\n",
       "      <td>10.22</td>\n",
       "      <td>1.00</td>\n",
       "      <td>NaN</td>\n",
       "      <td>NaN</td>\n",
       "      <td>NaN</td>\n",
       "    </tr>\n",
       "    <tr>\n",
       "      <th>5</th>\n",
       "      <td>Tetris</td>\n",
       "      <td>GB</td>\n",
       "      <td>1989.0</td>\n",
       "      <td>Puzzle</td>\n",
       "      <td>23.20</td>\n",
       "      <td>2.26</td>\n",
       "      <td>4.22</td>\n",
       "      <td>0.58</td>\n",
       "      <td>NaN</td>\n",
       "      <td>NaN</td>\n",
       "      <td>NaN</td>\n",
       "    </tr>\n",
       "    <tr>\n",
       "      <th>6</th>\n",
       "      <td>New Super Mario Bros.</td>\n",
       "      <td>DS</td>\n",
       "      <td>2006.0</td>\n",
       "      <td>Platform</td>\n",
       "      <td>11.28</td>\n",
       "      <td>9.14</td>\n",
       "      <td>6.50</td>\n",
       "      <td>2.88</td>\n",
       "      <td>89.0</td>\n",
       "      <td>8.5</td>\n",
       "      <td>E</td>\n",
       "    </tr>\n",
       "    <tr>\n",
       "      <th>7</th>\n",
       "      <td>Wii Play</td>\n",
       "      <td>Wii</td>\n",
       "      <td>2006.0</td>\n",
       "      <td>Misc</td>\n",
       "      <td>13.96</td>\n",
       "      <td>9.18</td>\n",
       "      <td>2.93</td>\n",
       "      <td>2.84</td>\n",
       "      <td>58.0</td>\n",
       "      <td>6.6</td>\n",
       "      <td>E</td>\n",
       "    </tr>\n",
       "    <tr>\n",
       "      <th>8</th>\n",
       "      <td>New Super Mario Bros. Wii</td>\n",
       "      <td>Wii</td>\n",
       "      <td>2009.0</td>\n",
       "      <td>Platform</td>\n",
       "      <td>14.44</td>\n",
       "      <td>6.94</td>\n",
       "      <td>4.70</td>\n",
       "      <td>2.24</td>\n",
       "      <td>87.0</td>\n",
       "      <td>8.4</td>\n",
       "      <td>E</td>\n",
       "    </tr>\n",
       "    <tr>\n",
       "      <th>9</th>\n",
       "      <td>Duck Hunt</td>\n",
       "      <td>NES</td>\n",
       "      <td>1984.0</td>\n",
       "      <td>Shooter</td>\n",
       "      <td>26.93</td>\n",
       "      <td>0.63</td>\n",
       "      <td>0.28</td>\n",
       "      <td>0.47</td>\n",
       "      <td>NaN</td>\n",
       "      <td>NaN</td>\n",
       "      <td>NaN</td>\n",
       "    </tr>\n",
       "  </tbody>\n",
       "</table>\n",
       "</div>"
      ],
      "text/plain": [
       "                        Name Platform  Year_of_Release         Genre  \\\n",
       "0                 Wii Sports      Wii           2006.0        Sports   \n",
       "1          Super Mario Bros.      NES           1985.0      Platform   \n",
       "2             Mario Kart Wii      Wii           2008.0        Racing   \n",
       "3          Wii Sports Resort      Wii           2009.0        Sports   \n",
       "4   Pokemon Red/Pokemon Blue       GB           1996.0  Role-Playing   \n",
       "5                     Tetris       GB           1989.0        Puzzle   \n",
       "6      New Super Mario Bros.       DS           2006.0      Platform   \n",
       "7                   Wii Play      Wii           2006.0          Misc   \n",
       "8  New Super Mario Bros. Wii      Wii           2009.0      Platform   \n",
       "9                  Duck Hunt      NES           1984.0       Shooter   \n",
       "\n",
       "   NA_sales  EU_sales  JP_sales  Other_sales  Critic_Score User_Score Rating  \n",
       "0     41.36     28.96      3.77         8.45          76.0          8      E  \n",
       "1     29.08      3.58      6.81         0.77           NaN        NaN    NaN  \n",
       "2     15.68     12.76      3.79         3.29          82.0        8.3      E  \n",
       "3     15.61     10.93      3.28         2.95          80.0          8      E  \n",
       "4     11.27      8.89     10.22         1.00           NaN        NaN    NaN  \n",
       "5     23.20      2.26      4.22         0.58           NaN        NaN    NaN  \n",
       "6     11.28      9.14      6.50         2.88          89.0        8.5      E  \n",
       "7     13.96      9.18      2.93         2.84          58.0        6.6      E  \n",
       "8     14.44      6.94      4.70         2.24          87.0        8.4      E  \n",
       "9     26.93      0.63      0.28         0.47           NaN        NaN    NaN  "
      ]
     },
     "execution_count": 4,
     "metadata": {},
     "output_type": "execute_result"
    }
   ],
   "source": [
    "games_info.head(10)"
   ]
  },
  {
   "cell_type": "markdown",
   "metadata": {},
   "source": [
    "В датасете есть моменты которые стоит подправить на следующем шаге, а именно -  названия столбцов, также необходимо измененить типы данных в некоторых из них. Присустсвуют пропуски - нужно разобраться возможно ли их заполнить или оставить не тронутыми."
   ]
  },
  {
   "cell_type": "markdown",
   "metadata": {},
   "source": [
    "### Предобработка данных"
   ]
  },
  {
   "cell_type": "markdown",
   "metadata": {},
   "source": [
    "#### Переименование столбцов"
   ]
  },
  {
   "cell_type": "markdown",
   "metadata": {},
   "source": [
    "Начнем с названий столбцов, их необходимо привести к нижнему регистру с помощью метода ***str.lower()***, что является правилом хорошего тона при работе с данными. "
   ]
  },
  {
   "cell_type": "code",
   "execution_count": 5,
   "metadata": {},
   "outputs": [],
   "source": [
    "games_info.columns = games_info.columns.str.lower()"
   ]
  },
  {
   "cell_type": "markdown",
   "metadata": {},
   "source": [
    "#### Изменение типов данных"
   ]
  },
  {
   "cell_type": "markdown",
   "metadata": {},
   "source": [
    "Для начала изменим тип данных столбца ***year_of_release*** с вещественногго ***float***, на целочисленный ***int*** c помощью метода ***astype('Int64')***, который позволит сохранить значения ***NaN***, так как этот столбец имеет пропуски. Этот шаг сделает данные более логичными, так как год выпуска может быть только целым числом."
   ]
  },
  {
   "cell_type": "code",
   "execution_count": 6,
   "metadata": {},
   "outputs": [],
   "source": [
    "games_info['year_of_release'] = games_info['year_of_release'].astype('Int64')"
   ]
  },
  {
   "cell_type": "markdown",
   "metadata": {},
   "source": [
    "Теперь обратимся к столбцу ***critic_score***, по первым нескольким строкам не совсем понятно содержит столбце вещественные или целочисленные показатели. Поэтому перед изменением типа данных посмотри какие значения представленым в этом столбце через метод ***unique()***."
   ]
  },
  {
   "cell_type": "code",
   "execution_count": 7,
   "metadata": {},
   "outputs": [
    {
     "name": "stdout",
     "output_type": "stream",
     "text": [
      "[76. nan 82. 80. 89. 58. 87. 91. 61. 97. 95. 77. 88. 83. 94. 93. 85. 86.\n",
      " 98. 96. 90. 84. 73. 74. 78. 92. 71. 72. 68. 62. 49. 67. 81. 66. 56. 79.\n",
      " 70. 59. 64. 75. 60. 63. 69. 50. 25. 42. 44. 55. 48. 57. 29. 47. 65. 54.\n",
      " 20. 53. 37. 38. 33. 52. 30. 32. 43. 45. 51. 40. 46. 39. 34. 35. 41. 36.\n",
      " 28. 31. 27. 26. 19. 23. 24. 21. 17. 22. 13.]\n"
     ]
    }
   ],
   "source": [
    "print(games_info['critic_score'].unique())"
   ]
  },
  {
   "cell_type": "markdown",
   "metadata": {},
   "source": [
    "Все значенния, кроме NaN это целые числа, и кажется что изменение типа данных столбца ***critic_score*** с ***float*** на ***int*** было бы логично. Но забегая немного вперед, лучщше оставить этот показатель в текущем виде на результат исследования это не повлияет,  а вот изменеие типа данных на int может помешать нам при дальнейших шагах исследования."
   ]
  },
  {
   "cell_type": "markdown",
   "metadata": {},
   "source": [
    "Далее обработаем столбец ***user_score***, но предварительно посмотрим значения данного столбца с помощью метода ***unique()***."
   ]
  },
  {
   "cell_type": "code",
   "execution_count": 8,
   "metadata": {},
   "outputs": [
    {
     "name": "stdout",
     "output_type": "stream",
     "text": [
      "['8' nan '8.3' '8.5' '6.6' '8.4' '8.6' '7.7' '6.3' '7.4' '8.2' '9' '7.9'\n",
      " '8.1' '8.7' '7.1' '3.4' '5.3' '4.8' '3.2' '8.9' '6.4' '7.8' '7.5' '2.6'\n",
      " '7.2' '9.2' '7' '7.3' '4.3' '7.6' '5.7' '5' '9.1' '6.5' 'tbd' '8.8' '6.9'\n",
      " '9.4' '6.8' '6.1' '6.7' '5.4' '4' '4.9' '4.5' '9.3' '6.2' '4.2' '6' '3.7'\n",
      " '4.1' '5.8' '5.6' '5.5' '4.4' '4.6' '5.9' '3.9' '3.1' '2.9' '5.2' '3.3'\n",
      " '4.7' '5.1' '3.5' '2.5' '1.9' '3' '2.7' '2.2' '2' '9.5' '2.1' '3.6' '2.8'\n",
      " '1.8' '3.8' '0' '1.6' '9.6' '2.4' '1.7' '1.1' '0.3' '1.5' '0.7' '1.2'\n",
      " '2.3' '0.5' '1.3' '0.2' '0.6' '1.4' '0.9' '1' '9.7']\n"
     ]
    }
   ],
   "source": [
    "print(games_info['user_score'].unique())"
   ]
  },
  {
   "cell_type": "markdown",
   "metadata": {},
   "source": [
    "В глаза бросается аббревиатура ***tbd***. Посмотрим на количество таких строк где присутствет данное значение."
   ]
  },
  {
   "cell_type": "code",
   "execution_count": 9,
   "metadata": {},
   "outputs": [
    {
     "data": {
      "text/html": [
       "<div>\n",
       "<style scoped>\n",
       "    .dataframe tbody tr th:only-of-type {\n",
       "        vertical-align: middle;\n",
       "    }\n",
       "\n",
       "    .dataframe tbody tr th {\n",
       "        vertical-align: top;\n",
       "    }\n",
       "\n",
       "    .dataframe thead th {\n",
       "        text-align: right;\n",
       "    }\n",
       "</style>\n",
       "<table border=\"1\" class=\"dataframe\">\n",
       "  <thead>\n",
       "    <tr style=\"text-align: right;\">\n",
       "      <th></th>\n",
       "      <th>name</th>\n",
       "      <th>platform</th>\n",
       "      <th>year_of_release</th>\n",
       "      <th>genre</th>\n",
       "      <th>na_sales</th>\n",
       "      <th>eu_sales</th>\n",
       "      <th>jp_sales</th>\n",
       "      <th>other_sales</th>\n",
       "      <th>critic_score</th>\n",
       "      <th>user_score</th>\n",
       "      <th>rating</th>\n",
       "    </tr>\n",
       "  </thead>\n",
       "  <tbody>\n",
       "    <tr>\n",
       "      <th>119</th>\n",
       "      <td>Zumba Fitness</td>\n",
       "      <td>Wii</td>\n",
       "      <td>2010</td>\n",
       "      <td>Sports</td>\n",
       "      <td>3.45</td>\n",
       "      <td>2.59</td>\n",
       "      <td>0.0</td>\n",
       "      <td>0.66</td>\n",
       "      <td>NaN</td>\n",
       "      <td>tbd</td>\n",
       "      <td>E</td>\n",
       "    </tr>\n",
       "    <tr>\n",
       "      <th>301</th>\n",
       "      <td>Namco Museum: 50th Anniversary</td>\n",
       "      <td>PS2</td>\n",
       "      <td>2005</td>\n",
       "      <td>Misc</td>\n",
       "      <td>2.08</td>\n",
       "      <td>1.35</td>\n",
       "      <td>0.0</td>\n",
       "      <td>0.54</td>\n",
       "      <td>61.0</td>\n",
       "      <td>tbd</td>\n",
       "      <td>E10+</td>\n",
       "    </tr>\n",
       "    <tr>\n",
       "      <th>520</th>\n",
       "      <td>Zumba Fitness 2</td>\n",
       "      <td>Wii</td>\n",
       "      <td>2011</td>\n",
       "      <td>Sports</td>\n",
       "      <td>1.51</td>\n",
       "      <td>1.03</td>\n",
       "      <td>0.0</td>\n",
       "      <td>0.27</td>\n",
       "      <td>NaN</td>\n",
       "      <td>tbd</td>\n",
       "      <td>T</td>\n",
       "    </tr>\n",
       "    <tr>\n",
       "      <th>645</th>\n",
       "      <td>uDraw Studio</td>\n",
       "      <td>Wii</td>\n",
       "      <td>2010</td>\n",
       "      <td>Misc</td>\n",
       "      <td>1.65</td>\n",
       "      <td>0.57</td>\n",
       "      <td>0.0</td>\n",
       "      <td>0.20</td>\n",
       "      <td>71.0</td>\n",
       "      <td>tbd</td>\n",
       "      <td>E</td>\n",
       "    </tr>\n",
       "    <tr>\n",
       "      <th>657</th>\n",
       "      <td>Frogger's Adventures: Temple of the Frog</td>\n",
       "      <td>GBA</td>\n",
       "      <td>&lt;NA&gt;</td>\n",
       "      <td>Adventure</td>\n",
       "      <td>2.15</td>\n",
       "      <td>0.18</td>\n",
       "      <td>0.0</td>\n",
       "      <td>0.07</td>\n",
       "      <td>73.0</td>\n",
       "      <td>tbd</td>\n",
       "      <td>E</td>\n",
       "    </tr>\n",
       "    <tr>\n",
       "      <th>...</th>\n",
       "      <td>...</td>\n",
       "      <td>...</td>\n",
       "      <td>...</td>\n",
       "      <td>...</td>\n",
       "      <td>...</td>\n",
       "      <td>...</td>\n",
       "      <td>...</td>\n",
       "      <td>...</td>\n",
       "      <td>...</td>\n",
       "      <td>...</td>\n",
       "      <td>...</td>\n",
       "    </tr>\n",
       "    <tr>\n",
       "      <th>16695</th>\n",
       "      <td>Planet Monsters</td>\n",
       "      <td>GBA</td>\n",
       "      <td>2001</td>\n",
       "      <td>Action</td>\n",
       "      <td>0.01</td>\n",
       "      <td>0.00</td>\n",
       "      <td>0.0</td>\n",
       "      <td>0.00</td>\n",
       "      <td>67.0</td>\n",
       "      <td>tbd</td>\n",
       "      <td>E</td>\n",
       "    </tr>\n",
       "    <tr>\n",
       "      <th>16697</th>\n",
       "      <td>Bust-A-Move 3000</td>\n",
       "      <td>GC</td>\n",
       "      <td>2003</td>\n",
       "      <td>Puzzle</td>\n",
       "      <td>0.01</td>\n",
       "      <td>0.00</td>\n",
       "      <td>0.0</td>\n",
       "      <td>0.00</td>\n",
       "      <td>53.0</td>\n",
       "      <td>tbd</td>\n",
       "      <td>E</td>\n",
       "    </tr>\n",
       "    <tr>\n",
       "      <th>16698</th>\n",
       "      <td>Mega Brain Boost</td>\n",
       "      <td>DS</td>\n",
       "      <td>2008</td>\n",
       "      <td>Puzzle</td>\n",
       "      <td>0.01</td>\n",
       "      <td>0.00</td>\n",
       "      <td>0.0</td>\n",
       "      <td>0.00</td>\n",
       "      <td>48.0</td>\n",
       "      <td>tbd</td>\n",
       "      <td>E</td>\n",
       "    </tr>\n",
       "    <tr>\n",
       "      <th>16704</th>\n",
       "      <td>Plushees</td>\n",
       "      <td>DS</td>\n",
       "      <td>2008</td>\n",
       "      <td>Simulation</td>\n",
       "      <td>0.01</td>\n",
       "      <td>0.00</td>\n",
       "      <td>0.0</td>\n",
       "      <td>0.00</td>\n",
       "      <td>NaN</td>\n",
       "      <td>tbd</td>\n",
       "      <td>E</td>\n",
       "    </tr>\n",
       "    <tr>\n",
       "      <th>16706</th>\n",
       "      <td>Men in Black II: Alien Escape</td>\n",
       "      <td>GC</td>\n",
       "      <td>2003</td>\n",
       "      <td>Shooter</td>\n",
       "      <td>0.01</td>\n",
       "      <td>0.00</td>\n",
       "      <td>0.0</td>\n",
       "      <td>0.00</td>\n",
       "      <td>NaN</td>\n",
       "      <td>tbd</td>\n",
       "      <td>T</td>\n",
       "    </tr>\n",
       "  </tbody>\n",
       "</table>\n",
       "<p>2424 rows × 11 columns</p>\n",
       "</div>"
      ],
      "text/plain": [
       "                                           name platform  year_of_release  \\\n",
       "119                               Zumba Fitness      Wii             2010   \n",
       "301              Namco Museum: 50th Anniversary      PS2             2005   \n",
       "520                             Zumba Fitness 2      Wii             2011   \n",
       "645                                uDraw Studio      Wii             2010   \n",
       "657    Frogger's Adventures: Temple of the Frog      GBA             <NA>   \n",
       "...                                         ...      ...              ...   \n",
       "16695                           Planet Monsters      GBA             2001   \n",
       "16697                          Bust-A-Move 3000       GC             2003   \n",
       "16698                          Mega Brain Boost       DS             2008   \n",
       "16704                                  Plushees       DS             2008   \n",
       "16706             Men in Black II: Alien Escape       GC             2003   \n",
       "\n",
       "            genre  na_sales  eu_sales  jp_sales  other_sales  critic_score  \\\n",
       "119        Sports      3.45      2.59       0.0         0.66           NaN   \n",
       "301          Misc      2.08      1.35       0.0         0.54          61.0   \n",
       "520        Sports      1.51      1.03       0.0         0.27           NaN   \n",
       "645          Misc      1.65      0.57       0.0         0.20          71.0   \n",
       "657     Adventure      2.15      0.18       0.0         0.07          73.0   \n",
       "...           ...       ...       ...       ...          ...           ...   \n",
       "16695      Action      0.01      0.00       0.0         0.00          67.0   \n",
       "16697      Puzzle      0.01      0.00       0.0         0.00          53.0   \n",
       "16698      Puzzle      0.01      0.00       0.0         0.00          48.0   \n",
       "16704  Simulation      0.01      0.00       0.0         0.00           NaN   \n",
       "16706     Shooter      0.01      0.00       0.0         0.00           NaN   \n",
       "\n",
       "      user_score rating  \n",
       "119          tbd      E  \n",
       "301          tbd   E10+  \n",
       "520          tbd      T  \n",
       "645          tbd      E  \n",
       "657          tbd      E  \n",
       "...          ...    ...  \n",
       "16695        tbd      E  \n",
       "16697        tbd      E  \n",
       "16698        tbd      E  \n",
       "16704        tbd      E  \n",
       "16706        tbd      T  \n",
       "\n",
       "[2424 rows x 11 columns]"
      ]
     },
     "execution_count": 9,
     "metadata": {},
     "output_type": "execute_result"
    }
   ],
   "source": [
    "filtered_games_info = games_info[games_info['user_score'] == 'tbd']\n",
    "filtered_games_info"
   ]
  },
  {
   "cell_type": "markdown",
   "metadata": {},
   "source": [
    "По информации из открытых источников модно выяснить что аббревиатура ***tbd*** расшифровывается как выражений «to be decision» или «to be determine» в переводе когда что-то еще не решено или еще неизвестно. Для нашего исследования это все равно что отсутствующие значения поэтому модно привести их к виду Nan."
   ]
  },
  {
   "cell_type": "markdown",
   "metadata": {},
   "source": [
    "Оценка пользователей варьируется от 0 до 10 с дробными значениями, а значит справедливо будет изменить формат данных object на вещественный float. Так как в данных присутствуют пропуски и иные значения кроме числовых, использовать стоит функцию ***pd.to_numeric*** c параметром ***errors='coerce'***."
   ]
  },
  {
   "cell_type": "code",
   "execution_count": 10,
   "metadata": {},
   "outputs": [],
   "source": [
    "games_info['user_score'] = pd.to_numeric(games_info['user_score'], errors='coerce')"
   ]
  },
  {
   "cell_type": "markdown",
   "metadata": {},
   "source": [
    "И посмотрим на данные столбца ***rating*** и опеределим стоит ли менять в нем тип данных."
   ]
  },
  {
   "cell_type": "code",
   "execution_count": 11,
   "metadata": {},
   "outputs": [
    {
     "name": "stdout",
     "output_type": "stream",
     "text": [
      "['E' nan 'M' 'T' 'E10+' 'K-A' 'AO' 'EC' 'RP']\n"
     ]
    }
   ],
   "source": [
    "print(games_info['rating'].unique())"
   ]
  },
  {
   "cell_type": "markdown",
   "metadata": {},
   "source": [
    "В столбце представленно ограниченное значение переменных для обозначения рейтинга, в том числе и пропущенные значения Nan, поэтому для преобразования типа данных с ***object*** на ***category*** подойдет метод ***astype()***, которы позволит сохранить строки с пропущенными значениями и упростить работу с данным столбцом в дальнейшем. Но перед этим для тех игр у которых пропущен рейтинг, заменим пропуски в столбце ***rating*** значением ***unknown***."
   ]
  },
  {
   "cell_type": "code",
   "execution_count": 12,
   "metadata": {},
   "outputs": [],
   "source": [
    "games_info['rating'] = games_info['rating'].fillna('unknown')"
   ]
  },
  {
   "cell_type": "code",
   "execution_count": 13,
   "metadata": {},
   "outputs": [],
   "source": [
    "games_info['rating'] = games_info['rating'].astype('category')"
   ]
  },
  {
   "cell_type": "markdown",
   "metadata": {},
   "source": [
    "#### Обработка пропущенных значений"
   ]
  },
  {
   "cell_type": "markdown",
   "metadata": {},
   "source": [
    "Для начала посмотрим на количесво пропусков в данных."
   ]
  },
  {
   "cell_type": "code",
   "execution_count": 14,
   "metadata": {},
   "outputs": [
    {
     "data": {
      "text/plain": [
       "name                  2\n",
       "platform              0\n",
       "year_of_release     269\n",
       "genre                 2\n",
       "na_sales              0\n",
       "eu_sales              0\n",
       "jp_sales              0\n",
       "other_sales           0\n",
       "critic_score       8578\n",
       "user_score         9125\n",
       "rating                0\n",
       "dtype: int64"
      ]
     },
     "execution_count": 14,
     "metadata": {},
     "output_type": "execute_result"
    }
   ],
   "source": [
    "games_info.isna().sum()"
   ]
  },
  {
   "cell_type": "markdown",
   "metadata": {},
   "source": [
    "Отобразим пропуски в таблице визуально и в процентном соотношении."
   ]
  },
  {
   "cell_type": "code",
   "execution_count": 15,
   "metadata": {},
   "outputs": [
    {
     "name": "stdout",
     "output_type": "stream",
     "text": [
      "None\n"
     ]
    },
    {
     "data": {
      "image/png": "[encoded data removed]",
      "text/plain": [
       "<Figure size 720x432 with 1 Axes>"
      ]
     },
     "metadata": {
      "needs_background": "light"
     },
     "output_type": "display_data"
    }
   ],
   "source": [
    "def pass_value_barh(data):\n",
    "    try:\n",
    "        (\n",
    "            (games_info.isna().mean()*100)\n",
    "            .to_frame()\n",
    "            .rename(columns = {0:'space'})\n",
    "            .query('space > 0')\n",
    "            .sort_values(by = 'space', ascending = True)\n",
    "            .plot(kind = 'barh', figsize = (10,6), legend = False, color = 'lightgreen', edgecolor='black')               \n",
    "\n",
    "        );\n",
    "        plt.title('Пропущенные значения, %' + \"\\n\", fontsize=15)\n",
    "        plt.xlabel('Процент пропусков', fontsize=10)\n",
    "        plt.ylabel('Столбцы с пропусками',fontsize=10)\n",
    "        plt.xlim(0, 100)\n",
    "        plt.xticks(np.arange(0, 100, step=10))\n",
    "        plt.tight_layout()\n",
    "        plt.grid(axis='x')\n",
    "    except:\n",
    "        print('пропусков нет или произошла ошибка')\n",
    "        \n",
    "print(pass_value_barh(games_info))"
   ]
  },
  {
   "cell_type": "markdown",
   "metadata": {},
   "source": [
    "Итак, в таблице присутствуют пропуски:   \n",
    "\n",
    "- в столбце ***user_score*** около 55% пропусков - 9125;  \n",
    "- в столбце ***critic_score*** около 52% пропусков - 8576; \n",
    "- в столбце ***year_of_release*** около 1,5% пропусков - 269;\n",
    "- в столбце ***name*** менее 0,1% пропусков - 2;\n",
    "- в столбце ***genre*** менее 0,1% пропусков - 2"
   ]
  },
  {
   "cell_type": "markdown",
   "metadata": {},
   "source": [
    "Строки с пропущенными значениями в столбцах ***year_of_release***, ***genre*** и ***name*** менее 2% от общего числа данных и эти строки мы можем удалить."
   ]
  },
  {
   "cell_type": "code",
   "execution_count": 16,
   "metadata": {},
   "outputs": [],
   "source": [
    "games_info.dropna(subset=['year_of_release', 'name', 'genre'], inplace=True)"
   ]
  },
  {
   "cell_type": "markdown",
   "metadata": {},
   "source": [
    "Теперь обратимся к стобцу ***rating*** в котором стоят значения присваивающие определенную возрастную категорию игре. Можно предположить что оценка выставляется в зависимости от жанра игры. Посмотрим какие рейтинги присваивались каждому жанру. Для этого сгруппируем данные при помощи метода ***groupby()*** и ***apply(list)*** чтобы собрать рейтинги в списки. "
   ]
  },
  {
   "cell_type": "code",
   "execution_count": 17,
   "metadata": {},
   "outputs": [
    {
     "name": "stdout",
     "output_type": "stream",
     "text": [
      "           genre                                             rating\n",
      "0         Action  [M, M, M, M, M, M, unknown, M, M, E, M, unknow...\n",
      "1      Adventure  [unknown, M, M, unknown, unknown, M, E, M, unk...\n",
      "2       Fighting  [T, unknown, T, T, unknown, T, unknown, unknow...\n",
      "3           Misc  [E, E, E, E10+, E10+, unknown, E, E, E, E10+, ...\n",
      "4       Platform  [unknown, E, E, unknown, unknown, unknown, unk...\n",
      "5         Puzzle  [unknown, E, unknown, unknown, unknown, E, unk...\n",
      "6         Racing  [E, E, E, E, E, E, E, unknown, T, unknown, E, ...\n",
      "7   Role-Playing  [unknown, unknown, unknown, unknown, unknown, ...\n",
      "8        Shooter  [unknown, M, unknown, M, M, M, M, M, M, M, M, ...\n",
      "9     Simulation  [unknown, E, E, T, E, unknown, unknown, E, unk...\n",
      "10        Sports  [E, E, E, E, E, unknown, E, E, unknown, E, E10...\n",
      "11      Strategy  [unknown, unknown, T, unknown, unknown, unknow...\n"
     ]
    }
   ],
   "source": [
    "ratings_by_genre = games_info.groupby('genre')['rating'].apply(list).reset_index()\n",
    "print(ratings_by_genre)"
   ]
  },
  {
   "cell_type": "markdown",
   "metadata": {},
   "source": [
    "Для каждого жанра могут быть разные категории.  В виду того что есть определенный алгоритм присвоения той или иной возрастной категории поэтому оставим пропуски с данном столбце значением 'unknown'.   \n",
    "Причиной возникновения пропусков могут быть не полные данные, так как информацию брали из открытых источников которые могли не обновлять присвоенный рейтинг игре, после публикации данных. Также возможно устаревание классификации и при обновлении данных старые классификаторы не отображаются."
   ]
  },
  {
   "cell_type": "markdown",
   "metadata": {},
   "source": [
    "Данные в столбцах ***critic_score*** и ***user_score*** заполнять не будем, так как при заполнении велика вероятность исказить показатели что может только помешать дальнейшему исследованию."
   ]
  },
  {
   "cell_type": "markdown",
   "metadata": {},
   "source": [
    "Добавим столбец с сумарными продажами во всех регионах и присвоим ему название ***total_sales***."
   ]
  },
  {
   "cell_type": "code",
   "execution_count": 18,
   "metadata": {},
   "outputs": [],
   "source": [
    "games_info['total_sales'] = games_info[['na_sales', 'eu_sales', 'jp_sales', 'other_sales']].sum(axis=1)"
   ]
  },
  {
   "cell_type": "code",
   "execution_count": 19,
   "metadata": {},
   "outputs": [
    {
     "data": {
      "text/html": [
       "<div>\n",
       "<style scoped>\n",
       "    .dataframe tbody tr th:only-of-type {\n",
       "        vertical-align: middle;\n",
       "    }\n",
       "\n",
       "    .dataframe tbody tr th {\n",
       "        vertical-align: top;\n",
       "    }\n",
       "\n",
       "    .dataframe thead th {\n",
       "        text-align: right;\n",
       "    }\n",
       "</style>\n",
       "<table border=\"1\" class=\"dataframe\">\n",
       "  <thead>\n",
       "    <tr style=\"text-align: right;\">\n",
       "      <th></th>\n",
       "      <th>name</th>\n",
       "      <th>platform</th>\n",
       "      <th>year_of_release</th>\n",
       "      <th>genre</th>\n",
       "      <th>na_sales</th>\n",
       "      <th>eu_sales</th>\n",
       "      <th>jp_sales</th>\n",
       "      <th>other_sales</th>\n",
       "      <th>critic_score</th>\n",
       "      <th>user_score</th>\n",
       "      <th>rating</th>\n",
       "      <th>total_sales</th>\n",
       "    </tr>\n",
       "  </thead>\n",
       "  <tbody>\n",
       "    <tr>\n",
       "      <th>0</th>\n",
       "      <td>Wii Sports</td>\n",
       "      <td>Wii</td>\n",
       "      <td>2006</td>\n",
       "      <td>Sports</td>\n",
       "      <td>41.36</td>\n",
       "      <td>28.96</td>\n",
       "      <td>3.77</td>\n",
       "      <td>8.45</td>\n",
       "      <td>76.0</td>\n",
       "      <td>8.0</td>\n",
       "      <td>E</td>\n",
       "      <td>82.54</td>\n",
       "    </tr>\n",
       "    <tr>\n",
       "      <th>1</th>\n",
       "      <td>Super Mario Bros.</td>\n",
       "      <td>NES</td>\n",
       "      <td>1985</td>\n",
       "      <td>Platform</td>\n",
       "      <td>29.08</td>\n",
       "      <td>3.58</td>\n",
       "      <td>6.81</td>\n",
       "      <td>0.77</td>\n",
       "      <td>NaN</td>\n",
       "      <td>NaN</td>\n",
       "      <td>unknown</td>\n",
       "      <td>40.24</td>\n",
       "    </tr>\n",
       "    <tr>\n",
       "      <th>2</th>\n",
       "      <td>Mario Kart Wii</td>\n",
       "      <td>Wii</td>\n",
       "      <td>2008</td>\n",
       "      <td>Racing</td>\n",
       "      <td>15.68</td>\n",
       "      <td>12.76</td>\n",
       "      <td>3.79</td>\n",
       "      <td>3.29</td>\n",
       "      <td>82.0</td>\n",
       "      <td>8.3</td>\n",
       "      <td>E</td>\n",
       "      <td>35.52</td>\n",
       "    </tr>\n",
       "    <tr>\n",
       "      <th>3</th>\n",
       "      <td>Wii Sports Resort</td>\n",
       "      <td>Wii</td>\n",
       "      <td>2009</td>\n",
       "      <td>Sports</td>\n",
       "      <td>15.61</td>\n",
       "      <td>10.93</td>\n",
       "      <td>3.28</td>\n",
       "      <td>2.95</td>\n",
       "      <td>80.0</td>\n",
       "      <td>8.0</td>\n",
       "      <td>E</td>\n",
       "      <td>32.77</td>\n",
       "    </tr>\n",
       "    <tr>\n",
       "      <th>4</th>\n",
       "      <td>Pokemon Red/Pokemon Blue</td>\n",
       "      <td>GB</td>\n",
       "      <td>1996</td>\n",
       "      <td>Role-Playing</td>\n",
       "      <td>11.27</td>\n",
       "      <td>8.89</td>\n",
       "      <td>10.22</td>\n",
       "      <td>1.00</td>\n",
       "      <td>NaN</td>\n",
       "      <td>NaN</td>\n",
       "      <td>unknown</td>\n",
       "      <td>31.38</td>\n",
       "    </tr>\n",
       "    <tr>\n",
       "      <th>5</th>\n",
       "      <td>Tetris</td>\n",
       "      <td>GB</td>\n",
       "      <td>1989</td>\n",
       "      <td>Puzzle</td>\n",
       "      <td>23.20</td>\n",
       "      <td>2.26</td>\n",
       "      <td>4.22</td>\n",
       "      <td>0.58</td>\n",
       "      <td>NaN</td>\n",
       "      <td>NaN</td>\n",
       "      <td>unknown</td>\n",
       "      <td>30.26</td>\n",
       "    </tr>\n",
       "    <tr>\n",
       "      <th>6</th>\n",
       "      <td>New Super Mario Bros.</td>\n",
       "      <td>DS</td>\n",
       "      <td>2006</td>\n",
       "      <td>Platform</td>\n",
       "      <td>11.28</td>\n",
       "      <td>9.14</td>\n",
       "      <td>6.50</td>\n",
       "      <td>2.88</td>\n",
       "      <td>89.0</td>\n",
       "      <td>8.5</td>\n",
       "      <td>E</td>\n",
       "      <td>29.80</td>\n",
       "    </tr>\n",
       "    <tr>\n",
       "      <th>7</th>\n",
       "      <td>Wii Play</td>\n",
       "      <td>Wii</td>\n",
       "      <td>2006</td>\n",
       "      <td>Misc</td>\n",
       "      <td>13.96</td>\n",
       "      <td>9.18</td>\n",
       "      <td>2.93</td>\n",
       "      <td>2.84</td>\n",
       "      <td>58.0</td>\n",
       "      <td>6.6</td>\n",
       "      <td>E</td>\n",
       "      <td>28.91</td>\n",
       "    </tr>\n",
       "    <tr>\n",
       "      <th>8</th>\n",
       "      <td>New Super Mario Bros. Wii</td>\n",
       "      <td>Wii</td>\n",
       "      <td>2009</td>\n",
       "      <td>Platform</td>\n",
       "      <td>14.44</td>\n",
       "      <td>6.94</td>\n",
       "      <td>4.70</td>\n",
       "      <td>2.24</td>\n",
       "      <td>87.0</td>\n",
       "      <td>8.4</td>\n",
       "      <td>E</td>\n",
       "      <td>28.32</td>\n",
       "    </tr>\n",
       "    <tr>\n",
       "      <th>9</th>\n",
       "      <td>Duck Hunt</td>\n",
       "      <td>NES</td>\n",
       "      <td>1984</td>\n",
       "      <td>Shooter</td>\n",
       "      <td>26.93</td>\n",
       "      <td>0.63</td>\n",
       "      <td>0.28</td>\n",
       "      <td>0.47</td>\n",
       "      <td>NaN</td>\n",
       "      <td>NaN</td>\n",
       "      <td>unknown</td>\n",
       "      <td>28.31</td>\n",
       "    </tr>\n",
       "  </tbody>\n",
       "</table>\n",
       "</div>"
      ],
      "text/plain": [
       "                        name platform  year_of_release         genre  \\\n",
       "0                 Wii Sports      Wii             2006        Sports   \n",
       "1          Super Mario Bros.      NES             1985      Platform   \n",
       "2             Mario Kart Wii      Wii             2008        Racing   \n",
       "3          Wii Sports Resort      Wii             2009        Sports   \n",
       "4   Pokemon Red/Pokemon Blue       GB             1996  Role-Playing   \n",
       "5                     Tetris       GB             1989        Puzzle   \n",
       "6      New Super Mario Bros.       DS             2006      Platform   \n",
       "7                   Wii Play      Wii             2006          Misc   \n",
       "8  New Super Mario Bros. Wii      Wii             2009      Platform   \n",
       "9                  Duck Hunt      NES             1984       Shooter   \n",
       "\n",
       "   na_sales  eu_sales  jp_sales  other_sales  critic_score  user_score  \\\n",
       "0     41.36     28.96      3.77         8.45          76.0         8.0   \n",
       "1     29.08      3.58      6.81         0.77           NaN         NaN   \n",
       "2     15.68     12.76      3.79         3.29          82.0         8.3   \n",
       "3     15.61     10.93      3.28         2.95          80.0         8.0   \n",
       "4     11.27      8.89     10.22         1.00           NaN         NaN   \n",
       "5     23.20      2.26      4.22         0.58           NaN         NaN   \n",
       "6     11.28      9.14      6.50         2.88          89.0         8.5   \n",
       "7     13.96      9.18      2.93         2.84          58.0         6.6   \n",
       "8     14.44      6.94      4.70         2.24          87.0         8.4   \n",
       "9     26.93      0.63      0.28         0.47           NaN         NaN   \n",
       "\n",
       "    rating  total_sales  \n",
       "0        E        82.54  \n",
       "1  unknown        40.24  \n",
       "2        E        35.52  \n",
       "3        E        32.77  \n",
       "4  unknown        31.38  \n",
       "5  unknown        30.26  \n",
       "6        E        29.80  \n",
       "7        E        28.91  \n",
       "8        E        28.32  \n",
       "9  unknown        28.31  "
      ]
     },
     "execution_count": 19,
     "metadata": {},
     "output_type": "execute_result"
    }
   ],
   "source": [
    "games_info.head(10)"
   ]
  },
  {
   "cell_type": "markdown",
   "metadata": {},
   "source": [
    "Проверим таблицу на предмет строк-дубликатов."
   ]
  },
  {
   "cell_type": "code",
   "execution_count": 20,
   "metadata": {},
   "outputs": [
    {
     "data": {
      "text/plain": [
       "0"
      ]
     },
     "execution_count": 20,
     "metadata": {},
     "output_type": "execute_result"
    }
   ],
   "source": [
    "games_info.duplicated().sum()"
   ]
  },
  {
   "cell_type": "markdown",
   "metadata": {},
   "source": [
    "Проверим данные на предмет неявных дубликатов"
   ]
  },
  {
   "cell_type": "code",
   "execution_count": 21,
   "metadata": {},
   "outputs": [
    {
     "data": {
      "text/html": [
       "<div>\n",
       "<style scoped>\n",
       "    .dataframe tbody tr th:only-of-type {\n",
       "        vertical-align: middle;\n",
       "    }\n",
       "\n",
       "    .dataframe tbody tr th {\n",
       "        vertical-align: top;\n",
       "    }\n",
       "\n",
       "    .dataframe thead th {\n",
       "        text-align: right;\n",
       "    }\n",
       "</style>\n",
       "<table border=\"1\" class=\"dataframe\">\n",
       "  <thead>\n",
       "    <tr style=\"text-align: right;\">\n",
       "      <th></th>\n",
       "      <th>name</th>\n",
       "      <th>platform</th>\n",
       "      <th>year_of_release</th>\n",
       "      <th>genre</th>\n",
       "      <th>na_sales</th>\n",
       "      <th>eu_sales</th>\n",
       "      <th>jp_sales</th>\n",
       "      <th>other_sales</th>\n",
       "      <th>critic_score</th>\n",
       "      <th>user_score</th>\n",
       "      <th>rating</th>\n",
       "      <th>total_sales</th>\n",
       "    </tr>\n",
       "  </thead>\n",
       "  <tbody>\n",
       "    <tr>\n",
       "      <th>604</th>\n",
       "      <td>Madden NFL 13</td>\n",
       "      <td>PS3</td>\n",
       "      <td>2012</td>\n",
       "      <td>Sports</td>\n",
       "      <td>2.11</td>\n",
       "      <td>0.22</td>\n",
       "      <td>0.0</td>\n",
       "      <td>0.23</td>\n",
       "      <td>83.0</td>\n",
       "      <td>5.5</td>\n",
       "      <td>E</td>\n",
       "      <td>2.56</td>\n",
       "    </tr>\n",
       "    <tr>\n",
       "      <th>16230</th>\n",
       "      <td>Madden NFL 13</td>\n",
       "      <td>PS3</td>\n",
       "      <td>2012</td>\n",
       "      <td>Sports</td>\n",
       "      <td>0.00</td>\n",
       "      <td>0.01</td>\n",
       "      <td>0.0</td>\n",
       "      <td>0.00</td>\n",
       "      <td>83.0</td>\n",
       "      <td>5.5</td>\n",
       "      <td>E</td>\n",
       "      <td>0.01</td>\n",
       "    </tr>\n",
       "  </tbody>\n",
       "</table>\n",
       "</div>"
      ],
      "text/plain": [
       "                name platform  year_of_release   genre  na_sales  eu_sales  \\\n",
       "604    Madden NFL 13      PS3             2012  Sports      2.11      0.22   \n",
       "16230  Madden NFL 13      PS3             2012  Sports      0.00      0.01   \n",
       "\n",
       "       jp_sales  other_sales  critic_score  user_score rating  total_sales  \n",
       "604         0.0         0.23          83.0         5.5      E         2.56  \n",
       "16230       0.0         0.00          83.0         5.5      E         0.01  "
      ]
     },
     "execution_count": 21,
     "metadata": {},
     "output_type": "execute_result"
    }
   ],
   "source": [
    "games_info[games_info[['name', 'platform','year_of_release']].duplicated(keep=False)]"
   ]
  },
  {
   "cell_type": "markdown",
   "metadata": {},
   "source": [
    "Вероятно что строка с индексом 16230 частично дублирует строку 604, поэтому удалим ее из датасета."
   ]
  },
  {
   "cell_type": "code",
   "execution_count": 22,
   "metadata": {},
   "outputs": [],
   "source": [
    "games_info.drop_duplicates(subset='name', keep='first', inplace=True)"
   ]
  },
  {
   "cell_type": "markdown",
   "metadata": {},
   "source": [
    "***Промежуточный вывод по разделу:*** \n",
    "\n",
    "В процессе изучения и предобработки данных выполнены следующие шаги:  \n",
    "1. Изменены названия всех столбцов - а именно, приведены к написанию нижним регистром.\n",
    "2. Изменен тип данных в следующих столбцах:\n",
    "- ***year_of_release*** c вещественного на целочисленный;\n",
    "- ***user_score*** c object на вещественный (float);\n",
    "- ***rating*** c object на category.\n",
    "3. Удалены строки с пропусками в столбцах ***year_of_release, genre и name*** в общей сложности 273 строки - менее 2% от общего объема данных.\n",
    "4. Удалена 1 строка с неявным дубликатом игры - Madden NFL 13.\n",
    "5.Строки-дубликаты в датасете выявлены не были."
   ]
  },
  {
   "cell_type": "markdown",
   "metadata": {},
   "source": [
    "### Исследовательский анализ данных"
   ]
  },
  {
   "cell_type": "markdown",
   "metadata": {},
   "source": [
    "#### Cколько игр выпускалось в разные годы"
   ]
  },
  {
   "cell_type": "markdown",
   "metadata": {},
   "source": [
    "Для изучения данного вопроса создадим переменную ***games_in_year***, в которой сгруппируем данные по году выхода и посчитаем количество игр в каждый год. Отсортируем по возрастанию года."
   ]
  },
  {
   "cell_type": "code",
   "execution_count": 23,
   "metadata": {},
   "outputs": [
    {
     "data": {
      "text/html": [
       "<div>\n",
       "<style scoped>\n",
       "    .dataframe tbody tr th:only-of-type {\n",
       "        vertical-align: middle;\n",
       "    }\n",
       "\n",
       "    .dataframe tbody tr th {\n",
       "        vertical-align: top;\n",
       "    }\n",
       "\n",
       "    .dataframe thead th {\n",
       "        text-align: right;\n",
       "    }\n",
       "</style>\n",
       "<table border=\"1\" class=\"dataframe\">\n",
       "  <thead>\n",
       "    <tr style=\"text-align: right;\">\n",
       "      <th></th>\n",
       "      <th>year_of_release</th>\n",
       "      <th>number_of_games</th>\n",
       "    </tr>\n",
       "  </thead>\n",
       "  <tbody>\n",
       "    <tr>\n",
       "      <th>36</th>\n",
       "      <td>1980</td>\n",
       "      <td>8</td>\n",
       "    </tr>\n",
       "    <tr>\n",
       "      <th>24</th>\n",
       "      <td>1981</td>\n",
       "      <td>43</td>\n",
       "    </tr>\n",
       "    <tr>\n",
       "      <th>27</th>\n",
       "      <td>1982</td>\n",
       "      <td>33</td>\n",
       "    </tr>\n",
       "    <tr>\n",
       "      <th>29</th>\n",
       "      <td>1983</td>\n",
       "      <td>16</td>\n",
       "    </tr>\n",
       "    <tr>\n",
       "      <th>33</th>\n",
       "      <td>1984</td>\n",
       "      <td>13</td>\n",
       "    </tr>\n",
       "    <tr>\n",
       "      <th>34</th>\n",
       "      <td>1985</td>\n",
       "      <td>13</td>\n",
       "    </tr>\n",
       "    <tr>\n",
       "      <th>28</th>\n",
       "      <td>1986</td>\n",
       "      <td>21</td>\n",
       "    </tr>\n",
       "    <tr>\n",
       "      <th>30</th>\n",
       "      <td>1987</td>\n",
       "      <td>15</td>\n",
       "    </tr>\n",
       "    <tr>\n",
       "      <th>35</th>\n",
       "      <td>1988</td>\n",
       "      <td>11</td>\n",
       "    </tr>\n",
       "    <tr>\n",
       "      <th>32</th>\n",
       "      <td>1989</td>\n",
       "      <td>14</td>\n",
       "    </tr>\n",
       "    <tr>\n",
       "      <th>31</th>\n",
       "      <td>1990</td>\n",
       "      <td>14</td>\n",
       "    </tr>\n",
       "    <tr>\n",
       "      <th>25</th>\n",
       "      <td>1991</td>\n",
       "      <td>40</td>\n",
       "    </tr>\n",
       "    <tr>\n",
       "      <th>26</th>\n",
       "      <td>1992</td>\n",
       "      <td>37</td>\n",
       "    </tr>\n",
       "    <tr>\n",
       "      <th>23</th>\n",
       "      <td>1993</td>\n",
       "      <td>58</td>\n",
       "    </tr>\n",
       "    <tr>\n",
       "      <th>22</th>\n",
       "      <td>1994</td>\n",
       "      <td>112</td>\n",
       "    </tr>\n",
       "    <tr>\n",
       "      <th>21</th>\n",
       "      <td>1995</td>\n",
       "      <td>200</td>\n",
       "    </tr>\n",
       "    <tr>\n",
       "      <th>20</th>\n",
       "      <td>1996</td>\n",
       "      <td>247</td>\n",
       "    </tr>\n",
       "    <tr>\n",
       "      <th>19</th>\n",
       "      <td>1997</td>\n",
       "      <td>268</td>\n",
       "    </tr>\n",
       "    <tr>\n",
       "      <th>12</th>\n",
       "      <td>1998</td>\n",
       "      <td>347</td>\n",
       "    </tr>\n",
       "    <tr>\n",
       "      <th>15</th>\n",
       "      <td>1999</td>\n",
       "      <td>293</td>\n",
       "    </tr>\n",
       "    <tr>\n",
       "      <th>14</th>\n",
       "      <td>2000</td>\n",
       "      <td>300</td>\n",
       "    </tr>\n",
       "    <tr>\n",
       "      <th>10</th>\n",
       "      <td>2001</td>\n",
       "      <td>410</td>\n",
       "    </tr>\n",
       "    <tr>\n",
       "      <th>7</th>\n",
       "      <td>2002</td>\n",
       "      <td>573</td>\n",
       "    </tr>\n",
       "    <tr>\n",
       "      <th>9</th>\n",
       "      <td>2003</td>\n",
       "      <td>491</td>\n",
       "    </tr>\n",
       "    <tr>\n",
       "      <th>8</th>\n",
       "      <td>2004</td>\n",
       "      <td>521</td>\n",
       "    </tr>\n",
       "    <tr>\n",
       "      <th>6</th>\n",
       "      <td>2005</td>\n",
       "      <td>617</td>\n",
       "    </tr>\n",
       "    <tr>\n",
       "      <th>5</th>\n",
       "      <td>2006</td>\n",
       "      <td>729</td>\n",
       "    </tr>\n",
       "    <tr>\n",
       "      <th>3</th>\n",
       "      <td>2007</td>\n",
       "      <td>838</td>\n",
       "    </tr>\n",
       "    <tr>\n",
       "      <th>0</th>\n",
       "      <td>2008</td>\n",
       "      <td>987</td>\n",
       "    </tr>\n",
       "    <tr>\n",
       "      <th>1</th>\n",
       "      <td>2009</td>\n",
       "      <td>957</td>\n",
       "    </tr>\n",
       "    <tr>\n",
       "      <th>2</th>\n",
       "      <td>2010</td>\n",
       "      <td>862</td>\n",
       "    </tr>\n",
       "    <tr>\n",
       "      <th>4</th>\n",
       "      <td>2011</td>\n",
       "      <td>750</td>\n",
       "    </tr>\n",
       "    <tr>\n",
       "      <th>11</th>\n",
       "      <td>2012</td>\n",
       "      <td>406</td>\n",
       "    </tr>\n",
       "    <tr>\n",
       "      <th>16</th>\n",
       "      <td>2013</td>\n",
       "      <td>293</td>\n",
       "    </tr>\n",
       "    <tr>\n",
       "      <th>17</th>\n",
       "      <td>2014</td>\n",
       "      <td>279</td>\n",
       "    </tr>\n",
       "    <tr>\n",
       "      <th>13</th>\n",
       "      <td>2015</td>\n",
       "      <td>331</td>\n",
       "    </tr>\n",
       "    <tr>\n",
       "      <th>18</th>\n",
       "      <td>2016</td>\n",
       "      <td>279</td>\n",
       "    </tr>\n",
       "  </tbody>\n",
       "</table>\n",
       "</div>"
      ],
      "text/plain": [
       "    year_of_release  number_of_games\n",
       "36             1980                8\n",
       "24             1981               43\n",
       "27             1982               33\n",
       "29             1983               16\n",
       "33             1984               13\n",
       "34             1985               13\n",
       "28             1986               21\n",
       "30             1987               15\n",
       "35             1988               11\n",
       "32             1989               14\n",
       "31             1990               14\n",
       "25             1991               40\n",
       "26             1992               37\n",
       "23             1993               58\n",
       "22             1994              112\n",
       "21             1995              200\n",
       "20             1996              247\n",
       "19             1997              268\n",
       "12             1998              347\n",
       "15             1999              293\n",
       "14             2000              300\n",
       "10             2001              410\n",
       "7              2002              573\n",
       "9              2003              491\n",
       "8              2004              521\n",
       "6              2005              617\n",
       "5              2006              729\n",
       "3              2007              838\n",
       "0              2008              987\n",
       "1              2009              957\n",
       "2              2010              862\n",
       "4              2011              750\n",
       "11             2012              406\n",
       "16             2013              293\n",
       "17             2014              279\n",
       "13             2015              331\n",
       "18             2016              279"
      ]
     },
     "execution_count": 23,
     "metadata": {},
     "output_type": "execute_result"
    }
   ],
   "source": [
    "games_in_year = games_info['year_of_release'].value_counts().reset_index()\n",
    "games_in_year.columns = ['year_of_release', 'number_of_games']\n",
    "games_in_year = games_in_year.sort_values(by='year_of_release')\n",
    "games_in_year"
   ]
  },
  {
   "cell_type": "markdown",
   "metadata": {},
   "source": [
    "Список вышел достаточно большой, поэтому для удобства восприятия отобразим эти данные на графике."
   ]
  },
  {
   "cell_type": "code",
   "execution_count": 24,
   "metadata": {},
   "outputs": [
    {
     "data": {
      "image/png": "[encoded data removed]",
      "text/plain": [
       "<Figure size 1440x576 with 1 Axes>"
      ]
     },
     "metadata": {
      "needs_background": "light"
     },
     "output_type": "display_data"
    }
   ],
   "source": [
    "games_in_year.plot(x='year_of_release', y='number_of_games', kind='bar', figsize=(20, 8), legend=False, color='lightgreen', edgecolor='black')\n",
    "\n",
    "plt.title('Количество игр выпущенных в разные годы', fontsize=15)\n",
    "plt.xlabel('Год выпуска')\n",
    "plt.ylabel('Количество игр') \n",
    "plt.xticks(rotation=0) \n",
    "plt.grid(axis='y')\n",
    "\n",
    "plt.tight_layout()\n",
    "plt.show()"
   ]
  },
  {
   "cell_type": "markdown",
   "metadata": {},
   "source": [
    "***Промежуточный вывод:***\n",
    "\n",
    "График показывает, что общее количество игр, выпускаемых с течением времени, значительно увеличивалось. Например, заметно, что в 2007-2008 годах количество игр достигло своего пика (1427 игр), что свидетельствует о росте интереса и активности в игровой индустрии.  \n",
    "После пикового значения в 2008 году наблюдается постепенное снижение числа игр, что может указывать на насыщение рынка или изменение интересов аудитории. Также это модет указывать на то что с 1994 до 2008 года был резкий быстрый и активный рост технологий в создании игр, в связи с чем они выпускались в большом количестве. А вот после 2008 года появились технологии которые позволяли отображать более глубокую детализацию, требовали более сложных сюжетов и поэтому выпуск стал занимать больше времени и соответсвенно объем выпускаемых игр снизился.\n",
    "Данные обо всех годах нам не нужны, так как по сравнению с 1 годом наблюдения 1980 технические составляющие игр значительно изменились, в виду этого фактора считаю что использовать для анализа стоит данные с 2013 года."
   ]
  },
  {
   "cell_type": "markdown",
   "metadata": {},
   "source": [
    "####  За какой характерный срок появляются новые и исчезают старые платформы."
   ]
  },
  {
   "cell_type": "markdown",
   "metadata": {},
   "source": [
    "Теперь посмотрим заработок платформ представленных в нашем датасете. Сгруппируем данные по названию плтаформ и посмотри на сумму продаж каждой из них."
   ]
  },
  {
   "cell_type": "code",
   "execution_count": 25,
   "metadata": {},
   "outputs": [
    {
     "data": {
      "text/html": [
       "<div>\n",
       "<style scoped>\n",
       "    .dataframe tbody tr th:only-of-type {\n",
       "        vertical-align: middle;\n",
       "    }\n",
       "\n",
       "    .dataframe tbody tr th {\n",
       "        vertical-align: top;\n",
       "    }\n",
       "\n",
       "    .dataframe thead th {\n",
       "        text-align: right;\n",
       "    }\n",
       "</style>\n",
       "<table border=\"1\" class=\"dataframe\">\n",
       "  <thead>\n",
       "    <tr style=\"text-align: right;\">\n",
       "      <th></th>\n",
       "      <th>name_platform</th>\n",
       "      <th>sales</th>\n",
       "    </tr>\n",
       "  </thead>\n",
       "  <tbody>\n",
       "    <tr>\n",
       "      <th>16</th>\n",
       "      <td>PS2</td>\n",
       "      <td>1121.07</td>\n",
       "    </tr>\n",
       "    <tr>\n",
       "      <th>26</th>\n",
       "      <td>Wii</td>\n",
       "      <td>769.65</td>\n",
       "    </tr>\n",
       "    <tr>\n",
       "      <th>15</th>\n",
       "      <td>PS</td>\n",
       "      <td>697.10</td>\n",
       "    </tr>\n",
       "    <tr>\n",
       "      <th>4</th>\n",
       "      <td>DS</td>\n",
       "      <td>690.89</td>\n",
       "    </tr>\n",
       "    <tr>\n",
       "      <th>28</th>\n",
       "      <td>X360</td>\n",
       "      <td>569.68</td>\n",
       "    </tr>\n",
       "    <tr>\n",
       "      <th>17</th>\n",
       "      <td>PS3</td>\n",
       "      <td>524.88</td>\n",
       "    </tr>\n",
       "    <tr>\n",
       "      <th>18</th>\n",
       "      <td>PS4</td>\n",
       "      <td>255.01</td>\n",
       "    </tr>\n",
       "    <tr>\n",
       "      <th>6</th>\n",
       "      <td>GBA</td>\n",
       "      <td>242.69</td>\n",
       "    </tr>\n",
       "    <tr>\n",
       "      <th>11</th>\n",
       "      <td>NES</td>\n",
       "      <td>234.59</td>\n",
       "    </tr>\n",
       "    <tr>\n",
       "      <th>5</th>\n",
       "      <td>GB</td>\n",
       "      <td>233.85</td>\n",
       "    </tr>\n",
       "    <tr>\n",
       "      <th>2</th>\n",
       "      <td>3DS</td>\n",
       "      <td>228.10</td>\n",
       "    </tr>\n",
       "    <tr>\n",
       "      <th>19</th>\n",
       "      <td>PSP</td>\n",
       "      <td>206.16</td>\n",
       "    </tr>\n",
       "    <tr>\n",
       "      <th>23</th>\n",
       "      <td>SNES</td>\n",
       "      <td>195.91</td>\n",
       "    </tr>\n",
       "    <tr>\n",
       "      <th>10</th>\n",
       "      <td>N64</td>\n",
       "      <td>189.63</td>\n",
       "    </tr>\n",
       "    <tr>\n",
       "      <th>13</th>\n",
       "      <td>PC</td>\n",
       "      <td>174.18</td>\n",
       "    </tr>\n",
       "    <tr>\n",
       "      <th>7</th>\n",
       "      <td>GC</td>\n",
       "      <td>112.26</td>\n",
       "    </tr>\n",
       "    <tr>\n",
       "      <th>29</th>\n",
       "      <td>XB</td>\n",
       "      <td>105.81</td>\n",
       "    </tr>\n",
       "    <tr>\n",
       "      <th>0</th>\n",
       "      <td>2600</td>\n",
       "      <td>78.21</td>\n",
       "    </tr>\n",
       "    <tr>\n",
       "      <th>27</th>\n",
       "      <td>WiiU</td>\n",
       "      <td>53.95</td>\n",
       "    </tr>\n",
       "    <tr>\n",
       "      <th>20</th>\n",
       "      <td>PSV</td>\n",
       "      <td>32.61</td>\n",
       "    </tr>\n",
       "    <tr>\n",
       "      <th>30</th>\n",
       "      <td>XOne</td>\n",
       "      <td>31.82</td>\n",
       "    </tr>\n",
       "    <tr>\n",
       "      <th>21</th>\n",
       "      <td>SAT</td>\n",
       "      <td>29.68</td>\n",
       "    </tr>\n",
       "    <tr>\n",
       "      <th>8</th>\n",
       "      <td>GEN</td>\n",
       "      <td>22.77</td>\n",
       "    </tr>\n",
       "    <tr>\n",
       "      <th>3</th>\n",
       "      <td>DC</td>\n",
       "      <td>12.98</td>\n",
       "    </tr>\n",
       "    <tr>\n",
       "      <th>22</th>\n",
       "      <td>SCD</td>\n",
       "      <td>1.86</td>\n",
       "    </tr>\n",
       "    <tr>\n",
       "      <th>12</th>\n",
       "      <td>NG</td>\n",
       "      <td>1.11</td>\n",
       "    </tr>\n",
       "    <tr>\n",
       "      <th>25</th>\n",
       "      <td>WS</td>\n",
       "      <td>0.66</td>\n",
       "    </tr>\n",
       "    <tr>\n",
       "      <th>24</th>\n",
       "      <td>TG16</td>\n",
       "      <td>0.16</td>\n",
       "    </tr>\n",
       "    <tr>\n",
       "      <th>1</th>\n",
       "      <td>3DO</td>\n",
       "      <td>0.10</td>\n",
       "    </tr>\n",
       "    <tr>\n",
       "      <th>9</th>\n",
       "      <td>GG</td>\n",
       "      <td>0.04</td>\n",
       "    </tr>\n",
       "    <tr>\n",
       "      <th>14</th>\n",
       "      <td>PCFX</td>\n",
       "      <td>0.03</td>\n",
       "    </tr>\n",
       "  </tbody>\n",
       "</table>\n",
       "</div>"
      ],
      "text/plain": [
       "   name_platform    sales\n",
       "16           PS2  1121.07\n",
       "26           Wii   769.65\n",
       "15            PS   697.10\n",
       "4             DS   690.89\n",
       "28          X360   569.68\n",
       "17           PS3   524.88\n",
       "18           PS4   255.01\n",
       "6            GBA   242.69\n",
       "11           NES   234.59\n",
       "5             GB   233.85\n",
       "2            3DS   228.10\n",
       "19           PSP   206.16\n",
       "23          SNES   195.91\n",
       "10           N64   189.63\n",
       "13            PC   174.18\n",
       "7             GC   112.26\n",
       "29            XB   105.81\n",
       "0           2600    78.21\n",
       "27          WiiU    53.95\n",
       "20           PSV    32.61\n",
       "30          XOne    31.82\n",
       "21           SAT    29.68\n",
       "8            GEN    22.77\n",
       "3             DC    12.98\n",
       "22           SCD     1.86\n",
       "12            NG     1.11\n",
       "25            WS     0.66\n",
       "24          TG16     0.16\n",
       "1            3DO     0.10\n",
       "9             GG     0.04\n",
       "14          PCFX     0.03"
      ]
     },
     "execution_count": 25,
     "metadata": {},
     "output_type": "execute_result"
    }
   ],
   "source": [
    "total_platform_sales = games_info.groupby('platform')['total_sales'].sum().reset_index()\n",
    "total_platform_sales.columns = ['name_platform', 'sales']\n",
    "total_platform_sales = total_platform_sales.sort_values(by='sales', ascending=False)\n",
    "total_platform_sales "
   ]
  },
  {
   "cell_type": "markdown",
   "metadata": {},
   "source": [
    "Первые 6 платформ значительно превосходят остальные по продажам, это платформы ***PS2, X360, PS3, Wii, DS, PS***. Сохраним их список в переменную ***target_platforms***."
   ]
  },
  {
   "cell_type": "code",
   "execution_count": 26,
   "metadata": {},
   "outputs": [],
   "source": [
    "target_platforms = ['PS2', 'X360', 'PS3', 'Wii', 'DS', 'PS']"
   ]
  },
  {
   "cell_type": "markdown",
   "metadata": {},
   "source": [
    "Теперь отфильтруем данные из изначального датасета ***games_info*** только по этим платформам и сохраним в переменно ***filtered_platform***."
   ]
  },
  {
   "cell_type": "code",
   "execution_count": 27,
   "metadata": {},
   "outputs": [],
   "source": [
    "filtered_platform = games_info[games_info['platform'].isin(target_platforms)]"
   ]
  },
  {
   "cell_type": "markdown",
   "metadata": {},
   "source": [
    "Сгруппируем по годам по каждой платформе и суммируем количество проданных экземпляров игр и сохраним в перменную ***filtered_platform_final***."
   ]
  },
  {
   "cell_type": "code",
   "execution_count": 28,
   "metadata": {},
   "outputs": [
    {
     "data": {
      "text/html": [
       "<div>\n",
       "<style scoped>\n",
       "    .dataframe tbody tr th:only-of-type {\n",
       "        vertical-align: middle;\n",
       "    }\n",
       "\n",
       "    .dataframe tbody tr th {\n",
       "        vertical-align: top;\n",
       "    }\n",
       "\n",
       "    .dataframe thead th {\n",
       "        text-align: right;\n",
       "    }\n",
       "</style>\n",
       "<table border=\"1\" class=\"dataframe\">\n",
       "  <thead>\n",
       "    <tr style=\"text-align: right;\">\n",
       "      <th>platform</th>\n",
       "      <th>DS</th>\n",
       "      <th>PS</th>\n",
       "      <th>PS2</th>\n",
       "      <th>PS3</th>\n",
       "      <th>Wii</th>\n",
       "      <th>X360</th>\n",
       "    </tr>\n",
       "    <tr>\n",
       "      <th>year_of_release</th>\n",
       "      <th></th>\n",
       "      <th></th>\n",
       "      <th></th>\n",
       "      <th></th>\n",
       "      <th></th>\n",
       "      <th></th>\n",
       "    </tr>\n",
       "  </thead>\n",
       "  <tbody>\n",
       "    <tr>\n",
       "      <th>1985</th>\n",
       "      <td>0.02</td>\n",
       "      <td>0.00</td>\n",
       "      <td>0.00</td>\n",
       "      <td>0.00</td>\n",
       "      <td>0.00</td>\n",
       "      <td>0.00</td>\n",
       "    </tr>\n",
       "    <tr>\n",
       "      <th>1994</th>\n",
       "      <td>0.00</td>\n",
       "      <td>5.24</td>\n",
       "      <td>0.00</td>\n",
       "      <td>0.00</td>\n",
       "      <td>0.00</td>\n",
       "      <td>0.00</td>\n",
       "    </tr>\n",
       "    <tr>\n",
       "      <th>1995</th>\n",
       "      <td>0.00</td>\n",
       "      <td>34.35</td>\n",
       "      <td>0.00</td>\n",
       "      <td>0.00</td>\n",
       "      <td>0.00</td>\n",
       "      <td>0.00</td>\n",
       "    </tr>\n",
       "    <tr>\n",
       "      <th>1996</th>\n",
       "      <td>0.00</td>\n",
       "      <td>92.40</td>\n",
       "      <td>0.00</td>\n",
       "      <td>0.00</td>\n",
       "      <td>0.00</td>\n",
       "      <td>0.00</td>\n",
       "    </tr>\n",
       "    <tr>\n",
       "      <th>1997</th>\n",
       "      <td>0.00</td>\n",
       "      <td>132.13</td>\n",
       "      <td>0.00</td>\n",
       "      <td>0.00</td>\n",
       "      <td>0.00</td>\n",
       "      <td>0.00</td>\n",
       "    </tr>\n",
       "    <tr>\n",
       "      <th>1998</th>\n",
       "      <td>0.00</td>\n",
       "      <td>163.50</td>\n",
       "      <td>0.00</td>\n",
       "      <td>0.00</td>\n",
       "      <td>0.00</td>\n",
       "      <td>0.00</td>\n",
       "    </tr>\n",
       "    <tr>\n",
       "      <th>1999</th>\n",
       "      <td>0.00</td>\n",
       "      <td>141.23</td>\n",
       "      <td>0.00</td>\n",
       "      <td>0.00</td>\n",
       "      <td>0.00</td>\n",
       "      <td>0.00</td>\n",
       "    </tr>\n",
       "    <tr>\n",
       "      <th>2000</th>\n",
       "      <td>0.00</td>\n",
       "      <td>90.53</td>\n",
       "      <td>36.36</td>\n",
       "      <td>0.00</td>\n",
       "      <td>0.00</td>\n",
       "      <td>0.00</td>\n",
       "    </tr>\n",
       "    <tr>\n",
       "      <th>2001</th>\n",
       "      <td>0.00</td>\n",
       "      <td>30.96</td>\n",
       "      <td>161.68</td>\n",
       "      <td>0.00</td>\n",
       "      <td>0.00</td>\n",
       "      <td>0.00</td>\n",
       "    </tr>\n",
       "    <tr>\n",
       "      <th>2002</th>\n",
       "      <td>0.00</td>\n",
       "      <td>4.69</td>\n",
       "      <td>202.19</td>\n",
       "      <td>0.00</td>\n",
       "      <td>0.00</td>\n",
       "      <td>0.00</td>\n",
       "    </tr>\n",
       "    <tr>\n",
       "      <th>2003</th>\n",
       "      <td>0.00</td>\n",
       "      <td>2.07</td>\n",
       "      <td>175.39</td>\n",
       "      <td>0.00</td>\n",
       "      <td>0.00</td>\n",
       "      <td>0.00</td>\n",
       "    </tr>\n",
       "    <tr>\n",
       "      <th>2004</th>\n",
       "      <td>6.03</td>\n",
       "      <td>0.00</td>\n",
       "      <td>205.97</td>\n",
       "      <td>0.00</td>\n",
       "      <td>0.00</td>\n",
       "      <td>0.00</td>\n",
       "    </tr>\n",
       "    <tr>\n",
       "      <th>2005</th>\n",
       "      <td>125.12</td>\n",
       "      <td>0.00</td>\n",
       "      <td>152.08</td>\n",
       "      <td>0.00</td>\n",
       "      <td>0.00</td>\n",
       "      <td>5.50</td>\n",
       "    </tr>\n",
       "    <tr>\n",
       "      <th>2006</th>\n",
       "      <td>111.81</td>\n",
       "      <td>0.00</td>\n",
       "      <td>91.84</td>\n",
       "      <td>13.63</td>\n",
       "      <td>132.53</td>\n",
       "      <td>36.76</td>\n",
       "    </tr>\n",
       "    <tr>\n",
       "      <th>2007</th>\n",
       "      <td>130.91</td>\n",
       "      <td>0.00</td>\n",
       "      <td>62.60</td>\n",
       "      <td>30.91</td>\n",
       "      <td>122.60</td>\n",
       "      <td>61.90</td>\n",
       "    </tr>\n",
       "    <tr>\n",
       "      <th>2008</th>\n",
       "      <td>114.83</td>\n",
       "      <td>0.00</td>\n",
       "      <td>24.30</td>\n",
       "      <td>53.36</td>\n",
       "      <td>145.65</td>\n",
       "      <td>100.88</td>\n",
       "    </tr>\n",
       "    <tr>\n",
       "      <th>2009</th>\n",
       "      <td>101.21</td>\n",
       "      <td>0.00</td>\n",
       "      <td>7.63</td>\n",
       "      <td>83.27</td>\n",
       "      <td>183.47</td>\n",
       "      <td>67.69</td>\n",
       "    </tr>\n",
       "    <tr>\n",
       "      <th>2010</th>\n",
       "      <td>69.89</td>\n",
       "      <td>0.00</td>\n",
       "      <td>1.01</td>\n",
       "      <td>88.23</td>\n",
       "      <td>107.91</td>\n",
       "      <td>116.23</td>\n",
       "    </tr>\n",
       "    <tr>\n",
       "      <th>2011</th>\n",
       "      <td>20.65</td>\n",
       "      <td>0.00</td>\n",
       "      <td>0.02</td>\n",
       "      <td>91.22</td>\n",
       "      <td>48.81</td>\n",
       "      <td>93.08</td>\n",
       "    </tr>\n",
       "    <tr>\n",
       "      <th>2012</th>\n",
       "      <td>9.88</td>\n",
       "      <td>0.00</td>\n",
       "      <td>0.00</td>\n",
       "      <td>81.03</td>\n",
       "      <td>17.15</td>\n",
       "      <td>40.30</td>\n",
       "    </tr>\n",
       "    <tr>\n",
       "      <th>2013</th>\n",
       "      <td>0.54</td>\n",
       "      <td>0.00</td>\n",
       "      <td>0.00</td>\n",
       "      <td>71.67</td>\n",
       "      <td>7.44</td>\n",
       "      <td>41.60</td>\n",
       "    </tr>\n",
       "    <tr>\n",
       "      <th>2014</th>\n",
       "      <td>0.00</td>\n",
       "      <td>0.00</td>\n",
       "      <td>0.00</td>\n",
       "      <td>10.16</td>\n",
       "      <td>2.96</td>\n",
       "      <td>4.48</td>\n",
       "    </tr>\n",
       "    <tr>\n",
       "      <th>2015</th>\n",
       "      <td>0.00</td>\n",
       "      <td>0.00</td>\n",
       "      <td>0.00</td>\n",
       "      <td>1.34</td>\n",
       "      <td>0.95</td>\n",
       "      <td>1.22</td>\n",
       "    </tr>\n",
       "    <tr>\n",
       "      <th>2016</th>\n",
       "      <td>0.00</td>\n",
       "      <td>0.00</td>\n",
       "      <td>0.00</td>\n",
       "      <td>0.06</td>\n",
       "      <td>0.18</td>\n",
       "      <td>0.04</td>\n",
       "    </tr>\n",
       "  </tbody>\n",
       "</table>\n",
       "</div>"
      ],
      "text/plain": [
       "platform             DS      PS     PS2    PS3     Wii    X360\n",
       "year_of_release                                               \n",
       "1985               0.02    0.00    0.00   0.00    0.00    0.00\n",
       "1994               0.00    5.24    0.00   0.00    0.00    0.00\n",
       "1995               0.00   34.35    0.00   0.00    0.00    0.00\n",
       "1996               0.00   92.40    0.00   0.00    0.00    0.00\n",
       "1997               0.00  132.13    0.00   0.00    0.00    0.00\n",
       "1998               0.00  163.50    0.00   0.00    0.00    0.00\n",
       "1999               0.00  141.23    0.00   0.00    0.00    0.00\n",
       "2000               0.00   90.53   36.36   0.00    0.00    0.00\n",
       "2001               0.00   30.96  161.68   0.00    0.00    0.00\n",
       "2002               0.00    4.69  202.19   0.00    0.00    0.00\n",
       "2003               0.00    2.07  175.39   0.00    0.00    0.00\n",
       "2004               6.03    0.00  205.97   0.00    0.00    0.00\n",
       "2005             125.12    0.00  152.08   0.00    0.00    5.50\n",
       "2006             111.81    0.00   91.84  13.63  132.53   36.76\n",
       "2007             130.91    0.00   62.60  30.91  122.60   61.90\n",
       "2008             114.83    0.00   24.30  53.36  145.65  100.88\n",
       "2009             101.21    0.00    7.63  83.27  183.47   67.69\n",
       "2010              69.89    0.00    1.01  88.23  107.91  116.23\n",
       "2011              20.65    0.00    0.02  91.22   48.81   93.08\n",
       "2012               9.88    0.00    0.00  81.03   17.15   40.30\n",
       "2013               0.54    0.00    0.00  71.67    7.44   41.60\n",
       "2014               0.00    0.00    0.00  10.16    2.96    4.48\n",
       "2015               0.00    0.00    0.00   1.34    0.95    1.22\n",
       "2016               0.00    0.00    0.00   0.06    0.18    0.04"
      ]
     },
     "execution_count": 28,
     "metadata": {},
     "output_type": "execute_result"
    }
   ],
   "source": [
    "filtered_platform_final = filtered_platform.groupby(['year_of_release', 'platform'])['total_sales'].sum().unstack(fill_value=0)\n",
    "filtered_platform_final"
   ]
  },
  {
   "cell_type": "markdown",
   "metadata": {},
   "source": [
    "Стоит отметить странный показатель плтаформы DS в 1985 году. Скорее всего это ошибочный показатель так как в 1985 году этой платформа еще не существовала. Взглянем на информацию в строке."
   ]
  },
  {
   "cell_type": "code",
   "execution_count": 29,
   "metadata": {},
   "outputs": [
    {
     "data": {
      "text/html": [
       "<div>\n",
       "<style scoped>\n",
       "    .dataframe tbody tr th:only-of-type {\n",
       "        vertical-align: middle;\n",
       "    }\n",
       "\n",
       "    .dataframe tbody tr th {\n",
       "        vertical-align: top;\n",
       "    }\n",
       "\n",
       "    .dataframe thead th {\n",
       "        text-align: right;\n",
       "    }\n",
       "</style>\n",
       "<table border=\"1\" class=\"dataframe\">\n",
       "  <thead>\n",
       "    <tr style=\"text-align: right;\">\n",
       "      <th></th>\n",
       "      <th>name</th>\n",
       "      <th>platform</th>\n",
       "      <th>year_of_release</th>\n",
       "      <th>genre</th>\n",
       "      <th>na_sales</th>\n",
       "      <th>eu_sales</th>\n",
       "      <th>jp_sales</th>\n",
       "      <th>other_sales</th>\n",
       "      <th>critic_score</th>\n",
       "      <th>user_score</th>\n",
       "      <th>rating</th>\n",
       "      <th>total_sales</th>\n",
       "    </tr>\n",
       "  </thead>\n",
       "  <tbody>\n",
       "    <tr>\n",
       "      <th>15957</th>\n",
       "      <td>Strongest Tokyo University Shogi DS</td>\n",
       "      <td>DS</td>\n",
       "      <td>1985</td>\n",
       "      <td>Action</td>\n",
       "      <td>0.0</td>\n",
       "      <td>0.0</td>\n",
       "      <td>0.02</td>\n",
       "      <td>0.0</td>\n",
       "      <td>NaN</td>\n",
       "      <td>NaN</td>\n",
       "      <td>unknown</td>\n",
       "      <td>0.02</td>\n",
       "    </tr>\n",
       "  </tbody>\n",
       "</table>\n",
       "</div>"
      ],
      "text/plain": [
       "                                      name platform  year_of_release   genre  \\\n",
       "15957  Strongest Tokyo University Shogi DS       DS             1985  Action   \n",
       "\n",
       "       na_sales  eu_sales  jp_sales  other_sales  critic_score  user_score  \\\n",
       "15957       0.0       0.0      0.02          0.0           NaN         NaN   \n",
       "\n",
       "        rating  total_sales  \n",
       "15957  unknown         0.02  "
      ]
     },
     "execution_count": 29,
     "metadata": {},
     "output_type": "execute_result"
    }
   ],
   "source": [
    "games_info[(games_info['platform']=='DS') & (games_info['year_of_release']==1985)]"
   ]
  },
  {
   "cell_type": "markdown",
   "metadata": {},
   "source": [
    "Удалим эту строку из сгруппированной таблицы"
   ]
  },
  {
   "cell_type": "code",
   "execution_count": 30,
   "metadata": {},
   "outputs": [],
   "source": [
    "filtered_platform_final = filtered_platform_final[filtered_platform_final['DS'] != 0.02]"
   ]
  },
  {
   "cell_type": "markdown",
   "metadata": {},
   "source": [
    "На основании полученной таблицы построем гистограмму на которой отобразим данные."
   ]
  },
  {
   "cell_type": "code",
   "execution_count": 31,
   "metadata": {},
   "outputs": [
    {
     "data": {
      "image/png": "[encoded data removed]",
      "text/plain": [
       "<Figure size 1080x648 with 1 Axes>"
      ]
     },
     "metadata": {
      "needs_background": "light"
     },
     "output_type": "display_data"
    }
   ],
   "source": [
    "plt.figure(figsize=(15, 9))\n",
    "filtered_platform_final.plot(kind='bar', stacked=False, ax=plt.gca())\n",
    "plt.xlabel('Год выпуска')\n",
    "plt.ylabel('Суммарные продажи (в миллионах экземпляров)')\n",
    "plt.title('Распределение продаж по годам для платформ PS2, X360, PS3, Wii, DS, PS', fontsize=15)\n",
    "plt.xticks(rotation=45)\n",
    "plt.legend(title='Платформы')\n",
    "plt.grid(axis='y')\n",
    "\n",
    "plt.tight_layout()\n",
    "plt.show()"
   ]
  },
  {
   "cell_type": "markdown",
   "metadata": {},
   "source": [
    "***Промежуточный вывод:*** \n",
    "\n",
    "По таблице и графику можно зафиксировать следующие жизненные циклы для рассматриваемых платформ:\n",
    "- DS, появилась в 2004, нулевые продажи к 2014\n",
    "- PS, появилась в: 1994, нулевые продажи к 2004\n",
    "- PS2, появилась в: 2000, нулевые продажи к 2012\n",
    "- PS3, появилась в: 2006, минимальные продажи в 2016\n",
    "- Wii, появилась в: 2006, минимальные продажи в 2016\n",
    "- X360, Появилась в: 2005, минимальные продажи в 2016\n",
    "\n",
    "\n",
    "Жизненный цикл платформы 10-12 лет.Появление новых плафторм завивист от временного промежутка который рассматриваем. Если брать период с 1994 по 2004 то конкурентные платформы появлялись раз в 5-6 лет, но чем дальше тем меньше становился промежуток между появлением новых платформ."
   ]
  },
  {
   "cell_type": "markdown",
   "metadata": {},
   "source": [
    "#### Какие платформы лидируют по продажам, растут или падают? Выберите несколько потенциально прибыльных платформ"
   ]
  },
  {
   "cell_type": "markdown",
   "metadata": {},
   "source": [
    "Для рассмотрения данного вопроса решено оставить данные с 2013 до 2016 года. Отфильтруем данные по года за этот период и сохраним в переменую ***filtered_years***."
   ]
  },
  {
   "cell_type": "code",
   "execution_count": 32,
   "metadata": {},
   "outputs": [
    {
     "data": {
      "text/html": [
       "<div>\n",
       "<style scoped>\n",
       "    .dataframe tbody tr th:only-of-type {\n",
       "        vertical-align: middle;\n",
       "    }\n",
       "\n",
       "    .dataframe tbody tr th {\n",
       "        vertical-align: top;\n",
       "    }\n",
       "\n",
       "    .dataframe thead th {\n",
       "        text-align: right;\n",
       "    }\n",
       "</style>\n",
       "<table border=\"1\" class=\"dataframe\">\n",
       "  <thead>\n",
       "    <tr style=\"text-align: right;\">\n",
       "      <th></th>\n",
       "      <th>name</th>\n",
       "      <th>platform</th>\n",
       "      <th>year_of_release</th>\n",
       "      <th>genre</th>\n",
       "      <th>na_sales</th>\n",
       "      <th>eu_sales</th>\n",
       "      <th>jp_sales</th>\n",
       "      <th>other_sales</th>\n",
       "      <th>critic_score</th>\n",
       "      <th>user_score</th>\n",
       "      <th>rating</th>\n",
       "      <th>total_sales</th>\n",
       "    </tr>\n",
       "  </thead>\n",
       "  <tbody>\n",
       "    <tr>\n",
       "      <th>16</th>\n",
       "      <td>Grand Theft Auto V</td>\n",
       "      <td>PS3</td>\n",
       "      <td>2013</td>\n",
       "      <td>Action</td>\n",
       "      <td>7.02</td>\n",
       "      <td>9.09</td>\n",
       "      <td>0.98</td>\n",
       "      <td>3.96</td>\n",
       "      <td>97.0</td>\n",
       "      <td>8.2</td>\n",
       "      <td>M</td>\n",
       "      <td>21.05</td>\n",
       "    </tr>\n",
       "    <tr>\n",
       "      <th>31</th>\n",
       "      <td>Call of Duty: Black Ops 3</td>\n",
       "      <td>PS4</td>\n",
       "      <td>2015</td>\n",
       "      <td>Shooter</td>\n",
       "      <td>6.03</td>\n",
       "      <td>5.86</td>\n",
       "      <td>0.36</td>\n",
       "      <td>2.38</td>\n",
       "      <td>NaN</td>\n",
       "      <td>NaN</td>\n",
       "      <td>unknown</td>\n",
       "      <td>14.63</td>\n",
       "    </tr>\n",
       "    <tr>\n",
       "      <th>33</th>\n",
       "      <td>Pokemon X/Pokemon Y</td>\n",
       "      <td>3DS</td>\n",
       "      <td>2013</td>\n",
       "      <td>Role-Playing</td>\n",
       "      <td>5.28</td>\n",
       "      <td>4.19</td>\n",
       "      <td>4.35</td>\n",
       "      <td>0.78</td>\n",
       "      <td>NaN</td>\n",
       "      <td>NaN</td>\n",
       "      <td>unknown</td>\n",
       "      <td>14.60</td>\n",
       "    </tr>\n",
       "    <tr>\n",
       "      <th>47</th>\n",
       "      <td>Pokemon Omega Ruby/Pokemon Alpha Sapphire</td>\n",
       "      <td>3DS</td>\n",
       "      <td>2014</td>\n",
       "      <td>Role-Playing</td>\n",
       "      <td>4.35</td>\n",
       "      <td>3.49</td>\n",
       "      <td>3.10</td>\n",
       "      <td>0.74</td>\n",
       "      <td>NaN</td>\n",
       "      <td>NaN</td>\n",
       "      <td>unknown</td>\n",
       "      <td>11.68</td>\n",
       "    </tr>\n",
       "    <tr>\n",
       "      <th>60</th>\n",
       "      <td>Call of Duty: Ghosts</td>\n",
       "      <td>X360</td>\n",
       "      <td>2013</td>\n",
       "      <td>Shooter</td>\n",
       "      <td>6.73</td>\n",
       "      <td>2.56</td>\n",
       "      <td>0.04</td>\n",
       "      <td>0.91</td>\n",
       "      <td>73.0</td>\n",
       "      <td>2.6</td>\n",
       "      <td>M</td>\n",
       "      <td>10.24</td>\n",
       "    </tr>\n",
       "    <tr>\n",
       "      <th>...</th>\n",
       "      <td>...</td>\n",
       "      <td>...</td>\n",
       "      <td>...</td>\n",
       "      <td>...</td>\n",
       "      <td>...</td>\n",
       "      <td>...</td>\n",
       "      <td>...</td>\n",
       "      <td>...</td>\n",
       "      <td>...</td>\n",
       "      <td>...</td>\n",
       "      <td>...</td>\n",
       "      <td>...</td>\n",
       "    </tr>\n",
       "    <tr>\n",
       "      <th>16684</th>\n",
       "      <td>7'scarlet</td>\n",
       "      <td>PSV</td>\n",
       "      <td>2016</td>\n",
       "      <td>Adventure</td>\n",
       "      <td>0.00</td>\n",
       "      <td>0.00</td>\n",
       "      <td>0.01</td>\n",
       "      <td>0.00</td>\n",
       "      <td>NaN</td>\n",
       "      <td>NaN</td>\n",
       "      <td>unknown</td>\n",
       "      <td>0.01</td>\n",
       "    </tr>\n",
       "    <tr>\n",
       "      <th>16699</th>\n",
       "      <td>The Longest 5 Minutes</td>\n",
       "      <td>PSV</td>\n",
       "      <td>2016</td>\n",
       "      <td>Action</td>\n",
       "      <td>0.00</td>\n",
       "      <td>0.00</td>\n",
       "      <td>0.01</td>\n",
       "      <td>0.00</td>\n",
       "      <td>NaN</td>\n",
       "      <td>NaN</td>\n",
       "      <td>unknown</td>\n",
       "      <td>0.01</td>\n",
       "    </tr>\n",
       "    <tr>\n",
       "      <th>16703</th>\n",
       "      <td>Strawberry Nauts</td>\n",
       "      <td>PSV</td>\n",
       "      <td>2016</td>\n",
       "      <td>Adventure</td>\n",
       "      <td>0.00</td>\n",
       "      <td>0.00</td>\n",
       "      <td>0.01</td>\n",
       "      <td>0.00</td>\n",
       "      <td>NaN</td>\n",
       "      <td>NaN</td>\n",
       "      <td>unknown</td>\n",
       "      <td>0.01</td>\n",
       "    </tr>\n",
       "    <tr>\n",
       "      <th>16707</th>\n",
       "      <td>Aiyoku no Eustia</td>\n",
       "      <td>PSV</td>\n",
       "      <td>2014</td>\n",
       "      <td>Misc</td>\n",
       "      <td>0.00</td>\n",
       "      <td>0.00</td>\n",
       "      <td>0.01</td>\n",
       "      <td>0.00</td>\n",
       "      <td>NaN</td>\n",
       "      <td>NaN</td>\n",
       "      <td>unknown</td>\n",
       "      <td>0.01</td>\n",
       "    </tr>\n",
       "    <tr>\n",
       "      <th>16712</th>\n",
       "      <td>Haitaka no Psychedelica</td>\n",
       "      <td>PSV</td>\n",
       "      <td>2016</td>\n",
       "      <td>Adventure</td>\n",
       "      <td>0.00</td>\n",
       "      <td>0.00</td>\n",
       "      <td>0.01</td>\n",
       "      <td>0.00</td>\n",
       "      <td>NaN</td>\n",
       "      <td>NaN</td>\n",
       "      <td>unknown</td>\n",
       "      <td>0.01</td>\n",
       "    </tr>\n",
       "  </tbody>\n",
       "</table>\n",
       "<p>1182 rows × 12 columns</p>\n",
       "</div>"
      ],
      "text/plain": [
       "                                            name platform  year_of_release  \\\n",
       "16                            Grand Theft Auto V      PS3             2013   \n",
       "31                     Call of Duty: Black Ops 3      PS4             2015   \n",
       "33                           Pokemon X/Pokemon Y      3DS             2013   \n",
       "47     Pokemon Omega Ruby/Pokemon Alpha Sapphire      3DS             2014   \n",
       "60                          Call of Duty: Ghosts     X360             2013   \n",
       "...                                          ...      ...              ...   \n",
       "16684                                  7'scarlet      PSV             2016   \n",
       "16699                      The Longest 5 Minutes      PSV             2016   \n",
       "16703                           Strawberry Nauts      PSV             2016   \n",
       "16707                           Aiyoku no Eustia      PSV             2014   \n",
       "16712                    Haitaka no Psychedelica      PSV             2016   \n",
       "\n",
       "              genre  na_sales  eu_sales  jp_sales  other_sales  critic_score  \\\n",
       "16           Action      7.02      9.09      0.98         3.96          97.0   \n",
       "31          Shooter      6.03      5.86      0.36         2.38           NaN   \n",
       "33     Role-Playing      5.28      4.19      4.35         0.78           NaN   \n",
       "47     Role-Playing      4.35      3.49      3.10         0.74           NaN   \n",
       "60          Shooter      6.73      2.56      0.04         0.91          73.0   \n",
       "...             ...       ...       ...       ...          ...           ...   \n",
       "16684     Adventure      0.00      0.00      0.01         0.00           NaN   \n",
       "16699        Action      0.00      0.00      0.01         0.00           NaN   \n",
       "16703     Adventure      0.00      0.00      0.01         0.00           NaN   \n",
       "16707          Misc      0.00      0.00      0.01         0.00           NaN   \n",
       "16712     Adventure      0.00      0.00      0.01         0.00           NaN   \n",
       "\n",
       "       user_score   rating  total_sales  \n",
       "16            8.2        M        21.05  \n",
       "31            NaN  unknown        14.63  \n",
       "33            NaN  unknown        14.60  \n",
       "47            NaN  unknown        11.68  \n",
       "60            2.6        M        10.24  \n",
       "...           ...      ...          ...  \n",
       "16684         NaN  unknown         0.01  \n",
       "16699         NaN  unknown         0.01  \n",
       "16703         NaN  unknown         0.01  \n",
       "16707         NaN  unknown         0.01  \n",
       "16712         NaN  unknown         0.01  \n",
       "\n",
       "[1182 rows x 12 columns]"
      ]
     },
     "execution_count": 32,
     "metadata": {},
     "output_type": "execute_result"
    }
   ],
   "source": [
    "filtered_years = games_info[(games_info['year_of_release'] >= 2013) & (games_info['year_of_release'] <= 2016)]\n",
    "filtered_years"
   ]
  },
  {
   "cell_type": "markdown",
   "metadata": {},
   "source": [
    "Теперь посмотрим заработок этих платформ и определим кто занимает лидирющие позиции."
   ]
  },
  {
   "cell_type": "code",
   "execution_count": 33,
   "metadata": {},
   "outputs": [
    {
     "data": {
      "text/html": [
       "<div>\n",
       "<style scoped>\n",
       "    .dataframe tbody tr th:only-of-type {\n",
       "        vertical-align: middle;\n",
       "    }\n",
       "\n",
       "    .dataframe tbody tr th {\n",
       "        vertical-align: top;\n",
       "    }\n",
       "\n",
       "    .dataframe thead th {\n",
       "        text-align: right;\n",
       "    }\n",
       "</style>\n",
       "<table border=\"1\" class=\"dataframe\">\n",
       "  <thead>\n",
       "    <tr style=\"text-align: right;\">\n",
       "      <th></th>\n",
       "      <th>name_platform</th>\n",
       "      <th>sales</th>\n",
       "    </tr>\n",
       "  </thead>\n",
       "  <tbody>\n",
       "    <tr>\n",
       "      <th>4</th>\n",
       "      <td>PS4</td>\n",
       "      <td>255.01</td>\n",
       "    </tr>\n",
       "    <tr>\n",
       "      <th>0</th>\n",
       "      <td>3DS</td>\n",
       "      <td>130.10</td>\n",
       "    </tr>\n",
       "    <tr>\n",
       "      <th>3</th>\n",
       "      <td>PS3</td>\n",
       "      <td>83.23</td>\n",
       "    </tr>\n",
       "    <tr>\n",
       "      <th>9</th>\n",
       "      <td>X360</td>\n",
       "      <td>47.34</td>\n",
       "    </tr>\n",
       "    <tr>\n",
       "      <th>8</th>\n",
       "      <td>WiiU</td>\n",
       "      <td>42.10</td>\n",
       "    </tr>\n",
       "    <tr>\n",
       "      <th>10</th>\n",
       "      <td>XOne</td>\n",
       "      <td>31.82</td>\n",
       "    </tr>\n",
       "    <tr>\n",
       "      <th>6</th>\n",
       "      <td>PSV</td>\n",
       "      <td>18.08</td>\n",
       "    </tr>\n",
       "    <tr>\n",
       "      <th>2</th>\n",
       "      <td>PC</td>\n",
       "      <td>15.12</td>\n",
       "    </tr>\n",
       "    <tr>\n",
       "      <th>7</th>\n",
       "      <td>Wii</td>\n",
       "      <td>11.53</td>\n",
       "    </tr>\n",
       "    <tr>\n",
       "      <th>5</th>\n",
       "      <td>PSP</td>\n",
       "      <td>2.10</td>\n",
       "    </tr>\n",
       "    <tr>\n",
       "      <th>1</th>\n",
       "      <td>DS</td>\n",
       "      <td>0.54</td>\n",
       "    </tr>\n",
       "  </tbody>\n",
       "</table>\n",
       "</div>"
      ],
      "text/plain": [
       "   name_platform   sales\n",
       "4            PS4  255.01\n",
       "0            3DS  130.10\n",
       "3            PS3   83.23\n",
       "9           X360   47.34\n",
       "8           WiiU   42.10\n",
       "10          XOne   31.82\n",
       "6            PSV   18.08\n",
       "2             PC   15.12\n",
       "7            Wii   11.53\n",
       "5            PSP    2.10\n",
       "1             DS    0.54"
      ]
     },
     "execution_count": 33,
     "metadata": {},
     "output_type": "execute_result"
    }
   ],
   "source": [
    "filtered_years_sales = filtered_years.groupby('platform')['total_sales'].sum().reset_index()\n",
    "filtered_years_sales.columns = ['name_platform', 'sales']\n",
    "filtered_years_sales = filtered_years_sales.sort_values(by='sales', ascending=False)\n",
    "filtered_years_sales "
   ]
  },
  {
   "cell_type": "markdown",
   "metadata": {},
   "source": [
    "Топ 6 лидирующих компаний по количенству проданных эксземпляров игр: ***PS4, 3DS, PS3, X360, WiiU, XOne***. Составим количество продаж по годам и посмотрим динамику роста продаж."
   ]
  },
  {
   "cell_type": "code",
   "execution_count": 34,
   "metadata": {},
   "outputs": [
    {
     "data": {
      "text/html": [
       "<div>\n",
       "<style scoped>\n",
       "    .dataframe tbody tr th:only-of-type {\n",
       "        vertical-align: middle;\n",
       "    }\n",
       "\n",
       "    .dataframe tbody tr th {\n",
       "        vertical-align: top;\n",
       "    }\n",
       "\n",
       "    .dataframe thead th {\n",
       "        text-align: right;\n",
       "    }\n",
       "</style>\n",
       "<table border=\"1\" class=\"dataframe\">\n",
       "  <thead>\n",
       "    <tr style=\"text-align: right;\">\n",
       "      <th>platform</th>\n",
       "      <th>3DS</th>\n",
       "      <th>DS</th>\n",
       "      <th>PC</th>\n",
       "      <th>PS3</th>\n",
       "      <th>PS4</th>\n",
       "      <th>PSP</th>\n",
       "      <th>PSV</th>\n",
       "      <th>Wii</th>\n",
       "      <th>WiiU</th>\n",
       "      <th>X360</th>\n",
       "      <th>XOne</th>\n",
       "    </tr>\n",
       "    <tr>\n",
       "      <th>year_of_release</th>\n",
       "      <th></th>\n",
       "      <th></th>\n",
       "      <th></th>\n",
       "      <th></th>\n",
       "      <th></th>\n",
       "      <th></th>\n",
       "      <th></th>\n",
       "      <th></th>\n",
       "      <th></th>\n",
       "      <th></th>\n",
       "      <th></th>\n",
       "    </tr>\n",
       "  </thead>\n",
       "  <tbody>\n",
       "    <tr>\n",
       "      <th>2013</th>\n",
       "      <td>50.33</td>\n",
       "      <td>0.54</td>\n",
       "      <td>5.13</td>\n",
       "      <td>71.67</td>\n",
       "      <td>10.38</td>\n",
       "      <td>1.91</td>\n",
       "      <td>5.77</td>\n",
       "      <td>7.44</td>\n",
       "      <td>12.06</td>\n",
       "      <td>41.60</td>\n",
       "      <td>6.04</td>\n",
       "    </tr>\n",
       "    <tr>\n",
       "      <th>2014</th>\n",
       "      <td>40.20</td>\n",
       "      <td>0.00</td>\n",
       "      <td>5.88</td>\n",
       "      <td>10.16</td>\n",
       "      <td>69.08</td>\n",
       "      <td>0.09</td>\n",
       "      <td>5.23</td>\n",
       "      <td>2.96</td>\n",
       "      <td>13.16</td>\n",
       "      <td>4.48</td>\n",
       "      <td>10.01</td>\n",
       "    </tr>\n",
       "    <tr>\n",
       "      <th>2015</th>\n",
       "      <td>25.27</td>\n",
       "      <td>0.00</td>\n",
       "      <td>2.08</td>\n",
       "      <td>1.34</td>\n",
       "      <td>110.93</td>\n",
       "      <td>0.10</td>\n",
       "      <td>4.77</td>\n",
       "      <td>0.95</td>\n",
       "      <td>13.85</td>\n",
       "      <td>1.22</td>\n",
       "      <td>12.55</td>\n",
       "    </tr>\n",
       "    <tr>\n",
       "      <th>2016</th>\n",
       "      <td>14.30</td>\n",
       "      <td>0.00</td>\n",
       "      <td>2.03</td>\n",
       "      <td>0.06</td>\n",
       "      <td>64.62</td>\n",
       "      <td>0.00</td>\n",
       "      <td>2.31</td>\n",
       "      <td>0.18</td>\n",
       "      <td>3.03</td>\n",
       "      <td>0.04</td>\n",
       "      <td>3.22</td>\n",
       "    </tr>\n",
       "  </tbody>\n",
       "</table>\n",
       "</div>"
      ],
      "text/plain": [
       "platform           3DS    DS    PC    PS3     PS4   PSP   PSV   Wii   WiiU  \\\n",
       "year_of_release                                                              \n",
       "2013             50.33  0.54  5.13  71.67   10.38  1.91  5.77  7.44  12.06   \n",
       "2014             40.20  0.00  5.88  10.16   69.08  0.09  5.23  2.96  13.16   \n",
       "2015             25.27  0.00  2.08   1.34  110.93  0.10  4.77  0.95  13.85   \n",
       "2016             14.30  0.00  2.03   0.06   64.62  0.00  2.31  0.18   3.03   \n",
       "\n",
       "platform          X360   XOne  \n",
       "year_of_release                \n",
       "2013             41.60   6.04  \n",
       "2014              4.48  10.01  \n",
       "2015              1.22  12.55  \n",
       "2016              0.04   3.22  "
      ]
     },
     "execution_count": 34,
     "metadata": {},
     "output_type": "execute_result"
    }
   ],
   "source": [
    "filtered_years_platform = filtered_years.groupby(['year_of_release', 'platform'])['total_sales'].sum().unstack(fill_value=0)\n",
    "filtered_years_platform"
   ]
  },
  {
   "cell_type": "markdown",
   "metadata": {},
   "source": [
    "Построим график и отразим динамику продаж компаний визуально. "
   ]
  },
  {
   "cell_type": "code",
   "execution_count": 35,
   "metadata": {},
   "outputs": [
    {
     "data": {
      "image/png": "[encoded data removed]",
      "text/plain": [
       "<Figure size 1080x648 with 1 Axes>"
      ]
     },
     "metadata": {
      "needs_background": "light"
     },
     "output_type": "display_data"
    }
   ],
   "source": [
    "plt.figure(figsize=(15, 9))\n",
    "filtered_years_platform.plot(kind='bar', stacked=False, ax=plt.gca())\n",
    "plt.xlabel('Год выпуска')\n",
    "plt.ylabel('Суммарные продажи (в миллионах экземпляров)')\n",
    "plt.title('Распределение продаж по годам для платформ c 2008 по 2016 год', fontsize=15)\n",
    "plt.xticks(rotation=45)\n",
    "plt.legend(title='Платформы')\n",
    "plt.grid(axis='y')\n",
    "\n",
    "plt.tight_layout()\n",
    "plt.show()"
   ]
  },
  {
   "cell_type": "markdown",
   "metadata": {},
   "source": [
    "***Промежуточный вывод:***\n",
    "\n",
    "Отталкиваясь от выявленного на прошлом этапе, жизненый цикл платформы 12 лет, от появления до падения продаж в 0, а также динамике роста продажи игр с момента появления компании на рынке, потенциально прибыльными платформами можно считать ***PS4***, ***XOne*** и ***WiiU***. Эти компании находятся в первой половине совоего жизненного цикла и могут показать лучщие результаты и не смотря на падение показателей продаж к 2016 году, что применимо ко всем представленным платформам, объемы продаваемых этими компания игр, показывают лучшие резщультаты на 2016 год."
   ]
  },
  {
   "cell_type": "markdown",
   "metadata": {},
   "source": [
    "#### Глолобальные продажи игр в разбивке по платформам"
   ]
  },
  {
   "cell_type": "markdown",
   "metadata": {},
   "source": [
    "Для рассмотрения этого аспекта построим диаграмму размаха по продажам игр для каждой платформы, на основании таблицы ***filtered_years*** с 2013 до 2016 год."
   ]
  },
  {
   "cell_type": "code",
   "execution_count": 36,
   "metadata": {},
   "outputs": [
    {
     "data": {
      "image/png": "[encoded data removed]",
      "text/plain": [
       "<Figure size 1080x1440 with 1 Axes>"
      ]
     },
     "metadata": {
      "needs_background": "light"
     },
     "output_type": "display_data"
    }
   ],
   "source": [
    "plt.figure(figsize=(15, 20))\n",
    "sns.boxplot(x='platform', y='total_sales', data=filtered_years, width=0.7, fliersize=5)\n",
    "\n",
    "plt.title('Диаграмма размаха по глобальным продажам игр по платформам', fontsize=16)\n",
    "plt.xlabel('Платформы', fontsize=14)\n",
    "plt.ylabel('Количество проданных экземпляров игр (в млн)', fontsize=14)\n",
    "plt.xticks(rotation=45)\n",
    "plt.ylim(0, 4.5)\n",
    "plt.grid(True)\n",
    "plt.tight_layout()\n",
    "\n",
    "plt.show()"
   ]
  },
  {
   "cell_type": "markdown",
   "metadata": {},
   "source": [
    "***Промежуточный вывод:***\n",
    "Медианное количество проданных игр в млн. экземпляров колеблется для всех платформ от 0.1 до 0,9 млн. экз. То есть никто не достигает порога медианы в 1 млн. экз.\n",
    "А вот границы межквартильного размаха, указывающего на основной разброс продаж в рамках каждой платформы отличается сильнее: \n",
    "- у платформы ***Wii*** самое большое медианное значение из представленных платформ на уровне 0.9 млн. экз..  \n",
    "1й квартиль - 25% игр на Wii продались менее 0.2 миллионов копий. Это говорит о том, что существует категория игр, которые показывают очень низкие продажи, и может указывать на неудачные проекты или игры, которые не нашли своего покупателя.   \n",
    "3й квартиль - 75% игр на платформе имеют продажи менее 2 миллионов копий. Это свидетельствует о том, что среди успешных игр есть те, что значительно превышают уровень в 2 миллиона — игра, попадающая в эту категорию, считается довольно успешной.   \n",
    "Межквартильный размах 1.8 млн. показывает значительный разброс значений, что может свидетельствовать о значительных различиях в популярности и успешности игр и также платформа имеет как низкоэффективные игры, так и такие, что могут принести значительные доходы.  \n",
    "\n",
    "- у платформы ***X360*** медианное значение 0.8 млн. экз..  \n",
    "1й квартиль - 25% игр 0.18 миллионов копий, говорит о наличии неудачных игр с низкими продажами.  \n",
    "3й квартиль - 75% игр на платформе имеют продажи менее или равные 1.3 миллионов копий.   \n",
    "Межквартильный размах 1.12 млн. показывает значительный разброс значений, но меньше чем у предыдущей платформы.  \n",
    "\n",
    "- платформы ***XOne*** имеет медианный показатель почти 0.5 млн. экз.   \n",
    "1й квартиль - 25% игр проданы в объеме 0.19 миллионов копий.  \n",
    "3й квартиль - 75% игр на платформе имеют продажи менее или равные 1.4 миллионов копий.  \n",
    "Межквартильный размах 1.21 млн. показывает значительный разброс значений.  \n",
    "\n",
    "- платформа ***WiiU*** имеет медианный показатель продаж почти 0.4 млн. экз.   \n",
    "1й квартиль - 25% игр проданы в объеме 0.12 миллионов копий.  \n",
    "3й квартиль - 75% игр на платформе имеют продажи менее или равные 1.1 миллионов копий.  \n",
    "Межквартильный размах 0.98 млн. показывает разброс значений меньший чем у предыдущих платформ.\n",
    "\n",
    "Группа платформ с меньшими показателями объемов продаж:  \n",
    "\n",
    "- платформа ***PS4*** имеет медианный показатель продаж почти 0.2 млн. экз.\n",
    "1й квартиль - 25% игр проданы в объеме 0.1 миллионов копий.  \n",
    "3й квартиль - 75% игр на платформе имеют продажи менее или равные 0.8 миллионов копий.  \n",
    "Межквартильный размах 0.7 млн. показывает небольшой разброс значений.\n",
    "\n",
    "- платформа ***PS3*** имеет медианный показатель продаж почти 0.18 млн. экз.\n",
    "1й квартиль - 25% игр проданы в объеме 0.05 миллионов копий.    \n",
    "3й квартиль - 75% игр на платформе имеют продажи менее или равные 0.35 миллионов копий.    \n",
    "Межквартильный размах 0.3 млн. показывает совсем небольшой разброс значений.  \n",
    "\n",
    "Последняя группа объединяет самые низкие по объему проджаж платформы:\n",
    "\n",
    "- платформа ***3DS*** имеет медианный показатель продаж почти 0.15 млн. экз.  \n",
    "1й квартиль - 25% игр проданы в объеме 0.05 миллионов копий.   \n",
    "3й квартиль - 75% игр на платформе имеют продажи менее или равные 0.25 миллионов копий.  \n",
    "Межквартильный размах 0.2 млн. показывает совсем небольшой разброс значений.  \n",
    "\n",
    "- платформа ***PC*** имеет медианный показатель продаж почти 0.05 млн. экз.  \n",
    "1й квартиль - 25% игр проданы в объеме 0.02 миллионов копий.   \n",
    "3й квартиль - 75% игр на платформе имеют продажи менее или равные 0.25 миллионов копий.  \n",
    "Межквартильный размах 0.23 млн. показывает совсем небольшой разброс значений.  \n",
    "\n",
    "- платформа ***DS*** имеет медианный показатель продаж почти 0.02 млн. экз.  \n",
    "1й квартиль - 25% игр проданы в объеме 0.015 миллионов копий.  \n",
    "3й квартиль - 75% игр на платформе имеют продажи менее или равные 0.24 миллионов копий.  \n",
    "Межквартильный размах 0.225 млн. показывает совсем небольшой разброс значений.  \n",
    "\n",
    "- платформа ***PSV*** имеет медианный показатель продаж почти 0.02 млн. экз.  \n",
    "1й квартиль - 25% игр проданы в объеме 0.02 миллионов копий.  \n",
    "3й квартиль - 75% игр на платформе имеют продажи менее или равные 0.15 миллионов копий.  \n",
    "Межквартильный размах 0.13 млн. показывает совсем небольшой разброс значений.   \n",
    "\n",
    "- платформа ***PSP*** имеет медианный показатель продаж почти 0.01 млн. экз.  \n",
    "1й квартиль - 25% игр проданы в объеме 0.005 миллионов копий.  \n",
    "3й квартиль - 75% игр на платформе имеют продажи менее или равные 0.015 миллионов копий.  \n",
    "Межквартильный размах 0.01 млн. показывает совсем небольшой разброс значений.\n",
    "\n",
    "\n",
    "Подытожив выводы по продажам игр у различных платформ, рекомендую обратить внимание на игры выпускаемые первой группой платформ ***Wii***, ***X360***, ***XOne***, ***WiiU*** так как эти платформы показывают лучшие результаты по объему продаж."
   ]
  },
  {
   "cell_type": "markdown",
   "metadata": {},
   "source": [
    "#### Как влияют на продажи внутри одной популярной платформы отзывы пользователей и критиков. "
   ]
  },
  {
   "cell_type": "markdown",
   "metadata": {},
   "source": [
    "Возьмем платформу ***X360*** для рассмотрения влияния отзывов критикой и зрителей на продажи. На основании датасета ***filtered_years*** отфильтруем по названию платформы интересующую нас инофрмацию. "
   ]
  },
  {
   "cell_type": "code",
   "execution_count": 37,
   "metadata": {},
   "outputs": [
    {
     "data": {
      "text/html": [
       "<div>\n",
       "<style scoped>\n",
       "    .dataframe tbody tr th:only-of-type {\n",
       "        vertical-align: middle;\n",
       "    }\n",
       "\n",
       "    .dataframe tbody tr th {\n",
       "        vertical-align: top;\n",
       "    }\n",
       "\n",
       "    .dataframe thead th {\n",
       "        text-align: right;\n",
       "    }\n",
       "</style>\n",
       "<table border=\"1\" class=\"dataframe\">\n",
       "  <thead>\n",
       "    <tr style=\"text-align: right;\">\n",
       "      <th></th>\n",
       "      <th>name</th>\n",
       "      <th>platform</th>\n",
       "      <th>year_of_release</th>\n",
       "      <th>genre</th>\n",
       "      <th>na_sales</th>\n",
       "      <th>eu_sales</th>\n",
       "      <th>jp_sales</th>\n",
       "      <th>other_sales</th>\n",
       "      <th>critic_score</th>\n",
       "      <th>user_score</th>\n",
       "      <th>rating</th>\n",
       "      <th>total_sales</th>\n",
       "    </tr>\n",
       "  </thead>\n",
       "  <tbody>\n",
       "    <tr>\n",
       "      <th>60</th>\n",
       "      <td>Call of Duty: Ghosts</td>\n",
       "      <td>X360</td>\n",
       "      <td>2013</td>\n",
       "      <td>Shooter</td>\n",
       "      <td>6.73</td>\n",
       "      <td>2.56</td>\n",
       "      <td>0.04</td>\n",
       "      <td>0.91</td>\n",
       "      <td>73.0</td>\n",
       "      <td>2.6</td>\n",
       "      <td>M</td>\n",
       "      <td>10.24</td>\n",
       "    </tr>\n",
       "    <tr>\n",
       "      <th>72</th>\n",
       "      <td>Minecraft</td>\n",
       "      <td>X360</td>\n",
       "      <td>2013</td>\n",
       "      <td>Misc</td>\n",
       "      <td>5.70</td>\n",
       "      <td>2.65</td>\n",
       "      <td>0.02</td>\n",
       "      <td>0.81</td>\n",
       "      <td>NaN</td>\n",
       "      <td>NaN</td>\n",
       "      <td>unknown</td>\n",
       "      <td>9.18</td>\n",
       "    </tr>\n",
       "    <tr>\n",
       "      <th>612</th>\n",
       "      <td>NBA 2K14</td>\n",
       "      <td>X360</td>\n",
       "      <td>2013</td>\n",
       "      <td>Sports</td>\n",
       "      <td>2.10</td>\n",
       "      <td>0.19</td>\n",
       "      <td>0.00</td>\n",
       "      <td>0.23</td>\n",
       "      <td>87.0</td>\n",
       "      <td>4.9</td>\n",
       "      <td>E</td>\n",
       "      <td>2.52</td>\n",
       "    </tr>\n",
       "    <tr>\n",
       "      <th>724</th>\n",
       "      <td>Madden NFL 25</td>\n",
       "      <td>X360</td>\n",
       "      <td>2013</td>\n",
       "      <td>Sports</td>\n",
       "      <td>1.98</td>\n",
       "      <td>0.06</td>\n",
       "      <td>0.00</td>\n",
       "      <td>0.19</td>\n",
       "      <td>80.0</td>\n",
       "      <td>5.6</td>\n",
       "      <td>E</td>\n",
       "      <td>2.23</td>\n",
       "    </tr>\n",
       "    <tr>\n",
       "      <th>730</th>\n",
       "      <td>LEGO Marvel Super Heroes</td>\n",
       "      <td>X360</td>\n",
       "      <td>2013</td>\n",
       "      <td>Action</td>\n",
       "      <td>1.24</td>\n",
       "      <td>0.79</td>\n",
       "      <td>0.00</td>\n",
       "      <td>0.19</td>\n",
       "      <td>80.0</td>\n",
       "      <td>7.6</td>\n",
       "      <td>E10+</td>\n",
       "      <td>2.22</td>\n",
       "    </tr>\n",
       "    <tr>\n",
       "      <th>890</th>\n",
       "      <td>BioShock Infinite</td>\n",
       "      <td>X360</td>\n",
       "      <td>2013</td>\n",
       "      <td>Shooter</td>\n",
       "      <td>1.22</td>\n",
       "      <td>0.54</td>\n",
       "      <td>0.02</td>\n",
       "      <td>0.16</td>\n",
       "      <td>93.0</td>\n",
       "      <td>8.5</td>\n",
       "      <td>M</td>\n",
       "      <td>1.94</td>\n",
       "    </tr>\n",
       "    <tr>\n",
       "      <th>1103</th>\n",
       "      <td>Saints Row IV</td>\n",
       "      <td>X360</td>\n",
       "      <td>2013</td>\n",
       "      <td>Action</td>\n",
       "      <td>1.01</td>\n",
       "      <td>0.50</td>\n",
       "      <td>0.01</td>\n",
       "      <td>0.13</td>\n",
       "      <td>81.0</td>\n",
       "      <td>6.5</td>\n",
       "      <td>M</td>\n",
       "      <td>1.65</td>\n",
       "    </tr>\n",
       "    <tr>\n",
       "      <th>1179</th>\n",
       "      <td>Gears of War: Judgment</td>\n",
       "      <td>X360</td>\n",
       "      <td>2013</td>\n",
       "      <td>Shooter</td>\n",
       "      <td>0.92</td>\n",
       "      <td>0.50</td>\n",
       "      <td>0.03</td>\n",
       "      <td>0.12</td>\n",
       "      <td>79.0</td>\n",
       "      <td>5.4</td>\n",
       "      <td>M</td>\n",
       "      <td>1.57</td>\n",
       "    </tr>\n",
       "    <tr>\n",
       "      <th>1393</th>\n",
       "      <td>Injustice: Gods Among Us</td>\n",
       "      <td>X360</td>\n",
       "      <td>2013</td>\n",
       "      <td>Fighting</td>\n",
       "      <td>0.97</td>\n",
       "      <td>0.30</td>\n",
       "      <td>0.00</td>\n",
       "      <td>0.11</td>\n",
       "      <td>81.0</td>\n",
       "      <td>7.9</td>\n",
       "      <td>T</td>\n",
       "      <td>1.38</td>\n",
       "    </tr>\n",
       "    <tr>\n",
       "      <th>1548</th>\n",
       "      <td>The LEGO Movie Videogame</td>\n",
       "      <td>X360</td>\n",
       "      <td>2014</td>\n",
       "      <td>Action</td>\n",
       "      <td>0.69</td>\n",
       "      <td>0.47</td>\n",
       "      <td>0.00</td>\n",
       "      <td>0.11</td>\n",
       "      <td>69.0</td>\n",
       "      <td>7.2</td>\n",
       "      <td>E10+</td>\n",
       "      <td>1.27</td>\n",
       "    </tr>\n",
       "    <tr>\n",
       "      <th>1872</th>\n",
       "      <td>NCAA Football 14</td>\n",
       "      <td>X360</td>\n",
       "      <td>2013</td>\n",
       "      <td>Sports</td>\n",
       "      <td>1.01</td>\n",
       "      <td>0.00</td>\n",
       "      <td>0.00</td>\n",
       "      <td>0.08</td>\n",
       "      <td>77.0</td>\n",
       "      <td>5.8</td>\n",
       "      <td>E</td>\n",
       "      <td>1.09</td>\n",
       "    </tr>\n",
       "    <tr>\n",
       "      <th>1905</th>\n",
       "      <td>Disney Infinity 2.0: Marvel Super Heroes</td>\n",
       "      <td>X360</td>\n",
       "      <td>2014</td>\n",
       "      <td>Action</td>\n",
       "      <td>0.64</td>\n",
       "      <td>0.34</td>\n",
       "      <td>0.00</td>\n",
       "      <td>0.10</td>\n",
       "      <td>NaN</td>\n",
       "      <td>NaN</td>\n",
       "      <td>unknown</td>\n",
       "      <td>1.08</td>\n",
       "    </tr>\n",
       "    <tr>\n",
       "      <th>1911</th>\n",
       "      <td>Plants vs. Zombies: Garden Warfare</td>\n",
       "      <td>X360</td>\n",
       "      <td>2014</td>\n",
       "      <td>Shooter</td>\n",
       "      <td>0.51</td>\n",
       "      <td>0.47</td>\n",
       "      <td>0.00</td>\n",
       "      <td>0.09</td>\n",
       "      <td>69.0</td>\n",
       "      <td>7.3</td>\n",
       "      <td>E10+</td>\n",
       "      <td>1.07</td>\n",
       "    </tr>\n",
       "    <tr>\n",
       "      <th>2107</th>\n",
       "      <td>Dead Space 3</td>\n",
       "      <td>X360</td>\n",
       "      <td>2013</td>\n",
       "      <td>Action</td>\n",
       "      <td>0.64</td>\n",
       "      <td>0.26</td>\n",
       "      <td>0.00</td>\n",
       "      <td>0.08</td>\n",
       "      <td>78.0</td>\n",
       "      <td>6.4</td>\n",
       "      <td>M</td>\n",
       "      <td>0.98</td>\n",
       "    </tr>\n",
       "    <tr>\n",
       "      <th>2110</th>\n",
       "      <td>Tom Clancy's Splinter Cell: Blacklist</td>\n",
       "      <td>X360</td>\n",
       "      <td>2013</td>\n",
       "      <td>Action</td>\n",
       "      <td>0.57</td>\n",
       "      <td>0.32</td>\n",
       "      <td>0.01</td>\n",
       "      <td>0.08</td>\n",
       "      <td>82.0</td>\n",
       "      <td>7.5</td>\n",
       "      <td>M</td>\n",
       "      <td>0.98</td>\n",
       "    </tr>\n",
       "    <tr>\n",
       "      <th>2296</th>\n",
       "      <td>Crysis 3</td>\n",
       "      <td>X360</td>\n",
       "      <td>2013</td>\n",
       "      <td>Shooter</td>\n",
       "      <td>0.51</td>\n",
       "      <td>0.31</td>\n",
       "      <td>0.01</td>\n",
       "      <td>0.08</td>\n",
       "      <td>76.0</td>\n",
       "      <td>6.7</td>\n",
       "      <td>M</td>\n",
       "      <td>0.91</td>\n",
       "    </tr>\n",
       "    <tr>\n",
       "      <th>2360</th>\n",
       "      <td>Minecraft: Story Mode</td>\n",
       "      <td>X360</td>\n",
       "      <td>2015</td>\n",
       "      <td>Adventure</td>\n",
       "      <td>0.48</td>\n",
       "      <td>0.33</td>\n",
       "      <td>0.00</td>\n",
       "      <td>0.08</td>\n",
       "      <td>NaN</td>\n",
       "      <td>NaN</td>\n",
       "      <td>unknown</td>\n",
       "      <td>0.89</td>\n",
       "    </tr>\n",
       "    <tr>\n",
       "      <th>2625</th>\n",
       "      <td>Dead Island: Riptide</td>\n",
       "      <td>X360</td>\n",
       "      <td>2013</td>\n",
       "      <td>Action</td>\n",
       "      <td>0.44</td>\n",
       "      <td>0.26</td>\n",
       "      <td>0.01</td>\n",
       "      <td>0.07</td>\n",
       "      <td>57.0</td>\n",
       "      <td>6.3</td>\n",
       "      <td>M</td>\n",
       "      <td>0.78</td>\n",
       "    </tr>\n",
       "    <tr>\n",
       "      <th>2641</th>\n",
       "      <td>Aliens: Colonial Marines</td>\n",
       "      <td>X360</td>\n",
       "      <td>2013</td>\n",
       "      <td>Shooter</td>\n",
       "      <td>0.36</td>\n",
       "      <td>0.34</td>\n",
       "      <td>0.00</td>\n",
       "      <td>0.07</td>\n",
       "      <td>48.0</td>\n",
       "      <td>3.8</td>\n",
       "      <td>M</td>\n",
       "      <td>0.77</td>\n",
       "    </tr>\n",
       "    <tr>\n",
       "      <th>2847</th>\n",
       "      <td>Borderlands: The Pre-Sequel</td>\n",
       "      <td>X360</td>\n",
       "      <td>2014</td>\n",
       "      <td>Shooter</td>\n",
       "      <td>0.46</td>\n",
       "      <td>0.19</td>\n",
       "      <td>0.01</td>\n",
       "      <td>0.07</td>\n",
       "      <td>74.0</td>\n",
       "      <td>6.4</td>\n",
       "      <td>M</td>\n",
       "      <td>0.73</td>\n",
       "    </tr>\n",
       "    <tr>\n",
       "      <th>3014</th>\n",
       "      <td>Terraria</td>\n",
       "      <td>X360</td>\n",
       "      <td>2013</td>\n",
       "      <td>Action</td>\n",
       "      <td>0.35</td>\n",
       "      <td>0.27</td>\n",
       "      <td>0.00</td>\n",
       "      <td>0.06</td>\n",
       "      <td>81.0</td>\n",
       "      <td>7.2</td>\n",
       "      <td>T</td>\n",
       "      <td>0.68</td>\n",
       "    </tr>\n",
       "    <tr>\n",
       "      <th>3197</th>\n",
       "      <td>The Walking Dead: Survival Instinct</td>\n",
       "      <td>X360</td>\n",
       "      <td>2013</td>\n",
       "      <td>Shooter</td>\n",
       "      <td>0.46</td>\n",
       "      <td>0.11</td>\n",
       "      <td>0.00</td>\n",
       "      <td>0.05</td>\n",
       "      <td>32.0</td>\n",
       "      <td>4.0</td>\n",
       "      <td>M</td>\n",
       "      <td>0.62</td>\n",
       "    </tr>\n",
       "    <tr>\n",
       "      <th>3495</th>\n",
       "      <td>Payday 2</td>\n",
       "      <td>X360</td>\n",
       "      <td>2013</td>\n",
       "      <td>Shooter</td>\n",
       "      <td>0.33</td>\n",
       "      <td>0.19</td>\n",
       "      <td>0.00</td>\n",
       "      <td>0.05</td>\n",
       "      <td>75.0</td>\n",
       "      <td>6.3</td>\n",
       "      <td>M</td>\n",
       "      <td>0.57</td>\n",
       "    </tr>\n",
       "    <tr>\n",
       "      <th>3527</th>\n",
       "      <td>Defiance</td>\n",
       "      <td>X360</td>\n",
       "      <td>2013</td>\n",
       "      <td>Shooter</td>\n",
       "      <td>0.38</td>\n",
       "      <td>0.14</td>\n",
       "      <td>0.00</td>\n",
       "      <td>0.05</td>\n",
       "      <td>60.0</td>\n",
       "      <td>7.2</td>\n",
       "      <td>M</td>\n",
       "      <td>0.57</td>\n",
       "    </tr>\n",
       "    <tr>\n",
       "      <th>4115</th>\n",
       "      <td>Major League Baseball 2K13</td>\n",
       "      <td>X360</td>\n",
       "      <td>2013</td>\n",
       "      <td>Sports</td>\n",
       "      <td>0.44</td>\n",
       "      <td>0.00</td>\n",
       "      <td>0.00</td>\n",
       "      <td>0.04</td>\n",
       "      <td>NaN</td>\n",
       "      <td>NaN</td>\n",
       "      <td>unknown</td>\n",
       "      <td>0.48</td>\n",
       "    </tr>\n",
       "    <tr>\n",
       "      <th>8426</th>\n",
       "      <td>NASCAR '14</td>\n",
       "      <td>X360</td>\n",
       "      <td>2014</td>\n",
       "      <td>Racing</td>\n",
       "      <td>0.15</td>\n",
       "      <td>0.00</td>\n",
       "      <td>0.00</td>\n",
       "      <td>0.02</td>\n",
       "      <td>65.0</td>\n",
       "      <td>5.1</td>\n",
       "      <td>E</td>\n",
       "      <td>0.17</td>\n",
       "    </tr>\n",
       "    <tr>\n",
       "      <th>8434</th>\n",
       "      <td>NASCAR '15</td>\n",
       "      <td>X360</td>\n",
       "      <td>2015</td>\n",
       "      <td>Sports</td>\n",
       "      <td>0.15</td>\n",
       "      <td>0.00</td>\n",
       "      <td>0.00</td>\n",
       "      <td>0.02</td>\n",
       "      <td>NaN</td>\n",
       "      <td>3.8</td>\n",
       "      <td>E</td>\n",
       "      <td>0.17</td>\n",
       "    </tr>\n",
       "    <tr>\n",
       "      <th>9609</th>\n",
       "      <td>Fuse (Insomniac)</td>\n",
       "      <td>X360</td>\n",
       "      <td>2013</td>\n",
       "      <td>Shooter</td>\n",
       "      <td>0.09</td>\n",
       "      <td>0.03</td>\n",
       "      <td>0.00</td>\n",
       "      <td>0.01</td>\n",
       "      <td>NaN</td>\n",
       "      <td>NaN</td>\n",
       "      <td>unknown</td>\n",
       "      <td>0.13</td>\n",
       "    </tr>\n",
       "    <tr>\n",
       "      <th>10399</th>\n",
       "      <td>Pac-Man and the Ghostly Adventures 2</td>\n",
       "      <td>X360</td>\n",
       "      <td>2014</td>\n",
       "      <td>Adventure</td>\n",
       "      <td>0.05</td>\n",
       "      <td>0.04</td>\n",
       "      <td>0.00</td>\n",
       "      <td>0.01</td>\n",
       "      <td>60.0</td>\n",
       "      <td>6.5</td>\n",
       "      <td>E10+</td>\n",
       "      <td>0.10</td>\n",
       "    </tr>\n",
       "    <tr>\n",
       "      <th>11083</th>\n",
       "      <td>SpongeBob: HeroPants</td>\n",
       "      <td>X360</td>\n",
       "      <td>2015</td>\n",
       "      <td>Platform</td>\n",
       "      <td>0.08</td>\n",
       "      <td>0.00</td>\n",
       "      <td>0.00</td>\n",
       "      <td>0.01</td>\n",
       "      <td>NaN</td>\n",
       "      <td>3.4</td>\n",
       "      <td>E</td>\n",
       "      <td>0.09</td>\n",
       "    </tr>\n",
       "    <tr>\n",
       "      <th>12411</th>\n",
       "      <td>NHL Legacy</td>\n",
       "      <td>X360</td>\n",
       "      <td>2015</td>\n",
       "      <td>Action</td>\n",
       "      <td>0.06</td>\n",
       "      <td>0.00</td>\n",
       "      <td>0.00</td>\n",
       "      <td>0.01</td>\n",
       "      <td>NaN</td>\n",
       "      <td>NaN</td>\n",
       "      <td>unknown</td>\n",
       "      <td>0.07</td>\n",
       "    </tr>\n",
       "    <tr>\n",
       "      <th>12461</th>\n",
       "      <td>MX vs. ATV Supercross</td>\n",
       "      <td>X360</td>\n",
       "      <td>2014</td>\n",
       "      <td>Racing</td>\n",
       "      <td>0.03</td>\n",
       "      <td>0.02</td>\n",
       "      <td>0.00</td>\n",
       "      <td>0.01</td>\n",
       "      <td>48.0</td>\n",
       "      <td>4.8</td>\n",
       "      <td>E</td>\n",
       "      <td>0.06</td>\n",
       "    </tr>\n",
       "    <tr>\n",
       "      <th>12822</th>\n",
       "      <td>Ride to Hell</td>\n",
       "      <td>X360</td>\n",
       "      <td>2013</td>\n",
       "      <td>Racing</td>\n",
       "      <td>0.04</td>\n",
       "      <td>0.01</td>\n",
       "      <td>0.00</td>\n",
       "      <td>0.01</td>\n",
       "      <td>19.0</td>\n",
       "      <td>1.3</td>\n",
       "      <td>M</td>\n",
       "      <td>0.06</td>\n",
       "    </tr>\n",
       "    <tr>\n",
       "      <th>13751</th>\n",
       "      <td>Call of Duty: Modern Warfare Trilogy</td>\n",
       "      <td>X360</td>\n",
       "      <td>2016</td>\n",
       "      <td>Shooter</td>\n",
       "      <td>0.02</td>\n",
       "      <td>0.02</td>\n",
       "      <td>0.00</td>\n",
       "      <td>0.00</td>\n",
       "      <td>NaN</td>\n",
       "      <td>NaN</td>\n",
       "      <td>M</td>\n",
       "      <td>0.04</td>\n",
       "    </tr>\n",
       "    <tr>\n",
       "      <th>14486</th>\n",
       "      <td>Fast &amp; Furious: Showdown</td>\n",
       "      <td>X360</td>\n",
       "      <td>2013</td>\n",
       "      <td>Action</td>\n",
       "      <td>0.00</td>\n",
       "      <td>0.03</td>\n",
       "      <td>0.00</td>\n",
       "      <td>0.00</td>\n",
       "      <td>NaN</td>\n",
       "      <td>NaN</td>\n",
       "      <td>unknown</td>\n",
       "      <td>0.03</td>\n",
       "    </tr>\n",
       "    <tr>\n",
       "      <th>16217</th>\n",
       "      <td>DoDonPachi Saidaioujou</td>\n",
       "      <td>X360</td>\n",
       "      <td>2013</td>\n",
       "      <td>Shooter</td>\n",
       "      <td>0.00</td>\n",
       "      <td>0.00</td>\n",
       "      <td>0.01</td>\n",
       "      <td>0.00</td>\n",
       "      <td>NaN</td>\n",
       "      <td>NaN</td>\n",
       "      <td>unknown</td>\n",
       "      <td>0.01</td>\n",
       "    </tr>\n",
       "    <tr>\n",
       "      <th>16301</th>\n",
       "      <td>Caladrius</td>\n",
       "      <td>X360</td>\n",
       "      <td>2013</td>\n",
       "      <td>Shooter</td>\n",
       "      <td>0.00</td>\n",
       "      <td>0.00</td>\n",
       "      <td>0.01</td>\n",
       "      <td>0.00</td>\n",
       "      <td>NaN</td>\n",
       "      <td>NaN</td>\n",
       "      <td>T</td>\n",
       "      <td>0.01</td>\n",
       "    </tr>\n",
       "  </tbody>\n",
       "</table>\n",
       "</div>"
      ],
      "text/plain": [
       "                                           name platform  year_of_release  \\\n",
       "60                         Call of Duty: Ghosts     X360             2013   \n",
       "72                                    Minecraft     X360             2013   \n",
       "612                                    NBA 2K14     X360             2013   \n",
       "724                               Madden NFL 25     X360             2013   \n",
       "730                    LEGO Marvel Super Heroes     X360             2013   \n",
       "890                           BioShock Infinite     X360             2013   \n",
       "1103                              Saints Row IV     X360             2013   \n",
       "1179                     Gears of War: Judgment     X360             2013   \n",
       "1393                   Injustice: Gods Among Us     X360             2013   \n",
       "1548                   The LEGO Movie Videogame     X360             2014   \n",
       "1872                           NCAA Football 14     X360             2013   \n",
       "1905   Disney Infinity 2.0: Marvel Super Heroes     X360             2014   \n",
       "1911         Plants vs. Zombies: Garden Warfare     X360             2014   \n",
       "2107                               Dead Space 3     X360             2013   \n",
       "2110      Tom Clancy's Splinter Cell: Blacklist     X360             2013   \n",
       "2296                                   Crysis 3     X360             2013   \n",
       "2360                      Minecraft: Story Mode     X360             2015   \n",
       "2625                       Dead Island: Riptide     X360             2013   \n",
       "2641                   Aliens: Colonial Marines     X360             2013   \n",
       "2847                Borderlands: The Pre-Sequel     X360             2014   \n",
       "3014                                   Terraria     X360             2013   \n",
       "3197        The Walking Dead: Survival Instinct     X360             2013   \n",
       "3495                                   Payday 2     X360             2013   \n",
       "3527                                   Defiance     X360             2013   \n",
       "4115                 Major League Baseball 2K13     X360             2013   \n",
       "8426                                 NASCAR '14     X360             2014   \n",
       "8434                                 NASCAR '15     X360             2015   \n",
       "9609                           Fuse (Insomniac)     X360             2013   \n",
       "10399      Pac-Man and the Ghostly Adventures 2     X360             2014   \n",
       "11083                      SpongeBob: HeroPants     X360             2015   \n",
       "12411                                NHL Legacy     X360             2015   \n",
       "12461                     MX vs. ATV Supercross     X360             2014   \n",
       "12822                              Ride to Hell     X360             2013   \n",
       "13751      Call of Duty: Modern Warfare Trilogy     X360             2016   \n",
       "14486                  Fast & Furious: Showdown     X360             2013   \n",
       "16217                    DoDonPachi Saidaioujou     X360             2013   \n",
       "16301                                 Caladrius     X360             2013   \n",
       "\n",
       "           genre  na_sales  eu_sales  jp_sales  other_sales  critic_score  \\\n",
       "60       Shooter      6.73      2.56      0.04         0.91          73.0   \n",
       "72          Misc      5.70      2.65      0.02         0.81           NaN   \n",
       "612       Sports      2.10      0.19      0.00         0.23          87.0   \n",
       "724       Sports      1.98      0.06      0.00         0.19          80.0   \n",
       "730       Action      1.24      0.79      0.00         0.19          80.0   \n",
       "890      Shooter      1.22      0.54      0.02         0.16          93.0   \n",
       "1103      Action      1.01      0.50      0.01         0.13          81.0   \n",
       "1179     Shooter      0.92      0.50      0.03         0.12          79.0   \n",
       "1393    Fighting      0.97      0.30      0.00         0.11          81.0   \n",
       "1548      Action      0.69      0.47      0.00         0.11          69.0   \n",
       "1872      Sports      1.01      0.00      0.00         0.08          77.0   \n",
       "1905      Action      0.64      0.34      0.00         0.10           NaN   \n",
       "1911     Shooter      0.51      0.47      0.00         0.09          69.0   \n",
       "2107      Action      0.64      0.26      0.00         0.08          78.0   \n",
       "2110      Action      0.57      0.32      0.01         0.08          82.0   \n",
       "2296     Shooter      0.51      0.31      0.01         0.08          76.0   \n",
       "2360   Adventure      0.48      0.33      0.00         0.08           NaN   \n",
       "2625      Action      0.44      0.26      0.01         0.07          57.0   \n",
       "2641     Shooter      0.36      0.34      0.00         0.07          48.0   \n",
       "2847     Shooter      0.46      0.19      0.01         0.07          74.0   \n",
       "3014      Action      0.35      0.27      0.00         0.06          81.0   \n",
       "3197     Shooter      0.46      0.11      0.00         0.05          32.0   \n",
       "3495     Shooter      0.33      0.19      0.00         0.05          75.0   \n",
       "3527     Shooter      0.38      0.14      0.00         0.05          60.0   \n",
       "4115      Sports      0.44      0.00      0.00         0.04           NaN   \n",
       "8426      Racing      0.15      0.00      0.00         0.02          65.0   \n",
       "8434      Sports      0.15      0.00      0.00         0.02           NaN   \n",
       "9609     Shooter      0.09      0.03      0.00         0.01           NaN   \n",
       "10399  Adventure      0.05      0.04      0.00         0.01          60.0   \n",
       "11083   Platform      0.08      0.00      0.00         0.01           NaN   \n",
       "12411     Action      0.06      0.00      0.00         0.01           NaN   \n",
       "12461     Racing      0.03      0.02      0.00         0.01          48.0   \n",
       "12822     Racing      0.04      0.01      0.00         0.01          19.0   \n",
       "13751    Shooter      0.02      0.02      0.00         0.00           NaN   \n",
       "14486     Action      0.00      0.03      0.00         0.00           NaN   \n",
       "16217    Shooter      0.00      0.00      0.01         0.00           NaN   \n",
       "16301    Shooter      0.00      0.00      0.01         0.00           NaN   \n",
       "\n",
       "       user_score   rating  total_sales  \n",
       "60            2.6        M        10.24  \n",
       "72            NaN  unknown         9.18  \n",
       "612           4.9        E         2.52  \n",
       "724           5.6        E         2.23  \n",
       "730           7.6     E10+         2.22  \n",
       "890           8.5        M         1.94  \n",
       "1103          6.5        M         1.65  \n",
       "1179          5.4        M         1.57  \n",
       "1393          7.9        T         1.38  \n",
       "1548          7.2     E10+         1.27  \n",
       "1872          5.8        E         1.09  \n",
       "1905          NaN  unknown         1.08  \n",
       "1911          7.3     E10+         1.07  \n",
       "2107          6.4        M         0.98  \n",
       "2110          7.5        M         0.98  \n",
       "2296          6.7        M         0.91  \n",
       "2360          NaN  unknown         0.89  \n",
       "2625          6.3        M         0.78  \n",
       "2641          3.8        M         0.77  \n",
       "2847          6.4        M         0.73  \n",
       "3014          7.2        T         0.68  \n",
       "3197          4.0        M         0.62  \n",
       "3495          6.3        M         0.57  \n",
       "3527          7.2        M         0.57  \n",
       "4115          NaN  unknown         0.48  \n",
       "8426          5.1        E         0.17  \n",
       "8434          3.8        E         0.17  \n",
       "9609          NaN  unknown         0.13  \n",
       "10399         6.5     E10+         0.10  \n",
       "11083         3.4        E         0.09  \n",
       "12411         NaN  unknown         0.07  \n",
       "12461         4.8        E         0.06  \n",
       "12822         1.3        M         0.06  \n",
       "13751         NaN        M         0.04  \n",
       "14486         NaN  unknown         0.03  \n",
       "16217         NaN  unknown         0.01  \n",
       "16301         NaN        T         0.01  "
      ]
     },
     "execution_count": 37,
     "metadata": {},
     "output_type": "execute_result"
    }
   ],
   "source": [
    "X360_platform = filtered_years[filtered_years['platform'] == 'X360']\n",
    "X360_platform"
   ]
  },
  {
   "cell_type": "markdown",
   "metadata": {},
   "source": [
    "Построим диаграмму рассеяния для отзывов критиков."
   ]
  },
  {
   "cell_type": "code",
   "execution_count": 38,
   "metadata": {},
   "outputs": [
    {
     "data": {
      "image/png": "[encoded data removed]",
      "text/plain": [
       "<Figure size 720x432 with 1 Axes>"
      ]
     },
     "metadata": {
      "needs_background": "light"
     },
     "output_type": "display_data"
    }
   ],
   "source": [
    "plt.figure(figsize=(10, 6))\n",
    "\n",
    "sns.scatterplot(x='critic_score', y='total_sales', data=X360_platform, color='lightgreen', label='Критики', edgecolor='black')\n",
    "plt.title('Влияние отзывов критиков на продажи игр (платформа X360)')\n",
    "plt.xlabel('Оценка критиков')\n",
    "plt.ylabel('Общие продажи (в млн)')\n",
    "plt.legend()\n",
    "plt.grid(True)\n",
    "\n",
    "plt.show()"
   ]
  },
  {
   "cell_type": "markdown",
   "metadata": {},
   "source": [
    "Посмотрим на числовое значение корреляции продаж от отзывов критиков."
   ]
  },
  {
   "cell_type": "code",
   "execution_count": 39,
   "metadata": {},
   "outputs": [
    {
     "name": "stdout",
     "output_type": "stream",
     "text": [
      "Корреляция между отзывами критиков и продажами: 0.2793306604717072\n"
     ]
    }
   ],
   "source": [
    "correlation = X360_platform['critic_score'].corr(X360_platform['total_sales'])\n",
    "print('Корреляция между отзывами критиков и продажами:', correlation)"
   ]
  },
  {
   "cell_type": "markdown",
   "metadata": {},
   "source": [
    "Построим диаграмму рассеяния для отзывов пользователей."
   ]
  },
  {
   "cell_type": "code",
   "execution_count": 40,
   "metadata": {},
   "outputs": [
    {
     "data": {
      "image/png": "[encoded data removed]",
      "text/plain": [
       "<Figure size 864x432 with 1 Axes>"
      ]
     },
     "metadata": {
      "needs_background": "light"
     },
     "output_type": "display_data"
    }
   ],
   "source": [
    "plt.figure(figsize=(12, 6))\n",
    "sns.scatterplot(x='user_score', y='total_sales', data=X360_platform, color='blue', label='Пользователи')\n",
    "plt.title('Влияние пользовательских отзывов на продажи игр (платформа X360)')\n",
    "plt.xlabel('Оценка пользователей')\n",
    "plt.ylabel('Общие продажи (в млн)')\n",
    "plt.legend()\n",
    "plt.grid(True)\n",
    "plt.show()"
   ]
  },
  {
   "cell_type": "code",
   "execution_count": 41,
   "metadata": {},
   "outputs": [
    {
     "name": "stdout",
     "output_type": "stream",
     "text": [
      "Корреляция между отзывами пользователей и продажами: -0.1878070375312464\n"
     ]
    }
   ],
   "source": [
    "correlation = X360_platform['user_score'].corr(X360_platform['total_sales'])\n",
    "print('Корреляция между отзывами пользователей и продажами:', correlation)"
   ]
  },
  {
   "cell_type": "markdown",
   "metadata": {},
   "source": [
    "***Промежуточный вывод:***  \n",
    "По значению корреляции 0.279 можно сделать вывод, об очень слабой корреляции между отзывами критиков и объемами продаж игр. И полное отсутсвие взаимосвязи между отзывами пользователей и продажаими, так как уровень корреляции отрицательны (-0,187).\n",
    "Подытожив можно сказать что отзывы критиков и пользователей не имеют определяющего значения в росте продаж, вероятно совокупность различных факторов формирцет потребительский спрос на игры."
   ]
  },
  {
   "cell_type": "markdown",
   "metadata": {},
   "source": [
    "<div class=\"alert alert-info\" style=\"border-radius: 10px; box-shadow: 2px 2px 2px; border: 1px solid; padding: 10px \"> \n",
    "<b>Комментарий студента</b> \n",
    "    \n",
    "Корректирую вывод исходя из шпаргалки по корреляции ниже\n",
    "</div>"
   ]
  },
  {
   "cell_type": "markdown",
   "metadata": {},
   "source": [
    "#### Соотнесите выводы с продажами игр на других платформах."
   ]
  },
  {
   "cell_type": "markdown",
   "metadata": {},
   "source": [
    "Для проверки вывода сделанного на предыдущем шаге исследования о взаимосвязи отзывов критиков и пользователей на продажи игр, рассмотрим еще несколько платформ чтобы выявить тенденции или опровергнуть вывод предыдущего этапа. Рассмотрим платофрмы ***WiiU***, ***XOne*** и ***PS4***."
   ]
  },
  {
   "cell_type": "markdown",
   "metadata": {},
   "source": [
    "Возьмем платформу ***WiiU*** для рассмотрения влияния отзывов критикой и зрителей на продажи. На основании датасета ***filtered_years*** отфильтруем по названию платформы интересующую нас инофрмацию."
   ]
  },
  {
   "cell_type": "code",
   "execution_count": 42,
   "metadata": {},
   "outputs": [],
   "source": [
    "wiiu_platform = filtered_years[filtered_years['platform'] == 'WiiU']"
   ]
  },
  {
   "cell_type": "markdown",
   "metadata": {},
   "source": [
    "Построим диаграмму рассеяния для отзывов критиков."
   ]
  },
  {
   "cell_type": "code",
   "execution_count": 43,
   "metadata": {},
   "outputs": [
    {
     "data": {
      "image/png": "[encoded data removed]",
      "text/plain": [
       "<Figure size 720x432 with 1 Axes>"
      ]
     },
     "metadata": {
      "needs_background": "light"
     },
     "output_type": "display_data"
    }
   ],
   "source": [
    "plt.figure(figsize=(10, 6))\n",
    "\n",
    "sns.scatterplot(x='critic_score', y='total_sales', data=wiiu_platform, color='lightgreen', label='Критики', edgecolor='black')\n",
    "plt.title('Влияние отзывов критиков на продажи игр (платформа WiiU)')\n",
    "plt.xlabel('Оценка критиков')\n",
    "plt.ylabel('Общие продажи (в млн)')\n",
    "plt.legend()\n",
    "plt.grid(True)\n",
    "\n",
    "plt.show()"
   ]
  },
  {
   "cell_type": "markdown",
   "metadata": {},
   "source": [
    "Посмотрим на числовое значение корреляции продаж от отзывов критиков."
   ]
  },
  {
   "cell_type": "code",
   "execution_count": 44,
   "metadata": {},
   "outputs": [
    {
     "name": "stdout",
     "output_type": "stream",
     "text": [
      "Корреляция между отзывами критиков и продажами: 0.41460076960425046\n"
     ]
    }
   ],
   "source": [
    "correlation = wiiu_platform['critic_score'].corr(wiiu_platform['total_sales'])\n",
    "print('Корреляция между отзывами критиков и продажами:', correlation)"
   ]
  },
  {
   "cell_type": "markdown",
   "metadata": {},
   "source": [
    "Построим диаграмму рассеяния для отзывов пользователей."
   ]
  },
  {
   "cell_type": "code",
   "execution_count": 45,
   "metadata": {},
   "outputs": [
    {
     "data": {
      "image/png": "[encoded data removed]",
      "text/plain": [
       "<Figure size 864x432 with 1 Axes>"
      ]
     },
     "metadata": {
      "needs_background": "light"
     },
     "output_type": "display_data"
    }
   ],
   "source": [
    "plt.figure(figsize=(12, 6))\n",
    "sns.scatterplot(x='user_score', y='total_sales', data=wiiu_platform, color='blue', label='Пользователи')\n",
    "plt.title('Влияние пользовательских отзывов на продажи игр (платформа WiiU)')\n",
    "plt.xlabel('Оценка пользователей')\n",
    "plt.ylabel('Общие продажи (в млн)')\n",
    "plt.legend()\n",
    "plt.grid(True)\n",
    "plt.show()"
   ]
  },
  {
   "cell_type": "code",
   "execution_count": 46,
   "metadata": {},
   "outputs": [
    {
     "name": "stdout",
     "output_type": "stream",
     "text": [
      "Корреляция между отзывами пользователей и продажами: 0.44265169466385373\n"
     ]
    }
   ],
   "source": [
    "correlation = wiiu_platform['user_score'].corr(wiiu_platform['total_sales'])\n",
    "print('Корреляция между отзывами пользователей и продажами:', correlation)"
   ]
  },
  {
   "cell_type": "markdown",
   "metadata": {},
   "source": [
    "***Промежуточный вывод по платформе WiiU:***  \n",
    "Коэффицент корреляции взаимосвязи оценки критиков на продажи игр для платформы WiiU 0.414 указывает на слабую взаимасвязь между показателями.   \n",
    "Коэффицент корреляции взаимосвязи оценки пользователей на продажи 0.442 также говорит о слабом влиянии на показатель продаж."
   ]
  },
  {
   "cell_type": "markdown",
   "metadata": {},
   "source": [
    "Возьмем платформу ***XOne*** для рассмотрения влияния отзывов критикой и зрителей на продажи. На основании датасета ***filtered_years*** отфильтруем по названию платформы интересующую нас инофрмацию."
   ]
  },
  {
   "cell_type": "code",
   "execution_count": 47,
   "metadata": {},
   "outputs": [],
   "source": [
    "xone_platform = filtered_years[filtered_years['platform'] == 'XOne']"
   ]
  },
  {
   "cell_type": "markdown",
   "metadata": {},
   "source": [
    "Построим диаграмму рассеяния для отзывов критиков."
   ]
  },
  {
   "cell_type": "code",
   "execution_count": 48,
   "metadata": {},
   "outputs": [
    {
     "data": {
      "image/png": "[encoded data removed]",
      "text/plain": [
       "<Figure size 720x432 with 1 Axes>"
      ]
     },
     "metadata": {
      "needs_background": "light"
     },
     "output_type": "display_data"
    }
   ],
   "source": [
    "plt.figure(figsize=(10, 6))\n",
    "\n",
    "sns.scatterplot(x='critic_score', y='total_sales', data=xone_platform, color='lightgreen', label='Критики', edgecolor='black')\n",
    "plt.title('Влияние отзывов критиков на продажи игр (платформа XOne)')\n",
    "plt.xlabel('Оценка критиков')\n",
    "plt.ylabel('Общие продажи (в млн)')\n",
    "plt.legend()\n",
    "plt.grid(True)\n",
    "\n",
    "plt.show()"
   ]
  },
  {
   "cell_type": "markdown",
   "metadata": {},
   "source": [
    "Посмотрим на числовое значение корреляции продаж от отзывов критиков."
   ]
  },
  {
   "cell_type": "code",
   "execution_count": 49,
   "metadata": {},
   "outputs": [
    {
     "name": "stdout",
     "output_type": "stream",
     "text": [
      "Корреляция между отзывами критиков и продажами: 0.518353739512983\n"
     ]
    }
   ],
   "source": [
    "correlation = xone_platform['critic_score'].corr(xone_platform['total_sales'])\n",
    "print('Корреляция между отзывами критиков и продажами:', correlation)"
   ]
  },
  {
   "cell_type": "markdown",
   "metadata": {},
   "source": [
    "Построим диаграмму рассеяния для отзывов пользователей."
   ]
  },
  {
   "cell_type": "code",
   "execution_count": 50,
   "metadata": {},
   "outputs": [
    {
     "data": {
      "image/png": "[encoded data removed]",
      "text/plain": [
       "<Figure size 864x432 with 1 Axes>"
      ]
     },
     "metadata": {
      "needs_background": "light"
     },
     "output_type": "display_data"
    }
   ],
   "source": [
    "plt.figure(figsize=(12, 6))\n",
    "sns.scatterplot(x='user_score', y='total_sales', data=xone_platform, color='blue', label='Пользователи')\n",
    "plt.title('Влияние пользовательских отзывов на продажи игр (платформа XOne)')\n",
    "plt.xlabel('Оценка пользователей')\n",
    "plt.ylabel('Общие продажи (в млн)')\n",
    "plt.legend()\n",
    "plt.grid(True)\n",
    "plt.show()"
   ]
  },
  {
   "cell_type": "code",
   "execution_count": 51,
   "metadata": {},
   "outputs": [
    {
     "name": "stdout",
     "output_type": "stream",
     "text": [
      "Корреляция между отзывами пользователей и продажами: 0.09923469220745382\n"
     ]
    }
   ],
   "source": [
    "correlation = xone_platform['user_score'].corr(xone_platform['total_sales'])\n",
    "print('Корреляция между отзывами пользователей и продажами:', correlation)"
   ]
  },
  {
   "cell_type": "markdown",
   "metadata": {},
   "source": [
    "***Промежуточный вывод по платформе XOne:***  \n",
    "Данные полученные процессе проверки зависимости отзывов критиков на объемы продаж для платформы ***XOne*** с коэффицентом корреляции 0.518 на взаимосвязь средней силы, но указывает на достаточно сильное влияние и других факторов. \n",
    "А коэффцент корреляции мнения пользователей на объем продаж 0.099 опять же показывает очень слабое влияние.\n",
    "Показатели для данной платформы подтверждают что влияние критиков имеет большее влияние на продажи. "
   ]
  },
  {
   "cell_type": "markdown",
   "metadata": {},
   "source": [
    "Возьмем платформу ***PS4*** для рассмотрения влияния отзывов критикой и зрителей на продажи. На основании датасета ***filtered_years*** отфильтруем по названию платформы интересующую нас информацию."
   ]
  },
  {
   "cell_type": "code",
   "execution_count": 52,
   "metadata": {},
   "outputs": [],
   "source": [
    "ps4_platform = filtered_years[filtered_years['platform'] == 'PS4']"
   ]
  },
  {
   "cell_type": "markdown",
   "metadata": {},
   "source": [
    "Построим диаграмму рассеяния для отзывов критиков."
   ]
  },
  {
   "cell_type": "code",
   "execution_count": 53,
   "metadata": {},
   "outputs": [
    {
     "data": {
      "image/png": "[encoded data removed]",
      "text/plain": [
       "<Figure size 720x432 with 1 Axes>"
      ]
     },
     "metadata": {
      "needs_background": "light"
     },
     "output_type": "display_data"
    }
   ],
   "source": [
    "plt.figure(figsize=(10, 6))\n",
    "sns.scatterplot(x='critic_score', y='total_sales', data=ps4_platform, color='lightgreen', label='Критики', edgecolor='black')\n",
    "plt.title('Влияние отзывов критиков на продажи игр (платформа PS4)')\n",
    "plt.xlabel('Оценка критиков')\n",
    "plt.ylabel('Общие продажи (в млн)')\n",
    "plt.legend()\n",
    "plt.grid(True)\n",
    "\n",
    "plt.show()\n"
   ]
  },
  {
   "cell_type": "markdown",
   "metadata": {},
   "source": [
    "Посмотрим на числовое значение корреляции продаж от отзывов критиков."
   ]
  },
  {
   "cell_type": "code",
   "execution_count": 54,
   "metadata": {},
   "outputs": [
    {
     "name": "stdout",
     "output_type": "stream",
     "text": [
      "Корреляция между отзывами критиков и продажами: 0.41895932005956243\n"
     ]
    }
   ],
   "source": [
    "correlation = ps4_platform['critic_score'].corr(ps4_platform['total_sales'])\n",
    "print('Корреляция между отзывами критиков и продажами:', correlation)"
   ]
  },
  {
   "cell_type": "markdown",
   "metadata": {},
   "source": [
    "Построим диаграмму рассеяния для отзывов пользователей."
   ]
  },
  {
   "cell_type": "code",
   "execution_count": 55,
   "metadata": {},
   "outputs": [
    {
     "data": {
      "image/png": "[encoded data removed]",
      "text/plain": [
       "<Figure size 864x432 with 1 Axes>"
      ]
     },
     "metadata": {
      "needs_background": "light"
     },
     "output_type": "display_data"
    }
   ],
   "source": [
    "plt.figure(figsize=(12, 6))\n",
    "sns.scatterplot(x='user_score', y='total_sales', data=ps4_platform, color='blue', label='Пользователи')\n",
    "plt.title('Влияние пользовательских отзывов на продажи игр (платформа PS4)')\n",
    "plt.xlabel('Оценка пользователей')\n",
    "plt.ylabel('Общие продажи (в млн)')\n",
    "plt.legend()\n",
    "plt.grid(True)\n",
    "plt.show()"
   ]
  },
  {
   "cell_type": "code",
   "execution_count": 56,
   "metadata": {},
   "outputs": [
    {
     "name": "stdout",
     "output_type": "stream",
     "text": [
      "Корреляция между отзывами пользователей и продажами: -0.053395650308599905\n"
     ]
    }
   ],
   "source": [
    "correlation = ps4_platform['user_score'].corr(ps4_platform['total_sales'])\n",
    "print('Корреляция между отзывами пользователей и продажами:', correlation)"
   ]
  },
  {
   "cell_type": "markdown",
   "metadata": {},
   "source": [
    "***Промежуточный вывод по платформе PS4:***  \n",
    "Для этой платформы корреляция между отзывами критиков и продажами 0.418 показывает слабое влияние на объемы продаж игр. А оценка пользователей влияния не имеет совсем, так как коэффицент корреляции отрицательный -0.053"
   ]
  },
  {
   "cell_type": "markdown",
   "metadata": {},
   "source": [
    "#### Посмотрите на общее распределение игр по жанрам. Что можно сказать о самых прибыльных жанрах? Выделяются ли жанры с высокими и низкими продажами?"
   ]
  },
  {
   "cell_type": "markdown",
   "metadata": {},
   "source": [
    "Для ответа на поставленный вопрос в этом разделе обратимся к таблице ***filtered_years***, и создадим сводную таблицу с суммарными продажами игр разных жанров."
   ]
  },
  {
   "cell_type": "code",
   "execution_count": 57,
   "metadata": {},
   "outputs": [
    {
     "data": {
      "text/html": [
       "<div>\n",
       "<style scoped>\n",
       "    .dataframe tbody tr th:only-of-type {\n",
       "        vertical-align: middle;\n",
       "    }\n",
       "\n",
       "    .dataframe tbody tr th {\n",
       "        vertical-align: top;\n",
       "    }\n",
       "\n",
       "    .dataframe thead th {\n",
       "        text-align: right;\n",
       "    }\n",
       "</style>\n",
       "<table border=\"1\" class=\"dataframe\">\n",
       "  <thead>\n",
       "    <tr style=\"text-align: right;\">\n",
       "      <th></th>\n",
       "      <th>genre</th>\n",
       "      <th>count_genre</th>\n",
       "      <th>total_sales</th>\n",
       "    </tr>\n",
       "  </thead>\n",
       "  <tbody>\n",
       "    <tr>\n",
       "      <th>0</th>\n",
       "      <td>Action</td>\n",
       "      <td>381</td>\n",
       "      <td>169.98</td>\n",
       "    </tr>\n",
       "    <tr>\n",
       "      <th>8</th>\n",
       "      <td>Shooter</td>\n",
       "      <td>72</td>\n",
       "      <td>127.43</td>\n",
       "    </tr>\n",
       "    <tr>\n",
       "      <th>7</th>\n",
       "      <td>Role-Playing</td>\n",
       "      <td>176</td>\n",
       "      <td>103.49</td>\n",
       "    </tr>\n",
       "    <tr>\n",
       "      <th>10</th>\n",
       "      <td>Sports</td>\n",
       "      <td>74</td>\n",
       "      <td>72.45</td>\n",
       "    </tr>\n",
       "    <tr>\n",
       "      <th>3</th>\n",
       "      <td>Misc</td>\n",
       "      <td>99</td>\n",
       "      <td>34.83</td>\n",
       "    </tr>\n",
       "    <tr>\n",
       "      <th>6</th>\n",
       "      <td>Racing</td>\n",
       "      <td>34</td>\n",
       "      <td>30.85</td>\n",
       "    </tr>\n",
       "    <tr>\n",
       "      <th>4</th>\n",
       "      <td>Platform</td>\n",
       "      <td>36</td>\n",
       "      <td>30.20</td>\n",
       "    </tr>\n",
       "    <tr>\n",
       "      <th>2</th>\n",
       "      <td>Fighting</td>\n",
       "      <td>43</td>\n",
       "      <td>22.23</td>\n",
       "    </tr>\n",
       "    <tr>\n",
       "      <th>9</th>\n",
       "      <td>Simulation</td>\n",
       "      <td>47</td>\n",
       "      <td>18.72</td>\n",
       "    </tr>\n",
       "    <tr>\n",
       "      <th>1</th>\n",
       "      <td>Adventure</td>\n",
       "      <td>167</td>\n",
       "      <td>15.63</td>\n",
       "    </tr>\n",
       "    <tr>\n",
       "      <th>11</th>\n",
       "      <td>Strategy</td>\n",
       "      <td>41</td>\n",
       "      <td>8.21</td>\n",
       "    </tr>\n",
       "    <tr>\n",
       "      <th>5</th>\n",
       "      <td>Puzzle</td>\n",
       "      <td>12</td>\n",
       "      <td>2.95</td>\n",
       "    </tr>\n",
       "  </tbody>\n",
       "</table>\n",
       "</div>"
      ],
      "text/plain": [
       "           genre  count_genre  total_sales\n",
       "0         Action          381       169.98\n",
       "8        Shooter           72       127.43\n",
       "7   Role-Playing          176       103.49\n",
       "10        Sports           74        72.45\n",
       "3           Misc           99        34.83\n",
       "6         Racing           34        30.85\n",
       "4       Platform           36        30.20\n",
       "2       Fighting           43        22.23\n",
       "9     Simulation           47        18.72\n",
       "1      Adventure          167        15.63\n",
       "11      Strategy           41         8.21\n",
       "5         Puzzle           12         2.95"
      ]
     },
     "execution_count": 57,
     "metadata": {},
     "output_type": "execute_result"
    }
   ],
   "source": [
    "pivot_table_genre = filtered_years.pivot_table(index='genre', values='total_sales', aggfunc=['count', 'sum'])\n",
    "pivot_table_genre.columns = ['count_genre', 'total_sales']\n",
    "pivot_table_genre.reset_index(inplace=True)\n",
    "pivot_table_genre.sort_values(by='total_sales', ascending=False)"
   ]
  },
  {
   "cell_type": "markdown",
   "metadata": {},
   "source": [
    "Если рассматривать по общему объему продаж то в топ 3 популярных жанра входит ***Action, Shooter*** и ***Role_Playing***. Но для достоверности обратимся к диаграмме размаха построив ее на основании таблицы ***filtered_years***."
   ]
  },
  {
   "cell_type": "code",
   "execution_count": 58,
   "metadata": {},
   "outputs": [
    {
     "data": {
      "image/png": "[encoded data removed]",
      "text/plain": [
       "<Figure size 1080x1440 with 1 Axes>"
      ]
     },
     "metadata": {
      "needs_background": "light"
     },
     "output_type": "display_data"
    }
   ],
   "source": [
    "plt.figure(figsize=(15, 20))\n",
    "sns.boxplot(x='genre', y='total_sales', data=filtered_years, width=0.7, fliersize=5)\n",
    "\n",
    "plt.title('Диаграмма размаха по продажам игр разных жанров', fontsize=16)\n",
    "plt.xlabel('Жанры', fontsize=14)\n",
    "plt.ylabel('Количество проданных экземпляров игр (в млн)', fontsize=14)\n",
    "plt.xticks(rotation=45)\n",
    "plt.ylim(0, 4.5)\n",
    "plt.grid(True)\n",
    "plt.tight_layout()\n",
    "\n",
    "plt.show()"
   ]
  },
  {
   "cell_type": "markdown",
   "metadata": {},
   "source": [
    "***Промежуточный вывод:*** \n",
    "Исходя из полученный данных, самый лучшие продажи у жанра ***Shooter***, медианное значение на уровне 0.7 млн. экз. \n",
    "Далее, хоть и с приличным отрывом идут жанры ***Sports*** и ***Racing*** (медиана на уровне 0.4 млн. копий).\n",
    "\n",
    "Жанр ***Action*** который по объему продаж и превосходит остальные жанры, показывает гораздо меньший межквартильный размах по сравнению с жанрами выше, но имеет большое количество выбросов и аномалий, что говорит о несистемно выстроенных маркетинговых стратегиях и возмодно единичных удачных играх.\n",
    "\n",
    "Говоря о наименее прибыльных играх это жанры ***Simulation***, ***Adventure***. "
   ]
  },
  {
   "cell_type": "markdown",
   "metadata": {},
   "source": [
    "### Составьте портрет пользователя каждого региона"
   ]
  },
  {
   "cell_type": "markdown",
   "metadata": {},
   "source": [
    "#### Самые популярные платформы (топ-5)"
   ]
  },
  {
   "cell_type": "markdown",
   "metadata": {},
   "source": [
    "Для начала сгруппируем продажи по платформам для каждого региона и сохраним в переменной ***platform_sales***"
   ]
  },
  {
   "cell_type": "code",
   "execution_count": 59,
   "metadata": {},
   "outputs": [
    {
     "data": {
      "text/html": [
       "<div>\n",
       "<style scoped>\n",
       "    .dataframe tbody tr th:only-of-type {\n",
       "        vertical-align: middle;\n",
       "    }\n",
       "\n",
       "    .dataframe tbody tr th {\n",
       "        vertical-align: top;\n",
       "    }\n",
       "\n",
       "    .dataframe thead th {\n",
       "        text-align: right;\n",
       "    }\n",
       "</style>\n",
       "<table border=\"1\" class=\"dataframe\">\n",
       "  <thead>\n",
       "    <tr style=\"text-align: right;\">\n",
       "      <th></th>\n",
       "      <th>platform</th>\n",
       "      <th>na_sales</th>\n",
       "      <th>eu_sales</th>\n",
       "      <th>jp_sales</th>\n",
       "    </tr>\n",
       "  </thead>\n",
       "  <tbody>\n",
       "    <tr>\n",
       "      <th>0</th>\n",
       "      <td>3DS</td>\n",
       "      <td>34.28</td>\n",
       "      <td>27.13</td>\n",
       "      <td>63.08</td>\n",
       "    </tr>\n",
       "    <tr>\n",
       "      <th>1</th>\n",
       "      <td>DS</td>\n",
       "      <td>0.11</td>\n",
       "      <td>0.39</td>\n",
       "      <td>0.00</td>\n",
       "    </tr>\n",
       "    <tr>\n",
       "      <th>2</th>\n",
       "      <td>PC</td>\n",
       "      <td>3.55</td>\n",
       "      <td>10.40</td>\n",
       "      <td>0.00</td>\n",
       "    </tr>\n",
       "    <tr>\n",
       "      <th>3</th>\n",
       "      <td>PS3</td>\n",
       "      <td>25.54</td>\n",
       "      <td>30.73</td>\n",
       "      <td>14.55</td>\n",
       "    </tr>\n",
       "    <tr>\n",
       "      <th>4</th>\n",
       "      <td>PS4</td>\n",
       "      <td>87.47</td>\n",
       "      <td>115.48</td>\n",
       "      <td>12.71</td>\n",
       "    </tr>\n",
       "    <tr>\n",
       "      <th>5</th>\n",
       "      <td>PSP</td>\n",
       "      <td>0.00</td>\n",
       "      <td>0.00</td>\n",
       "      <td>2.10</td>\n",
       "    </tr>\n",
       "    <tr>\n",
       "      <th>6</th>\n",
       "      <td>PSV</td>\n",
       "      <td>2.37</td>\n",
       "      <td>2.16</td>\n",
       "      <td>12.20</td>\n",
       "    </tr>\n",
       "    <tr>\n",
       "      <th>7</th>\n",
       "      <td>Wii</td>\n",
       "      <td>6.02</td>\n",
       "      <td>4.48</td>\n",
       "      <td>0.05</td>\n",
       "    </tr>\n",
       "    <tr>\n",
       "      <th>8</th>\n",
       "      <td>WiiU</td>\n",
       "      <td>18.12</td>\n",
       "      <td>12.23</td>\n",
       "      <td>8.82</td>\n",
       "    </tr>\n",
       "    <tr>\n",
       "      <th>9</th>\n",
       "      <td>X360</td>\n",
       "      <td>30.81</td>\n",
       "      <td>12.24</td>\n",
       "      <td>0.18</td>\n",
       "    </tr>\n",
       "    <tr>\n",
       "      <th>10</th>\n",
       "      <td>XOne</td>\n",
       "      <td>18.66</td>\n",
       "      <td>10.10</td>\n",
       "      <td>0.23</td>\n",
       "    </tr>\n",
       "  </tbody>\n",
       "</table>\n",
       "</div>"
      ],
      "text/plain": [
       "   platform  na_sales  eu_sales  jp_sales\n",
       "0       3DS     34.28     27.13     63.08\n",
       "1        DS      0.11      0.39      0.00\n",
       "2        PC      3.55     10.40      0.00\n",
       "3       PS3     25.54     30.73     14.55\n",
       "4       PS4     87.47    115.48     12.71\n",
       "5       PSP      0.00      0.00      2.10\n",
       "6       PSV      2.37      2.16     12.20\n",
       "7       Wii      6.02      4.48      0.05\n",
       "8      WiiU     18.12     12.23      8.82\n",
       "9      X360     30.81     12.24      0.18\n",
       "10     XOne     18.66     10.10      0.23"
      ]
     },
     "execution_count": 59,
     "metadata": {},
     "output_type": "execute_result"
    }
   ],
   "source": [
    "platform_sales = filtered_years.groupby('platform').agg({'na_sales': 'sum', 'eu_sales': 'sum', 'jp_sales': 'sum'}).reset_index()\n",
    "platform_sales "
   ]
  },
  {
   "cell_type": "markdown",
   "metadata": {},
   "source": [
    "Теперь отсортируем и посмотрим Топ 5 лидирующих платформ в каждом из регионов. Начнем с ***NA(Северная Америка)***"
   ]
  },
  {
   "cell_type": "code",
   "execution_count": 60,
   "metadata": {},
   "outputs": [
    {
     "data": {
      "text/html": [
       "<div>\n",
       "<style scoped>\n",
       "    .dataframe tbody tr th:only-of-type {\n",
       "        vertical-align: middle;\n",
       "    }\n",
       "\n",
       "    .dataframe tbody tr th {\n",
       "        vertical-align: top;\n",
       "    }\n",
       "\n",
       "    .dataframe thead th {\n",
       "        text-align: right;\n",
       "    }\n",
       "</style>\n",
       "<table border=\"1\" class=\"dataframe\">\n",
       "  <thead>\n",
       "    <tr style=\"text-align: right;\">\n",
       "      <th></th>\n",
       "      <th>platform</th>\n",
       "      <th>na_sales</th>\n",
       "      <th>eu_sales</th>\n",
       "      <th>jp_sales</th>\n",
       "    </tr>\n",
       "  </thead>\n",
       "  <tbody>\n",
       "    <tr>\n",
       "      <th>4</th>\n",
       "      <td>PS4</td>\n",
       "      <td>87.47</td>\n",
       "      <td>115.48</td>\n",
       "      <td>12.71</td>\n",
       "    </tr>\n",
       "    <tr>\n",
       "      <th>0</th>\n",
       "      <td>3DS</td>\n",
       "      <td>34.28</td>\n",
       "      <td>27.13</td>\n",
       "      <td>63.08</td>\n",
       "    </tr>\n",
       "    <tr>\n",
       "      <th>9</th>\n",
       "      <td>X360</td>\n",
       "      <td>30.81</td>\n",
       "      <td>12.24</td>\n",
       "      <td>0.18</td>\n",
       "    </tr>\n",
       "    <tr>\n",
       "      <th>3</th>\n",
       "      <td>PS3</td>\n",
       "      <td>25.54</td>\n",
       "      <td>30.73</td>\n",
       "      <td>14.55</td>\n",
       "    </tr>\n",
       "    <tr>\n",
       "      <th>10</th>\n",
       "      <td>XOne</td>\n",
       "      <td>18.66</td>\n",
       "      <td>10.10</td>\n",
       "      <td>0.23</td>\n",
       "    </tr>\n",
       "  </tbody>\n",
       "</table>\n",
       "</div>"
      ],
      "text/plain": [
       "   platform  na_sales  eu_sales  jp_sales\n",
       "4       PS4     87.47    115.48     12.71\n",
       "0       3DS     34.28     27.13     63.08\n",
       "9      X360     30.81     12.24      0.18\n",
       "3       PS3     25.54     30.73     14.55\n",
       "10     XOne     18.66     10.10      0.23"
      ]
     },
     "execution_count": 60,
     "metadata": {},
     "output_type": "execute_result"
    }
   ],
   "source": [
    "top_na = platform_sales.nlargest(5, 'na_sales')\n",
    "top_na"
   ]
  },
  {
   "cell_type": "markdown",
   "metadata": {},
   "source": [
    "Теперь определим Топ 5 для ***EU(Европа)***:"
   ]
  },
  {
   "cell_type": "code",
   "execution_count": 61,
   "metadata": {},
   "outputs": [
    {
     "data": {
      "text/html": [
       "<div>\n",
       "<style scoped>\n",
       "    .dataframe tbody tr th:only-of-type {\n",
       "        vertical-align: middle;\n",
       "    }\n",
       "\n",
       "    .dataframe tbody tr th {\n",
       "        vertical-align: top;\n",
       "    }\n",
       "\n",
       "    .dataframe thead th {\n",
       "        text-align: right;\n",
       "    }\n",
       "</style>\n",
       "<table border=\"1\" class=\"dataframe\">\n",
       "  <thead>\n",
       "    <tr style=\"text-align: right;\">\n",
       "      <th></th>\n",
       "      <th>platform</th>\n",
       "      <th>na_sales</th>\n",
       "      <th>eu_sales</th>\n",
       "      <th>jp_sales</th>\n",
       "    </tr>\n",
       "  </thead>\n",
       "  <tbody>\n",
       "    <tr>\n",
       "      <th>4</th>\n",
       "      <td>PS4</td>\n",
       "      <td>87.47</td>\n",
       "      <td>115.48</td>\n",
       "      <td>12.71</td>\n",
       "    </tr>\n",
       "    <tr>\n",
       "      <th>3</th>\n",
       "      <td>PS3</td>\n",
       "      <td>25.54</td>\n",
       "      <td>30.73</td>\n",
       "      <td>14.55</td>\n",
       "    </tr>\n",
       "    <tr>\n",
       "      <th>0</th>\n",
       "      <td>3DS</td>\n",
       "      <td>34.28</td>\n",
       "      <td>27.13</td>\n",
       "      <td>63.08</td>\n",
       "    </tr>\n",
       "    <tr>\n",
       "      <th>9</th>\n",
       "      <td>X360</td>\n",
       "      <td>30.81</td>\n",
       "      <td>12.24</td>\n",
       "      <td>0.18</td>\n",
       "    </tr>\n",
       "    <tr>\n",
       "      <th>8</th>\n",
       "      <td>WiiU</td>\n",
       "      <td>18.12</td>\n",
       "      <td>12.23</td>\n",
       "      <td>8.82</td>\n",
       "    </tr>\n",
       "  </tbody>\n",
       "</table>\n",
       "</div>"
      ],
      "text/plain": [
       "  platform  na_sales  eu_sales  jp_sales\n",
       "4      PS4     87.47    115.48     12.71\n",
       "3      PS3     25.54     30.73     14.55\n",
       "0      3DS     34.28     27.13     63.08\n",
       "9     X360     30.81     12.24      0.18\n",
       "8     WiiU     18.12     12.23      8.82"
      ]
     },
     "execution_count": 61,
     "metadata": {},
     "output_type": "execute_result"
    }
   ],
   "source": [
    "top_eu = platform_sales.nlargest(5, 'eu_sales')\n",
    "top_eu"
   ]
  },
  {
   "cell_type": "markdown",
   "metadata": {},
   "source": [
    "И для региона ***JP(Япония)***:"
   ]
  },
  {
   "cell_type": "code",
   "execution_count": 62,
   "metadata": {},
   "outputs": [
    {
     "data": {
      "text/html": [
       "<div>\n",
       "<style scoped>\n",
       "    .dataframe tbody tr th:only-of-type {\n",
       "        vertical-align: middle;\n",
       "    }\n",
       "\n",
       "    .dataframe tbody tr th {\n",
       "        vertical-align: top;\n",
       "    }\n",
       "\n",
       "    .dataframe thead th {\n",
       "        text-align: right;\n",
       "    }\n",
       "</style>\n",
       "<table border=\"1\" class=\"dataframe\">\n",
       "  <thead>\n",
       "    <tr style=\"text-align: right;\">\n",
       "      <th></th>\n",
       "      <th>platform</th>\n",
       "      <th>na_sales</th>\n",
       "      <th>eu_sales</th>\n",
       "      <th>jp_sales</th>\n",
       "    </tr>\n",
       "  </thead>\n",
       "  <tbody>\n",
       "    <tr>\n",
       "      <th>0</th>\n",
       "      <td>3DS</td>\n",
       "      <td>34.28</td>\n",
       "      <td>27.13</td>\n",
       "      <td>63.08</td>\n",
       "    </tr>\n",
       "    <tr>\n",
       "      <th>3</th>\n",
       "      <td>PS3</td>\n",
       "      <td>25.54</td>\n",
       "      <td>30.73</td>\n",
       "      <td>14.55</td>\n",
       "    </tr>\n",
       "    <tr>\n",
       "      <th>4</th>\n",
       "      <td>PS4</td>\n",
       "      <td>87.47</td>\n",
       "      <td>115.48</td>\n",
       "      <td>12.71</td>\n",
       "    </tr>\n",
       "    <tr>\n",
       "      <th>6</th>\n",
       "      <td>PSV</td>\n",
       "      <td>2.37</td>\n",
       "      <td>2.16</td>\n",
       "      <td>12.20</td>\n",
       "    </tr>\n",
       "    <tr>\n",
       "      <th>8</th>\n",
       "      <td>WiiU</td>\n",
       "      <td>18.12</td>\n",
       "      <td>12.23</td>\n",
       "      <td>8.82</td>\n",
       "    </tr>\n",
       "  </tbody>\n",
       "</table>\n",
       "</div>"
      ],
      "text/plain": [
       "  platform  na_sales  eu_sales  jp_sales\n",
       "0      3DS     34.28     27.13     63.08\n",
       "3      PS3     25.54     30.73     14.55\n",
       "4      PS4     87.47    115.48     12.71\n",
       "6      PSV      2.37      2.16     12.20\n",
       "8     WiiU     18.12     12.23      8.82"
      ]
     },
     "execution_count": 62,
     "metadata": {},
     "output_type": "execute_result"
    }
   ],
   "source": [
    "top_jp = platform_sales.nlargest(5, 'jp_sales')\n",
    "top_jp"
   ]
  },
  {
   "cell_type": "code",
   "execution_count": 63,
   "metadata": {},
   "outputs": [
    {
     "name": "stdout",
     "output_type": "stream",
     "text": [
      "\n",
      "Доли продаж:\n",
      "   platform  na_sales_percentage  eu_sales_percentage  jp_sales_percentage\n",
      "0       3DS            15.105980            12.039585            55.372191\n",
      "1        DS             0.048473             0.173072             0.000000\n",
      "2        PC             1.564359             4.615248             0.000000\n",
      "3       PS3            11.254572            13.637170            12.772121\n",
      "4       PS4            38.544926            51.247005            11.156952\n",
      "5       PSP             0.000000             0.000000             1.843399\n",
      "6       PSV             1.044375             0.958552            10.709270\n",
      "7       Wii             2.652800             1.988107             0.043890\n",
      "8      WiiU             7.984841             5.427354             7.742275\n",
      "9      X360            13.576874             5.431792             0.158006\n",
      "10     XOne             8.222800             4.482116             0.201896\n"
     ]
    }
   ],
   "source": [
    "total_sales_na = platform_sales['na_sales'].sum()\n",
    "total_sales_eu = platform_sales['eu_sales'].sum()\n",
    "total_sales_jp = platform_sales['jp_sales'].sum()\n",
    "\n",
    "platform_sales['na_sales_percentage'] = platform_sales['na_sales'] / total_sales_na * 100\n",
    "platform_sales['eu_sales_percentage'] = platform_sales['eu_sales'] / total_sales_eu * 100\n",
    "platform_sales['jp_sales_percentage'] = platform_sales['jp_sales'] / total_sales_jp * 100\n",
    "\n",
    "print(\"\\nДоли продаж:\")\n",
    "print(platform_sales[['platform', 'na_sales_percentage', 'eu_sales_percentage', 'jp_sales_percentage']])"
   ]
  },
  {
   "cell_type": "markdown",
   "metadata": {},
   "source": [
    "***Промежуточный вывод:***\n",
    "\n",
    "Таким образом наиболее популярные платформы по регионам:\n",
    "- ***PS4*** занимает первое место по доле продаж в Северной Америке (38.54%), что указывает на сильную популярность в регионе. В Европе ее доля еще более значительна (51.24%), а в Японии уже гораздо ниже (11.15%).\n",
    "- **PS4** занимает также первое место в Европе (51.24%) что поддтверждает популярность среди европейских пользователей.\n",
    "- ***3DS*** (55.37%) занимает первое место в Японии, при этом в Северное Америке плафторма занимает 2-е место(15.1%), а в Европе 3е место по популярности (12.03%) \n"
   ]
  },
  {
   "cell_type": "markdown",
   "metadata": {},
   "source": [
    "#### Самые популярные жанры (топ-5). "
   ]
  },
  {
   "cell_type": "markdown",
   "metadata": {},
   "source": [
    "Для начала сгруппируем продажи по жанрам для каждого региона и сохраним в переменной ***genre_sales***"
   ]
  },
  {
   "cell_type": "code",
   "execution_count": 64,
   "metadata": {},
   "outputs": [],
   "source": [
    "genre_sales = filtered_years.groupby('genre').agg({'na_sales': 'sum','eu_sales': 'sum','jp_sales': 'sum'}).reset_index()"
   ]
  },
  {
   "cell_type": "markdown",
   "metadata": {},
   "source": [
    "Произведем сортировку и выберем ТОП 5 жанров для каждого региона. Начнем с ***NA (Северная Америка)***"
   ]
  },
  {
   "cell_type": "code",
   "execution_count": 65,
   "metadata": {},
   "outputs": [
    {
     "data": {
      "text/html": [
       "<div>\n",
       "<style scoped>\n",
       "    .dataframe tbody tr th:only-of-type {\n",
       "        vertical-align: middle;\n",
       "    }\n",
       "\n",
       "    .dataframe tbody tr th {\n",
       "        vertical-align: top;\n",
       "    }\n",
       "\n",
       "    .dataframe thead th {\n",
       "        text-align: right;\n",
       "    }\n",
       "</style>\n",
       "<table border=\"1\" class=\"dataframe\">\n",
       "  <thead>\n",
       "    <tr style=\"text-align: right;\">\n",
       "      <th></th>\n",
       "      <th>genre</th>\n",
       "      <th>na_sales</th>\n",
       "      <th>eu_sales</th>\n",
       "      <th>jp_sales</th>\n",
       "    </tr>\n",
       "  </thead>\n",
       "  <tbody>\n",
       "    <tr>\n",
       "      <th>0</th>\n",
       "      <td>Action</td>\n",
       "      <td>57.12</td>\n",
       "      <td>60.11</td>\n",
       "      <td>31.90</td>\n",
       "    </tr>\n",
       "    <tr>\n",
       "      <th>8</th>\n",
       "      <td>Shooter</td>\n",
       "      <td>55.67</td>\n",
       "      <td>49.56</td>\n",
       "      <td>5.02</td>\n",
       "    </tr>\n",
       "    <tr>\n",
       "      <th>7</th>\n",
       "      <td>Role-Playing</td>\n",
       "      <td>29.75</td>\n",
       "      <td>24.31</td>\n",
       "      <td>41.94</td>\n",
       "    </tr>\n",
       "    <tr>\n",
       "      <th>10</th>\n",
       "      <td>Sports</td>\n",
       "      <td>27.39</td>\n",
       "      <td>31.04</td>\n",
       "      <td>3.26</td>\n",
       "    </tr>\n",
       "    <tr>\n",
       "      <th>3</th>\n",
       "      <td>Misc</td>\n",
       "      <td>14.46</td>\n",
       "      <td>10.22</td>\n",
       "      <td>7.60</td>\n",
       "    </tr>\n",
       "  </tbody>\n",
       "</table>\n",
       "</div>"
      ],
      "text/plain": [
       "           genre  na_sales  eu_sales  jp_sales\n",
       "0         Action     57.12     60.11     31.90\n",
       "8        Shooter     55.67     49.56      5.02\n",
       "7   Role-Playing     29.75     24.31     41.94\n",
       "10        Sports     27.39     31.04      3.26\n",
       "3           Misc     14.46     10.22      7.60"
      ]
     },
     "execution_count": 65,
     "metadata": {},
     "output_type": "execute_result"
    }
   ],
   "source": [
    "top_na_genres = genre_sales.nlargest(5, 'na_sales')\n",
    "top_na_genres"
   ]
  },
  {
   "cell_type": "markdown",
   "metadata": {},
   "source": [
    "Теперь определим Топ 5 жанров для ***EU(Европа)***:"
   ]
  },
  {
   "cell_type": "code",
   "execution_count": 66,
   "metadata": {},
   "outputs": [
    {
     "data": {
      "text/html": [
       "<div>\n",
       "<style scoped>\n",
       "    .dataframe tbody tr th:only-of-type {\n",
       "        vertical-align: middle;\n",
       "    }\n",
       "\n",
       "    .dataframe tbody tr th {\n",
       "        vertical-align: top;\n",
       "    }\n",
       "\n",
       "    .dataframe thead th {\n",
       "        text-align: right;\n",
       "    }\n",
       "</style>\n",
       "<table border=\"1\" class=\"dataframe\">\n",
       "  <thead>\n",
       "    <tr style=\"text-align: right;\">\n",
       "      <th></th>\n",
       "      <th>genre</th>\n",
       "      <th>na_sales</th>\n",
       "      <th>eu_sales</th>\n",
       "      <th>jp_sales</th>\n",
       "    </tr>\n",
       "  </thead>\n",
       "  <tbody>\n",
       "    <tr>\n",
       "      <th>0</th>\n",
       "      <td>Action</td>\n",
       "      <td>57.12</td>\n",
       "      <td>60.11</td>\n",
       "      <td>31.90</td>\n",
       "    </tr>\n",
       "    <tr>\n",
       "      <th>8</th>\n",
       "      <td>Shooter</td>\n",
       "      <td>55.67</td>\n",
       "      <td>49.56</td>\n",
       "      <td>5.02</td>\n",
       "    </tr>\n",
       "    <tr>\n",
       "      <th>10</th>\n",
       "      <td>Sports</td>\n",
       "      <td>27.39</td>\n",
       "      <td>31.04</td>\n",
       "      <td>3.26</td>\n",
       "    </tr>\n",
       "    <tr>\n",
       "      <th>7</th>\n",
       "      <td>Role-Playing</td>\n",
       "      <td>29.75</td>\n",
       "      <td>24.31</td>\n",
       "      <td>41.94</td>\n",
       "    </tr>\n",
       "    <tr>\n",
       "      <th>6</th>\n",
       "      <td>Racing</td>\n",
       "      <td>9.76</td>\n",
       "      <td>15.34</td>\n",
       "      <td>2.16</td>\n",
       "    </tr>\n",
       "  </tbody>\n",
       "</table>\n",
       "</div>"
      ],
      "text/plain": [
       "           genre  na_sales  eu_sales  jp_sales\n",
       "0         Action     57.12     60.11     31.90\n",
       "8        Shooter     55.67     49.56      5.02\n",
       "10        Sports     27.39     31.04      3.26\n",
       "7   Role-Playing     29.75     24.31     41.94\n",
       "6         Racing      9.76     15.34      2.16"
      ]
     },
     "execution_count": 66,
     "metadata": {},
     "output_type": "execute_result"
    }
   ],
   "source": [
    "top_eu_genres = genre_sales.nlargest(5, 'eu_sales')\n",
    "top_eu_genres"
   ]
  },
  {
   "cell_type": "markdown",
   "metadata": {},
   "source": [
    "И для региона ***JP(Япония)***:"
   ]
  },
  {
   "cell_type": "code",
   "execution_count": 67,
   "metadata": {},
   "outputs": [
    {
     "data": {
      "text/html": [
       "<div>\n",
       "<style scoped>\n",
       "    .dataframe tbody tr th:only-of-type {\n",
       "        vertical-align: middle;\n",
       "    }\n",
       "\n",
       "    .dataframe tbody tr th {\n",
       "        vertical-align: top;\n",
       "    }\n",
       "\n",
       "    .dataframe thead th {\n",
       "        text-align: right;\n",
       "    }\n",
       "</style>\n",
       "<table border=\"1\" class=\"dataframe\">\n",
       "  <thead>\n",
       "    <tr style=\"text-align: right;\">\n",
       "      <th></th>\n",
       "      <th>genre</th>\n",
       "      <th>na_sales</th>\n",
       "      <th>eu_sales</th>\n",
       "      <th>jp_sales</th>\n",
       "    </tr>\n",
       "  </thead>\n",
       "  <tbody>\n",
       "    <tr>\n",
       "      <th>7</th>\n",
       "      <td>Role-Playing</td>\n",
       "      <td>29.75</td>\n",
       "      <td>24.31</td>\n",
       "      <td>41.94</td>\n",
       "    </tr>\n",
       "    <tr>\n",
       "      <th>0</th>\n",
       "      <td>Action</td>\n",
       "      <td>57.12</td>\n",
       "      <td>60.11</td>\n",
       "      <td>31.90</td>\n",
       "    </tr>\n",
       "    <tr>\n",
       "      <th>3</th>\n",
       "      <td>Misc</td>\n",
       "      <td>14.46</td>\n",
       "      <td>10.22</td>\n",
       "      <td>7.60</td>\n",
       "    </tr>\n",
       "    <tr>\n",
       "      <th>2</th>\n",
       "      <td>Fighting</td>\n",
       "      <td>9.04</td>\n",
       "      <td>5.15</td>\n",
       "      <td>5.84</td>\n",
       "    </tr>\n",
       "    <tr>\n",
       "      <th>8</th>\n",
       "      <td>Shooter</td>\n",
       "      <td>55.67</td>\n",
       "      <td>49.56</td>\n",
       "      <td>5.02</td>\n",
       "    </tr>\n",
       "  </tbody>\n",
       "</table>\n",
       "</div>"
      ],
      "text/plain": [
       "          genre  na_sales  eu_sales  jp_sales\n",
       "7  Role-Playing     29.75     24.31     41.94\n",
       "0        Action     57.12     60.11     31.90\n",
       "3          Misc     14.46     10.22      7.60\n",
       "2      Fighting      9.04      5.15      5.84\n",
       "8       Shooter     55.67     49.56      5.02"
      ]
     },
     "execution_count": 67,
     "metadata": {},
     "output_type": "execute_result"
    }
   ],
   "source": [
    "top_jp_genres = genre_sales.nlargest(5, 'jp_sales')\n",
    "top_jp_genres"
   ]
  },
  {
   "cell_type": "markdown",
   "metadata": {},
   "source": [
    "***Промежуточный вывод:***\n",
    "  \n",
    "- Одинаковые предпочтения в жанрах можно заметить в Европе и Северной Америке. Лидирующие жанры Action, Shooter.  \n",
    "- В Японии первой место занимает жанр Role_Playing, а после идет Action. Возможно что именно разница культуры и менталитета влияет на выбор жанра в регионе. \n",
    "\n",
    "Интересно также что жанр Adventure входит в Топ 5 жанров в Японии, но при этом не фигурирует в Топах Северной Америки и Европы. И противоположная история с жанром Shooter который не сильно интересует Японию, но при этом занимает 2 место в Европе и Северной Америке."
   ]
  },
  {
   "cell_type": "markdown",
   "metadata": {},
   "source": [
    "#### Влияет ли рейтинг ESRB на продажи в отдельном регионе."
   ]
  },
  {
   "cell_type": "markdown",
   "metadata": {},
   "source": [
    "Для начала сгруппируем продажи по рейтингам (ESRB) для каждого региона и сохраним в переменной ***rating_sales***"
   ]
  },
  {
   "cell_type": "code",
   "execution_count": 68,
   "metadata": {},
   "outputs": [
    {
     "data": {
      "text/html": [
       "<div>\n",
       "<style scoped>\n",
       "    .dataframe tbody tr th:only-of-type {\n",
       "        vertical-align: middle;\n",
       "    }\n",
       "\n",
       "    .dataframe tbody tr th {\n",
       "        vertical-align: top;\n",
       "    }\n",
       "\n",
       "    .dataframe thead th {\n",
       "        text-align: right;\n",
       "    }\n",
       "</style>\n",
       "<table border=\"1\" class=\"dataframe\">\n",
       "  <thead>\n",
       "    <tr style=\"text-align: right;\">\n",
       "      <th></th>\n",
       "      <th>rating</th>\n",
       "      <th>na_sales</th>\n",
       "      <th>eu_sales</th>\n",
       "      <th>jp_sales</th>\n",
       "    </tr>\n",
       "  </thead>\n",
       "  <tbody>\n",
       "    <tr>\n",
       "      <th>0</th>\n",
       "      <td>AO</td>\n",
       "      <td>0.00</td>\n",
       "      <td>0.00</td>\n",
       "      <td>0.00</td>\n",
       "    </tr>\n",
       "    <tr>\n",
       "      <th>1</th>\n",
       "      <td>E</td>\n",
       "      <td>45.54</td>\n",
       "      <td>52.87</td>\n",
       "      <td>13.94</td>\n",
       "    </tr>\n",
       "    <tr>\n",
       "      <th>2</th>\n",
       "      <td>E10+</td>\n",
       "      <td>24.32</td>\n",
       "      <td>20.47</td>\n",
       "      <td>5.21</td>\n",
       "    </tr>\n",
       "    <tr>\n",
       "      <th>3</th>\n",
       "      <td>EC</td>\n",
       "      <td>0.00</td>\n",
       "      <td>0.00</td>\n",
       "      <td>0.00</td>\n",
       "    </tr>\n",
       "    <tr>\n",
       "      <th>4</th>\n",
       "      <td>K-A</td>\n",
       "      <td>0.00</td>\n",
       "      <td>0.00</td>\n",
       "      <td>0.00</td>\n",
       "    </tr>\n",
       "    <tr>\n",
       "      <th>5</th>\n",
       "      <td>M</td>\n",
       "      <td>77.76</td>\n",
       "      <td>78.12</td>\n",
       "      <td>10.08</td>\n",
       "    </tr>\n",
       "    <tr>\n",
       "      <th>6</th>\n",
       "      <td>RP</td>\n",
       "      <td>0.00</td>\n",
       "      <td>0.00</td>\n",
       "      <td>0.00</td>\n",
       "    </tr>\n",
       "    <tr>\n",
       "      <th>7</th>\n",
       "      <td>T</td>\n",
       "      <td>31.85</td>\n",
       "      <td>30.13</td>\n",
       "      <td>15.77</td>\n",
       "    </tr>\n",
       "    <tr>\n",
       "      <th>8</th>\n",
       "      <td>unknown</td>\n",
       "      <td>47.46</td>\n",
       "      <td>43.75</td>\n",
       "      <td>68.92</td>\n",
       "    </tr>\n",
       "  </tbody>\n",
       "</table>\n",
       "</div>"
      ],
      "text/plain": [
       "    rating  na_sales  eu_sales  jp_sales\n",
       "0       AO      0.00      0.00      0.00\n",
       "1        E     45.54     52.87     13.94\n",
       "2     E10+     24.32     20.47      5.21\n",
       "3       EC      0.00      0.00      0.00\n",
       "4      K-A      0.00      0.00      0.00\n",
       "5        M     77.76     78.12     10.08\n",
       "6       RP      0.00      0.00      0.00\n",
       "7        T     31.85     30.13     15.77\n",
       "8  unknown     47.46     43.75     68.92"
      ]
     },
     "execution_count": 68,
     "metadata": {},
     "output_type": "execute_result"
    }
   ],
   "source": [
    "rating_sales = filtered_years.groupby('rating').agg({'na_sales': 'sum','eu_sales': 'sum','jp_sales': 'sum'}).reset_index()\n",
    "rating_sales"
   ]
  },
  {
   "cell_type": "markdown",
   "metadata": {},
   "source": [
    "Здесь стоит уточнить обозначения рейтингов для дальнейшего анализа: \n",
    "- «AO» («Adults Only 18+») — Только для взрослых \n",
    "- «E» («Everyone») — Для всех (изначально назывался \"K-A\" (\"Kids to Adults\"))\n",
    "- «E10+» («Everyone 10 and older») — Для всех от 10 лет и старше\n",
    "- «EC» («Early childhood») — Для детей младшего возраста\n",
    "- «M» («Mature») — Для взрослых\n",
    "- «RP» («Rating Pending») — Рейтинг ожидается\n",
    "- «T» («Teen») — Подросткам\n",
    "- «unknown» - значение использовано для игр у которых не указан рейтинг ESBN."
   ]
  },
  {
   "cell_type": "markdown",
   "metadata": {},
   "source": [
    "Визуализируем полученные данные с помощью графика. Используем при его построении метод ***melt()***, так как имеем несколько связанных переменных и нужно отобразить их на одном графике."
   ]
  },
  {
   "cell_type": "code",
   "execution_count": 69,
   "metadata": {},
   "outputs": [
    {
     "data": {
      "image/png": "[encoded data removed]",
      "text/plain": [
       "<Figure size 864x432 with 1 Axes>"
      ]
     },
     "metadata": {
      "needs_background": "light"
     },
     "output_type": "display_data"
    }
   ],
   "source": [
    "plt.figure(figsize=(12, 6))\n",
    "sns.barplot(data=rating_sales.melt(id_vars='rating', var_name='region', value_name='sales'),x='rating', y='sales', hue='region')\n",
    "plt.title('Суммарные продажи по рейтингам ESRB',fontsize=15 )\n",
    "plt.ylabel('Суммарные продажи в млн. экз.')\n",
    "plt.xlabel('Рейтинг ESRB')\n",
    "plt.legend(title='Регион')\n",
    "plt.show()"
   ]
  },
  {
   "cell_type": "markdown",
   "metadata": {},
   "source": [
    "***Промежуточный вывод:***. \n",
    "- Северная Америка (NA). Лидируют по продажам игры с рейтингом \"М\" (Для взрослых), на втором месте игры у которых рейтинг указан не был (unknown), следующими идут игры c ретингом \"E\" (для всех), после по поппулярности идут игры категории \"T\" (для подростков) и на последнем месте \"E10+\" (от 10 лет и страше).  \n",
    "- Европа (EU). Лидируют по продажам игры с рейтингом \"М\" (Для взрослых), на втором месте игры с рейтингом (\"E\" - для всех), после идут игра с неопределнной категорий (unknown), следующими идут игры c ретингом \"T\" (для подростков) и на последнем месте \"E10+\" (от 10 лет и страше).\n",
    "- Япония(JP). Лидируют по продажам игры у которых рейтинг не указан (unknown), на втором месте игры с рейтингом \"T\" (для подростков), следующими идут игры c ретингом \"E\" (Для всех), следующая по поппулярности категория \"М\" (Для взрослых) и на последнем месте \"E10+\" (от 10 лет и страше).\n",
    "\n",
    "***Рейтинг E***:\n",
    "- Европа: 52.87\n",
    "- Северная Америка: 45.54\n",
    "- Япония: 13.94\n",
    "Данные показывают, что игры с рейтингом E имеют наибольшие продажи в Европе, после в Северной Америке и только потом в Японии.\n",
    "\n",
    "***Рейтинг T***:\n",
    "- Северная Америка: 31.65\n",
    "- Европа: 30.13\n",
    "- Япония: 15.77\n",
    "Игры с рейтингом T также показывают хорошие продажи, но заметно меньше, чем у игр с рейтингом E. И также показываю различия между предпочтениями пользователей по регионам - так как в Японии значительно меньшее предпочтее отдают играм с этим рейтингом.\n",
    "\n",
    "***Рейтинг M***:\n",
    "- Европа: 78.12\n",
    "- Северная Америка: 77.76\n",
    "- Япония: 10.08\n",
    "Рейтинг M показывает высокий уровень продаж в Северной Америке и Европе, однако продажи в Японии значительно ниже. \n",
    "\n",
    "***Рейтинг E10+***:\n",
    "- Северная Америка: 24.32\n",
    "- Европа: 20.47\n",
    "- Япония: 5.21\n",
    "\n",
    "***Рейтинг unknown***:\n",
    "- Япония: 68.92\n",
    "- Северная Америка: 47.46\n",
    "- Европа: 43.75\n",
    "\n",
    "\n",
    "\n",
    "Из информации открытых источников указано что в онлайн-играх, содержимое которых может изменяться пользователями в процессе игры (диалоги, модели персонажи. и так далее), ставится пометка «Game Experience May Change During Online Play», которая предупреждает покупателей о том, что пользовательский контент в игре не проходил рецензирования ESRB. Этим веротяно можно объяснить наличие игр без рейтинга которые так популярны в Японии, так как было выявлено что самым популярный жанр для Японии ***Role-Playing***."
   ]
  },
  {
   "cell_type": "markdown",
   "metadata": {},
   "source": [
    "### Проверка гипотез"
   ]
  },
  {
   "cell_type": "markdown",
   "metadata": {},
   "source": [
    "#### Средние пользовательские рейтинги платформ Xbox One и PC одинаковые"
   ]
  },
  {
   "cell_type": "markdown",
   "metadata": {},
   "source": [
    "Сформулируем нулевую и альтернативную гипотезы перед началом теста:  \n",
    "\n",
    "\n",
    "***Нулевая гипотеза:*** Средние пользовательские рейтинги платформ Xbox One и PC одинаковы;  \n",
    "***Альтернативная гипотеза:*** Средние пользовательские рейтинги платформ Xbox One и PC различаются.  \n",
    "\n",
    "У нас в наличии 2 независимые выборки поэтому метод проверки гипотез выбран ***scipy.stats.ttest_ind***"
   ]
  },
  {
   "cell_type": "markdown",
   "metadata": {},
   "source": [
    "Для начала отфильтруем данные по платформе ***Xbox One*** (она же XOne) в переменную ***xone_rating*** и по платформе ***PC*** передав в переменную ***pc_rating***. Также применим метод ***dropna()*** чтобы удалить пустые ячейки из отфильтрованных данных. Работать будем с датасетом ***filtered_years***."
   ]
  },
  {
   "cell_type": "code",
   "execution_count": 70,
   "metadata": {},
   "outputs": [],
   "source": [
    "xbox_rating = filtered_years[filtered_years['platform'] == 'XOne']['user_score'].dropna()\n",
    "pc_rating = filtered_years[filtered_years['platform'] == 'PC']['user_score'].dropna()"
   ]
  },
  {
   "cell_type": "markdown",
   "metadata": {},
   "source": [
    "Установим уровень статистической значимости ***alpha*** на уровне 5% (0.05) означает что вероятность получения наблюдаемых данных при условии, что нулевая гипотеза верна, составляет менее 5%. ТТакже передадим параметру ***equal_var*** значение False, предполагая что дисперсии выборок не равны."
   ]
  },
  {
   "cell_type": "code",
   "execution_count": 71,
   "metadata": {},
   "outputs": [
    {
     "name": "stdout",
     "output_type": "stream",
     "text": [
      "p-значение: 0.30695107510978137\n",
      "Не удалось отвергнуть нулевую гипотезу: Средние пользовательские рейтинги платформ Xbox One и PC одинаковы\n"
     ]
    }
   ],
   "source": [
    "alpha = 0.05\n",
    "\n",
    "results = stats.ttest_ind(xbox_rating, pc_rating, equal_var=False)\n",
    "\n",
    "print('p-значение:', results.pvalue)\n",
    "\n",
    "if results.pvalue < alpha:\n",
    "    print('Отвергаем нулевую гипотезу: Средние пользовательские рейтинги платформ Xbox One и PC различаются.')\n",
    "else:\n",
    "    print('Не удалось отвергнуть нулевую гипотезу: Средние пользовательские рейтинги платформ Xbox One и PC одинаковы')"
   ]
  },
  {
   "cell_type": "markdown",
   "metadata": {},
   "source": [
    "Даолнительно выведем средние значения выборок ***xbox_rating*** и ***pc_rating***, чтобы удостовериться в проведенном тесте гипотез."
   ]
  },
  {
   "cell_type": "code",
   "execution_count": 72,
   "metadata": {},
   "outputs": [
    {
     "name": "stdout",
     "output_type": "stream",
     "text": [
      "Среднии показатель рейтинга платформы XOne: 6.796153846153847\n",
      "Среднии показатель рейтинга платформы PC: 6.448888888888892\n"
     ]
    }
   ],
   "source": [
    "print('Среднии показатель рейтинга платформы XOne:', xbox_rating.mean())\n",
    "print('Среднии показатель рейтинга платформы PC:', pc_rating.mean())"
   ]
  },
  {
   "cell_type": "markdown",
   "metadata": {},
   "source": [
    "***Вывод:***  \n",
    "\n",
    "В результате теста, не удалось отвергнуть нулевую гипотезу о том, что cредние пользовательские рейтинги платформ Xbox One и PC одинаковы, что было подтверждено проверкой среднего значения выборок по платформам,  раница всего 0.35. А значит они одинаково популярны, что стоит учесть при планировании маркетинговых ком паний на следующий год."
   ]
  },
  {
   "cell_type": "markdown",
   "metadata": {},
   "source": [
    "#### Средние пользовательские рейтинги жанров Action  и Sports разные."
   ]
  },
  {
   "cell_type": "markdown",
   "metadata": {},
   "source": [
    "Сформулируем нулевую и альтернативную гипотезы перед началом теста:  \n",
    "\n",
    "\n",
    "***Нулевая гипотеза:*** Средние пользовательские рейтинги жанров Action и Sport одинаковы;  \n",
    "***Альтернативная гипотеза:*** Средние пользовательские рейтинги жанров Action и Sport различаются.  \n",
    "\n",
    "    \n",
    "У нас в наличии 2 независимые выборки поэтому метод проверки гипотез выбран ***scipy.stats.ttest_ind***"
   ]
  },
  {
   "cell_type": "markdown",
   "metadata": {},
   "source": [
    "Отфильтруем данные по жанру ***Action*** в переменную ***action_rating*** и по жанру ***Sports*** передав в переменную ***sports_rating***. Также применим метод ***dropna()*** чтобы удалить пустые ячейки из отфильтрованных данных. Работать будем с изначальным датасетом ***games_info***."
   ]
  },
  {
   "cell_type": "code",
   "execution_count": 73,
   "metadata": {},
   "outputs": [],
   "source": [
    "action_rating = filtered_years[filtered_years['genre'] == 'Action']['user_score'].dropna()\n",
    "sports_rating = filtered_years[filtered_years['genre'] == 'Sports']['user_score'].dropna()"
   ]
  },
  {
   "cell_type": "markdown",
   "metadata": {},
   "source": [
    "Приступим к проведению t-теста. Установим уровень статистической значимости ***alpha*** на уровне 1% (0.01) означает что вероятность получения наблюдаемых данных при условии, что нулевая гипотеза верна, составляет менее 1%. Также передадим параметру ***equal_var*** значение False, предполагая что дисперсии выборок не равны."
   ]
  },
  {
   "cell_type": "code",
   "execution_count": 74,
   "metadata": {},
   "outputs": [
    {
     "name": "stdout",
     "output_type": "stream",
     "text": [
      "p-значение: 1.671466493564309e-06\n",
      "Отвергаем нулевую гипотезу: Средние пользовательские рейтинги жанров Action и Sport различаются.\n"
     ]
    }
   ],
   "source": [
    "alpha = 0.01\n",
    "\n",
    "results = stats.ttest_ind(action_rating, sports_rating, equal_var=False)\n",
    "\n",
    "print('p-значение:', results.pvalue)\n",
    "\n",
    "if results.pvalue < alpha:\n",
    "    print('Отвергаем нулевую гипотезу: Средние пользовательские рейтинги жанров Action и Sport различаются.')\n",
    "else:\n",
    "    print('Не удалось отвергнуть нулевую гипотезу: Средние пользовательские рейтинги жанров Action и Sport одинаковы.')"
   ]
  },
  {
   "cell_type": "code",
   "execution_count": 75,
   "metadata": {},
   "outputs": [
    {
     "name": "stdout",
     "output_type": "stream",
     "text": [
      "Среднии показатель рейтинга жанра Action: 7.009615384615385\n",
      "Среднии показатель рейтинга жанра Sports: 5.752727272727272\n"
     ]
    }
   ],
   "source": [
    "print('Среднии показатель рейтинга жанра Action:', action_rating.mean())\n",
    "print('Среднии показатель рейтинга жанра Sports:', sports_rating.mean())"
   ]
  },
  {
   "cell_type": "markdown",
   "metadata": {},
   "source": [
    "***Вывод:***  \n",
    "\n",
    "В результате проведения теста была отвергнута нулевая гипотеза, а значит cредние пользовательские рейтинги жанров Action и Sports различаются. И при проверке средний значений двух жанров разница в рейтинге 1.25. То есть среди пользователей большей популрностью пользуется жанр Action."
   ]
  },
  {
   "cell_type": "markdown",
   "metadata": {},
   "source": [
    "### Общий вывод:\n",
    "\n",
    "Исследование проводилось на основании данных из открытых источников включающих следующие показатели игр:   \n",
    "- **Name** (название игры);\n",
    "- **Platform** (платформа);\n",
    "- **Year_of_Release** (год выпуска);\n",
    "- **Genre** (жанр игры);\n",
    "- **NA_sales** (продажи в Северной Америке (миллионы проданных копий));\n",
    "- **EU_sales** (продажи в Европе (миллионы проданных копий));\n",
    "- **JP_sales** (продажи в Японии (миллионы проданных копий));\n",
    "- **Other_sales** (продажи в других странах (миллионы проданных копий));\n",
    "- **Critic_Score** (оценка критиков (максимум 100));\n",
    "- **User_Score** (оценка пользователей (максимум 10));\n",
    "- **Rating** (рейтинг от организации ESRB (англ. Entertainment Software Rating Board). Эта ассоциация определяет рейтинг компьютерных игр и присваивает им подходящую возрастную категорию).  \n",
    "\n",
    "Перед непосредственным анализом показателей была проведена предобработка данных для приведения их к корректному виду, были выполнены следующие действия:   \n",
    "\n",
    "1. Изменены названия всех столбцов - а именно, приведены к написанию нижним регистром.\n",
    "2. Заполнены отсутствующие значения столбца ***rating*** на значение ***unknown***.\n",
    "3. Изменен тип данных в следующих столбцах:\n",
    "- ***year_of_release*** c вещественного на целочисленный;\n",
    "- ***user_score*** c object на вещественный (float);\n",
    "- ***rating*** c object на category.\n",
    "4. Удалены строки с пропусками в столбцах ***year_of_release, genre и name*** в общей сложности 273 строки - менее 2% от общего объема данных.\n",
    "5. Удалена 1 строка с неявным дубликатом игры - Madden NFL 13.\n",
    "6.Строки-дубликаты в датасете выявлены не были.\n",
    "\n",
    "На этапе исследовательского анализа данных были сделаны следющие выводы по поставленных вопроса:  \n",
    "\n",
    "***Объем игр выпускаемых в различные годы***.    \n",
    "\n",
    "Рассматриваемые данные включают временной промежуток с 1980 по 2016 год. Рост числа выпускаемых игр достиг своего пика в 2007-2008 годах (1427 игр), что свидетельствует о росте интереса и активности в игровой индустрии. После пикового значения в 2008 году наблюдается постепенное снижение числа игр, что может указывать на следующие причины:  - насыщение рынка или изменение интересов аудитории.   \n",
    "- с 1994 года был резкий быстрый и активный рост технологий в создании игр, в связи с чем они выпускались в большом количестве. \n",
    "- после 2008 года появились технологии которые позволяли отображать более глубокую детализацию, требовали более сложных сюжетов и поэтому выпуск стал занимать больше времени и соответсвенно объем выпускаемых игр снизился.\n",
    "\n",
    "Поэтому рекомендую рассматривать не весь предоставленный период для анализа, а рассматривать промежуток с 2013 года до 2016 где данные отображают спрос и его потребности пользователя ближе к текущийм реалиям.\n",
    "\n",
    "***Xарактерный срок появляются новые и исчезают старые платформы.***  \n",
    "\n",
    "Жизненный цикл платформ 10-12 лет.Появление новых плафторм завивист от временного промежутка который рассматриваем. Если брать период с 1994 по 2004 то конкурентные платформы появлялись раз в 5-6 лет, но чем дальше тем меньше становился промежуток между появлением новых платформ, с 2004 года периолдичность появления новых платформ 1-2 года.  \n",
    "\n",
    "***Оценка продаж разных платформ. Выбор несколько потенциально прибыльных платформ***\n",
    "\n",
    "Отталкиваясь от выявленного жизненного цикла платформы в 12 лет от появления до падения продаж в 0, а также динамике роста продажи игр с момента появления компании на рынке, потенциально прибыльными платформами можно считать ***PS4***, ***XOne*** и ***WiiU***. Эти компании находятся в первой половине совоего жизненного цикла и могут показать лучщие результаты и не смотря на падение показателей продаж к 2016 году, что применимо ко всем представленным платформам, объемы продаваемых этими компания игр, показывают лучшие результаты на 2016 год.   \n",
    "\n",
    "***Сравнение объемов продаж платформ***. \n",
    "\n",
    "Рекомендую обратить внимание на игры выпускаемые первой группой платформ Wii, X360, XOne, WiiU так как эти платформы показывают лучшие результаты по объему продаж, вот их показатели:  \n",
    "\n",
    "- у платформы ***Wii*** самое большое медианное значение из представленных платформ на уровне 0.9 млн. экз..  \n",
    "1й квартиль - 25% игр на Wii продались менее 0.2 миллионов копий. Это говорит о том, что существует категория игр, которые показывают очень низкие продажи, и может указывать на неудачные проекты или игры, которые не нашли своего покупателя.   \n",
    "3й квартиль - 75% игр на платформе имеют продажи менее 2 миллионов копий. Это свидетельствует о том, что среди успешных игр есть те, что значительно превышают уровень в 2 миллиона — игра, попадающая в эту категорию, считается довольно успешной.   \n",
    "Межквартильный размах 1.8 млн. показывает значительный разброс значений, что может свидетельствовать о значительных различиях в популярности и успешности игр и также платформа имеет как низкоэффективные игры, так и такие, что могут принести значительные доходы.  \n",
    "\n",
    "- у платформы ***X360*** медианное значение 0.8 млн. экз..  \n",
    "1й квартиль - 25% игр 0.18 миллионов копий, говорит о наличии неудачных игр с низкими продажами.  \n",
    "3й квартиль - 75% игр на платформе имеют продажи менее или равные 1.3 миллионов копий.   \n",
    "Межквартильный размах 1.12 млн. показывает значительный разброс значений, но меньше чем у предыдущей платформы.  \n",
    "\n",
    "- платформы ***XOne*** имеет медианный показатель почти 0.5 млн. экз.   \n",
    "1й квартиль - 25% игр проданы в объеме 0.19 миллионов копий.  \n",
    "3й квартиль - 75% игр на платформе имеют продажи менее или равные 1.4 миллионов копий.  \n",
    "Межквартильный размах 1.21 млн. показывает значительный разброс значений.  \n",
    "\n",
    "- платформа ***WiiU*** имеет медианный показатель продаж почти 0.4 млн. экз.   \n",
    "1й квартиль - 25% игр проданы в объеме 0.12 миллионов копий.  \n",
    "3й квартиль - 75% игр на платформе имеют продажи менее или равные 1.1 миллионов копий.  \n",
    "Межквартильный размах 0.98 млн. показывает разброс значений меньший чем у предыдущих платформ.\n",
    " \n",
    "  \n",
    "***Влияние отзывов критиков и пользователей на продажи***. \n",
    "\n",
    "Было рассмотрено несколько популярных платформ для оценки вляния отзывов на продажи. Общая тенднция говорит о том, что отзывы критиков имеют слабое и среднее влияниена продажи, а отзывы пользователей вооьбще его не имеют. Вероятно что совокупность различных факторов формирует потребительский спрос на игры в том числе момент выхода, маркетинговая стратегия платформы и т.д.   \n",
    "\n",
    "***Влияние жанров игр на продажи*** \n",
    "\n",
    "Исходя из полученный данных, самый лучшие продажи у жанра ***Shooter***, медианное значение на уровне 0.7 млн. экз. \n",
    "Далее, хоть и с приличным отрывом идут жанры ***Sports*** и ***Racing*** (медиана на уровне 0.4 млн. копий).\n",
    "\n",
    "Жанр ***Action*** который по объему продаж и превосходит остальные жанры, показывает гораздо меньший межквартильный размах по сравнению с жанрами выше, но имеет большое количество выбросов и аномалий, что говорит о несистемно выстроенных маркетинговых стратегиях и возмодно единичных удачных играх.\n",
    "\n",
    "Говоря о наименее прибыльных жанрах это ***Simulation***, ***Adventure***. \n",
    "\n",
    "***ТОП 5 популярных платформ***\n",
    "- ***PS4*** занимает первое место по доле продаж в Северной Америке (38.54%), что указывает на сильную популярность в регионе. В Европе ее доля еще более значительна (51.24%), а в Японии уже гораздо ниже (11.15%).\n",
    "- **PS4** занимает также первое место в Европе (51.24%) что поддтверждает популярность среди европейских пользователей.\n",
    "- ***3DS*** (55.37%) занимает первое место в Японии, при этом в Северное Америке плафторма занимает 2-е место(15.1%), а в Европе 3е место по популярности (12.03%)   \n",
    "\n",
    "\n",
    "***ТОП 5 популярных жанров***  \n",
    "\n",
    "- Одинаковые предпочтения в жанрах можно заметить в Европе и Северной Америке. Лидирующие жанры Action, Shooter.  \n",
    "- В Японии первой место занимает жанр Role_Playing, а после идет Action. Возможно что именно разница культуры и менталитета влияет на выбор жанра в регионе. \n",
    "\n",
    "Из информации открытых источников указано что в онлайн-играх, содержимое которых может изменяться пользователями в процессе игры (диалоги, модели персонажи. и так далее), ставится пометка «Game Experience May Change During Online Play», которая предупреждает покупателей о том, что пользовательский контент в игре не проходил рецензирования ESRB. Этим веротяно можно объяснить наличие игр без рейтинга которые так популярны в Японии, так как было выявлено что самым популярный жанр для Японии ***Role-Playing***. \n",
    "\n",
    "***Влияние рейтинна ESRB***. \n",
    "\n",
    "- Северная Америка (NA). Лидируют по продажам игры с рейтингом \"М\" (Для взрослых), на втором месте игры у которых рейтинг указан не был (unknown), следующими идут игры c ретингом \"E\" (для всех), после по поппулярности идут игры категории \"T\" (для подростков) и на последнем месте \"E10+\" (от 10 лет и страше).  \n",
    "- Европа (EU). Лидируют по продажам игры с рейтингом \"М\" (Для взрослых), на втором месте игры с рейтингом (\"E\" - для всех), после идут игра с неопределнной категорий (unknown), следующими идут игры c ретингом \"T\" (для подростков) и на последнем месте \"E10+\" (от 10 лет и страше).\n",
    "- Япония(JP). Лидируют по продажам игры у которых рейтинг не указан (unknown), на втором месте игры с рейтингом \"T\" (для подростков), следующими идут игры c ретингом \"E\" (Для всех), следующая по поппулярности категория \"М\" (Для взрослых) и на последнем месте \"E10+\" (от 10 лет и страше).\n",
    "\n",
    "Следующим шагом иссследования была выполнена проверка 2х гипотез.\n",
    "\n",
    "***О сравнении среднего пользовательского рейтинга для платформ XOne и PC***. \n",
    "В результате теста, была отвергнута нулевая гипотеза о том, что cредние пользовательские рейтинги платформ Xbox One и PC одинаковы. Что было подтверждено проверкой среднего значения выборок по платформам. \n",
    "\n",
    "***О сравнении среднего пользовательского рейтинга жанров Action и Sports***.  \n",
    "В результате проведения теста выявлено, что нет достаточных оснований для отклонения нулевой гипотезы, а значит cредние пользовательские рейтинги жанров Action и Sports одинаковы. И при проверке средний значений двух жанров различия дейтсвительно минимальны около 0.07.\n",
    "\n",
    "\n",
    "***Рекомендации заказчику***.  \n",
    "При разработке маркетинговой стратегии на 2017 год, рекомендую отталкиваться от портрета клиента интернет-магазина. Так как было выявлено что самое сильно влияние на выбор платформы, жанра и игры зависит от региона пользователя и в соответствии с его потребностями настраивать рекламные компании.   \n",
    "Также стоит обратить внимание на игры с оценкой от критиков более 70 баллов, что дает определенную уверенность в чуть более высоком спросе на такие игры.   \n",
    "Стоит присмотреться к платформам которые на конец 2016 года имеют наибольшие показатели продаж и при этом не старше 5-6 лет. \n",
    "Самый стабильно продаваемыхй жанр ***Shooter***. А самые популярные платформы в рассматриваемы регионах ***PS4*** и ***3DS***.   \n",
    "Стоит учесть что одинаково популярны среди пользователей платформы ***PC** и ***XOne***, а вот в жанре предпочтение отдается жанру ***Action***."
   ]
  }
 ],
 "metadata": {
  "ExecuteTimeLog": [
   {
    "duration": 53,
    "start_time": "2024-10-07T07:57:28.191Z"
   },
   {
    "duration": 1422,
    "start_time": "2024-10-07T07:57:28.720Z"
   },
   {
    "duration": 208,
    "start_time": "2024-10-07T08:00:14.617Z"
   },
   {
    "duration": 26,
    "start_time": "2024-10-07T08:02:01.403Z"
   },
   {
    "duration": 32,
    "start_time": "2024-10-07T08:02:53.444Z"
   },
   {
    "duration": 3,
    "start_time": "2024-10-07T08:19:41.071Z"
   },
   {
    "duration": 5,
    "start_time": "2024-10-07T08:25:43.559Z"
   },
   {
    "duration": 17,
    "start_time": "2024-10-07T08:25:50.601Z"
   },
   {
    "duration": 54,
    "start_time": "2024-10-07T08:26:58.673Z"
   },
   {
    "duration": 113,
    "start_time": "2024-10-07T08:33:34.191Z"
   },
   {
    "duration": 9,
    "start_time": "2024-10-07T08:34:40.464Z"
   },
   {
    "duration": 14,
    "start_time": "2024-10-07T08:34:47.448Z"
   },
   {
    "duration": 5,
    "start_time": "2024-10-07T08:35:17.689Z"
   },
   {
    "duration": 15,
    "start_time": "2024-10-07T08:37:03.454Z"
   },
   {
    "duration": 852,
    "start_time": "2024-10-07T08:41:06.937Z"
   },
   {
    "duration": 846,
    "start_time": "2024-10-07T08:42:40.448Z"
   },
   {
    "duration": 865,
    "start_time": "2024-10-07T08:43:01.645Z"
   },
   {
    "duration": 5,
    "start_time": "2024-10-07T08:43:44.091Z"
   },
   {
    "duration": 4,
    "start_time": "2024-10-07T08:43:56.406Z"
   },
   {
    "duration": 6,
    "start_time": "2024-10-07T08:49:01.411Z"
   },
   {
    "duration": 4,
    "start_time": "2024-10-07T08:52:51.061Z"
   },
   {
    "duration": 16,
    "start_time": "2024-10-07T08:58:42.755Z"
   },
   {
    "duration": 9,
    "start_time": "2024-10-07T09:03:04.649Z"
   },
   {
    "duration": 5,
    "start_time": "2024-10-07T09:03:14.186Z"
   },
   {
    "duration": 6,
    "start_time": "2024-10-07T09:04:55.560Z"
   },
   {
    "duration": 6,
    "start_time": "2024-10-07T09:05:03.317Z"
   },
   {
    "duration": 47,
    "start_time": "2024-10-07T09:05:15.558Z"
   },
   {
    "duration": 3,
    "start_time": "2024-10-07T09:05:23.905Z"
   },
   {
    "duration": 6,
    "start_time": "2024-10-07T09:08:16.075Z"
   },
   {
    "duration": 7,
    "start_time": "2024-10-07T09:08:26.891Z"
   },
   {
    "duration": 3,
    "start_time": "2024-10-07T09:09:34.949Z"
   },
   {
    "duration": 139,
    "start_time": "2024-10-07T09:09:34.954Z"
   },
   {
    "duration": 14,
    "start_time": "2024-10-07T09:09:35.095Z"
   },
   {
    "duration": 28,
    "start_time": "2024-10-07T09:09:35.111Z"
   },
   {
    "duration": 14,
    "start_time": "2024-10-07T09:09:35.141Z"
   },
   {
    "duration": 28,
    "start_time": "2024-10-07T09:09:35.156Z"
   },
   {
    "duration": 4,
    "start_time": "2024-10-07T09:09:35.186Z"
   },
   {
    "duration": 16,
    "start_time": "2024-10-07T09:09:35.192Z"
   },
   {
    "duration": 11,
    "start_time": "2024-10-07T09:09:35.209Z"
   },
   {
    "duration": 25,
    "start_time": "2024-10-07T09:09:35.222Z"
   },
   {
    "duration": 4,
    "start_time": "2024-10-07T09:09:35.249Z"
   },
   {
    "duration": 22,
    "start_time": "2024-10-07T09:09:47.769Z"
   },
   {
    "duration": 25,
    "start_time": "2024-10-07T09:14:38.008Z"
   },
   {
    "duration": 9,
    "start_time": "2024-10-07T09:23:45.039Z"
   },
   {
    "duration": 5,
    "start_time": "2024-10-07T09:23:46.081Z"
   },
   {
    "duration": 15,
    "start_time": "2024-10-07T09:24:14.648Z"
   },
   {
    "duration": 4,
    "start_time": "2024-10-07T09:24:27.032Z"
   },
   {
    "duration": 4,
    "start_time": "2024-10-07T09:24:27.530Z"
   },
   {
    "duration": 5,
    "start_time": "2024-10-07T09:29:15.299Z"
   },
   {
    "duration": 817,
    "start_time": "2024-10-07T09:36:09.949Z"
   },
   {
    "duration": 5,
    "start_time": "2024-10-07T09:36:23.655Z"
   },
   {
    "duration": 11,
    "start_time": "2024-10-07T09:38:53.157Z"
   },
   {
    "duration": 19,
    "start_time": "2024-10-07T09:40:06.980Z"
   },
   {
    "duration": 195,
    "start_time": "2024-10-07T09:40:17.685Z"
   },
   {
    "duration": 159,
    "start_time": "2024-10-07T09:42:32.790Z"
   },
   {
    "duration": 336,
    "start_time": "2024-10-07T09:43:03.706Z"
   },
   {
    "duration": 279,
    "start_time": "2024-10-07T09:43:12.901Z"
   },
   {
    "duration": 302,
    "start_time": "2024-10-07T09:43:46.738Z"
   },
   {
    "duration": 283,
    "start_time": "2024-10-07T09:44:06.716Z"
   },
   {
    "duration": 876,
    "start_time": "2024-10-07T09:44:11.162Z"
   },
   {
    "duration": 4,
    "start_time": "2024-10-07T10:04:45.569Z"
   },
   {
    "duration": 4,
    "start_time": "2024-10-07T10:04:56.702Z"
   },
   {
    "duration": 4,
    "start_time": "2024-10-07T10:05:08.953Z"
   },
   {
    "duration": 13,
    "start_time": "2024-10-07T10:05:59.997Z"
   },
   {
    "duration": 12,
    "start_time": "2024-10-07T10:06:30.742Z"
   },
   {
    "duration": 32,
    "start_time": "2024-10-07T10:08:23.716Z"
   },
   {
    "duration": 15,
    "start_time": "2024-10-07T10:08:34.961Z"
   },
   {
    "duration": 14,
    "start_time": "2024-10-07T10:08:53.699Z"
   },
   {
    "duration": 12,
    "start_time": "2024-10-07T10:09:52.800Z"
   },
   {
    "duration": 4,
    "start_time": "2024-10-07T10:10:30.305Z"
   },
   {
    "duration": 10,
    "start_time": "2024-10-07T10:23:30.312Z"
   },
   {
    "duration": 5,
    "start_time": "2024-10-07T10:25:32.724Z"
   },
   {
    "duration": 4,
    "start_time": "2024-10-07T10:25:43.581Z"
   },
   {
    "duration": 12,
    "start_time": "2024-10-07T10:27:22.899Z"
   },
   {
    "duration": 18,
    "start_time": "2024-10-07T10:27:33.232Z"
   },
   {
    "duration": 12,
    "start_time": "2024-10-07T10:30:40.454Z"
   },
   {
    "duration": 4,
    "start_time": "2024-10-07T10:30:41.104Z"
   },
   {
    "duration": 7,
    "start_time": "2024-10-07T10:31:46.818Z"
   },
   {
    "duration": 16,
    "start_time": "2024-10-07T10:31:57.376Z"
   },
   {
    "duration": 15,
    "start_time": "2024-10-07T10:36:18.837Z"
   },
   {
    "duration": 13,
    "start_time": "2024-10-07T10:39:36.998Z"
   },
   {
    "duration": 11,
    "start_time": "2024-10-07T10:55:25.837Z"
   },
   {
    "duration": 10,
    "start_time": "2024-10-07T10:55:29.846Z"
   },
   {
    "duration": 10,
    "start_time": "2024-10-07T10:55:34.314Z"
   },
   {
    "duration": 9,
    "start_time": "2024-10-07T10:55:37.337Z"
   },
   {
    "duration": 4,
    "start_time": "2024-10-07T10:55:39.529Z"
   },
   {
    "duration": 79,
    "start_time": "2024-10-07T10:55:39.535Z"
   },
   {
    "duration": 23,
    "start_time": "2024-10-07T10:55:39.616Z"
   },
   {
    "duration": 16,
    "start_time": "2024-10-07T10:55:39.641Z"
   },
   {
    "duration": 3,
    "start_time": "2024-10-07T10:55:39.660Z"
   },
   {
    "duration": 7,
    "start_time": "2024-10-07T10:55:39.665Z"
   },
   {
    "duration": 20,
    "start_time": "2024-10-07T10:55:39.673Z"
   },
   {
    "duration": 5,
    "start_time": "2024-10-07T10:55:39.695Z"
   },
   {
    "duration": 24,
    "start_time": "2024-10-07T10:55:39.702Z"
   },
   {
    "duration": 23,
    "start_time": "2024-10-07T10:55:39.728Z"
   },
   {
    "duration": 8,
    "start_time": "2024-10-07T10:55:39.753Z"
   },
   {
    "duration": 15,
    "start_time": "2024-10-07T10:55:39.763Z"
   },
   {
    "duration": 18,
    "start_time": "2024-10-07T10:55:39.780Z"
   },
   {
    "duration": 9,
    "start_time": "2024-10-07T10:55:39.801Z"
   },
   {
    "duration": 316,
    "start_time": "2024-10-07T10:55:39.811Z"
   },
   {
    "duration": 19,
    "start_time": "2024-10-07T10:55:40.128Z"
   },
   {
    "duration": 58,
    "start_time": "2024-10-07T10:55:40.149Z"
   },
   {
    "duration": 73,
    "start_time": "2024-10-07T10:55:40.209Z"
   },
   {
    "duration": 10,
    "start_time": "2024-10-07T11:02:11.710Z"
   },
   {
    "duration": 20,
    "start_time": "2024-10-07T11:02:35.039Z"
   },
   {
    "duration": 3,
    "start_time": "2024-10-07T11:03:47.323Z"
   },
   {
    "duration": 65,
    "start_time": "2024-10-07T11:03:47.328Z"
   },
   {
    "duration": 14,
    "start_time": "2024-10-07T11:03:47.395Z"
   },
   {
    "duration": 16,
    "start_time": "2024-10-07T11:03:47.410Z"
   },
   {
    "duration": 3,
    "start_time": "2024-10-07T11:03:47.428Z"
   },
   {
    "duration": 6,
    "start_time": "2024-10-07T11:03:47.432Z"
   },
   {
    "duration": 8,
    "start_time": "2024-10-07T11:03:47.439Z"
   },
   {
    "duration": 4,
    "start_time": "2024-10-07T11:03:47.449Z"
   },
   {
    "duration": 7,
    "start_time": "2024-10-07T11:03:47.455Z"
   },
   {
    "duration": 23,
    "start_time": "2024-10-07T11:03:47.463Z"
   },
   {
    "duration": 9,
    "start_time": "2024-10-07T11:03:47.487Z"
   },
   {
    "duration": 19,
    "start_time": "2024-10-07T11:03:47.525Z"
   },
   {
    "duration": 4,
    "start_time": "2024-10-07T11:03:47.546Z"
   },
   {
    "duration": 6,
    "start_time": "2024-10-07T11:03:47.553Z"
   },
   {
    "duration": 9,
    "start_time": "2024-10-07T11:03:47.561Z"
   },
   {
    "duration": 325,
    "start_time": "2024-10-07T11:03:47.572Z"
   },
   {
    "duration": 27,
    "start_time": "2024-10-07T11:03:47.899Z"
   },
   {
    "duration": 43,
    "start_time": "2024-10-07T11:03:47.928Z"
   },
   {
    "duration": 52,
    "start_time": "2024-10-07T11:03:47.972Z"
   },
   {
    "duration": 9,
    "start_time": "2024-10-07T11:13:48.911Z"
   },
   {
    "duration": 12,
    "start_time": "2024-10-07T11:14:04.981Z"
   },
   {
    "duration": 10,
    "start_time": "2024-10-07T11:14:09.871Z"
   },
   {
    "duration": 9,
    "start_time": "2024-10-07T11:18:11.869Z"
   },
   {
    "duration": 14,
    "start_time": "2024-10-07T11:18:12.911Z"
   },
   {
    "duration": 12,
    "start_time": "2024-10-07T11:18:16.217Z"
   },
   {
    "duration": 11,
    "start_time": "2024-10-07T11:22:57.084Z"
   },
   {
    "duration": 21,
    "start_time": "2024-10-07T11:26:21.734Z"
   },
   {
    "duration": 12,
    "start_time": "2024-10-07T11:29:43.680Z"
   },
   {
    "duration": 16,
    "start_time": "2024-10-07T11:30:03.483Z"
   },
   {
    "duration": 15,
    "start_time": "2024-10-07T11:30:13.462Z"
   },
   {
    "duration": 26,
    "start_time": "2024-10-07T11:30:22.169Z"
   },
   {
    "duration": 176,
    "start_time": "2024-10-07T11:33:42.568Z"
   },
   {
    "duration": 113,
    "start_time": "2024-10-07T11:33:48.766Z"
   },
   {
    "duration": 188,
    "start_time": "2024-10-07T11:48:55.676Z"
   },
   {
    "duration": 196,
    "start_time": "2024-10-07T11:49:34.391Z"
   },
   {
    "duration": 7,
    "start_time": "2024-10-07T12:09:03.771Z"
   },
   {
    "duration": 18,
    "start_time": "2024-10-07T12:09:17.123Z"
   },
   {
    "duration": 3,
    "start_time": "2024-10-07T12:17:15.763Z"
   },
   {
    "duration": 56,
    "start_time": "2024-10-07T12:17:15.768Z"
   },
   {
    "duration": 14,
    "start_time": "2024-10-07T12:17:15.826Z"
   },
   {
    "duration": 16,
    "start_time": "2024-10-07T12:17:15.843Z"
   },
   {
    "duration": 3,
    "start_time": "2024-10-07T12:17:15.861Z"
   },
   {
    "duration": 5,
    "start_time": "2024-10-07T12:17:15.866Z"
   },
   {
    "duration": 5,
    "start_time": "2024-10-07T12:17:15.872Z"
   },
   {
    "duration": 4,
    "start_time": "2024-10-07T12:17:15.878Z"
   },
   {
    "duration": 5,
    "start_time": "2024-10-07T12:17:15.883Z"
   },
   {
    "duration": 22,
    "start_time": "2024-10-07T12:17:15.927Z"
   },
   {
    "duration": 8,
    "start_time": "2024-10-07T12:17:15.951Z"
   },
   {
    "duration": 5,
    "start_time": "2024-10-07T12:17:15.961Z"
   },
   {
    "duration": 16,
    "start_time": "2024-10-07T12:17:15.967Z"
   },
   {
    "duration": 10,
    "start_time": "2024-10-07T12:17:15.984Z"
   },
   {
    "duration": 319,
    "start_time": "2024-10-07T12:17:15.996Z"
   },
   {
    "duration": 14,
    "start_time": "2024-10-07T12:17:16.317Z"
   },
   {
    "duration": 15,
    "start_time": "2024-10-07T12:17:16.333Z"
   },
   {
    "duration": 36,
    "start_time": "2024-10-07T12:17:16.350Z"
   },
   {
    "duration": 20,
    "start_time": "2024-10-07T12:17:16.388Z"
   },
   {
    "duration": 16,
    "start_time": "2024-10-07T12:18:31.803Z"
   },
   {
    "duration": 2,
    "start_time": "2024-10-07T12:20:49.143Z"
   },
   {
    "duration": 12,
    "start_time": "2024-10-07T12:34:17.620Z"
   },
   {
    "duration": 12,
    "start_time": "2024-10-07T12:34:36.328Z"
   },
   {
    "duration": 7,
    "start_time": "2024-10-07T12:34:47.234Z"
   },
   {
    "duration": 12,
    "start_time": "2024-10-07T12:34:56.173Z"
   },
   {
    "duration": 501,
    "start_time": "2024-10-07T12:39:08.826Z"
   },
   {
    "duration": 492,
    "start_time": "2024-10-07T12:39:56.782Z"
   },
   {
    "duration": 504,
    "start_time": "2024-10-07T12:41:39.456Z"
   },
   {
    "duration": 522,
    "start_time": "2024-10-07T12:41:57.681Z"
   },
   {
    "duration": 627,
    "start_time": "2024-10-07T12:42:56.339Z"
   },
   {
    "duration": 533,
    "start_time": "2024-10-07T12:43:11.144Z"
   },
   {
    "duration": 4,
    "start_time": "2024-10-07T12:43:22.888Z"
   },
   {
    "duration": 62,
    "start_time": "2024-10-07T12:43:22.894Z"
   },
   {
    "duration": 15,
    "start_time": "2024-10-07T12:43:22.958Z"
   },
   {
    "duration": 17,
    "start_time": "2024-10-07T12:43:23.043Z"
   },
   {
    "duration": 4,
    "start_time": "2024-10-07T12:43:23.062Z"
   },
   {
    "duration": 10,
    "start_time": "2024-10-07T12:43:23.067Z"
   },
   {
    "duration": 5,
    "start_time": "2024-10-07T12:43:23.078Z"
   },
   {
    "duration": 4,
    "start_time": "2024-10-07T12:43:23.085Z"
   },
   {
    "duration": 6,
    "start_time": "2024-10-07T12:43:23.090Z"
   },
   {
    "duration": 40,
    "start_time": "2024-10-07T12:43:23.097Z"
   },
   {
    "duration": 8,
    "start_time": "2024-10-07T12:43:23.138Z"
   },
   {
    "duration": 19,
    "start_time": "2024-10-07T12:43:23.148Z"
   },
   {
    "duration": 6,
    "start_time": "2024-10-07T12:43:23.169Z"
   },
   {
    "duration": 10,
    "start_time": "2024-10-07T12:43:23.176Z"
   },
   {
    "duration": 306,
    "start_time": "2024-10-07T12:43:23.188Z"
   },
   {
    "duration": 9,
    "start_time": "2024-10-07T12:43:23.496Z"
   },
   {
    "duration": 60,
    "start_time": "2024-10-07T12:43:23.508Z"
   },
   {
    "duration": 5,
    "start_time": "2024-10-07T12:43:23.570Z"
   },
   {
    "duration": 18,
    "start_time": "2024-10-07T12:43:23.576Z"
   },
   {
    "duration": 16,
    "start_time": "2024-10-07T12:43:23.596Z"
   },
   {
    "duration": 15,
    "start_time": "2024-10-07T12:43:23.613Z"
   },
   {
    "duration": 0,
    "start_time": "2024-10-07T12:43:23.629Z"
   },
   {
    "duration": 0,
    "start_time": "2024-10-07T12:43:23.631Z"
   },
   {
    "duration": 13,
    "start_time": "2024-10-07T12:43:45.103Z"
   },
   {
    "duration": 501,
    "start_time": "2024-10-07T12:43:48.276Z"
   },
   {
    "duration": 554,
    "start_time": "2024-10-07T12:43:48.779Z"
   },
   {
    "duration": 549,
    "start_time": "2024-10-07T12:44:23.194Z"
   },
   {
    "duration": 783,
    "start_time": "2024-10-07T12:45:11.561Z"
   },
   {
    "duration": 633,
    "start_time": "2024-10-07T12:45:21.599Z"
   },
   {
    "duration": 547,
    "start_time": "2024-10-07T12:45:31.826Z"
   },
   {
    "duration": 539,
    "start_time": "2024-10-07T12:45:40.686Z"
   },
   {
    "duration": 523,
    "start_time": "2024-10-07T12:47:01.866Z"
   },
   {
    "duration": 6,
    "start_time": "2024-10-07T13:16:32.789Z"
   },
   {
    "duration": 9,
    "start_time": "2024-10-07T13:16:40.178Z"
   },
   {
    "duration": 14,
    "start_time": "2024-10-07T13:20:05.109Z"
   },
   {
    "duration": 252,
    "start_time": "2024-10-07T13:27:55.843Z"
   },
   {
    "duration": 293,
    "start_time": "2024-10-07T13:28:40.486Z"
   },
   {
    "duration": 275,
    "start_time": "2024-10-07T13:30:00.938Z"
   },
   {
    "duration": 3,
    "start_time": "2024-10-07T13:33:26.519Z"
   },
   {
    "duration": 114,
    "start_time": "2024-10-07T13:33:26.523Z"
   },
   {
    "duration": 15,
    "start_time": "2024-10-07T13:33:26.638Z"
   },
   {
    "duration": 16,
    "start_time": "2024-10-07T13:33:26.654Z"
   },
   {
    "duration": 4,
    "start_time": "2024-10-07T13:33:26.672Z"
   },
   {
    "duration": 6,
    "start_time": "2024-10-07T13:33:26.677Z"
   },
   {
    "duration": 8,
    "start_time": "2024-10-07T13:33:26.684Z"
   },
   {
    "duration": 4,
    "start_time": "2024-10-07T13:33:26.694Z"
   },
   {
    "duration": 27,
    "start_time": "2024-10-07T13:33:26.699Z"
   },
   {
    "duration": 21,
    "start_time": "2024-10-07T13:33:26.728Z"
   },
   {
    "duration": 8,
    "start_time": "2024-10-07T13:33:26.751Z"
   },
   {
    "duration": 5,
    "start_time": "2024-10-07T13:33:26.760Z"
   },
   {
    "duration": 5,
    "start_time": "2024-10-07T13:33:26.768Z"
   },
   {
    "duration": 22,
    "start_time": "2024-10-07T13:33:26.776Z"
   },
   {
    "duration": 316,
    "start_time": "2024-10-07T13:33:26.800Z"
   },
   {
    "duration": 9,
    "start_time": "2024-10-07T13:33:27.125Z"
   },
   {
    "duration": 21,
    "start_time": "2024-10-07T13:33:27.135Z"
   },
   {
    "duration": 7,
    "start_time": "2024-10-07T13:33:27.157Z"
   },
   {
    "duration": 17,
    "start_time": "2024-10-07T13:33:27.166Z"
   },
   {
    "duration": 41,
    "start_time": "2024-10-07T13:33:27.185Z"
   },
   {
    "duration": 13,
    "start_time": "2024-10-07T13:33:27.228Z"
   },
   {
    "duration": 629,
    "start_time": "2024-10-07T13:33:27.242Z"
   },
   {
    "duration": 14,
    "start_time": "2024-10-07T13:33:27.872Z"
   },
   {
    "duration": 285,
    "start_time": "2024-10-07T13:33:27.888Z"
   },
   {
    "duration": 722,
    "start_time": "2024-10-07T13:40:53.459Z"
   },
   {
    "duration": 690,
    "start_time": "2024-10-07T13:41:07.469Z"
   },
   {
    "duration": 1624,
    "start_time": "2024-10-07T13:42:49.907Z"
   },
   {
    "duration": 875,
    "start_time": "2024-10-07T13:42:59.123Z"
   },
   {
    "duration": 12,
    "start_time": "2024-10-07T13:49:36.037Z"
   },
   {
    "duration": 690,
    "start_time": "2024-10-07T13:49:43.873Z"
   },
   {
    "duration": 739,
    "start_time": "2024-10-07T13:51:49.761Z"
   },
   {
    "duration": 831,
    "start_time": "2024-10-07T13:53:07.137Z"
   },
   {
    "duration": 3,
    "start_time": "2024-10-07T13:53:13.477Z"
   },
   {
    "duration": 6,
    "start_time": "2024-10-07T13:53:14.602Z"
   },
   {
    "duration": 9,
    "start_time": "2024-10-07T13:53:17.570Z"
   },
   {
    "duration": 45,
    "start_time": "2024-10-07T13:53:18.022Z"
   },
   {
    "duration": 7,
    "start_time": "2024-10-07T13:53:40.945Z"
   },
   {
    "duration": 20,
    "start_time": "2024-10-07T13:56:01.041Z"
   },
   {
    "duration": 1390,
    "start_time": "2024-10-08T06:55:14.105Z"
   },
   {
    "duration": 179,
    "start_time": "2024-10-08T06:55:15.498Z"
   },
   {
    "duration": 17,
    "start_time": "2024-10-08T06:55:15.679Z"
   },
   {
    "duration": 58,
    "start_time": "2024-10-08T06:55:15.698Z"
   },
   {
    "duration": 20,
    "start_time": "2024-10-08T06:55:15.759Z"
   },
   {
    "duration": 35,
    "start_time": "2024-10-08T06:55:15.781Z"
   },
   {
    "duration": 28,
    "start_time": "2024-10-08T06:55:15.819Z"
   },
   {
    "duration": 31,
    "start_time": "2024-10-08T06:55:15.849Z"
   },
   {
    "duration": 38,
    "start_time": "2024-10-08T06:55:15.882Z"
   },
   {
    "duration": 46,
    "start_time": "2024-10-08T06:55:15.922Z"
   },
   {
    "duration": 8,
    "start_time": "2024-10-08T06:55:15.970Z"
   },
   {
    "duration": 58,
    "start_time": "2024-10-08T06:55:15.979Z"
   },
   {
    "duration": 122,
    "start_time": "2024-10-08T06:55:16.039Z"
   },
   {
    "duration": 38,
    "start_time": "2024-10-08T06:55:16.165Z"
   },
   {
    "duration": 355,
    "start_time": "2024-10-08T06:55:16.205Z"
   },
   {
    "duration": 8,
    "start_time": "2024-10-08T06:55:16.562Z"
   },
   {
    "duration": 19,
    "start_time": "2024-10-08T06:55:16.572Z"
   },
   {
    "duration": 6,
    "start_time": "2024-10-08T06:55:16.593Z"
   },
   {
    "duration": 31,
    "start_time": "2024-10-08T06:55:16.600Z"
   },
   {
    "duration": 24,
    "start_time": "2024-10-08T06:55:16.642Z"
   },
   {
    "duration": 12,
    "start_time": "2024-10-08T06:55:16.668Z"
   },
   {
    "duration": 526,
    "start_time": "2024-10-08T06:55:16.682Z"
   },
   {
    "duration": 14,
    "start_time": "2024-10-08T06:55:17.210Z"
   },
   {
    "duration": 3,
    "start_time": "2024-10-08T06:55:17.226Z"
   },
   {
    "duration": 58,
    "start_time": "2024-10-08T06:55:17.247Z"
   },
   {
    "duration": 31,
    "start_time": "2024-10-08T06:55:17.307Z"
   },
   {
    "duration": 113,
    "start_time": "2024-10-08T06:55:17.339Z"
   },
   {
    "duration": 786,
    "start_time": "2024-10-08T06:56:18.339Z"
   },
   {
    "duration": 749,
    "start_time": "2024-10-08T06:56:46.819Z"
   },
   {
    "duration": 512,
    "start_time": "2024-10-08T06:56:54.624Z"
   },
   {
    "duration": 26,
    "start_time": "2024-10-08T07:06:05.783Z"
   },
   {
    "duration": 12,
    "start_time": "2024-10-08T07:07:42.209Z"
   },
   {
    "duration": 14,
    "start_time": "2024-10-08T07:11:14.863Z"
   },
   {
    "duration": 12,
    "start_time": "2024-10-08T07:11:47.085Z"
   },
   {
    "duration": 12,
    "start_time": "2024-10-08T07:12:21.742Z"
   },
   {
    "duration": 12,
    "start_time": "2024-10-08T07:12:48.835Z"
   },
   {
    "duration": 13,
    "start_time": "2024-10-08T07:12:49.756Z"
   },
   {
    "duration": 24,
    "start_time": "2024-10-08T07:14:36.741Z"
   },
   {
    "duration": 669,
    "start_time": "2024-10-08T07:16:05.948Z"
   },
   {
    "duration": 4,
    "start_time": "2024-10-08T07:24:28.081Z"
   },
   {
    "duration": 32,
    "start_time": "2024-10-08T07:24:33.852Z"
   },
   {
    "duration": 4,
    "start_time": "2024-10-08T07:31:32.805Z"
   },
   {
    "duration": 5,
    "start_time": "2024-10-08T07:31:40.258Z"
   },
   {
    "duration": 4,
    "start_time": "2024-10-08T07:31:57.714Z"
   },
   {
    "duration": 5,
    "start_time": "2024-10-08T07:34:04.555Z"
   },
   {
    "duration": 96,
    "start_time": "2024-10-08T07:35:22.184Z"
   },
   {
    "duration": 524,
    "start_time": "2024-10-08T07:35:32.348Z"
   },
   {
    "duration": 581,
    "start_time": "2024-10-08T07:35:48.826Z"
   },
   {
    "duration": 482,
    "start_time": "2024-10-08T07:36:01.198Z"
   },
   {
    "duration": 506,
    "start_time": "2024-10-08T07:36:15.346Z"
   },
   {
    "duration": 789,
    "start_time": "2024-10-08T07:36:41.567Z"
   },
   {
    "duration": 620,
    "start_time": "2024-10-08T07:36:53.484Z"
   },
   {
    "duration": 748,
    "start_time": "2024-10-08T07:37:28.792Z"
   },
   {
    "duration": 327,
    "start_time": "2024-10-08T07:51:33.661Z"
   },
   {
    "duration": 353,
    "start_time": "2024-10-08T07:51:48.041Z"
   },
   {
    "duration": 472,
    "start_time": "2024-10-08T07:52:08.991Z"
   },
   {
    "duration": 319,
    "start_time": "2024-10-08T07:53:03.462Z"
   },
   {
    "duration": 351,
    "start_time": "2024-10-08T07:53:14.369Z"
   },
   {
    "duration": 16562,
    "start_time": "2024-10-08T07:53:32.241Z"
   },
   {
    "duration": 397,
    "start_time": "2024-10-08T07:53:49.445Z"
   },
   {
    "duration": 345,
    "start_time": "2024-10-08T07:54:21.988Z"
   },
   {
    "duration": 425,
    "start_time": "2024-10-08T07:54:30.514Z"
   },
   {
    "duration": 431,
    "start_time": "2024-10-08T07:54:57.580Z"
   },
   {
    "duration": 372,
    "start_time": "2024-10-08T07:55:04.109Z"
   },
   {
    "duration": 345,
    "start_time": "2024-10-08T07:55:15.077Z"
   },
   {
    "duration": 332,
    "start_time": "2024-10-08T07:58:44.686Z"
   },
   {
    "duration": 336,
    "start_time": "2024-10-08T07:58:54.662Z"
   },
   {
    "duration": 342,
    "start_time": "2024-10-08T07:59:05.188Z"
   },
   {
    "duration": 784,
    "start_time": "2024-10-08T07:59:19.928Z"
   },
   {
    "duration": 343,
    "start_time": "2024-10-08T08:00:01.362Z"
   },
   {
    "duration": 345,
    "start_time": "2024-10-08T08:00:13.714Z"
   },
   {
    "duration": 363,
    "start_time": "2024-10-08T08:00:22.924Z"
   },
   {
    "duration": 353,
    "start_time": "2024-10-08T08:01:07.210Z"
   },
   {
    "duration": 467,
    "start_time": "2024-10-08T08:01:26.935Z"
   },
   {
    "duration": 329,
    "start_time": "2024-10-08T08:02:33.694Z"
   },
   {
    "duration": 380,
    "start_time": "2024-10-08T08:03:05.610Z"
   },
   {
    "duration": 424,
    "start_time": "2024-10-08T08:04:15.569Z"
   },
   {
    "duration": 418,
    "start_time": "2024-10-08T08:04:26.081Z"
   },
   {
    "duration": 737,
    "start_time": "2024-10-08T08:15:26.054Z"
   },
   {
    "duration": 625,
    "start_time": "2024-10-08T08:15:43.564Z"
   },
   {
    "duration": 395,
    "start_time": "2024-10-08T08:16:43.959Z"
   },
   {
    "duration": 408,
    "start_time": "2024-10-08T08:16:53.430Z"
   },
   {
    "duration": 606,
    "start_time": "2024-10-08T08:17:45.591Z"
   },
   {
    "duration": 729,
    "start_time": "2024-10-08T08:18:28.742Z"
   },
   {
    "duration": 597,
    "start_time": "2024-10-08T08:18:36.729Z"
   },
   {
    "duration": 7,
    "start_time": "2024-10-08T09:27:11.098Z"
   },
   {
    "duration": 191,
    "start_time": "2024-10-08T09:28:58.387Z"
   },
   {
    "duration": 351,
    "start_time": "2024-10-08T09:30:30.041Z"
   },
   {
    "duration": 13,
    "start_time": "2024-10-08T09:31:39.555Z"
   },
   {
    "duration": 144,
    "start_time": "2024-10-08T09:34:15.190Z"
   },
   {
    "duration": 25,
    "start_time": "2024-10-08T09:35:43.028Z"
   },
   {
    "duration": 3,
    "start_time": "2024-10-08T09:39:04.200Z"
   },
   {
    "duration": 65,
    "start_time": "2024-10-08T09:39:04.205Z"
   },
   {
    "duration": 14,
    "start_time": "2024-10-08T09:39:04.271Z"
   },
   {
    "duration": 29,
    "start_time": "2024-10-08T09:39:04.287Z"
   },
   {
    "duration": 82,
    "start_time": "2024-10-08T09:39:04.318Z"
   },
   {
    "duration": 30,
    "start_time": "2024-10-08T09:39:04.401Z"
   },
   {
    "duration": 21,
    "start_time": "2024-10-08T09:39:04.432Z"
   },
   {
    "duration": 21,
    "start_time": "2024-10-08T09:39:04.454Z"
   },
   {
    "duration": 27,
    "start_time": "2024-10-08T09:39:04.477Z"
   },
   {
    "duration": 25,
    "start_time": "2024-10-08T09:39:04.506Z"
   },
   {
    "duration": 49,
    "start_time": "2024-10-08T09:39:04.532Z"
   },
   {
    "duration": 28,
    "start_time": "2024-10-08T09:39:04.583Z"
   },
   {
    "duration": 26,
    "start_time": "2024-10-08T09:39:04.612Z"
   },
   {
    "duration": 48,
    "start_time": "2024-10-08T09:39:04.642Z"
   },
   {
    "duration": 324,
    "start_time": "2024-10-08T09:39:04.691Z"
   },
   {
    "duration": 10,
    "start_time": "2024-10-08T09:39:05.016Z"
   },
   {
    "duration": 32,
    "start_time": "2024-10-08T09:39:05.028Z"
   },
   {
    "duration": 27,
    "start_time": "2024-10-08T09:39:05.061Z"
   },
   {
    "duration": 46,
    "start_time": "2024-10-08T09:39:05.089Z"
   },
   {
    "duration": 28,
    "start_time": "2024-10-08T09:39:05.136Z"
   },
   {
    "duration": 44,
    "start_time": "2024-10-08T09:39:05.165Z"
   },
   {
    "duration": 554,
    "start_time": "2024-10-08T09:39:05.210Z"
   },
   {
    "duration": 13,
    "start_time": "2024-10-08T09:39:05.765Z"
   },
   {
    "duration": 99,
    "start_time": "2024-10-08T09:39:05.779Z"
   },
   {
    "duration": 40,
    "start_time": "2024-10-08T09:39:05.880Z"
   },
   {
    "duration": 34,
    "start_time": "2024-10-08T09:39:05.922Z"
   },
   {
    "duration": 733,
    "start_time": "2024-10-08T09:39:05.958Z"
   },
   {
    "duration": 24,
    "start_time": "2024-10-08T09:39:06.695Z"
   },
   {
    "duration": 80,
    "start_time": "2024-10-08T09:39:06.720Z"
   },
   {
    "duration": 0,
    "start_time": "2024-10-08T09:39:06.802Z"
   },
   {
    "duration": 0,
    "start_time": "2024-10-08T09:39:06.803Z"
   },
   {
    "duration": 0,
    "start_time": "2024-10-08T09:39:06.804Z"
   },
   {
    "duration": 0,
    "start_time": "2024-10-08T09:39:06.805Z"
   },
   {
    "duration": 0,
    "start_time": "2024-10-08T09:39:06.806Z"
   },
   {
    "duration": 0,
    "start_time": "2024-10-08T09:39:06.807Z"
   },
   {
    "duration": 0,
    "start_time": "2024-10-08T09:39:06.808Z"
   },
   {
    "duration": 0,
    "start_time": "2024-10-08T09:39:06.809Z"
   },
   {
    "duration": 0,
    "start_time": "2024-10-08T09:39:06.810Z"
   },
   {
    "duration": 13,
    "start_time": "2024-10-08T09:39:54.479Z"
   },
   {
    "duration": 23,
    "start_time": "2024-10-08T09:39:58.616Z"
   },
   {
    "duration": 783,
    "start_time": "2024-10-08T09:39:59.955Z"
   },
   {
    "duration": 673,
    "start_time": "2024-10-08T09:40:03.825Z"
   },
   {
    "duration": 25,
    "start_time": "2024-10-08T09:40:11.595Z"
   },
   {
    "duration": 212,
    "start_time": "2024-10-08T09:40:17.416Z"
   },
   {
    "duration": 196,
    "start_time": "2024-10-08T09:40:21.973Z"
   },
   {
    "duration": 173,
    "start_time": "2024-10-08T09:40:41.815Z"
   },
   {
    "duration": 10,
    "start_time": "2024-10-08T09:41:03.002Z"
   },
   {
    "duration": 9,
    "start_time": "2024-10-08T09:42:04.376Z"
   },
   {
    "duration": 190,
    "start_time": "2024-10-08T09:44:31.277Z"
   },
   {
    "duration": 10,
    "start_time": "2024-10-08T09:44:35.331Z"
   },
   {
    "duration": 27,
    "start_time": "2024-10-08T09:45:07.634Z"
   },
   {
    "duration": 188,
    "start_time": "2024-10-08T09:45:11.556Z"
   },
   {
    "duration": 9,
    "start_time": "2024-10-08T09:45:15.523Z"
   },
   {
    "duration": 24,
    "start_time": "2024-10-08T09:45:34.492Z"
   },
   {
    "duration": 15,
    "start_time": "2024-10-08T09:45:42.684Z"
   },
   {
    "duration": 186,
    "start_time": "2024-10-08T09:46:11.642Z"
   },
   {
    "duration": 9,
    "start_time": "2024-10-08T09:46:54.931Z"
   },
   {
    "duration": 4,
    "start_time": "2024-10-08T09:50:05.708Z"
   },
   {
    "duration": 5,
    "start_time": "2024-10-08T09:50:33.553Z"
   },
   {
    "duration": 402,
    "start_time": "2024-10-08T09:51:04.281Z"
   },
   {
    "duration": 29,
    "start_time": "2024-10-08T10:19:46.000Z"
   },
   {
    "duration": 303,
    "start_time": "2024-10-08T10:19:57.906Z"
   },
   {
    "duration": 27,
    "start_time": "2024-10-08T10:20:12.552Z"
   },
   {
    "duration": 196,
    "start_time": "2024-10-08T10:20:16.259Z"
   },
   {
    "duration": 287,
    "start_time": "2024-10-08T10:20:22.327Z"
   },
   {
    "duration": 18,
    "start_time": "2024-10-08T10:20:42.840Z"
   },
   {
    "duration": 18,
    "start_time": "2024-10-08T10:21:05.858Z"
   },
   {
    "duration": 3,
    "start_time": "2024-10-08T10:21:09.271Z"
   },
   {
    "duration": 55,
    "start_time": "2024-10-08T10:21:09.276Z"
   },
   {
    "duration": 14,
    "start_time": "2024-10-08T10:21:09.332Z"
   },
   {
    "duration": 24,
    "start_time": "2024-10-08T10:21:09.348Z"
   },
   {
    "duration": 4,
    "start_time": "2024-10-08T10:21:09.374Z"
   },
   {
    "duration": 6,
    "start_time": "2024-10-08T10:21:09.379Z"
   },
   {
    "duration": 5,
    "start_time": "2024-10-08T10:21:09.386Z"
   },
   {
    "duration": 12,
    "start_time": "2024-10-08T10:21:09.393Z"
   },
   {
    "duration": 29,
    "start_time": "2024-10-08T10:21:09.407Z"
   },
   {
    "duration": 25,
    "start_time": "2024-10-08T10:21:09.439Z"
   },
   {
    "duration": 8,
    "start_time": "2024-10-08T10:21:09.465Z"
   },
   {
    "duration": 18,
    "start_time": "2024-10-08T10:21:09.474Z"
   },
   {
    "duration": 68,
    "start_time": "2024-10-08T10:21:09.494Z"
   },
   {
    "duration": 9,
    "start_time": "2024-10-08T10:21:09.564Z"
   },
   {
    "duration": 340,
    "start_time": "2024-10-08T10:21:09.574Z"
   },
   {
    "duration": 13,
    "start_time": "2024-10-08T10:21:09.916Z"
   },
   {
    "duration": 59,
    "start_time": "2024-10-08T10:21:09.944Z"
   },
   {
    "duration": 7,
    "start_time": "2024-10-08T10:21:10.005Z"
   },
   {
    "duration": 18,
    "start_time": "2024-10-08T10:21:10.014Z"
   },
   {
    "duration": 18,
    "start_time": "2024-10-08T10:21:10.034Z"
   },
   {
    "duration": 11,
    "start_time": "2024-10-08T10:21:10.054Z"
   },
   {
    "duration": 522,
    "start_time": "2024-10-08T10:21:10.067Z"
   },
   {
    "duration": 14,
    "start_time": "2024-10-08T10:21:10.591Z"
   },
   {
    "duration": 3,
    "start_time": "2024-10-08T10:21:10.606Z"
   },
   {
    "duration": 8,
    "start_time": "2024-10-08T10:21:10.611Z"
   },
   {
    "duration": 39,
    "start_time": "2024-10-08T10:21:10.621Z"
   },
   {
    "duration": 748,
    "start_time": "2024-10-08T10:21:10.661Z"
   },
   {
    "duration": 34,
    "start_time": "2024-10-08T10:21:11.412Z"
   },
   {
    "duration": 13,
    "start_time": "2024-10-08T10:21:11.448Z"
   },
   {
    "duration": 95,
    "start_time": "2024-10-08T10:21:11.463Z"
   },
   {
    "duration": 708,
    "start_time": "2024-10-08T10:21:11.560Z"
   },
   {
    "duration": 716,
    "start_time": "2024-10-08T10:21:12.269Z"
   },
   {
    "duration": 25,
    "start_time": "2024-10-08T10:21:12.987Z"
   },
   {
    "duration": 209,
    "start_time": "2024-10-08T10:21:13.014Z"
   },
   {
    "duration": 213,
    "start_time": "2024-10-08T10:21:13.225Z"
   },
   {
    "duration": 0,
    "start_time": "2024-10-08T10:21:13.439Z"
   },
   {
    "duration": 0,
    "start_time": "2024-10-08T10:21:13.441Z"
   },
   {
    "duration": 5,
    "start_time": "2024-10-08T10:21:39.267Z"
   },
   {
    "duration": 7,
    "start_time": "2024-10-08T10:21:53.775Z"
   },
   {
    "duration": 8,
    "start_time": "2024-10-08T10:25:37.713Z"
   },
   {
    "duration": 4,
    "start_time": "2024-10-08T10:26:52.380Z"
   },
   {
    "duration": 5,
    "start_time": "2024-10-08T10:28:40.163Z"
   },
   {
    "duration": 13,
    "start_time": "2024-10-08T10:28:57.389Z"
   },
   {
    "duration": 8,
    "start_time": "2024-10-08T10:29:05.234Z"
   },
   {
    "duration": 171,
    "start_time": "2024-10-08T10:29:40.882Z"
   },
   {
    "duration": 6,
    "start_time": "2024-10-08T10:29:41.653Z"
   },
   {
    "duration": 231,
    "start_time": "2024-10-08T10:30:24.236Z"
   },
   {
    "duration": 271,
    "start_time": "2024-10-08T10:32:17.380Z"
   },
   {
    "duration": 220,
    "start_time": "2024-10-08T10:37:28.664Z"
   },
   {
    "duration": 222,
    "start_time": "2024-10-08T10:37:38.946Z"
   },
   {
    "duration": 231,
    "start_time": "2024-10-08T10:37:50.065Z"
   },
   {
    "duration": 237,
    "start_time": "2024-10-08T10:38:36.072Z"
   },
   {
    "duration": 6,
    "start_time": "2024-10-08T10:39:15.815Z"
   },
   {
    "duration": 26,
    "start_time": "2024-10-08T10:39:23.639Z"
   },
   {
    "duration": 9,
    "start_time": "2024-10-08T10:39:56.125Z"
   },
   {
    "duration": 10,
    "start_time": "2024-10-08T10:40:32.283Z"
   },
   {
    "duration": 10,
    "start_time": "2024-10-08T10:40:37.405Z"
   },
   {
    "duration": 4,
    "start_time": "2024-10-08T10:40:53.777Z"
   },
   {
    "duration": 112,
    "start_time": "2024-10-08T10:40:53.783Z"
   },
   {
    "duration": 15,
    "start_time": "2024-10-08T10:40:53.896Z"
   },
   {
    "duration": 16,
    "start_time": "2024-10-08T10:40:53.913Z"
   },
   {
    "duration": 4,
    "start_time": "2024-10-08T10:40:53.931Z"
   },
   {
    "duration": 8,
    "start_time": "2024-10-08T10:40:53.937Z"
   },
   {
    "duration": 4,
    "start_time": "2024-10-08T10:40:53.947Z"
   },
   {
    "duration": 7,
    "start_time": "2024-10-08T10:40:53.953Z"
   },
   {
    "duration": 5,
    "start_time": "2024-10-08T10:40:53.962Z"
   },
   {
    "duration": 21,
    "start_time": "2024-10-08T10:40:53.969Z"
   },
   {
    "duration": 71,
    "start_time": "2024-10-08T10:40:53.992Z"
   },
   {
    "duration": 15,
    "start_time": "2024-10-08T10:40:54.065Z"
   },
   {
    "duration": 20,
    "start_time": "2024-10-08T10:40:54.082Z"
   },
   {
    "duration": 20,
    "start_time": "2024-10-08T10:40:54.103Z"
   },
   {
    "duration": 332,
    "start_time": "2024-10-08T10:40:54.124Z"
   },
   {
    "duration": 10,
    "start_time": "2024-10-08T10:40:54.458Z"
   },
   {
    "duration": 34,
    "start_time": "2024-10-08T10:40:54.469Z"
   },
   {
    "duration": 9,
    "start_time": "2024-10-08T10:40:54.504Z"
   },
   {
    "duration": 25,
    "start_time": "2024-10-08T10:40:54.515Z"
   },
   {
    "duration": 34,
    "start_time": "2024-10-08T10:40:54.542Z"
   },
   {
    "duration": 12,
    "start_time": "2024-10-08T10:40:54.577Z"
   },
   {
    "duration": 523,
    "start_time": "2024-10-08T10:40:54.591Z"
   },
   {
    "duration": 14,
    "start_time": "2024-10-08T10:40:55.116Z"
   },
   {
    "duration": 13,
    "start_time": "2024-10-08T10:40:55.131Z"
   },
   {
    "duration": 14,
    "start_time": "2024-10-08T10:40:55.145Z"
   },
   {
    "duration": 36,
    "start_time": "2024-10-08T10:40:55.161Z"
   },
   {
    "duration": 720,
    "start_time": "2024-10-08T10:40:55.199Z"
   },
   {
    "duration": 28,
    "start_time": "2024-10-08T10:40:55.922Z"
   },
   {
    "duration": 16,
    "start_time": "2024-10-08T10:40:55.952Z"
   },
   {
    "duration": 130,
    "start_time": "2024-10-08T10:40:55.970Z"
   },
   {
    "duration": 745,
    "start_time": "2024-10-08T10:40:56.102Z"
   },
   {
    "duration": 595,
    "start_time": "2024-10-08T10:40:56.848Z"
   },
   {
    "duration": 25,
    "start_time": "2024-10-08T10:40:57.445Z"
   },
   {
    "duration": 214,
    "start_time": "2024-10-08T10:40:57.471Z"
   },
   {
    "duration": 11,
    "start_time": "2024-10-08T10:40:57.687Z"
   },
   {
    "duration": 186,
    "start_time": "2024-10-08T10:40:57.700Z"
   },
   {
    "duration": 5,
    "start_time": "2024-10-08T10:40:57.888Z"
   },
   {
    "duration": 7,
    "start_time": "2024-10-08T10:41:24.948Z"
   },
   {
    "duration": 4,
    "start_time": "2024-10-08T10:43:11.640Z"
   },
   {
    "duration": 9,
    "start_time": "2024-10-08T10:44:02.901Z"
   },
   {
    "duration": 4,
    "start_time": "2024-10-08T10:47:33.087Z"
   },
   {
    "duration": 5,
    "start_time": "2024-10-08T10:47:33.849Z"
   },
   {
    "duration": 233,
    "start_time": "2024-10-08T10:48:44.372Z"
   },
   {
    "duration": 286,
    "start_time": "2024-10-08T10:51:51.202Z"
   },
   {
    "duration": 217,
    "start_time": "2024-10-08T10:53:30.280Z"
   },
   {
    "duration": 248,
    "start_time": "2024-10-08T10:53:45.380Z"
   },
   {
    "duration": 9,
    "start_time": "2024-10-08T10:53:57.056Z"
   },
   {
    "duration": 18,
    "start_time": "2024-10-08T10:54:32.298Z"
   },
   {
    "duration": 4,
    "start_time": "2024-10-08T10:54:45.999Z"
   },
   {
    "duration": 65,
    "start_time": "2024-10-08T10:54:46.004Z"
   },
   {
    "duration": 14,
    "start_time": "2024-10-08T10:54:46.071Z"
   },
   {
    "duration": 28,
    "start_time": "2024-10-08T10:54:46.087Z"
   },
   {
    "duration": 3,
    "start_time": "2024-10-08T10:54:46.116Z"
   },
   {
    "duration": 14,
    "start_time": "2024-10-08T10:54:46.121Z"
   },
   {
    "duration": 8,
    "start_time": "2024-10-08T10:54:46.136Z"
   },
   {
    "duration": 3,
    "start_time": "2024-10-08T10:54:46.146Z"
   },
   {
    "duration": 6,
    "start_time": "2024-10-08T10:54:46.151Z"
   },
   {
    "duration": 4,
    "start_time": "2024-10-08T10:54:46.160Z"
   },
   {
    "duration": 20,
    "start_time": "2024-10-08T10:54:46.166Z"
   },
   {
    "duration": 8,
    "start_time": "2024-10-08T10:54:46.188Z"
   },
   {
    "duration": 12,
    "start_time": "2024-10-08T10:54:46.198Z"
   },
   {
    "duration": 6,
    "start_time": "2024-10-08T10:54:46.243Z"
   },
   {
    "duration": 25,
    "start_time": "2024-10-08T10:54:46.250Z"
   },
   {
    "duration": 330,
    "start_time": "2024-10-08T10:54:46.277Z"
   },
   {
    "duration": 8,
    "start_time": "2024-10-08T10:54:46.609Z"
   },
   {
    "duration": 31,
    "start_time": "2024-10-08T10:54:46.619Z"
   },
   {
    "duration": 4,
    "start_time": "2024-10-08T10:54:46.652Z"
   },
   {
    "duration": 77,
    "start_time": "2024-10-08T10:54:46.658Z"
   },
   {
    "duration": 23,
    "start_time": "2024-10-08T10:54:46.737Z"
   },
   {
    "duration": 11,
    "start_time": "2024-10-08T10:54:46.761Z"
   },
   {
    "duration": 508,
    "start_time": "2024-10-08T10:54:46.774Z"
   },
   {
    "duration": 13,
    "start_time": "2024-10-08T10:54:47.283Z"
   },
   {
    "duration": 2,
    "start_time": "2024-10-08T10:54:47.298Z"
   },
   {
    "duration": 8,
    "start_time": "2024-10-08T10:54:47.301Z"
   },
   {
    "duration": 39,
    "start_time": "2024-10-08T10:54:47.310Z"
   },
   {
    "duration": 792,
    "start_time": "2024-10-08T10:54:47.352Z"
   },
   {
    "duration": 23,
    "start_time": "2024-10-08T10:54:48.146Z"
   },
   {
    "duration": 11,
    "start_time": "2024-10-08T10:54:48.171Z"
   },
   {
    "duration": 27,
    "start_time": "2024-10-08T10:54:48.183Z"
   },
   {
    "duration": 660,
    "start_time": "2024-10-08T10:54:48.211Z"
   },
   {
    "duration": 604,
    "start_time": "2024-10-08T10:54:48.872Z"
   },
   {
    "duration": 25,
    "start_time": "2024-10-08T10:54:49.477Z"
   },
   {
    "duration": 217,
    "start_time": "2024-10-08T10:54:49.504Z"
   },
   {
    "duration": 20,
    "start_time": "2024-10-08T10:54:49.723Z"
   },
   {
    "duration": 194,
    "start_time": "2024-10-08T10:54:49.745Z"
   },
   {
    "duration": 6,
    "start_time": "2024-10-08T10:54:49.941Z"
   },
   {
    "duration": 4,
    "start_time": "2024-10-08T10:55:20.992Z"
   },
   {
    "duration": 4,
    "start_time": "2024-10-08T10:55:36.988Z"
   },
   {
    "duration": 173,
    "start_time": "2024-10-08T11:12:55.130Z"
   },
   {
    "duration": 5,
    "start_time": "2024-10-08T11:12:59.661Z"
   },
   {
    "duration": 25,
    "start_time": "2024-10-08T11:14:03.519Z"
   },
   {
    "duration": 38,
    "start_time": "2024-10-08T11:14:29.145Z"
   },
   {
    "duration": 24,
    "start_time": "2024-10-08T11:14:35.575Z"
   },
   {
    "duration": 205,
    "start_time": "2024-10-08T11:14:41.159Z"
   },
   {
    "duration": 5,
    "start_time": "2024-10-08T11:14:48.342Z"
   },
   {
    "duration": 199,
    "start_time": "2024-10-08T11:14:51.012Z"
   },
   {
    "duration": 4,
    "start_time": "2024-10-08T11:14:59.571Z"
   },
   {
    "duration": 26,
    "start_time": "2024-10-08T11:15:12.344Z"
   },
   {
    "duration": 303,
    "start_time": "2024-10-08T11:15:15.520Z"
   },
   {
    "duration": 5,
    "start_time": "2024-10-08T11:15:19.524Z"
   },
   {
    "duration": 172,
    "start_time": "2024-10-08T11:15:21.961Z"
   },
   {
    "duration": 4,
    "start_time": "2024-10-08T11:15:24.919Z"
   },
   {
    "duration": 4,
    "start_time": "2024-10-08T11:21:41.152Z"
   },
   {
    "duration": 4,
    "start_time": "2024-10-08T11:22:03.967Z"
   },
   {
    "duration": 10,
    "start_time": "2024-10-08T11:30:27.901Z"
   },
   {
    "duration": 13,
    "start_time": "2024-10-08T11:30:34.171Z"
   },
   {
    "duration": 73,
    "start_time": "2024-10-08T11:30:49.257Z"
   },
   {
    "duration": 19,
    "start_time": "2024-10-08T11:34:26.963Z"
   },
   {
    "duration": 22,
    "start_time": "2024-10-08T11:35:38.067Z"
   },
   {
    "duration": 26,
    "start_time": "2024-10-08T11:37:25.587Z"
   },
   {
    "duration": 20,
    "start_time": "2024-10-08T11:38:00.512Z"
   },
   {
    "duration": 1030,
    "start_time": "2024-10-08T11:44:26.374Z"
   },
   {
    "duration": 476,
    "start_time": "2024-10-08T11:44:41.039Z"
   },
   {
    "duration": 385,
    "start_time": "2024-10-08T11:47:01.839Z"
   },
   {
    "duration": 404,
    "start_time": "2024-10-08T11:49:47.585Z"
   },
   {
    "duration": 16,
    "start_time": "2024-10-08T12:06:01.435Z"
   },
   {
    "duration": 7,
    "start_time": "2024-10-08T12:07:15.120Z"
   },
   {
    "duration": 71,
    "start_time": "2024-10-08T12:08:07.881Z"
   },
   {
    "duration": 19,
    "start_time": "2024-10-08T12:08:15.936Z"
   },
   {
    "duration": 11,
    "start_time": "2024-10-08T12:08:28.123Z"
   },
   {
    "duration": 9,
    "start_time": "2024-10-08T12:09:01.284Z"
   },
   {
    "duration": 7,
    "start_time": "2024-10-08T12:09:15.784Z"
   },
   {
    "duration": 10,
    "start_time": "2024-10-08T12:09:27.364Z"
   },
   {
    "duration": 10,
    "start_time": "2024-10-08T12:10:04.032Z"
   },
   {
    "duration": 7,
    "start_time": "2024-10-08T12:10:21.545Z"
   },
   {
    "duration": 10,
    "start_time": "2024-10-08T12:11:07.653Z"
   },
   {
    "duration": 11,
    "start_time": "2024-10-08T12:11:18.170Z"
   },
   {
    "duration": 12,
    "start_time": "2024-10-08T12:11:48.238Z"
   },
   {
    "duration": 9,
    "start_time": "2024-10-08T12:12:05.460Z"
   },
   {
    "duration": 6,
    "start_time": "2024-10-08T12:12:41.868Z"
   },
   {
    "duration": 7,
    "start_time": "2024-10-08T12:12:50.698Z"
   },
   {
    "duration": 983,
    "start_time": "2024-10-08T12:13:14.187Z"
   },
   {
    "duration": 79,
    "start_time": "2024-10-08T12:14:29.585Z"
   },
   {
    "duration": 14,
    "start_time": "2024-10-08T12:14:44.233Z"
   },
   {
    "duration": 10,
    "start_time": "2024-10-08T12:15:48.645Z"
   },
   {
    "duration": 12,
    "start_time": "2024-10-08T12:15:50.021Z"
   },
   {
    "duration": 11,
    "start_time": "2024-10-08T12:16:01.245Z"
   },
   {
    "duration": 10,
    "start_time": "2024-10-08T12:16:23.554Z"
   },
   {
    "duration": 994,
    "start_time": "2024-10-08T12:16:57.919Z"
   },
   {
    "duration": 10,
    "start_time": "2024-10-08T12:17:03.473Z"
   },
   {
    "duration": 9,
    "start_time": "2024-10-08T12:17:59.416Z"
   },
   {
    "duration": 6,
    "start_time": "2024-10-08T12:19:45.967Z"
   },
   {
    "duration": 11,
    "start_time": "2024-10-08T12:19:57.948Z"
   },
   {
    "duration": 11,
    "start_time": "2024-10-08T12:41:24.743Z"
   },
   {
    "duration": 8,
    "start_time": "2024-10-08T12:41:27.468Z"
   },
   {
    "duration": 9,
    "start_time": "2024-10-08T12:41:40.930Z"
   },
   {
    "duration": 11,
    "start_time": "2024-10-08T12:41:43.160Z"
   },
   {
    "duration": 10,
    "start_time": "2024-10-08T12:42:35.272Z"
   },
   {
    "duration": 4,
    "start_time": "2024-10-08T12:43:36.939Z"
   },
   {
    "duration": 10,
    "start_time": "2024-10-08T12:43:42.907Z"
   },
   {
    "duration": 87,
    "start_time": "2024-10-08T13:00:12.448Z"
   },
   {
    "duration": 72,
    "start_time": "2024-10-08T13:00:17.432Z"
   },
   {
    "duration": 70,
    "start_time": "2024-10-08T13:00:31.150Z"
   },
   {
    "duration": 9,
    "start_time": "2024-10-08T13:00:40.837Z"
   },
   {
    "duration": 7,
    "start_time": "2024-10-08T13:00:59.981Z"
   },
   {
    "duration": 15,
    "start_time": "2024-10-08T13:01:19.663Z"
   },
   {
    "duration": 278,
    "start_time": "2024-10-08T13:08:08.178Z"
   },
   {
    "duration": 415,
    "start_time": "2024-10-08T13:13:51.046Z"
   },
   {
    "duration": 485,
    "start_time": "2024-10-08T13:18:11.802Z"
   },
   {
    "duration": 418,
    "start_time": "2024-10-08T13:18:27.652Z"
   },
   {
    "duration": 382,
    "start_time": "2024-10-08T13:18:43.571Z"
   },
   {
    "duration": 392,
    "start_time": "2024-10-08T13:19:29.596Z"
   },
   {
    "duration": 248,
    "start_time": "2024-10-08T13:19:44.866Z"
   },
   {
    "duration": 243,
    "start_time": "2024-10-08T13:19:50.072Z"
   },
   {
    "duration": 323,
    "start_time": "2024-10-08T13:20:25.195Z"
   },
   {
    "duration": 275,
    "start_time": "2024-10-08T13:20:30.927Z"
   },
   {
    "duration": 259,
    "start_time": "2024-10-08T13:21:00.620Z"
   },
   {
    "duration": 1591,
    "start_time": "2024-10-09T07:08:58.617Z"
   },
   {
    "duration": 220,
    "start_time": "2024-10-09T07:09:00.211Z"
   },
   {
    "duration": 18,
    "start_time": "2024-10-09T07:09:00.433Z"
   },
   {
    "duration": 26,
    "start_time": "2024-10-09T07:09:00.453Z"
   },
   {
    "duration": 3,
    "start_time": "2024-10-09T07:09:00.481Z"
   },
   {
    "duration": 5,
    "start_time": "2024-10-09T07:09:00.486Z"
   },
   {
    "duration": 5,
    "start_time": "2024-10-09T07:09:00.492Z"
   },
   {
    "duration": 28,
    "start_time": "2024-10-09T07:09:00.498Z"
   },
   {
    "duration": 22,
    "start_time": "2024-10-09T07:09:00.527Z"
   },
   {
    "duration": 4,
    "start_time": "2024-10-09T07:09:00.552Z"
   },
   {
    "duration": 33,
    "start_time": "2024-10-09T07:09:00.558Z"
   },
   {
    "duration": 9,
    "start_time": "2024-10-09T07:09:00.593Z"
   },
   {
    "duration": 17,
    "start_time": "2024-10-09T07:09:00.603Z"
   },
   {
    "duration": 19,
    "start_time": "2024-10-09T07:09:00.622Z"
   },
   {
    "duration": 33,
    "start_time": "2024-10-09T07:09:00.642Z"
   },
   {
    "duration": 365,
    "start_time": "2024-10-09T07:09:00.677Z"
   },
   {
    "duration": 9,
    "start_time": "2024-10-09T07:09:01.044Z"
   },
   {
    "duration": 25,
    "start_time": "2024-10-09T07:09:01.054Z"
   },
   {
    "duration": 8,
    "start_time": "2024-10-09T07:09:01.080Z"
   },
   {
    "duration": 27,
    "start_time": "2024-10-09T07:09:01.090Z"
   },
   {
    "duration": 21,
    "start_time": "2024-10-09T07:09:01.124Z"
   },
   {
    "duration": 13,
    "start_time": "2024-10-09T07:09:01.147Z"
   },
   {
    "duration": 567,
    "start_time": "2024-10-09T07:09:01.162Z"
   },
   {
    "duration": 15,
    "start_time": "2024-10-09T07:09:01.731Z"
   },
   {
    "duration": 3,
    "start_time": "2024-10-09T07:09:01.748Z"
   },
   {
    "duration": 63,
    "start_time": "2024-10-09T07:09:01.753Z"
   },
   {
    "duration": 31,
    "start_time": "2024-10-09T07:09:01.818Z"
   },
   {
    "duration": 751,
    "start_time": "2024-10-09T07:09:01.854Z"
   },
   {
    "duration": 39,
    "start_time": "2024-10-09T07:09:02.606Z"
   },
   {
    "duration": 11,
    "start_time": "2024-10-09T07:09:02.647Z"
   },
   {
    "duration": 30,
    "start_time": "2024-10-09T07:09:02.660Z"
   },
   {
    "duration": 764,
    "start_time": "2024-10-09T07:09:02.691Z"
   },
   {
    "duration": 627,
    "start_time": "2024-10-09T07:09:03.456Z"
   },
   {
    "duration": 25,
    "start_time": "2024-10-09T07:09:04.085Z"
   },
   {
    "duration": 238,
    "start_time": "2024-10-09T07:09:04.112Z"
   },
   {
    "duration": 5,
    "start_time": "2024-10-09T07:09:04.352Z"
   },
   {
    "duration": 210,
    "start_time": "2024-10-09T07:09:04.358Z"
   },
   {
    "duration": 5,
    "start_time": "2024-10-09T07:09:04.570Z"
   },
   {
    "duration": 23,
    "start_time": "2024-10-09T07:09:04.576Z"
   },
   {
    "duration": 421,
    "start_time": "2024-10-09T07:09:04.601Z"
   },
   {
    "duration": 16,
    "start_time": "2024-10-09T07:09:05.024Z"
   },
   {
    "duration": 10,
    "start_time": "2024-10-09T07:09:05.042Z"
   },
   {
    "duration": 16,
    "start_time": "2024-10-09T07:09:05.054Z"
   },
   {
    "duration": 14,
    "start_time": "2024-10-09T07:09:05.072Z"
   },
   {
    "duration": 37,
    "start_time": "2024-10-09T07:09:05.088Z"
   },
   {
    "duration": 8,
    "start_time": "2024-10-09T07:09:05.127Z"
   },
   {
    "duration": 11,
    "start_time": "2024-10-09T07:09:05.136Z"
   },
   {
    "duration": 18,
    "start_time": "2024-10-09T07:09:05.148Z"
   },
   {
    "duration": 10,
    "start_time": "2024-10-09T07:09:05.168Z"
   },
   {
    "duration": 15,
    "start_time": "2024-10-09T07:09:05.180Z"
   },
   {
    "duration": 310,
    "start_time": "2024-10-09T07:09:05.197Z"
   },
   {
    "duration": 12,
    "start_time": "2024-10-09T07:25:36.067Z"
   },
   {
    "duration": 13,
    "start_time": "2024-10-09T07:25:50.182Z"
   },
   {
    "duration": 9,
    "start_time": "2024-10-09T07:28:52.149Z"
   },
   {
    "duration": 105,
    "start_time": "2024-10-09T07:29:23.912Z"
   },
   {
    "duration": 4,
    "start_time": "2024-10-09T07:29:31.264Z"
   },
   {
    "duration": 5,
    "start_time": "2024-10-09T07:29:37.067Z"
   },
   {
    "duration": 6,
    "start_time": "2024-10-09T07:38:00.156Z"
   },
   {
    "duration": 5,
    "start_time": "2024-10-09T07:38:11.139Z"
   },
   {
    "duration": 5,
    "start_time": "2024-10-09T07:38:47.126Z"
   },
   {
    "duration": 10,
    "start_time": "2024-10-09T07:41:42.698Z"
   },
   {
    "duration": 5,
    "start_time": "2024-10-09T07:43:27.157Z"
   },
   {
    "duration": 5,
    "start_time": "2024-10-09T07:43:36.015Z"
   },
   {
    "duration": 5,
    "start_time": "2024-10-09T07:43:46.090Z"
   },
   {
    "duration": 5,
    "start_time": "2024-10-09T07:43:50.117Z"
   },
   {
    "duration": 5,
    "start_time": "2024-10-09T07:44:13.012Z"
   },
   {
    "duration": 5,
    "start_time": "2024-10-09T07:44:27.286Z"
   },
   {
    "duration": 5,
    "start_time": "2024-10-09T07:44:32.170Z"
   },
   {
    "duration": 113,
    "start_time": "2024-10-09T08:07:50.436Z"
   },
   {
    "duration": 10,
    "start_time": "2024-10-09T08:11:57.868Z"
   },
   {
    "duration": 10,
    "start_time": "2024-10-09T08:12:26.749Z"
   },
   {
    "duration": 6,
    "start_time": "2024-10-09T08:14:57.857Z"
   },
   {
    "duration": 5,
    "start_time": "2024-10-09T08:16:36.444Z"
   },
   {
    "duration": 10,
    "start_time": "2024-10-09T08:19:53.097Z"
   },
   {
    "duration": 10,
    "start_time": "2024-10-09T08:20:30.731Z"
   },
   {
    "duration": 5,
    "start_time": "2024-10-09T08:20:31.699Z"
   },
   {
    "duration": 6,
    "start_time": "2024-10-09T08:20:43.446Z"
   },
   {
    "duration": 5,
    "start_time": "2024-10-09T08:20:47.537Z"
   },
   {
    "duration": 39,
    "start_time": "2024-10-09T08:35:48.817Z"
   },
   {
    "duration": 5,
    "start_time": "2024-10-09T08:36:25.711Z"
   },
   {
    "duration": 201,
    "start_time": "2024-10-09T08:36:39.142Z"
   },
   {
    "duration": 10,
    "start_time": "2024-10-09T08:37:27.635Z"
   },
   {
    "duration": 5,
    "start_time": "2024-10-09T08:37:33.901Z"
   },
   {
    "duration": 213,
    "start_time": "2024-10-09T08:37:35.081Z"
   },
   {
    "duration": 9,
    "start_time": "2024-10-09T08:37:38.368Z"
   },
   {
    "duration": 5,
    "start_time": "2024-10-09T08:37:53.374Z"
   },
   {
    "duration": 213,
    "start_time": "2024-10-09T08:38:44.919Z"
   },
   {
    "duration": 4,
    "start_time": "2024-10-09T08:39:04.826Z"
   },
   {
    "duration": 5,
    "start_time": "2024-10-09T08:43:37.246Z"
   },
   {
    "duration": 299,
    "start_time": "2024-10-09T08:43:38.316Z"
   },
   {
    "duration": 4,
    "start_time": "2024-10-09T08:44:20.383Z"
   },
   {
    "duration": 5,
    "start_time": "2024-10-09T08:44:32.395Z"
   },
   {
    "duration": 207,
    "start_time": "2024-10-09T08:45:29.647Z"
   },
   {
    "duration": 4,
    "start_time": "2024-10-09T08:45:48.425Z"
   },
   {
    "duration": 5,
    "start_time": "2024-10-09T08:49:04.921Z"
   },
   {
    "duration": 212,
    "start_time": "2024-10-09T08:50:06.208Z"
   },
   {
    "duration": 4,
    "start_time": "2024-10-09T08:50:47.149Z"
   },
   {
    "duration": 213,
    "start_time": "2024-10-09T08:51:29.738Z"
   },
   {
    "duration": 5,
    "start_time": "2024-10-09T08:51:55.754Z"
   },
   {
    "duration": 5,
    "start_time": "2024-10-09T08:52:26.191Z"
   },
   {
    "duration": 3,
    "start_time": "2024-10-09T08:54:08.292Z"
   },
   {
    "duration": 69,
    "start_time": "2024-10-09T08:54:08.299Z"
   },
   {
    "duration": 15,
    "start_time": "2024-10-09T08:54:08.370Z"
   },
   {
    "duration": 15,
    "start_time": "2024-10-09T08:54:08.386Z"
   },
   {
    "duration": 4,
    "start_time": "2024-10-09T08:54:08.403Z"
   },
   {
    "duration": 17,
    "start_time": "2024-10-09T08:54:08.408Z"
   },
   {
    "duration": 4,
    "start_time": "2024-10-09T08:54:08.427Z"
   },
   {
    "duration": 4,
    "start_time": "2024-10-09T08:54:08.432Z"
   },
   {
    "duration": 5,
    "start_time": "2024-10-09T08:54:08.438Z"
   },
   {
    "duration": 4,
    "start_time": "2024-10-09T08:54:08.444Z"
   },
   {
    "duration": 26,
    "start_time": "2024-10-09T08:54:08.451Z"
   },
   {
    "duration": 8,
    "start_time": "2024-10-09T08:54:08.478Z"
   },
   {
    "duration": 39,
    "start_time": "2024-10-09T08:54:08.488Z"
   },
   {
    "duration": 6,
    "start_time": "2024-10-09T08:54:08.529Z"
   },
   {
    "duration": 10,
    "start_time": "2024-10-09T08:54:08.537Z"
   },
   {
    "duration": 357,
    "start_time": "2024-10-09T08:54:08.549Z"
   },
   {
    "duration": 25,
    "start_time": "2024-10-09T08:54:08.909Z"
   },
   {
    "duration": 22,
    "start_time": "2024-10-09T08:54:08.936Z"
   },
   {
    "duration": 6,
    "start_time": "2024-10-09T08:54:08.959Z"
   },
   {
    "duration": 18,
    "start_time": "2024-10-09T08:54:08.967Z"
   },
   {
    "duration": 39,
    "start_time": "2024-10-09T08:54:08.986Z"
   },
   {
    "duration": 12,
    "start_time": "2024-10-09T08:54:09.027Z"
   },
   {
    "duration": 609,
    "start_time": "2024-10-09T08:54:09.040Z"
   },
   {
    "duration": 17,
    "start_time": "2024-10-09T08:54:09.651Z"
   },
   {
    "duration": 2,
    "start_time": "2024-10-09T08:54:09.670Z"
   },
   {
    "duration": 7,
    "start_time": "2024-10-09T08:54:09.674Z"
   },
   {
    "duration": 46,
    "start_time": "2024-10-09T08:54:09.683Z"
   },
   {
    "duration": 806,
    "start_time": "2024-10-09T08:54:09.731Z"
   },
   {
    "duration": 26,
    "start_time": "2024-10-09T08:54:10.541Z"
   },
   {
    "duration": 12,
    "start_time": "2024-10-09T08:54:10.569Z"
   },
   {
    "duration": 44,
    "start_time": "2024-10-09T08:54:10.583Z"
   },
   {
    "duration": 796,
    "start_time": "2024-10-09T08:54:10.629Z"
   },
   {
    "duration": 636,
    "start_time": "2024-10-09T08:54:11.427Z"
   },
   {
    "duration": 26,
    "start_time": "2024-10-09T08:54:12.065Z"
   },
   {
    "duration": 243,
    "start_time": "2024-10-09T08:54:12.092Z"
   },
   {
    "duration": 4,
    "start_time": "2024-10-09T08:54:12.336Z"
   },
   {
    "duration": 200,
    "start_time": "2024-10-09T08:54:12.342Z"
   },
   {
    "duration": 4,
    "start_time": "2024-10-09T08:54:12.544Z"
   },
   {
    "duration": 5,
    "start_time": "2024-10-09T08:54:12.550Z"
   },
   {
    "duration": 229,
    "start_time": "2024-10-09T08:54:12.556Z"
   },
   {
    "duration": 5,
    "start_time": "2024-10-09T08:54:12.786Z"
   },
   {
    "duration": 217,
    "start_time": "2024-10-09T08:54:12.792Z"
   },
   {
    "duration": 5,
    "start_time": "2024-10-09T08:54:13.010Z"
   },
   {
    "duration": 5,
    "start_time": "2024-10-09T08:54:13.025Z"
   },
   {
    "duration": 229,
    "start_time": "2024-10-09T08:54:13.031Z"
   },
   {
    "duration": 4,
    "start_time": "2024-10-09T08:54:13.262Z"
   },
   {
    "duration": 220,
    "start_time": "2024-10-09T08:54:13.267Z"
   },
   {
    "duration": 5,
    "start_time": "2024-10-09T08:54:13.489Z"
   },
   {
    "duration": 5,
    "start_time": "2024-10-09T08:54:13.495Z"
   },
   {
    "duration": 228,
    "start_time": "2024-10-09T08:54:13.502Z"
   },
   {
    "duration": 5,
    "start_time": "2024-10-09T08:54:13.731Z"
   },
   {
    "duration": 330,
    "start_time": "2024-10-09T08:54:13.737Z"
   },
   {
    "duration": 4,
    "start_time": "2024-10-09T08:54:14.068Z"
   },
   {
    "duration": 85,
    "start_time": "2024-10-09T08:54:14.073Z"
   },
   {
    "duration": 435,
    "start_time": "2024-10-09T08:54:14.159Z"
   },
   {
    "duration": 16,
    "start_time": "2024-10-09T08:54:14.596Z"
   },
   {
    "duration": 21,
    "start_time": "2024-10-09T08:54:14.614Z"
   },
   {
    "duration": 72,
    "start_time": "2024-10-09T08:54:14.636Z"
   },
   {
    "duration": 11,
    "start_time": "2024-10-09T08:54:14.710Z"
   },
   {
    "duration": 12,
    "start_time": "2024-10-09T08:54:14.723Z"
   },
   {
    "duration": 30,
    "start_time": "2024-10-09T08:54:14.737Z"
   },
   {
    "duration": 10,
    "start_time": "2024-10-09T08:54:14.769Z"
   },
   {
    "duration": 10,
    "start_time": "2024-10-09T08:54:14.781Z"
   },
   {
    "duration": 11,
    "start_time": "2024-10-09T08:54:14.793Z"
   },
   {
    "duration": 28,
    "start_time": "2024-10-09T08:54:14.806Z"
   },
   {
    "duration": 285,
    "start_time": "2024-10-09T08:54:14.836Z"
   },
   {
    "duration": 8,
    "start_time": "2024-10-09T08:54:15.125Z"
   },
   {
    "duration": 6,
    "start_time": "2024-10-09T08:54:15.135Z"
   },
   {
    "duration": 16,
    "start_time": "2024-10-09T08:54:15.142Z"
   },
   {
    "duration": 6,
    "start_time": "2024-10-09T08:54:15.160Z"
   },
   {
    "duration": 5,
    "start_time": "2024-10-09T09:02:32.692Z"
   },
   {
    "duration": 5,
    "start_time": "2024-10-09T09:02:38.712Z"
   },
   {
    "duration": 5,
    "start_time": "2024-10-09T09:02:40.276Z"
   },
   {
    "duration": 3,
    "start_time": "2024-10-09T09:20:30.398Z"
   },
   {
    "duration": 4,
    "start_time": "2024-10-09T10:04:13.152Z"
   },
   {
    "duration": 71,
    "start_time": "2024-10-09T10:04:13.158Z"
   },
   {
    "duration": 15,
    "start_time": "2024-10-09T10:04:13.231Z"
   },
   {
    "duration": 48,
    "start_time": "2024-10-09T10:04:13.248Z"
   },
   {
    "duration": 4,
    "start_time": "2024-10-09T10:04:13.298Z"
   },
   {
    "duration": 5,
    "start_time": "2024-10-09T10:04:13.303Z"
   },
   {
    "duration": 15,
    "start_time": "2024-10-09T10:04:13.310Z"
   },
   {
    "duration": 5,
    "start_time": "2024-10-09T10:04:13.327Z"
   },
   {
    "duration": 25,
    "start_time": "2024-10-09T10:04:13.333Z"
   },
   {
    "duration": 8,
    "start_time": "2024-10-09T10:04:13.360Z"
   },
   {
    "duration": 6,
    "start_time": "2024-10-09T10:04:13.369Z"
   },
   {
    "duration": 8,
    "start_time": "2024-10-09T10:04:13.377Z"
   },
   {
    "duration": 42,
    "start_time": "2024-10-09T10:04:13.387Z"
   },
   {
    "duration": 317,
    "start_time": "2024-10-09T10:04:13.432Z"
   },
   {
    "duration": 9,
    "start_time": "2024-10-09T10:04:13.751Z"
   },
   {
    "duration": 15,
    "start_time": "2024-10-09T10:04:13.762Z"
   },
   {
    "duration": 5,
    "start_time": "2024-10-09T10:04:13.779Z"
   },
   {
    "duration": 70,
    "start_time": "2024-10-09T10:04:13.786Z"
   },
   {
    "duration": 16,
    "start_time": "2024-10-09T10:04:13.858Z"
   },
   {
    "duration": 12,
    "start_time": "2024-10-09T10:04:13.875Z"
   },
   {
    "duration": 573,
    "start_time": "2024-10-09T10:04:13.889Z"
   },
   {
    "duration": 15,
    "start_time": "2024-10-09T10:04:14.464Z"
   },
   {
    "duration": 4,
    "start_time": "2024-10-09T10:04:14.480Z"
   },
   {
    "duration": 15,
    "start_time": "2024-10-09T10:04:14.485Z"
   },
   {
    "duration": 35,
    "start_time": "2024-10-09T10:04:14.502Z"
   },
   {
    "duration": 767,
    "start_time": "2024-10-09T10:04:14.538Z"
   },
   {
    "duration": 33,
    "start_time": "2024-10-09T10:04:15.307Z"
   },
   {
    "duration": 12,
    "start_time": "2024-10-09T10:04:15.342Z"
   },
   {
    "duration": 26,
    "start_time": "2024-10-09T10:04:15.356Z"
   },
   {
    "duration": 802,
    "start_time": "2024-10-09T10:04:15.384Z"
   },
   {
    "duration": 606,
    "start_time": "2024-10-09T10:04:16.187Z"
   },
   {
    "duration": 34,
    "start_time": "2024-10-09T10:04:16.795Z"
   },
   {
    "duration": 209,
    "start_time": "2024-10-09T10:04:16.831Z"
   },
   {
    "duration": 5,
    "start_time": "2024-10-09T10:04:17.042Z"
   },
   {
    "duration": 203,
    "start_time": "2024-10-09T10:04:17.048Z"
   },
   {
    "duration": 4,
    "start_time": "2024-10-09T10:04:17.253Z"
   },
   {
    "duration": 22,
    "start_time": "2024-10-09T10:04:17.258Z"
   },
   {
    "duration": 221,
    "start_time": "2024-10-09T10:04:17.282Z"
   },
   {
    "duration": 4,
    "start_time": "2024-10-09T10:04:17.505Z"
   },
   {
    "duration": 255,
    "start_time": "2024-10-09T10:04:17.511Z"
   },
   {
    "duration": 4,
    "start_time": "2024-10-09T10:04:17.771Z"
   },
   {
    "duration": 57,
    "start_time": "2024-10-09T10:04:17.777Z"
   },
   {
    "duration": 205,
    "start_time": "2024-10-09T10:04:17.836Z"
   },
   {
    "duration": 5,
    "start_time": "2024-10-09T10:04:18.043Z"
   },
   {
    "duration": 224,
    "start_time": "2024-10-09T10:04:18.049Z"
   },
   {
    "duration": 5,
    "start_time": "2024-10-09T10:04:18.274Z"
   },
   {
    "duration": 49,
    "start_time": "2024-10-09T10:04:18.281Z"
   },
   {
    "duration": 212,
    "start_time": "2024-10-09T10:04:18.331Z"
   },
   {
    "duration": 6,
    "start_time": "2024-10-09T10:04:18.545Z"
   },
   {
    "duration": 327,
    "start_time": "2024-10-09T10:04:18.552Z"
   },
   {
    "duration": 5,
    "start_time": "2024-10-09T10:04:18.880Z"
   },
   {
    "duration": 70,
    "start_time": "2024-10-09T10:04:18.886Z"
   },
   {
    "duration": 435,
    "start_time": "2024-10-09T10:04:18.957Z"
   },
   {
    "duration": 16,
    "start_time": "2024-10-09T10:04:19.393Z"
   },
   {
    "duration": 21,
    "start_time": "2024-10-09T10:04:19.411Z"
   },
   {
    "duration": 12,
    "start_time": "2024-10-09T10:04:19.434Z"
   },
   {
    "duration": 10,
    "start_time": "2024-10-09T10:04:19.448Z"
   },
   {
    "duration": 16,
    "start_time": "2024-10-09T10:04:19.460Z"
   },
   {
    "duration": 11,
    "start_time": "2024-10-09T10:04:19.477Z"
   },
   {
    "duration": 10,
    "start_time": "2024-10-09T10:04:19.490Z"
   },
   {
    "duration": 11,
    "start_time": "2024-10-09T10:04:19.526Z"
   },
   {
    "duration": 11,
    "start_time": "2024-10-09T10:04:19.539Z"
   },
   {
    "duration": 16,
    "start_time": "2024-10-09T10:04:19.551Z"
   },
   {
    "duration": 330,
    "start_time": "2024-10-09T10:04:19.568Z"
   },
   {
    "duration": 8,
    "start_time": "2024-10-09T10:04:19.901Z"
   },
   {
    "duration": 17,
    "start_time": "2024-10-09T10:04:19.910Z"
   },
   {
    "duration": 11,
    "start_time": "2024-10-09T10:04:19.929Z"
   },
   {
    "duration": 5,
    "start_time": "2024-10-09T10:04:19.942Z"
   },
   {
    "duration": 1181,
    "start_time": "2024-10-09T13:34:42.794Z"
   },
   {
    "duration": 57,
    "start_time": "2024-10-09T13:34:43.977Z"
   },
   {
    "duration": 14,
    "start_time": "2024-10-09T13:34:44.035Z"
   },
   {
    "duration": 18,
    "start_time": "2024-10-09T13:34:44.051Z"
   },
   {
    "duration": 3,
    "start_time": "2024-10-09T13:34:44.070Z"
   },
   {
    "duration": 5,
    "start_time": "2024-10-09T13:34:44.075Z"
   },
   {
    "duration": 4,
    "start_time": "2024-10-09T13:34:44.081Z"
   },
   {
    "duration": 6,
    "start_time": "2024-10-09T13:34:44.086Z"
   },
   {
    "duration": 22,
    "start_time": "2024-10-09T13:34:44.093Z"
   },
   {
    "duration": 8,
    "start_time": "2024-10-09T13:34:44.117Z"
   },
   {
    "duration": 5,
    "start_time": "2024-10-09T13:34:44.127Z"
   },
   {
    "duration": 5,
    "start_time": "2024-10-09T13:34:44.133Z"
   },
   {
    "duration": 40,
    "start_time": "2024-10-09T13:34:44.140Z"
   },
   {
    "duration": 316,
    "start_time": "2024-10-09T13:34:44.182Z"
   },
   {
    "duration": 9,
    "start_time": "2024-10-09T13:34:44.499Z"
   },
   {
    "duration": 15,
    "start_time": "2024-10-09T13:34:44.509Z"
   },
   {
    "duration": 4,
    "start_time": "2024-10-09T13:34:44.526Z"
   },
   {
    "duration": 17,
    "start_time": "2024-10-09T13:34:44.531Z"
   },
   {
    "duration": 13,
    "start_time": "2024-10-09T13:34:44.577Z"
   },
   {
    "duration": 11,
    "start_time": "2024-10-09T13:34:44.592Z"
   },
   {
    "duration": 507,
    "start_time": "2024-10-09T13:34:44.604Z"
   },
   {
    "duration": 14,
    "start_time": "2024-10-09T13:34:45.112Z"
   },
   {
    "duration": 6,
    "start_time": "2024-10-09T13:34:45.127Z"
   },
   {
    "duration": 34,
    "start_time": "2024-10-09T13:34:45.135Z"
   },
   {
    "duration": 20,
    "start_time": "2024-10-09T13:34:45.171Z"
   },
   {
    "duration": 688,
    "start_time": "2024-10-09T13:34:45.192Z"
   },
   {
    "duration": 24,
    "start_time": "2024-10-09T13:34:45.881Z"
   },
   {
    "duration": 11,
    "start_time": "2024-10-09T13:34:45.908Z"
   },
   {
    "duration": 21,
    "start_time": "2024-10-09T13:34:45.920Z"
   },
   {
    "duration": 737,
    "start_time": "2024-10-09T13:34:45.942Z"
   },
   {
    "duration": 562,
    "start_time": "2024-10-09T13:34:46.680Z"
   },
   {
    "duration": 33,
    "start_time": "2024-10-09T13:34:47.244Z"
   },
   {
    "duration": 188,
    "start_time": "2024-10-09T13:34:47.278Z"
   },
   {
    "duration": 5,
    "start_time": "2024-10-09T13:34:47.475Z"
   },
   {
    "duration": 199,
    "start_time": "2024-10-09T13:34:47.481Z"
   },
   {
    "duration": 4,
    "start_time": "2024-10-09T13:34:47.681Z"
   },
   {
    "duration": 4,
    "start_time": "2024-10-09T13:34:47.687Z"
   },
   {
    "duration": 205,
    "start_time": "2024-10-09T13:34:47.692Z"
   },
   {
    "duration": 4,
    "start_time": "2024-10-09T13:34:47.899Z"
   },
   {
    "duration": 204,
    "start_time": "2024-10-09T13:34:47.905Z"
   },
   {
    "duration": 5,
    "start_time": "2024-10-09T13:34:48.111Z"
   },
   {
    "duration": 13,
    "start_time": "2024-10-09T13:34:48.118Z"
   },
   {
    "duration": 229,
    "start_time": "2024-10-09T13:34:48.133Z"
   },
   {
    "duration": 4,
    "start_time": "2024-10-09T13:34:48.363Z"
   },
   {
    "duration": 201,
    "start_time": "2024-10-09T13:34:48.376Z"
   },
   {
    "duration": 4,
    "start_time": "2024-10-09T13:34:48.579Z"
   },
   {
    "duration": 19,
    "start_time": "2024-10-09T13:34:48.585Z"
   },
   {
    "duration": 184,
    "start_time": "2024-10-09T13:34:48.606Z"
   },
   {
    "duration": 4,
    "start_time": "2024-10-09T13:34:48.791Z"
   },
   {
    "duration": 201,
    "start_time": "2024-10-09T13:34:48.796Z"
   },
   {
    "duration": 3,
    "start_time": "2024-10-09T13:34:48.999Z"
   },
   {
    "duration": 21,
    "start_time": "2024-10-09T13:34:49.004Z"
   },
   {
    "duration": 497,
    "start_time": "2024-10-09T13:34:49.026Z"
   },
   {
    "duration": 14,
    "start_time": "2024-10-09T13:34:49.525Z"
   },
   {
    "duration": 9,
    "start_time": "2024-10-09T13:34:49.540Z"
   },
   {
    "duration": 27,
    "start_time": "2024-10-09T13:34:49.550Z"
   },
   {
    "duration": 9,
    "start_time": "2024-10-09T13:34:49.578Z"
   },
   {
    "duration": 28,
    "start_time": "2024-10-09T13:34:49.588Z"
   },
   {
    "duration": 7,
    "start_time": "2024-10-09T13:34:49.618Z"
   },
   {
    "duration": 10,
    "start_time": "2024-10-09T13:34:49.626Z"
   },
   {
    "duration": 9,
    "start_time": "2024-10-09T13:34:49.637Z"
   },
   {
    "duration": 21,
    "start_time": "2024-10-09T13:34:49.647Z"
   },
   {
    "duration": 16,
    "start_time": "2024-10-09T13:34:49.670Z"
   },
   {
    "duration": 253,
    "start_time": "2024-10-09T13:34:49.688Z"
   },
   {
    "duration": 8,
    "start_time": "2024-10-09T13:34:49.942Z"
   },
   {
    "duration": 75,
    "start_time": "2024-10-09T13:34:49.951Z"
   },
   {
    "duration": 12,
    "start_time": "2024-10-09T13:34:50.028Z"
   },
   {
    "duration": 10,
    "start_time": "2024-10-09T13:34:50.042Z"
   },
   {
    "duration": 301,
    "start_time": "2024-10-09T14:00:18.897Z"
   },
   {
    "duration": 1283,
    "start_time": "2024-10-09T14:01:02.382Z"
   },
   {
    "duration": 71,
    "start_time": "2024-10-09T14:03:13.915Z"
   },
   {
    "duration": 111,
    "start_time": "2024-10-09T14:06:47.730Z"
   },
   {
    "duration": 3,
    "start_time": "2024-10-09T14:06:55.658Z"
   },
   {
    "duration": 186,
    "start_time": "2024-10-09T14:06:55.663Z"
   },
   {
    "duration": 15,
    "start_time": "2024-10-09T14:06:55.851Z"
   },
   {
    "duration": 27,
    "start_time": "2024-10-09T14:06:55.868Z"
   },
   {
    "duration": 3,
    "start_time": "2024-10-09T14:06:55.897Z"
   },
   {
    "duration": 9,
    "start_time": "2024-10-09T14:06:55.901Z"
   },
   {
    "duration": 9,
    "start_time": "2024-10-09T14:06:55.911Z"
   },
   {
    "duration": 6,
    "start_time": "2024-10-09T14:06:55.922Z"
   },
   {
    "duration": 21,
    "start_time": "2024-10-09T14:06:55.937Z"
   },
   {
    "duration": 8,
    "start_time": "2024-10-09T14:06:55.959Z"
   },
   {
    "duration": 5,
    "start_time": "2024-10-09T14:06:55.968Z"
   },
   {
    "duration": 6,
    "start_time": "2024-10-09T14:06:55.974Z"
   },
   {
    "duration": 8,
    "start_time": "2024-10-09T14:06:55.981Z"
   },
   {
    "duration": 453,
    "start_time": "2024-10-09T14:06:55.990Z"
   },
   {
    "duration": 11,
    "start_time": "2024-10-09T14:06:56.445Z"
   },
   {
    "duration": 17,
    "start_time": "2024-10-09T14:06:56.458Z"
   },
   {
    "duration": 19,
    "start_time": "2024-10-09T14:06:56.477Z"
   },
   {
    "duration": 0,
    "start_time": "2024-10-09T14:06:56.499Z"
   },
   {
    "duration": 0,
    "start_time": "2024-10-09T14:06:56.500Z"
   },
   {
    "duration": 0,
    "start_time": "2024-10-09T14:06:56.501Z"
   },
   {
    "duration": 0,
    "start_time": "2024-10-09T14:06:56.502Z"
   },
   {
    "duration": 0,
    "start_time": "2024-10-09T14:06:56.503Z"
   },
   {
    "duration": 0,
    "start_time": "2024-10-09T14:06:56.504Z"
   },
   {
    "duration": 0,
    "start_time": "2024-10-09T14:06:56.505Z"
   },
   {
    "duration": 0,
    "start_time": "2024-10-09T14:06:56.506Z"
   },
   {
    "duration": 0,
    "start_time": "2024-10-09T14:06:56.507Z"
   },
   {
    "duration": 0,
    "start_time": "2024-10-09T14:06:56.538Z"
   },
   {
    "duration": 0,
    "start_time": "2024-10-09T14:06:56.539Z"
   },
   {
    "duration": 0,
    "start_time": "2024-10-09T14:06:56.541Z"
   },
   {
    "duration": 0,
    "start_time": "2024-10-09T14:06:56.542Z"
   },
   {
    "duration": 0,
    "start_time": "2024-10-09T14:06:56.543Z"
   },
   {
    "duration": 0,
    "start_time": "2024-10-09T14:06:56.547Z"
   },
   {
    "duration": 0,
    "start_time": "2024-10-09T14:06:56.549Z"
   },
   {
    "duration": 0,
    "start_time": "2024-10-09T14:06:56.550Z"
   },
   {
    "duration": 0,
    "start_time": "2024-10-09T14:06:56.551Z"
   },
   {
    "duration": 0,
    "start_time": "2024-10-09T14:06:56.552Z"
   },
   {
    "duration": 0,
    "start_time": "2024-10-09T14:06:56.553Z"
   },
   {
    "duration": 0,
    "start_time": "2024-10-09T14:06:56.554Z"
   },
   {
    "duration": 0,
    "start_time": "2024-10-09T14:06:56.555Z"
   },
   {
    "duration": 0,
    "start_time": "2024-10-09T14:06:56.556Z"
   },
   {
    "duration": 0,
    "start_time": "2024-10-09T14:06:56.557Z"
   },
   {
    "duration": 0,
    "start_time": "2024-10-09T14:06:56.558Z"
   },
   {
    "duration": 0,
    "start_time": "2024-10-09T14:06:56.559Z"
   },
   {
    "duration": 0,
    "start_time": "2024-10-09T14:06:56.560Z"
   },
   {
    "duration": 0,
    "start_time": "2024-10-09T14:06:56.561Z"
   },
   {
    "duration": 0,
    "start_time": "2024-10-09T14:06:56.562Z"
   },
   {
    "duration": 0,
    "start_time": "2024-10-09T14:06:56.563Z"
   },
   {
    "duration": 0,
    "start_time": "2024-10-09T14:06:56.564Z"
   },
   {
    "duration": 0,
    "start_time": "2024-10-09T14:06:56.565Z"
   },
   {
    "duration": 0,
    "start_time": "2024-10-09T14:06:56.567Z"
   },
   {
    "duration": 0,
    "start_time": "2024-10-09T14:06:56.567Z"
   },
   {
    "duration": 0,
    "start_time": "2024-10-09T14:06:56.569Z"
   },
   {
    "duration": 1,
    "start_time": "2024-10-09T14:06:56.569Z"
   },
   {
    "duration": 0,
    "start_time": "2024-10-09T14:06:56.570Z"
   },
   {
    "duration": 0,
    "start_time": "2024-10-09T14:06:56.572Z"
   },
   {
    "duration": 0,
    "start_time": "2024-10-09T14:06:56.573Z"
   },
   {
    "duration": 0,
    "start_time": "2024-10-09T14:06:56.574Z"
   },
   {
    "duration": 0,
    "start_time": "2024-10-09T14:06:56.575Z"
   },
   {
    "duration": 1,
    "start_time": "2024-10-09T14:06:56.575Z"
   },
   {
    "duration": 0,
    "start_time": "2024-10-09T14:06:56.577Z"
   },
   {
    "duration": 0,
    "start_time": "2024-10-09T14:06:56.577Z"
   },
   {
    "duration": 0,
    "start_time": "2024-10-09T14:06:56.578Z"
   },
   {
    "duration": 0,
    "start_time": "2024-10-09T14:06:56.637Z"
   },
   {
    "duration": 0,
    "start_time": "2024-10-09T14:06:56.638Z"
   },
   {
    "duration": 0,
    "start_time": "2024-10-09T14:06:56.640Z"
   },
   {
    "duration": 0,
    "start_time": "2024-10-09T14:06:56.641Z"
   },
   {
    "duration": 0,
    "start_time": "2024-10-09T14:06:56.643Z"
   },
   {
    "duration": 0,
    "start_time": "2024-10-09T14:06:56.644Z"
   },
   {
    "duration": 0,
    "start_time": "2024-10-09T14:06:56.645Z"
   },
   {
    "duration": 20,
    "start_time": "2024-10-09T14:08:22.457Z"
   },
   {
    "duration": 3,
    "start_time": "2024-10-09T14:08:30.344Z"
   },
   {
    "duration": 92,
    "start_time": "2024-10-09T14:08:30.349Z"
   },
   {
    "duration": 14,
    "start_time": "2024-10-09T14:08:30.442Z"
   },
   {
    "duration": 54,
    "start_time": "2024-10-09T14:08:30.458Z"
   },
   {
    "duration": 19,
    "start_time": "2024-10-09T14:08:30.513Z"
   },
   {
    "duration": 37,
    "start_time": "2024-10-09T14:08:30.534Z"
   },
   {
    "duration": 20,
    "start_time": "2024-10-09T14:08:30.573Z"
   },
   {
    "duration": 5,
    "start_time": "2024-10-09T14:08:30.594Z"
   },
   {
    "duration": 26,
    "start_time": "2024-10-09T14:08:30.601Z"
   },
   {
    "duration": 7,
    "start_time": "2024-10-09T14:08:30.629Z"
   },
   {
    "duration": 19,
    "start_time": "2024-10-09T14:08:30.637Z"
   },
   {
    "duration": 39,
    "start_time": "2024-10-09T14:08:30.658Z"
   },
   {
    "duration": 26,
    "start_time": "2024-10-09T14:08:30.699Z"
   },
   {
    "duration": 19,
    "start_time": "2024-10-09T14:08:30.727Z"
   },
   {
    "duration": 319,
    "start_time": "2024-10-09T14:08:30.747Z"
   },
   {
    "duration": 8,
    "start_time": "2024-10-09T14:08:31.068Z"
   },
   {
    "duration": 25,
    "start_time": "2024-10-09T14:08:31.078Z"
   },
   {
    "duration": 3,
    "start_time": "2024-10-09T14:08:31.104Z"
   },
   {
    "duration": 6,
    "start_time": "2024-10-09T14:08:31.109Z"
   },
   {
    "duration": 28,
    "start_time": "2024-10-09T14:08:31.117Z"
   },
   {
    "duration": 15,
    "start_time": "2024-10-09T14:08:31.146Z"
   },
   {
    "duration": 14,
    "start_time": "2024-10-09T14:08:31.163Z"
   },
   {
    "duration": 553,
    "start_time": "2024-10-09T14:08:31.179Z"
   },
   {
    "duration": 12,
    "start_time": "2024-10-09T14:08:31.737Z"
   },
   {
    "duration": 2,
    "start_time": "2024-10-09T14:08:31.751Z"
   },
   {
    "duration": 34,
    "start_time": "2024-10-09T14:08:31.755Z"
   },
   {
    "duration": 28,
    "start_time": "2024-10-09T14:08:31.790Z"
   },
   {
    "duration": 694,
    "start_time": "2024-10-09T14:08:31.819Z"
   },
   {
    "duration": 32,
    "start_time": "2024-10-09T14:08:32.514Z"
   },
   {
    "duration": 10,
    "start_time": "2024-10-09T14:08:32.548Z"
   },
   {
    "duration": 34,
    "start_time": "2024-10-09T14:08:32.559Z"
   },
   {
    "duration": 691,
    "start_time": "2024-10-09T14:08:32.595Z"
   },
   {
    "duration": 573,
    "start_time": "2024-10-09T14:08:33.288Z"
   },
   {
    "duration": 24,
    "start_time": "2024-10-09T14:08:33.863Z"
   },
   {
    "duration": 211,
    "start_time": "2024-10-09T14:08:33.889Z"
   },
   {
    "duration": 4,
    "start_time": "2024-10-09T14:08:34.101Z"
   },
   {
    "duration": 173,
    "start_time": "2024-10-09T14:08:34.106Z"
   },
   {
    "duration": 4,
    "start_time": "2024-10-09T14:08:34.281Z"
   },
   {
    "duration": 26,
    "start_time": "2024-10-09T14:08:34.286Z"
   },
   {
    "duration": 209,
    "start_time": "2024-10-09T14:08:34.313Z"
   },
   {
    "duration": 14,
    "start_time": "2024-10-09T14:08:34.523Z"
   },
   {
    "duration": 192,
    "start_time": "2024-10-09T14:08:34.539Z"
   },
   {
    "duration": 7,
    "start_time": "2024-10-09T14:08:34.732Z"
   },
   {
    "duration": 6,
    "start_time": "2024-10-09T14:08:34.741Z"
   },
   {
    "duration": 205,
    "start_time": "2024-10-09T14:08:34.748Z"
   },
   {
    "duration": 4,
    "start_time": "2024-10-09T14:08:34.955Z"
   },
   {
    "duration": 288,
    "start_time": "2024-10-09T14:08:34.960Z"
   },
   {
    "duration": 4,
    "start_time": "2024-10-09T14:08:35.249Z"
   },
   {
    "duration": 50,
    "start_time": "2024-10-09T14:08:35.255Z"
   },
   {
    "duration": 218,
    "start_time": "2024-10-09T14:08:35.309Z"
   },
   {
    "duration": 10,
    "start_time": "2024-10-09T14:08:35.540Z"
   },
   {
    "duration": 328,
    "start_time": "2024-10-09T14:08:35.552Z"
   },
   {
    "duration": 5,
    "start_time": "2024-10-09T14:08:35.882Z"
   },
   {
    "duration": 55,
    "start_time": "2024-10-09T14:08:35.889Z"
   },
   {
    "duration": 457,
    "start_time": "2024-10-09T14:08:35.946Z"
   },
   {
    "duration": 15,
    "start_time": "2024-10-09T14:08:36.405Z"
   },
   {
    "duration": 24,
    "start_time": "2024-10-09T14:08:36.421Z"
   },
   {
    "duration": 12,
    "start_time": "2024-10-09T14:08:36.447Z"
   },
   {
    "duration": 19,
    "start_time": "2024-10-09T14:08:36.461Z"
   },
   {
    "duration": 29,
    "start_time": "2024-10-09T14:08:36.482Z"
   },
   {
    "duration": 25,
    "start_time": "2024-10-09T14:08:36.513Z"
   },
   {
    "duration": 13,
    "start_time": "2024-10-09T14:08:36.540Z"
   },
   {
    "duration": 19,
    "start_time": "2024-10-09T14:08:36.554Z"
   },
   {
    "duration": 33,
    "start_time": "2024-10-09T14:08:36.575Z"
   },
   {
    "duration": 50,
    "start_time": "2024-10-09T14:08:36.610Z"
   },
   {
    "duration": 299,
    "start_time": "2024-10-09T14:08:36.661Z"
   },
   {
    "duration": 9,
    "start_time": "2024-10-09T14:08:36.961Z"
   },
   {
    "duration": 77,
    "start_time": "2024-10-09T14:08:36.972Z"
   },
   {
    "duration": 14,
    "start_time": "2024-10-09T14:08:37.054Z"
   },
   {
    "duration": 9,
    "start_time": "2024-10-09T14:08:37.069Z"
   },
   {
    "duration": 21,
    "start_time": "2024-10-09T14:14:34.556Z"
   },
   {
    "duration": 11,
    "start_time": "2024-10-09T14:22:14.757Z"
   },
   {
    "duration": 13,
    "start_time": "2024-10-09T14:22:23.991Z"
   },
   {
    "duration": 75,
    "start_time": "2024-10-09T14:25:51.582Z"
   },
   {
    "duration": 71,
    "start_time": "2024-10-09T14:33:18.643Z"
   },
   {
    "duration": 6,
    "start_time": "2024-10-09T14:34:42.215Z"
   },
   {
    "duration": 15,
    "start_time": "2024-10-09T14:34:52.583Z"
   },
   {
    "duration": 12,
    "start_time": "2024-10-09T14:44:16.869Z"
   },
   {
    "duration": 15,
    "start_time": "2024-10-09T14:44:24.655Z"
   },
   {
    "duration": 18,
    "start_time": "2024-10-09T14:45:42.766Z"
   },
   {
    "duration": 4,
    "start_time": "2024-10-09T14:46:34.208Z"
   },
   {
    "duration": 10,
    "start_time": "2024-10-09T14:46:41.736Z"
   },
   {
    "duration": 10,
    "start_time": "2024-10-09T14:47:50.982Z"
   },
   {
    "duration": 15,
    "start_time": "2024-10-09T14:47:51.965Z"
   },
   {
    "duration": 3,
    "start_time": "2024-10-09T14:47:56.085Z"
   },
   {
    "duration": 73,
    "start_time": "2024-10-09T14:47:56.090Z"
   },
   {
    "duration": 14,
    "start_time": "2024-10-09T14:47:56.165Z"
   },
   {
    "duration": 15,
    "start_time": "2024-10-09T14:47:56.180Z"
   },
   {
    "duration": 5,
    "start_time": "2024-10-09T14:47:56.197Z"
   },
   {
    "duration": 6,
    "start_time": "2024-10-09T14:47:56.203Z"
   },
   {
    "duration": 3,
    "start_time": "2024-10-09T14:47:56.211Z"
   },
   {
    "duration": 22,
    "start_time": "2024-10-09T14:47:56.216Z"
   },
   {
    "duration": 23,
    "start_time": "2024-10-09T14:47:56.239Z"
   },
   {
    "duration": 6,
    "start_time": "2024-10-09T14:47:56.264Z"
   },
   {
    "duration": 10,
    "start_time": "2024-10-09T14:47:56.272Z"
   },
   {
    "duration": 8,
    "start_time": "2024-10-09T14:47:56.283Z"
   },
   {
    "duration": 11,
    "start_time": "2024-10-09T14:47:56.293Z"
   },
   {
    "duration": 8,
    "start_time": "2024-10-09T14:47:56.307Z"
   },
   {
    "duration": 282,
    "start_time": "2024-10-09T14:47:56.316Z"
   },
   {
    "duration": 8,
    "start_time": "2024-10-09T14:47:56.600Z"
   },
   {
    "duration": 30,
    "start_time": "2024-10-09T14:47:56.609Z"
   },
   {
    "duration": 4,
    "start_time": "2024-10-09T14:47:56.641Z"
   },
   {
    "duration": 20,
    "start_time": "2024-10-09T14:47:56.647Z"
   },
   {
    "duration": 14,
    "start_time": "2024-10-09T14:47:56.669Z"
   },
   {
    "duration": 24,
    "start_time": "2024-10-09T14:47:56.815Z"
   },
   {
    "duration": 7,
    "start_time": "2024-10-09T14:47:56.841Z"
   },
   {
    "duration": 14,
    "start_time": "2024-10-09T14:47:56.849Z"
   },
   {
    "duration": 489,
    "start_time": "2024-10-09T14:47:56.864Z"
   },
   {
    "duration": 13,
    "start_time": "2024-10-09T14:47:57.355Z"
   },
   {
    "duration": 3,
    "start_time": "2024-10-09T14:47:57.370Z"
   },
   {
    "duration": 8,
    "start_time": "2024-10-09T14:47:57.374Z"
   },
   {
    "duration": 20,
    "start_time": "2024-10-09T14:47:57.383Z"
   },
   {
    "duration": 34,
    "start_time": "2024-10-09T14:47:57.404Z"
   },
   {
    "duration": 4,
    "start_time": "2024-10-09T14:47:57.440Z"
   },
   {
    "duration": 741,
    "start_time": "2024-10-09T14:47:57.446Z"
   },
   {
    "duration": 151,
    "start_time": "2024-10-09T14:47:58.189Z"
   },
   {
    "duration": 0,
    "start_time": "2024-10-09T14:47:58.344Z"
   },
   {
    "duration": 0,
    "start_time": "2024-10-09T14:47:58.346Z"
   },
   {
    "duration": 0,
    "start_time": "2024-10-09T14:47:58.348Z"
   },
   {
    "duration": 0,
    "start_time": "2024-10-09T14:47:58.349Z"
   },
   {
    "duration": 0,
    "start_time": "2024-10-09T14:47:58.352Z"
   },
   {
    "duration": 0,
    "start_time": "2024-10-09T14:47:58.353Z"
   },
   {
    "duration": 0,
    "start_time": "2024-10-09T14:47:58.355Z"
   },
   {
    "duration": 0,
    "start_time": "2024-10-09T14:47:58.357Z"
   },
   {
    "duration": 0,
    "start_time": "2024-10-09T14:47:58.358Z"
   },
   {
    "duration": 0,
    "start_time": "2024-10-09T14:47:58.360Z"
   },
   {
    "duration": 0,
    "start_time": "2024-10-09T14:47:58.361Z"
   },
   {
    "duration": 0,
    "start_time": "2024-10-09T14:47:58.363Z"
   },
   {
    "duration": 0,
    "start_time": "2024-10-09T14:47:58.364Z"
   },
   {
    "duration": 0,
    "start_time": "2024-10-09T14:47:58.366Z"
   },
   {
    "duration": 0,
    "start_time": "2024-10-09T14:47:58.367Z"
   },
   {
    "duration": 0,
    "start_time": "2024-10-09T14:47:58.368Z"
   },
   {
    "duration": 0,
    "start_time": "2024-10-09T14:47:58.369Z"
   },
   {
    "duration": 0,
    "start_time": "2024-10-09T14:47:58.370Z"
   },
   {
    "duration": 0,
    "start_time": "2024-10-09T14:47:58.371Z"
   },
   {
    "duration": 0,
    "start_time": "2024-10-09T14:47:58.372Z"
   },
   {
    "duration": 0,
    "start_time": "2024-10-09T14:47:58.373Z"
   },
   {
    "duration": 0,
    "start_time": "2024-10-09T14:47:58.375Z"
   },
   {
    "duration": 0,
    "start_time": "2024-10-09T14:47:58.376Z"
   },
   {
    "duration": 0,
    "start_time": "2024-10-09T14:47:58.377Z"
   },
   {
    "duration": 0,
    "start_time": "2024-10-09T14:47:58.378Z"
   },
   {
    "duration": 0,
    "start_time": "2024-10-09T14:47:58.379Z"
   },
   {
    "duration": 0,
    "start_time": "2024-10-09T14:47:58.380Z"
   },
   {
    "duration": 0,
    "start_time": "2024-10-09T14:47:58.381Z"
   },
   {
    "duration": 1,
    "start_time": "2024-10-09T14:47:58.437Z"
   },
   {
    "duration": 0,
    "start_time": "2024-10-09T14:47:58.439Z"
   },
   {
    "duration": 0,
    "start_time": "2024-10-09T14:47:58.440Z"
   },
   {
    "duration": 0,
    "start_time": "2024-10-09T14:47:58.440Z"
   },
   {
    "duration": 0,
    "start_time": "2024-10-09T14:47:58.441Z"
   },
   {
    "duration": 0,
    "start_time": "2024-10-09T14:47:58.443Z"
   },
   {
    "duration": 0,
    "start_time": "2024-10-09T14:47:58.444Z"
   },
   {
    "duration": 0,
    "start_time": "2024-10-09T14:47:58.445Z"
   },
   {
    "duration": 0,
    "start_time": "2024-10-09T14:47:58.446Z"
   },
   {
    "duration": 0,
    "start_time": "2024-10-09T14:47:58.447Z"
   },
   {
    "duration": 0,
    "start_time": "2024-10-09T14:47:58.448Z"
   },
   {
    "duration": 0,
    "start_time": "2024-10-09T14:47:58.449Z"
   },
   {
    "duration": 0,
    "start_time": "2024-10-09T14:47:58.450Z"
   },
   {
    "duration": 0,
    "start_time": "2024-10-09T14:47:58.451Z"
   },
   {
    "duration": 19,
    "start_time": "2024-10-09T14:48:51.681Z"
   },
   {
    "duration": 1088,
    "start_time": "2024-10-09T14:50:17.381Z"
   },
   {
    "duration": 1045,
    "start_time": "2024-10-09T14:50:50.080Z"
   },
   {
    "duration": 11,
    "start_time": "2024-10-09T14:51:32.295Z"
   },
   {
    "duration": 4,
    "start_time": "2024-10-09T14:51:45.611Z"
   },
   {
    "duration": 84,
    "start_time": "2024-10-09T14:51:45.616Z"
   },
   {
    "duration": 15,
    "start_time": "2024-10-09T14:51:45.701Z"
   },
   {
    "duration": 17,
    "start_time": "2024-10-09T14:51:45.718Z"
   },
   {
    "duration": 12,
    "start_time": "2024-10-09T14:51:45.736Z"
   },
   {
    "duration": 11,
    "start_time": "2024-10-09T14:51:45.750Z"
   },
   {
    "duration": 6,
    "start_time": "2024-10-09T14:51:45.762Z"
   },
   {
    "duration": 5,
    "start_time": "2024-10-09T14:51:45.769Z"
   },
   {
    "duration": 24,
    "start_time": "2024-10-09T14:51:45.775Z"
   },
   {
    "duration": 7,
    "start_time": "2024-10-09T14:51:45.801Z"
   },
   {
    "duration": 12,
    "start_time": "2024-10-09T14:51:45.809Z"
   },
   {
    "duration": 15,
    "start_time": "2024-10-09T14:51:45.823Z"
   },
   {
    "duration": 8,
    "start_time": "2024-10-09T14:51:45.839Z"
   },
   {
    "duration": 14,
    "start_time": "2024-10-09T14:51:45.848Z"
   },
   {
    "duration": 329,
    "start_time": "2024-10-09T14:51:45.864Z"
   },
   {
    "duration": 9,
    "start_time": "2024-10-09T14:51:46.194Z"
   },
   {
    "duration": 17,
    "start_time": "2024-10-09T14:51:46.204Z"
   },
   {
    "duration": 17,
    "start_time": "2024-10-09T14:51:46.222Z"
   },
   {
    "duration": 19,
    "start_time": "2024-10-09T14:51:46.240Z"
   },
   {
    "duration": 25,
    "start_time": "2024-10-09T14:51:46.260Z"
   },
   {
    "duration": 19,
    "start_time": "2024-10-09T14:51:46.286Z"
   },
   {
    "duration": 8,
    "start_time": "2024-10-09T14:51:46.307Z"
   },
   {
    "duration": 12,
    "start_time": "2024-10-09T14:51:46.337Z"
   },
   {
    "duration": 583,
    "start_time": "2024-10-09T14:51:46.351Z"
   },
   {
    "duration": 14,
    "start_time": "2024-10-09T14:51:46.937Z"
   },
   {
    "duration": 3,
    "start_time": "2024-10-09T14:51:46.952Z"
   },
   {
    "duration": 26,
    "start_time": "2024-10-09T14:51:46.957Z"
   },
   {
    "duration": 8,
    "start_time": "2024-10-09T14:51:46.988Z"
   },
   {
    "duration": 30,
    "start_time": "2024-10-09T14:51:46.998Z"
   },
   {
    "duration": 10,
    "start_time": "2024-10-09T14:51:47.030Z"
   },
   {
    "duration": 11,
    "start_time": "2024-10-09T14:51:47.042Z"
   },
   {
    "duration": 0,
    "start_time": "2024-10-09T14:51:47.054Z"
   },
   {
    "duration": 0,
    "start_time": "2024-10-09T14:51:47.055Z"
   },
   {
    "duration": 0,
    "start_time": "2024-10-09T14:51:47.056Z"
   },
   {
    "duration": 0,
    "start_time": "2024-10-09T14:51:47.058Z"
   },
   {
    "duration": 0,
    "start_time": "2024-10-09T14:51:47.059Z"
   },
   {
    "duration": 0,
    "start_time": "2024-10-09T14:51:47.060Z"
   },
   {
    "duration": 0,
    "start_time": "2024-10-09T14:51:47.061Z"
   },
   {
    "duration": 0,
    "start_time": "2024-10-09T14:51:47.062Z"
   },
   {
    "duration": 0,
    "start_time": "2024-10-09T14:51:47.063Z"
   },
   {
    "duration": 0,
    "start_time": "2024-10-09T14:51:47.065Z"
   },
   {
    "duration": 0,
    "start_time": "2024-10-09T14:51:47.066Z"
   },
   {
    "duration": 0,
    "start_time": "2024-10-09T14:51:47.067Z"
   },
   {
    "duration": 0,
    "start_time": "2024-10-09T14:51:47.068Z"
   },
   {
    "duration": 0,
    "start_time": "2024-10-09T14:51:47.069Z"
   },
   {
    "duration": 0,
    "start_time": "2024-10-09T14:51:47.070Z"
   },
   {
    "duration": 0,
    "start_time": "2024-10-09T14:51:47.071Z"
   },
   {
    "duration": 0,
    "start_time": "2024-10-09T14:51:47.073Z"
   },
   {
    "duration": 0,
    "start_time": "2024-10-09T14:51:47.074Z"
   },
   {
    "duration": 0,
    "start_time": "2024-10-09T14:51:47.075Z"
   },
   {
    "duration": 0,
    "start_time": "2024-10-09T14:51:47.076Z"
   },
   {
    "duration": 0,
    "start_time": "2024-10-09T14:51:47.077Z"
   },
   {
    "duration": 0,
    "start_time": "2024-10-09T14:51:47.078Z"
   },
   {
    "duration": 0,
    "start_time": "2024-10-09T14:51:47.080Z"
   },
   {
    "duration": 0,
    "start_time": "2024-10-09T14:51:47.081Z"
   },
   {
    "duration": 0,
    "start_time": "2024-10-09T14:51:47.138Z"
   },
   {
    "duration": 0,
    "start_time": "2024-10-09T14:51:47.139Z"
   },
   {
    "duration": 0,
    "start_time": "2024-10-09T14:51:47.140Z"
   },
   {
    "duration": 0,
    "start_time": "2024-10-09T14:51:47.142Z"
   },
   {
    "duration": 0,
    "start_time": "2024-10-09T14:51:47.143Z"
   },
   {
    "duration": 0,
    "start_time": "2024-10-09T14:51:47.144Z"
   },
   {
    "duration": 0,
    "start_time": "2024-10-09T14:51:47.144Z"
   },
   {
    "duration": 0,
    "start_time": "2024-10-09T14:51:47.145Z"
   },
   {
    "duration": 0,
    "start_time": "2024-10-09T14:51:47.146Z"
   },
   {
    "duration": 0,
    "start_time": "2024-10-09T14:51:47.147Z"
   },
   {
    "duration": 0,
    "start_time": "2024-10-09T14:51:47.148Z"
   },
   {
    "duration": 0,
    "start_time": "2024-10-09T14:51:47.149Z"
   },
   {
    "duration": 0,
    "start_time": "2024-10-09T14:51:47.150Z"
   },
   {
    "duration": 0,
    "start_time": "2024-10-09T14:51:47.151Z"
   },
   {
    "duration": 0,
    "start_time": "2024-10-09T14:51:47.152Z"
   },
   {
    "duration": 0,
    "start_time": "2024-10-09T14:51:47.153Z"
   },
   {
    "duration": 0,
    "start_time": "2024-10-09T14:51:47.154Z"
   },
   {
    "duration": 0,
    "start_time": "2024-10-09T14:51:47.155Z"
   },
   {
    "duration": 0,
    "start_time": "2024-10-09T14:51:47.156Z"
   },
   {
    "duration": 11,
    "start_time": "2024-10-09T14:52:46.045Z"
   },
   {
    "duration": 22,
    "start_time": "2024-10-09T14:54:03.987Z"
   },
   {
    "duration": 70,
    "start_time": "2024-10-09T14:55:10.066Z"
   },
   {
    "duration": 11,
    "start_time": "2024-10-09T14:55:32.037Z"
   },
   {
    "duration": 17,
    "start_time": "2024-10-09T14:56:38.345Z"
   },
   {
    "duration": 478,
    "start_time": "2024-10-09T14:56:47.713Z"
   },
   {
    "duration": 560,
    "start_time": "2024-10-09T14:58:11.599Z"
   },
   {
    "duration": 41,
    "start_time": "2024-10-10T08:59:17.747Z"
   },
   {
    "duration": 1135,
    "start_time": "2024-10-10T08:59:20.789Z"
   },
   {
    "duration": 190,
    "start_time": "2024-10-10T08:59:21.926Z"
   },
   {
    "duration": 13,
    "start_time": "2024-10-10T08:59:22.118Z"
   },
   {
    "duration": 16,
    "start_time": "2024-10-10T08:59:22.133Z"
   },
   {
    "duration": 25,
    "start_time": "2024-10-10T08:59:22.150Z"
   },
   {
    "duration": 7,
    "start_time": "2024-10-10T08:59:22.176Z"
   },
   {
    "duration": 4,
    "start_time": "2024-10-10T08:59:22.184Z"
   },
   {
    "duration": 4,
    "start_time": "2024-10-10T08:59:22.189Z"
   },
   {
    "duration": 20,
    "start_time": "2024-10-10T08:59:22.194Z"
   },
   {
    "duration": 8,
    "start_time": "2024-10-10T08:59:22.216Z"
   },
   {
    "duration": 5,
    "start_time": "2024-10-10T08:59:22.225Z"
   },
   {
    "duration": 5,
    "start_time": "2024-10-10T08:59:22.231Z"
   },
   {
    "duration": 7,
    "start_time": "2024-10-10T08:59:22.237Z"
   },
   {
    "duration": 13,
    "start_time": "2024-10-10T08:59:22.245Z"
   },
   {
    "duration": 350,
    "start_time": "2024-10-10T08:59:22.259Z"
   },
   {
    "duration": 7,
    "start_time": "2024-10-10T08:59:22.610Z"
   },
   {
    "duration": 16,
    "start_time": "2024-10-10T08:59:22.618Z"
   },
   {
    "duration": 3,
    "start_time": "2024-10-10T08:59:22.635Z"
   },
   {
    "duration": 22,
    "start_time": "2024-10-10T08:59:22.639Z"
   },
   {
    "duration": 11,
    "start_time": "2024-10-10T08:59:22.662Z"
   },
   {
    "duration": 15,
    "start_time": "2024-10-10T08:59:22.675Z"
   },
   {
    "duration": 6,
    "start_time": "2024-10-10T08:59:22.691Z"
   },
   {
    "duration": 9,
    "start_time": "2024-10-10T08:59:22.698Z"
   },
   {
    "duration": 467,
    "start_time": "2024-10-10T08:59:22.708Z"
   },
   {
    "duration": 11,
    "start_time": "2024-10-10T08:59:23.176Z"
   },
   {
    "duration": 3,
    "start_time": "2024-10-10T08:59:23.188Z"
   },
   {
    "duration": 5,
    "start_time": "2024-10-10T08:59:23.192Z"
   },
   {
    "duration": 17,
    "start_time": "2024-10-10T08:59:23.200Z"
   },
   {
    "duration": 13,
    "start_time": "2024-10-10T08:59:23.218Z"
   },
   {
    "duration": 573,
    "start_time": "2024-10-10T08:59:23.258Z"
   },
   {
    "duration": 26,
    "start_time": "2024-10-10T08:59:23.832Z"
   },
   {
    "duration": 9,
    "start_time": "2024-10-10T08:59:23.859Z"
   },
   {
    "duration": 13,
    "start_time": "2024-10-10T08:59:23.870Z"
   },
   {
    "duration": 438,
    "start_time": "2024-10-10T08:59:23.885Z"
   },
   {
    "duration": 507,
    "start_time": "2024-10-10T08:59:24.325Z"
   },
   {
    "duration": 30,
    "start_time": "2024-10-10T08:59:24.833Z"
   },
   {
    "duration": 158,
    "start_time": "2024-10-10T08:59:24.865Z"
   },
   {
    "duration": 3,
    "start_time": "2024-10-10T08:59:25.025Z"
   },
   {
    "duration": 218,
    "start_time": "2024-10-10T08:59:25.029Z"
   },
   {
    "duration": 3,
    "start_time": "2024-10-10T08:59:25.249Z"
   },
   {
    "duration": 5,
    "start_time": "2024-10-10T08:59:25.253Z"
   },
   {
    "duration": 140,
    "start_time": "2024-10-10T08:59:25.260Z"
   },
   {
    "duration": 3,
    "start_time": "2024-10-10T08:59:25.401Z"
   },
   {
    "duration": 176,
    "start_time": "2024-10-10T08:59:25.405Z"
   },
   {
    "duration": 3,
    "start_time": "2024-10-10T08:59:25.582Z"
   },
   {
    "duration": 3,
    "start_time": "2024-10-10T08:59:25.587Z"
   },
   {
    "duration": 156,
    "start_time": "2024-10-10T08:59:25.591Z"
   },
   {
    "duration": 9,
    "start_time": "2024-10-10T08:59:25.748Z"
   },
   {
    "duration": 152,
    "start_time": "2024-10-10T08:59:25.759Z"
   },
   {
    "duration": 4,
    "start_time": "2024-10-10T08:59:25.912Z"
   },
   {
    "duration": 5,
    "start_time": "2024-10-10T08:59:25.917Z"
   },
   {
    "duration": 163,
    "start_time": "2024-10-10T08:59:25.923Z"
   },
   {
    "duration": 3,
    "start_time": "2024-10-10T08:59:26.088Z"
   },
   {
    "duration": 168,
    "start_time": "2024-10-10T08:59:26.093Z"
   },
   {
    "duration": 3,
    "start_time": "2024-10-10T08:59:26.263Z"
   },
   {
    "duration": 18,
    "start_time": "2024-10-10T08:59:26.267Z"
   },
   {
    "duration": 486,
    "start_time": "2024-10-10T08:59:26.286Z"
   },
   {
    "duration": 12,
    "start_time": "2024-10-10T08:59:26.774Z"
   },
   {
    "duration": 8,
    "start_time": "2024-10-10T08:59:26.787Z"
   },
   {
    "duration": 62,
    "start_time": "2024-10-10T08:59:26.796Z"
   },
   {
    "duration": 12,
    "start_time": "2024-10-10T08:59:26.859Z"
   },
   {
    "duration": 9,
    "start_time": "2024-10-10T08:59:26.873Z"
   },
   {
    "duration": 6,
    "start_time": "2024-10-10T08:59:26.883Z"
   },
   {
    "duration": 8,
    "start_time": "2024-10-10T08:59:26.891Z"
   },
   {
    "duration": 60,
    "start_time": "2024-10-10T08:59:26.900Z"
   },
   {
    "duration": 120,
    "start_time": "2024-10-10T08:59:26.961Z"
   },
   {
    "duration": 76,
    "start_time": "2024-10-10T08:59:27.082Z"
   },
   {
    "duration": 432,
    "start_time": "2024-10-10T08:59:27.160Z"
   },
   {
    "duration": 6,
    "start_time": "2024-10-10T08:59:27.594Z"
   },
   {
    "duration": 59,
    "start_time": "2024-10-10T08:59:27.601Z"
   },
   {
    "duration": 10,
    "start_time": "2024-10-10T08:59:27.661Z"
   },
   {
    "duration": 8,
    "start_time": "2024-10-10T08:59:27.672Z"
   },
   {
    "duration": 475,
    "start_time": "2024-10-10T09:00:11.923Z"
   },
   {
    "duration": 470,
    "start_time": "2024-10-10T09:00:25.439Z"
   },
   {
    "duration": 466,
    "start_time": "2024-10-10T09:00:32.945Z"
   },
   {
    "duration": 463,
    "start_time": "2024-10-10T09:00:41.364Z"
   },
   {
    "duration": 521,
    "start_time": "2024-10-10T09:00:48.042Z"
   },
   {
    "duration": 363,
    "start_time": "2024-10-10T09:04:24.026Z"
   },
   {
    "duration": 440,
    "start_time": "2024-10-10T09:04:46.904Z"
   },
   {
    "duration": 473,
    "start_time": "2024-10-10T09:04:56.051Z"
   },
   {
    "duration": 450,
    "start_time": "2024-10-10T09:05:03.409Z"
   },
   {
    "duration": 449,
    "start_time": "2024-10-10T09:05:13.890Z"
   },
   {
    "duration": 493,
    "start_time": "2024-10-10T09:06:17.427Z"
   },
   {
    "duration": 447,
    "start_time": "2024-10-10T09:06:27.827Z"
   },
   {
    "duration": 427,
    "start_time": "2024-10-10T09:06:34.481Z"
   },
   {
    "duration": 476,
    "start_time": "2024-10-10T09:07:37.797Z"
   },
   {
    "duration": 91,
    "start_time": "2024-10-10T09:09:07.821Z"
   },
   {
    "duration": 8,
    "start_time": "2024-10-10T09:09:25.823Z"
   },
   {
    "duration": 390,
    "start_time": "2024-10-10T09:09:30.927Z"
   },
   {
    "duration": 87,
    "start_time": "2024-10-10T09:10:51.122Z"
   },
   {
    "duration": 1159,
    "start_time": "2024-10-10T09:10:56.403Z"
   },
   {
    "duration": 468,
    "start_time": "2024-10-10T09:11:26.066Z"
   },
   {
    "duration": 448,
    "start_time": "2024-10-10T09:12:47.362Z"
   },
   {
    "duration": 496,
    "start_time": "2024-10-10T09:13:00.035Z"
   },
   {
    "duration": 470,
    "start_time": "2024-10-10T09:13:30.727Z"
   },
   {
    "duration": 511,
    "start_time": "2024-10-10T09:13:38.536Z"
   },
   {
    "duration": 437,
    "start_time": "2024-10-10T09:13:48.572Z"
   },
   {
    "duration": 424,
    "start_time": "2024-10-10T09:13:57.084Z"
   },
   {
    "duration": 449,
    "start_time": "2024-10-10T09:14:07.461Z"
   },
   {
    "duration": 381,
    "start_time": "2024-10-10T09:15:26.959Z"
   },
   {
    "duration": 445,
    "start_time": "2024-10-10T09:15:45.555Z"
   },
   {
    "duration": 427,
    "start_time": "2024-10-10T09:17:32.108Z"
   },
   {
    "duration": 444,
    "start_time": "2024-10-10T09:17:57.354Z"
   },
   {
    "duration": 446,
    "start_time": "2024-10-10T09:18:36.447Z"
   },
   {
    "duration": 460,
    "start_time": "2024-10-10T09:18:52.752Z"
   },
   {
    "duration": 269,
    "start_time": "2024-10-10T09:19:06.726Z"
   },
   {
    "duration": 493,
    "start_time": "2024-10-10T09:19:20.838Z"
   },
   {
    "duration": 449,
    "start_time": "2024-10-10T09:19:33.883Z"
   },
   {
    "duration": 441,
    "start_time": "2024-10-10T09:19:53.883Z"
   },
   {
    "duration": 453,
    "start_time": "2024-10-10T09:20:11.777Z"
   },
   {
    "duration": 423,
    "start_time": "2024-10-10T09:20:21.223Z"
   },
   {
    "duration": 477,
    "start_time": "2024-10-10T09:20:33.156Z"
   },
   {
    "duration": 490,
    "start_time": "2024-10-10T09:20:54.567Z"
   },
   {
    "duration": 475,
    "start_time": "2024-10-10T09:21:15.235Z"
   },
   {
    "duration": 447,
    "start_time": "2024-10-10T09:22:02.610Z"
   },
   {
    "duration": 462,
    "start_time": "2024-10-10T09:22:17.387Z"
   },
   {
    "duration": 482,
    "start_time": "2024-10-10T09:22:32.277Z"
   },
   {
    "duration": 520,
    "start_time": "2024-10-10T09:22:41.751Z"
   },
   {
    "duration": 501,
    "start_time": "2024-10-10T09:23:00.234Z"
   },
   {
    "duration": 291,
    "start_time": "2024-10-10T09:23:17.207Z"
   },
   {
    "duration": 496,
    "start_time": "2024-10-10T09:23:26.370Z"
   },
   {
    "duration": 490,
    "start_time": "2024-10-10T09:26:04.532Z"
   },
   {
    "duration": 67,
    "start_time": "2024-10-10T09:27:47.804Z"
   },
   {
    "duration": 526,
    "start_time": "2024-10-10T09:29:32.062Z"
   },
   {
    "duration": 2819,
    "start_time": "2024-10-10T09:29:54.912Z"
   },
   {
    "duration": 500,
    "start_time": "2024-10-10T10:43:29.136Z"
   },
   {
    "duration": 484,
    "start_time": "2024-10-10T10:43:37.910Z"
   },
   {
    "duration": 30,
    "start_time": "2024-10-10T10:57:32.529Z"
   },
   {
    "duration": 156,
    "start_time": "2024-10-10T10:57:40.679Z"
   },
   {
    "duration": 3,
    "start_time": "2024-10-10T10:57:46.671Z"
   },
   {
    "duration": 159,
    "start_time": "2024-10-10T10:57:51.463Z"
   },
   {
    "duration": 4,
    "start_time": "2024-10-10T10:57:57.505Z"
   },
   {
    "duration": 3,
    "start_time": "2024-10-10T10:58:30.137Z"
   },
   {
    "duration": 138,
    "start_time": "2024-10-10T10:58:31.846Z"
   },
   {
    "duration": 168,
    "start_time": "2024-10-10T10:58:38.164Z"
   },
   {
    "duration": 3,
    "start_time": "2024-10-10T10:58:40.842Z"
   },
   {
    "duration": 3,
    "start_time": "2024-10-10T10:59:51.354Z"
   },
   {
    "duration": 164,
    "start_time": "2024-10-10T10:59:52.966Z"
   },
   {
    "duration": 3,
    "start_time": "2024-10-10T11:00:10.541Z"
   },
   {
    "duration": 153,
    "start_time": "2024-10-10T11:00:11.761Z"
   },
   {
    "duration": 3,
    "start_time": "2024-10-10T11:00:16.829Z"
   },
   {
    "duration": 4,
    "start_time": "2024-10-10T11:00:26.129Z"
   },
   {
    "duration": 153,
    "start_time": "2024-10-10T11:00:34.107Z"
   },
   {
    "duration": 3,
    "start_time": "2024-10-10T11:00:40.265Z"
   },
   {
    "duration": 149,
    "start_time": "2024-10-10T11:00:53.819Z"
   },
   {
    "duration": 3,
    "start_time": "2024-10-10T11:00:57.678Z"
   },
   {
    "duration": 166,
    "start_time": "2024-10-10T11:01:00.118Z"
   },
   {
    "duration": 4,
    "start_time": "2024-10-10T11:01:10.106Z"
   },
   {
    "duration": 70,
    "start_time": "2024-10-10T11:02:12.703Z"
   },
   {
    "duration": 4,
    "start_time": "2024-10-10T11:06:20.648Z"
   },
   {
    "duration": 166,
    "start_time": "2024-10-10T11:06:22.651Z"
   },
   {
    "duration": 3,
    "start_time": "2024-10-10T11:06:26.865Z"
   },
   {
    "duration": 163,
    "start_time": "2024-10-10T11:06:30.510Z"
   },
   {
    "duration": 4,
    "start_time": "2024-10-10T11:06:39.156Z"
   },
   {
    "duration": 66,
    "start_time": "2024-10-10T11:15:29.106Z"
   },
   {
    "duration": 75,
    "start_time": "2024-10-10T11:18:19.573Z"
   },
   {
    "duration": 674,
    "start_time": "2024-10-10T11:22:38.574Z"
   },
   {
    "duration": 408,
    "start_time": "2024-10-10T11:25:36.632Z"
   },
   {
    "duration": 378,
    "start_time": "2024-10-10T11:26:40.332Z"
   },
   {
    "duration": 568,
    "start_time": "2024-10-10T11:27:38.156Z"
   },
   {
    "duration": 17,
    "start_time": "2024-10-10T11:30:44.647Z"
   },
   {
    "duration": 11,
    "start_time": "2024-10-10T11:42:38.223Z"
   },
   {
    "duration": 8,
    "start_time": "2024-10-10T11:42:43.419Z"
   },
   {
    "duration": 8,
    "start_time": "2024-10-10T11:42:52.127Z"
   },
   {
    "duration": 9,
    "start_time": "2024-10-10T11:42:55.157Z"
   },
   {
    "duration": 10,
    "start_time": "2024-10-10T11:42:59.223Z"
   },
   {
    "duration": 6,
    "start_time": "2024-10-10T11:51:03.825Z"
   },
   {
    "duration": 8,
    "start_time": "2024-10-10T11:51:04.843Z"
   },
   {
    "duration": 9,
    "start_time": "2024-10-10T11:51:06.045Z"
   },
   {
    "duration": 12,
    "start_time": "2024-10-10T11:51:25.042Z"
   },
   {
    "duration": 88,
    "start_time": "2024-10-10T11:55:41.976Z"
   },
   {
    "duration": 4,
    "start_time": "2024-10-10T12:20:34.348Z"
   },
   {
    "duration": 4,
    "start_time": "2024-10-10T12:21:15.512Z"
   },
   {
    "duration": 60,
    "start_time": "2024-10-10T12:21:54.410Z"
   },
   {
    "duration": 4,
    "start_time": "2024-10-10T12:23:31.511Z"
   },
   {
    "duration": 4,
    "start_time": "2024-10-10T12:23:35.545Z"
   },
   {
    "duration": 5,
    "start_time": "2024-10-10T12:23:40.582Z"
   },
   {
    "duration": 72,
    "start_time": "2024-10-10T12:24:05.025Z"
   },
   {
    "duration": 4,
    "start_time": "2024-10-10T12:24:59.722Z"
   },
   {
    "duration": 4,
    "start_time": "2024-10-10T12:25:25.793Z"
   },
   {
    "duration": 5,
    "start_time": "2024-10-10T12:26:22.116Z"
   },
   {
    "duration": 4,
    "start_time": "2024-10-10T12:26:26.416Z"
   },
   {
    "duration": 3,
    "start_time": "2024-10-10T12:28:38.575Z"
   },
   {
    "duration": 4,
    "start_time": "2024-10-10T12:28:54.998Z"
   },
   {
    "duration": 3,
    "start_time": "2024-10-10T12:31:37.019Z"
   },
   {
    "duration": 25,
    "start_time": "2024-10-10T12:55:35.695Z"
   },
   {
    "duration": 2,
    "start_time": "2024-10-10T12:56:21.676Z"
   },
   {
    "duration": 4,
    "start_time": "2024-10-10T13:01:24.171Z"
   },
   {
    "duration": 4,
    "start_time": "2024-10-10T13:01:32.468Z"
   },
   {
    "duration": 4,
    "start_time": "2024-10-10T13:02:08.490Z"
   },
   {
    "duration": 4,
    "start_time": "2024-10-10T13:02:34.231Z"
   },
   {
    "duration": 2,
    "start_time": "2024-10-10T13:02:55.471Z"
   },
   {
    "duration": 3,
    "start_time": "2024-10-10T13:02:59.514Z"
   },
   {
    "duration": 4,
    "start_time": "2024-10-10T13:03:13.542Z"
   },
   {
    "duration": 64,
    "start_time": "2024-10-10T13:03:46.910Z"
   },
   {
    "duration": 234,
    "start_time": "2024-10-10T13:05:30.549Z"
   },
   {
    "duration": 3,
    "start_time": "2024-10-10T13:05:37.749Z"
   },
   {
    "duration": 54,
    "start_time": "2024-10-10T13:05:37.753Z"
   },
   {
    "duration": 10,
    "start_time": "2024-10-10T13:05:37.809Z"
   },
   {
    "duration": 58,
    "start_time": "2024-10-10T13:05:37.821Z"
   },
   {
    "duration": 14,
    "start_time": "2024-10-10T13:05:37.880Z"
   },
   {
    "duration": 18,
    "start_time": "2024-10-10T13:05:37.896Z"
   },
   {
    "duration": 98,
    "start_time": "2024-10-10T13:05:37.916Z"
   },
   {
    "duration": 14,
    "start_time": "2024-10-10T13:05:38.015Z"
   },
   {
    "duration": 26,
    "start_time": "2024-10-10T13:05:38.031Z"
   },
   {
    "duration": 12,
    "start_time": "2024-10-10T13:05:38.058Z"
   },
   {
    "duration": 8,
    "start_time": "2024-10-10T13:05:38.072Z"
   },
   {
    "duration": 27,
    "start_time": "2024-10-10T13:05:38.081Z"
   },
   {
    "duration": 23,
    "start_time": "2024-10-10T13:05:38.110Z"
   },
   {
    "duration": 34,
    "start_time": "2024-10-10T13:05:38.135Z"
   },
   {
    "duration": 250,
    "start_time": "2024-10-10T13:05:38.170Z"
   },
   {
    "duration": 42,
    "start_time": "2024-10-10T13:05:38.422Z"
   },
   {
    "duration": 14,
    "start_time": "2024-10-10T13:05:38.466Z"
   },
   {
    "duration": 24,
    "start_time": "2024-10-10T13:05:38.481Z"
   },
   {
    "duration": 47,
    "start_time": "2024-10-10T13:05:38.507Z"
   },
   {
    "duration": 12,
    "start_time": "2024-10-10T13:05:38.555Z"
   },
   {
    "duration": 15,
    "start_time": "2024-10-10T13:05:38.569Z"
   },
   {
    "duration": 9,
    "start_time": "2024-10-10T13:05:38.586Z"
   },
   {
    "duration": 29,
    "start_time": "2024-10-10T13:05:38.596Z"
   },
   {
    "duration": 466,
    "start_time": "2024-10-10T13:05:38.628Z"
   },
   {
    "duration": 10,
    "start_time": "2024-10-10T13:05:39.096Z"
   },
   {
    "duration": 17,
    "start_time": "2024-10-10T13:05:39.107Z"
   },
   {
    "duration": 20,
    "start_time": "2024-10-10T13:05:39.125Z"
   },
   {
    "duration": 16,
    "start_time": "2024-10-10T13:05:39.146Z"
   },
   {
    "duration": 11,
    "start_time": "2024-10-10T13:05:39.163Z"
   },
   {
    "duration": 743,
    "start_time": "2024-10-10T13:05:39.175Z"
   },
   {
    "duration": 19,
    "start_time": "2024-10-10T13:05:39.920Z"
   },
   {
    "duration": 62,
    "start_time": "2024-10-10T13:05:39.940Z"
   },
   {
    "duration": 16,
    "start_time": "2024-10-10T13:05:40.003Z"
   },
   {
    "duration": 459,
    "start_time": "2024-10-10T13:05:40.021Z"
   },
   {
    "duration": 817,
    "start_time": "2024-10-10T13:05:40.482Z"
   },
   {
    "duration": 76,
    "start_time": "2024-10-10T13:05:41.300Z"
   },
   {
    "duration": 264,
    "start_time": "2024-10-10T13:05:41.378Z"
   },
   {
    "duration": 4,
    "start_time": "2024-10-10T13:05:41.643Z"
   },
   {
    "duration": 196,
    "start_time": "2024-10-10T13:05:41.658Z"
   },
   {
    "duration": 4,
    "start_time": "2024-10-10T13:05:41.855Z"
   },
   {
    "duration": 11,
    "start_time": "2024-10-10T13:05:41.860Z"
   },
   {
    "duration": 171,
    "start_time": "2024-10-10T13:05:41.872Z"
   },
   {
    "duration": 4,
    "start_time": "2024-10-10T13:05:42.044Z"
   },
   {
    "duration": 162,
    "start_time": "2024-10-10T13:05:42.049Z"
   },
   {
    "duration": 3,
    "start_time": "2024-10-10T13:05:42.213Z"
   },
   {
    "duration": 15,
    "start_time": "2024-10-10T13:05:42.217Z"
   },
   {
    "duration": 221,
    "start_time": "2024-10-10T13:05:42.233Z"
   },
   {
    "duration": 3,
    "start_time": "2024-10-10T13:05:42.457Z"
   },
   {
    "duration": 153,
    "start_time": "2024-10-10T13:05:42.461Z"
   },
   {
    "duration": 4,
    "start_time": "2024-10-10T13:05:42.615Z"
   },
   {
    "duration": 12,
    "start_time": "2024-10-10T13:05:42.620Z"
   },
   {
    "duration": 159,
    "start_time": "2024-10-10T13:05:42.633Z"
   },
   {
    "duration": 3,
    "start_time": "2024-10-10T13:05:42.793Z"
   },
   {
    "duration": 175,
    "start_time": "2024-10-10T13:05:42.798Z"
   },
   {
    "duration": 4,
    "start_time": "2024-10-10T13:05:42.974Z"
   },
   {
    "duration": 33,
    "start_time": "2024-10-10T13:05:42.979Z"
   },
   {
    "duration": 496,
    "start_time": "2024-10-10T13:05:43.013Z"
   },
   {
    "duration": 12,
    "start_time": "2024-10-10T13:05:43.510Z"
   },
   {
    "duration": 16,
    "start_time": "2024-10-10T13:05:43.523Z"
   },
   {
    "duration": 13,
    "start_time": "2024-10-10T13:05:43.540Z"
   },
   {
    "duration": 8,
    "start_time": "2024-10-10T13:05:43.557Z"
   },
   {
    "duration": 11,
    "start_time": "2024-10-10T13:05:43.566Z"
   },
   {
    "duration": 8,
    "start_time": "2024-10-10T13:05:43.578Z"
   },
   {
    "duration": 8,
    "start_time": "2024-10-10T13:05:43.587Z"
   },
   {
    "duration": 8,
    "start_time": "2024-10-10T13:05:43.597Z"
   },
   {
    "duration": 8,
    "start_time": "2024-10-10T13:05:43.607Z"
   },
   {
    "duration": 41,
    "start_time": "2024-10-10T13:05:43.616Z"
   },
   {
    "duration": 236,
    "start_time": "2024-10-10T13:05:43.659Z"
   },
   {
    "duration": 7,
    "start_time": "2024-10-10T13:05:43.900Z"
   },
   {
    "duration": 10,
    "start_time": "2024-10-10T13:05:43.908Z"
   },
   {
    "duration": 7,
    "start_time": "2024-10-10T13:05:43.920Z"
   },
   {
    "duration": 87,
    "start_time": "2024-10-10T13:05:43.928Z"
   },
   {
    "duration": 4,
    "start_time": "2024-10-10T13:05:44.017Z"
   },
   {
    "duration": 5,
    "start_time": "2024-10-10T13:05:44.022Z"
   },
   {
    "duration": 44,
    "start_time": "2024-10-10T13:06:10.334Z"
   },
   {
    "duration": 11,
    "start_time": "2024-10-10T13:07:09.089Z"
   },
   {
    "duration": 3,
    "start_time": "2024-10-10T13:07:48.080Z"
   },
   {
    "duration": 54,
    "start_time": "2024-10-10T13:07:48.085Z"
   },
   {
    "duration": 11,
    "start_time": "2024-10-10T13:07:48.140Z"
   },
   {
    "duration": 40,
    "start_time": "2024-10-10T13:07:48.152Z"
   },
   {
    "duration": 5,
    "start_time": "2024-10-10T13:07:48.194Z"
   },
   {
    "duration": 9,
    "start_time": "2024-10-10T13:07:48.200Z"
   },
   {
    "duration": 11,
    "start_time": "2024-10-10T13:07:48.210Z"
   },
   {
    "duration": 4,
    "start_time": "2024-10-10T13:07:48.222Z"
   },
   {
    "duration": 17,
    "start_time": "2024-10-10T13:07:48.227Z"
   },
   {
    "duration": 6,
    "start_time": "2024-10-10T13:07:48.245Z"
   },
   {
    "duration": 4,
    "start_time": "2024-10-10T13:07:48.253Z"
   },
   {
    "duration": 4,
    "start_time": "2024-10-10T13:07:48.258Z"
   },
   {
    "duration": 6,
    "start_time": "2024-10-10T13:07:48.263Z"
   },
   {
    "duration": 7,
    "start_time": "2024-10-10T13:07:48.270Z"
   },
   {
    "duration": 281,
    "start_time": "2024-10-10T13:07:48.278Z"
   },
   {
    "duration": 11,
    "start_time": "2024-10-10T13:07:48.561Z"
   },
   {
    "duration": 9,
    "start_time": "2024-10-10T13:07:48.574Z"
   },
   {
    "duration": 11,
    "start_time": "2024-10-10T13:07:48.584Z"
   },
   {
    "duration": 4,
    "start_time": "2024-10-10T13:07:48.597Z"
   },
   {
    "duration": 19,
    "start_time": "2024-10-10T13:07:48.602Z"
   },
   {
    "duration": 30,
    "start_time": "2024-10-10T13:07:48.622Z"
   },
   {
    "duration": 18,
    "start_time": "2024-10-10T13:07:48.653Z"
   },
   {
    "duration": 7,
    "start_time": "2024-10-10T13:07:48.672Z"
   },
   {
    "duration": 10,
    "start_time": "2024-10-10T13:07:48.680Z"
   },
   {
    "duration": 493,
    "start_time": "2024-10-10T13:07:48.691Z"
   },
   {
    "duration": 11,
    "start_time": "2024-10-10T13:07:49.185Z"
   },
   {
    "duration": 72,
    "start_time": "2024-10-10T13:07:49.197Z"
   },
   {
    "duration": 10,
    "start_time": "2024-10-10T13:07:49.270Z"
   },
   {
    "duration": 17,
    "start_time": "2024-10-10T13:07:49.284Z"
   },
   {
    "duration": 11,
    "start_time": "2024-10-10T13:07:49.302Z"
   },
   {
    "duration": 878,
    "start_time": "2024-10-10T13:07:49.314Z"
   },
   {
    "duration": 70,
    "start_time": "2024-10-10T13:07:50.193Z"
   },
   {
    "duration": 9,
    "start_time": "2024-10-10T13:07:50.264Z"
   },
   {
    "duration": 38,
    "start_time": "2024-10-10T13:07:50.274Z"
   },
   {
    "duration": 608,
    "start_time": "2024-10-10T13:07:50.356Z"
   },
   {
    "duration": 505,
    "start_time": "2024-10-10T13:07:50.966Z"
   },
   {
    "duration": 25,
    "start_time": "2024-10-10T13:07:51.472Z"
   },
   {
    "duration": 215,
    "start_time": "2024-10-10T13:07:51.499Z"
   },
   {
    "duration": 4,
    "start_time": "2024-10-10T13:07:51.715Z"
   },
   {
    "duration": 187,
    "start_time": "2024-10-10T13:07:51.720Z"
   },
   {
    "duration": 4,
    "start_time": "2024-10-10T13:07:51.908Z"
   },
   {
    "duration": 24,
    "start_time": "2024-10-10T13:07:51.913Z"
   },
   {
    "duration": 222,
    "start_time": "2024-10-10T13:07:51.938Z"
   },
   {
    "duration": 4,
    "start_time": "2024-10-10T13:07:52.161Z"
   },
   {
    "duration": 227,
    "start_time": "2024-10-10T13:07:52.166Z"
   },
   {
    "duration": 3,
    "start_time": "2024-10-10T13:07:52.395Z"
   },
   {
    "duration": 19,
    "start_time": "2024-10-10T13:07:52.399Z"
   },
   {
    "duration": 152,
    "start_time": "2024-10-10T13:07:52.419Z"
   },
   {
    "duration": 3,
    "start_time": "2024-10-10T13:07:52.572Z"
   },
   {
    "duration": 159,
    "start_time": "2024-10-10T13:07:52.577Z"
   },
   {
    "duration": 4,
    "start_time": "2024-10-10T13:07:52.738Z"
   },
   {
    "duration": 15,
    "start_time": "2024-10-10T13:07:52.744Z"
   },
   {
    "duration": 158,
    "start_time": "2024-10-10T13:07:52.760Z"
   },
   {
    "duration": 4,
    "start_time": "2024-10-10T13:07:52.920Z"
   },
   {
    "duration": 171,
    "start_time": "2024-10-10T13:07:52.925Z"
   },
   {
    "duration": 3,
    "start_time": "2024-10-10T13:07:53.098Z"
   },
   {
    "duration": 16,
    "start_time": "2024-10-10T13:07:53.103Z"
   },
   {
    "duration": 528,
    "start_time": "2024-10-10T13:07:53.120Z"
   },
   {
    "duration": 15,
    "start_time": "2024-10-10T13:07:53.649Z"
   },
   {
    "duration": 17,
    "start_time": "2024-10-10T13:07:53.665Z"
   },
   {
    "duration": 15,
    "start_time": "2024-10-10T13:07:53.684Z"
   },
   {
    "duration": 8,
    "start_time": "2024-10-10T13:07:53.701Z"
   },
   {
    "duration": 16,
    "start_time": "2024-10-10T13:07:53.710Z"
   },
   {
    "duration": 10,
    "start_time": "2024-10-10T13:07:53.728Z"
   },
   {
    "duration": 9,
    "start_time": "2024-10-10T13:07:53.740Z"
   },
   {
    "duration": 12,
    "start_time": "2024-10-10T13:07:53.750Z"
   },
   {
    "duration": 14,
    "start_time": "2024-10-10T13:07:53.763Z"
   },
   {
    "duration": 16,
    "start_time": "2024-10-10T13:07:53.778Z"
   },
   {
    "duration": 239,
    "start_time": "2024-10-10T13:07:53.795Z"
   },
   {
    "duration": 6,
    "start_time": "2024-10-10T13:07:54.036Z"
   },
   {
    "duration": 14,
    "start_time": "2024-10-10T13:07:54.043Z"
   },
   {
    "duration": 6,
    "start_time": "2024-10-10T13:07:54.058Z"
   },
   {
    "duration": 15,
    "start_time": "2024-10-10T13:07:54.065Z"
   },
   {
    "duration": 14,
    "start_time": "2024-10-10T13:07:54.081Z"
   },
   {
    "duration": 3,
    "start_time": "2024-10-10T13:07:54.096Z"
   },
   {
    "duration": 423,
    "start_time": "2024-10-10T13:10:05.934Z"
   },
   {
    "duration": 1149,
    "start_time": "2024-10-10T13:17:35.653Z"
   },
   {
    "duration": 4,
    "start_time": "2024-10-10T13:22:17.693Z"
   },
   {
    "duration": 694,
    "start_time": "2024-10-10T13:22:21.647Z"
   },
   {
    "duration": 3,
    "start_time": "2024-10-10T13:22:32.914Z"
   },
   {
    "duration": 544,
    "start_time": "2024-10-10T13:22:34.274Z"
   },
   {
    "duration": 3,
    "start_time": "2024-10-10T13:23:20.893Z"
   },
   {
    "duration": 577,
    "start_time": "2024-10-10T13:23:22.631Z"
   },
   {
    "duration": 2,
    "start_time": "2024-10-10T13:39:06.446Z"
   },
   {
    "duration": 52,
    "start_time": "2024-10-10T13:39:06.450Z"
   },
   {
    "duration": 12,
    "start_time": "2024-10-10T13:39:06.504Z"
   },
   {
    "duration": 23,
    "start_time": "2024-10-10T13:39:06.518Z"
   },
   {
    "duration": 3,
    "start_time": "2024-10-10T13:39:06.543Z"
   },
   {
    "duration": 4,
    "start_time": "2024-10-10T13:39:06.557Z"
   },
   {
    "duration": 8,
    "start_time": "2024-10-10T13:39:06.562Z"
   },
   {
    "duration": 4,
    "start_time": "2024-10-10T13:39:06.571Z"
   },
   {
    "duration": 53,
    "start_time": "2024-10-10T13:39:06.576Z"
   },
   {
    "duration": 34,
    "start_time": "2024-10-10T13:39:06.630Z"
   },
   {
    "duration": 6,
    "start_time": "2024-10-10T13:39:06.666Z"
   },
   {
    "duration": 15,
    "start_time": "2024-10-10T13:39:06.673Z"
   },
   {
    "duration": 42,
    "start_time": "2024-10-10T13:39:06.689Z"
   },
   {
    "duration": 9,
    "start_time": "2024-10-10T13:39:06.732Z"
   },
   {
    "duration": 252,
    "start_time": "2024-10-10T13:39:06.742Z"
   },
   {
    "duration": 7,
    "start_time": "2024-10-10T13:39:06.995Z"
   },
   {
    "duration": 30,
    "start_time": "2024-10-10T13:39:07.003Z"
   },
   {
    "duration": 4,
    "start_time": "2024-10-10T13:39:07.035Z"
   },
   {
    "duration": 22,
    "start_time": "2024-10-10T13:39:07.041Z"
   },
   {
    "duration": 13,
    "start_time": "2024-10-10T13:39:07.064Z"
   },
   {
    "duration": 17,
    "start_time": "2024-10-10T13:39:07.078Z"
   },
   {
    "duration": 20,
    "start_time": "2024-10-10T13:39:07.097Z"
   },
   {
    "duration": 15,
    "start_time": "2024-10-10T13:39:07.119Z"
   },
   {
    "duration": 508,
    "start_time": "2024-10-10T13:39:07.136Z"
   },
   {
    "duration": 17,
    "start_time": "2024-10-10T13:39:07.646Z"
   },
   {
    "duration": 19,
    "start_time": "2024-10-10T13:39:07.665Z"
   },
   {
    "duration": 6,
    "start_time": "2024-10-10T13:39:07.685Z"
   },
   {
    "duration": 17,
    "start_time": "2024-10-10T13:39:07.692Z"
   },
   {
    "duration": 11,
    "start_time": "2024-10-10T13:39:07.713Z"
   },
   {
    "duration": 10,
    "start_time": "2024-10-10T13:39:07.725Z"
   },
   {
    "duration": 579,
    "start_time": "2024-10-10T13:39:07.736Z"
   },
   {
    "duration": 23,
    "start_time": "2024-10-10T13:39:08.316Z"
   },
   {
    "duration": 23,
    "start_time": "2024-10-10T13:39:08.341Z"
   },
   {
    "duration": 16,
    "start_time": "2024-10-10T13:39:08.365Z"
   },
   {
    "duration": 428,
    "start_time": "2024-10-10T13:39:08.382Z"
   },
   {
    "duration": 517,
    "start_time": "2024-10-10T13:39:08.812Z"
   },
   {
    "duration": 34,
    "start_time": "2024-10-10T13:39:09.331Z"
   },
   {
    "duration": 277,
    "start_time": "2024-10-10T13:39:09.366Z"
   },
   {
    "duration": 4,
    "start_time": "2024-10-10T13:39:09.644Z"
   },
   {
    "duration": 198,
    "start_time": "2024-10-10T13:39:09.649Z"
   },
   {
    "duration": 3,
    "start_time": "2024-10-10T13:39:09.849Z"
   },
   {
    "duration": 18,
    "start_time": "2024-10-10T13:39:09.857Z"
   },
   {
    "duration": 156,
    "start_time": "2024-10-10T13:39:09.877Z"
   },
   {
    "duration": 4,
    "start_time": "2024-10-10T13:39:10.034Z"
   },
   {
    "duration": 236,
    "start_time": "2024-10-10T13:39:10.039Z"
   },
   {
    "duration": 5,
    "start_time": "2024-10-10T13:39:10.277Z"
   },
   {
    "duration": 22,
    "start_time": "2024-10-10T13:39:10.283Z"
   },
   {
    "duration": 178,
    "start_time": "2024-10-10T13:39:10.307Z"
   },
   {
    "duration": 3,
    "start_time": "2024-10-10T13:39:10.487Z"
   },
   {
    "duration": 167,
    "start_time": "2024-10-10T13:39:10.492Z"
   },
   {
    "duration": 3,
    "start_time": "2024-10-10T13:39:10.660Z"
   },
   {
    "duration": 7,
    "start_time": "2024-10-10T13:39:10.664Z"
   },
   {
    "duration": 156,
    "start_time": "2024-10-10T13:39:10.672Z"
   },
   {
    "duration": 3,
    "start_time": "2024-10-10T13:39:10.830Z"
   },
   {
    "duration": 170,
    "start_time": "2024-10-10T13:39:10.834Z"
   },
   {
    "duration": 4,
    "start_time": "2024-10-10T13:39:11.005Z"
   },
   {
    "duration": 31,
    "start_time": "2024-10-10T13:39:11.010Z"
   },
   {
    "duration": 557,
    "start_time": "2024-10-10T13:39:11.042Z"
   },
   {
    "duration": 12,
    "start_time": "2024-10-10T13:39:11.601Z"
   },
   {
    "duration": 77,
    "start_time": "2024-10-10T13:39:11.614Z"
   },
   {
    "duration": 10,
    "start_time": "2024-10-10T13:39:11.693Z"
   },
   {
    "duration": 14,
    "start_time": "2024-10-10T13:39:11.705Z"
   },
   {
    "duration": 9,
    "start_time": "2024-10-10T13:39:11.720Z"
   },
   {
    "duration": 8,
    "start_time": "2024-10-10T13:39:11.730Z"
   },
   {
    "duration": 8,
    "start_time": "2024-10-10T13:39:11.740Z"
   },
   {
    "duration": 13,
    "start_time": "2024-10-10T13:39:11.749Z"
   },
   {
    "duration": 15,
    "start_time": "2024-10-10T13:39:11.763Z"
   },
   {
    "duration": 15,
    "start_time": "2024-10-10T13:39:11.779Z"
   },
   {
    "duration": 241,
    "start_time": "2024-10-10T13:39:11.796Z"
   },
   {
    "duration": 6,
    "start_time": "2024-10-10T13:39:12.038Z"
   },
   {
    "duration": 13,
    "start_time": "2024-10-10T13:39:12.045Z"
   },
   {
    "duration": 7,
    "start_time": "2024-10-10T13:39:12.059Z"
   },
   {
    "duration": 73,
    "start_time": "2024-10-10T13:39:12.067Z"
   },
   {
    "duration": 7,
    "start_time": "2024-10-10T13:39:12.141Z"
   },
   {
    "duration": 8,
    "start_time": "2024-10-10T13:39:12.149Z"
   },
   {
    "duration": 106,
    "start_time": "2024-10-10T13:39:45.000Z"
   },
   {
    "duration": 59,
    "start_time": "2024-10-10T13:39:51.949Z"
   },
   {
    "duration": 80,
    "start_time": "2024-10-10T13:40:05.666Z"
   },
   {
    "duration": 1384,
    "start_time": "2024-10-10T15:01:37.514Z"
   },
   {
    "duration": 221,
    "start_time": "2024-10-10T15:01:38.900Z"
   },
   {
    "duration": 17,
    "start_time": "2024-10-10T15:01:39.122Z"
   },
   {
    "duration": 20,
    "start_time": "2024-10-10T15:01:39.141Z"
   },
   {
    "duration": 3,
    "start_time": "2024-10-10T15:01:39.162Z"
   },
   {
    "duration": 16,
    "start_time": "2024-10-10T15:01:39.166Z"
   },
   {
    "duration": 6,
    "start_time": "2024-10-10T15:01:39.183Z"
   },
   {
    "duration": 4,
    "start_time": "2024-10-10T15:01:39.191Z"
   },
   {
    "duration": 24,
    "start_time": "2024-10-10T15:01:39.197Z"
   },
   {
    "duration": 9,
    "start_time": "2024-10-10T15:01:39.223Z"
   },
   {
    "duration": 21,
    "start_time": "2024-10-10T15:01:39.233Z"
   },
   {
    "duration": 5,
    "start_time": "2024-10-10T15:01:39.257Z"
   },
   {
    "duration": 7,
    "start_time": "2024-10-10T15:01:39.263Z"
   },
   {
    "duration": 10,
    "start_time": "2024-10-10T15:01:39.271Z"
   },
   {
    "duration": 456,
    "start_time": "2024-10-10T15:01:39.283Z"
   },
   {
    "duration": 11,
    "start_time": "2024-10-10T15:01:39.741Z"
   },
   {
    "duration": 17,
    "start_time": "2024-10-10T15:01:39.754Z"
   },
   {
    "duration": 9,
    "start_time": "2024-10-10T15:01:39.773Z"
   },
   {
    "duration": 23,
    "start_time": "2024-10-10T15:01:39.784Z"
   },
   {
    "duration": 42,
    "start_time": "2024-10-10T15:01:39.809Z"
   },
   {
    "duration": 20,
    "start_time": "2024-10-10T15:01:39.853Z"
   },
   {
    "duration": 9,
    "start_time": "2024-10-10T15:01:39.875Z"
   },
   {
    "duration": 155,
    "start_time": "2024-10-10T15:01:39.885Z"
   },
   {
    "duration": 512,
    "start_time": "2024-10-10T15:01:40.042Z"
   },
   {
    "duration": 13,
    "start_time": "2024-10-10T15:01:40.555Z"
   },
   {
    "duration": 16,
    "start_time": "2024-10-10T15:01:40.569Z"
   },
   {
    "duration": 5,
    "start_time": "2024-10-10T15:01:40.587Z"
   },
   {
    "duration": 21,
    "start_time": "2024-10-10T15:01:40.596Z"
   },
   {
    "duration": 20,
    "start_time": "2024-10-10T15:01:40.619Z"
   },
   {
    "duration": 11,
    "start_time": "2024-10-10T15:01:40.641Z"
   },
   {
    "duration": 719,
    "start_time": "2024-10-10T15:01:40.654Z"
   },
   {
    "duration": 24,
    "start_time": "2024-10-10T15:01:41.375Z"
   },
   {
    "duration": 12,
    "start_time": "2024-10-10T15:01:41.400Z"
   },
   {
    "duration": 43,
    "start_time": "2024-10-10T15:01:41.413Z"
   },
   {
    "duration": 490,
    "start_time": "2024-10-10T15:01:41.457Z"
   },
   {
    "duration": 658,
    "start_time": "2024-10-10T15:01:41.948Z"
   },
   {
    "duration": 44,
    "start_time": "2024-10-10T15:01:42.608Z"
   },
   {
    "duration": 201,
    "start_time": "2024-10-10T15:01:42.653Z"
   },
   {
    "duration": 3,
    "start_time": "2024-10-10T15:01:42.856Z"
   },
   {
    "duration": 231,
    "start_time": "2024-10-10T15:01:42.861Z"
   },
   {
    "duration": 4,
    "start_time": "2024-10-10T15:01:43.093Z"
   },
   {
    "duration": 8,
    "start_time": "2024-10-10T15:01:43.098Z"
   },
   {
    "duration": 205,
    "start_time": "2024-10-10T15:01:43.107Z"
   },
   {
    "duration": 3,
    "start_time": "2024-10-10T15:01:43.314Z"
   },
   {
    "duration": 213,
    "start_time": "2024-10-10T15:01:43.319Z"
   },
   {
    "duration": 4,
    "start_time": "2024-10-10T15:01:43.533Z"
   },
   {
    "duration": 14,
    "start_time": "2024-10-10T15:01:43.538Z"
   },
   {
    "duration": 186,
    "start_time": "2024-10-10T15:01:43.553Z"
   },
   {
    "duration": 4,
    "start_time": "2024-10-10T15:01:43.740Z"
   },
   {
    "duration": 221,
    "start_time": "2024-10-10T15:01:43.752Z"
   },
   {
    "duration": 6,
    "start_time": "2024-10-10T15:01:43.975Z"
   },
   {
    "duration": 42,
    "start_time": "2024-10-10T15:01:43.982Z"
   },
   {
    "duration": 199,
    "start_time": "2024-10-10T15:01:44.025Z"
   },
   {
    "duration": 4,
    "start_time": "2024-10-10T15:01:44.225Z"
   },
   {
    "duration": 197,
    "start_time": "2024-10-10T15:01:44.230Z"
   },
   {
    "duration": 4,
    "start_time": "2024-10-10T15:01:44.429Z"
   },
   {
    "duration": 34,
    "start_time": "2024-10-10T15:01:44.434Z"
   },
   {
    "duration": 672,
    "start_time": "2024-10-10T15:01:44.469Z"
   },
   {
    "duration": 16,
    "start_time": "2024-10-10T15:01:45.143Z"
   },
   {
    "duration": 45,
    "start_time": "2024-10-10T15:01:45.161Z"
   },
   {
    "duration": 20,
    "start_time": "2024-10-10T15:01:45.207Z"
   },
   {
    "duration": 27,
    "start_time": "2024-10-10T15:01:45.229Z"
   },
   {
    "duration": 36,
    "start_time": "2024-10-10T15:01:45.257Z"
   },
   {
    "duration": 76,
    "start_time": "2024-10-10T15:01:45.295Z"
   },
   {
    "duration": 13,
    "start_time": "2024-10-10T15:01:45.373Z"
   },
   {
    "duration": 12,
    "start_time": "2024-10-10T15:01:45.387Z"
   },
   {
    "duration": 16,
    "start_time": "2024-10-10T15:01:45.401Z"
   },
   {
    "duration": 32,
    "start_time": "2024-10-10T15:01:45.419Z"
   },
   {
    "duration": 300,
    "start_time": "2024-10-10T15:01:45.452Z"
   },
   {
    "duration": 7,
    "start_time": "2024-10-10T15:01:45.753Z"
   },
   {
    "duration": 19,
    "start_time": "2024-10-10T15:01:45.762Z"
   },
   {
    "duration": 7,
    "start_time": "2024-10-10T15:01:45.783Z"
   },
   {
    "duration": 11,
    "start_time": "2024-10-10T15:01:45.791Z"
   },
   {
    "duration": 6,
    "start_time": "2024-10-10T15:01:45.803Z"
   },
   {
    "duration": 28,
    "start_time": "2024-10-10T15:01:45.810Z"
   },
   {
    "duration": 48,
    "start_time": "2024-10-10T15:33:55.993Z"
   },
   {
    "duration": 7,
    "start_time": "2024-10-10T15:34:08.943Z"
   },
   {
    "duration": 6,
    "start_time": "2024-10-10T15:34:54.579Z"
   },
   {
    "duration": 1413,
    "start_time": "2024-10-10T15:34:59.897Z"
   },
   {
    "duration": 229,
    "start_time": "2024-10-10T15:35:01.312Z"
   },
   {
    "duration": 16,
    "start_time": "2024-10-10T15:35:01.543Z"
   },
   {
    "duration": 45,
    "start_time": "2024-10-10T15:35:01.561Z"
   },
   {
    "duration": 40,
    "start_time": "2024-10-10T15:35:01.608Z"
   },
   {
    "duration": 40,
    "start_time": "2024-10-10T15:35:01.649Z"
   },
   {
    "duration": 5,
    "start_time": "2024-10-10T15:35:01.690Z"
   },
   {
    "duration": 5,
    "start_time": "2024-10-10T15:35:01.696Z"
   },
   {
    "duration": 50,
    "start_time": "2024-10-10T15:35:01.702Z"
   },
   {
    "duration": 32,
    "start_time": "2024-10-10T15:35:01.754Z"
   },
   {
    "duration": 13,
    "start_time": "2024-10-10T15:35:01.788Z"
   },
   {
    "duration": 33,
    "start_time": "2024-10-10T15:35:01.803Z"
   },
   {
    "duration": 51,
    "start_time": "2024-10-10T15:35:01.837Z"
   },
   {
    "duration": 29,
    "start_time": "2024-10-10T15:35:01.889Z"
   },
   {
    "duration": 416,
    "start_time": "2024-10-10T15:35:01.920Z"
   },
   {
    "duration": 9,
    "start_time": "2024-10-10T15:35:02.337Z"
   },
   {
    "duration": 37,
    "start_time": "2024-10-10T15:35:02.349Z"
   },
   {
    "duration": 6,
    "start_time": "2024-10-10T15:35:02.388Z"
   },
   {
    "duration": 29,
    "start_time": "2024-10-10T15:35:02.396Z"
   },
   {
    "duration": 60,
    "start_time": "2024-10-10T15:35:02.427Z"
   },
   {
    "duration": 36,
    "start_time": "2024-10-10T15:35:02.489Z"
   },
   {
    "duration": 47,
    "start_time": "2024-10-10T15:35:02.526Z"
   },
   {
    "duration": 41,
    "start_time": "2024-10-10T15:35:02.575Z"
   },
   {
    "duration": 544,
    "start_time": "2024-10-10T15:35:02.618Z"
   },
   {
    "duration": 15,
    "start_time": "2024-10-10T15:35:03.164Z"
   },
   {
    "duration": 12,
    "start_time": "2024-10-10T15:35:03.180Z"
   },
   {
    "duration": 41,
    "start_time": "2024-10-10T15:35:03.194Z"
   },
   {
    "duration": 76,
    "start_time": "2024-10-10T15:35:03.239Z"
   },
   {
    "duration": 15,
    "start_time": "2024-10-10T15:35:03.317Z"
   },
   {
    "duration": 17,
    "start_time": "2024-10-10T15:35:03.333Z"
   },
   {
    "duration": 707,
    "start_time": "2024-10-10T15:35:03.352Z"
   },
   {
    "duration": 24,
    "start_time": "2024-10-10T15:35:04.061Z"
   },
   {
    "duration": 18,
    "start_time": "2024-10-10T15:35:04.087Z"
   },
   {
    "duration": 27,
    "start_time": "2024-10-10T15:35:04.107Z"
   },
   {
    "duration": 494,
    "start_time": "2024-10-10T15:35:04.135Z"
   },
   {
    "duration": 644,
    "start_time": "2024-10-10T15:35:04.631Z"
   },
   {
    "duration": 31,
    "start_time": "2024-10-10T15:35:05.276Z"
   },
   {
    "duration": 203,
    "start_time": "2024-10-10T15:35:05.308Z"
   },
   {
    "duration": 9,
    "start_time": "2024-10-10T15:35:05.512Z"
   },
   {
    "duration": 226,
    "start_time": "2024-10-10T15:35:05.522Z"
   },
   {
    "duration": 5,
    "start_time": "2024-10-10T15:35:05.749Z"
   },
   {
    "duration": 32,
    "start_time": "2024-10-10T15:35:05.755Z"
   },
   {
    "duration": 186,
    "start_time": "2024-10-10T15:35:05.789Z"
   },
   {
    "duration": 5,
    "start_time": "2024-10-10T15:35:05.977Z"
   },
   {
    "duration": 284,
    "start_time": "2024-10-10T15:35:05.984Z"
   },
   {
    "duration": 5,
    "start_time": "2024-10-10T15:35:06.270Z"
   },
   {
    "duration": 7,
    "start_time": "2024-10-10T15:35:06.277Z"
   },
   {
    "duration": 199,
    "start_time": "2024-10-10T15:35:06.285Z"
   },
   {
    "duration": 5,
    "start_time": "2024-10-10T15:35:06.486Z"
   },
   {
    "duration": 196,
    "start_time": "2024-10-10T15:35:06.493Z"
   },
   {
    "duration": 4,
    "start_time": "2024-10-10T15:35:06.691Z"
   },
   {
    "duration": 5,
    "start_time": "2024-10-10T15:35:06.697Z"
   },
   {
    "duration": 185,
    "start_time": "2024-10-10T15:35:06.720Z"
   },
   {
    "duration": 5,
    "start_time": "2024-10-10T15:35:06.907Z"
   },
   {
    "duration": 195,
    "start_time": "2024-10-10T15:35:06.921Z"
   },
   {
    "duration": 5,
    "start_time": "2024-10-10T15:35:07.118Z"
   },
   {
    "duration": 27,
    "start_time": "2024-10-10T15:35:07.125Z"
   },
   {
    "duration": 739,
    "start_time": "2024-10-10T15:35:07.154Z"
   },
   {
    "duration": 13,
    "start_time": "2024-10-10T15:35:07.895Z"
   },
   {
    "duration": 11,
    "start_time": "2024-10-10T15:35:07.910Z"
   },
   {
    "duration": 18,
    "start_time": "2024-10-10T15:35:07.922Z"
   },
   {
    "duration": 23,
    "start_time": "2024-10-10T15:35:07.941Z"
   },
   {
    "duration": 80,
    "start_time": "2024-10-10T15:35:07.965Z"
   },
   {
    "duration": 62,
    "start_time": "2024-10-10T15:35:08.047Z"
   },
   {
    "duration": 34,
    "start_time": "2024-10-10T15:35:08.111Z"
   },
   {
    "duration": 16,
    "start_time": "2024-10-10T15:35:08.146Z"
   },
   {
    "duration": 12,
    "start_time": "2024-10-10T15:35:08.164Z"
   },
   {
    "duration": 28,
    "start_time": "2024-10-10T15:35:08.178Z"
   },
   {
    "duration": 285,
    "start_time": "2024-10-10T15:35:08.208Z"
   },
   {
    "duration": 6,
    "start_time": "2024-10-10T15:35:08.495Z"
   },
   {
    "duration": 19,
    "start_time": "2024-10-10T15:35:08.503Z"
   },
   {
    "duration": 6,
    "start_time": "2024-10-10T15:35:08.524Z"
   },
   {
    "duration": 14,
    "start_time": "2024-10-10T15:35:08.531Z"
   },
   {
    "duration": 6,
    "start_time": "2024-10-10T15:35:08.547Z"
   },
   {
    "duration": 23,
    "start_time": "2024-10-10T15:35:08.555Z"
   },
   {
    "duration": 6,
    "start_time": "2024-10-10T15:38:02.612Z"
   },
   {
    "duration": 5,
    "start_time": "2024-10-10T15:38:04.491Z"
   },
   {
    "duration": 4,
    "start_time": "2024-10-10T15:38:10.226Z"
   },
   {
    "duration": 52,
    "start_time": "2024-10-10T15:48:49.170Z"
   },
   {
    "duration": 49,
    "start_time": "2024-10-10T15:49:15.963Z"
   },
   {
    "duration": 49,
    "start_time": "2024-10-10T15:49:23.242Z"
   },
   {
    "duration": 43,
    "start_time": "2024-10-10T15:49:27.557Z"
   },
   {
    "duration": 55,
    "start_time": "2024-10-10T15:49:39.518Z"
   },
   {
    "duration": 1138,
    "start_time": "2024-10-10T15:52:49.775Z"
   },
   {
    "duration": 57,
    "start_time": "2024-10-10T15:52:50.915Z"
   },
   {
    "duration": 14,
    "start_time": "2024-10-10T15:52:50.974Z"
   },
   {
    "duration": 19,
    "start_time": "2024-10-10T15:52:50.990Z"
   },
   {
    "duration": 3,
    "start_time": "2024-10-10T15:52:51.010Z"
   },
   {
    "duration": 31,
    "start_time": "2024-10-10T15:52:51.015Z"
   },
   {
    "duration": 4,
    "start_time": "2024-10-10T15:52:51.047Z"
   },
   {
    "duration": 11,
    "start_time": "2024-10-10T15:52:51.052Z"
   },
   {
    "duration": 31,
    "start_time": "2024-10-10T15:52:51.065Z"
   },
   {
    "duration": 8,
    "start_time": "2024-10-10T15:52:51.098Z"
   },
   {
    "duration": 13,
    "start_time": "2024-10-10T15:52:51.107Z"
   },
   {
    "duration": 4,
    "start_time": "2024-10-10T15:52:51.122Z"
   },
   {
    "duration": 6,
    "start_time": "2024-10-10T15:52:51.127Z"
   },
   {
    "duration": 17,
    "start_time": "2024-10-10T15:52:51.134Z"
   },
   {
    "duration": 329,
    "start_time": "2024-10-10T15:52:51.153Z"
   },
   {
    "duration": 9,
    "start_time": "2024-10-10T15:52:51.484Z"
   },
   {
    "duration": 33,
    "start_time": "2024-10-10T15:52:51.495Z"
   },
   {
    "duration": 12,
    "start_time": "2024-10-10T15:52:51.530Z"
   },
   {
    "duration": 48,
    "start_time": "2024-10-10T15:52:51.544Z"
   },
   {
    "duration": 28,
    "start_time": "2024-10-10T15:52:51.594Z"
   },
   {
    "duration": 21,
    "start_time": "2024-10-10T15:52:51.623Z"
   },
   {
    "duration": 8,
    "start_time": "2024-10-10T15:52:51.646Z"
   },
   {
    "duration": 18,
    "start_time": "2024-10-10T15:52:51.656Z"
   },
   {
    "duration": 531,
    "start_time": "2024-10-10T15:52:51.676Z"
   },
   {
    "duration": 23,
    "start_time": "2024-10-10T15:52:52.209Z"
   },
   {
    "duration": 3,
    "start_time": "2024-10-10T15:52:52.233Z"
   },
   {
    "duration": 5,
    "start_time": "2024-10-10T15:52:52.238Z"
   },
   {
    "duration": 20,
    "start_time": "2024-10-10T15:52:52.248Z"
   },
   {
    "duration": 15,
    "start_time": "2024-10-10T15:52:52.270Z"
   },
   {
    "duration": 34,
    "start_time": "2024-10-10T15:52:52.287Z"
   },
   {
    "duration": 747,
    "start_time": "2024-10-10T15:52:52.323Z"
   },
   {
    "duration": 25,
    "start_time": "2024-10-10T15:52:53.071Z"
   },
   {
    "duration": 28,
    "start_time": "2024-10-10T15:52:53.098Z"
   },
   {
    "duration": 22,
    "start_time": "2024-10-10T15:52:53.128Z"
   },
   {
    "duration": 470,
    "start_time": "2024-10-10T15:52:53.151Z"
   },
   {
    "duration": 641,
    "start_time": "2024-10-10T15:52:53.622Z"
   },
   {
    "duration": 31,
    "start_time": "2024-10-10T15:52:54.265Z"
   },
   {
    "duration": 207,
    "start_time": "2024-10-10T15:52:54.297Z"
   },
   {
    "duration": 5,
    "start_time": "2024-10-10T15:52:54.506Z"
   },
   {
    "duration": 209,
    "start_time": "2024-10-10T15:52:54.520Z"
   },
   {
    "duration": 5,
    "start_time": "2024-10-10T15:52:54.730Z"
   },
   {
    "duration": 23,
    "start_time": "2024-10-10T15:52:54.737Z"
   },
   {
    "duration": 208,
    "start_time": "2024-10-10T15:52:54.762Z"
   },
   {
    "duration": 5,
    "start_time": "2024-10-10T15:52:54.972Z"
   },
   {
    "duration": 203,
    "start_time": "2024-10-10T15:52:54.979Z"
   },
   {
    "duration": 4,
    "start_time": "2024-10-10T15:52:55.183Z"
   },
   {
    "duration": 22,
    "start_time": "2024-10-10T15:52:55.189Z"
   },
   {
    "duration": 202,
    "start_time": "2024-10-10T15:52:55.212Z"
   },
   {
    "duration": 4,
    "start_time": "2024-10-10T15:52:55.420Z"
   },
   {
    "duration": 184,
    "start_time": "2024-10-10T15:52:55.426Z"
   },
   {
    "duration": 9,
    "start_time": "2024-10-10T15:52:55.612Z"
   },
   {
    "duration": 9,
    "start_time": "2024-10-10T15:52:55.623Z"
   },
   {
    "duration": 193,
    "start_time": "2024-10-10T15:52:55.633Z"
   },
   {
    "duration": 4,
    "start_time": "2024-10-10T15:52:55.827Z"
   },
   {
    "duration": 194,
    "start_time": "2024-10-10T15:52:55.832Z"
   },
   {
    "duration": 4,
    "start_time": "2024-10-10T15:52:56.027Z"
   },
   {
    "duration": 20,
    "start_time": "2024-10-10T15:52:56.033Z"
   },
   {
    "duration": 671,
    "start_time": "2024-10-10T15:52:56.055Z"
   },
   {
    "duration": 14,
    "start_time": "2024-10-10T15:52:56.727Z"
   },
   {
    "duration": 16,
    "start_time": "2024-10-10T15:52:56.743Z"
   },
   {
    "duration": 19,
    "start_time": "2024-10-10T15:52:56.760Z"
   },
   {
    "duration": 11,
    "start_time": "2024-10-10T15:52:56.781Z"
   },
   {
    "duration": 24,
    "start_time": "2024-10-10T15:52:56.794Z"
   },
   {
    "duration": 76,
    "start_time": "2024-10-10T15:52:56.819Z"
   },
   {
    "duration": 15,
    "start_time": "2024-10-10T15:52:56.897Z"
   },
   {
    "duration": 23,
    "start_time": "2024-10-10T15:52:56.914Z"
   },
   {
    "duration": 10,
    "start_time": "2024-10-10T15:52:56.938Z"
   },
   {
    "duration": 22,
    "start_time": "2024-10-10T15:52:56.949Z"
   },
   {
    "duration": 295,
    "start_time": "2024-10-10T15:52:56.972Z"
   },
   {
    "duration": 8,
    "start_time": "2024-10-10T15:52:57.269Z"
   },
   {
    "duration": 36,
    "start_time": "2024-10-10T15:52:57.280Z"
   },
   {
    "duration": 24,
    "start_time": "2024-10-10T15:52:57.319Z"
   },
   {
    "duration": 34,
    "start_time": "2024-10-10T15:52:57.346Z"
   },
   {
    "duration": 14,
    "start_time": "2024-10-10T15:52:57.381Z"
   },
   {
    "duration": 23,
    "start_time": "2024-10-10T15:52:57.396Z"
   },
   {
    "duration": 1516,
    "start_time": "2024-10-10T17:16:46.433Z"
   },
   {
    "duration": 201,
    "start_time": "2024-10-10T17:16:47.952Z"
   },
   {
    "duration": 18,
    "start_time": "2024-10-10T17:16:48.155Z"
   },
   {
    "duration": 46,
    "start_time": "2024-10-10T17:16:48.175Z"
   },
   {
    "duration": 3,
    "start_time": "2024-10-10T17:16:48.223Z"
   },
   {
    "duration": 5,
    "start_time": "2024-10-10T17:16:48.228Z"
   },
   {
    "duration": 5,
    "start_time": "2024-10-10T17:16:48.234Z"
   },
   {
    "duration": 14,
    "start_time": "2024-10-10T17:16:48.241Z"
   },
   {
    "duration": 23,
    "start_time": "2024-10-10T17:16:48.256Z"
   },
   {
    "duration": 8,
    "start_time": "2024-10-10T17:16:48.280Z"
   },
   {
    "duration": 5,
    "start_time": "2024-10-10T17:16:48.290Z"
   },
   {
    "duration": 5,
    "start_time": "2024-10-10T17:16:48.297Z"
   },
   {
    "duration": 6,
    "start_time": "2024-10-10T17:16:48.303Z"
   },
   {
    "duration": 10,
    "start_time": "2024-10-10T17:16:48.312Z"
   },
   {
    "duration": 392,
    "start_time": "2024-10-10T17:16:48.323Z"
   },
   {
    "duration": 9,
    "start_time": "2024-10-10T17:16:48.717Z"
   },
   {
    "duration": 16,
    "start_time": "2024-10-10T17:16:48.728Z"
   },
   {
    "duration": 22,
    "start_time": "2024-10-10T17:16:48.746Z"
   },
   {
    "duration": 23,
    "start_time": "2024-10-10T17:16:48.770Z"
   },
   {
    "duration": 19,
    "start_time": "2024-10-10T17:16:48.794Z"
   },
   {
    "duration": 19,
    "start_time": "2024-10-10T17:16:48.815Z"
   },
   {
    "duration": 34,
    "start_time": "2024-10-10T17:16:48.836Z"
   },
   {
    "duration": 12,
    "start_time": "2024-10-10T17:16:48.872Z"
   },
   {
    "duration": 510,
    "start_time": "2024-10-10T17:16:48.886Z"
   },
   {
    "duration": 14,
    "start_time": "2024-10-10T17:16:49.398Z"
   },
   {
    "duration": 16,
    "start_time": "2024-10-10T17:16:49.413Z"
   },
   {
    "duration": 28,
    "start_time": "2024-10-10T17:16:49.430Z"
   },
   {
    "duration": 49,
    "start_time": "2024-10-10T17:16:49.460Z"
   },
   {
    "duration": 22,
    "start_time": "2024-10-10T17:16:49.511Z"
   },
   {
    "duration": 91,
    "start_time": "2024-10-10T17:16:49.535Z"
   },
   {
    "duration": 791,
    "start_time": "2024-10-10T17:16:49.628Z"
   },
   {
    "duration": 24,
    "start_time": "2024-10-10T17:16:50.421Z"
   },
   {
    "duration": 26,
    "start_time": "2024-10-10T17:16:50.447Z"
   },
   {
    "duration": 26,
    "start_time": "2024-10-10T17:16:50.474Z"
   },
   {
    "duration": 505,
    "start_time": "2024-10-10T17:16:50.502Z"
   },
   {
    "duration": 720,
    "start_time": "2024-10-10T17:16:51.009Z"
   },
   {
    "duration": 36,
    "start_time": "2024-10-10T17:16:51.731Z"
   },
   {
    "duration": 247,
    "start_time": "2024-10-10T17:16:51.769Z"
   },
   {
    "duration": 4,
    "start_time": "2024-10-10T17:16:52.018Z"
   },
   {
    "duration": 207,
    "start_time": "2024-10-10T17:16:52.024Z"
   },
   {
    "duration": 5,
    "start_time": "2024-10-10T17:16:52.236Z"
   },
   {
    "duration": 15,
    "start_time": "2024-10-10T17:16:52.243Z"
   },
   {
    "duration": 243,
    "start_time": "2024-10-10T17:16:52.260Z"
   },
   {
    "duration": 5,
    "start_time": "2024-10-10T17:16:52.505Z"
   },
   {
    "duration": 213,
    "start_time": "2024-10-10T17:16:52.511Z"
   },
   {
    "duration": 5,
    "start_time": "2024-10-10T17:16:52.725Z"
   },
   {
    "duration": 11,
    "start_time": "2024-10-10T17:16:52.731Z"
   },
   {
    "duration": 213,
    "start_time": "2024-10-10T17:16:52.744Z"
   },
   {
    "duration": 7,
    "start_time": "2024-10-10T17:16:52.959Z"
   },
   {
    "duration": 203,
    "start_time": "2024-10-10T17:16:52.968Z"
   },
   {
    "duration": 5,
    "start_time": "2024-10-10T17:16:53.173Z"
   },
   {
    "duration": 21,
    "start_time": "2024-10-10T17:16:53.180Z"
   },
   {
    "duration": 215,
    "start_time": "2024-10-10T17:16:53.203Z"
   },
   {
    "duration": 5,
    "start_time": "2024-10-10T17:16:53.420Z"
   },
   {
    "duration": 217,
    "start_time": "2024-10-10T17:16:53.427Z"
   },
   {
    "duration": 4,
    "start_time": "2024-10-10T17:16:53.646Z"
   },
   {
    "duration": 22,
    "start_time": "2024-10-10T17:16:53.665Z"
   },
   {
    "duration": 791,
    "start_time": "2024-10-10T17:16:53.689Z"
   },
   {
    "duration": 14,
    "start_time": "2024-10-10T17:16:54.482Z"
   },
   {
    "duration": 12,
    "start_time": "2024-10-10T17:16:54.498Z"
   },
   {
    "duration": 21,
    "start_time": "2024-10-10T17:16:54.512Z"
   },
   {
    "duration": 19,
    "start_time": "2024-10-10T17:16:54.534Z"
   },
   {
    "duration": 16,
    "start_time": "2024-10-10T17:16:54.554Z"
   },
   {
    "duration": 14,
    "start_time": "2024-10-10T17:16:54.572Z"
   },
   {
    "duration": 15,
    "start_time": "2024-10-10T17:16:54.587Z"
   },
   {
    "duration": 19,
    "start_time": "2024-10-10T17:16:54.604Z"
   },
   {
    "duration": 16,
    "start_time": "2024-10-10T17:16:54.625Z"
   },
   {
    "duration": 26,
    "start_time": "2024-10-10T17:16:54.643Z"
   },
   {
    "duration": 296,
    "start_time": "2024-10-10T17:16:54.671Z"
   },
   {
    "duration": 6,
    "start_time": "2024-10-10T17:16:54.968Z"
   },
   {
    "duration": 13,
    "start_time": "2024-10-10T17:16:54.975Z"
   },
   {
    "duration": 18,
    "start_time": "2024-10-10T17:16:54.990Z"
   },
   {
    "duration": 8,
    "start_time": "2024-10-10T17:16:55.010Z"
   },
   {
    "duration": 22,
    "start_time": "2024-10-10T17:16:55.020Z"
   },
   {
    "duration": 12,
    "start_time": "2024-10-10T17:16:55.044Z"
   }
  ],
  "kernelspec": {
   "display_name": "Python 3 (ipykernel)",
   "language": "python",
   "name": "python3"
  },
  "language_info": {
   "codemirror_mode": {
    "name": "ipython",
    "version": 3
   },
   "file_extension": ".py",
   "mimetype": "text/x-python",
   "name": "python",
   "nbconvert_exporter": "python",
   "pygments_lexer": "ipython3",
   "version": "3.9.5"
  },
  "toc": {
   "base_numbering": 1,
   "nav_menu": {},
   "number_sections": true,
   "sideBar": true,
   "skip_h1_title": true,
   "title_cell": "Оглавление",
   "title_sidebar": "Contents",
   "toc_cell": true,
   "toc_position": {
    "height": "calc(100% - 180px)",
    "left": "10px",
    "top": "150px",
    "width": "340.797px"
   },
   "toc_section_display": true,
   "toc_window_display": true
  }
 },
 "nbformat": 4,
 "nbformat_minor": 2
}
