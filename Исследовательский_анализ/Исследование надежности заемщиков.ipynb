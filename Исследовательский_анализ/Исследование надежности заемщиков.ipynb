{
 "cells": [
  {
   "cell_type": "markdown",
   "id": "386f2ae7",
   "metadata": {
    "deletable": false,
    "editable": false,
    "id": "386f2ae7"
   },
   "source": [
    "# Исследование надежности заемщиков\n"
   ]
  },
  {
   "cell_type": "markdown",
   "id": "ffe86f65",
   "metadata": {
    "deletable": false,
    "editable": false,
    "id": "ffe86f65"
   },
   "source": [
    "Во второй части проекта вы выполните шаги 3 и 4. Их вручную проверит ревьюер.\n",
    "Чтобы вам не пришлось писать код заново для шагов 1 и 2, мы добавили авторские решения в ячейки с кодом. \n",
    "\n"
   ]
  },
  {
   "cell_type": "markdown",
   "id": "26613308",
   "metadata": {
    "deletable": false,
    "editable": false,
    "id": "26613308"
   },
   "source": [
    "## Откройте таблицу и изучите общую информацию о данных"
   ]
  },
  {
   "cell_type": "markdown",
   "id": "3c9f838e",
   "metadata": {
    "deletable": false,
    "editable": false,
    "id": "3c9f838e"
   },
   "source": [
    "**Задание 1. Импортируйте библиотеку pandas. Считайте данные из csv-файла в датафрейм и сохраните в переменную `data`. Путь к файлу:**\n",
    "\n",
    "`/datasets/data.csv`"
   ]
  },
  {
   "cell_type": "code",
   "execution_count": 2,
   "id": "77a68a90",
   "metadata": {
    "deletable": false,
    "id": "77a68a90"
   },
   "outputs": [],
   "source": [
    "import pandas as pd\n",
    "\n",
    "try:\n",
    "    data = pd.read_csv('/datasets/data.csv')\n",
    "except:\n",
    "    data = pd.read_csv('https://code.s3.yandex.net/datasets/data.csv')"
   ]
  },
  {
   "cell_type": "markdown",
   "id": "45365635",
   "metadata": {
    "deletable": false,
    "editable": false,
    "id": "45365635"
   },
   "source": [
    "**Задание 2. Выведите первые 20 строчек датафрейма `data` на экран.**"
   ]
  },
  {
   "cell_type": "code",
   "execution_count": 3,
   "id": "b0451a9a",
   "metadata": {
    "deletable": false,
    "id": "b0451a9a",
    "outputId": "1a8f3ef2-d323-4ec2-ddf7-89670b5944c4"
   },
   "outputs": [
    {
     "data": {
      "text/html": [
       "<div>\n",
       "<style scoped>\n",
       "    .dataframe tbody tr th:only-of-type {\n",
       "        vertical-align: middle;\n",
       "    }\n",
       "\n",
       "    .dataframe tbody tr th {\n",
       "        vertical-align: top;\n",
       "    }\n",
       "\n",
       "    .dataframe thead th {\n",
       "        text-align: right;\n",
       "    }\n",
       "</style>\n",
       "<table border=\"1\" class=\"dataframe\">\n",
       "  <thead>\n",
       "    <tr style=\"text-align: right;\">\n",
       "      <th></th>\n",
       "      <th>children</th>\n",
       "      <th>days_employed</th>\n",
       "      <th>dob_years</th>\n",
       "      <th>education</th>\n",
       "      <th>education_id</th>\n",
       "      <th>family_status</th>\n",
       "      <th>family_status_id</th>\n",
       "      <th>gender</th>\n",
       "      <th>income_type</th>\n",
       "      <th>debt</th>\n",
       "      <th>total_income</th>\n",
       "      <th>purpose</th>\n",
       "    </tr>\n",
       "  </thead>\n",
       "  <tbody>\n",
       "    <tr>\n",
       "      <th>0</th>\n",
       "      <td>1</td>\n",
       "      <td>-8437.673028</td>\n",
       "      <td>42</td>\n",
       "      <td>высшее</td>\n",
       "      <td>0</td>\n",
       "      <td>женат / замужем</td>\n",
       "      <td>0</td>\n",
       "      <td>F</td>\n",
       "      <td>сотрудник</td>\n",
       "      <td>0</td>\n",
       "      <td>253875.639453</td>\n",
       "      <td>покупка жилья</td>\n",
       "    </tr>\n",
       "    <tr>\n",
       "      <th>1</th>\n",
       "      <td>1</td>\n",
       "      <td>-4024.803754</td>\n",
       "      <td>36</td>\n",
       "      <td>среднее</td>\n",
       "      <td>1</td>\n",
       "      <td>женат / замужем</td>\n",
       "      <td>0</td>\n",
       "      <td>F</td>\n",
       "      <td>сотрудник</td>\n",
       "      <td>0</td>\n",
       "      <td>112080.014102</td>\n",
       "      <td>приобретение автомобиля</td>\n",
       "    </tr>\n",
       "    <tr>\n",
       "      <th>2</th>\n",
       "      <td>0</td>\n",
       "      <td>-5623.422610</td>\n",
       "      <td>33</td>\n",
       "      <td>Среднее</td>\n",
       "      <td>1</td>\n",
       "      <td>женат / замужем</td>\n",
       "      <td>0</td>\n",
       "      <td>M</td>\n",
       "      <td>сотрудник</td>\n",
       "      <td>0</td>\n",
       "      <td>145885.952297</td>\n",
       "      <td>покупка жилья</td>\n",
       "    </tr>\n",
       "    <tr>\n",
       "      <th>3</th>\n",
       "      <td>3</td>\n",
       "      <td>-4124.747207</td>\n",
       "      <td>32</td>\n",
       "      <td>среднее</td>\n",
       "      <td>1</td>\n",
       "      <td>женат / замужем</td>\n",
       "      <td>0</td>\n",
       "      <td>M</td>\n",
       "      <td>сотрудник</td>\n",
       "      <td>0</td>\n",
       "      <td>267628.550329</td>\n",
       "      <td>дополнительное образование</td>\n",
       "    </tr>\n",
       "    <tr>\n",
       "      <th>4</th>\n",
       "      <td>0</td>\n",
       "      <td>340266.072047</td>\n",
       "      <td>53</td>\n",
       "      <td>среднее</td>\n",
       "      <td>1</td>\n",
       "      <td>гражданский брак</td>\n",
       "      <td>1</td>\n",
       "      <td>F</td>\n",
       "      <td>пенсионер</td>\n",
       "      <td>0</td>\n",
       "      <td>158616.077870</td>\n",
       "      <td>сыграть свадьбу</td>\n",
       "    </tr>\n",
       "    <tr>\n",
       "      <th>5</th>\n",
       "      <td>0</td>\n",
       "      <td>-926.185831</td>\n",
       "      <td>27</td>\n",
       "      <td>высшее</td>\n",
       "      <td>0</td>\n",
       "      <td>гражданский брак</td>\n",
       "      <td>1</td>\n",
       "      <td>M</td>\n",
       "      <td>компаньон</td>\n",
       "      <td>0</td>\n",
       "      <td>255763.565419</td>\n",
       "      <td>покупка жилья</td>\n",
       "    </tr>\n",
       "    <tr>\n",
       "      <th>6</th>\n",
       "      <td>0</td>\n",
       "      <td>-2879.202052</td>\n",
       "      <td>43</td>\n",
       "      <td>высшее</td>\n",
       "      <td>0</td>\n",
       "      <td>женат / замужем</td>\n",
       "      <td>0</td>\n",
       "      <td>F</td>\n",
       "      <td>компаньон</td>\n",
       "      <td>0</td>\n",
       "      <td>240525.971920</td>\n",
       "      <td>операции с жильем</td>\n",
       "    </tr>\n",
       "    <tr>\n",
       "      <th>7</th>\n",
       "      <td>0</td>\n",
       "      <td>-152.779569</td>\n",
       "      <td>50</td>\n",
       "      <td>СРЕДНЕЕ</td>\n",
       "      <td>1</td>\n",
       "      <td>женат / замужем</td>\n",
       "      <td>0</td>\n",
       "      <td>M</td>\n",
       "      <td>сотрудник</td>\n",
       "      <td>0</td>\n",
       "      <td>135823.934197</td>\n",
       "      <td>образование</td>\n",
       "    </tr>\n",
       "    <tr>\n",
       "      <th>8</th>\n",
       "      <td>2</td>\n",
       "      <td>-6929.865299</td>\n",
       "      <td>35</td>\n",
       "      <td>ВЫСШЕЕ</td>\n",
       "      <td>0</td>\n",
       "      <td>гражданский брак</td>\n",
       "      <td>1</td>\n",
       "      <td>F</td>\n",
       "      <td>сотрудник</td>\n",
       "      <td>0</td>\n",
       "      <td>95856.832424</td>\n",
       "      <td>на проведение свадьбы</td>\n",
       "    </tr>\n",
       "    <tr>\n",
       "      <th>9</th>\n",
       "      <td>0</td>\n",
       "      <td>-2188.756445</td>\n",
       "      <td>41</td>\n",
       "      <td>среднее</td>\n",
       "      <td>1</td>\n",
       "      <td>женат / замужем</td>\n",
       "      <td>0</td>\n",
       "      <td>M</td>\n",
       "      <td>сотрудник</td>\n",
       "      <td>0</td>\n",
       "      <td>144425.938277</td>\n",
       "      <td>покупка жилья для семьи</td>\n",
       "    </tr>\n",
       "    <tr>\n",
       "      <th>10</th>\n",
       "      <td>2</td>\n",
       "      <td>-4171.483647</td>\n",
       "      <td>36</td>\n",
       "      <td>высшее</td>\n",
       "      <td>0</td>\n",
       "      <td>женат / замужем</td>\n",
       "      <td>0</td>\n",
       "      <td>M</td>\n",
       "      <td>компаньон</td>\n",
       "      <td>0</td>\n",
       "      <td>113943.491460</td>\n",
       "      <td>покупка недвижимости</td>\n",
       "    </tr>\n",
       "    <tr>\n",
       "      <th>11</th>\n",
       "      <td>0</td>\n",
       "      <td>-792.701887</td>\n",
       "      <td>40</td>\n",
       "      <td>среднее</td>\n",
       "      <td>1</td>\n",
       "      <td>женат / замужем</td>\n",
       "      <td>0</td>\n",
       "      <td>F</td>\n",
       "      <td>сотрудник</td>\n",
       "      <td>0</td>\n",
       "      <td>77069.234271</td>\n",
       "      <td>покупка коммерческой недвижимости</td>\n",
       "    </tr>\n",
       "    <tr>\n",
       "      <th>12</th>\n",
       "      <td>0</td>\n",
       "      <td>NaN</td>\n",
       "      <td>65</td>\n",
       "      <td>среднее</td>\n",
       "      <td>1</td>\n",
       "      <td>гражданский брак</td>\n",
       "      <td>1</td>\n",
       "      <td>M</td>\n",
       "      <td>пенсионер</td>\n",
       "      <td>0</td>\n",
       "      <td>NaN</td>\n",
       "      <td>сыграть свадьбу</td>\n",
       "    </tr>\n",
       "    <tr>\n",
       "      <th>13</th>\n",
       "      <td>0</td>\n",
       "      <td>-1846.641941</td>\n",
       "      <td>54</td>\n",
       "      <td>неоконченное высшее</td>\n",
       "      <td>2</td>\n",
       "      <td>женат / замужем</td>\n",
       "      <td>0</td>\n",
       "      <td>F</td>\n",
       "      <td>сотрудник</td>\n",
       "      <td>0</td>\n",
       "      <td>130458.228857</td>\n",
       "      <td>приобретение автомобиля</td>\n",
       "    </tr>\n",
       "    <tr>\n",
       "      <th>14</th>\n",
       "      <td>0</td>\n",
       "      <td>-1844.956182</td>\n",
       "      <td>56</td>\n",
       "      <td>высшее</td>\n",
       "      <td>0</td>\n",
       "      <td>гражданский брак</td>\n",
       "      <td>1</td>\n",
       "      <td>F</td>\n",
       "      <td>компаньон</td>\n",
       "      <td>1</td>\n",
       "      <td>165127.911772</td>\n",
       "      <td>покупка жилой недвижимости</td>\n",
       "    </tr>\n",
       "    <tr>\n",
       "      <th>15</th>\n",
       "      <td>1</td>\n",
       "      <td>-972.364419</td>\n",
       "      <td>26</td>\n",
       "      <td>среднее</td>\n",
       "      <td>1</td>\n",
       "      <td>женат / замужем</td>\n",
       "      <td>0</td>\n",
       "      <td>F</td>\n",
       "      <td>сотрудник</td>\n",
       "      <td>0</td>\n",
       "      <td>116820.904450</td>\n",
       "      <td>строительство собственной недвижимости</td>\n",
       "    </tr>\n",
       "    <tr>\n",
       "      <th>16</th>\n",
       "      <td>0</td>\n",
       "      <td>-1719.934226</td>\n",
       "      <td>35</td>\n",
       "      <td>среднее</td>\n",
       "      <td>1</td>\n",
       "      <td>женат / замужем</td>\n",
       "      <td>0</td>\n",
       "      <td>F</td>\n",
       "      <td>сотрудник</td>\n",
       "      <td>0</td>\n",
       "      <td>289202.704229</td>\n",
       "      <td>недвижимость</td>\n",
       "    </tr>\n",
       "    <tr>\n",
       "      <th>17</th>\n",
       "      <td>0</td>\n",
       "      <td>-2369.999720</td>\n",
       "      <td>33</td>\n",
       "      <td>высшее</td>\n",
       "      <td>0</td>\n",
       "      <td>гражданский брак</td>\n",
       "      <td>1</td>\n",
       "      <td>M</td>\n",
       "      <td>сотрудник</td>\n",
       "      <td>0</td>\n",
       "      <td>90410.586745</td>\n",
       "      <td>строительство недвижимости</td>\n",
       "    </tr>\n",
       "    <tr>\n",
       "      <th>18</th>\n",
       "      <td>0</td>\n",
       "      <td>400281.136913</td>\n",
       "      <td>53</td>\n",
       "      <td>среднее</td>\n",
       "      <td>1</td>\n",
       "      <td>вдовец / вдова</td>\n",
       "      <td>2</td>\n",
       "      <td>F</td>\n",
       "      <td>пенсионер</td>\n",
       "      <td>0</td>\n",
       "      <td>56823.777243</td>\n",
       "      <td>на покупку подержанного автомобиля</td>\n",
       "    </tr>\n",
       "    <tr>\n",
       "      <th>19</th>\n",
       "      <td>0</td>\n",
       "      <td>-10038.818549</td>\n",
       "      <td>48</td>\n",
       "      <td>СРЕДНЕЕ</td>\n",
       "      <td>1</td>\n",
       "      <td>в разводе</td>\n",
       "      <td>3</td>\n",
       "      <td>F</td>\n",
       "      <td>сотрудник</td>\n",
       "      <td>0</td>\n",
       "      <td>242831.107982</td>\n",
       "      <td>на покупку своего автомобиля</td>\n",
       "    </tr>\n",
       "  </tbody>\n",
       "</table>\n",
       "</div>"
      ],
      "text/plain": [
       "    children  days_employed  dob_years            education  education_id  \\\n",
       "0          1   -8437.673028         42               высшее             0   \n",
       "1          1   -4024.803754         36              среднее             1   \n",
       "2          0   -5623.422610         33              Среднее             1   \n",
       "3          3   -4124.747207         32              среднее             1   \n",
       "4          0  340266.072047         53              среднее             1   \n",
       "5          0    -926.185831         27               высшее             0   \n",
       "6          0   -2879.202052         43               высшее             0   \n",
       "7          0    -152.779569         50              СРЕДНЕЕ             1   \n",
       "8          2   -6929.865299         35               ВЫСШЕЕ             0   \n",
       "9          0   -2188.756445         41              среднее             1   \n",
       "10         2   -4171.483647         36               высшее             0   \n",
       "11         0    -792.701887         40              среднее             1   \n",
       "12         0            NaN         65              среднее             1   \n",
       "13         0   -1846.641941         54  неоконченное высшее             2   \n",
       "14         0   -1844.956182         56               высшее             0   \n",
       "15         1    -972.364419         26              среднее             1   \n",
       "16         0   -1719.934226         35              среднее             1   \n",
       "17         0   -2369.999720         33               высшее             0   \n",
       "18         0  400281.136913         53              среднее             1   \n",
       "19         0  -10038.818549         48              СРЕДНЕЕ             1   \n",
       "\n",
       "       family_status  family_status_id gender income_type  debt  \\\n",
       "0    женат / замужем                 0      F   сотрудник     0   \n",
       "1    женат / замужем                 0      F   сотрудник     0   \n",
       "2    женат / замужем                 0      M   сотрудник     0   \n",
       "3    женат / замужем                 0      M   сотрудник     0   \n",
       "4   гражданский брак                 1      F   пенсионер     0   \n",
       "5   гражданский брак                 1      M   компаньон     0   \n",
       "6    женат / замужем                 0      F   компаньон     0   \n",
       "7    женат / замужем                 0      M   сотрудник     0   \n",
       "8   гражданский брак                 1      F   сотрудник     0   \n",
       "9    женат / замужем                 0      M   сотрудник     0   \n",
       "10   женат / замужем                 0      M   компаньон     0   \n",
       "11   женат / замужем                 0      F   сотрудник     0   \n",
       "12  гражданский брак                 1      M   пенсионер     0   \n",
       "13   женат / замужем                 0      F   сотрудник     0   \n",
       "14  гражданский брак                 1      F   компаньон     1   \n",
       "15   женат / замужем                 0      F   сотрудник     0   \n",
       "16   женат / замужем                 0      F   сотрудник     0   \n",
       "17  гражданский брак                 1      M   сотрудник     0   \n",
       "18    вдовец / вдова                 2      F   пенсионер     0   \n",
       "19         в разводе                 3      F   сотрудник     0   \n",
       "\n",
       "     total_income                                 purpose  \n",
       "0   253875.639453                           покупка жилья  \n",
       "1   112080.014102                 приобретение автомобиля  \n",
       "2   145885.952297                           покупка жилья  \n",
       "3   267628.550329              дополнительное образование  \n",
       "4   158616.077870                         сыграть свадьбу  \n",
       "5   255763.565419                           покупка жилья  \n",
       "6   240525.971920                       операции с жильем  \n",
       "7   135823.934197                             образование  \n",
       "8    95856.832424                   на проведение свадьбы  \n",
       "9   144425.938277                 покупка жилья для семьи  \n",
       "10  113943.491460                    покупка недвижимости  \n",
       "11   77069.234271       покупка коммерческой недвижимости  \n",
       "12            NaN                         сыграть свадьбу  \n",
       "13  130458.228857                 приобретение автомобиля  \n",
       "14  165127.911772              покупка жилой недвижимости  \n",
       "15  116820.904450  строительство собственной недвижимости  \n",
       "16  289202.704229                            недвижимость  \n",
       "17   90410.586745              строительство недвижимости  \n",
       "18   56823.777243      на покупку подержанного автомобиля  \n",
       "19  242831.107982            на покупку своего автомобиля  "
      ]
     },
     "execution_count": 3,
     "metadata": {},
     "output_type": "execute_result"
    }
   ],
   "source": [
    "data.head(20)"
   ]
  },
  {
   "cell_type": "markdown",
   "id": "0ed8f27f",
   "metadata": {
    "deletable": false,
    "editable": false,
    "id": "0ed8f27f"
   },
   "source": [
    "**Задание 3. Выведите основную информацию о датафрейме с помощью метода `info()`.**"
   ]
  },
  {
   "cell_type": "code",
   "execution_count": 4,
   "id": "ab3f863b",
   "metadata": {
    "deletable": false,
    "id": "ab3f863b",
    "outputId": "15376089-8dad-46c9-b520-c05248d43158"
   },
   "outputs": [
    {
     "name": "stdout",
     "output_type": "stream",
     "text": [
      "<class 'pandas.core.frame.DataFrame'>\n",
      "RangeIndex: 21525 entries, 0 to 21524\n",
      "Data columns (total 12 columns):\n",
      " #   Column            Non-Null Count  Dtype  \n",
      "---  ------            --------------  -----  \n",
      " 0   children          21525 non-null  int64  \n",
      " 1   days_employed     19351 non-null  float64\n",
      " 2   dob_years         21525 non-null  int64  \n",
      " 3   education         21525 non-null  object \n",
      " 4   education_id      21525 non-null  int64  \n",
      " 5   family_status     21525 non-null  object \n",
      " 6   family_status_id  21525 non-null  int64  \n",
      " 7   gender            21525 non-null  object \n",
      " 8   income_type       21525 non-null  object \n",
      " 9   debt              21525 non-null  int64  \n",
      " 10  total_income      19351 non-null  float64\n",
      " 11  purpose           21525 non-null  object \n",
      "dtypes: float64(2), int64(5), object(5)\n",
      "memory usage: 2.0+ MB\n"
     ]
    }
   ],
   "source": [
    "data.info()"
   ]
  },
  {
   "cell_type": "markdown",
   "id": "60e3e22d",
   "metadata": {
    "deletable": false,
    "editable": false,
    "id": "60e3e22d"
   },
   "source": [
    "## Предобработка данных"
   ]
  },
  {
   "cell_type": "markdown",
   "id": "03dc170c",
   "metadata": {
    "deletable": false,
    "editable": false,
    "id": "03dc170c"
   },
   "source": [
    "### Удаление пропусков"
   ]
  },
  {
   "cell_type": "markdown",
   "id": "a4f54eef",
   "metadata": {
    "deletable": false,
    "editable": false,
    "id": "a4f54eef"
   },
   "source": [
    "**Задание 4. Выведите количество пропущенных значений для каждого столбца. Используйте комбинацию двух методов.**"
   ]
  },
  {
   "cell_type": "code",
   "execution_count": 5,
   "id": "2dc372b2",
   "metadata": {
    "deletable": false,
    "id": "2dc372b2",
    "outputId": "81f4d817-781c-465c-ed15-91ce4446810d"
   },
   "outputs": [
    {
     "data": {
      "text/plain": [
       "children               0\n",
       "days_employed       2174\n",
       "dob_years              0\n",
       "education              0\n",
       "education_id           0\n",
       "family_status          0\n",
       "family_status_id       0\n",
       "gender                 0\n",
       "income_type            0\n",
       "debt                   0\n",
       "total_income        2174\n",
       "purpose                0\n",
       "dtype: int64"
      ]
     },
     "execution_count": 5,
     "metadata": {},
     "output_type": "execute_result"
    }
   ],
   "source": [
    "data.isna().sum()"
   ]
  },
  {
   "cell_type": "markdown",
   "id": "14f011b1",
   "metadata": {
    "deletable": false,
    "editable": false,
    "id": "14f011b1"
   },
   "source": [
    "**Задание 5. В двух столбцах есть пропущенные значения. Один из них — `days_employed`. Пропуски в этом столбце вы обработаете на следующем этапе. Другой столбец с пропущенными значениями — `total_income` — хранит данные о доходах. На сумму дохода сильнее всего влияет тип занятости, поэтому заполнить пропуски в этом столбце нужно медианным значением по каждому типу из столбца `income_type`. Например, у человека с типом занятости `сотрудник` пропуск в столбце `total_income` должен быть заполнен медианным доходом среди всех записей с тем же типом.**"
   ]
  },
  {
   "cell_type": "code",
   "execution_count": 6,
   "id": "bdabfb6e",
   "metadata": {
    "deletable": false,
    "id": "bdabfb6e"
   },
   "outputs": [],
   "source": [
    "for t in data['income_type'].unique():\n",
    "    data.loc[(data['income_type'] == t) & (data['total_income'].isna()), 'total_income'] = \\\n",
    "    data.loc[(data['income_type'] == t), 'total_income'].median()"
   ]
  },
  {
   "cell_type": "markdown",
   "id": "5be34059",
   "metadata": {
    "deletable": false,
    "editable": false,
    "id": "5be34059"
   },
   "source": [
    "### Обработка аномальных значений"
   ]
  },
  {
   "cell_type": "markdown",
   "id": "a87606cb",
   "metadata": {
    "deletable": false,
    "editable": false,
    "id": "a87606cb"
   },
   "source": [
    "**Задание 6. В данных могут встречаться артефакты (аномалии) — значения, которые не отражают действительность и появились по какой-то ошибке. таким артефактом будет отрицательное количество дней трудового стажа в столбце `days_employed`. Для реальных данных это нормально. Обработайте значения в этом столбце: замените все отрицательные значения положительными с помощью метода `abs()`.**"
   ]
  },
  {
   "cell_type": "code",
   "execution_count": 7,
   "id": "020c46cc",
   "metadata": {
    "deletable": false,
    "id": "020c46cc"
   },
   "outputs": [],
   "source": [
    "data['days_employed'] = data['days_employed'].abs()"
   ]
  },
  {
   "cell_type": "markdown",
   "id": "45538a3a",
   "metadata": {
    "deletable": false,
    "editable": false,
    "id": "45538a3a"
   },
   "source": [
    "**Задание 7. Для каждого типа занятости выведите медианное значение трудового стажа `days_employed` в днях.**"
   ]
  },
  {
   "cell_type": "code",
   "execution_count": 8,
   "id": "cd3e6328",
   "metadata": {
    "deletable": false,
    "id": "cd3e6328",
    "outputId": "801ef80e-522b-4668-f34e-565af7432bcf"
   },
   "outputs": [
    {
     "data": {
      "text/plain": [
       "income_type\n",
       "безработный        366413.652744\n",
       "в декрете            3296.759962\n",
       "госслужащий          2689.368353\n",
       "компаньон            1547.382223\n",
       "пенсионер          365213.306266\n",
       "предприниматель       520.848083\n",
       "сотрудник            1574.202821\n",
       "студент               578.751554\n",
       "Name: days_employed, dtype: float64"
      ]
     },
     "execution_count": 8,
     "metadata": {},
     "output_type": "execute_result"
    }
   ],
   "source": [
    "data.groupby('income_type')['days_employed'].agg('median')"
   ]
  },
  {
   "cell_type": "markdown",
   "id": "90c5f058",
   "metadata": {
    "deletable": false,
    "editable": false,
    "id": "90c5f058"
   },
   "source": [
    "У двух типов (безработные и пенсионеры) получатся аномально большие значения. Исправить такие значения сложно, поэтому оставьте их как есть."
   ]
  },
  {
   "cell_type": "markdown",
   "id": "9652e50d",
   "metadata": {
    "deletable": false,
    "editable": false,
    "id": "9652e50d"
   },
   "source": [
    "**Задание 8. Выведите перечень уникальных значений столбца `children`.**"
   ]
  },
  {
   "cell_type": "code",
   "execution_count": 9,
   "id": "dbb37b8e",
   "metadata": {
    "deletable": false,
    "id": "dbb37b8e",
    "outputId": "6975b15c-7f95-4697-d16d-a0c79b657b03"
   },
   "outputs": [
    {
     "data": {
      "text/plain": [
       "array([ 1,  0,  3,  2, -1,  4, 20,  5])"
      ]
     },
     "execution_count": 9,
     "metadata": {},
     "output_type": "execute_result"
    }
   ],
   "source": [
    "data['children'].unique()"
   ]
  },
  {
   "cell_type": "markdown",
   "id": "2b8b0715",
   "metadata": {
    "deletable": false,
    "editable": false,
    "id": "2b8b0715"
   },
   "source": [
    "**Задание 9. В столбце `children` есть два аномальных значения. Удалите строки, в которых встречаются такие аномальные значения из датафрейма `data`.**"
   ]
  },
  {
   "cell_type": "code",
   "execution_count": 10,
   "id": "20009df8",
   "metadata": {
    "deletable": false,
    "id": "20009df8"
   },
   "outputs": [],
   "source": [
    "data = data[(data['children'] != -1) & (data['children'] != 20)]"
   ]
  },
  {
   "cell_type": "markdown",
   "id": "8c6ac9f1",
   "metadata": {
    "deletable": false,
    "editable": false,
    "id": "8c6ac9f1"
   },
   "source": [
    "**Задание 10. Ещё раз выведите перечень уникальных значений столбца `children`, чтобы убедиться, что артефакты удалены.**"
   ]
  },
  {
   "cell_type": "code",
   "execution_count": 11,
   "id": "07337b81",
   "metadata": {
    "deletable": false,
    "id": "07337b81",
    "outputId": "b2097101-d49d-44d9-901b-32a65c9463d1"
   },
   "outputs": [
    {
     "data": {
      "text/plain": [
       "array([1, 0, 3, 2, 4, 5])"
      ]
     },
     "execution_count": 11,
     "metadata": {},
     "output_type": "execute_result"
    }
   ],
   "source": [
    "data['children'].unique()"
   ]
  },
  {
   "cell_type": "markdown",
   "id": "ee3f52d4",
   "metadata": {
    "deletable": false,
    "editable": false,
    "id": "ee3f52d4"
   },
   "source": [
    "### Удаление пропусков (продолжение)"
   ]
  },
  {
   "cell_type": "markdown",
   "id": "a700b0e4",
   "metadata": {
    "deletable": false,
    "editable": false,
    "id": "a700b0e4"
   },
   "source": [
    "**Задание 11. Заполните пропуски в столбце `days_employed` медианными значениями по каждого типа занятости `income_type`.**"
   ]
  },
  {
   "cell_type": "code",
   "execution_count": 12,
   "id": "61946b83",
   "metadata": {
    "deletable": false,
    "id": "61946b83"
   },
   "outputs": [],
   "source": [
    "for t in data['income_type'].unique():\n",
    "    data.loc[(data['income_type'] == t) & (data['days_employed'].isna()), 'days_employed'] = \\\n",
    "    data.loc[(data['income_type'] == t), 'days_employed'].median()"
   ]
  },
  {
   "cell_type": "markdown",
   "id": "550dcd9b",
   "metadata": {
    "deletable": false,
    "editable": false,
    "id": "550dcd9b"
   },
   "source": [
    "**Задание 12. Убедитесь, что все пропуски заполнены. Проверьте себя и ещё раз выведите количество пропущенных значений для каждого столбца с помощью двух методов.**"
   ]
  },
  {
   "cell_type": "code",
   "execution_count": 13,
   "id": "937c7014",
   "metadata": {
    "deletable": false,
    "id": "937c7014",
    "outputId": "8da1e4e1-358e-4e87-98c9-f261bce0a7b2"
   },
   "outputs": [
    {
     "data": {
      "text/plain": [
       "children            0\n",
       "days_employed       0\n",
       "dob_years           0\n",
       "education           0\n",
       "education_id        0\n",
       "family_status       0\n",
       "family_status_id    0\n",
       "gender              0\n",
       "income_type         0\n",
       "debt                0\n",
       "total_income        0\n",
       "purpose             0\n",
       "dtype: int64"
      ]
     },
     "execution_count": 13,
     "metadata": {},
     "output_type": "execute_result"
    }
   ],
   "source": [
    "data.isna().sum()"
   ]
  },
  {
   "cell_type": "markdown",
   "id": "d522e295",
   "metadata": {
    "deletable": false,
    "editable": false,
    "id": "d522e295"
   },
   "source": [
    "### Изменение типов данных"
   ]
  },
  {
   "cell_type": "markdown",
   "id": "c229c581",
   "metadata": {
    "deletable": false,
    "editable": false,
    "id": "c229c581"
   },
   "source": [
    "**Задание 13. Замените вещественный тип данных в столбце `total_income` на целочисленный с помощью метода `astype()`.**"
   ]
  },
  {
   "cell_type": "code",
   "execution_count": 14,
   "id": "31036462",
   "metadata": {
    "deletable": false,
    "id": "31036462"
   },
   "outputs": [],
   "source": [
    "data['total_income'] = data['total_income'].astype(int)"
   ]
  },
  {
   "cell_type": "markdown",
   "id": "b8e3d1d9",
   "metadata": {
    "deletable": false,
    "editable": false,
    "id": "b8e3d1d9"
   },
   "source": [
    "### Обработка дубликатов"
   ]
  },
  {
   "cell_type": "markdown",
   "id": "9be53c49",
   "metadata": {
    "deletable": false,
    "editable": false,
    "id": "9be53c49"
   },
   "source": [
    "**Задание 14. Обработайте неявные дубликаты в столбце `education`. В этом столбце есть одни и те же значения, но записанные по-разному: с использованием заглавных и строчных букв. Приведите их к нижнему регистру.**"
   ]
  },
  {
   "cell_type": "code",
   "execution_count": 15,
   "id": "d89e73e1",
   "metadata": {
    "deletable": false,
    "id": "d89e73e1"
   },
   "outputs": [],
   "source": [
    "data['education'] = data['education'].str.lower()"
   ]
  },
  {
   "cell_type": "markdown",
   "id": "01d4500e",
   "metadata": {
    "deletable": false,
    "editable": false,
    "id": "01d4500e"
   },
   "source": [
    "**Задание 15. Выведите на экран количество строк-дубликатов в данных. Если такие строки присутствуют, удалите их.**"
   ]
  },
  {
   "cell_type": "code",
   "execution_count": 16,
   "id": "e10efb23",
   "metadata": {
    "deletable": false,
    "id": "e10efb23",
    "outputId": "9684deba-1934-42d1-99e1-cda61740f822"
   },
   "outputs": [
    {
     "data": {
      "text/plain": [
       "71"
      ]
     },
     "execution_count": 16,
     "metadata": {},
     "output_type": "execute_result"
    }
   ],
   "source": [
    "data.duplicated().sum()"
   ]
  },
  {
   "cell_type": "code",
   "execution_count": 43,
   "id": "df853f20",
   "metadata": {
    "deletable": false,
    "id": "df853f20"
   },
   "outputs": [],
   "source": [
    "data = data.drop_duplicates()"
   ]
  },
  {
   "cell_type": "markdown",
   "id": "627be38f",
   "metadata": {
    "deletable": false,
    "editable": false,
    "id": "627be38f"
   },
   "source": [
    "### Категоризация данных"
   ]
  },
  {
   "cell_type": "markdown",
   "id": "4684c3e0",
   "metadata": {
    "deletable": false,
    "editable": false,
    "id": "4684c3e0"
   },
   "source": [
    "**Задание 16. На основании диапазонов, указанных ниже, создайте в датафрейме `data` столбец `total_income_category` с категориями:**\n",
    "\n",
    "- 0–30000 — `'E'`;\n",
    "- 30001–50000 — `'D'`;\n",
    "- 50001–200000 — `'C'`;\n",
    "- 200001–1000000 — `'B'`;\n",
    "- 1000001 и выше — `'A'`.\n",
    "\n",
    "\n",
    "**Например, кредитополучателю с доходом 25000 нужно назначить категорию `'E'`, а клиенту, получающему 235000, — `'B'`. Используйте собственную функцию с именем `categorize_income()` и метод `apply()`.**"
   ]
  },
  {
   "cell_type": "code",
   "execution_count": 18,
   "id": "78965238",
   "metadata": {
    "deletable": false,
    "id": "78965238"
   },
   "outputs": [],
   "source": [
    "def categorize_income(income):\n",
    "    try:\n",
    "        if 0 <= income <= 30000:\n",
    "            return 'E'\n",
    "        elif 30001 <= income <= 50000:\n",
    "            return 'D'\n",
    "        elif 50001 <= income <= 200000:\n",
    "            return 'C'\n",
    "        elif 200001 <= income <= 1000000:\n",
    "            return 'B'\n",
    "        elif income >= 1000001:\n",
    "            return 'A'\n",
    "    except:\n",
    "        pass"
   ]
  },
  {
   "cell_type": "code",
   "execution_count": 19,
   "id": "0980ada1",
   "metadata": {
    "deletable": false,
    "id": "0980ada1"
   },
   "outputs": [],
   "source": [
    "data['total_income_category'] = data['total_income'].apply(categorize_income)"
   ]
  },
  {
   "cell_type": "markdown",
   "id": "9917bba0",
   "metadata": {
    "deletable": false,
    "editable": false,
    "id": "9917bba0"
   },
   "source": [
    "**Задание 17. Выведите на экран перечень уникальных целей взятия кредита из столбца `purpose`.**"
   ]
  },
  {
   "cell_type": "code",
   "execution_count": 20,
   "id": "ee07b65e",
   "metadata": {
    "deletable": false,
    "id": "ee07b65e",
    "outputId": "673c12d9-7d7e-4ae0-9812-c622c89dd244"
   },
   "outputs": [
    {
     "data": {
      "text/plain": [
       "array(['покупка жилья', 'приобретение автомобиля',\n",
       "       'дополнительное образование', 'сыграть свадьбу',\n",
       "       'операции с жильем', 'образование', 'на проведение свадьбы',\n",
       "       'покупка жилья для семьи', 'покупка недвижимости',\n",
       "       'покупка коммерческой недвижимости', 'покупка жилой недвижимости',\n",
       "       'строительство собственной недвижимости', 'недвижимость',\n",
       "       'строительство недвижимости', 'на покупку подержанного автомобиля',\n",
       "       'на покупку своего автомобиля',\n",
       "       'операции с коммерческой недвижимостью',\n",
       "       'строительство жилой недвижимости', 'жилье',\n",
       "       'операции со своей недвижимостью', 'автомобили',\n",
       "       'заняться образованием', 'сделка с подержанным автомобилем',\n",
       "       'получение образования', 'автомобиль', 'свадьба',\n",
       "       'получение дополнительного образования', 'покупка своего жилья',\n",
       "       'операции с недвижимостью', 'получение высшего образования',\n",
       "       'свой автомобиль', 'сделка с автомобилем',\n",
       "       'профильное образование', 'высшее образование',\n",
       "       'покупка жилья для сдачи', 'на покупку автомобиля', 'ремонт жилью',\n",
       "       'заняться высшим образованием'], dtype=object)"
      ]
     },
     "execution_count": 20,
     "metadata": {},
     "output_type": "execute_result"
    }
   ],
   "source": [
    "data['purpose'].unique()"
   ]
  },
  {
   "cell_type": "markdown",
   "id": "52b79d56",
   "metadata": {
    "deletable": false,
    "editable": false,
    "id": "52b79d56"
   },
   "source": [
    "**Задание 18. Создайте функцию, которая на основании данных из столбца `purpose` сформирует новый столбец `purpose_category`, в который войдут следующие категории:**\n",
    "\n",
    "- `'операции с автомобилем'`,\n",
    "- `'операции с недвижимостью'`,\n",
    "- `'проведение свадьбы'`,\n",
    "- `'получение образования'`.\n",
    "\n",
    "**Например, если в столбце `purpose` находится подстрока `'на покупку автомобиля'`, то в столбце `purpose_category` должна появиться строка `'операции с автомобилем'`.**\n",
    "\n",
    "**Используйте собственную функцию с именем `categorize_purpose()` и метод `apply()`. Изучите данные в столбце `purpose` и определите, какие подстроки помогут вам правильно определить категорию.**"
   ]
  },
  {
   "cell_type": "code",
   "execution_count": 21,
   "id": "be41da5d",
   "metadata": {
    "deletable": false,
    "id": "be41da5d"
   },
   "outputs": [],
   "source": [
    "def categorize_purpose(row):\n",
    "    try:\n",
    "        if 'автом' in row:\n",
    "            return 'операции с автомобилем'\n",
    "        elif 'жил' in row or 'недвиж' in row:\n",
    "            return 'операции с недвижимостью'\n",
    "        elif 'свад' in row:\n",
    "            return 'проведение свадьбы'\n",
    "        elif 'образов' in row:\n",
    "            return 'получение образования'\n",
    "    except:\n",
    "        return 'нет категории'"
   ]
  },
  {
   "cell_type": "code",
   "execution_count": 22,
   "id": "94c4a19a",
   "metadata": {
    "deletable": false,
    "id": "94c4a19a"
   },
   "outputs": [],
   "source": [
    "data['purpose_category'] = data['purpose'].apply(categorize_purpose)"
   ]
  },
  {
   "cell_type": "markdown",
   "id": "3d596c34",
   "metadata": {
    "deletable": false,
    "editable": false,
    "id": "3d596c34"
   },
   "source": [
    "### Шаг 3. Исследуйте данные и ответьте на вопросы"
   ]
  },
  {
   "cell_type": "markdown",
   "id": "648db036",
   "metadata": {
    "deletable": false,
    "editable": false,
    "id": "648db036"
   },
   "source": [
    "#### 3.1 Есть ли зависимость между количеством детей и возвратом кредита в срок?"
   ]
  },
  {
   "cell_type": "markdown",
   "id": "ea4cc038",
   "metadata": {
    "deletable": false,
    "id": "7fcff25e"
   },
   "source": [
    "*Для исследования взаимосвязи между возвратом кредита и количеством детей, обратимся к столбцу debt - он отражает наличие задолженности у клиента по кредитам. Где 1, - задолженности есть, 0 - их отсутствие. Сгруппируем клиентов по количеству детей и наличию\\отсутствию задолженностей.*"
   ]
  },
  {
   "cell_type": "code",
   "execution_count": 23,
   "id": "c4c12cda",
   "metadata": {},
   "outputs": [
    {
     "name": "stdout",
     "output_type": "stream",
     "text": [
      "children  debt\n",
      "0         0       13028\n",
      "          1        1063\n",
      "1         0        4364\n",
      "          1         444\n",
      "2         0        1858\n",
      "          1         194\n",
      "3         0         303\n",
      "          1          27\n",
      "4         0          37\n",
      "          1           4\n",
      "5         0           9\n",
      "Name: debt, dtype: int64\n"
     ]
    }
   ],
   "source": [
    "print(data.groupby('children')['debt'].value_counts())"
   ]
  },
  {
   "cell_type": "markdown",
   "id": "3b161f07",
   "metadata": {},
   "source": [
    "***Очевидно, что группы слишком разные по численности, поэтому сравнение их друг с другом не показательно. Мы будем использовать долю должников в каждой группе и сравним этот показатель.***"
   ]
  },
  {
   "cell_type": "markdown",
   "id": "d22507d3",
   "metadata": {},
   "source": [
    "\n",
    "*Теперь добавим сводную таблицу указав в ней количество клиентов в каждой группе, количество должников и долю должников в процентном соотношении.*"
   ]
  },
  {
   "cell_type": "code",
   "execution_count": 24,
   "id": "e80cc702",
   "metadata": {},
   "outputs": [
    {
     "name": "stdout",
     "output_type": "stream",
     "text": [
      "           debtors  presence_of_debts  total\n",
      "children                                    \n",
      "0         7.543822               1063  14091\n",
      "1         9.234609                444   4808\n",
      "2         9.454191                194   2052\n",
      "3         8.181818                 27    330\n",
      "4         9.756098                  4     41\n",
      "5         0.000000                  0      9\n"
     ]
    }
   ],
   "source": [
    "debt_grouped = data.pivot_table(index='children', values='debt', aggfunc=['mean', 'sum', 'count'])\n",
    "debt_grouped.columns = ['debtors','presence_of_debts', 'total']\n",
    "debt_grouped['debtors'] = debt_grouped['debtors']*100\n",
    "print(debt_grouped)"
   ]
  },
  {
   "cell_type": "markdown",
   "id": "2eb9088e",
   "metadata": {
    "deletable": false,
    "id": "2eb9088e"
   },
   "source": [
    "**Вывод:** "
   ]
  },
  {
   "cell_type": "markdown",
   "id": "ded43ce0",
   "metadata": {},
   "source": [
    "* Во всех группах более 90% клиентов не имеют задолженностей. Это говорит о том, что независимо от количества детей клиенты хорошо справляются с долговыми обязательствами.\n",
    "* Обратим внимание на группу с 5 детьми. Процент выплат самый высокий - 100%, но при этом самая малочисленная - 9 человек и такой выборки может быть недостаточно для окончательного вывода.\n",
    "* На втором месте по выплате кредитов идет группа без детей. Это может указывать на то, что люди без дополнительных финансовых обязательств лучше справляются с выплатами.\n",
    "* Прямой зависимости выплаты кредитов от количества детей полученные данные не показываютю Возмодно требуется более глуокий анализ для учета дополнительных факторов."
   ]
  },
  {
   "cell_type": "markdown",
   "id": "74c9b3a7",
   "metadata": {
    "deletable": false,
    "editable": false,
    "id": "74c9b3a7"
   },
   "source": [
    "#### 3.2 Есть ли зависимость между семейным положением и возвратом кредита в срок?"
   ]
  },
  {
   "cell_type": "markdown",
   "id": "1f89370a",
   "metadata": {
    "deletable": false,
    "id": "8098ab3b"
   },
   "source": [
    "*В таблице представлены 5 вариантов семейного положения:*\n",
    "* 0 - женат/замужем\n",
    "* 1 - гражданский брак\n",
    "* 2 - вдовец/вдова \n",
    "* 3 - в разводе \n",
    "* 4 - не женат/не замужем \n"
   ]
  },
  {
   "cell_type": "markdown",
   "id": "2bef9a20",
   "metadata": {},
   "source": [
    "*Сгруппируем клиентов по семеному положению и наличию\\отсутствию задолженностей.*"
   ]
  },
  {
   "cell_type": "code",
   "execution_count": 25,
   "id": "81c41f9b",
   "metadata": {},
   "outputs": [
    {
     "name": "stdout",
     "output_type": "stream",
     "text": [
      "family_status          debt\n",
      "Не женат / не замужем  0        2523\n",
      "                       1         273\n",
      "в разводе              0        1105\n",
      "                       1          84\n",
      "вдовец / вдова         0         888\n",
      "                       1          63\n",
      "гражданский брак       0        3749\n",
      "                       1         385\n",
      "женат / замужем        0       11334\n",
      "                       1         927\n",
      "Name: debt, dtype: int64\n"
     ]
    }
   ],
   "source": [
    "print(data.groupby('family_status')['debt'].value_counts())"
   ]
  },
  {
   "cell_type": "markdown",
   "id": "289e8eca",
   "metadata": {},
   "source": [
    "*Посчитаем количество клиентов в каждой группе*"
   ]
  },
  {
   "cell_type": "code",
   "execution_count": 26,
   "id": "4d44b882",
   "metadata": {},
   "outputs": [
    {
     "name": "stdout",
     "output_type": "stream",
     "text": [
      "           family_status   debt\n",
      "0  Не женат / не замужем   2796\n",
      "1              в разводе   1189\n",
      "2         вдовец / вдова    951\n",
      "3       гражданский брак   4134\n",
      "4        женат / замужем  12261\n"
     ]
    }
   ],
   "source": [
    "total = data.groupby('family_status').agg({'debt':'count'})\n",
    "total.reset_index(inplace=True)\n",
    "print(total)"
   ]
  },
  {
   "cell_type": "markdown",
   "id": "95bcb17b",
   "metadata": {},
   "source": [
    "*Для дальнейших рассчетов создадим новую таблицу в переменной debt_family_status_grouped на основании исходного датафрейма*"
   ]
  },
  {
   "cell_type": "code",
   "execution_count": 27,
   "id": "6642c676",
   "metadata": {},
   "outputs": [
    {
     "name": "stdout",
     "output_type": "stream",
     "text": [
      "                       no_debt  presence_of_debts\n",
      "family_status                                    \n",
      "Не женат / не замужем     2523                273\n",
      "в разводе                 1105                 84\n",
      "вдовец / вдова             888                 63\n",
      "гражданский брак          3749                385\n",
      "женат / замужем          11334                927\n"
     ]
    }
   ],
   "source": [
    "debt_family_status = data.pivot_table(index='family_status', columns='debt', aggfunc={'debt': 'count'})\n",
    "debt_family_status.columns = ['no_debt', 'presence_of_debts']\n",
    "print(debt_family_status)"
   ]
  },
  {
   "cell_type": "markdown",
   "id": "8068209a",
   "metadata": {},
   "source": [
    "*Теперь объединим данные с общим количеством клиентов из переменной total и переменной debt_family_status для получения общей информации по каждой категории*"
   ]
  },
  {
   "cell_type": "code",
   "execution_count": 28,
   "id": "40c35e16",
   "metadata": {},
   "outputs": [
    {
     "name": "stdout",
     "output_type": "stream",
     "text": [
      "           family_status  no_debt  presence_of_debts  total\n",
      "0  Не женат / не замужем     2523                273   2796\n",
      "1              в разводе     1105                 84   1189\n",
      "2         вдовец / вдова      888                 63    951\n",
      "3       гражданский брак     3749                385   4134\n",
      "4        женат / замужем    11334                927  12261\n"
     ]
    }
   ],
   "source": [
    "debt_family_status_grouped = pd.merge(debt_family_status, total, on='family_status')\n",
    "debt_family_status_grouped.columns = ['family_status', 'no_debt', 'presence_of_debts', 'total']\n",
    "print(debt_family_status_grouped)"
   ]
  },
  {
   "cell_type": "markdown",
   "id": "b15cda0b",
   "metadata": {},
   "source": [
    "***Больше всего выдано кредитов клиентам с семейным положением \"женат|замужем\". А следом за ними по количеству клиентов идет семейное положение \"гражданский брак\". Предварительно можно сделать вывод что те, кто состоят в отношениях задумываются об улучшении своих жизненных условий, что приводит к потребности в дополнительных финансах.*** "
   ]
  },
  {
   "cell_type": "markdown",
   "id": "f40b4da8",
   "metadata": {},
   "source": [
    "*Теперь посмотрим процент должников по каждой группе. Для этого добавим в таблицу новый столбец debtors.*"
   ]
  },
  {
   "cell_type": "code",
   "execution_count": 29,
   "id": "e252bcfc",
   "metadata": {},
   "outputs": [
    {
     "name": "stdout",
     "output_type": "stream",
     "text": [
      "           family_status  no_debt  presence_of_debts  total   debtors\n",
      "0  Не женат / не замужем     2523                273   2796  9.763948\n",
      "1              в разводе     1105                 84   1189  7.064760\n",
      "2         вдовец / вдова      888                 63    951  6.624606\n",
      "3       гражданский брак     3749                385   4134  9.313014\n",
      "4        женат / замужем    11334                927  12261  7.560558\n"
     ]
    }
   ],
   "source": [
    "debt_family_status_grouped['debtors'] = debt_family_status_grouped['presence_of_debts']/debt_family_status_grouped['total'] * 100\n",
    "print(debt_family_status_grouped)"
   ]
  },
  {
   "cell_type": "markdown",
   "id": "ac745b73",
   "metadata": {},
   "source": [
    "*Теперь добавим сводную debt_family_status_pivot таблицу указав в ней количество клиентов в каждой группе, количество должников и долю должников в процентном соотношении и отсортируем по уменьшению процента задолженности*"
   ]
  },
  {
   "cell_type": "code",
   "execution_count": 30,
   "id": "6fd07466",
   "metadata": {},
   "outputs": [
    {
     "name": "stdout",
     "output_type": "stream",
     "text": [
      "                        debtors  presence_of_debts  total\n",
      "family_status                                            \n",
      "Не женат / не замужем  9.763948                273   2796\n",
      "в разводе              7.064760                 84   1189\n",
      "вдовец / вдова         6.624606                 63    951\n",
      "гражданский брак       9.313014                385   4134\n",
      "женат / замужем        7.560558                927  12261\n"
     ]
    }
   ],
   "source": [
    "debt_family_status_pivot = data.pivot_table(index='family_status', values='debt', aggfunc=['mean', 'sum', 'count'])\n",
    "debt_family_status_pivot.columns = ['debtors','presence_of_debts', 'total']\n",
    "debt_family_status_pivot['debtors'] = debt_family_status_pivot['debtors']*100\n",
    "print(debt_family_status_pivot)"
   ]
  },
  {
   "cell_type": "markdown",
   "id": "c389ca63",
   "metadata": {
    "deletable": false,
    "id": "c389ca63"
   },
   "source": [
    "**Вывод:** \n",
    "* Люди состоящие в зарегистрированных или не зарегистрированных отношениях берут кредиты намного чаще чем остальные группы.\n",
    "* Самый высокий процент возврата имеет группа со статусом 'вдова/вдовец'. Вероятно, что данная группа более возрастная и при этом финансово стабильная. \n",
    "* Исходя из полученных данных можно предположить, что люди которые не имели официальных отношений (группы \"гражданский брак\" , \"не женат/не замужем\") в меньшей степени финансово ответственны, так как имеют наименьший процент возврата. \n",
    "* Так как у всех групп показатель выплаты без задолженностей выше 90%, прямой взаимосвязи между семейным положением и возвратом кредита в срок данные не показывают. "
   ]
  },
  {
   "cell_type": "markdown",
   "id": "9529de68",
   "metadata": {
    "deletable": false,
    "editable": false,
    "id": "9529de68"
   },
   "source": [
    "#### 3.3 Есть ли зависимость между уровнем дохода и возвратом кредита в срок?"
   ]
  },
  {
   "cell_type": "markdown",
   "id": "482956ce",
   "metadata": {},
   "source": [
    "*Ранее мы присвоили каждому уровню дохода категорию и добавили ее в столбец total_income_category:*\n",
    "* 0–30000 — 'E';\n",
    "* 30001–50000 — 'D';\n",
    "* 50001–200000 — 'C';\n",
    "* 200001–1000000 — 'B';\n",
    "* 1000001 и выше — 'A'."
   ]
  },
  {
   "cell_type": "markdown",
   "id": "2def3235",
   "metadata": {
    "deletable": false,
    "id": "8787f44a"
   },
   "source": [
    "*Сгруппируем клиентов по семеному положению и наличию\\отсутствию задолженностей.*"
   ]
  },
  {
   "cell_type": "code",
   "execution_count": 31,
   "id": "6ca9b710",
   "metadata": {},
   "outputs": [
    {
     "name": "stdout",
     "output_type": "stream",
     "text": [
      "total_income_category  debt\n",
      "A                      0          23\n",
      "                       1           2\n",
      "B                      0        4660\n",
      "                       1         354\n",
      "C                      0       14568\n",
      "                       1        1353\n",
      "D                      0         328\n",
      "                       1          21\n",
      "E                      0          20\n",
      "                       1           2\n",
      "Name: debt, dtype: int64\n"
     ]
    }
   ],
   "source": [
    "print(data.groupby('total_income_category')['debt'].value_counts())"
   ]
  },
  {
   "cell_type": "markdown",
   "id": "643f4e0d",
   "metadata": {},
   "source": [
    "*Посмотрим количество клиентов в каждой группе*"
   ]
  },
  {
   "cell_type": "code",
   "execution_count": 32,
   "id": "255c5c60",
   "metadata": {},
   "outputs": [
    {
     "name": "stdout",
     "output_type": "stream",
     "text": [
      "  total_income_category   debt\n",
      "0                     A     25\n",
      "1                     B   5014\n",
      "2                     C  15921\n",
      "3                     D    349\n",
      "4                     E     22\n"
     ]
    }
   ],
   "source": [
    "total = data.groupby('total_income_category').agg({'debt':'count'})\n",
    "total.reset_index(inplace=True)\n",
    "print(total)"
   ]
  },
  {
   "cell_type": "markdown",
   "id": "e047cadb",
   "metadata": {},
   "source": [
    "*Теперь создадим таблицу в переменной debt_income, с которой будем работать в дальнейшем*"
   ]
  },
  {
   "cell_type": "code",
   "execution_count": 33,
   "id": "6bedcc34",
   "metadata": {},
   "outputs": [
    {
     "name": "stdout",
     "output_type": "stream",
     "text": [
      "                       no_debt  presence_of_debts\n",
      "total_income_category                            \n",
      "A                           23                  2\n",
      "B                         4660                354\n",
      "C                        14568               1353\n",
      "D                          328                 21\n",
      "E                           20                  2\n"
     ]
    }
   ],
   "source": [
    "debt_income = data.pivot_table(index='total_income_category', columns='debt', aggfunc={'debt': 'count'})\n",
    "debt_income.columns = ['no_debt', 'presence_of_debts']\n",
    "print(debt_income)"
   ]
  },
  {
   "cell_type": "code",
   "execution_count": 34,
   "id": "56d8a6d5",
   "metadata": {},
   "outputs": [
    {
     "name": "stdout",
     "output_type": "stream",
     "text": [
      "  total_income_category  no_debt  presence_of_debts  total\n",
      "0                     A       23                  2     25\n",
      "1                     B     4660                354   5014\n",
      "2                     C    14568               1353  15921\n",
      "3                     D      328                 21    349\n",
      "4                     E       20                  2     22\n"
     ]
    }
   ],
   "source": [
    "debt_income_grouped = pd.merge(debt_income, total, on='total_income_category')\n",
    "debt_income_grouped.columns = ['total_income_category','no_debt', 'presence_of_debts','total']\n",
    "print(debt_income_grouped)"
   ]
  },
  {
   "cell_type": "markdown",
   "id": "2538e2fe",
   "metadata": {},
   "source": [
    "***Чаще всего, обращаются за кредитом категория C, клиенты с доходом от 50 001 до 200 000. Эта группа в 3 раза больше чем сумма клиентов остальных групп.***"
   ]
  },
  {
   "cell_type": "markdown",
   "id": "283515e0",
   "metadata": {},
   "source": [
    "*Отразим процент должеников по каждой группе. Для этого добавим в таблицу новый столбец debtors.*"
   ]
  },
  {
   "cell_type": "code",
   "execution_count": 35,
   "id": "4f818f42",
   "metadata": {},
   "outputs": [
    {
     "name": "stdout",
     "output_type": "stream",
     "text": [
      "  total_income_category  no_debt  presence_of_debts  total   debtors\n",
      "0                     A       23                  2     25  8.000000\n",
      "1                     B     4660                354   5014  7.060231\n",
      "2                     C    14568               1353  15921  8.498210\n",
      "3                     D      328                 21    349  6.017192\n",
      "4                     E       20                  2     22  9.090909\n"
     ]
    }
   ],
   "source": [
    "debt_income_grouped['debtors'] = debt_income_grouped['presence_of_debts']/(debt_income_grouped['total']) * 100\n",
    "print(debt_income_grouped)"
   ]
  },
  {
   "cell_type": "markdown",
   "id": "7d30dae9",
   "metadata": {},
   "source": [
    "*Теперь добавим сводную таблицу указав в ней количество клиентов в каждой группе, количество должников и долю должников в процентном соотношении. И отсортируем по уменьшению процента задолженности.*"
   ]
  },
  {
   "cell_type": "code",
   "execution_count": 36,
   "id": "8cd7ad02",
   "metadata": {},
   "outputs": [
    {
     "name": "stdout",
     "output_type": "stream",
     "text": [
      "                        debtors  presence_of_debts  total\n",
      "total_income_category                                    \n",
      "A                      8.000000                  2     25\n",
      "B                      7.060231                354   5014\n",
      "C                      8.498210               1353  15921\n",
      "D                      6.017192                 21    349\n",
      "E                      9.090909                  2     22\n"
     ]
    }
   ],
   "source": [
    "debt_income_grouped_pivot = data.pivot_table(index='total_income_category', values='debt', aggfunc=['mean', 'sum', 'count'])\n",
    "debt_income_grouped_pivot.columns = ['debtors','presence_of_debts', 'total']\n",
    "debt_income_grouped_pivot['debtors'] = debt_income_grouped_pivot['debtors']*100\n",
    "print(debt_income_grouped_pivot)"
   ]
  },
  {
   "cell_type": "markdown",
   "id": "64c853b9",
   "metadata": {
    "deletable": false,
    "id": "6dd14b57"
   },
   "source": [
    "**Вывод:** \n",
    "* Люди с категорией доходов С и В составляют 98% от общего числа заемщиков. Если сравнивать 2 эти группы процент возврата выше именно у категории С. Вероятно что люди имющие стабильный средний заработок внимателеней относятся к финансовым обязательствам нежели клиенты с заработком выше среднего. Это также подтверждает сравнение категории С и A, не смотря на самый высокий доход в категории А процент возврата выше все же у категории C.\n",
    "* Делая вывод о влиянии дохода на возврат кредита в срок, наиболее ответственными заемщиками будут люди со средним уровнем дохода."
   ]
  },
  {
   "cell_type": "markdown",
   "id": "1dcc9b12",
   "metadata": {
    "deletable": false,
    "editable": false,
    "id": "1dcc9b12"
   },
   "source": [
    "#### 3.4 Как разные цели кредита влияют на его возврат в срок?"
   ]
  },
  {
   "cell_type": "markdown",
   "id": "def29a7c",
   "metadata": {
    "deletable": false,
    "id": "c602bc8b"
   },
   "source": [
    "*Сгруппируем клиентов по целям кредита и наличию\\отсутствию задолженностей.*"
   ]
  },
  {
   "cell_type": "code",
   "execution_count": 37,
   "id": "a77f6793",
   "metadata": {},
   "outputs": [
    {
     "name": "stdout",
     "output_type": "stream",
     "text": [
      "purpose_category          debt\n",
      "операции с автомобилем    0       3879\n",
      "                          1        400\n",
      "операции с недвижимостью  0       9971\n",
      "                          1        780\n",
      "получение образования     0       3619\n",
      "                          1        369\n",
      "проведение свадьбы        0       2130\n",
      "                          1        183\n",
      "Name: debt, dtype: int64\n"
     ]
    }
   ],
   "source": [
    "print(data.groupby('purpose_category')['debt'].value_counts())"
   ]
  },
  {
   "cell_type": "markdown",
   "id": "3be7d131",
   "metadata": {},
   "source": [
    "*Посчитаем количество клиентов для каждой группы.*"
   ]
  },
  {
   "cell_type": "code",
   "execution_count": 38,
   "id": "c484acba",
   "metadata": {},
   "outputs": [
    {
     "name": "stdout",
     "output_type": "stream",
     "text": [
      "           purpose_category   debt\n",
      "0    операции с автомобилем   4279\n",
      "1  операции с недвижимостью  10751\n",
      "2     получение образования   3988\n",
      "3        проведение свадьбы   2313\n"
     ]
    }
   ],
   "source": [
    "total = data.groupby('purpose_category').agg({'debt':'count'})\n",
    "total.reset_index(inplace=True)\n",
    "print(total)"
   ]
  },
  {
   "cell_type": "markdown",
   "id": "f58ab21e",
   "metadata": {},
   "source": [
    "*Для дальнейших рассчетов создадим таблицу в переменной debt_purpose на основании исходного датафрейма.*"
   ]
  },
  {
   "cell_type": "code",
   "execution_count": 39,
   "id": "379e4563",
   "metadata": {},
   "outputs": [
    {
     "name": "stdout",
     "output_type": "stream",
     "text": [
      "                          no_debt  presence_of_debts\n",
      "purpose_category                                    \n",
      "операции с автомобилем       3879                400\n",
      "операции с недвижимостью     9971                780\n",
      "получение образования        3619                369\n",
      "проведение свадьбы           2130                183\n"
     ]
    }
   ],
   "source": [
    "debt_purpose = data.pivot_table(index='purpose_category', columns='debt', aggfunc={'debt': 'count'})\n",
    "debt_purpose.columns = ['no_debt', 'presence_of_debts']\n",
    "print(debt_purpose)"
   ]
  },
  {
   "cell_type": "markdown",
   "id": "9f896922",
   "metadata": {},
   "source": [
    "*Использую метод merge и свожу данные из 2х таблиц total и debt_purpose в новой переменной debt_purpose_grouped*"
   ]
  },
  {
   "cell_type": "code",
   "execution_count": 40,
   "id": "8e67e071",
   "metadata": {},
   "outputs": [
    {
     "name": "stdout",
     "output_type": "stream",
     "text": [
      "           purpose_category  no_debt  presence_of_debts  total\n",
      "0    операции с автомобилем     3879                400   4279\n",
      "1  операции с недвижимостью     9971                780  10751\n",
      "2     получение образования     3619                369   3988\n",
      "3        проведение свадьбы     2130                183   2313\n"
     ]
    }
   ],
   "source": [
    "debt_purpose_grouped = pd.merge(debt_purpose, total, on='purpose_category')\n",
    "debt_purpose_grouped.columns = ['purpose_category','no_debt', 'presence_of_debts','total']\n",
    "print(debt_purpose_grouped)"
   ]
  },
  {
   "cell_type": "markdown",
   "id": "5c29e936",
   "metadata": {},
   "source": [
    "*Теперь посмотрим процент должников по каждой группе. Для этого добавим в таблицу новый столбец debtors.*"
   ]
  },
  {
   "cell_type": "code",
   "execution_count": 41,
   "id": "1c7b10d9",
   "metadata": {},
   "outputs": [
    {
     "name": "stdout",
     "output_type": "stream",
     "text": [
      "           purpose_category  no_debt  presence_of_debts  total   debtors\n",
      "0    операции с автомобилем     3879                400   4279  9.347978\n",
      "1  операции с недвижимостью     9971                780  10751  7.255139\n",
      "2     получение образования     3619                369   3988  9.252758\n",
      "3        проведение свадьбы     2130                183   2313  7.911803\n"
     ]
    }
   ],
   "source": [
    "debt_purpose_grouped['debtors'] = debt_purpose_grouped['presence_of_debts']/debt_purpose_grouped['total'] * 100\n",
    "print(debt_purpose_grouped)"
   ]
  },
  {
   "cell_type": "markdown",
   "id": "7cd6e41f",
   "metadata": {},
   "source": [
    "*Упростим таблицу и оставим в ней только цель кредита, количество клиентов в группе, количество должников и процент должников, сохранив результат в новую таблицу debt_purpose_grouped_pivot и отсортируем в порядке уменьшения процента возврата кредита .*"
   ]
  },
  {
   "cell_type": "code",
   "execution_count": 42,
   "id": "c7bb4306",
   "metadata": {},
   "outputs": [
    {
     "name": "stdout",
     "output_type": "stream",
     "text": [
      "                           debtors  presence_of_debts  total\n",
      "purpose_category                                            \n",
      "операции с автомобилем    9.347978                400   4279\n",
      "операции с недвижимостью  7.255139                780  10751\n",
      "получение образования     9.252758                369   3988\n",
      "проведение свадьбы        7.911803                183   2313\n"
     ]
    }
   ],
   "source": [
    "debt_purpose_grouped_pivot = data.pivot_table(index='purpose_category', values='debt', aggfunc=['mean', 'sum', 'count'])\n",
    "debt_purpose_grouped_pivot.columns = ['debtors','presence_of_debts', 'total']\n",
    "debt_purpose_grouped_pivot['debtors'] = debt_purpose_grouped_pivot['debtors']*100\n",
    "print(debt_purpose_grouped_pivot)"
   ]
  },
  {
   "cell_type": "markdown",
   "id": "cf05ed63",
   "metadata": {
    "deletable": false,
    "id": "cf05ed63"
   },
   "source": [
    "**Вывод:**\n",
    "* Чаще всего клиенты обращаются за кредитом на операции с недвижимостью.\n",
    "* Реже всего требуется кредит на проведение свадьбы, но вместе с тем % возврата по данной категории самый высокий. Но и сумма кредита явно ниже чем на операции с недвижимостью.\n",
    "* В категории \"получение образования\" относительно предыдущих категорий более низкий процент. Возможно, это связано с тем, что после получения образования требуется время чтобы найти новую работу по специальности и погасить задолженность. \n",
    "* \"Операции с автомобилем\" в данной категории самый низкий процент возврата в срок."
   ]
  },
  {
   "cell_type": "markdown",
   "id": "46c1f10b",
   "metadata": {
    "deletable": false,
    "editable": false,
    "id": "46c1f10b"
   },
   "source": [
    "#### 3.5 Приведите возможные причины появления пропусков в исходных данных."
   ]
  },
  {
   "cell_type": "markdown",
   "id": "3697d2a9",
   "metadata": {
    "deletable": false,
    "id": "3697d2a9"
   },
   "source": [
    "*Ответ:* В изначальном отчете были пропуски в столбцах total_income и days_employed. В нашем случае предоставление справки о доходах  и трудовом стаже обязательный критерий одобрения кредита, поэтому высока вероятность именно технической ошибки при выгрузке данных или сбоем в банковской системе. \n",
    "На техничесую ошибку или сбой также указывают отрицательные значения в данных о трудовом стаже.\n",
    "Предложение что пропуски обусловлены отсуствием данных маловероятно, так как банк может запрашивать информацию о трудовом стаже и доходе напрямую из Пенсионного фонда даже если клиентом они поданы не были.\n"
   ]
  },
  {
   "cell_type": "markdown",
   "id": "3137d257",
   "metadata": {
    "deletable": false,
    "editable": false,
    "id": "3137d257"
   },
   "source": [
    "#### 3.6 Объясните, почему заполнить пропуски медианным значением — лучшее решение для количественных переменных."
   ]
  },
  {
   "cell_type": "markdown",
   "id": "cf40012a",
   "metadata": {
    "deletable": false,
    "id": "cf40012a"
   },
   "source": [
    "*Ответ:* \n",
    "* заполнение пропусков медианным значением позволяет более точно выявить средней показатель для всей выборки, если в ней присутствуют аномальные значения(слишком большие или слишком маленькие);\n",
    "* медианное значение легко вычисляется и позволяет быстро заполнить пропуски в данных.\n"
   ]
  },
  {
   "cell_type": "markdown",
   "id": "57bc304e",
   "metadata": {
    "deletable": false,
    "editable": false,
    "id": "57bc304e"
   },
   "source": [
    "### Шаг 4: общий вывод."
   ]
  },
  {
   "cell_type": "markdown",
   "id": "1ab75d1c",
   "metadata": {
    "deletable": false,
    "id": "1ab75d1c"
   },
   "source": [
    "Проведя оценку взаимосвязей отдельных факторов на возврат кредита в срок можно сказать, что этого недостаточно для нахождения закономернойстей. Стоит провести более глубокий анализ и учесть различные факторы для каждой группы клиентов. По некоторым группам выборка небольшая и возможно не дает полной картины. Исходя из полученных данных можно точно сказать что клиенты банка ответственно относятся к финансовым обязательствам вне зависимости от количества детей, целей кредита, семейного положения и дохода."
   ]
  },
  {
   "cell_type": "markdown",
   "id": "8ede007b",
   "metadata": {},
   "source": [
    "### Шаг 4: общий вывод.\n",
    "\n",
    "Перед непосредственным исследованием полученных данных, необходимо привести их к корректному виду - это ПРОЦЕСС ПРЕДОБРАБОТКИ данных. \n",
    "На этом этапе были выпонены следующие шаги:  \n",
    "* ***Удаление пропусков.*** Пропущенные значения присутствовали в данных о доходе и трудовом стаже. Для заполнения пропусков в информации, использовали средний показатель заработной платы и трудового стажа у клиентов с одним и тем же видом дохода, отразив медианное значение в пропущенных ячейках. \n",
    "* ***Обработка аномальных значений.*** Аномалии наблюдаются данных о трудовом стаже - присутствуют отрицательные значения, которые мы приводим к положительному значению - здесь явно техническая ошибка при выгрузке данных из системы. В данных о количестве детей мы также убрали из выборки клиентов у которых -1 и 20 детей, так как они выбиваются из общей выборки и по численности не значительны, что позволяет удалить информацию об этих клиентах без ущерба для итоговых выводов и оставить значения в данном столбце от 0 до 5.  \n",
    "* ***Изменение типов данных.*** На этом этапе были изменены значения дохода клиентов с вещественных на целочисленные, то есть убраны знаки после запятой для удобства расчетов и визуального восприятия.  \n",
    "* ***Обработка дубликатов.*** В столбце с информацие об образовании были замечены неявные дубликаты, то есть данные с одинаковым по смыслу значениями, но написанные разным регистром. Приведение этих показателей к общему написанию дает возможность проверить всю таблицу на предмет строк-дубликатов. Таким образом найдены 71 строка-дубликат и удалены из отчета.\n",
    "* ***Категоризация данных.*** Создали категории по уровню дохода клиентов и получены 5 групп:  \n",
    "1. 0–30000 — 'E'\n",
    "2. 30001–50000 — 'D'\n",
    "3. 50001–200000 — 'C' \n",
    "4. 200001–1000000 — 'B' \n",
    "5. 1000001 и выше — 'A'  \n",
    "\n",
    "Таким же образом создали категории исходя из целей кредита и получили 4 категории: \n",
    "1. операции с автомобилем\n",
    "2. операции с недвижимостью\n",
    "3. проведение свадьбы\n",
    "4. получение образования\n",
    "\n",
    "ИССЛЕДОВАТЕЛЬСКАЯ ЧАСТЬ. \n",
    "Задача которую нам необходимо решить: найти взаимосвязь между различными факторами и возвратом кредита в срок. Поэтому разбили исследование на несколько блоков рассматривая влияние каждого фактора в отдельности.\n",
    "* ***Влияние количества детей на возврат кредита в срок***. Стоит отметить, что выборка клиентов в группах очень разная, поэтому опираться стоит на процент должников в каждой группе:  \n",
    "1. Бездетные клиенты. Общая численность группы 14091 человек. Процент должников 7.5%\n",
    "2. 1 ребёнок. Общая численность группы 4808 человек. Процент должников 9.2%\n",
    "3. 2 ребёнка. Общая численность группы 2052 человек. Процент должников 9.4%\n",
    "4. 3 ребёнка. Общая численность группы 330 человек. Процент должников 8.1%\n",
    "5. 4 ребёнка. Общая численность группы 41 человек. Процент должников 9.7%\n",
    "6. 5 детей. Общая численность группы 9 человек. Процент должников 0%\n",
    "\n",
    "Во всех группах более 90% клиентов не имеют задолженностей. Это говорит о том, что независимо от количества детей клиенты хорошо справляются с долговыми обязательствами. Не смотря на то, что группа с 5 детьми имеет 0% должников, ее численность слишком мала, чтобы делать финальные выводы о наибольшей финансовой ответственности.  \n",
    "Группа без детей представленна в досточном объеме и позволяет сделать вывод в сравнении с остальными 4-ми группами, что люди без дополнительных финансовых обязательств лучше справляются с выплатами.\n",
    "\n",
    "* ***Влияние семейного положения на возврат кредита в срок.*** В данных для исследования вывили 5 групп с семейным положением:  \n",
    "1. женат/замужем. Численность группы 12261. Процент должников 7.5%.\n",
    "2. гражданский брак. Численность группы 4134. Процент должников 9.3%.\n",
    "3. не женат/не замужем. Численность группы 2796. Процент должников 9.7%.\n",
    "4. в разводе. Численность группы 1189. Процент должников 7%.\n",
    "5. вдова/вдовец. Численность группы 951. Процент должников 6.6%.\n",
    "\n",
    "Данные говорят, что люди состоящие в зарегистрированных или не зарегистрированных отношениях берут кредиты намного чаще чем остальные группы.\n",
    "Наименьший процент должникв в группе со статусом 'вдова/вдовец'. Вероятно, что данная группа более возрастная и при этом финансово стабильная. \n",
    "Исходя из полученных данных можно предположить, что люди которые не имели официальных отношений (группы \"гражданский брак\" , \"не женат/не замужем\") в меньшей степени финансово ответственны, так как имеют наименьший процент возврата. \n",
    "\n",
    "* ***Влияние уровня дохода на возврат кредита в срок.*** Для исследования данного фактора была проведена группировка клиентов по уровню дохода и получены 5 категорий:  \n",
    "1. A - доход от 1 000 001 и выше. Численность группы 25 человек. Процент должников 8%.\n",
    "2. B - доход от 200 001 до 1 000 000. Численность группы 5014 человек. Процент должников 7%.\n",
    "3. С - доход от 50001 до 200 000. Численность группы 15921 человек. Процент должников 8.4%.\n",
    "4. D - доход от 30 001 до 50 000. Численность группы 349 человек. Процент должников 6%.\n",
    "5. E - доход от 0 до 30 000. Численность группы 22 человека. Процент должников 9%.\n",
    "\n",
    "Люди с категорией доходов С и В (от 50 001 до 1 000 000) составляют 98% от общего числа заемщиков. Если сравнивать 2 эти группы процент возврата выше именно у категории с более низким доходом, то есть категории С. Это может указывать на то, что люди со средним заработком внимательней относятся к финансовым обязательствам, нежели клиенты с заработком выше среднего. Это также подтверждает сравнение категории С и A, не смотря на самый высокий доход в категории А процент возврата выше все же у категории C. Наиболее ответственными заемщиками будут люди со средним уровнем дохода. Отметим, что не смотря на 0% должников в группе с доходом E, выборка мала - от общего количества заемщиков составляет 0.1%.На такой объем данных не рекомендую опираться при составлении прогнозов.  \n",
    "\n",
    "* ***Влияние целей кредита на возврат в срок.*** Категоризировав все цели клиентов и объединив в группы мы получили следюущие данные:\n",
    "1. На операции с автомобилем, кредит взяли 4279 человек. Процент должников 9.3%\n",
    "2. На получение образования, кредит взяли 3988 человек. Процент должников 9.2%\n",
    "3. На операции с недвижимость, кредит взяли 10751 человек. Процент должников 7.2%\n",
    "4. На проведение свадьбы, кредит взяли 2313 человек. Процент должников 3.5%\n",
    "\n",
    "Исходя из объемов сформированных категорий по целям кредита можно увернно сказать, что наиболее частая цель кредита - недвижимость.Реже всего требуется кредит на проведение свадьбы, но вместе с тем % возврата по данной категории самый высокий. Но и сумма кредита явно ниже чем на операции с недвижимостью.  \n",
    "На втором месте у клиентов \"Операции с автомобилем\" в данной категории самый большой процент задолженностей. Стоит внимательней отнестись к этой категории клиентов и проанализировать с какой целью они берут кредит на автомобиль. Здесь возможно как приобретение автомобиля в качестве инструмента для работы или же смена авто для личного пользования. Вероятно, что именно цель операции с автомобилем будет влиять на погашения задолженности в срок.\n",
    "В категории \"получение образования\" также один из самых низких процентов возврата. Возможно, это связано с тем, что после получения образования требуется время на поиск работы по специальности для погашения долга.\n",
    "\n",
    "***ОБЩИЙ ВЫВОД.***\n",
    "Полученные данные свидетельствуют о том, что взаимосвязь между рассматриваемыми факторами и возвратами кредита в срок есть, но требует более углубленного изучения. Клиенты с более стабильным семейным положением и ответственным финансовым планированием, вероятно, будут более внимательны к выпонению своих обязательств. Однако, уровень дохода и количество зависимых также играют важную роль. Рекомендую продолжить исследование этих взаимосвязей, получив более детальную информацию о заемщаках, для формирования кредитной политики банка."
   ]
  }
 ],
 "metadata": {
  "ExecuteTimeLog": [
   {
    "duration": 70,
    "start_time": "2024-08-22T10:32:37.890Z"
   },
   {
    "duration": 6,
    "start_time": "2024-08-22T10:32:45.946Z"
   },
   {
    "duration": 526,
    "start_time": "2024-08-22T10:32:48.913Z"
   },
   {
    "duration": 24,
    "start_time": "2024-08-22T10:32:49.440Z"
   },
   {
    "duration": 24,
    "start_time": "2024-08-22T10:32:49.465Z"
   },
   {
    "duration": 32,
    "start_time": "2024-08-22T10:32:49.491Z"
   },
   {
    "duration": 44,
    "start_time": "2024-08-22T10:32:49.525Z"
   },
   {
    "duration": 3,
    "start_time": "2024-08-22T10:32:49.571Z"
   },
   {
    "duration": 23,
    "start_time": "2024-08-22T10:32:49.575Z"
   },
   {
    "duration": 20,
    "start_time": "2024-08-22T10:32:49.600Z"
   },
   {
    "duration": 26,
    "start_time": "2024-08-22T10:32:49.622Z"
   },
   {
    "duration": 28,
    "start_time": "2024-08-22T10:32:49.651Z"
   },
   {
    "duration": 76,
    "start_time": "2024-08-22T10:32:49.680Z"
   },
   {
    "duration": 10,
    "start_time": "2024-08-22T10:32:49.758Z"
   },
   {
    "duration": 24,
    "start_time": "2024-08-22T10:32:49.769Z"
   },
   {
    "duration": 34,
    "start_time": "2024-08-22T10:32:49.794Z"
   },
   {
    "duration": 56,
    "start_time": "2024-08-22T10:32:49.830Z"
   },
   {
    "duration": 18,
    "start_time": "2024-08-22T10:32:49.888Z"
   },
   {
    "duration": 6,
    "start_time": "2024-08-22T10:32:49.908Z"
   },
   {
    "duration": 27,
    "start_time": "2024-08-22T10:32:49.916Z"
   },
   {
    "duration": 24,
    "start_time": "2024-08-22T10:32:49.944Z"
   },
   {
    "duration": 18,
    "start_time": "2024-08-22T10:32:49.970Z"
   },
   {
    "duration": 36,
    "start_time": "2024-08-22T10:32:49.989Z"
   },
   {
    "duration": 56,
    "start_time": "2024-08-22T10:32:50.027Z"
   },
   {
    "duration": 0,
    "start_time": "2024-08-22T10:32:50.084Z"
   },
   {
    "duration": 0,
    "start_time": "2024-08-22T10:32:50.087Z"
   },
   {
    "duration": 0,
    "start_time": "2024-08-22T10:32:50.088Z"
   },
   {
    "duration": 8,
    "start_time": "2024-08-22T10:32:52.238Z"
   },
   {
    "duration": 14,
    "start_time": "2024-08-22T10:33:04.209Z"
   },
   {
    "duration": 20,
    "start_time": "2024-08-22T10:33:16.387Z"
   },
   {
    "duration": 7,
    "start_time": "2024-08-22T10:33:55.433Z"
   },
   {
    "duration": 7,
    "start_time": "2024-08-22T11:00:49.021Z"
   },
   {
    "duration": 6,
    "start_time": "2024-08-22T11:10:47.620Z"
   },
   {
    "duration": 4,
    "start_time": "2024-08-22T11:13:32.303Z"
   },
   {
    "duration": 5,
    "start_time": "2024-08-22T11:13:57.384Z"
   },
   {
    "duration": 4,
    "start_time": "2024-08-22T11:15:05.317Z"
   },
   {
    "duration": 10,
    "start_time": "2024-08-22T11:21:58.639Z"
   },
   {
    "duration": 12,
    "start_time": "2024-08-22T11:24:36.433Z"
   },
   {
    "duration": 8,
    "start_time": "2024-08-22T11:24:53.199Z"
   },
   {
    "duration": 7,
    "start_time": "2024-08-22T11:34:54.544Z"
   },
   {
    "duration": 6,
    "start_time": "2024-08-22T11:36:53.087Z"
   },
   {
    "duration": 7,
    "start_time": "2024-08-22T11:37:05.548Z"
   },
   {
    "duration": 7,
    "start_time": "2024-08-22T11:37:09.285Z"
   },
   {
    "duration": 6,
    "start_time": "2024-08-22T11:42:47.526Z"
   },
   {
    "duration": 50,
    "start_time": "2024-08-22T11:50:49.171Z"
   },
   {
    "duration": 9,
    "start_time": "2024-08-22T12:49:51.379Z"
   },
   {
    "duration": 8,
    "start_time": "2024-08-22T12:57:42.786Z"
   },
   {
    "duration": 12,
    "start_time": "2024-08-22T12:58:03.806Z"
   },
   {
    "duration": 7,
    "start_time": "2024-08-22T13:00:10.399Z"
   },
   {
    "duration": 8,
    "start_time": "2024-08-22T13:02:22.129Z"
   },
   {
    "duration": 7,
    "start_time": "2024-08-22T13:07:09.599Z"
   },
   {
    "duration": 7,
    "start_time": "2024-08-22T13:09:18.462Z"
   },
   {
    "duration": 7,
    "start_time": "2024-08-22T13:10:11.430Z"
   },
   {
    "duration": 82,
    "start_time": "2024-08-22T13:10:18.721Z"
   },
   {
    "duration": 16,
    "start_time": "2024-08-22T13:10:18.805Z"
   },
   {
    "duration": 31,
    "start_time": "2024-08-22T13:10:18.823Z"
   },
   {
    "duration": 21,
    "start_time": "2024-08-22T13:10:18.857Z"
   },
   {
    "duration": 62,
    "start_time": "2024-08-22T13:10:18.879Z"
   },
   {
    "duration": 4,
    "start_time": "2024-08-22T13:10:18.942Z"
   },
   {
    "duration": 26,
    "start_time": "2024-08-22T13:10:18.948Z"
   },
   {
    "duration": 17,
    "start_time": "2024-08-22T13:10:18.976Z"
   },
   {
    "duration": 9,
    "start_time": "2024-08-22T13:10:18.994Z"
   },
   {
    "duration": 20,
    "start_time": "2024-08-22T13:10:19.006Z"
   },
   {
    "duration": 71,
    "start_time": "2024-08-22T13:10:19.027Z"
   },
   {
    "duration": 10,
    "start_time": "2024-08-22T13:10:19.100Z"
   },
   {
    "duration": 23,
    "start_time": "2024-08-22T13:10:19.111Z"
   },
   {
    "duration": 25,
    "start_time": "2024-08-22T13:10:19.135Z"
   },
   {
    "duration": 23,
    "start_time": "2024-08-22T13:10:19.162Z"
   },
   {
    "duration": 22,
    "start_time": "2024-08-22T13:10:19.186Z"
   },
   {
    "duration": 6,
    "start_time": "2024-08-22T13:10:19.210Z"
   },
   {
    "duration": 30,
    "start_time": "2024-08-22T13:10:19.217Z"
   },
   {
    "duration": 20,
    "start_time": "2024-08-22T13:10:19.248Z"
   },
   {
    "duration": 22,
    "start_time": "2024-08-22T13:10:19.269Z"
   },
   {
    "duration": 14,
    "start_time": "2024-08-22T13:10:19.292Z"
   },
   {
    "duration": 22,
    "start_time": "2024-08-22T13:10:19.307Z"
   },
   {
    "duration": 19,
    "start_time": "2024-08-22T13:10:19.330Z"
   },
   {
    "duration": 21,
    "start_time": "2024-08-22T13:10:19.350Z"
   },
   {
    "duration": 37,
    "start_time": "2024-08-22T13:10:19.373Z"
   },
   {
    "duration": 31,
    "start_time": "2024-08-22T13:10:19.412Z"
   },
   {
    "duration": 21,
    "start_time": "2024-08-22T13:10:19.445Z"
   },
   {
    "duration": 27,
    "start_time": "2024-08-22T13:10:19.469Z"
   },
   {
    "duration": 45,
    "start_time": "2024-08-22T13:10:19.497Z"
   },
   {
    "duration": 17,
    "start_time": "2024-08-22T13:10:19.544Z"
   },
   {
    "duration": 7,
    "start_time": "2024-08-22T13:10:42.857Z"
   },
   {
    "duration": 9,
    "start_time": "2024-08-22T13:34:48.665Z"
   },
   {
    "duration": 5,
    "start_time": "2024-08-22T13:54:08.647Z"
   },
   {
    "duration": 58,
    "start_time": "2024-08-22T13:59:54.798Z"
   },
   {
    "duration": 8,
    "start_time": "2024-08-22T14:02:49.701Z"
   },
   {
    "duration": 7,
    "start_time": "2024-08-22T14:08:03.323Z"
   },
   {
    "duration": 52,
    "start_time": "2024-08-22T14:09:27.254Z"
   },
   {
    "duration": 7,
    "start_time": "2024-08-22T14:09:34.398Z"
   },
   {
    "duration": 7,
    "start_time": "2024-08-22T14:10:57.376Z"
   },
   {
    "duration": 47,
    "start_time": "2024-08-23T08:27:16.604Z"
   },
   {
    "duration": 7,
    "start_time": "2024-08-23T08:27:53.192Z"
   },
   {
    "duration": 568,
    "start_time": "2024-08-23T08:28:23.426Z"
   },
   {
    "duration": 21,
    "start_time": "2024-08-23T08:28:23.996Z"
   },
   {
    "duration": 16,
    "start_time": "2024-08-23T08:28:24.019Z"
   },
   {
    "duration": 10,
    "start_time": "2024-08-23T08:28:24.037Z"
   },
   {
    "duration": 39,
    "start_time": "2024-08-23T08:28:24.049Z"
   },
   {
    "duration": 3,
    "start_time": "2024-08-23T08:28:24.090Z"
   },
   {
    "duration": 25,
    "start_time": "2024-08-23T08:28:24.095Z"
   },
   {
    "duration": 5,
    "start_time": "2024-08-23T08:28:24.122Z"
   },
   {
    "duration": 21,
    "start_time": "2024-08-23T08:28:24.129Z"
   },
   {
    "duration": 6,
    "start_time": "2024-08-23T08:28:24.154Z"
   },
   {
    "duration": 67,
    "start_time": "2024-08-23T08:28:24.162Z"
   },
   {
    "duration": 17,
    "start_time": "2024-08-23T08:28:24.230Z"
   },
   {
    "duration": 8,
    "start_time": "2024-08-23T08:28:24.249Z"
   },
   {
    "duration": 13,
    "start_time": "2024-08-23T08:28:24.259Z"
   },
   {
    "duration": 32,
    "start_time": "2024-08-23T08:28:24.273Z"
   },
   {
    "duration": 18,
    "start_time": "2024-08-23T08:28:24.306Z"
   },
   {
    "duration": 4,
    "start_time": "2024-08-23T08:28:24.325Z"
   },
   {
    "duration": 23,
    "start_time": "2024-08-23T08:28:24.330Z"
   },
   {
    "duration": 9,
    "start_time": "2024-08-23T08:28:24.354Z"
   },
   {
    "duration": 5,
    "start_time": "2024-08-23T08:28:24.365Z"
   },
   {
    "duration": 14,
    "start_time": "2024-08-23T08:28:24.371Z"
   },
   {
    "duration": 7,
    "start_time": "2024-08-23T08:28:24.387Z"
   },
   {
    "duration": 7,
    "start_time": "2024-08-23T08:28:24.395Z"
   },
   {
    "duration": 7,
    "start_time": "2024-08-23T08:28:24.403Z"
   },
   {
    "duration": 37,
    "start_time": "2024-08-23T08:28:24.411Z"
   },
   {
    "duration": 13,
    "start_time": "2024-08-23T08:28:24.449Z"
   },
   {
    "duration": 16,
    "start_time": "2024-08-23T08:28:24.464Z"
   },
   {
    "duration": 6,
    "start_time": "2024-08-23T08:28:24.484Z"
   },
   {
    "duration": 13,
    "start_time": "2024-08-23T08:28:24.491Z"
   },
   {
    "duration": 6,
    "start_time": "2024-08-23T08:28:24.506Z"
   },
   {
    "duration": 9,
    "start_time": "2024-08-23T08:28:24.514Z"
   },
   {
    "duration": 9,
    "start_time": "2024-08-23T08:28:24.546Z"
   },
   {
    "duration": 15,
    "start_time": "2024-08-23T08:28:24.556Z"
   },
   {
    "duration": 10,
    "start_time": "2024-08-23T08:28:28.177Z"
   },
   {
    "duration": 8,
    "start_time": "2024-08-23T08:28:59.305Z"
   },
   {
    "duration": 7,
    "start_time": "2024-08-23T08:35:31.389Z"
   },
   {
    "duration": 67,
    "start_time": "2024-08-23T08:39:43.530Z"
   },
   {
    "duration": 1005,
    "start_time": "2024-08-23T08:41:52.556Z"
   },
   {
    "duration": 1024,
    "start_time": "2024-08-23T08:42:39.009Z"
   },
   {
    "duration": 1279,
    "start_time": "2024-08-23T08:43:08.412Z"
   },
   {
    "duration": 8,
    "start_time": "2024-08-23T08:43:13.236Z"
   },
   {
    "duration": 1078,
    "start_time": "2024-08-23T08:43:17.398Z"
   },
   {
    "duration": 9,
    "start_time": "2024-08-23T08:43:51.374Z"
   },
   {
    "duration": 7,
    "start_time": "2024-08-23T08:44:21.860Z"
   },
   {
    "duration": 4,
    "start_time": "2024-08-23T08:46:21.648Z"
   },
   {
    "duration": 7,
    "start_time": "2024-08-23T08:46:37.848Z"
   },
   {
    "duration": 8,
    "start_time": "2024-08-23T08:54:55.195Z"
   },
   {
    "duration": 5,
    "start_time": "2024-08-23T09:28:26.888Z"
   },
   {
    "duration": 6,
    "start_time": "2024-08-23T09:28:53.636Z"
   },
   {
    "duration": 6,
    "start_time": "2024-08-23T09:29:13.997Z"
   },
   {
    "duration": 7,
    "start_time": "2024-08-23T09:29:29.411Z"
   },
   {
    "duration": 8,
    "start_time": "2024-08-23T09:29:50.434Z"
   },
   {
    "duration": 6,
    "start_time": "2024-08-23T09:30:06.478Z"
   },
   {
    "duration": 7,
    "start_time": "2024-08-23T09:30:20.006Z"
   },
   {
    "duration": 7,
    "start_time": "2024-08-23T09:30:40.419Z"
   },
   {
    "duration": 7,
    "start_time": "2024-08-23T09:30:55.671Z"
   },
   {
    "duration": 8,
    "start_time": "2024-08-23T09:31:07.553Z"
   },
   {
    "duration": 6,
    "start_time": "2024-08-23T09:31:25.316Z"
   },
   {
    "duration": 7,
    "start_time": "2024-08-23T09:31:32.730Z"
   },
   {
    "duration": 7,
    "start_time": "2024-08-23T09:31:49.036Z"
   },
   {
    "duration": 75,
    "start_time": "2024-08-23T09:31:58.591Z"
   },
   {
    "duration": 15,
    "start_time": "2024-08-23T09:31:58.668Z"
   },
   {
    "duration": 16,
    "start_time": "2024-08-23T09:31:58.684Z"
   },
   {
    "duration": 10,
    "start_time": "2024-08-23T09:31:58.702Z"
   },
   {
    "duration": 62,
    "start_time": "2024-08-23T09:31:58.713Z"
   },
   {
    "duration": 4,
    "start_time": "2024-08-23T09:31:58.777Z"
   },
   {
    "duration": 44,
    "start_time": "2024-08-23T09:31:58.783Z"
   },
   {
    "duration": 6,
    "start_time": "2024-08-23T09:31:58.829Z"
   },
   {
    "duration": 16,
    "start_time": "2024-08-23T09:31:58.837Z"
   },
   {
    "duration": 5,
    "start_time": "2024-08-23T09:31:58.856Z"
   },
   {
    "duration": 36,
    "start_time": "2024-08-23T09:31:58.862Z"
   },
   {
    "duration": 10,
    "start_time": "2024-08-23T09:31:58.900Z"
   },
   {
    "duration": 53,
    "start_time": "2024-08-23T09:31:58.911Z"
   },
   {
    "duration": 12,
    "start_time": "2024-08-23T09:31:58.966Z"
   },
   {
    "duration": 18,
    "start_time": "2024-08-23T09:31:58.979Z"
   },
   {
    "duration": 18,
    "start_time": "2024-08-23T09:31:58.998Z"
   },
   {
    "duration": 4,
    "start_time": "2024-08-23T09:31:59.017Z"
   },
   {
    "duration": 16,
    "start_time": "2024-08-23T09:31:59.022Z"
   },
   {
    "duration": 16,
    "start_time": "2024-08-23T09:31:59.040Z"
   },
   {
    "duration": 4,
    "start_time": "2024-08-23T09:31:59.058Z"
   },
   {
    "duration": 15,
    "start_time": "2024-08-23T09:31:59.063Z"
   },
   {
    "duration": 11,
    "start_time": "2024-08-23T09:31:59.079Z"
   },
   {
    "duration": 6,
    "start_time": "2024-08-23T09:31:59.092Z"
   },
   {
    "duration": 12,
    "start_time": "2024-08-23T09:31:59.099Z"
   },
   {
    "duration": 24,
    "start_time": "2024-08-23T09:31:59.113Z"
   },
   {
    "duration": 12,
    "start_time": "2024-08-23T09:31:59.138Z"
   },
   {
    "duration": 15,
    "start_time": "2024-08-23T09:31:59.152Z"
   },
   {
    "duration": 12,
    "start_time": "2024-08-23T09:31:59.170Z"
   },
   {
    "duration": 28,
    "start_time": "2024-08-23T09:31:59.184Z"
   },
   {
    "duration": 7,
    "start_time": "2024-08-23T09:31:59.214Z"
   },
   {
    "duration": 7,
    "start_time": "2024-08-23T09:31:59.223Z"
   },
   {
    "duration": 34,
    "start_time": "2024-08-23T09:31:59.231Z"
   },
   {
    "duration": 36,
    "start_time": "2024-08-23T09:31:59.267Z"
   },
   {
    "duration": 17,
    "start_time": "2024-08-23T09:31:59.305Z"
   },
   {
    "duration": 15,
    "start_time": "2024-08-23T09:31:59.324Z"
   },
   {
    "duration": 14,
    "start_time": "2024-08-23T09:31:59.341Z"
   },
   {
    "duration": 8,
    "start_time": "2024-08-23T09:31:59.357Z"
   },
   {
    "duration": 7,
    "start_time": "2024-08-23T11:12:27.993Z"
   },
   {
    "duration": 80,
    "start_time": "2024-08-23T11:12:40.339Z"
   },
   {
    "duration": 27,
    "start_time": "2024-08-23T11:12:40.422Z"
   },
   {
    "duration": 32,
    "start_time": "2024-08-23T11:12:40.451Z"
   },
   {
    "duration": 16,
    "start_time": "2024-08-23T11:12:40.485Z"
   },
   {
    "duration": 92,
    "start_time": "2024-08-23T11:12:40.504Z"
   },
   {
    "duration": 5,
    "start_time": "2024-08-23T11:12:40.599Z"
   },
   {
    "duration": 21,
    "start_time": "2024-08-23T11:12:40.606Z"
   },
   {
    "duration": 19,
    "start_time": "2024-08-23T11:12:40.630Z"
   },
   {
    "duration": 16,
    "start_time": "2024-08-23T11:12:40.651Z"
   },
   {
    "duration": 6,
    "start_time": "2024-08-23T11:12:40.669Z"
   },
   {
    "duration": 73,
    "start_time": "2024-08-23T11:12:40.676Z"
   },
   {
    "duration": 12,
    "start_time": "2024-08-23T11:12:40.751Z"
   },
   {
    "duration": 3,
    "start_time": "2024-08-23T11:12:40.765Z"
   },
   {
    "duration": 24,
    "start_time": "2024-08-23T11:12:40.771Z"
   },
   {
    "duration": 50,
    "start_time": "2024-08-23T11:12:40.797Z"
   },
   {
    "duration": 19,
    "start_time": "2024-08-23T11:12:40.849Z"
   },
   {
    "duration": 4,
    "start_time": "2024-08-23T11:12:40.869Z"
   },
   {
    "duration": 17,
    "start_time": "2024-08-23T11:12:40.874Z"
   },
   {
    "duration": 6,
    "start_time": "2024-08-23T11:12:40.892Z"
   },
   {
    "duration": 46,
    "start_time": "2024-08-23T11:12:40.900Z"
   },
   {
    "duration": 13,
    "start_time": "2024-08-23T11:12:40.949Z"
   },
   {
    "duration": 10,
    "start_time": "2024-08-23T11:12:40.963Z"
   },
   {
    "duration": 7,
    "start_time": "2024-08-23T11:12:40.974Z"
   },
   {
    "duration": 21,
    "start_time": "2024-08-23T11:12:40.982Z"
   },
   {
    "duration": 59,
    "start_time": "2024-08-23T11:12:41.005Z"
   },
   {
    "duration": 19,
    "start_time": "2024-08-23T11:12:41.067Z"
   },
   {
    "duration": 10,
    "start_time": "2024-08-23T11:12:41.089Z"
   },
   {
    "duration": 22,
    "start_time": "2024-08-23T11:12:41.101Z"
   },
   {
    "duration": 13,
    "start_time": "2024-08-23T11:12:41.125Z"
   },
   {
    "duration": 28,
    "start_time": "2024-08-23T11:12:41.140Z"
   },
   {
    "duration": 16,
    "start_time": "2024-08-23T11:12:41.170Z"
   },
   {
    "duration": 23,
    "start_time": "2024-08-23T11:12:41.189Z"
   },
   {
    "duration": 11,
    "start_time": "2024-08-23T11:12:41.215Z"
   },
   {
    "duration": 28,
    "start_time": "2024-08-23T11:12:41.229Z"
   },
   {
    "duration": 7,
    "start_time": "2024-08-23T11:12:41.259Z"
   },
   {
    "duration": 69,
    "start_time": "2024-08-23T11:12:41.269Z"
   },
   {
    "duration": 27,
    "start_time": "2024-08-23T11:12:41.339Z"
   },
   {
    "duration": 14,
    "start_time": "2024-08-23T11:17:08.146Z"
   },
   {
    "duration": 75,
    "start_time": "2024-08-23T11:26:06.348Z"
   },
   {
    "duration": 108,
    "start_time": "2024-08-23T11:26:09.159Z"
   },
   {
    "duration": 26,
    "start_time": "2024-08-23T11:26:09.270Z"
   },
   {
    "duration": 101,
    "start_time": "2024-08-23T11:26:09.298Z"
   },
   {
    "duration": 19,
    "start_time": "2024-08-23T11:26:09.402Z"
   },
   {
    "duration": 61,
    "start_time": "2024-08-23T11:26:09.423Z"
   },
   {
    "duration": 5,
    "start_time": "2024-08-23T11:26:09.486Z"
   },
   {
    "duration": 17,
    "start_time": "2024-08-23T11:26:09.493Z"
   },
   {
    "duration": 6,
    "start_time": "2024-08-23T11:26:09.513Z"
   },
   {
    "duration": 31,
    "start_time": "2024-08-23T11:26:09.521Z"
   },
   {
    "duration": 7,
    "start_time": "2024-08-23T11:26:09.556Z"
   },
   {
    "duration": 58,
    "start_time": "2024-08-23T11:26:09.566Z"
   },
   {
    "duration": 35,
    "start_time": "2024-08-23T11:26:09.626Z"
   },
   {
    "duration": 20,
    "start_time": "2024-08-23T11:26:09.663Z"
   },
   {
    "duration": 26,
    "start_time": "2024-08-23T11:26:09.686Z"
   },
   {
    "duration": 42,
    "start_time": "2024-08-23T11:26:09.715Z"
   },
   {
    "duration": 27,
    "start_time": "2024-08-23T11:26:09.759Z"
   },
   {
    "duration": 5,
    "start_time": "2024-08-23T11:26:09.788Z"
   },
   {
    "duration": 20,
    "start_time": "2024-08-23T11:26:09.795Z"
   },
   {
    "duration": 34,
    "start_time": "2024-08-23T11:26:09.817Z"
   },
   {
    "duration": 10,
    "start_time": "2024-08-23T11:26:09.854Z"
   },
   {
    "duration": 22,
    "start_time": "2024-08-23T11:26:09.867Z"
   },
   {
    "duration": 23,
    "start_time": "2024-08-23T11:26:09.892Z"
   },
   {
    "duration": 17,
    "start_time": "2024-08-23T11:26:09.918Z"
   },
   {
    "duration": 14,
    "start_time": "2024-08-23T11:26:09.938Z"
   },
   {
    "duration": 90,
    "start_time": "2024-08-23T11:26:09.954Z"
   },
   {
    "duration": 0,
    "start_time": "2024-08-23T11:26:10.046Z"
   },
   {
    "duration": 0,
    "start_time": "2024-08-23T11:26:10.049Z"
   },
   {
    "duration": 0,
    "start_time": "2024-08-23T11:26:10.050Z"
   },
   {
    "duration": 0,
    "start_time": "2024-08-23T11:26:10.051Z"
   },
   {
    "duration": 0,
    "start_time": "2024-08-23T11:26:10.053Z"
   },
   {
    "duration": 0,
    "start_time": "2024-08-23T11:26:10.054Z"
   },
   {
    "duration": 0,
    "start_time": "2024-08-23T11:26:10.055Z"
   },
   {
    "duration": 0,
    "start_time": "2024-08-23T11:26:10.057Z"
   },
   {
    "duration": 0,
    "start_time": "2024-08-23T11:26:10.059Z"
   },
   {
    "duration": 0,
    "start_time": "2024-08-23T11:26:10.060Z"
   },
   {
    "duration": 0,
    "start_time": "2024-08-23T11:26:10.062Z"
   },
   {
    "duration": 0,
    "start_time": "2024-08-23T11:26:10.063Z"
   },
   {
    "duration": 0,
    "start_time": "2024-08-23T11:26:10.064Z"
   },
   {
    "duration": 10,
    "start_time": "2024-08-23T11:27:39.122Z"
   },
   {
    "duration": 9,
    "start_time": "2024-08-23T11:30:28.771Z"
   },
   {
    "duration": 7,
    "start_time": "2024-08-23T11:31:28.342Z"
   },
   {
    "duration": 11,
    "start_time": "2024-08-23T11:31:59.927Z"
   },
   {
    "duration": 9,
    "start_time": "2024-08-23T11:41:42.589Z"
   },
   {
    "duration": 8,
    "start_time": "2024-08-23T11:52:21.029Z"
   },
   {
    "duration": 7,
    "start_time": "2024-08-23T11:53:00.369Z"
   },
   {
    "duration": 8,
    "start_time": "2024-08-23T11:53:28.081Z"
   },
   {
    "duration": 75,
    "start_time": "2024-08-23T11:55:42.498Z"
   },
   {
    "duration": 9,
    "start_time": "2024-08-23T11:57:53.078Z"
   },
   {
    "duration": 8,
    "start_time": "2024-08-23T11:58:18.125Z"
   },
   {
    "duration": 5,
    "start_time": "2024-08-23T12:13:53.035Z"
   },
   {
    "duration": 7,
    "start_time": "2024-08-23T12:14:15.718Z"
   },
   {
    "duration": 533,
    "start_time": "2024-08-23T12:15:50.133Z"
   },
   {
    "duration": 568,
    "start_time": "2024-08-23T12:16:53.744Z"
   },
   {
    "duration": 583,
    "start_time": "2024-08-23T12:17:04.754Z"
   },
   {
    "duration": 7,
    "start_time": "2024-08-23T12:17:11.364Z"
   },
   {
    "duration": 535,
    "start_time": "2024-08-23T12:17:14.470Z"
   },
   {
    "duration": 73,
    "start_time": "2024-08-23T12:17:40.505Z"
   },
   {
    "duration": 13,
    "start_time": "2024-08-23T12:17:40.581Z"
   },
   {
    "duration": 23,
    "start_time": "2024-08-23T12:17:40.596Z"
   },
   {
    "duration": 27,
    "start_time": "2024-08-23T12:17:40.621Z"
   },
   {
    "duration": 34,
    "start_time": "2024-08-23T12:17:40.649Z"
   },
   {
    "duration": 4,
    "start_time": "2024-08-23T12:17:40.684Z"
   },
   {
    "duration": 12,
    "start_time": "2024-08-23T12:17:40.689Z"
   },
   {
    "duration": 25,
    "start_time": "2024-08-23T12:17:40.702Z"
   },
   {
    "duration": 9,
    "start_time": "2024-08-23T12:17:40.728Z"
   },
   {
    "duration": 14,
    "start_time": "2024-08-23T12:17:40.739Z"
   },
   {
    "duration": 44,
    "start_time": "2024-08-23T12:17:40.755Z"
   },
   {
    "duration": 11,
    "start_time": "2024-08-23T12:17:40.801Z"
   },
   {
    "duration": 4,
    "start_time": "2024-08-23T12:17:40.813Z"
   },
   {
    "duration": 19,
    "start_time": "2024-08-23T12:17:40.819Z"
   },
   {
    "duration": 19,
    "start_time": "2024-08-23T12:17:40.840Z"
   },
   {
    "duration": 17,
    "start_time": "2024-08-23T12:17:40.861Z"
   },
   {
    "duration": 29,
    "start_time": "2024-08-23T12:17:40.880Z"
   },
   {
    "duration": 32,
    "start_time": "2024-08-23T12:17:40.910Z"
   },
   {
    "duration": 14,
    "start_time": "2024-08-23T12:17:40.943Z"
   },
   {
    "duration": 9,
    "start_time": "2024-08-23T12:17:40.959Z"
   },
   {
    "duration": 14,
    "start_time": "2024-08-23T12:17:40.970Z"
   },
   {
    "duration": 29,
    "start_time": "2024-08-23T12:17:40.986Z"
   },
   {
    "duration": 15,
    "start_time": "2024-08-23T12:17:41.017Z"
   },
   {
    "duration": 12,
    "start_time": "2024-08-23T12:17:41.034Z"
   },
   {
    "duration": 36,
    "start_time": "2024-08-23T12:17:41.048Z"
   },
   {
    "duration": 27,
    "start_time": "2024-08-23T12:17:41.086Z"
   },
   {
    "duration": 21,
    "start_time": "2024-08-23T12:17:41.114Z"
   },
   {
    "duration": 10,
    "start_time": "2024-08-23T12:17:41.139Z"
   },
   {
    "duration": 84,
    "start_time": "2024-08-23T12:17:41.152Z"
   },
   {
    "duration": 28,
    "start_time": "2024-08-23T12:17:41.238Z"
   },
   {
    "duration": 8,
    "start_time": "2024-08-23T12:17:41.268Z"
   },
   {
    "duration": 19,
    "start_time": "2024-08-23T12:17:41.278Z"
   },
   {
    "duration": 8,
    "start_time": "2024-08-23T12:17:41.299Z"
   },
   {
    "duration": 593,
    "start_time": "2024-08-23T12:17:41.308Z"
   },
   {
    "duration": 0,
    "start_time": "2024-08-23T12:17:41.903Z"
   },
   {
    "duration": 0,
    "start_time": "2024-08-23T12:17:41.904Z"
   },
   {
    "duration": 0,
    "start_time": "2024-08-23T12:17:41.905Z"
   },
   {
    "duration": 0,
    "start_time": "2024-08-23T12:17:41.906Z"
   },
   {
    "duration": 8,
    "start_time": "2024-08-23T12:17:45.625Z"
   },
   {
    "duration": 14,
    "start_time": "2024-08-23T12:19:11.256Z"
   },
   {
    "duration": 10,
    "start_time": "2024-08-23T12:19:45.353Z"
   },
   {
    "duration": 7,
    "start_time": "2024-08-23T12:21:28.697Z"
   },
   {
    "duration": 10,
    "start_time": "2024-08-23T12:24:02.631Z"
   },
   {
    "duration": 3,
    "start_time": "2024-08-23T12:24:07.895Z"
   },
   {
    "duration": 90,
    "start_time": "2024-08-23T12:24:37.642Z"
   },
   {
    "duration": 12,
    "start_time": "2024-08-23T12:24:51.808Z"
   },
   {
    "duration": 7,
    "start_time": "2024-08-23T12:25:11.388Z"
   },
   {
    "duration": 7,
    "start_time": "2024-08-23T12:30:24.634Z"
   },
   {
    "duration": 7,
    "start_time": "2024-08-23T12:34:49.186Z"
   },
   {
    "duration": 7,
    "start_time": "2024-08-23T12:37:11.502Z"
   },
   {
    "duration": 7,
    "start_time": "2024-08-23T12:39:19.327Z"
   },
   {
    "duration": 554,
    "start_time": "2024-08-24T10:53:35.828Z"
   },
   {
    "duration": 22,
    "start_time": "2024-08-24T10:53:36.384Z"
   },
   {
    "duration": 15,
    "start_time": "2024-08-24T10:53:36.408Z"
   },
   {
    "duration": 10,
    "start_time": "2024-08-24T10:53:36.425Z"
   },
   {
    "duration": 43,
    "start_time": "2024-08-24T10:53:36.437Z"
   },
   {
    "duration": 5,
    "start_time": "2024-08-24T10:53:36.482Z"
   },
   {
    "duration": 12,
    "start_time": "2024-08-24T10:53:36.488Z"
   },
   {
    "duration": 5,
    "start_time": "2024-08-24T10:53:36.502Z"
   },
   {
    "duration": 34,
    "start_time": "2024-08-24T10:53:36.508Z"
   },
   {
    "duration": 18,
    "start_time": "2024-08-24T10:53:36.545Z"
   },
   {
    "duration": 40,
    "start_time": "2024-08-24T10:53:36.565Z"
   },
   {
    "duration": 9,
    "start_time": "2024-08-24T10:53:36.607Z"
   },
   {
    "duration": 3,
    "start_time": "2024-08-24T10:53:36.618Z"
   },
   {
    "duration": 31,
    "start_time": "2024-08-24T10:53:36.622Z"
   },
   {
    "duration": 121,
    "start_time": "2024-08-24T10:53:36.655Z"
   },
   {
    "duration": 17,
    "start_time": "2024-08-24T10:53:36.777Z"
   },
   {
    "duration": 4,
    "start_time": "2024-08-24T10:53:36.795Z"
   },
   {
    "duration": 19,
    "start_time": "2024-08-24T10:53:36.801Z"
   },
   {
    "duration": 5,
    "start_time": "2024-08-24T10:53:36.821Z"
   },
   {
    "duration": 21,
    "start_time": "2024-08-24T10:53:36.828Z"
   },
   {
    "duration": 11,
    "start_time": "2024-08-24T10:53:36.850Z"
   },
   {
    "duration": 6,
    "start_time": "2024-08-24T10:53:36.862Z"
   },
   {
    "duration": 93,
    "start_time": "2024-08-24T10:53:36.870Z"
   },
   {
    "duration": 10,
    "start_time": "2024-08-24T10:53:36.964Z"
   },
   {
    "duration": 84,
    "start_time": "2024-08-24T10:53:36.976Z"
   },
   {
    "duration": 7,
    "start_time": "2024-08-24T10:53:37.062Z"
   },
   {
    "duration": 12,
    "start_time": "2024-08-24T10:53:37.070Z"
   },
   {
    "duration": 5,
    "start_time": "2024-08-24T10:53:37.085Z"
   },
   {
    "duration": 13,
    "start_time": "2024-08-24T10:53:37.091Z"
   },
   {
    "duration": 16,
    "start_time": "2024-08-24T10:53:37.106Z"
   },
   {
    "duration": 8,
    "start_time": "2024-08-24T10:53:37.124Z"
   },
   {
    "duration": 9,
    "start_time": "2024-08-24T10:53:37.133Z"
   },
   {
    "duration": 5,
    "start_time": "2024-08-24T10:53:37.144Z"
   },
   {
    "duration": 9,
    "start_time": "2024-08-24T10:53:37.150Z"
   },
   {
    "duration": 27,
    "start_time": "2024-08-24T10:53:37.160Z"
   },
   {
    "duration": 15,
    "start_time": "2024-08-24T10:53:37.188Z"
   },
   {
    "duration": 9,
    "start_time": "2024-08-24T10:53:37.205Z"
   },
   {
    "duration": 5,
    "start_time": "2024-08-24T10:53:37.216Z"
   },
   {
    "duration": 13,
    "start_time": "2024-08-24T10:53:37.222Z"
   },
   {
    "duration": 7,
    "start_time": "2024-08-24T10:53:37.236Z"
   },
   {
    "duration": 18,
    "start_time": "2024-08-24T10:53:37.244Z"
   },
   {
    "duration": 74,
    "start_time": "2024-08-26T08:38:13.282Z"
   },
   {
    "duration": 47,
    "start_time": "2024-08-26T08:44:44.418Z"
   },
   {
    "duration": 595,
    "start_time": "2024-08-26T08:45:13.533Z"
   },
   {
    "duration": 32,
    "start_time": "2024-08-26T08:45:14.131Z"
   },
   {
    "duration": 20,
    "start_time": "2024-08-26T08:45:14.165Z"
   },
   {
    "duration": 11,
    "start_time": "2024-08-26T08:45:14.188Z"
   },
   {
    "duration": 58,
    "start_time": "2024-08-26T08:45:14.200Z"
   },
   {
    "duration": 4,
    "start_time": "2024-08-26T08:45:14.260Z"
   },
   {
    "duration": 11,
    "start_time": "2024-08-26T08:45:14.265Z"
   },
   {
    "duration": 5,
    "start_time": "2024-08-26T08:45:14.277Z"
   },
   {
    "duration": 17,
    "start_time": "2024-08-26T08:45:14.283Z"
   },
   {
    "duration": 7,
    "start_time": "2024-08-26T08:45:14.303Z"
   },
   {
    "duration": 60,
    "start_time": "2024-08-26T08:45:14.312Z"
   },
   {
    "duration": 12,
    "start_time": "2024-08-26T08:45:14.374Z"
   },
   {
    "duration": 20,
    "start_time": "2024-08-26T08:45:14.387Z"
   },
   {
    "duration": 19,
    "start_time": "2024-08-26T08:45:14.408Z"
   },
   {
    "duration": 47,
    "start_time": "2024-08-26T08:45:14.429Z"
   },
   {
    "duration": 20,
    "start_time": "2024-08-26T08:45:14.478Z"
   },
   {
    "duration": 4,
    "start_time": "2024-08-26T08:45:14.500Z"
   },
   {
    "duration": 17,
    "start_time": "2024-08-26T08:45:14.506Z"
   },
   {
    "duration": 23,
    "start_time": "2024-08-26T08:45:14.524Z"
   },
   {
    "duration": 3,
    "start_time": "2024-08-26T08:45:14.549Z"
   },
   {
    "duration": 12,
    "start_time": "2024-08-26T08:45:14.554Z"
   },
   {
    "duration": 7,
    "start_time": "2024-08-26T08:45:14.567Z"
   },
   {
    "duration": 7,
    "start_time": "2024-08-26T08:45:14.575Z"
   },
   {
    "duration": 19,
    "start_time": "2024-08-26T08:45:14.584Z"
   },
   {
    "duration": 8,
    "start_time": "2024-08-26T08:45:14.605Z"
   },
   {
    "duration": 35,
    "start_time": "2024-08-26T08:45:14.614Z"
   },
   {
    "duration": 16,
    "start_time": "2024-08-26T08:45:14.651Z"
   },
   {
    "duration": 21,
    "start_time": "2024-08-26T08:45:14.671Z"
   },
   {
    "duration": 6,
    "start_time": "2024-08-26T08:45:14.694Z"
   },
   {
    "duration": 19,
    "start_time": "2024-08-26T08:45:14.701Z"
   },
   {
    "duration": 20,
    "start_time": "2024-08-26T08:45:14.721Z"
   },
   {
    "duration": 8,
    "start_time": "2024-08-26T08:45:14.746Z"
   },
   {
    "duration": 18,
    "start_time": "2024-08-26T08:45:14.755Z"
   },
   {
    "duration": 16,
    "start_time": "2024-08-26T08:45:14.775Z"
   },
   {
    "duration": 10,
    "start_time": "2024-08-26T08:45:14.792Z"
   },
   {
    "duration": 28,
    "start_time": "2024-08-26T08:45:14.803Z"
   },
   {
    "duration": 16,
    "start_time": "2024-08-26T08:45:14.833Z"
   },
   {
    "duration": 23,
    "start_time": "2024-08-26T08:45:14.851Z"
   },
   {
    "duration": 10,
    "start_time": "2024-08-26T08:45:14.875Z"
   },
   {
    "duration": 13,
    "start_time": "2024-08-26T08:45:14.886Z"
   },
   {
    "duration": 30,
    "start_time": "2024-08-26T08:45:14.901Z"
   },
   {
    "duration": 19,
    "start_time": "2024-08-26T08:45:14.933Z"
   },
   {
    "duration": 14,
    "start_time": "2024-08-26T08:46:59.630Z"
   },
   {
    "duration": 10,
    "start_time": "2024-08-26T08:52:04.920Z"
   },
   {
    "duration": 79,
    "start_time": "2024-08-26T08:52:15.031Z"
   },
   {
    "duration": 16,
    "start_time": "2024-08-26T08:52:15.112Z"
   },
   {
    "duration": 88,
    "start_time": "2024-08-26T08:52:15.130Z"
   },
   {
    "duration": 29,
    "start_time": "2024-08-26T08:52:15.220Z"
   },
   {
    "duration": 85,
    "start_time": "2024-08-26T08:52:15.251Z"
   },
   {
    "duration": 4,
    "start_time": "2024-08-26T08:52:15.338Z"
   },
   {
    "duration": 15,
    "start_time": "2024-08-26T08:52:15.344Z"
   },
   {
    "duration": 16,
    "start_time": "2024-08-26T08:52:15.361Z"
   },
   {
    "duration": 5,
    "start_time": "2024-08-26T08:52:15.379Z"
   },
   {
    "duration": 31,
    "start_time": "2024-08-26T08:52:15.386Z"
   },
   {
    "duration": 49,
    "start_time": "2024-08-26T08:52:15.418Z"
   },
   {
    "duration": 10,
    "start_time": "2024-08-26T08:52:15.469Z"
   },
   {
    "duration": 13,
    "start_time": "2024-08-26T08:52:15.481Z"
   },
   {
    "duration": 35,
    "start_time": "2024-08-26T08:52:15.496Z"
   },
   {
    "duration": 32,
    "start_time": "2024-08-26T08:52:15.533Z"
   },
   {
    "duration": 18,
    "start_time": "2024-08-26T08:52:15.567Z"
   },
   {
    "duration": 11,
    "start_time": "2024-08-26T08:52:15.587Z"
   },
   {
    "duration": 44,
    "start_time": "2024-08-26T08:52:15.600Z"
   },
   {
    "duration": 9,
    "start_time": "2024-08-26T08:52:15.646Z"
   },
   {
    "duration": 12,
    "start_time": "2024-08-26T08:52:15.657Z"
   },
   {
    "duration": 32,
    "start_time": "2024-08-26T08:52:15.670Z"
   },
   {
    "duration": 11,
    "start_time": "2024-08-26T08:52:15.704Z"
   },
   {
    "duration": 7,
    "start_time": "2024-08-26T08:52:15.717Z"
   },
   {
    "duration": 17,
    "start_time": "2024-08-26T08:52:15.726Z"
   },
   {
    "duration": 14,
    "start_time": "2024-08-26T08:52:15.745Z"
   },
   {
    "duration": 58,
    "start_time": "2024-08-26T08:52:15.761Z"
   },
   {
    "duration": 0,
    "start_time": "2024-08-26T08:52:15.823Z"
   },
   {
    "duration": 0,
    "start_time": "2024-08-26T08:52:15.825Z"
   },
   {
    "duration": 0,
    "start_time": "2024-08-26T08:52:15.827Z"
   },
   {
    "duration": 0,
    "start_time": "2024-08-26T08:52:15.845Z"
   },
   {
    "duration": 0,
    "start_time": "2024-08-26T08:52:15.848Z"
   },
   {
    "duration": 0,
    "start_time": "2024-08-26T08:52:15.850Z"
   },
   {
    "duration": 0,
    "start_time": "2024-08-26T08:52:15.851Z"
   },
   {
    "duration": 0,
    "start_time": "2024-08-26T08:52:15.853Z"
   },
   {
    "duration": 0,
    "start_time": "2024-08-26T08:52:15.855Z"
   },
   {
    "duration": 0,
    "start_time": "2024-08-26T08:52:15.856Z"
   },
   {
    "duration": 0,
    "start_time": "2024-08-26T08:52:15.858Z"
   },
   {
    "duration": 0,
    "start_time": "2024-08-26T08:52:15.859Z"
   },
   {
    "duration": 0,
    "start_time": "2024-08-26T08:52:15.861Z"
   },
   {
    "duration": 0,
    "start_time": "2024-08-26T08:52:15.863Z"
   },
   {
    "duration": 0,
    "start_time": "2024-08-26T08:52:15.865Z"
   },
   {
    "duration": 0,
    "start_time": "2024-08-26T08:52:15.866Z"
   },
   {
    "duration": 89,
    "start_time": "2024-08-26T08:55:21.522Z"
   },
   {
    "duration": 10,
    "start_time": "2024-08-26T08:55:32.031Z"
   },
   {
    "duration": 15,
    "start_time": "2024-08-26T08:56:05.091Z"
   },
   {
    "duration": 7,
    "start_time": "2024-08-26T09:27:03.394Z"
   },
   {
    "duration": 5,
    "start_time": "2024-08-26T09:27:06.398Z"
   },
   {
    "duration": 8,
    "start_time": "2024-08-26T09:27:32.662Z"
   },
   {
    "duration": 9,
    "start_time": "2024-08-26T09:28:19.346Z"
   },
   {
    "duration": 80,
    "start_time": "2024-08-26T09:28:28.874Z"
   },
   {
    "duration": 16,
    "start_time": "2024-08-26T09:28:28.956Z"
   },
   {
    "duration": 22,
    "start_time": "2024-08-26T09:28:28.973Z"
   },
   {
    "duration": 11,
    "start_time": "2024-08-26T09:28:28.997Z"
   },
   {
    "duration": 54,
    "start_time": "2024-08-26T09:28:29.010Z"
   },
   {
    "duration": 4,
    "start_time": "2024-08-26T09:28:29.066Z"
   },
   {
    "duration": 27,
    "start_time": "2024-08-26T09:28:29.071Z"
   },
   {
    "duration": 5,
    "start_time": "2024-08-26T09:28:29.100Z"
   },
   {
    "duration": 9,
    "start_time": "2024-08-26T09:28:29.106Z"
   },
   {
    "duration": 12,
    "start_time": "2024-08-26T09:28:29.117Z"
   },
   {
    "duration": 42,
    "start_time": "2024-08-26T09:28:29.131Z"
   },
   {
    "duration": 11,
    "start_time": "2024-08-26T09:28:29.175Z"
   },
   {
    "duration": 13,
    "start_time": "2024-08-26T09:28:29.188Z"
   },
   {
    "duration": 20,
    "start_time": "2024-08-26T09:28:29.202Z"
   },
   {
    "duration": 23,
    "start_time": "2024-08-26T09:28:29.224Z"
   },
   {
    "duration": 18,
    "start_time": "2024-08-26T09:28:29.248Z"
   },
   {
    "duration": 5,
    "start_time": "2024-08-26T09:28:29.267Z"
   },
   {
    "duration": 16,
    "start_time": "2024-08-26T09:28:29.274Z"
   },
   {
    "duration": 8,
    "start_time": "2024-08-26T09:28:29.292Z"
   },
   {
    "duration": 5,
    "start_time": "2024-08-26T09:28:29.302Z"
   },
   {
    "duration": 44,
    "start_time": "2024-08-26T09:28:29.308Z"
   },
   {
    "duration": 21,
    "start_time": "2024-08-26T09:28:29.354Z"
   },
   {
    "duration": 7,
    "start_time": "2024-08-26T09:28:29.377Z"
   },
   {
    "duration": 29,
    "start_time": "2024-08-26T09:28:29.385Z"
   },
   {
    "duration": 0,
    "start_time": "2024-08-26T09:28:29.416Z"
   },
   {
    "duration": 0,
    "start_time": "2024-08-26T09:28:29.417Z"
   },
   {
    "duration": 0,
    "start_time": "2024-08-26T09:28:29.418Z"
   },
   {
    "duration": 0,
    "start_time": "2024-08-26T09:28:29.419Z"
   },
   {
    "duration": 0,
    "start_time": "2024-08-26T09:28:29.420Z"
   },
   {
    "duration": 0,
    "start_time": "2024-08-26T09:28:29.422Z"
   },
   {
    "duration": 0,
    "start_time": "2024-08-26T09:28:29.423Z"
   },
   {
    "duration": 0,
    "start_time": "2024-08-26T09:28:29.424Z"
   },
   {
    "duration": 0,
    "start_time": "2024-08-26T09:28:29.425Z"
   },
   {
    "duration": 0,
    "start_time": "2024-08-26T09:28:29.426Z"
   },
   {
    "duration": 0,
    "start_time": "2024-08-26T09:28:29.427Z"
   },
   {
    "duration": 0,
    "start_time": "2024-08-26T09:28:29.428Z"
   },
   {
    "duration": 0,
    "start_time": "2024-08-26T09:28:29.446Z"
   },
   {
    "duration": 0,
    "start_time": "2024-08-26T09:28:29.447Z"
   },
   {
    "duration": 0,
    "start_time": "2024-08-26T09:28:29.449Z"
   },
   {
    "duration": 0,
    "start_time": "2024-08-26T09:28:29.450Z"
   },
   {
    "duration": 0,
    "start_time": "2024-08-26T09:28:29.451Z"
   },
   {
    "duration": 11,
    "start_time": "2024-08-26T09:28:42.154Z"
   },
   {
    "duration": 8,
    "start_time": "2024-08-26T09:29:06.615Z"
   },
   {
    "duration": 6,
    "start_time": "2024-08-26T09:29:25.150Z"
   },
   {
    "duration": 9,
    "start_time": "2024-08-26T09:29:48.017Z"
   },
   {
    "duration": 1019,
    "start_time": "2024-08-26T09:29:58.466Z"
   },
   {
    "duration": 1306,
    "start_time": "2024-08-26T09:30:06.879Z"
   },
   {
    "duration": 76,
    "start_time": "2024-08-26T09:30:26.797Z"
   },
   {
    "duration": 15,
    "start_time": "2024-08-26T09:30:26.875Z"
   },
   {
    "duration": 22,
    "start_time": "2024-08-26T09:30:26.892Z"
   },
   {
    "duration": 15,
    "start_time": "2024-08-26T09:30:26.916Z"
   },
   {
    "duration": 43,
    "start_time": "2024-08-26T09:30:26.933Z"
   },
   {
    "duration": 4,
    "start_time": "2024-08-26T09:30:26.978Z"
   },
   {
    "duration": 15,
    "start_time": "2024-08-26T09:30:26.983Z"
   },
   {
    "duration": 6,
    "start_time": "2024-08-26T09:30:27.000Z"
   },
   {
    "duration": 11,
    "start_time": "2024-08-26T09:30:27.008Z"
   },
   {
    "duration": 4,
    "start_time": "2024-08-26T09:30:27.022Z"
   },
   {
    "duration": 37,
    "start_time": "2024-08-26T09:30:27.047Z"
   },
   {
    "duration": 11,
    "start_time": "2024-08-26T09:30:27.085Z"
   },
   {
    "duration": 7,
    "start_time": "2024-08-26T09:30:27.098Z"
   },
   {
    "duration": 21,
    "start_time": "2024-08-26T09:30:27.107Z"
   },
   {
    "duration": 34,
    "start_time": "2024-08-26T09:30:27.129Z"
   },
   {
    "duration": 23,
    "start_time": "2024-08-26T09:30:27.165Z"
   },
   {
    "duration": 8,
    "start_time": "2024-08-26T09:30:27.190Z"
   },
   {
    "duration": 18,
    "start_time": "2024-08-26T09:30:27.199Z"
   },
   {
    "duration": 35,
    "start_time": "2024-08-26T09:30:27.218Z"
   },
   {
    "duration": 43,
    "start_time": "2024-08-26T09:30:27.255Z"
   },
   {
    "duration": 23,
    "start_time": "2024-08-26T09:30:27.300Z"
   },
   {
    "duration": 10,
    "start_time": "2024-08-26T09:30:27.325Z"
   },
   {
    "duration": 6,
    "start_time": "2024-08-26T09:30:27.337Z"
   },
   {
    "duration": 8,
    "start_time": "2024-08-26T09:30:27.344Z"
   },
   {
    "duration": 19,
    "start_time": "2024-08-26T09:30:27.354Z"
   },
   {
    "duration": 15,
    "start_time": "2024-08-26T09:30:27.375Z"
   },
   {
    "duration": 9,
    "start_time": "2024-08-26T09:30:27.392Z"
   },
   {
    "duration": 14,
    "start_time": "2024-08-26T09:30:27.405Z"
   },
   {
    "duration": 12,
    "start_time": "2024-08-26T09:30:27.420Z"
   },
   {
    "duration": 16,
    "start_time": "2024-08-26T09:30:27.434Z"
   },
   {
    "duration": 11,
    "start_time": "2024-08-26T09:30:27.452Z"
   },
   {
    "duration": 11,
    "start_time": "2024-08-26T09:30:27.465Z"
   },
   {
    "duration": 11,
    "start_time": "2024-08-26T09:30:27.477Z"
   },
   {
    "duration": 8,
    "start_time": "2024-08-26T09:30:27.489Z"
   },
   {
    "duration": 15,
    "start_time": "2024-08-26T09:30:27.499Z"
   },
   {
    "duration": 22,
    "start_time": "2024-08-26T09:30:27.515Z"
   },
   {
    "duration": 44,
    "start_time": "2024-08-26T09:30:27.546Z"
   },
   {
    "duration": 72,
    "start_time": "2024-08-26T09:30:27.592Z"
   },
   {
    "duration": 53,
    "start_time": "2024-08-26T09:30:27.666Z"
   },
   {
    "duration": 44,
    "start_time": "2024-08-26T09:30:27.721Z"
   },
   {
    "duration": 14,
    "start_time": "2024-08-26T09:30:27.767Z"
   },
   {
    "duration": 108,
    "start_time": "2024-08-26T09:38:11.878Z"
   },
   {
    "duration": 66,
    "start_time": "2024-08-26T09:38:23.377Z"
   },
   {
    "duration": 73,
    "start_time": "2024-08-26T09:39:24.182Z"
   },
   {
    "duration": 21,
    "start_time": "2024-08-26T09:39:44.069Z"
   },
   {
    "duration": 80,
    "start_time": "2024-08-26T09:47:15.536Z"
   },
   {
    "duration": 11,
    "start_time": "2024-08-26T09:47:46.577Z"
   },
   {
    "duration": 9,
    "start_time": "2024-08-26T09:50:08.741Z"
   },
   {
    "duration": 11,
    "start_time": "2024-08-26T09:50:58.747Z"
   },
   {
    "duration": 7,
    "start_time": "2024-08-26T09:51:46.258Z"
   },
   {
    "duration": 7,
    "start_time": "2024-08-26T09:52:11.039Z"
   },
   {
    "duration": 13,
    "start_time": "2024-08-26T09:52:59.140Z"
   },
   {
    "duration": 17,
    "start_time": "2024-08-26T09:55:55.763Z"
   },
   {
    "duration": 9,
    "start_time": "2024-08-26T09:55:58.278Z"
   },
   {
    "duration": 4,
    "start_time": "2024-08-26T10:03:16.627Z"
   },
   {
    "duration": 11,
    "start_time": "2024-08-26T10:03:31.415Z"
   },
   {
    "duration": 11,
    "start_time": "2024-08-26T10:05:20.396Z"
   },
   {
    "duration": 10,
    "start_time": "2024-08-26T10:05:51.784Z"
   },
   {
    "duration": 10,
    "start_time": "2024-08-26T10:06:13.091Z"
   },
   {
    "duration": 10,
    "start_time": "2024-08-26T10:06:35.139Z"
   },
   {
    "duration": 12,
    "start_time": "2024-08-26T10:16:33.552Z"
   },
   {
    "duration": 8,
    "start_time": "2024-08-26T10:18:30.231Z"
   },
   {
    "duration": 8,
    "start_time": "2024-08-26T10:21:49.838Z"
   },
   {
    "duration": 9,
    "start_time": "2024-08-26T10:22:04.621Z"
   },
   {
    "duration": 6,
    "start_time": "2024-08-26T10:55:26.825Z"
   },
   {
    "duration": 7,
    "start_time": "2024-08-26T10:55:28.568Z"
   },
   {
    "duration": 9,
    "start_time": "2024-08-26T10:55:38.641Z"
   },
   {
    "duration": 9,
    "start_time": "2024-08-26T10:56:35.340Z"
   },
   {
    "duration": 73,
    "start_time": "2024-08-26T10:58:05.620Z"
   },
   {
    "duration": 81,
    "start_time": "2024-08-26T11:02:18.730Z"
   },
   {
    "duration": 9,
    "start_time": "2024-08-26T11:04:04.383Z"
   },
   {
    "duration": 100,
    "start_time": "2024-08-26T11:04:10.535Z"
   },
   {
    "duration": 23,
    "start_time": "2024-08-26T11:04:10.638Z"
   },
   {
    "duration": 49,
    "start_time": "2024-08-26T11:04:10.663Z"
   },
   {
    "duration": 17,
    "start_time": "2024-08-26T11:04:10.715Z"
   },
   {
    "duration": 48,
    "start_time": "2024-08-26T11:04:10.734Z"
   },
   {
    "duration": 4,
    "start_time": "2024-08-26T11:04:10.783Z"
   },
   {
    "duration": 12,
    "start_time": "2024-08-26T11:04:10.788Z"
   },
   {
    "duration": 9,
    "start_time": "2024-08-26T11:04:10.801Z"
   },
   {
    "duration": 18,
    "start_time": "2024-08-26T11:04:10.812Z"
   },
   {
    "duration": 14,
    "start_time": "2024-08-26T11:04:10.833Z"
   },
   {
    "duration": 43,
    "start_time": "2024-08-26T11:04:10.848Z"
   },
   {
    "duration": 11,
    "start_time": "2024-08-26T11:04:10.892Z"
   },
   {
    "duration": 5,
    "start_time": "2024-08-26T11:04:10.905Z"
   },
   {
    "duration": 41,
    "start_time": "2024-08-26T11:04:10.912Z"
   },
   {
    "duration": 56,
    "start_time": "2024-08-26T11:04:10.955Z"
   },
   {
    "duration": 19,
    "start_time": "2024-08-26T11:04:11.013Z"
   },
   {
    "duration": 4,
    "start_time": "2024-08-26T11:04:11.033Z"
   },
   {
    "duration": 21,
    "start_time": "2024-08-26T11:04:11.039Z"
   },
   {
    "duration": 14,
    "start_time": "2024-08-26T11:04:11.061Z"
   },
   {
    "duration": 25,
    "start_time": "2024-08-26T11:04:11.077Z"
   },
   {
    "duration": 38,
    "start_time": "2024-08-26T11:04:11.104Z"
   },
   {
    "duration": 11,
    "start_time": "2024-08-26T11:04:11.144Z"
   },
   {
    "duration": 29,
    "start_time": "2024-08-26T11:04:11.157Z"
   },
   {
    "duration": 16,
    "start_time": "2024-08-26T11:04:11.188Z"
   },
   {
    "duration": 28,
    "start_time": "2024-08-26T11:04:11.205Z"
   },
   {
    "duration": 39,
    "start_time": "2024-08-26T11:04:11.235Z"
   },
   {
    "duration": 32,
    "start_time": "2024-08-26T11:04:11.276Z"
   },
   {
    "duration": 26,
    "start_time": "2024-08-26T11:04:11.313Z"
   },
   {
    "duration": 20,
    "start_time": "2024-08-26T11:04:11.341Z"
   },
   {
    "duration": 30,
    "start_time": "2024-08-26T11:04:11.363Z"
   },
   {
    "duration": 16,
    "start_time": "2024-08-26T11:04:11.394Z"
   },
   {
    "duration": 8,
    "start_time": "2024-08-26T11:04:11.411Z"
   },
   {
    "duration": 28,
    "start_time": "2024-08-26T11:04:11.421Z"
   },
   {
    "duration": 40,
    "start_time": "2024-08-26T11:04:11.451Z"
   },
   {
    "duration": 22,
    "start_time": "2024-08-26T11:04:11.493Z"
   },
   {
    "duration": 26,
    "start_time": "2024-08-26T11:04:11.516Z"
   },
   {
    "duration": 15,
    "start_time": "2024-08-26T11:04:11.544Z"
   },
   {
    "duration": 17,
    "start_time": "2024-08-26T11:04:11.561Z"
   },
   {
    "duration": 16,
    "start_time": "2024-08-26T11:04:11.580Z"
   },
   {
    "duration": 12,
    "start_time": "2024-08-26T11:04:11.598Z"
   },
   {
    "duration": 8,
    "start_time": "2024-08-26T11:04:11.612Z"
   },
   {
    "duration": 6,
    "start_time": "2024-08-26T11:04:11.622Z"
   },
   {
    "duration": 14,
    "start_time": "2024-08-26T11:09:45.449Z"
   },
   {
    "duration": 33,
    "start_time": "2024-08-26T11:10:01.720Z"
   },
   {
    "duration": 33,
    "start_time": "2024-08-26T11:10:09.572Z"
   },
   {
    "duration": 8,
    "start_time": "2024-08-26T11:11:04.307Z"
   },
   {
    "duration": 7,
    "start_time": "2024-08-26T11:12:58.184Z"
   },
   {
    "duration": 9,
    "start_time": "2024-08-26T11:13:08.322Z"
   },
   {
    "duration": 91,
    "start_time": "2024-08-26T11:13:09.778Z"
   },
   {
    "duration": 15,
    "start_time": "2024-08-26T11:13:09.870Z"
   },
   {
    "duration": 19,
    "start_time": "2024-08-26T11:13:09.887Z"
   },
   {
    "duration": 43,
    "start_time": "2024-08-26T11:13:09.908Z"
   },
   {
    "duration": 65,
    "start_time": "2024-08-26T11:13:09.953Z"
   },
   {
    "duration": 12,
    "start_time": "2024-08-26T11:13:10.020Z"
   },
   {
    "duration": 51,
    "start_time": "2024-08-26T11:13:10.033Z"
   },
   {
    "duration": 14,
    "start_time": "2024-08-26T11:13:10.086Z"
   },
   {
    "duration": 6,
    "start_time": "2024-08-26T11:13:10.101Z"
   },
   {
    "duration": 4,
    "start_time": "2024-08-26T11:13:10.110Z"
   },
   {
    "duration": 76,
    "start_time": "2024-08-26T11:13:10.116Z"
   },
   {
    "duration": 11,
    "start_time": "2024-08-26T11:13:10.194Z"
   },
   {
    "duration": 7,
    "start_time": "2024-08-26T11:13:10.207Z"
   },
   {
    "duration": 38,
    "start_time": "2024-08-26T11:13:10.216Z"
   },
   {
    "duration": 39,
    "start_time": "2024-08-26T11:13:10.256Z"
   },
   {
    "duration": 34,
    "start_time": "2024-08-26T11:13:10.297Z"
   },
   {
    "duration": 31,
    "start_time": "2024-08-26T11:13:10.333Z"
   },
   {
    "duration": 20,
    "start_time": "2024-08-26T11:13:10.366Z"
   },
   {
    "duration": 34,
    "start_time": "2024-08-26T11:13:10.388Z"
   },
   {
    "duration": 23,
    "start_time": "2024-08-26T11:13:10.424Z"
   },
   {
    "duration": 11,
    "start_time": "2024-08-26T11:13:10.449Z"
   },
   {
    "duration": 33,
    "start_time": "2024-08-26T11:13:10.461Z"
   },
   {
    "duration": 31,
    "start_time": "2024-08-26T11:13:10.496Z"
   },
   {
    "duration": 67,
    "start_time": "2024-08-26T11:13:10.530Z"
   },
   {
    "duration": 43,
    "start_time": "2024-08-26T11:13:10.599Z"
   },
   {
    "duration": 15,
    "start_time": "2024-08-26T11:13:10.644Z"
   },
   {
    "duration": 23,
    "start_time": "2024-08-26T11:13:10.661Z"
   },
   {
    "duration": 35,
    "start_time": "2024-08-26T11:13:10.688Z"
   },
   {
    "duration": 12,
    "start_time": "2024-08-26T11:13:10.725Z"
   },
   {
    "duration": 22,
    "start_time": "2024-08-26T11:13:10.739Z"
   },
   {
    "duration": 15,
    "start_time": "2024-08-26T11:13:10.763Z"
   },
   {
    "duration": 14,
    "start_time": "2024-08-26T11:13:10.780Z"
   },
   {
    "duration": 0,
    "start_time": "2024-08-26T11:13:10.796Z"
   },
   {
    "duration": 0,
    "start_time": "2024-08-26T11:13:10.797Z"
   },
   {
    "duration": 0,
    "start_time": "2024-08-26T11:13:10.799Z"
   },
   {
    "duration": 0,
    "start_time": "2024-08-26T11:13:10.800Z"
   },
   {
    "duration": 0,
    "start_time": "2024-08-26T11:13:10.802Z"
   },
   {
    "duration": 0,
    "start_time": "2024-08-26T11:13:10.803Z"
   },
   {
    "duration": 0,
    "start_time": "2024-08-26T11:13:10.804Z"
   },
   {
    "duration": 0,
    "start_time": "2024-08-26T11:13:10.806Z"
   },
   {
    "duration": 0,
    "start_time": "2024-08-26T11:13:10.807Z"
   },
   {
    "duration": 0,
    "start_time": "2024-08-26T11:13:10.809Z"
   },
   {
    "duration": 10,
    "start_time": "2024-08-26T11:13:16.148Z"
   },
   {
    "duration": 73,
    "start_time": "2024-08-26T11:14:02.555Z"
   },
   {
    "duration": 11,
    "start_time": "2024-08-26T11:15:14.909Z"
   },
   {
    "duration": 7,
    "start_time": "2024-08-26T11:16:37.933Z"
   },
   {
    "duration": 8,
    "start_time": "2024-08-26T11:17:01.198Z"
   },
   {
    "duration": 8,
    "start_time": "2024-08-26T11:17:40.702Z"
   },
   {
    "duration": 7,
    "start_time": "2024-08-26T11:19:20.855Z"
   },
   {
    "duration": 91,
    "start_time": "2024-08-26T11:19:44.604Z"
   },
   {
    "duration": 15,
    "start_time": "2024-08-26T11:19:44.697Z"
   },
   {
    "duration": 39,
    "start_time": "2024-08-26T11:19:44.714Z"
   },
   {
    "duration": 10,
    "start_time": "2024-08-26T11:19:44.755Z"
   },
   {
    "duration": 52,
    "start_time": "2024-08-26T11:19:44.767Z"
   },
   {
    "duration": 4,
    "start_time": "2024-08-26T11:19:44.820Z"
   },
   {
    "duration": 19,
    "start_time": "2024-08-26T11:19:44.825Z"
   },
   {
    "duration": 5,
    "start_time": "2024-08-26T11:19:44.845Z"
   },
   {
    "duration": 10,
    "start_time": "2024-08-26T11:19:44.851Z"
   },
   {
    "duration": 4,
    "start_time": "2024-08-26T11:19:44.863Z"
   },
   {
    "duration": 35,
    "start_time": "2024-08-26T11:19:44.869Z"
   },
   {
    "duration": 11,
    "start_time": "2024-08-26T11:19:44.905Z"
   },
   {
    "duration": 3,
    "start_time": "2024-08-26T11:19:44.918Z"
   },
   {
    "duration": 11,
    "start_time": "2024-08-26T11:19:44.946Z"
   },
   {
    "duration": 19,
    "start_time": "2024-08-26T11:19:44.959Z"
   },
   {
    "duration": 17,
    "start_time": "2024-08-26T11:19:44.980Z"
   },
   {
    "duration": 3,
    "start_time": "2024-08-26T11:19:44.999Z"
   },
   {
    "duration": 60,
    "start_time": "2024-08-26T11:19:45.004Z"
   },
   {
    "duration": 37,
    "start_time": "2024-08-26T11:19:45.066Z"
   },
   {
    "duration": 44,
    "start_time": "2024-08-26T11:19:45.105Z"
   },
   {
    "duration": 58,
    "start_time": "2024-08-26T11:19:45.150Z"
   },
   {
    "duration": 41,
    "start_time": "2024-08-26T11:19:45.209Z"
   },
   {
    "duration": 51,
    "start_time": "2024-08-26T11:19:45.252Z"
   },
   {
    "duration": 12,
    "start_time": "2024-08-26T11:19:45.305Z"
   },
   {
    "duration": 64,
    "start_time": "2024-08-26T11:19:45.318Z"
   },
   {
    "duration": 9,
    "start_time": "2024-08-26T11:19:45.383Z"
   },
   {
    "duration": 37,
    "start_time": "2024-08-26T11:19:45.394Z"
   },
   {
    "duration": 30,
    "start_time": "2024-08-26T11:19:45.433Z"
   },
   {
    "duration": 10,
    "start_time": "2024-08-26T11:19:45.465Z"
   },
   {
    "duration": 20,
    "start_time": "2024-08-26T11:19:45.477Z"
   },
   {
    "duration": 13,
    "start_time": "2024-08-26T11:19:45.498Z"
   },
   {
    "duration": 22,
    "start_time": "2024-08-26T11:19:45.513Z"
   },
   {
    "duration": 0,
    "start_time": "2024-08-26T11:19:45.536Z"
   },
   {
    "duration": 0,
    "start_time": "2024-08-26T11:19:45.537Z"
   },
   {
    "duration": 0,
    "start_time": "2024-08-26T11:19:45.538Z"
   },
   {
    "duration": 0,
    "start_time": "2024-08-26T11:19:45.539Z"
   },
   {
    "duration": 0,
    "start_time": "2024-08-26T11:19:45.540Z"
   },
   {
    "duration": 0,
    "start_time": "2024-08-26T11:19:45.541Z"
   },
   {
    "duration": 0,
    "start_time": "2024-08-26T11:19:45.541Z"
   },
   {
    "duration": 0,
    "start_time": "2024-08-26T11:19:45.542Z"
   },
   {
    "duration": 0,
    "start_time": "2024-08-26T11:19:45.543Z"
   },
   {
    "duration": 0,
    "start_time": "2024-08-26T11:19:45.544Z"
   },
   {
    "duration": 9,
    "start_time": "2024-08-26T11:20:24.247Z"
   },
   {
    "duration": 13,
    "start_time": "2024-08-26T11:20:32.443Z"
   },
   {
    "duration": 7,
    "start_time": "2024-08-26T11:21:10.751Z"
   },
   {
    "duration": 19,
    "start_time": "2024-08-26T11:21:14.088Z"
   },
   {
    "duration": 9,
    "start_time": "2024-08-26T11:22:43.604Z"
   },
   {
    "duration": 63,
    "start_time": "2024-08-26T11:24:10.914Z"
   },
   {
    "duration": 12,
    "start_time": "2024-08-26T11:25:04.099Z"
   },
   {
    "duration": 10,
    "start_time": "2024-08-26T11:25:21.536Z"
   },
   {
    "duration": 12,
    "start_time": "2024-08-26T11:26:05.187Z"
   },
   {
    "duration": 13,
    "start_time": "2024-08-26T11:27:00.330Z"
   },
   {
    "duration": 11,
    "start_time": "2024-08-26T11:30:37.138Z"
   },
   {
    "duration": 89,
    "start_time": "2024-08-26T11:30:45.032Z"
   },
   {
    "duration": 24,
    "start_time": "2024-08-26T11:30:45.123Z"
   },
   {
    "duration": 56,
    "start_time": "2024-08-26T11:30:45.149Z"
   },
   {
    "duration": 24,
    "start_time": "2024-08-26T11:30:45.207Z"
   },
   {
    "duration": 76,
    "start_time": "2024-08-26T11:30:45.233Z"
   },
   {
    "duration": 3,
    "start_time": "2024-08-26T11:30:45.311Z"
   },
   {
    "duration": 31,
    "start_time": "2024-08-26T11:30:45.316Z"
   },
   {
    "duration": 75,
    "start_time": "2024-08-26T11:30:45.348Z"
   },
   {
    "duration": 28,
    "start_time": "2024-08-26T11:30:45.425Z"
   },
   {
    "duration": 12,
    "start_time": "2024-08-26T11:30:45.456Z"
   },
   {
    "duration": 41,
    "start_time": "2024-08-26T11:30:45.469Z"
   },
   {
    "duration": 12,
    "start_time": "2024-08-26T11:30:45.512Z"
   },
   {
    "duration": 22,
    "start_time": "2024-08-26T11:30:45.526Z"
   },
   {
    "duration": 18,
    "start_time": "2024-08-26T11:30:45.549Z"
   },
   {
    "duration": 22,
    "start_time": "2024-08-26T11:30:45.568Z"
   },
   {
    "duration": 17,
    "start_time": "2024-08-26T11:30:45.592Z"
   },
   {
    "duration": 6,
    "start_time": "2024-08-26T11:30:45.610Z"
   },
   {
    "duration": 31,
    "start_time": "2024-08-26T11:30:45.618Z"
   },
   {
    "duration": 29,
    "start_time": "2024-08-26T11:30:45.651Z"
   },
   {
    "duration": 23,
    "start_time": "2024-08-26T11:30:45.682Z"
   },
   {
    "duration": 33,
    "start_time": "2024-08-26T11:30:45.707Z"
   },
   {
    "duration": 27,
    "start_time": "2024-08-26T11:30:45.742Z"
   },
   {
    "duration": 11,
    "start_time": "2024-08-26T11:30:45.770Z"
   },
   {
    "duration": 6,
    "start_time": "2024-08-26T11:30:45.783Z"
   },
   {
    "duration": 8,
    "start_time": "2024-08-26T11:30:45.790Z"
   },
   {
    "duration": 10,
    "start_time": "2024-08-26T11:30:45.799Z"
   },
   {
    "duration": 21,
    "start_time": "2024-08-26T11:30:45.810Z"
   },
   {
    "duration": 18,
    "start_time": "2024-08-26T11:30:45.834Z"
   },
   {
    "duration": 14,
    "start_time": "2024-08-26T11:30:45.853Z"
   },
   {
    "duration": 26,
    "start_time": "2024-08-26T11:30:45.868Z"
   },
   {
    "duration": 962,
    "start_time": "2024-08-26T11:30:45.895Z"
   },
   {
    "duration": 0,
    "start_time": "2024-08-26T11:30:46.859Z"
   },
   {
    "duration": 0,
    "start_time": "2024-08-26T11:30:46.860Z"
   },
   {
    "duration": 0,
    "start_time": "2024-08-26T11:30:46.862Z"
   },
   {
    "duration": 0,
    "start_time": "2024-08-26T11:30:46.864Z"
   },
   {
    "duration": 0,
    "start_time": "2024-08-26T11:30:46.865Z"
   },
   {
    "duration": 0,
    "start_time": "2024-08-26T11:30:46.867Z"
   },
   {
    "duration": 0,
    "start_time": "2024-08-26T11:30:46.868Z"
   },
   {
    "duration": 0,
    "start_time": "2024-08-26T11:30:46.870Z"
   },
   {
    "duration": 0,
    "start_time": "2024-08-26T11:30:46.872Z"
   },
   {
    "duration": 0,
    "start_time": "2024-08-26T11:30:46.873Z"
   },
   {
    "duration": 0,
    "start_time": "2024-08-26T11:30:46.875Z"
   },
   {
    "duration": 15,
    "start_time": "2024-08-26T11:30:59.704Z"
   },
   {
    "duration": 10,
    "start_time": "2024-08-26T11:31:48.777Z"
   },
   {
    "duration": 7,
    "start_time": "2024-08-26T11:32:03.807Z"
   },
   {
    "duration": 10,
    "start_time": "2024-08-26T11:32:07.844Z"
   },
   {
    "duration": 10,
    "start_time": "2024-08-26T11:33:05.089Z"
   },
   {
    "duration": 7,
    "start_time": "2024-08-26T11:33:51.012Z"
   },
   {
    "duration": 921,
    "start_time": "2024-08-26T11:34:48.603Z"
   },
   {
    "duration": 7,
    "start_time": "2024-08-26T11:35:17.616Z"
   },
   {
    "duration": 15,
    "start_time": "2024-08-26T11:35:21.958Z"
   },
   {
    "duration": 7,
    "start_time": "2024-08-26T11:35:30.751Z"
   },
   {
    "duration": 11,
    "start_time": "2024-08-26T11:35:45.484Z"
   },
   {
    "duration": 91,
    "start_time": "2024-08-26T11:38:20.294Z"
   },
   {
    "duration": 15,
    "start_time": "2024-08-26T11:38:20.388Z"
   },
   {
    "duration": 21,
    "start_time": "2024-08-26T11:38:20.405Z"
   },
   {
    "duration": 24,
    "start_time": "2024-08-26T11:38:20.428Z"
   },
   {
    "duration": 35,
    "start_time": "2024-08-26T11:38:20.455Z"
   },
   {
    "duration": 4,
    "start_time": "2024-08-26T11:38:20.492Z"
   },
   {
    "duration": 14,
    "start_time": "2024-08-26T11:38:20.498Z"
   },
   {
    "duration": 17,
    "start_time": "2024-08-26T11:38:20.514Z"
   },
   {
    "duration": 24,
    "start_time": "2024-08-26T11:38:20.533Z"
   },
   {
    "duration": 5,
    "start_time": "2024-08-26T11:38:20.559Z"
   },
   {
    "duration": 60,
    "start_time": "2024-08-26T11:38:20.566Z"
   },
   {
    "duration": 12,
    "start_time": "2024-08-26T11:38:20.627Z"
   },
   {
    "duration": 7,
    "start_time": "2024-08-26T11:38:20.641Z"
   },
   {
    "duration": 20,
    "start_time": "2024-08-26T11:38:20.651Z"
   },
   {
    "duration": 22,
    "start_time": "2024-08-26T11:38:20.673Z"
   },
   {
    "duration": 17,
    "start_time": "2024-08-26T11:38:20.696Z"
   },
   {
    "duration": 7,
    "start_time": "2024-08-26T11:38:20.715Z"
   },
   {
    "duration": 40,
    "start_time": "2024-08-26T11:38:20.724Z"
   },
   {
    "duration": 25,
    "start_time": "2024-08-26T11:38:20.765Z"
   },
   {
    "duration": 31,
    "start_time": "2024-08-26T11:38:20.791Z"
   },
   {
    "duration": 32,
    "start_time": "2024-08-26T11:38:20.824Z"
   },
   {
    "duration": 9,
    "start_time": "2024-08-26T11:38:20.858Z"
   },
   {
    "duration": 32,
    "start_time": "2024-08-26T11:38:20.869Z"
   },
   {
    "duration": 7,
    "start_time": "2024-08-26T11:38:20.902Z"
   },
   {
    "duration": 40,
    "start_time": "2024-08-26T11:38:20.911Z"
   },
   {
    "duration": 9,
    "start_time": "2024-08-26T11:38:20.953Z"
   },
   {
    "duration": 15,
    "start_time": "2024-08-26T11:38:20.964Z"
   },
   {
    "duration": 13,
    "start_time": "2024-08-26T11:38:20.981Z"
   },
   {
    "duration": 23,
    "start_time": "2024-08-26T11:38:20.996Z"
   },
   {
    "duration": 40,
    "start_time": "2024-08-26T11:38:21.021Z"
   },
   {
    "duration": 1123,
    "start_time": "2024-08-26T11:38:21.063Z"
   },
   {
    "duration": 0,
    "start_time": "2024-08-26T11:38:22.187Z"
   },
   {
    "duration": 0,
    "start_time": "2024-08-26T11:38:22.188Z"
   },
   {
    "duration": 0,
    "start_time": "2024-08-26T11:38:22.189Z"
   },
   {
    "duration": 0,
    "start_time": "2024-08-26T11:38:22.190Z"
   },
   {
    "duration": 0,
    "start_time": "2024-08-26T11:38:22.191Z"
   },
   {
    "duration": 0,
    "start_time": "2024-08-26T11:38:22.193Z"
   },
   {
    "duration": 0,
    "start_time": "2024-08-26T11:38:22.193Z"
   },
   {
    "duration": 0,
    "start_time": "2024-08-26T11:38:22.195Z"
   },
   {
    "duration": 0,
    "start_time": "2024-08-26T11:38:22.196Z"
   },
   {
    "duration": 0,
    "start_time": "2024-08-26T11:38:22.196Z"
   },
   {
    "duration": 0,
    "start_time": "2024-08-26T11:38:22.197Z"
   },
   {
    "duration": 12,
    "start_time": "2024-08-26T11:40:39.618Z"
   },
   {
    "duration": 8,
    "start_time": "2024-08-26T11:41:54.018Z"
   },
   {
    "duration": 974,
    "start_time": "2024-08-26T11:42:57.137Z"
   },
   {
    "duration": 10,
    "start_time": "2024-08-26T11:44:58.624Z"
   },
   {
    "duration": 6,
    "start_time": "2024-08-26T11:45:23.425Z"
   },
   {
    "duration": 6,
    "start_time": "2024-08-26T11:46:07.018Z"
   },
   {
    "duration": 9,
    "start_time": "2024-08-26T11:46:18.598Z"
   },
   {
    "duration": 6,
    "start_time": "2024-08-26T11:46:55.134Z"
   },
   {
    "duration": 14,
    "start_time": "2024-08-26T11:47:25.715Z"
   },
   {
    "duration": 11,
    "start_time": "2024-08-26T11:51:19.603Z"
   },
   {
    "duration": 7,
    "start_time": "2024-08-26T11:51:27.415Z"
   },
   {
    "duration": 12,
    "start_time": "2024-08-26T11:51:29.675Z"
   },
   {
    "duration": 91,
    "start_time": "2024-08-26T11:54:03.970Z"
   },
   {
    "duration": 22,
    "start_time": "2024-08-26T11:54:04.063Z"
   },
   {
    "duration": 49,
    "start_time": "2024-08-26T11:54:04.086Z"
   },
   {
    "duration": 16,
    "start_time": "2024-08-26T11:54:04.137Z"
   },
   {
    "duration": 56,
    "start_time": "2024-08-26T11:54:04.156Z"
   },
   {
    "duration": 3,
    "start_time": "2024-08-26T11:54:04.213Z"
   },
   {
    "duration": 16,
    "start_time": "2024-08-26T11:54:04.218Z"
   },
   {
    "duration": 18,
    "start_time": "2024-08-26T11:54:04.236Z"
   },
   {
    "duration": 8,
    "start_time": "2024-08-26T11:54:04.256Z"
   },
   {
    "duration": 15,
    "start_time": "2024-08-26T11:54:04.265Z"
   },
   {
    "duration": 47,
    "start_time": "2024-08-26T11:54:04.281Z"
   },
   {
    "duration": 10,
    "start_time": "2024-08-26T11:54:04.330Z"
   },
   {
    "duration": 10,
    "start_time": "2024-08-26T11:54:04.341Z"
   },
   {
    "duration": 24,
    "start_time": "2024-08-26T11:54:04.354Z"
   },
   {
    "duration": 24,
    "start_time": "2024-08-26T11:54:04.380Z"
   },
   {
    "duration": 18,
    "start_time": "2024-08-26T11:54:04.406Z"
   },
   {
    "duration": 7,
    "start_time": "2024-08-26T11:54:04.426Z"
   },
   {
    "duration": 32,
    "start_time": "2024-08-26T11:54:04.434Z"
   },
   {
    "duration": 12,
    "start_time": "2024-08-26T11:54:04.468Z"
   },
   {
    "duration": 4,
    "start_time": "2024-08-26T11:54:04.481Z"
   },
   {
    "duration": 11,
    "start_time": "2024-08-26T11:54:04.487Z"
   },
   {
    "duration": 24,
    "start_time": "2024-08-26T11:54:04.500Z"
   },
   {
    "duration": 30,
    "start_time": "2024-08-26T11:54:04.525Z"
   },
   {
    "duration": 8,
    "start_time": "2024-08-26T11:54:04.557Z"
   },
   {
    "duration": 19,
    "start_time": "2024-08-26T11:54:04.568Z"
   },
   {
    "duration": 8,
    "start_time": "2024-08-26T11:54:04.589Z"
   },
   {
    "duration": 21,
    "start_time": "2024-08-26T11:54:04.599Z"
   },
   {
    "duration": 34,
    "start_time": "2024-08-26T11:54:04.622Z"
   },
   {
    "duration": 7,
    "start_time": "2024-08-26T11:54:04.658Z"
   },
   {
    "duration": 19,
    "start_time": "2024-08-26T11:54:04.666Z"
   },
   {
    "duration": 27,
    "start_time": "2024-08-26T11:54:04.687Z"
   },
   {
    "duration": 85,
    "start_time": "2024-08-26T11:54:04.717Z"
   },
   {
    "duration": 34,
    "start_time": "2024-08-26T11:54:04.803Z"
   },
   {
    "duration": 28,
    "start_time": "2024-08-26T11:54:04.838Z"
   },
   {
    "duration": 32,
    "start_time": "2024-08-26T11:54:04.867Z"
   },
   {
    "duration": 0,
    "start_time": "2024-08-26T11:54:04.901Z"
   },
   {
    "duration": 0,
    "start_time": "2024-08-26T11:54:04.902Z"
   },
   {
    "duration": 0,
    "start_time": "2024-08-26T11:54:04.903Z"
   },
   {
    "duration": 0,
    "start_time": "2024-08-26T11:54:04.905Z"
   },
   {
    "duration": 0,
    "start_time": "2024-08-26T11:54:04.907Z"
   },
   {
    "duration": 0,
    "start_time": "2024-08-26T11:54:04.908Z"
   },
   {
    "duration": 0,
    "start_time": "2024-08-26T11:54:04.910Z"
   },
   {
    "duration": 10,
    "start_time": "2024-08-26T11:55:21.383Z"
   },
   {
    "duration": 9,
    "start_time": "2024-08-26T11:58:56.385Z"
   },
   {
    "duration": 8,
    "start_time": "2024-08-26T12:05:04.165Z"
   },
   {
    "duration": 15,
    "start_time": "2024-08-26T12:05:21.735Z"
   },
   {
    "duration": 10,
    "start_time": "2024-08-26T12:05:29.586Z"
   },
   {
    "duration": 6,
    "start_time": "2024-08-26T12:07:38.317Z"
   },
   {
    "duration": 8,
    "start_time": "2024-08-26T12:10:14.841Z"
   },
   {
    "duration": 89,
    "start_time": "2024-08-26T12:10:21.853Z"
   },
   {
    "duration": 15,
    "start_time": "2024-08-26T12:10:21.944Z"
   },
   {
    "duration": 105,
    "start_time": "2024-08-26T12:10:21.961Z"
   },
   {
    "duration": 21,
    "start_time": "2024-08-26T12:10:22.068Z"
   },
   {
    "duration": 65,
    "start_time": "2024-08-26T12:10:22.091Z"
   },
   {
    "duration": 4,
    "start_time": "2024-08-26T12:10:22.158Z"
   },
   {
    "duration": 18,
    "start_time": "2024-08-26T12:10:22.163Z"
   },
   {
    "duration": 19,
    "start_time": "2024-08-26T12:10:22.183Z"
   },
   {
    "duration": 8,
    "start_time": "2024-08-26T12:10:22.203Z"
   },
   {
    "duration": 7,
    "start_time": "2024-08-26T12:10:22.214Z"
   },
   {
    "duration": 50,
    "start_time": "2024-08-26T12:10:22.222Z"
   },
   {
    "duration": 12,
    "start_time": "2024-08-26T12:10:22.274Z"
   },
   {
    "duration": 23,
    "start_time": "2024-08-26T12:10:22.288Z"
   },
   {
    "duration": 30,
    "start_time": "2024-08-26T12:10:22.314Z"
   },
   {
    "duration": 20,
    "start_time": "2024-08-26T12:10:22.346Z"
   },
   {
    "duration": 22,
    "start_time": "2024-08-26T12:10:22.368Z"
   },
   {
    "duration": 4,
    "start_time": "2024-08-26T12:10:22.391Z"
   },
   {
    "duration": 20,
    "start_time": "2024-08-26T12:10:22.397Z"
   },
   {
    "duration": 5,
    "start_time": "2024-08-26T12:10:22.419Z"
   },
   {
    "duration": 20,
    "start_time": "2024-08-26T12:10:22.426Z"
   },
   {
    "duration": 36,
    "start_time": "2024-08-26T12:10:22.448Z"
   },
   {
    "duration": 27,
    "start_time": "2024-08-26T12:10:22.485Z"
   },
   {
    "duration": 9,
    "start_time": "2024-08-26T12:10:22.514Z"
   },
   {
    "duration": 18,
    "start_time": "2024-08-26T12:10:22.525Z"
   },
   {
    "duration": 36,
    "start_time": "2024-08-26T12:10:22.545Z"
   },
   {
    "duration": 33,
    "start_time": "2024-08-26T12:10:22.582Z"
   },
   {
    "duration": 35,
    "start_time": "2024-08-26T12:10:22.616Z"
   },
   {
    "duration": 14,
    "start_time": "2024-08-26T12:10:22.654Z"
   },
   {
    "duration": 24,
    "start_time": "2024-08-26T12:10:22.670Z"
   },
   {
    "duration": 10,
    "start_time": "2024-08-26T12:10:22.696Z"
   },
   {
    "duration": 15,
    "start_time": "2024-08-26T12:10:22.708Z"
   },
   {
    "duration": 15,
    "start_time": "2024-08-26T12:10:22.725Z"
   },
   {
    "duration": 10,
    "start_time": "2024-08-26T12:10:22.742Z"
   },
   {
    "duration": 38,
    "start_time": "2024-08-26T12:10:22.754Z"
   },
   {
    "duration": 23,
    "start_time": "2024-08-26T12:10:22.794Z"
   },
   {
    "duration": 13,
    "start_time": "2024-08-26T12:10:22.819Z"
   },
   {
    "duration": 15,
    "start_time": "2024-08-26T12:10:22.834Z"
   },
   {
    "duration": 7,
    "start_time": "2024-08-26T12:10:22.851Z"
   },
   {
    "duration": 29,
    "start_time": "2024-08-26T12:10:22.859Z"
   },
   {
    "duration": 26,
    "start_time": "2024-08-26T12:10:22.890Z"
   },
   {
    "duration": 28,
    "start_time": "2024-08-26T12:10:22.917Z"
   },
   {
    "duration": 11,
    "start_time": "2024-08-26T12:11:24.288Z"
   },
   {
    "duration": 10,
    "start_time": "2024-08-26T12:12:10.173Z"
   },
   {
    "duration": 12,
    "start_time": "2024-08-26T12:12:57.838Z"
   },
   {
    "duration": 11,
    "start_time": "2024-08-26T12:13:07.804Z"
   },
   {
    "duration": 10,
    "start_time": "2024-08-26T12:13:36.636Z"
   },
   {
    "duration": 7,
    "start_time": "2024-08-26T12:13:40.699Z"
   },
   {
    "duration": 7,
    "start_time": "2024-08-26T12:14:54.233Z"
   },
   {
    "duration": 8,
    "start_time": "2024-08-26T12:15:00.017Z"
   },
   {
    "duration": 14,
    "start_time": "2024-08-26T12:15:05.591Z"
   },
   {
    "duration": 10,
    "start_time": "2024-08-26T12:16:41.982Z"
   },
   {
    "duration": 9,
    "start_time": "2024-08-26T12:17:33.993Z"
   },
   {
    "duration": 9,
    "start_time": "2024-08-26T12:17:46.023Z"
   },
   {
    "duration": 16,
    "start_time": "2024-08-26T12:20:46.588Z"
   },
   {
    "duration": 8,
    "start_time": "2024-08-26T12:21:54.215Z"
   },
   {
    "duration": 11,
    "start_time": "2024-08-26T12:22:23.508Z"
   },
   {
    "duration": 10,
    "start_time": "2024-08-26T12:22:32.288Z"
   },
   {
    "duration": 10,
    "start_time": "2024-08-26T12:22:41.356Z"
   },
   {
    "duration": 10,
    "start_time": "2024-08-26T12:26:37.738Z"
   },
   {
    "duration": 13,
    "start_time": "2024-08-26T12:27:49.038Z"
   },
   {
    "duration": 7,
    "start_time": "2024-08-26T12:28:56.995Z"
   },
   {
    "duration": 9,
    "start_time": "2024-08-26T12:29:15.024Z"
   },
   {
    "duration": 15,
    "start_time": "2024-08-26T12:31:06.781Z"
   },
   {
    "duration": 11,
    "start_time": "2024-08-26T12:31:15.444Z"
   },
   {
    "duration": 7,
    "start_time": "2024-08-26T12:31:26.822Z"
   },
   {
    "duration": 10,
    "start_time": "2024-08-26T12:31:29.957Z"
   },
   {
    "duration": 12,
    "start_time": "2024-08-26T12:34:14.215Z"
   },
   {
    "duration": 7,
    "start_time": "2024-08-26T12:34:25.567Z"
   },
   {
    "duration": 9,
    "start_time": "2024-08-26T12:34:28.351Z"
   },
   {
    "duration": 8,
    "start_time": "2024-08-26T12:39:41.489Z"
   },
   {
    "duration": 8,
    "start_time": "2024-08-26T12:41:24.367Z"
   },
   {
    "duration": 8,
    "start_time": "2024-08-26T12:41:28.079Z"
   },
   {
    "duration": 8,
    "start_time": "2024-08-26T12:42:53.597Z"
   },
   {
    "duration": 9,
    "start_time": "2024-08-26T12:43:08.179Z"
   },
   {
    "duration": 10,
    "start_time": "2024-08-26T12:43:42.188Z"
   },
   {
    "duration": 8,
    "start_time": "2024-08-26T12:44:50.792Z"
   },
   {
    "duration": 13,
    "start_time": "2024-08-26T12:45:06.331Z"
   },
   {
    "duration": 9,
    "start_time": "2024-08-26T12:45:20.675Z"
   },
   {
    "duration": 18,
    "start_time": "2024-08-26T12:45:22.945Z"
   },
   {
    "duration": 14,
    "start_time": "2024-08-26T12:46:38.817Z"
   },
   {
    "duration": 9,
    "start_time": "2024-08-26T12:47:13.555Z"
   },
   {
    "duration": 8,
    "start_time": "2024-08-26T12:47:24.330Z"
   },
   {
    "duration": 7,
    "start_time": "2024-08-26T12:47:59.159Z"
   },
   {
    "duration": 8,
    "start_time": "2024-08-26T12:48:52.908Z"
   },
   {
    "duration": 8,
    "start_time": "2024-08-26T12:49:35.641Z"
   },
   {
    "duration": 7,
    "start_time": "2024-08-26T12:49:38.977Z"
   },
   {
    "duration": 8,
    "start_time": "2024-08-26T12:49:42.185Z"
   },
   {
    "duration": 8,
    "start_time": "2024-08-26T12:50:22.104Z"
   },
   {
    "duration": 11,
    "start_time": "2024-08-26T12:50:36.724Z"
   },
   {
    "duration": 9,
    "start_time": "2024-08-26T12:50:43.073Z"
   },
   {
    "duration": 10,
    "start_time": "2024-08-26T12:51:16.510Z"
   },
   {
    "duration": 9,
    "start_time": "2024-08-26T12:51:25.785Z"
   },
   {
    "duration": 9,
    "start_time": "2024-08-26T13:05:51.305Z"
   },
   {
    "duration": 50,
    "start_time": "2024-08-27T08:10:42.582Z"
   },
   {
    "duration": 701,
    "start_time": "2024-08-27T08:10:45.481Z"
   },
   {
    "duration": 23,
    "start_time": "2024-08-27T08:10:46.184Z"
   },
   {
    "duration": 17,
    "start_time": "2024-08-27T08:10:46.208Z"
   },
   {
    "duration": 10,
    "start_time": "2024-08-27T08:10:46.227Z"
   },
   {
    "duration": 45,
    "start_time": "2024-08-27T08:10:46.238Z"
   },
   {
    "duration": 3,
    "start_time": "2024-08-27T08:10:46.285Z"
   },
   {
    "duration": 12,
    "start_time": "2024-08-27T08:10:46.290Z"
   },
   {
    "duration": 4,
    "start_time": "2024-08-27T08:10:46.304Z"
   },
   {
    "duration": 7,
    "start_time": "2024-08-27T08:10:46.309Z"
   },
   {
    "duration": 4,
    "start_time": "2024-08-27T08:10:46.318Z"
   },
   {
    "duration": 37,
    "start_time": "2024-08-27T08:10:46.351Z"
   },
   {
    "duration": 11,
    "start_time": "2024-08-27T08:10:46.389Z"
   },
   {
    "duration": 5,
    "start_time": "2024-08-27T08:10:46.401Z"
   },
   {
    "duration": 13,
    "start_time": "2024-08-27T08:10:46.407Z"
   },
   {
    "duration": 39,
    "start_time": "2024-08-27T08:10:46.422Z"
   },
   {
    "duration": 16,
    "start_time": "2024-08-27T08:10:46.463Z"
   },
   {
    "duration": 3,
    "start_time": "2024-08-27T08:10:46.481Z"
   },
   {
    "duration": 15,
    "start_time": "2024-08-27T08:10:46.485Z"
   },
   {
    "duration": 26,
    "start_time": "2024-08-27T08:10:46.502Z"
   },
   {
    "duration": 6,
    "start_time": "2024-08-27T08:10:46.530Z"
   },
   {
    "duration": 18,
    "start_time": "2024-08-27T08:10:46.538Z"
   },
   {
    "duration": 17,
    "start_time": "2024-08-27T08:10:46.557Z"
   },
   {
    "duration": 6,
    "start_time": "2024-08-27T08:10:46.576Z"
   },
   {
    "duration": 12,
    "start_time": "2024-08-27T08:10:46.583Z"
   },
   {
    "duration": 6,
    "start_time": "2024-08-27T08:10:46.596Z"
   },
   {
    "duration": 19,
    "start_time": "2024-08-27T08:10:46.603Z"
   },
   {
    "duration": 9,
    "start_time": "2024-08-27T08:10:46.624Z"
   },
   {
    "duration": 6,
    "start_time": "2024-08-27T08:10:46.654Z"
   },
   {
    "duration": 10,
    "start_time": "2024-08-27T08:10:46.662Z"
   },
   {
    "duration": 6,
    "start_time": "2024-08-27T08:10:46.674Z"
   },
   {
    "duration": 53,
    "start_time": "2024-08-27T08:10:46.682Z"
   },
   {
    "duration": 50,
    "start_time": "2024-08-27T08:10:46.737Z"
   },
   {
    "duration": 8,
    "start_time": "2024-08-27T08:10:46.789Z"
   },
   {
    "duration": 11,
    "start_time": "2024-08-27T08:10:46.799Z"
   },
   {
    "duration": 7,
    "start_time": "2024-08-27T08:10:46.812Z"
   },
   {
    "duration": 7,
    "start_time": "2024-08-27T08:10:46.821Z"
   },
   {
    "duration": 9,
    "start_time": "2024-08-27T08:10:46.830Z"
   },
   {
    "duration": 15,
    "start_time": "2024-08-27T08:10:46.841Z"
   },
   {
    "duration": 14,
    "start_time": "2024-08-27T08:10:46.858Z"
   },
   {
    "duration": 6,
    "start_time": "2024-08-27T08:10:46.874Z"
   },
   {
    "duration": 7,
    "start_time": "2024-08-27T08:10:46.882Z"
   },
   {
    "duration": 9,
    "start_time": "2024-08-27T08:11:14.961Z"
   },
   {
    "duration": 9,
    "start_time": "2024-08-27T08:11:21.383Z"
   },
   {
    "duration": 8,
    "start_time": "2024-08-27T08:11:31.175Z"
   },
   {
    "duration": 9,
    "start_time": "2024-08-27T08:11:33.809Z"
   },
   {
    "duration": 7,
    "start_time": "2024-08-27T08:11:35.754Z"
   },
   {
    "duration": 8,
    "start_time": "2024-08-27T08:11:37.640Z"
   },
   {
    "duration": 32,
    "start_time": "2024-08-27T08:13:19.586Z"
   },
   {
    "duration": 7,
    "start_time": "2024-08-27T08:13:24.489Z"
   },
   {
    "duration": 9,
    "start_time": "2024-08-27T08:13:29.804Z"
   },
   {
    "duration": 3,
    "start_time": "2024-08-27T08:16:50.537Z"
   },
   {
    "duration": 14,
    "start_time": "2024-08-27T08:17:01.583Z"
   },
   {
    "duration": 75,
    "start_time": "2024-08-27T08:17:15.045Z"
   },
   {
    "duration": 8,
    "start_time": "2024-08-27T08:17:40.928Z"
   },
   {
    "duration": 8,
    "start_time": "2024-08-27T08:19:04.872Z"
   },
   {
    "duration": 6,
    "start_time": "2024-08-27T08:19:10.196Z"
   },
   {
    "duration": 9,
    "start_time": "2024-08-27T08:19:11.984Z"
   },
   {
    "duration": 11,
    "start_time": "2024-08-27T08:19:44.488Z"
   },
   {
    "duration": 48,
    "start_time": "2024-08-27T08:20:29.109Z"
   },
   {
    "duration": 9,
    "start_time": "2024-08-27T08:20:39.891Z"
   },
   {
    "duration": 12,
    "start_time": "2024-08-27T08:23:29.980Z"
   },
   {
    "duration": 12,
    "start_time": "2024-08-27T08:24:11.901Z"
   },
   {
    "duration": 51,
    "start_time": "2024-08-27T08:28:27.978Z"
   },
   {
    "duration": 15,
    "start_time": "2024-08-27T08:28:46.924Z"
   },
   {
    "duration": 12,
    "start_time": "2024-08-27T08:28:57.862Z"
   },
   {
    "duration": 11,
    "start_time": "2024-08-27T08:29:37.589Z"
   },
   {
    "duration": 14,
    "start_time": "2024-08-27T08:31:55.755Z"
   },
   {
    "duration": 7,
    "start_time": "2024-08-27T08:33:33.060Z"
   },
   {
    "duration": 7,
    "start_time": "2024-08-27T08:33:40.545Z"
   },
   {
    "duration": 7,
    "start_time": "2024-08-27T08:33:41.953Z"
   },
   {
    "duration": 7,
    "start_time": "2024-08-27T08:34:04.788Z"
   },
   {
    "duration": 7,
    "start_time": "2024-08-27T08:35:32.008Z"
   },
   {
    "duration": 6,
    "start_time": "2024-08-27T08:35:50.721Z"
   },
   {
    "duration": 8,
    "start_time": "2024-08-27T08:35:57.353Z"
   },
   {
    "duration": 81,
    "start_time": "2024-08-27T08:36:00.873Z"
   },
   {
    "duration": 16,
    "start_time": "2024-08-27T08:36:00.955Z"
   },
   {
    "duration": 17,
    "start_time": "2024-08-27T08:36:00.972Z"
   },
   {
    "duration": 11,
    "start_time": "2024-08-27T08:36:00.991Z"
   },
   {
    "duration": 63,
    "start_time": "2024-08-27T08:36:01.004Z"
   },
   {
    "duration": 3,
    "start_time": "2024-08-27T08:36:01.069Z"
   },
   {
    "duration": 10,
    "start_time": "2024-08-27T08:36:01.074Z"
   },
   {
    "duration": 13,
    "start_time": "2024-08-27T08:36:01.085Z"
   },
   {
    "duration": 6,
    "start_time": "2024-08-27T08:36:01.100Z"
   },
   {
    "duration": 4,
    "start_time": "2024-08-27T08:36:01.109Z"
   },
   {
    "duration": 56,
    "start_time": "2024-08-27T08:36:01.114Z"
   },
   {
    "duration": 10,
    "start_time": "2024-08-27T08:36:01.171Z"
   },
   {
    "duration": 23,
    "start_time": "2024-08-27T08:36:01.182Z"
   },
   {
    "duration": 15,
    "start_time": "2024-08-27T08:36:01.206Z"
   },
   {
    "duration": 28,
    "start_time": "2024-08-27T08:36:01.223Z"
   },
   {
    "duration": 18,
    "start_time": "2024-08-27T08:36:01.252Z"
   },
   {
    "duration": 4,
    "start_time": "2024-08-27T08:36:01.271Z"
   },
   {
    "duration": 30,
    "start_time": "2024-08-27T08:36:01.276Z"
   },
   {
    "duration": 5,
    "start_time": "2024-08-27T08:36:01.308Z"
   },
   {
    "duration": 5,
    "start_time": "2024-08-27T08:36:01.315Z"
   },
   {
    "duration": 22,
    "start_time": "2024-08-27T08:36:01.321Z"
   },
   {
    "duration": 8,
    "start_time": "2024-08-27T08:36:01.344Z"
   },
   {
    "duration": 5,
    "start_time": "2024-08-27T08:36:01.353Z"
   },
   {
    "duration": 10,
    "start_time": "2024-08-27T08:36:01.360Z"
   },
   {
    "duration": 6,
    "start_time": "2024-08-27T08:36:01.372Z"
   },
   {
    "duration": 14,
    "start_time": "2024-08-27T08:36:01.379Z"
   },
   {
    "duration": 22,
    "start_time": "2024-08-27T08:36:01.395Z"
   },
   {
    "duration": 7,
    "start_time": "2024-08-27T08:36:01.422Z"
   },
   {
    "duration": 10,
    "start_time": "2024-08-27T08:36:01.452Z"
   },
   {
    "duration": 0,
    "start_time": "2024-08-27T08:36:01.464Z"
   },
   {
    "duration": 0,
    "start_time": "2024-08-27T08:36:01.465Z"
   },
   {
    "duration": 0,
    "start_time": "2024-08-27T08:36:01.465Z"
   },
   {
    "duration": 0,
    "start_time": "2024-08-27T08:36:01.466Z"
   },
   {
    "duration": 0,
    "start_time": "2024-08-27T08:36:01.467Z"
   },
   {
    "duration": 0,
    "start_time": "2024-08-27T08:36:01.468Z"
   },
   {
    "duration": 0,
    "start_time": "2024-08-27T08:36:01.469Z"
   },
   {
    "duration": 0,
    "start_time": "2024-08-27T08:36:01.470Z"
   },
   {
    "duration": 0,
    "start_time": "2024-08-27T08:36:01.471Z"
   },
   {
    "duration": 0,
    "start_time": "2024-08-27T08:36:01.472Z"
   },
   {
    "duration": 0,
    "start_time": "2024-08-27T08:36:01.473Z"
   },
   {
    "duration": 0,
    "start_time": "2024-08-27T08:36:01.474Z"
   },
   {
    "duration": 858,
    "start_time": "2024-08-27T08:36:20.933Z"
   },
   {
    "duration": 6,
    "start_time": "2024-08-27T08:37:11.566Z"
   },
   {
    "duration": 7,
    "start_time": "2024-08-27T08:37:15.956Z"
   },
   {
    "duration": 18,
    "start_time": "2024-08-27T08:37:20.871Z"
   },
   {
    "duration": 7,
    "start_time": "2024-08-27T08:37:38.321Z"
   },
   {
    "duration": 7,
    "start_time": "2024-08-27T08:37:45.291Z"
   },
   {
    "duration": 7,
    "start_time": "2024-08-27T08:39:56.754Z"
   },
   {
    "duration": 12,
    "start_time": "2024-08-27T08:40:15.557Z"
   },
   {
    "duration": 10,
    "start_time": "2024-08-27T08:40:37.069Z"
   },
   {
    "duration": 9,
    "start_time": "2024-08-27T08:41:24.318Z"
   },
   {
    "duration": 6,
    "start_time": "2024-08-27T08:41:59.265Z"
   },
   {
    "duration": 7,
    "start_time": "2024-08-27T08:44:09.169Z"
   },
   {
    "duration": 7,
    "start_time": "2024-08-27T08:45:05.280Z"
   },
   {
    "duration": 7,
    "start_time": "2024-08-27T08:45:46.865Z"
   },
   {
    "duration": 7,
    "start_time": "2024-08-27T08:47:28.469Z"
   },
   {
    "duration": 6,
    "start_time": "2024-08-27T08:49:10.562Z"
   },
   {
    "duration": 44,
    "start_time": "2024-08-27T08:49:41.174Z"
   },
   {
    "duration": 51,
    "start_time": "2024-08-27T08:52:15.923Z"
   },
   {
    "duration": 44,
    "start_time": "2024-08-27T08:52:43.293Z"
   },
   {
    "duration": 60,
    "start_time": "2024-08-27T08:53:08.371Z"
   },
   {
    "duration": 23,
    "start_time": "2024-08-27T08:54:29.811Z"
   },
   {
    "duration": 14,
    "start_time": "2024-08-27T08:54:39.258Z"
   },
   {
    "duration": 54,
    "start_time": "2024-08-27T08:59:55.299Z"
   },
   {
    "duration": 14,
    "start_time": "2024-08-27T09:00:00.589Z"
   },
   {
    "duration": 50,
    "start_time": "2024-08-27T09:04:18.661Z"
   },
   {
    "duration": 13,
    "start_time": "2024-08-27T09:10:43.486Z"
   },
   {
    "duration": 51,
    "start_time": "2024-08-27T09:15:49.403Z"
   },
   {
    "duration": 8,
    "start_time": "2024-08-27T09:17:47.909Z"
   },
   {
    "duration": 15,
    "start_time": "2024-08-27T09:18:56.118Z"
   },
   {
    "duration": 6,
    "start_time": "2024-08-27T09:20:51.127Z"
   },
   {
    "duration": 7,
    "start_time": "2024-08-27T09:21:03.692Z"
   },
   {
    "duration": 7,
    "start_time": "2024-08-27T09:23:51.249Z"
   },
   {
    "duration": 9,
    "start_time": "2024-08-27T09:24:34.916Z"
   },
   {
    "duration": 6,
    "start_time": "2024-08-27T09:25:21.394Z"
   },
   {
    "duration": 5,
    "start_time": "2024-08-27T09:26:42.993Z"
   },
   {
    "duration": 43,
    "start_time": "2024-08-27T09:27:02.528Z"
   },
   {
    "duration": 14,
    "start_time": "2024-08-27T09:30:06.036Z"
   },
   {
    "duration": 82,
    "start_time": "2024-08-27T09:30:26.402Z"
   },
   {
    "duration": 15,
    "start_time": "2024-08-27T09:30:26.486Z"
   },
   {
    "duration": 15,
    "start_time": "2024-08-27T09:30:26.727Z"
   },
   {
    "duration": 11,
    "start_time": "2024-08-27T09:30:26.744Z"
   },
   {
    "duration": 38,
    "start_time": "2024-08-27T09:30:26.756Z"
   },
   {
    "duration": 4,
    "start_time": "2024-08-27T09:30:26.795Z"
   },
   {
    "duration": 9,
    "start_time": "2024-08-27T09:30:26.800Z"
   },
   {
    "duration": 12,
    "start_time": "2024-08-27T09:30:26.811Z"
   },
   {
    "duration": 5,
    "start_time": "2024-08-27T09:30:26.825Z"
   },
   {
    "duration": 4,
    "start_time": "2024-08-27T09:30:26.831Z"
   },
   {
    "duration": 36,
    "start_time": "2024-08-27T09:30:26.836Z"
   },
   {
    "duration": 10,
    "start_time": "2024-08-27T09:30:26.874Z"
   },
   {
    "duration": 3,
    "start_time": "2024-08-27T09:30:26.886Z"
   },
   {
    "duration": 12,
    "start_time": "2024-08-27T09:30:26.890Z"
   },
   {
    "duration": 64,
    "start_time": "2024-08-27T09:30:26.903Z"
   },
   {
    "duration": 49,
    "start_time": "2024-08-27T09:30:26.970Z"
   },
   {
    "duration": 4,
    "start_time": "2024-08-27T09:30:27.020Z"
   },
   {
    "duration": 12,
    "start_time": "2024-08-27T09:30:27.025Z"
   },
   {
    "duration": 5,
    "start_time": "2024-08-27T09:30:27.039Z"
   },
   {
    "duration": 4,
    "start_time": "2024-08-27T09:30:27.045Z"
   },
   {
    "duration": 10,
    "start_time": "2024-08-27T09:30:27.050Z"
   },
   {
    "duration": 7,
    "start_time": "2024-08-27T09:30:27.061Z"
   },
   {
    "duration": 6,
    "start_time": "2024-08-27T09:30:27.070Z"
   },
   {
    "duration": 10,
    "start_time": "2024-08-27T09:30:27.077Z"
   },
   {
    "duration": 6,
    "start_time": "2024-08-27T09:30:27.089Z"
   },
   {
    "duration": 13,
    "start_time": "2024-08-27T09:30:27.096Z"
   },
   {
    "duration": 43,
    "start_time": "2024-08-27T09:30:27.110Z"
   },
   {
    "duration": 6,
    "start_time": "2024-08-27T09:30:27.155Z"
   },
   {
    "duration": 11,
    "start_time": "2024-08-27T09:30:27.162Z"
   },
   {
    "duration": 7,
    "start_time": "2024-08-27T09:30:27.175Z"
   },
   {
    "duration": 17,
    "start_time": "2024-08-27T09:30:27.184Z"
   },
   {
    "duration": 7,
    "start_time": "2024-08-27T09:30:27.203Z"
   },
   {
    "duration": 7,
    "start_time": "2024-08-27T09:30:27.212Z"
   },
   {
    "duration": 34,
    "start_time": "2024-08-27T09:30:27.221Z"
   },
   {
    "duration": 9,
    "start_time": "2024-08-27T09:30:27.257Z"
   },
   {
    "duration": 14,
    "start_time": "2024-08-27T09:30:27.268Z"
   },
   {
    "duration": 12,
    "start_time": "2024-08-27T09:30:27.284Z"
   },
   {
    "duration": 8,
    "start_time": "2024-08-27T09:30:27.298Z"
   },
   {
    "duration": 7,
    "start_time": "2024-08-27T09:30:27.307Z"
   },
   {
    "duration": 37,
    "start_time": "2024-08-27T09:30:27.316Z"
   },
   {
    "duration": 14,
    "start_time": "2024-08-27T09:30:27.355Z"
   },
   {
    "duration": 7,
    "start_time": "2024-08-27T12:06:34.935Z"
   },
   {
    "duration": 7,
    "start_time": "2024-08-27T12:07:05.329Z"
   },
   {
    "duration": 7,
    "start_time": "2024-08-27T12:08:07.591Z"
   },
   {
    "duration": 7,
    "start_time": "2024-08-27T12:08:17.645Z"
   },
   {
    "duration": 45,
    "start_time": "2024-08-27T12:46:35.845Z"
   },
   {
    "duration": 54,
    "start_time": "2024-08-27T12:47:19.104Z"
   },
   {
    "duration": 44,
    "start_time": "2024-08-27T13:09:59.026Z"
   },
   {
    "duration": 81,
    "start_time": "2024-08-27T13:12:04.637Z"
   },
   {
    "duration": 16,
    "start_time": "2024-08-27T13:12:04.720Z"
   },
   {
    "duration": 29,
    "start_time": "2024-08-27T13:12:04.737Z"
   },
   {
    "duration": 10,
    "start_time": "2024-08-27T13:12:04.768Z"
   },
   {
    "duration": 37,
    "start_time": "2024-08-27T13:12:04.780Z"
   },
   {
    "duration": 3,
    "start_time": "2024-08-27T13:12:04.818Z"
   },
   {
    "duration": 34,
    "start_time": "2024-08-27T13:12:04.823Z"
   },
   {
    "duration": 10,
    "start_time": "2024-08-27T13:12:04.858Z"
   },
   {
    "duration": 5,
    "start_time": "2024-08-27T13:12:04.870Z"
   },
   {
    "duration": 3,
    "start_time": "2024-08-27T13:12:04.878Z"
   },
   {
    "duration": 38,
    "start_time": "2024-08-27T13:12:04.883Z"
   },
   {
    "duration": 31,
    "start_time": "2024-08-27T13:12:04.922Z"
   },
   {
    "duration": 3,
    "start_time": "2024-08-27T13:12:04.955Z"
   },
   {
    "duration": 16,
    "start_time": "2024-08-27T13:12:04.959Z"
   },
   {
    "duration": 28,
    "start_time": "2024-08-27T13:12:04.977Z"
   },
   {
    "duration": 19,
    "start_time": "2024-08-27T13:12:05.007Z"
   },
   {
    "duration": 3,
    "start_time": "2024-08-27T13:12:05.028Z"
   },
   {
    "duration": 29,
    "start_time": "2024-08-27T13:12:05.032Z"
   },
   {
    "duration": 8,
    "start_time": "2024-08-27T13:12:05.062Z"
   },
   {
    "duration": 4,
    "start_time": "2024-08-27T13:12:05.072Z"
   },
   {
    "duration": 13,
    "start_time": "2024-08-27T13:12:05.078Z"
   },
   {
    "duration": 16,
    "start_time": "2024-08-27T13:12:05.092Z"
   },
   {
    "duration": 7,
    "start_time": "2024-08-27T13:12:05.110Z"
   },
   {
    "duration": 35,
    "start_time": "2024-08-27T13:12:05.118Z"
   },
   {
    "duration": 9,
    "start_time": "2024-08-27T13:12:05.155Z"
   },
   {
    "duration": 16,
    "start_time": "2024-08-27T13:12:05.165Z"
   },
   {
    "duration": 8,
    "start_time": "2024-08-27T13:12:05.182Z"
   },
   {
    "duration": 10,
    "start_time": "2024-08-27T13:12:05.193Z"
   },
   {
    "duration": 10,
    "start_time": "2024-08-27T13:12:05.205Z"
   },
   {
    "duration": 37,
    "start_time": "2024-08-27T13:12:05.216Z"
   },
   {
    "duration": 21,
    "start_time": "2024-08-27T13:12:05.254Z"
   },
   {
    "duration": 8,
    "start_time": "2024-08-27T13:12:05.276Z"
   },
   {
    "duration": 7,
    "start_time": "2024-08-27T13:12:05.285Z"
   },
   {
    "duration": 28,
    "start_time": "2024-08-27T13:12:05.293Z"
   },
   {
    "duration": 8,
    "start_time": "2024-08-27T13:12:05.322Z"
   },
   {
    "duration": 19,
    "start_time": "2024-08-27T13:12:05.332Z"
   },
   {
    "duration": 17,
    "start_time": "2024-08-27T13:12:05.352Z"
   },
   {
    "duration": 17,
    "start_time": "2024-08-27T13:12:05.370Z"
   },
   {
    "duration": 7,
    "start_time": "2024-08-27T13:12:05.389Z"
   },
   {
    "duration": 16,
    "start_time": "2024-08-27T13:12:05.398Z"
   },
   {
    "duration": 52,
    "start_time": "2024-08-27T13:12:05.415Z"
   },
   {
    "duration": 80,
    "start_time": "2024-08-27T13:24:04.336Z"
   },
   {
    "duration": 14,
    "start_time": "2024-08-27T13:24:04.418Z"
   },
   {
    "duration": 27,
    "start_time": "2024-08-27T13:24:04.434Z"
   },
   {
    "duration": 10,
    "start_time": "2024-08-27T13:24:04.463Z"
   },
   {
    "duration": 37,
    "start_time": "2024-08-27T13:24:04.475Z"
   },
   {
    "duration": 3,
    "start_time": "2024-08-27T13:24:04.513Z"
   },
   {
    "duration": 9,
    "start_time": "2024-08-27T13:24:04.517Z"
   },
   {
    "duration": 27,
    "start_time": "2024-08-27T13:24:04.527Z"
   },
   {
    "duration": 5,
    "start_time": "2024-08-27T13:24:04.556Z"
   },
   {
    "duration": 4,
    "start_time": "2024-08-27T13:24:04.564Z"
   },
   {
    "duration": 36,
    "start_time": "2024-08-27T13:24:04.570Z"
   },
   {
    "duration": 11,
    "start_time": "2024-08-27T13:24:04.608Z"
   },
   {
    "duration": 33,
    "start_time": "2024-08-27T13:24:04.620Z"
   },
   {
    "duration": 22,
    "start_time": "2024-08-27T13:24:04.654Z"
   },
   {
    "duration": 48,
    "start_time": "2024-08-27T13:24:04.678Z"
   },
   {
    "duration": 59,
    "start_time": "2024-08-27T13:24:04.728Z"
   },
   {
    "duration": 4,
    "start_time": "2024-08-27T13:24:04.788Z"
   },
   {
    "duration": 22,
    "start_time": "2024-08-27T13:24:04.793Z"
   },
   {
    "duration": 8,
    "start_time": "2024-08-27T13:24:04.817Z"
   },
   {
    "duration": 3,
    "start_time": "2024-08-27T13:24:04.827Z"
   },
   {
    "duration": 15,
    "start_time": "2024-08-27T13:24:04.831Z"
   },
   {
    "duration": 7,
    "start_time": "2024-08-27T13:24:04.848Z"
   },
   {
    "duration": 15,
    "start_time": "2024-08-27T13:24:04.856Z"
   },
   {
    "duration": 8,
    "start_time": "2024-08-27T13:24:04.872Z"
   },
   {
    "duration": 10,
    "start_time": "2024-08-27T13:24:04.881Z"
   },
   {
    "duration": 20,
    "start_time": "2024-08-27T13:24:04.892Z"
   },
   {
    "duration": 10,
    "start_time": "2024-08-27T13:24:04.914Z"
   },
   {
    "duration": 25,
    "start_time": "2024-08-27T13:24:04.927Z"
   },
   {
    "duration": 7,
    "start_time": "2024-08-27T13:24:04.954Z"
   },
   {
    "duration": 8,
    "start_time": "2024-08-27T13:24:04.962Z"
   },
   {
    "duration": 14,
    "start_time": "2024-08-27T13:24:04.972Z"
   },
   {
    "duration": 8,
    "start_time": "2024-08-27T13:24:04.987Z"
   },
   {
    "duration": 8,
    "start_time": "2024-08-27T13:24:04.996Z"
   },
   {
    "duration": 7,
    "start_time": "2024-08-27T13:24:05.005Z"
   },
   {
    "duration": 41,
    "start_time": "2024-08-27T13:24:05.013Z"
   },
   {
    "duration": 15,
    "start_time": "2024-08-27T13:24:05.055Z"
   },
   {
    "duration": 15,
    "start_time": "2024-08-27T13:24:05.072Z"
   },
   {
    "duration": 9,
    "start_time": "2024-08-27T13:24:05.089Z"
   },
   {
    "duration": 10,
    "start_time": "2024-08-27T13:24:05.100Z"
   },
   {
    "duration": 13,
    "start_time": "2024-08-27T13:24:05.112Z"
   },
   {
    "duration": 15,
    "start_time": "2024-08-27T13:24:05.153Z"
   },
   {
    "duration": 13,
    "start_time": "2024-08-27T13:29:49.150Z"
   },
   {
    "duration": 45,
    "start_time": "2024-08-29T08:04:30.878Z"
   },
   {
    "duration": 560,
    "start_time": "2024-08-29T08:04:41.718Z"
   },
   {
    "duration": 22,
    "start_time": "2024-08-29T08:04:42.280Z"
   },
   {
    "duration": 41,
    "start_time": "2024-08-29T08:04:42.304Z"
   },
   {
    "duration": 33,
    "start_time": "2024-08-29T08:04:42.346Z"
   },
   {
    "duration": 103,
    "start_time": "2024-08-29T08:04:42.381Z"
   },
   {
    "duration": 4,
    "start_time": "2024-08-29T08:04:42.485Z"
   },
   {
    "duration": 15,
    "start_time": "2024-08-29T08:04:42.491Z"
   },
   {
    "duration": 4,
    "start_time": "2024-08-29T08:04:42.508Z"
   },
   {
    "duration": 8,
    "start_time": "2024-08-29T08:04:42.513Z"
   },
   {
    "duration": 9,
    "start_time": "2024-08-29T08:04:42.522Z"
   },
   {
    "duration": 37,
    "start_time": "2024-08-29T08:04:42.533Z"
   },
   {
    "duration": 10,
    "start_time": "2024-08-29T08:04:42.571Z"
   },
   {
    "duration": 9,
    "start_time": "2024-08-29T08:04:42.583Z"
   },
   {
    "duration": 11,
    "start_time": "2024-08-29T08:04:42.595Z"
   },
   {
    "duration": 37,
    "start_time": "2024-08-29T08:04:42.608Z"
   },
   {
    "duration": 16,
    "start_time": "2024-08-29T08:04:42.646Z"
   },
   {
    "duration": 3,
    "start_time": "2024-08-29T08:04:42.664Z"
   },
   {
    "duration": 25,
    "start_time": "2024-08-29T08:04:42.668Z"
   },
   {
    "duration": 24,
    "start_time": "2024-08-29T08:04:42.694Z"
   },
   {
    "duration": 4,
    "start_time": "2024-08-29T08:04:42.719Z"
   },
   {
    "duration": 17,
    "start_time": "2024-08-29T08:04:42.724Z"
   },
   {
    "duration": 9,
    "start_time": "2024-08-29T08:04:42.742Z"
   },
   {
    "duration": 15,
    "start_time": "2024-08-29T08:04:42.752Z"
   },
   {
    "duration": 10,
    "start_time": "2024-08-29T08:04:42.768Z"
   },
   {
    "duration": 12,
    "start_time": "2024-08-29T08:04:42.779Z"
   },
   {
    "duration": 8,
    "start_time": "2024-08-29T08:04:42.792Z"
   },
   {
    "duration": 18,
    "start_time": "2024-08-29T08:04:42.802Z"
   },
   {
    "duration": 25,
    "start_time": "2024-08-29T08:04:42.822Z"
   },
   {
    "duration": 28,
    "start_time": "2024-08-29T08:04:42.849Z"
   },
   {
    "duration": 0,
    "start_time": "2024-08-29T08:04:42.879Z"
   },
   {
    "duration": 0,
    "start_time": "2024-08-29T08:04:42.880Z"
   },
   {
    "duration": 0,
    "start_time": "2024-08-29T08:04:42.881Z"
   },
   {
    "duration": 0,
    "start_time": "2024-08-29T08:04:42.882Z"
   },
   {
    "duration": 0,
    "start_time": "2024-08-29T08:04:42.883Z"
   },
   {
    "duration": 1,
    "start_time": "2024-08-29T08:04:42.883Z"
   },
   {
    "duration": 0,
    "start_time": "2024-08-29T08:04:42.884Z"
   },
   {
    "duration": 0,
    "start_time": "2024-08-29T08:04:42.885Z"
   },
   {
    "duration": 0,
    "start_time": "2024-08-29T08:04:42.886Z"
   },
   {
    "duration": 0,
    "start_time": "2024-08-29T08:04:42.887Z"
   },
   {
    "duration": 0,
    "start_time": "2024-08-29T08:04:42.888Z"
   },
   {
    "duration": 0,
    "start_time": "2024-08-29T08:04:42.889Z"
   },
   {
    "duration": 0,
    "start_time": "2024-08-29T08:04:42.890Z"
   },
   {
    "duration": 16,
    "start_time": "2024-08-29T08:10:51.914Z"
   },
   {
    "duration": 7,
    "start_time": "2024-08-29T08:11:25.049Z"
   },
   {
    "duration": 10,
    "start_time": "2024-08-29T08:11:51.255Z"
   },
   {
    "duration": 7,
    "start_time": "2024-08-29T08:11:56.648Z"
   },
   {
    "duration": 90,
    "start_time": "2024-08-29T08:12:00.010Z"
   },
   {
    "duration": 37,
    "start_time": "2024-08-29T08:12:00.102Z"
   },
   {
    "duration": 34,
    "start_time": "2024-08-29T08:12:00.141Z"
   },
   {
    "duration": 25,
    "start_time": "2024-08-29T08:12:00.176Z"
   },
   {
    "duration": 62,
    "start_time": "2024-08-29T08:12:00.203Z"
   },
   {
    "duration": 3,
    "start_time": "2024-08-29T08:12:00.267Z"
   },
   {
    "duration": 50,
    "start_time": "2024-08-29T08:12:00.271Z"
   },
   {
    "duration": 81,
    "start_time": "2024-08-29T08:12:00.324Z"
   },
   {
    "duration": 90,
    "start_time": "2024-08-29T08:12:00.407Z"
   },
   {
    "duration": 71,
    "start_time": "2024-08-29T08:12:00.498Z"
   },
   {
    "duration": 39,
    "start_time": "2024-08-29T08:12:00.571Z"
   },
   {
    "duration": 13,
    "start_time": "2024-08-29T08:12:00.612Z"
   },
   {
    "duration": 13,
    "start_time": "2024-08-29T08:12:00.627Z"
   },
   {
    "duration": 17,
    "start_time": "2024-08-29T08:12:00.643Z"
   },
   {
    "duration": 20,
    "start_time": "2024-08-29T08:12:00.662Z"
   },
   {
    "duration": 19,
    "start_time": "2024-08-29T08:12:00.683Z"
   },
   {
    "duration": 5,
    "start_time": "2024-08-29T08:12:00.703Z"
   },
   {
    "duration": 35,
    "start_time": "2024-08-29T08:12:00.710Z"
   },
   {
    "duration": 12,
    "start_time": "2024-08-29T08:12:00.746Z"
   },
   {
    "duration": 4,
    "start_time": "2024-08-29T08:12:00.759Z"
   },
   {
    "duration": 11,
    "start_time": "2024-08-29T08:12:00.765Z"
   },
   {
    "duration": 9,
    "start_time": "2024-08-29T08:12:00.777Z"
   },
   {
    "duration": 18,
    "start_time": "2024-08-29T08:12:00.787Z"
   },
   {
    "duration": 18,
    "start_time": "2024-08-29T08:12:00.807Z"
   },
   {
    "duration": 19,
    "start_time": "2024-08-29T08:12:00.826Z"
   },
   {
    "duration": 6,
    "start_time": "2024-08-29T08:12:00.847Z"
   },
   {
    "duration": 14,
    "start_time": "2024-08-29T08:12:00.855Z"
   },
   {
    "duration": 11,
    "start_time": "2024-08-29T08:12:00.871Z"
   },
   {
    "duration": 8,
    "start_time": "2024-08-29T08:12:00.883Z"
   },
   {
    "duration": 9,
    "start_time": "2024-08-29T08:12:00.893Z"
   },
   {
    "duration": 0,
    "start_time": "2024-08-29T08:12:00.903Z"
   },
   {
    "duration": 0,
    "start_time": "2024-08-29T08:12:00.904Z"
   },
   {
    "duration": 0,
    "start_time": "2024-08-29T08:12:00.905Z"
   },
   {
    "duration": 0,
    "start_time": "2024-08-29T08:12:00.906Z"
   },
   {
    "duration": 0,
    "start_time": "2024-08-29T08:12:00.907Z"
   },
   {
    "duration": 0,
    "start_time": "2024-08-29T08:12:00.908Z"
   },
   {
    "duration": 0,
    "start_time": "2024-08-29T08:12:00.937Z"
   },
   {
    "duration": 0,
    "start_time": "2024-08-29T08:12:00.938Z"
   },
   {
    "duration": 0,
    "start_time": "2024-08-29T08:12:00.939Z"
   },
   {
    "duration": 0,
    "start_time": "2024-08-29T08:12:00.940Z"
   },
   {
    "duration": 0,
    "start_time": "2024-08-29T08:12:00.941Z"
   },
   {
    "duration": 0,
    "start_time": "2024-08-29T08:12:00.942Z"
   },
   {
    "duration": 0,
    "start_time": "2024-08-29T08:12:00.944Z"
   },
   {
    "duration": 10,
    "start_time": "2024-08-29T08:12:45.915Z"
   },
   {
    "duration": 14,
    "start_time": "2024-08-29T08:25:09.273Z"
   },
   {
    "duration": 11,
    "start_time": "2024-08-29T08:25:32.553Z"
   },
   {
    "duration": 36,
    "start_time": "2024-08-29T08:25:41.382Z"
   },
   {
    "duration": 10,
    "start_time": "2024-08-29T08:26:01.118Z"
   },
   {
    "duration": 11,
    "start_time": "2024-08-29T08:26:33.480Z"
   },
   {
    "duration": 13,
    "start_time": "2024-08-29T08:27:27.950Z"
   },
   {
    "duration": 251,
    "start_time": "2024-08-29T08:28:03.287Z"
   },
   {
    "duration": 11,
    "start_time": "2024-08-29T08:28:22.191Z"
   },
   {
    "duration": 11,
    "start_time": "2024-08-29T08:30:59.547Z"
   },
   {
    "duration": 12,
    "start_time": "2024-08-29T08:33:35.624Z"
   },
   {
    "duration": 11,
    "start_time": "2024-08-29T08:33:54.610Z"
   },
   {
    "duration": 8,
    "start_time": "2024-08-29T08:34:05.223Z"
   },
   {
    "duration": 14,
    "start_time": "2024-08-29T08:42:03.449Z"
   },
   {
    "duration": 10,
    "start_time": "2024-08-29T08:42:14.988Z"
   },
   {
    "duration": 17,
    "start_time": "2024-08-29T08:42:54.965Z"
   },
   {
    "duration": 272,
    "start_time": "2024-08-29T08:45:26.323Z"
   },
   {
    "duration": 245,
    "start_time": "2024-08-29T08:45:49.194Z"
   },
   {
    "duration": 291,
    "start_time": "2024-08-29T08:46:03.814Z"
   },
   {
    "duration": 20,
    "start_time": "2024-08-29T08:47:45.255Z"
   },
   {
    "duration": 1514,
    "start_time": "2024-08-29T08:47:54.614Z"
   },
   {
    "duration": 250,
    "start_time": "2024-08-29T08:48:34.679Z"
   },
   {
    "duration": 263,
    "start_time": "2024-08-29T08:49:48.344Z"
   },
   {
    "duration": 9,
    "start_time": "2024-08-29T08:50:06.650Z"
   },
   {
    "duration": 247,
    "start_time": "2024-08-29T08:53:51.306Z"
   },
   {
    "duration": 73,
    "start_time": "2024-08-29T08:53:56.112Z"
   },
   {
    "duration": 15,
    "start_time": "2024-08-29T08:53:56.187Z"
   },
   {
    "duration": 34,
    "start_time": "2024-08-29T08:53:56.203Z"
   },
   {
    "duration": 17,
    "start_time": "2024-08-29T08:53:56.238Z"
   },
   {
    "duration": 42,
    "start_time": "2024-08-29T08:53:56.257Z"
   },
   {
    "duration": 13,
    "start_time": "2024-08-29T08:53:56.301Z"
   },
   {
    "duration": 7,
    "start_time": "2024-08-29T08:53:56.316Z"
   },
   {
    "duration": 3,
    "start_time": "2024-08-29T08:53:56.324Z"
   },
   {
    "duration": 8,
    "start_time": "2024-08-29T08:53:56.329Z"
   },
   {
    "duration": 3,
    "start_time": "2024-08-29T08:53:56.339Z"
   },
   {
    "duration": 36,
    "start_time": "2024-08-29T08:53:56.344Z"
   },
   {
    "duration": 12,
    "start_time": "2024-08-29T08:53:56.382Z"
   },
   {
    "duration": 18,
    "start_time": "2024-08-29T08:53:56.395Z"
   },
   {
    "duration": 30,
    "start_time": "2024-08-29T08:53:56.417Z"
   },
   {
    "duration": 20,
    "start_time": "2024-08-29T08:53:56.448Z"
   },
   {
    "duration": 16,
    "start_time": "2024-08-29T08:53:56.470Z"
   },
   {
    "duration": 4,
    "start_time": "2024-08-29T08:53:56.487Z"
   },
   {
    "duration": 19,
    "start_time": "2024-08-29T08:53:56.492Z"
   },
   {
    "duration": 106,
    "start_time": "2024-08-29T08:53:56.512Z"
   },
   {
    "duration": 10,
    "start_time": "2024-08-29T08:53:56.619Z"
   },
   {
    "duration": 17,
    "start_time": "2024-08-29T08:53:56.630Z"
   },
   {
    "duration": 9,
    "start_time": "2024-08-29T08:53:56.649Z"
   },
   {
    "duration": 6,
    "start_time": "2024-08-29T08:53:56.660Z"
   },
   {
    "duration": 9,
    "start_time": "2024-08-29T08:53:56.667Z"
   },
   {
    "duration": 8,
    "start_time": "2024-08-29T08:53:56.678Z"
   },
   {
    "duration": 10,
    "start_time": "2024-08-29T08:53:56.687Z"
   },
   {
    "duration": 19,
    "start_time": "2024-08-29T08:53:56.699Z"
   },
   {
    "duration": 0,
    "start_time": "2024-08-29T08:53:56.720Z"
   },
   {
    "duration": 0,
    "start_time": "2024-08-29T08:53:56.721Z"
   },
   {
    "duration": 0,
    "start_time": "2024-08-29T08:53:56.737Z"
   },
   {
    "duration": 0,
    "start_time": "2024-08-29T08:53:56.738Z"
   },
   {
    "duration": 0,
    "start_time": "2024-08-29T08:53:56.739Z"
   },
   {
    "duration": 0,
    "start_time": "2024-08-29T08:53:56.740Z"
   },
   {
    "duration": 0,
    "start_time": "2024-08-29T08:53:56.741Z"
   },
   {
    "duration": 0,
    "start_time": "2024-08-29T08:53:56.742Z"
   },
   {
    "duration": 0,
    "start_time": "2024-08-29T08:53:56.743Z"
   },
   {
    "duration": 0,
    "start_time": "2024-08-29T08:53:56.745Z"
   },
   {
    "duration": 0,
    "start_time": "2024-08-29T08:53:56.746Z"
   },
   {
    "duration": 0,
    "start_time": "2024-08-29T08:53:56.747Z"
   },
   {
    "duration": 0,
    "start_time": "2024-08-29T08:53:56.749Z"
   },
   {
    "duration": 0,
    "start_time": "2024-08-29T08:53:56.750Z"
   },
   {
    "duration": 0,
    "start_time": "2024-08-29T08:53:56.751Z"
   },
   {
    "duration": 0,
    "start_time": "2024-08-29T08:53:56.752Z"
   },
   {
    "duration": 266,
    "start_time": "2024-08-29T08:54:03.919Z"
   },
   {
    "duration": 70,
    "start_time": "2024-08-29T08:56:46.200Z"
   },
   {
    "duration": 8,
    "start_time": "2024-08-29T08:57:03.531Z"
   },
   {
    "duration": 2313,
    "start_time": "2024-08-29T08:58:19.487Z"
   },
   {
    "duration": 291,
    "start_time": "2024-08-29T08:58:22.163Z"
   },
   {
    "duration": 14,
    "start_time": "2024-08-29T08:59:16.706Z"
   },
   {
    "duration": 12,
    "start_time": "2024-08-29T08:59:38.943Z"
   },
   {
    "duration": 15,
    "start_time": "2024-08-29T08:59:48.009Z"
   },
   {
    "duration": 385,
    "start_time": "2024-08-29T09:00:11.327Z"
   },
   {
    "duration": 357,
    "start_time": "2024-08-29T09:00:26.260Z"
   },
   {
    "duration": 265,
    "start_time": "2024-08-29T09:01:40.476Z"
   },
   {
    "duration": 0,
    "start_time": "2024-08-29T09:02:35.058Z"
   },
   {
    "duration": 284,
    "start_time": "2024-08-29T09:02:39.424Z"
   },
   {
    "duration": 14,
    "start_time": "2024-08-29T09:04:05.351Z"
   },
   {
    "duration": 14,
    "start_time": "2024-08-29T09:04:19.996Z"
   },
   {
    "duration": 11,
    "start_time": "2024-08-29T09:05:52.839Z"
   },
   {
    "duration": 8,
    "start_time": "2024-08-29T09:09:14.435Z"
   },
   {
    "duration": 8,
    "start_time": "2024-08-29T09:09:37.303Z"
   },
   {
    "duration": 15,
    "start_time": "2024-08-29T09:11:19.978Z"
   },
   {
    "duration": 7,
    "start_time": "2024-08-29T09:11:59.040Z"
   },
   {
    "duration": 82,
    "start_time": "2024-08-29T09:13:32.133Z"
   },
   {
    "duration": 76,
    "start_time": "2024-08-29T09:15:29.969Z"
   },
   {
    "duration": 1163,
    "start_time": "2024-08-29T09:15:44.405Z"
   },
   {
    "duration": 8,
    "start_time": "2024-08-29T09:16:20.410Z"
   },
   {
    "duration": 7,
    "start_time": "2024-08-29T09:17:04.121Z"
   },
   {
    "duration": 6,
    "start_time": "2024-08-29T09:17:08.361Z"
   },
   {
    "duration": 13,
    "start_time": "2024-08-29T09:17:13.052Z"
   },
   {
    "duration": 9,
    "start_time": "2024-08-29T09:23:40.820Z"
   },
   {
    "duration": 7,
    "start_time": "2024-08-29T09:23:48.481Z"
   },
   {
    "duration": 64,
    "start_time": "2024-08-29T09:24:13.284Z"
   },
   {
    "duration": 66,
    "start_time": "2024-08-29T09:26:29.381Z"
   },
   {
    "duration": 16,
    "start_time": "2024-08-29T09:26:43.058Z"
   },
   {
    "duration": 14,
    "start_time": "2024-08-29T09:28:26.479Z"
   },
   {
    "duration": 12,
    "start_time": "2024-08-29T09:33:55.877Z"
   },
   {
    "duration": 8,
    "start_time": "2024-08-29T09:34:41.457Z"
   },
   {
    "duration": 14,
    "start_time": "2024-08-29T09:34:44.605Z"
   },
   {
    "duration": 8,
    "start_time": "2024-08-29T09:34:47.213Z"
   },
   {
    "duration": 69,
    "start_time": "2024-08-29T09:36:18.283Z"
   },
   {
    "duration": 8,
    "start_time": "2024-08-29T09:36:43.048Z"
   },
   {
    "duration": 19,
    "start_time": "2024-08-29T09:37:27.017Z"
   },
   {
    "duration": 8,
    "start_time": "2024-08-29T09:40:41.671Z"
   },
   {
    "duration": 6,
    "start_time": "2024-08-29T09:40:52.080Z"
   },
   {
    "duration": 76,
    "start_time": "2024-08-29T09:41:02.231Z"
   },
   {
    "duration": 15,
    "start_time": "2024-08-29T09:41:02.309Z"
   },
   {
    "duration": 31,
    "start_time": "2024-08-29T09:41:02.325Z"
   },
   {
    "duration": 54,
    "start_time": "2024-08-29T09:41:02.358Z"
   },
   {
    "duration": 44,
    "start_time": "2024-08-29T09:41:02.413Z"
   },
   {
    "duration": 3,
    "start_time": "2024-08-29T09:41:02.459Z"
   },
   {
    "duration": 25,
    "start_time": "2024-08-29T09:41:02.463Z"
   },
   {
    "duration": 87,
    "start_time": "2024-08-29T09:41:02.489Z"
   },
   {
    "duration": 66,
    "start_time": "2024-08-29T09:41:02.577Z"
   },
   {
    "duration": 7,
    "start_time": "2024-08-29T09:41:02.646Z"
   },
   {
    "duration": 52,
    "start_time": "2024-08-29T09:41:02.654Z"
   },
   {
    "duration": 10,
    "start_time": "2024-08-29T09:41:02.707Z"
   },
   {
    "duration": 119,
    "start_time": "2024-08-29T09:41:02.718Z"
   },
   {
    "duration": 16,
    "start_time": "2024-08-29T09:41:02.838Z"
   },
   {
    "duration": 25,
    "start_time": "2024-08-29T09:41:02.856Z"
   },
   {
    "duration": 17,
    "start_time": "2024-08-29T09:41:02.882Z"
   },
   {
    "duration": 9,
    "start_time": "2024-08-29T09:41:02.900Z"
   },
   {
    "duration": 18,
    "start_time": "2024-08-29T09:41:02.910Z"
   },
   {
    "duration": 9,
    "start_time": "2024-08-29T09:41:02.929Z"
   },
   {
    "duration": 8,
    "start_time": "2024-08-29T09:41:02.939Z"
   },
   {
    "duration": 33,
    "start_time": "2024-08-29T09:41:02.948Z"
   },
   {
    "duration": 8,
    "start_time": "2024-08-29T09:41:02.983Z"
   },
   {
    "duration": 15,
    "start_time": "2024-08-29T09:41:02.992Z"
   },
   {
    "duration": 14,
    "start_time": "2024-08-29T09:41:03.009Z"
   },
   {
    "duration": 7,
    "start_time": "2024-08-29T09:41:03.025Z"
   },
   {
    "duration": 15,
    "start_time": "2024-08-29T09:41:03.033Z"
   },
   {
    "duration": 19,
    "start_time": "2024-08-29T09:41:03.049Z"
   },
   {
    "duration": 11,
    "start_time": "2024-08-29T09:41:03.072Z"
   },
   {
    "duration": 20,
    "start_time": "2024-08-29T09:41:03.084Z"
   },
   {
    "duration": 17,
    "start_time": "2024-08-29T09:41:03.105Z"
   },
   {
    "duration": 7,
    "start_time": "2024-08-29T09:41:03.123Z"
   },
   {
    "duration": 10,
    "start_time": "2024-08-29T09:41:03.131Z"
   },
   {
    "duration": 13,
    "start_time": "2024-08-29T09:41:03.142Z"
   },
   {
    "duration": 19,
    "start_time": "2024-08-29T09:41:03.156Z"
   },
   {
    "duration": 15,
    "start_time": "2024-08-29T09:41:03.176Z"
   },
   {
    "duration": 29,
    "start_time": "2024-08-29T09:41:03.192Z"
   },
   {
    "duration": 8,
    "start_time": "2024-08-29T09:41:03.223Z"
   },
   {
    "duration": 13,
    "start_time": "2024-08-29T09:41:03.232Z"
   },
   {
    "duration": 27,
    "start_time": "2024-08-29T09:41:03.246Z"
   },
   {
    "duration": 0,
    "start_time": "2024-08-29T09:41:03.275Z"
   },
   {
    "duration": 0,
    "start_time": "2024-08-29T09:41:03.276Z"
   },
   {
    "duration": 0,
    "start_time": "2024-08-29T09:41:03.276Z"
   },
   {
    "duration": 0,
    "start_time": "2024-08-29T09:41:03.277Z"
   },
   {
    "duration": 0,
    "start_time": "2024-08-29T09:41:03.278Z"
   },
   {
    "duration": 0,
    "start_time": "2024-08-29T09:41:03.279Z"
   },
   {
    "duration": 13,
    "start_time": "2024-08-29T09:41:35.284Z"
   },
   {
    "duration": 11,
    "start_time": "2024-08-29T09:46:41.378Z"
   },
   {
    "duration": 22,
    "start_time": "2024-08-29T09:50:43.186Z"
   },
   {
    "duration": 27,
    "start_time": "2024-08-29T09:50:49.644Z"
   },
   {
    "duration": 351,
    "start_time": "2024-08-29T09:53:03.627Z"
   },
   {
    "duration": 271,
    "start_time": "2024-08-29T09:53:46.624Z"
   },
   {
    "duration": 291,
    "start_time": "2024-08-29T09:54:44.280Z"
   },
   {
    "duration": 262,
    "start_time": "2024-08-29T09:55:03.590Z"
   },
   {
    "duration": 4,
    "start_time": "2024-08-29T09:58:14.889Z"
   },
   {
    "duration": 25,
    "start_time": "2024-08-29T09:58:40.924Z"
   },
   {
    "duration": 10,
    "start_time": "2024-08-29T09:59:47.065Z"
   },
   {
    "duration": 311,
    "start_time": "2024-08-29T10:00:43.115Z"
   },
   {
    "duration": 11,
    "start_time": "2024-08-29T10:00:54.699Z"
   },
   {
    "duration": 33,
    "start_time": "2024-08-29T10:04:15.806Z"
   },
   {
    "duration": 21,
    "start_time": "2024-08-29T10:07:49.987Z"
   },
   {
    "duration": 20,
    "start_time": "2024-08-29T10:08:23.188Z"
   },
   {
    "duration": 12,
    "start_time": "2024-08-29T10:08:23.796Z"
   },
   {
    "duration": 26,
    "start_time": "2024-08-29T10:08:49.893Z"
   },
   {
    "duration": 21,
    "start_time": "2024-08-29T10:09:09.695Z"
   },
   {
    "duration": 23,
    "start_time": "2024-08-29T10:10:20.141Z"
   },
   {
    "duration": 28,
    "start_time": "2024-08-29T10:16:17.974Z"
   },
   {
    "duration": 17,
    "start_time": "2024-08-29T10:19:38.396Z"
   },
   {
    "duration": 26,
    "start_time": "2024-08-29T10:19:49.047Z"
   },
   {
    "duration": 22,
    "start_time": "2024-08-29T10:20:04.505Z"
   },
   {
    "duration": 298,
    "start_time": "2024-08-29T10:21:43.119Z"
   },
   {
    "duration": 14,
    "start_time": "2024-08-29T10:22:09.326Z"
   },
   {
    "duration": 80,
    "start_time": "2024-08-29T10:23:23.347Z"
   },
   {
    "duration": 335,
    "start_time": "2024-08-29T10:24:00.165Z"
   },
   {
    "duration": 320,
    "start_time": "2024-08-29T10:24:26.184Z"
   },
   {
    "duration": 375,
    "start_time": "2024-08-29T10:26:24.162Z"
   },
   {
    "duration": 8,
    "start_time": "2024-08-29T10:27:41.832Z"
   },
   {
    "duration": 317,
    "start_time": "2024-08-29T10:34:01.267Z"
   },
   {
    "duration": 13,
    "start_time": "2024-08-29T10:34:54.669Z"
   },
   {
    "duration": 11,
    "start_time": "2024-08-29T10:35:13.491Z"
   },
   {
    "duration": 10,
    "start_time": "2024-08-29T10:35:59.784Z"
   },
   {
    "duration": 10,
    "start_time": "2024-08-29T10:36:57.909Z"
   },
   {
    "duration": 10,
    "start_time": "2024-08-29T10:37:14.980Z"
   },
   {
    "duration": 14,
    "start_time": "2024-08-29T10:37:53.345Z"
   },
   {
    "duration": 9,
    "start_time": "2024-08-29T10:37:58.609Z"
   },
   {
    "duration": 274,
    "start_time": "2024-08-29T10:40:59.523Z"
   },
   {
    "duration": 9,
    "start_time": "2024-08-29T10:41:13.865Z"
   },
   {
    "duration": 16,
    "start_time": "2024-08-29T10:42:49.467Z"
   },
   {
    "duration": 15,
    "start_time": "2024-08-29T10:42:59.186Z"
   },
   {
    "duration": 12,
    "start_time": "2024-08-29T10:43:22.710Z"
   },
   {
    "duration": 16,
    "start_time": "2024-08-29T10:46:01.071Z"
   },
   {
    "duration": 12,
    "start_time": "2024-08-29T10:46:04.098Z"
   },
   {
    "duration": 10,
    "start_time": "2024-08-29T10:47:09.642Z"
   },
   {
    "duration": 16,
    "start_time": "2024-08-29T10:47:18.794Z"
   },
   {
    "duration": 238,
    "start_time": "2024-08-29T10:47:23.374Z"
   },
   {
    "duration": 14,
    "start_time": "2024-08-29T10:47:43.154Z"
   },
   {
    "duration": 250,
    "start_time": "2024-08-29T10:47:45.960Z"
   },
   {
    "duration": 9,
    "start_time": "2024-08-29T10:48:08.303Z"
   },
   {
    "duration": 245,
    "start_time": "2024-08-29T10:49:22.265Z"
   },
   {
    "duration": 8,
    "start_time": "2024-08-29T10:49:36.065Z"
   },
   {
    "duration": 25,
    "start_time": "2024-08-29T10:52:00.874Z"
   },
   {
    "duration": 24,
    "start_time": "2024-08-29T10:53:24.590Z"
   },
   {
    "duration": 70,
    "start_time": "2024-08-29T10:56:50.999Z"
   },
   {
    "duration": 7,
    "start_time": "2024-08-29T10:57:05.268Z"
   },
   {
    "duration": 27,
    "start_time": "2024-08-29T10:59:09.767Z"
   },
   {
    "duration": 9,
    "start_time": "2024-08-29T10:59:59.212Z"
   },
   {
    "duration": 15,
    "start_time": "2024-08-29T11:00:26.425Z"
   },
   {
    "duration": 415,
    "start_time": "2024-08-29T11:00:33.085Z"
   },
   {
    "duration": 10,
    "start_time": "2024-08-29T11:00:51.979Z"
   },
   {
    "duration": 72,
    "start_time": "2024-08-29T11:02:09.193Z"
   },
   {
    "duration": 30,
    "start_time": "2024-08-29T11:03:45.432Z"
   },
   {
    "duration": 11,
    "start_time": "2024-08-29T11:05:16.632Z"
   },
   {
    "duration": 8,
    "start_time": "2024-08-29T11:05:38.973Z"
   },
   {
    "duration": 14,
    "start_time": "2024-08-29T11:05:42.929Z"
   },
   {
    "duration": 317,
    "start_time": "2024-08-29T11:05:45.438Z"
   },
   {
    "duration": 10,
    "start_time": "2024-08-29T11:06:09.736Z"
   },
   {
    "duration": 36,
    "start_time": "2024-08-29T11:07:59.194Z"
   },
   {
    "duration": 22,
    "start_time": "2024-08-29T11:18:37.711Z"
   },
   {
    "duration": 25,
    "start_time": "2024-08-29T11:19:06.055Z"
   },
   {
    "duration": 86,
    "start_time": "2024-08-29T11:19:21.987Z"
   },
   {
    "duration": 14,
    "start_time": "2024-08-29T11:19:22.075Z"
   },
   {
    "duration": 26,
    "start_time": "2024-08-29T11:19:22.090Z"
   },
   {
    "duration": 19,
    "start_time": "2024-08-29T11:19:22.117Z"
   },
   {
    "duration": 35,
    "start_time": "2024-08-29T11:19:22.138Z"
   },
   {
    "duration": 3,
    "start_time": "2024-08-29T11:19:22.175Z"
   },
   {
    "duration": 10,
    "start_time": "2024-08-29T11:19:22.179Z"
   },
   {
    "duration": 4,
    "start_time": "2024-08-29T11:19:22.190Z"
   },
   {
    "duration": 5,
    "start_time": "2024-08-29T11:19:22.195Z"
   },
   {
    "duration": 11,
    "start_time": "2024-08-29T11:19:22.201Z"
   },
   {
    "duration": 54,
    "start_time": "2024-08-29T11:19:22.214Z"
   },
   {
    "duration": 10,
    "start_time": "2024-08-29T11:19:22.269Z"
   },
   {
    "duration": 13,
    "start_time": "2024-08-29T11:19:22.280Z"
   },
   {
    "duration": 17,
    "start_time": "2024-08-29T11:19:22.296Z"
   },
   {
    "duration": 26,
    "start_time": "2024-08-29T11:19:22.314Z"
   },
   {
    "duration": 16,
    "start_time": "2024-08-29T11:19:22.341Z"
   },
   {
    "duration": 3,
    "start_time": "2024-08-29T11:19:22.359Z"
   },
   {
    "duration": 11,
    "start_time": "2024-08-29T11:19:22.363Z"
   },
   {
    "duration": 5,
    "start_time": "2024-08-29T11:19:22.376Z"
   },
   {
    "duration": 3,
    "start_time": "2024-08-29T11:19:22.382Z"
   },
   {
    "duration": 11,
    "start_time": "2024-08-29T11:19:22.386Z"
   },
   {
    "duration": 6,
    "start_time": "2024-08-29T11:19:22.398Z"
   },
   {
    "duration": 51,
    "start_time": "2024-08-29T11:19:22.406Z"
   },
   {
    "duration": 7,
    "start_time": "2024-08-29T11:19:22.458Z"
   },
   {
    "duration": 23,
    "start_time": "2024-08-29T11:19:22.466Z"
   },
   {
    "duration": 13,
    "start_time": "2024-08-29T11:19:22.490Z"
   },
   {
    "duration": 6,
    "start_time": "2024-08-29T11:19:22.505Z"
   },
   {
    "duration": 26,
    "start_time": "2024-08-29T11:19:22.512Z"
   },
   {
    "duration": 49,
    "start_time": "2024-08-29T11:19:22.540Z"
   },
   {
    "duration": 7,
    "start_time": "2024-08-29T11:19:22.590Z"
   },
   {
    "duration": 8,
    "start_time": "2024-08-29T11:19:22.598Z"
   },
   {
    "duration": 26,
    "start_time": "2024-08-29T11:19:22.607Z"
   },
   {
    "duration": 7,
    "start_time": "2024-08-29T11:19:22.634Z"
   },
   {
    "duration": 10,
    "start_time": "2024-08-29T11:19:22.642Z"
   },
   {
    "duration": 24,
    "start_time": "2024-08-29T11:19:22.654Z"
   },
   {
    "duration": 29,
    "start_time": "2024-08-29T11:19:22.680Z"
   },
   {
    "duration": 55,
    "start_time": "2024-08-29T11:19:22.711Z"
   },
   {
    "duration": 22,
    "start_time": "2024-08-29T11:19:22.768Z"
   },
   {
    "duration": 8,
    "start_time": "2024-08-29T11:19:22.792Z"
   },
   {
    "duration": 8,
    "start_time": "2024-08-29T11:19:22.802Z"
   },
   {
    "duration": 26,
    "start_time": "2024-08-29T11:19:22.814Z"
   },
   {
    "duration": 14,
    "start_time": "2024-08-29T11:20:00.441Z"
   },
   {
    "duration": 27,
    "start_time": "2024-08-29T11:20:38.696Z"
   },
   {
    "duration": 7,
    "start_time": "2024-08-29T11:21:00.771Z"
   },
   {
    "duration": 8,
    "start_time": "2024-08-29T11:21:04.377Z"
   },
   {
    "duration": 8,
    "start_time": "2024-08-29T11:21:15.375Z"
   },
   {
    "duration": 9,
    "start_time": "2024-08-29T11:21:20.986Z"
   },
   {
    "duration": 6,
    "start_time": "2024-08-29T11:22:16.357Z"
   },
   {
    "duration": 25,
    "start_time": "2024-08-29T11:22:20.901Z"
   },
   {
    "duration": 80,
    "start_time": "2024-08-29T17:22:00.467Z"
   },
   {
    "duration": 102,
    "start_time": "2024-08-29T17:26:18.987Z"
   },
   {
    "duration": 51,
    "start_time": "2024-09-23T09:46:49.432Z"
   },
   {
    "duration": 762,
    "start_time": "2024-09-23T09:46:53.062Z"
   },
   {
    "duration": 25,
    "start_time": "2024-09-23T09:46:53.826Z"
   },
   {
    "duration": 23,
    "start_time": "2024-09-23T09:46:53.853Z"
   },
   {
    "duration": 11,
    "start_time": "2024-09-23T09:46:53.879Z"
   },
   {
    "duration": 45,
    "start_time": "2024-09-23T09:46:53.891Z"
   },
   {
    "duration": 4,
    "start_time": "2024-09-23T09:46:53.937Z"
   },
   {
    "duration": 11,
    "start_time": "2024-09-23T09:46:53.942Z"
   },
   {
    "duration": 22,
    "start_time": "2024-09-23T09:46:53.954Z"
   },
   {
    "duration": 7,
    "start_time": "2024-09-23T09:46:53.978Z"
   },
   {
    "duration": 4,
    "start_time": "2024-09-23T09:46:53.988Z"
   },
   {
    "duration": 38,
    "start_time": "2024-09-23T09:46:53.993Z"
   },
   {
    "duration": 11,
    "start_time": "2024-09-23T09:46:54.033Z"
   },
   {
    "duration": 33,
    "start_time": "2024-09-23T09:46:54.045Z"
   },
   {
    "duration": 14,
    "start_time": "2024-09-23T09:46:54.080Z"
   },
   {
    "duration": 21,
    "start_time": "2024-09-23T09:46:54.096Z"
   },
   {
    "duration": 18,
    "start_time": "2024-09-23T09:46:54.118Z"
   },
   {
    "duration": 4,
    "start_time": "2024-09-23T09:46:54.137Z"
   },
   {
    "duration": 53,
    "start_time": "2024-09-23T09:46:54.143Z"
   },
   {
    "duration": 6,
    "start_time": "2024-09-23T09:46:54.198Z"
   },
   {
    "duration": 4,
    "start_time": "2024-09-23T09:46:54.206Z"
   },
   {
    "duration": 9,
    "start_time": "2024-09-23T09:46:54.212Z"
   },
   {
    "duration": 7,
    "start_time": "2024-09-23T09:46:54.222Z"
   },
   {
    "duration": 46,
    "start_time": "2024-09-23T09:46:54.231Z"
   },
   {
    "duration": 8,
    "start_time": "2024-09-23T09:46:54.279Z"
   },
   {
    "duration": 8,
    "start_time": "2024-09-23T09:46:54.289Z"
   },
   {
    "duration": 15,
    "start_time": "2024-09-23T09:46:54.299Z"
   },
   {
    "duration": 8,
    "start_time": "2024-09-23T09:46:54.316Z"
   },
   {
    "duration": 7,
    "start_time": "2024-09-23T09:46:54.327Z"
   },
   {
    "duration": 66,
    "start_time": "2024-09-23T09:46:54.335Z"
   },
   {
    "duration": 9,
    "start_time": "2024-09-23T09:46:54.402Z"
   },
   {
    "duration": 10,
    "start_time": "2024-09-23T09:46:54.413Z"
   },
   {
    "duration": 16,
    "start_time": "2024-09-23T09:46:54.425Z"
   },
   {
    "duration": 10,
    "start_time": "2024-09-23T09:46:54.475Z"
   },
   {
    "duration": 52,
    "start_time": "2024-09-23T09:46:54.487Z"
   },
   {
    "duration": 28,
    "start_time": "2024-09-23T09:46:54.541Z"
   },
   {
    "duration": 8,
    "start_time": "2024-09-23T09:46:54.571Z"
   },
   {
    "duration": 12,
    "start_time": "2024-09-23T09:46:54.581Z"
   },
   {
    "duration": 17,
    "start_time": "2024-09-23T09:46:54.595Z"
   },
   {
    "duration": 9,
    "start_time": "2024-09-23T09:46:54.614Z"
   },
   {
    "duration": 7,
    "start_time": "2024-09-23T09:46:54.625Z"
   },
   {
    "duration": 67,
    "start_time": "2024-09-23T09:46:54.634Z"
   },
   {
    "duration": 23,
    "start_time": "2024-09-23T09:47:07.311Z"
   }
  ],
  "colab": {
   "provenance": []
  },
  "kernelspec": {
   "display_name": "Python 3 (ipykernel)",
   "language": "python",
   "name": "python3"
  },
  "language_info": {
   "codemirror_mode": {
    "name": "ipython",
    "version": 3
   },
   "file_extension": ".py",
   "mimetype": "text/x-python",
   "name": "python",
   "nbconvert_exporter": "python",
   "pygments_lexer": "ipython3",
   "version": "3.9.5"
  },
  "toc": {
   "base_numbering": 1,
   "nav_menu": {},
   "number_sections": true,
   "sideBar": true,
   "skip_h1_title": true,
   "title_cell": "Table of Contents",
   "title_sidebar": "Contents",
   "toc_cell": false,
   "toc_position": {},
   "toc_section_display": true,
   "toc_window_display": false
  }
 },
 "nbformat": 4,
 "nbformat_minor": 5
}
