{
 "cells": [
  {
   "cell_type": "markdown",
   "metadata": {},
   "source": [
    "# Принятие решений в бизнесе c помощью приоретизации гипотез и запуска A/B-тестов"
   ]
  },
  {
   "cell_type": "markdown",
   "metadata": {},
   "source": [
    "<h1>Оглавление<span class=\"tocSkip\"></span></h1>\n",
    "<div class=\"toc\"><ul class=\"toc-item\"><li><span><a href=\"#Часть-1.-Приоретизация-гипотез\" data-toc-modified-id=\"Часть-1.-Приоретизация-гипотез-1\"><span class=\"toc-item-num\">1&nbsp;&nbsp;</span>Часть 1. Приоретизация гипотез</a></span><ul class=\"toc-item\"><li><span><a href=\"#Подготовительный-этап\" data-toc-modified-id=\"Подготовительный-этап-1.1\"><span class=\"toc-item-num\">1.1&nbsp;&nbsp;</span>Подготовительный этап</a></span></li><li><span><a href=\"#Приоритезация-гипотез-методом-ICE\" data-toc-modified-id=\"Приоритезация-гипотез-методом-ICE-1.2\"><span class=\"toc-item-num\">1.2&nbsp;&nbsp;</span>Приоритезация гипотез методом ICE</a></span></li><li><span><a href=\"#Вывод-по-приоретизации-гипотез\" data-toc-modified-id=\"Вывод-по-приоретизации-гипотез-1.3\"><span class=\"toc-item-num\">1.3&nbsp;&nbsp;</span>Вывод по приоретизации гипотез</a></span></li></ul></li><li><span><a href=\"#Часть-2.-Анализ-A/B-теста\" data-toc-modified-id=\"Часть-2.-Анализ-A/B-теста-2\"><span class=\"toc-item-num\">2&nbsp;&nbsp;</span>Часть 2. Анализ A/B-теста</a></span><ul class=\"toc-item\"><li><span><a href=\"#Подготовительный-этап\" data-toc-modified-id=\"Подготовительный-этап-2.1\"><span class=\"toc-item-num\">2.1&nbsp;&nbsp;</span>Подготовительный этап</a></span></li><li><span><a href=\"#Куммулятивные-метрики\" data-toc-modified-id=\"Куммулятивные-метрики-2.2\"><span class=\"toc-item-num\">2.2&nbsp;&nbsp;</span>Куммулятивные метрики</a></span><ul class=\"toc-item\"><li><span><a href=\"#Построение-графика-кумулятивной-выручки-по-группам.\" data-toc-modified-id=\"Построение-графика-кумулятивной-выручки-по-группам.-2.2.1\"><span class=\"toc-item-num\">2.2.1&nbsp;&nbsp;</span>Построение графика кумулятивной выручки по группам.</a></span></li><li><span><a href=\"#Построение-графика-кумулятивного-среднего-чека-по-группам.\" data-toc-modified-id=\"Построение-графика-кумулятивного-среднего-чека-по-группам.-2.2.2\"><span class=\"toc-item-num\">2.2.2&nbsp;&nbsp;</span>Построение графика кумулятивного среднего чека по группам.</a></span></li><li><span><a href=\"#Построение-графика-относительного-изменения-кумулятивного-среднего-чека-группы-B-к-группе-A.\" data-toc-modified-id=\"Построение-графика-относительного-изменения-кумулятивного-среднего-чека-группы-B-к-группе-A.-2.2.3\"><span class=\"toc-item-num\">2.2.3&nbsp;&nbsp;</span>Построение графика относительного изменения кумулятивного среднего чека группы B к группе A.</a></span></li><li><span><a href=\"#Построение-графика-кумулятивного-среднего-количества-заказов-на-посетителя-по-группам.\" data-toc-modified-id=\"Построение-графика-кумулятивного-среднего-количества-заказов-на-посетителя-по-группам.-2.2.4\"><span class=\"toc-item-num\">2.2.4&nbsp;&nbsp;</span>Построение графика кумулятивного среднего количества заказов на посетителя по группам.</a></span></li><li><span><a href=\"#Построение-графика-относительного-изменения-кумулятивного-среднего-количества-заказов-на-посетителя-группы-B-к-группе-A.\" data-toc-modified-id=\"Построение-графика-относительного-изменения-кумулятивного-среднего-количества-заказов-на-посетителя-группы-B-к-группе-A.-2.2.5\"><span class=\"toc-item-num\">2.2.5&nbsp;&nbsp;</span>Построение графика относительного изменения кумулятивного среднего количества заказов на посетителя группы B к группе A.</a></span></li></ul></li><li><span><a href=\"#Анализ-выбросов-и-всплесков\" data-toc-modified-id=\"Анализ-выбросов-и-всплесков-2.3\"><span class=\"toc-item-num\">2.3&nbsp;&nbsp;</span>Анализ выбросов и всплесков</a></span><ul class=\"toc-item\"><li><span><a href=\"#Построение-точечного-графика-количества-заказов-по-пользователям.\" data-toc-modified-id=\"Построение-точечного-графика-количества-заказов-по-пользователям.-2.3.1\"><span class=\"toc-item-num\">2.3.1&nbsp;&nbsp;</span>Построение точечного графика количества заказов по пользователям.</a></span></li><li><span><a href=\"#Считаем-95-й-и-99-й-перцентили-количества-заказов-на-пользователя.-Выбераем-границу-для-определения-аномальных-пользователей.\" data-toc-modified-id=\"Считаем-95-й-и-99-й-перцентили-количества-заказов-на-пользователя.-Выбераем-границу-для-определения-аномальных-пользователей.-2.3.2\"><span class=\"toc-item-num\">2.3.2&nbsp;&nbsp;</span>Считаем 95-й и 99-й перцентили количества заказов на пользователя. Выбераем границу для определения аномальных пользователей.</a></span></li><li><span><a href=\"#Построение-точечного-графика-стоимостей-заказов.\" data-toc-modified-id=\"Построение-точечного-графика-стоимостей-заказов.-2.3.3\"><span class=\"toc-item-num\">2.3.3&nbsp;&nbsp;</span>Построение точечного графика стоимостей заказов.</a></span></li><li><span><a href=\"#Считаем-95-й-и-99-й-перцентили-стоимости-заказов-и--выбераем-границу-для-определения-аномальных-заказов.\" data-toc-modified-id=\"Считаем-95-й-и-99-й-перцентили-стоимости-заказов-и--выбераем-границу-для-определения-аномальных-заказов.-2.3.4\"><span class=\"toc-item-num\">2.3.4&nbsp;&nbsp;</span>Считаем 95-й и 99-й перцентили стоимости заказов и  выбераем границу для определения аномальных заказов.</a></span></li></ul></li><li><span><a href=\"#Статистическая-значимость\" data-toc-modified-id=\"Статистическая-значимость-2.4\"><span class=\"toc-item-num\">2.4&nbsp;&nbsp;</span>Статистическая значимость</a></span><ul class=\"toc-item\"><li><span><a href=\"#Считаем-статистическую-значимость-различий-в-среднем-количестве-заказов-на-посетителя-между-группами-по-«сырым»-данным.\" data-toc-modified-id=\"Считаем-статистическую-значимость-различий-в-среднем-количестве-заказов-на-посетителя-между-группами-по-«сырым»-данным.-2.4.1\"><span class=\"toc-item-num\">2.4.1&nbsp;&nbsp;</span>Считаем статистическую значимость различий в среднем количестве заказов на посетителя между группами по «сырым» данным.</a></span></li><li><span><a href=\"#Считаем-статистическую-значимость-различий-в-среднем-чеке-заказа-между-группами-по-«сырым»-данным.\" data-toc-modified-id=\"Считаем-статистическую-значимость-различий-в-среднем-чеке-заказа-между-группами-по-«сырым»-данным.-2.4.2\"><span class=\"toc-item-num\">2.4.2&nbsp;&nbsp;</span>Считаем статистическую значимость различий в среднем чеке заказа между группами по «сырым» данным.</a></span></li><li><span><a href=\"#Считаем-статистическую-значимость-различий-в-среднем-количестве-заказов-на-посетителя-между-группами-по-«очищенным»-данным.\" data-toc-modified-id=\"Считаем-статистическую-значимость-различий-в-среднем-количестве-заказов-на-посетителя-между-группами-по-«очищенным»-данным.-2.4.3\"><span class=\"toc-item-num\">2.4.3&nbsp;&nbsp;</span>Считаем статистическую значимость различий в среднем количестве заказов на посетителя между группами по «очищенным» данным.</a></span></li><li><span><a href=\"#Считаем-статистическую-значимость-различий-в-среднем-чеке-заказа-между-группами-по-«очищенным»-данным\" data-toc-modified-id=\"Считаем-статистическую-значимость-различий-в-среднем-чеке-заказа-между-группами-по-«очищенным»-данным-2.4.4\"><span class=\"toc-item-num\">2.4.4&nbsp;&nbsp;</span>Считаем статистическую значимость различий в среднем чеке заказа между группами по «очищенным» данным</a></span></li></ul></li></ul></li><li><span><a href=\"#Вывод-по-A/B-тесту\" data-toc-modified-id=\"Вывод-по-A/B-тесту-3\"><span class=\"toc-item-num\">3&nbsp;&nbsp;</span>Вывод по A/B тесту</a></span></li></ul></div>"
   ]
  },
  {
   "cell_type": "markdown",
   "metadata": {},
   "source": [
    "***Описание проекта.***\n",
    "\n",
    "Являясь аналитиком крупного интернет-магазина вместе с отделом маркетинга вы подготовили список гипотез для увеличения выручки.\n",
    "Необходимо приоритизировать гипотезы, запустите A/B-тест и проанализировать результаты. \n",
    "\n",
    "Проект состоит из 2х частей.   \n",
    "- ***Часть 1.*** Приоритизация гипотез.\n",
    "- ***Часть 2.*** Анализ A/B-теста."
   ]
  },
  {
   "cell_type": "markdown",
   "metadata": {},
   "source": [
    "***Описание данных***      \n",
    "\n",
    "В первой части проекта работа ведется с датасетом ***hypothesis.csv*** содерржащем 9 гипотез по увеличению выручки интернет-магазина с указанными параметрами:\n",
    "- ***Reach*** (скольких пользователей затронет изменение, которое планируетсявнести);\n",
    "- ***Impact*** (насколько сильно изменение повлияет на пользователей, их опыт и удовлетворение от продукта);\n",
    "- ***Confidence*** (насколько вы уверены, что это изменение повлияет на пользователей именно так);\n",
    "- ***Effort*** (сколько стоит протестировать эту гипотезу).\n",
    "\n",
    "\n",
    "Во второй части необходимо провести анализ A/B-теста на основании результатов, которые описаны в файлах ***orders.csv*** и ***visitors.csv***.  \n",
    "\n",
    "Информация о заказах пользователей в интернет-магазине (файл ***orders.csv.***)  \n",
    "\n",
    "- ***transactionId*** (идентификатор заказа);  \n",
    "- ***visitorId*** (идентификатор пользователя, совершившего заказ);  \n",
    "- ***date*** (дата, когда был совершён заказ);  \n",
    "- ***revenue*** (выручка);  \n",
    "- ***group*** (группа A/B-теста, в которую попал заказ).  \n",
    "\n",
    "Информация о посещениях пользователями интернет-магазина (файл ***visitors.csv***)   \n",
    "\n",
    "- ***visitors*** (количество пользователей в указанную дату в указанной группе A/B-теста);  \n",
    "- ***date*** (дата);  \n",
    "- ***group*** (группа A/B-теста).  "
   ]
  },
  {
   "cell_type": "markdown",
   "metadata": {},
   "source": [
    "## Часть 1. Приоретизация гипотез"
   ]
  },
  {
   "cell_type": "markdown",
   "metadata": {},
   "source": [
    "### Подготовительный этап"
   ]
  },
  {
   "cell_type": "markdown",
   "metadata": {},
   "source": [
    "Перед началом работы загрузим необходимые бибилиотеки для работы с данными"
   ]
  },
  {
   "cell_type": "code",
   "execution_count": 1,
   "metadata": {},
   "outputs": [],
   "source": [
    "import pandas as pd\n",
    "import numpy as np\n",
    "import matplotlib.pyplot as plt\n",
    "from scipy import stats\n",
    "import datetime as dt\n",
    "import seaborn as sns\n",
    "\n",
    "import warnings\n",
    "warnings.filterwarnings('ignore')"
   ]
  },
  {
   "cell_type": "markdown",
   "metadata": {},
   "source": [
    "Познакомимся с данными из датасета ***hypothesis.csv***"
   ]
  },
  {
   "cell_type": "code",
   "execution_count": 2,
   "metadata": {},
   "outputs": [
    {
     "name": "stdout",
     "output_type": "stream",
     "text": [
      "<class 'pandas.core.frame.DataFrame'>\n",
      "RangeIndex: 9 entries, 0 to 8\n",
      "Data columns (total 5 columns):\n",
      " #   Column      Non-Null Count  Dtype \n",
      "---  ------      --------------  ----- \n",
      " 0   Hypothesis  9 non-null      object\n",
      " 1   Reach       9 non-null      int64 \n",
      " 2   Impact      9 non-null      int64 \n",
      " 3   Confidence  9 non-null      int64 \n",
      " 4   Efforts     9 non-null      int64 \n",
      "dtypes: int64(4), object(1)\n",
      "memory usage: 488.0+ bytes\n"
     ]
    }
   ],
   "source": [
    "hypothesis = pd.read_csv('/datasets/hypothesis.csv')\n",
    "hypothesis.info()"
   ]
  },
  {
   "cell_type": "markdown",
   "metadata": {},
   "source": [
    "Снимем ограницение на ширину столбцов для читаемости таблицы с гипотезами"
   ]
  },
  {
   "cell_type": "code",
   "execution_count": 3,
   "metadata": {},
   "outputs": [],
   "source": [
    "pd.set_option('display.max_colwidth', None)"
   ]
  },
  {
   "cell_type": "code",
   "execution_count": 4,
   "metadata": {},
   "outputs": [
    {
     "data": {
      "text/html": [
       "<div>\n",
       "<style scoped>\n",
       "    .dataframe tbody tr th:only-of-type {\n",
       "        vertical-align: middle;\n",
       "    }\n",
       "\n",
       "    .dataframe tbody tr th {\n",
       "        vertical-align: top;\n",
       "    }\n",
       "\n",
       "    .dataframe thead th {\n",
       "        text-align: right;\n",
       "    }\n",
       "</style>\n",
       "<table border=\"1\" class=\"dataframe\">\n",
       "  <thead>\n",
       "    <tr style=\"text-align: right;\">\n",
       "      <th></th>\n",
       "      <th>Hypothesis</th>\n",
       "      <th>Reach</th>\n",
       "      <th>Impact</th>\n",
       "      <th>Confidence</th>\n",
       "      <th>Efforts</th>\n",
       "    </tr>\n",
       "  </thead>\n",
       "  <tbody>\n",
       "    <tr>\n",
       "      <th>0</th>\n",
       "      <td>Добавить два новых канала привлечения трафика, что позволит привлекать на 30% больше пользователей</td>\n",
       "      <td>3</td>\n",
       "      <td>10</td>\n",
       "      <td>8</td>\n",
       "      <td>6</td>\n",
       "    </tr>\n",
       "    <tr>\n",
       "      <th>1</th>\n",
       "      <td>Запустить собственную службу доставки, что сократит срок доставки заказов</td>\n",
       "      <td>2</td>\n",
       "      <td>5</td>\n",
       "      <td>4</td>\n",
       "      <td>10</td>\n",
       "    </tr>\n",
       "    <tr>\n",
       "      <th>2</th>\n",
       "      <td>Добавить блоки рекомендаций товаров на сайт интернет магазина, чтобы повысить конверсию и средний чек заказа</td>\n",
       "      <td>8</td>\n",
       "      <td>3</td>\n",
       "      <td>7</td>\n",
       "      <td>3</td>\n",
       "    </tr>\n",
       "    <tr>\n",
       "      <th>3</th>\n",
       "      <td>Изменить структура категорий, что увеличит конверсию, т.к. пользователи быстрее найдут нужный товар</td>\n",
       "      <td>8</td>\n",
       "      <td>3</td>\n",
       "      <td>3</td>\n",
       "      <td>8</td>\n",
       "    </tr>\n",
       "    <tr>\n",
       "      <th>4</th>\n",
       "      <td>Изменить цвет фона главной страницы, чтобы увеличить вовлеченность пользователей</td>\n",
       "      <td>3</td>\n",
       "      <td>1</td>\n",
       "      <td>1</td>\n",
       "      <td>1</td>\n",
       "    </tr>\n",
       "    <tr>\n",
       "      <th>5</th>\n",
       "      <td>Добавить страницу отзывов клиентов о магазине, что позволит увеличить количество заказов</td>\n",
       "      <td>3</td>\n",
       "      <td>2</td>\n",
       "      <td>2</td>\n",
       "      <td>3</td>\n",
       "    </tr>\n",
       "    <tr>\n",
       "      <th>6</th>\n",
       "      <td>Показать на главной странице баннеры с актуальными акциями и распродажами, чтобы увеличить конверсию</td>\n",
       "      <td>5</td>\n",
       "      <td>3</td>\n",
       "      <td>8</td>\n",
       "      <td>3</td>\n",
       "    </tr>\n",
       "    <tr>\n",
       "      <th>7</th>\n",
       "      <td>Добавить форму подписки на все основные страницы, чтобы собрать базу клиентов для email-рассылок</td>\n",
       "      <td>10</td>\n",
       "      <td>7</td>\n",
       "      <td>8</td>\n",
       "      <td>5</td>\n",
       "    </tr>\n",
       "    <tr>\n",
       "      <th>8</th>\n",
       "      <td>Запустить акцию, дающую скидку на товар в день рождения</td>\n",
       "      <td>1</td>\n",
       "      <td>9</td>\n",
       "      <td>9</td>\n",
       "      <td>5</td>\n",
       "    </tr>\n",
       "  </tbody>\n",
       "</table>\n",
       "</div>"
      ],
      "text/plain": [
       "                                                                                                     Hypothesis  \\\n",
       "0            Добавить два новых канала привлечения трафика, что позволит привлекать на 30% больше пользователей   \n",
       "1                                     Запустить собственную службу доставки, что сократит срок доставки заказов   \n",
       "2  Добавить блоки рекомендаций товаров на сайт интернет магазина, чтобы повысить конверсию и средний чек заказа   \n",
       "3           Изменить структура категорий, что увеличит конверсию, т.к. пользователи быстрее найдут нужный товар   \n",
       "4                              Изменить цвет фона главной страницы, чтобы увеличить вовлеченность пользователей   \n",
       "5                      Добавить страницу отзывов клиентов о магазине, что позволит увеличить количество заказов   \n",
       "6          Показать на главной странице баннеры с актуальными акциями и распродажами, чтобы увеличить конверсию   \n",
       "7              Добавить форму подписки на все основные страницы, чтобы собрать базу клиентов для email-рассылок   \n",
       "8                                                       Запустить акцию, дающую скидку на товар в день рождения   \n",
       "\n",
       "   Reach  Impact  Confidence  Efforts  \n",
       "0      3      10           8        6  \n",
       "1      2       5           4       10  \n",
       "2      8       3           7        3  \n",
       "3      8       3           3        8  \n",
       "4      3       1           1        1  \n",
       "5      3       2           2        3  \n",
       "6      5       3           8        3  \n",
       "7     10       7           8        5  \n",
       "8      1       9           9        5  "
      ]
     },
     "execution_count": 4,
     "metadata": {},
     "output_type": "execute_result"
    }
   ],
   "source": [
    "hypothesis"
   ]
  },
  {
   "cell_type": "markdown",
   "metadata": {},
   "source": [
    "Заменим названия колонок на корректные - используя строчные буквы."
   ]
  },
  {
   "cell_type": "code",
   "execution_count": 5,
   "metadata": {},
   "outputs": [],
   "source": [
    "hypothesis.columns = hypothesis.columns.str.lower()"
   ]
  },
  {
   "cell_type": "markdown",
   "metadata": {},
   "source": [
    "***Вывод по подготовке данных***. \n",
    "\n",
    "Внесены изменения в названия стобцов датасета, приведены к нижнему регистру.\n",
    "\n",
    "Пропусков в датасете нет, типы данных указаны корректно. Судя по оценкам каждого параметра шкала выбранная для их оценки от 0 до 10. Можно приступать к следующему шагу. "
   ]
  },
  {
   "cell_type": "markdown",
   "metadata": {},
   "source": [
    "### Приоритезация гипотез методом ICE"
   ]
  },
  {
   "cell_type": "markdown",
   "metadata": {},
   "source": [
    "Добавим в имеющийся датасет ***hypotheses*** столбец ***ice*** c коэффицентом приоретизации каждой из представленных гипотез."
   ]
  },
  {
   "cell_type": "code",
   "execution_count": 6,
   "metadata": {},
   "outputs": [
    {
     "data": {
      "text/html": [
       "<div>\n",
       "<style scoped>\n",
       "    .dataframe tbody tr th:only-of-type {\n",
       "        vertical-align: middle;\n",
       "    }\n",
       "\n",
       "    .dataframe tbody tr th {\n",
       "        vertical-align: top;\n",
       "    }\n",
       "\n",
       "    .dataframe thead th {\n",
       "        text-align: right;\n",
       "    }\n",
       "</style>\n",
       "<table border=\"1\" class=\"dataframe\">\n",
       "  <thead>\n",
       "    <tr style=\"text-align: right;\">\n",
       "      <th></th>\n",
       "      <th>hypothesis</th>\n",
       "      <th>reach</th>\n",
       "      <th>impact</th>\n",
       "      <th>confidence</th>\n",
       "      <th>efforts</th>\n",
       "      <th>ice</th>\n",
       "    </tr>\n",
       "  </thead>\n",
       "  <tbody>\n",
       "    <tr>\n",
       "      <th>8</th>\n",
       "      <td>Запустить акцию, дающую скидку на товар в день рождения</td>\n",
       "      <td>1</td>\n",
       "      <td>9</td>\n",
       "      <td>9</td>\n",
       "      <td>5</td>\n",
       "      <td>16.200000</td>\n",
       "    </tr>\n",
       "    <tr>\n",
       "      <th>0</th>\n",
       "      <td>Добавить два новых канала привлечения трафика, что позволит привлекать на 30% больше пользователей</td>\n",
       "      <td>3</td>\n",
       "      <td>10</td>\n",
       "      <td>8</td>\n",
       "      <td>6</td>\n",
       "      <td>13.333333</td>\n",
       "    </tr>\n",
       "    <tr>\n",
       "      <th>7</th>\n",
       "      <td>Добавить форму подписки на все основные страницы, чтобы собрать базу клиентов для email-рассылок</td>\n",
       "      <td>10</td>\n",
       "      <td>7</td>\n",
       "      <td>8</td>\n",
       "      <td>5</td>\n",
       "      <td>11.200000</td>\n",
       "    </tr>\n",
       "    <tr>\n",
       "      <th>6</th>\n",
       "      <td>Показать на главной странице баннеры с актуальными акциями и распродажами, чтобы увеличить конверсию</td>\n",
       "      <td>5</td>\n",
       "      <td>3</td>\n",
       "      <td>8</td>\n",
       "      <td>3</td>\n",
       "      <td>8.000000</td>\n",
       "    </tr>\n",
       "    <tr>\n",
       "      <th>2</th>\n",
       "      <td>Добавить блоки рекомендаций товаров на сайт интернет магазина, чтобы повысить конверсию и средний чек заказа</td>\n",
       "      <td>8</td>\n",
       "      <td>3</td>\n",
       "      <td>7</td>\n",
       "      <td>3</td>\n",
       "      <td>7.000000</td>\n",
       "    </tr>\n",
       "    <tr>\n",
       "      <th>1</th>\n",
       "      <td>Запустить собственную службу доставки, что сократит срок доставки заказов</td>\n",
       "      <td>2</td>\n",
       "      <td>5</td>\n",
       "      <td>4</td>\n",
       "      <td>10</td>\n",
       "      <td>2.000000</td>\n",
       "    </tr>\n",
       "    <tr>\n",
       "      <th>5</th>\n",
       "      <td>Добавить страницу отзывов клиентов о магазине, что позволит увеличить количество заказов</td>\n",
       "      <td>3</td>\n",
       "      <td>2</td>\n",
       "      <td>2</td>\n",
       "      <td>3</td>\n",
       "      <td>1.333333</td>\n",
       "    </tr>\n",
       "    <tr>\n",
       "      <th>3</th>\n",
       "      <td>Изменить структура категорий, что увеличит конверсию, т.к. пользователи быстрее найдут нужный товар</td>\n",
       "      <td>8</td>\n",
       "      <td>3</td>\n",
       "      <td>3</td>\n",
       "      <td>8</td>\n",
       "      <td>1.125000</td>\n",
       "    </tr>\n",
       "    <tr>\n",
       "      <th>4</th>\n",
       "      <td>Изменить цвет фона главной страницы, чтобы увеличить вовлеченность пользователей</td>\n",
       "      <td>3</td>\n",
       "      <td>1</td>\n",
       "      <td>1</td>\n",
       "      <td>1</td>\n",
       "      <td>1.000000</td>\n",
       "    </tr>\n",
       "  </tbody>\n",
       "</table>\n",
       "</div>"
      ],
      "text/plain": [
       "                                                                                                     hypothesis  \\\n",
       "8                                                       Запустить акцию, дающую скидку на товар в день рождения   \n",
       "0            Добавить два новых канала привлечения трафика, что позволит привлекать на 30% больше пользователей   \n",
       "7              Добавить форму подписки на все основные страницы, чтобы собрать базу клиентов для email-рассылок   \n",
       "6          Показать на главной странице баннеры с актуальными акциями и распродажами, чтобы увеличить конверсию   \n",
       "2  Добавить блоки рекомендаций товаров на сайт интернет магазина, чтобы повысить конверсию и средний чек заказа   \n",
       "1                                     Запустить собственную службу доставки, что сократит срок доставки заказов   \n",
       "5                      Добавить страницу отзывов клиентов о магазине, что позволит увеличить количество заказов   \n",
       "3           Изменить структура категорий, что увеличит конверсию, т.к. пользователи быстрее найдут нужный товар   \n",
       "4                              Изменить цвет фона главной страницы, чтобы увеличить вовлеченность пользователей   \n",
       "\n",
       "   reach  impact  confidence  efforts        ice  \n",
       "8      1       9           9        5  16.200000  \n",
       "0      3      10           8        6  13.333333  \n",
       "7     10       7           8        5  11.200000  \n",
       "6      5       3           8        3   8.000000  \n",
       "2      8       3           7        3   7.000000  \n",
       "1      2       5           4       10   2.000000  \n",
       "5      3       2           2        3   1.333333  \n",
       "3      8       3           3        8   1.125000  \n",
       "4      3       1           1        1   1.000000  "
      ]
     },
     "execution_count": 6,
     "metadata": {},
     "output_type": "execute_result"
    }
   ],
   "source": [
    "hypothesis['ice'] = hypothesis['impact'] * hypothesis['confidence']/ hypothesis['efforts']\n",
    "hypothesis.sort_values(by = 'ice', ascending = False)"
   ]
  },
  {
   "cell_type": "markdown",
   "metadata": {},
   "source": [
    "Визуализируем данные на графике"
   ]
  },
  {
   "cell_type": "code",
   "execution_count": 7,
   "metadata": {},
   "outputs": [
    {
     "data": {
      "image/png": "[encoded data removed]",
      "text/plain": [
       "<Figure size 432x288 with 1 Axes>"
      ]
     },
     "metadata": {
      "needs_background": "light"
     },
     "output_type": "display_data"
    }
   ],
   "source": [
    "ice = (hypothesis[['hypothesis', 'ice']].set_index('hypothesis').sort_values('ice', ascending=True).plot(\n",
    "      kind='barh', color='g', alpha=0.4, edgecolor='black'))\n",
    "ice.grid(True)\n",
    "ice.set_xlabel('Приоритет ice')\n",
    "ice.set_title('Приоритезация гипотез по методу ICE')\n",
    "\n",
    "plt.show()"
   ]
  },
  {
   "cell_type": "markdown",
   "metadata": {},
   "source": [
    "Если руководствоваться методом ***ICE*** то лидирующие позиции в списке занимают гипотезы ***8, 0, 7, 6, 2.***"
   ]
  },
  {
   "cell_type": "markdown",
   "metadata": {},
   "source": [
    "Добавим в имющийся датасет ***hypotheses*** столбец ***rice*** c коэффицентом приоретизации каждой из представленных гипотез."
   ]
  },
  {
   "cell_type": "code",
   "execution_count": 8,
   "metadata": {},
   "outputs": [
    {
     "data": {
      "text/html": [
       "<div>\n",
       "<style scoped>\n",
       "    .dataframe tbody tr th:only-of-type {\n",
       "        vertical-align: middle;\n",
       "    }\n",
       "\n",
       "    .dataframe tbody tr th {\n",
       "        vertical-align: top;\n",
       "    }\n",
       "\n",
       "    .dataframe thead th {\n",
       "        text-align: right;\n",
       "    }\n",
       "</style>\n",
       "<table border=\"1\" class=\"dataframe\">\n",
       "  <thead>\n",
       "    <tr style=\"text-align: right;\">\n",
       "      <th></th>\n",
       "      <th>hypothesis</th>\n",
       "      <th>reach</th>\n",
       "      <th>impact</th>\n",
       "      <th>confidence</th>\n",
       "      <th>efforts</th>\n",
       "      <th>ice</th>\n",
       "      <th>rice</th>\n",
       "    </tr>\n",
       "  </thead>\n",
       "  <tbody>\n",
       "    <tr>\n",
       "      <th>7</th>\n",
       "      <td>Добавить форму подписки на все основные страницы, чтобы собрать базу клиентов для email-рассылок</td>\n",
       "      <td>10</td>\n",
       "      <td>7</td>\n",
       "      <td>8</td>\n",
       "      <td>5</td>\n",
       "      <td>11.200000</td>\n",
       "      <td>112.0</td>\n",
       "    </tr>\n",
       "    <tr>\n",
       "      <th>2</th>\n",
       "      <td>Добавить блоки рекомендаций товаров на сайт интернет магазина, чтобы повысить конверсию и средний чек заказа</td>\n",
       "      <td>8</td>\n",
       "      <td>3</td>\n",
       "      <td>7</td>\n",
       "      <td>3</td>\n",
       "      <td>7.000000</td>\n",
       "      <td>56.0</td>\n",
       "    </tr>\n",
       "    <tr>\n",
       "      <th>0</th>\n",
       "      <td>Добавить два новых канала привлечения трафика, что позволит привлекать на 30% больше пользователей</td>\n",
       "      <td>3</td>\n",
       "      <td>10</td>\n",
       "      <td>8</td>\n",
       "      <td>6</td>\n",
       "      <td>13.333333</td>\n",
       "      <td>40.0</td>\n",
       "    </tr>\n",
       "    <tr>\n",
       "      <th>6</th>\n",
       "      <td>Показать на главной странице баннеры с актуальными акциями и распродажами, чтобы увеличить конверсию</td>\n",
       "      <td>5</td>\n",
       "      <td>3</td>\n",
       "      <td>8</td>\n",
       "      <td>3</td>\n",
       "      <td>8.000000</td>\n",
       "      <td>40.0</td>\n",
       "    </tr>\n",
       "    <tr>\n",
       "      <th>8</th>\n",
       "      <td>Запустить акцию, дающую скидку на товар в день рождения</td>\n",
       "      <td>1</td>\n",
       "      <td>9</td>\n",
       "      <td>9</td>\n",
       "      <td>5</td>\n",
       "      <td>16.200000</td>\n",
       "      <td>16.2</td>\n",
       "    </tr>\n",
       "    <tr>\n",
       "      <th>3</th>\n",
       "      <td>Изменить структура категорий, что увеличит конверсию, т.к. пользователи быстрее найдут нужный товар</td>\n",
       "      <td>8</td>\n",
       "      <td>3</td>\n",
       "      <td>3</td>\n",
       "      <td>8</td>\n",
       "      <td>1.125000</td>\n",
       "      <td>9.0</td>\n",
       "    </tr>\n",
       "    <tr>\n",
       "      <th>1</th>\n",
       "      <td>Запустить собственную службу доставки, что сократит срок доставки заказов</td>\n",
       "      <td>2</td>\n",
       "      <td>5</td>\n",
       "      <td>4</td>\n",
       "      <td>10</td>\n",
       "      <td>2.000000</td>\n",
       "      <td>4.0</td>\n",
       "    </tr>\n",
       "    <tr>\n",
       "      <th>5</th>\n",
       "      <td>Добавить страницу отзывов клиентов о магазине, что позволит увеличить количество заказов</td>\n",
       "      <td>3</td>\n",
       "      <td>2</td>\n",
       "      <td>2</td>\n",
       "      <td>3</td>\n",
       "      <td>1.333333</td>\n",
       "      <td>4.0</td>\n",
       "    </tr>\n",
       "    <tr>\n",
       "      <th>4</th>\n",
       "      <td>Изменить цвет фона главной страницы, чтобы увеличить вовлеченность пользователей</td>\n",
       "      <td>3</td>\n",
       "      <td>1</td>\n",
       "      <td>1</td>\n",
       "      <td>1</td>\n",
       "      <td>1.000000</td>\n",
       "      <td>3.0</td>\n",
       "    </tr>\n",
       "  </tbody>\n",
       "</table>\n",
       "</div>"
      ],
      "text/plain": [
       "                                                                                                     hypothesis  \\\n",
       "7              Добавить форму подписки на все основные страницы, чтобы собрать базу клиентов для email-рассылок   \n",
       "2  Добавить блоки рекомендаций товаров на сайт интернет магазина, чтобы повысить конверсию и средний чек заказа   \n",
       "0            Добавить два новых канала привлечения трафика, что позволит привлекать на 30% больше пользователей   \n",
       "6          Показать на главной странице баннеры с актуальными акциями и распродажами, чтобы увеличить конверсию   \n",
       "8                                                       Запустить акцию, дающую скидку на товар в день рождения   \n",
       "3           Изменить структура категорий, что увеличит конверсию, т.к. пользователи быстрее найдут нужный товар   \n",
       "1                                     Запустить собственную службу доставки, что сократит срок доставки заказов   \n",
       "5                      Добавить страницу отзывов клиентов о магазине, что позволит увеличить количество заказов   \n",
       "4                              Изменить цвет фона главной страницы, чтобы увеличить вовлеченность пользователей   \n",
       "\n",
       "   reach  impact  confidence  efforts        ice   rice  \n",
       "7     10       7           8        5  11.200000  112.0  \n",
       "2      8       3           7        3   7.000000   56.0  \n",
       "0      3      10           8        6  13.333333   40.0  \n",
       "6      5       3           8        3   8.000000   40.0  \n",
       "8      1       9           9        5  16.200000   16.2  \n",
       "3      8       3           3        8   1.125000    9.0  \n",
       "1      2       5           4       10   2.000000    4.0  \n",
       "5      3       2           2        3   1.333333    4.0  \n",
       "4      3       1           1        1   1.000000    3.0  "
      ]
     },
     "execution_count": 8,
     "metadata": {},
     "output_type": "execute_result"
    }
   ],
   "source": [
    "hypothesis['rice'] = hypothesis['reach'] * hypothesis['impact'] * hypothesis['confidence']/ hypothesis['efforts']\n",
    "hypothesis.sort_values(by = 'rice', ascending = False)"
   ]
  },
  {
   "cell_type": "code",
   "execution_count": 9,
   "metadata": {},
   "outputs": [
    {
     "data": {
      "image/png": "[encoded data removed]",
      "text/plain": [
       "<Figure size 432x288 with 1 Axes>"
      ]
     },
     "metadata": {
      "needs_background": "light"
     },
     "output_type": "display_data"
    }
   ],
   "source": [
    "rice = (hypothesis[['hypothesis', 'rice']].set_index('hypothesis').sort_values('rice', ascending=True).plot(\n",
    "    kind='barh', color='g', alpha=0.4, edgecolor='black'))\n",
    "rice.grid(True)\n",
    "rice.set_xlabel('Приоритет rice')\n",
    "rice.set_title('Приоритезация гипотез по методу RICE')\n",
    "\n",
    "plt.show()"
   ]
  },
  {
   "cell_type": "markdown",
   "metadata": {},
   "source": [
    "С применением метода ***RICE*** приоритеты гипотез изменилимь и теперь в лидерах гипотезы ***7, 2, 0, 6***."
   ]
  },
  {
   "cell_type": "markdown",
   "metadata": {},
   "source": [
    "### Вывод по приоретизации гипотез"
   ]
  },
  {
   "cell_type": "markdown",
   "metadata": {},
   "source": [
    "Разница двуx методов ***ICE*** и ***RICE*** заключается в том, что метод ***RICE*** учитывает параметр ***Reach***, то есть охват изменений или другими словами скольких пользователей затронет вносимое изменение. Из-за этого различия в методах мы видим изменение приоритетов гипотез, у метода ***ICE*** это гипотезы 8, 0, 7, 6, 2, а у метода ***RICE*** 7, 2, 0, 6.\n",
    "\n",
    "Так как мы работаем с крупной компанией и охват изменений важный параметр, ориентироваться стоит на результаты метода ***RICE***, гипотезы:\n",
    "- 7. Добавить форму подписки на все основные страницы, чтобы собрать базу клиентов для email-расс\n",
    "- 2. Добавить блоки рекомендаций товаров на сайт интернет магазина, чтобы повысить конверсию и средний чек заказа\n",
    "- 0. Добавить два новых канала привлечения трафика, что позволит привлекать на 30% больше пользователей\n",
    "- 6. Показать на главной странице баннеры с актуальными акциями и распродажами, чтобы увеличить конверсию\n",
    "\n"
   ]
  },
  {
   "cell_type": "markdown",
   "metadata": {},
   "source": [
    "## Часть 2. Анализ A/B-теста"
   ]
  },
  {
   "cell_type": "markdown",
   "metadata": {},
   "source": [
    "### Подготовительный этап"
   ]
  },
  {
   "cell_type": "markdown",
   "metadata": {},
   "source": [
    "Взглянем на данные в датасетах на предмет пропусков и корректности типа данных."
   ]
  },
  {
   "cell_type": "code",
   "execution_count": 10,
   "metadata": {},
   "outputs": [
    {
     "name": "stdout",
     "output_type": "stream",
     "text": [
      "<class 'pandas.core.frame.DataFrame'>\n",
      "RangeIndex: 1197 entries, 0 to 1196\n",
      "Data columns (total 5 columns):\n",
      " #   Column         Non-Null Count  Dtype \n",
      "---  ------         --------------  ----- \n",
      " 0   transactionId  1197 non-null   int64 \n",
      " 1   visitorId      1197 non-null   int64 \n",
      " 2   date           1197 non-null   object\n",
      " 3   revenue        1197 non-null   int64 \n",
      " 4   group          1197 non-null   object\n",
      "dtypes: int64(3), object(2)\n",
      "memory usage: 46.9+ KB\n"
     ]
    },
    {
     "data": {
      "text/html": [
       "<div>\n",
       "<style scoped>\n",
       "    .dataframe tbody tr th:only-of-type {\n",
       "        vertical-align: middle;\n",
       "    }\n",
       "\n",
       "    .dataframe tbody tr th {\n",
       "        vertical-align: top;\n",
       "    }\n",
       "\n",
       "    .dataframe thead th {\n",
       "        text-align: right;\n",
       "    }\n",
       "</style>\n",
       "<table border=\"1\" class=\"dataframe\">\n",
       "  <thead>\n",
       "    <tr style=\"text-align: right;\">\n",
       "      <th></th>\n",
       "      <th>transactionId</th>\n",
       "      <th>visitorId</th>\n",
       "      <th>date</th>\n",
       "      <th>revenue</th>\n",
       "      <th>group</th>\n",
       "    </tr>\n",
       "  </thead>\n",
       "  <tbody>\n",
       "    <tr>\n",
       "      <th>0</th>\n",
       "      <td>3667963787</td>\n",
       "      <td>3312258926</td>\n",
       "      <td>2019-08-15</td>\n",
       "      <td>1650</td>\n",
       "      <td>B</td>\n",
       "    </tr>\n",
       "    <tr>\n",
       "      <th>1</th>\n",
       "      <td>2804400009</td>\n",
       "      <td>3642806036</td>\n",
       "      <td>2019-08-15</td>\n",
       "      <td>730</td>\n",
       "      <td>B</td>\n",
       "    </tr>\n",
       "    <tr>\n",
       "      <th>2</th>\n",
       "      <td>2961555356</td>\n",
       "      <td>4069496402</td>\n",
       "      <td>2019-08-15</td>\n",
       "      <td>400</td>\n",
       "      <td>A</td>\n",
       "    </tr>\n",
       "    <tr>\n",
       "      <th>3</th>\n",
       "      <td>3797467345</td>\n",
       "      <td>1196621759</td>\n",
       "      <td>2019-08-15</td>\n",
       "      <td>9759</td>\n",
       "      <td>B</td>\n",
       "    </tr>\n",
       "    <tr>\n",
       "      <th>4</th>\n",
       "      <td>2282983706</td>\n",
       "      <td>2322279887</td>\n",
       "      <td>2019-08-15</td>\n",
       "      <td>2308</td>\n",
       "      <td>B</td>\n",
       "    </tr>\n",
       "    <tr>\n",
       "      <th>...</th>\n",
       "      <td>...</td>\n",
       "      <td>...</td>\n",
       "      <td>...</td>\n",
       "      <td>...</td>\n",
       "      <td>...</td>\n",
       "    </tr>\n",
       "    <tr>\n",
       "      <th>1192</th>\n",
       "      <td>2662137336</td>\n",
       "      <td>3733762160</td>\n",
       "      <td>2019-08-14</td>\n",
       "      <td>6490</td>\n",
       "      <td>B</td>\n",
       "    </tr>\n",
       "    <tr>\n",
       "      <th>1193</th>\n",
       "      <td>2203539145</td>\n",
       "      <td>370388673</td>\n",
       "      <td>2019-08-14</td>\n",
       "      <td>3190</td>\n",
       "      <td>A</td>\n",
       "    </tr>\n",
       "    <tr>\n",
       "      <th>1194</th>\n",
       "      <td>1807773912</td>\n",
       "      <td>573423106</td>\n",
       "      <td>2019-08-14</td>\n",
       "      <td>10550</td>\n",
       "      <td>A</td>\n",
       "    </tr>\n",
       "    <tr>\n",
       "      <th>1195</th>\n",
       "      <td>1947021204</td>\n",
       "      <td>1614305549</td>\n",
       "      <td>2019-08-14</td>\n",
       "      <td>100</td>\n",
       "      <td>A</td>\n",
       "    </tr>\n",
       "    <tr>\n",
       "      <th>1196</th>\n",
       "      <td>3936777065</td>\n",
       "      <td>2108080724</td>\n",
       "      <td>2019-08-15</td>\n",
       "      <td>202740</td>\n",
       "      <td>B</td>\n",
       "    </tr>\n",
       "  </tbody>\n",
       "</table>\n",
       "<p>1197 rows × 5 columns</p>\n",
       "</div>"
      ],
      "text/plain": [
       "      transactionId   visitorId        date  revenue group\n",
       "0        3667963787  3312258926  2019-08-15     1650     B\n",
       "1        2804400009  3642806036  2019-08-15      730     B\n",
       "2        2961555356  4069496402  2019-08-15      400     A\n",
       "3        3797467345  1196621759  2019-08-15     9759     B\n",
       "4        2282983706  2322279887  2019-08-15     2308     B\n",
       "...             ...         ...         ...      ...   ...\n",
       "1192     2662137336  3733762160  2019-08-14     6490     B\n",
       "1193     2203539145   370388673  2019-08-14     3190     A\n",
       "1194     1807773912   573423106  2019-08-14    10550     A\n",
       "1195     1947021204  1614305549  2019-08-14      100     A\n",
       "1196     3936777065  2108080724  2019-08-15   202740     B\n",
       "\n",
       "[1197 rows x 5 columns]"
      ]
     },
     "execution_count": 10,
     "metadata": {},
     "output_type": "execute_result"
    }
   ],
   "source": [
    "orders = pd.read_csv('/datasets/orders.csv')\n",
    "orders.info()\n",
    "orders"
   ]
  },
  {
   "cell_type": "markdown",
   "metadata": {},
   "source": [
    "Заменим навания столбцов transactionId и visitorId, что бы привести к корректному написанию и изменим тип данных в столбце ***date*** с object на ***datetime***."
   ]
  },
  {
   "cell_type": "code",
   "execution_count": 11,
   "metadata": {},
   "outputs": [],
   "source": [
    "orders.rename(columns={'transactionId': 'transaction_id', 'visitorId': 'visitor_id'}, inplace=True)\n",
    "orders['date'] = pd.to_datetime(orders['date'])"
   ]
  },
  {
   "cell_type": "code",
   "execution_count": 12,
   "metadata": {},
   "outputs": [
    {
     "name": "stdout",
     "output_type": "stream",
     "text": [
      "<class 'pandas.core.frame.DataFrame'>\n",
      "RangeIndex: 62 entries, 0 to 61\n",
      "Data columns (total 3 columns):\n",
      " #   Column    Non-Null Count  Dtype \n",
      "---  ------    --------------  ----- \n",
      " 0   date      62 non-null     object\n",
      " 1   group     62 non-null     object\n",
      " 2   visitors  62 non-null     int64 \n",
      "dtypes: int64(1), object(2)\n",
      "memory usage: 1.6+ KB\n"
     ]
    },
    {
     "data": {
      "text/html": [
       "<div>\n",
       "<style scoped>\n",
       "    .dataframe tbody tr th:only-of-type {\n",
       "        vertical-align: middle;\n",
       "    }\n",
       "\n",
       "    .dataframe tbody tr th {\n",
       "        vertical-align: top;\n",
       "    }\n",
       "\n",
       "    .dataframe thead th {\n",
       "        text-align: right;\n",
       "    }\n",
       "</style>\n",
       "<table border=\"1\" class=\"dataframe\">\n",
       "  <thead>\n",
       "    <tr style=\"text-align: right;\">\n",
       "      <th></th>\n",
       "      <th>date</th>\n",
       "      <th>group</th>\n",
       "      <th>visitors</th>\n",
       "    </tr>\n",
       "  </thead>\n",
       "  <tbody>\n",
       "    <tr>\n",
       "      <th>0</th>\n",
       "      <td>2019-08-01</td>\n",
       "      <td>A</td>\n",
       "      <td>719</td>\n",
       "    </tr>\n",
       "    <tr>\n",
       "      <th>1</th>\n",
       "      <td>2019-08-02</td>\n",
       "      <td>A</td>\n",
       "      <td>619</td>\n",
       "    </tr>\n",
       "    <tr>\n",
       "      <th>2</th>\n",
       "      <td>2019-08-03</td>\n",
       "      <td>A</td>\n",
       "      <td>507</td>\n",
       "    </tr>\n",
       "    <tr>\n",
       "      <th>3</th>\n",
       "      <td>2019-08-04</td>\n",
       "      <td>A</td>\n",
       "      <td>717</td>\n",
       "    </tr>\n",
       "    <tr>\n",
       "      <th>4</th>\n",
       "      <td>2019-08-05</td>\n",
       "      <td>A</td>\n",
       "      <td>756</td>\n",
       "    </tr>\n",
       "    <tr>\n",
       "      <th>...</th>\n",
       "      <td>...</td>\n",
       "      <td>...</td>\n",
       "      <td>...</td>\n",
       "    </tr>\n",
       "    <tr>\n",
       "      <th>57</th>\n",
       "      <td>2019-08-27</td>\n",
       "      <td>B</td>\n",
       "      <td>720</td>\n",
       "    </tr>\n",
       "    <tr>\n",
       "      <th>58</th>\n",
       "      <td>2019-08-28</td>\n",
       "      <td>B</td>\n",
       "      <td>654</td>\n",
       "    </tr>\n",
       "    <tr>\n",
       "      <th>59</th>\n",
       "      <td>2019-08-29</td>\n",
       "      <td>B</td>\n",
       "      <td>531</td>\n",
       "    </tr>\n",
       "    <tr>\n",
       "      <th>60</th>\n",
       "      <td>2019-08-30</td>\n",
       "      <td>B</td>\n",
       "      <td>490</td>\n",
       "    </tr>\n",
       "    <tr>\n",
       "      <th>61</th>\n",
       "      <td>2019-08-31</td>\n",
       "      <td>B</td>\n",
       "      <td>718</td>\n",
       "    </tr>\n",
       "  </tbody>\n",
       "</table>\n",
       "<p>62 rows × 3 columns</p>\n",
       "</div>"
      ],
      "text/plain": [
       "          date group  visitors\n",
       "0   2019-08-01     A       719\n",
       "1   2019-08-02     A       619\n",
       "2   2019-08-03     A       507\n",
       "3   2019-08-04     A       717\n",
       "4   2019-08-05     A       756\n",
       "..         ...   ...       ...\n",
       "57  2019-08-27     B       720\n",
       "58  2019-08-28     B       654\n",
       "59  2019-08-29     B       531\n",
       "60  2019-08-30     B       490\n",
       "61  2019-08-31     B       718\n",
       "\n",
       "[62 rows x 3 columns]"
      ]
     },
     "execution_count": 12,
     "metadata": {},
     "output_type": "execute_result"
    }
   ],
   "source": [
    "visitors = pd.read_csv('/datasets/visitors.csv')\n",
    "visitors.info()\n",
    "visitors"
   ]
  },
  {
   "cell_type": "markdown",
   "metadata": {},
   "source": [
    "В таблице visitors также изменин тип данных столбца date на datetime"
   ]
  },
  {
   "cell_type": "code",
   "execution_count": 13,
   "metadata": {},
   "outputs": [],
   "source": [
    "visitors['date'] = pd.to_datetime(visitors['date'])"
   ]
  },
  {
   "cell_type": "markdown",
   "metadata": {},
   "source": [
    "Проверим обе таблицы на наличие дубликатов."
   ]
  },
  {
   "cell_type": "code",
   "execution_count": 14,
   "metadata": {},
   "outputs": [
    {
     "data": {
      "text/plain": [
       "0"
      ]
     },
     "execution_count": 14,
     "metadata": {},
     "output_type": "execute_result"
    }
   ],
   "source": [
    "visitors.duplicated().sum()"
   ]
  },
  {
   "cell_type": "code",
   "execution_count": 15,
   "metadata": {},
   "outputs": [
    {
     "data": {
      "text/plain": [
       "0"
      ]
     },
     "execution_count": 15,
     "metadata": {},
     "output_type": "execute_result"
    }
   ],
   "source": [
    "orders.duplicated().sum()"
   ]
  },
  {
   "cell_type": "markdown",
   "metadata": {},
   "source": [
    "***Вывод по подготовке данных.***\n",
    "\n",
    "Итак, данные подготовлены к анализу. Пропусков и дубликатов не обнаружено. Были внесены следующие изменения:  \n",
    "- в датасете ***orders*** названия столбцов приведены к \"змеиному регистру\"\n",
    "- в обоих датасетах изменен тип данных в столбце ***date*** c ***object*** на ***datetime***. "
   ]
  },
  {
   "cell_type": "markdown",
   "metadata": {},
   "source": [
    "### Куммулятивные метрики"
   ]
  },
  {
   "cell_type": "markdown",
   "metadata": {},
   "source": [
    "Перед построением графиков по куммулятивным метрикам необходимо создать датфрейм в котором все участники эксперимента будут разделенына группы (A и B), указана дата, кумулятивное количество заказов, пользователей оформивших эти заказы, среднем чеке и кумулятивном количестве посетителей магазина. "
   ]
  },
  {
   "cell_type": "markdown",
   "metadata": {},
   "source": [
    "Получаем агрегированные кумулятивные по дням данные о заказах."
   ]
  },
  {
   "cell_type": "code",
   "execution_count": 16,
   "metadata": {},
   "outputs": [
    {
     "data": {
      "text/html": [
       "<div>\n",
       "<style scoped>\n",
       "    .dataframe tbody tr th:only-of-type {\n",
       "        vertical-align: middle;\n",
       "    }\n",
       "\n",
       "    .dataframe tbody tr th {\n",
       "        vertical-align: top;\n",
       "    }\n",
       "\n",
       "    .dataframe thead th {\n",
       "        text-align: right;\n",
       "    }\n",
       "</style>\n",
       "<table border=\"1\" class=\"dataframe\">\n",
       "  <thead>\n",
       "    <tr style=\"text-align: right;\">\n",
       "      <th></th>\n",
       "      <th>date</th>\n",
       "      <th>group</th>\n",
       "      <th>transaction_id</th>\n",
       "      <th>visitor_id</th>\n",
       "      <th>revenue</th>\n",
       "    </tr>\n",
       "  </thead>\n",
       "  <tbody>\n",
       "    <tr>\n",
       "      <th>55</th>\n",
       "      <td>2019-08-01</td>\n",
       "      <td>A</td>\n",
       "      <td>24</td>\n",
       "      <td>20</td>\n",
       "      <td>148579</td>\n",
       "    </tr>\n",
       "    <tr>\n",
       "      <th>66</th>\n",
       "      <td>2019-08-01</td>\n",
       "      <td>B</td>\n",
       "      <td>21</td>\n",
       "      <td>20</td>\n",
       "      <td>101217</td>\n",
       "    </tr>\n",
       "    <tr>\n",
       "      <th>175</th>\n",
       "      <td>2019-08-02</td>\n",
       "      <td>A</td>\n",
       "      <td>44</td>\n",
       "      <td>38</td>\n",
       "      <td>242401</td>\n",
       "    </tr>\n",
       "    <tr>\n",
       "      <th>173</th>\n",
       "      <td>2019-08-02</td>\n",
       "      <td>B</td>\n",
       "      <td>45</td>\n",
       "      <td>43</td>\n",
       "      <td>266748</td>\n",
       "    </tr>\n",
       "    <tr>\n",
       "      <th>291</th>\n",
       "      <td>2019-08-03</td>\n",
       "      <td>A</td>\n",
       "      <td>68</td>\n",
       "      <td>62</td>\n",
       "      <td>354874</td>\n",
       "    </tr>\n",
       "  </tbody>\n",
       "</table>\n",
       "</div>"
      ],
      "text/plain": [
       "          date group  transaction_id  visitor_id  revenue\n",
       "55  2019-08-01     A              24          20   148579\n",
       "66  2019-08-01     B              21          20   101217\n",
       "175 2019-08-02     A              44          38   242401\n",
       "173 2019-08-02     B              45          43   266748\n",
       "291 2019-08-03     A              68          62   354874"
      ]
     },
     "execution_count": 16,
     "metadata": {},
     "output_type": "execute_result"
    }
   ],
   "source": [
    "datesGroups = orders[['date', 'group']].drop_duplicates()\n",
    "    \n",
    "orders_aggregated = datesGroups.apply(\n",
    "    lambda x: orders[\n",
    "        np.logical_and(\n",
    "            orders['date'] <= x['date'], orders['group'] == x['group']\n",
    "        )\n",
    "    ].agg(\n",
    "        {\n",
    "            'date': 'max',\n",
    "            'group': 'max',\n",
    "            'transaction_id': 'nunique',\n",
    "            'visitor_id': 'nunique',\n",
    "            'revenue': 'sum',\n",
    "        }\n",
    "    ),\n",
    "    axis=1,\n",
    ").sort_values(by=['date', 'group'])\n",
    "\n",
    "orders_aggregated.head(5)"
   ]
  },
  {
   "cell_type": "markdown",
   "metadata": {},
   "source": [
    "Получаем агрегированные кумулятивные по дням данные о посетителях интернет - магазина."
   ]
  },
  {
   "cell_type": "code",
   "execution_count": 17,
   "metadata": {},
   "outputs": [
    {
     "data": {
      "text/html": [
       "<div>\n",
       "<style scoped>\n",
       "    .dataframe tbody tr th:only-of-type {\n",
       "        vertical-align: middle;\n",
       "    }\n",
       "\n",
       "    .dataframe tbody tr th {\n",
       "        vertical-align: top;\n",
       "    }\n",
       "\n",
       "    .dataframe thead th {\n",
       "        text-align: right;\n",
       "    }\n",
       "</style>\n",
       "<table border=\"1\" class=\"dataframe\">\n",
       "  <thead>\n",
       "    <tr style=\"text-align: right;\">\n",
       "      <th></th>\n",
       "      <th>date</th>\n",
       "      <th>group</th>\n",
       "      <th>visitors</th>\n",
       "    </tr>\n",
       "  </thead>\n",
       "  <tbody>\n",
       "    <tr>\n",
       "      <th>55</th>\n",
       "      <td>2019-08-01</td>\n",
       "      <td>A</td>\n",
       "      <td>719</td>\n",
       "    </tr>\n",
       "    <tr>\n",
       "      <th>66</th>\n",
       "      <td>2019-08-01</td>\n",
       "      <td>B</td>\n",
       "      <td>713</td>\n",
       "    </tr>\n",
       "    <tr>\n",
       "      <th>175</th>\n",
       "      <td>2019-08-02</td>\n",
       "      <td>A</td>\n",
       "      <td>1338</td>\n",
       "    </tr>\n",
       "    <tr>\n",
       "      <th>173</th>\n",
       "      <td>2019-08-02</td>\n",
       "      <td>B</td>\n",
       "      <td>1294</td>\n",
       "    </tr>\n",
       "    <tr>\n",
       "      <th>291</th>\n",
       "      <td>2019-08-03</td>\n",
       "      <td>A</td>\n",
       "      <td>1845</td>\n",
       "    </tr>\n",
       "  </tbody>\n",
       "</table>\n",
       "</div>"
      ],
      "text/plain": [
       "          date group  visitors\n",
       "55  2019-08-01     A       719\n",
       "66  2019-08-01     B       713\n",
       "175 2019-08-02     A      1338\n",
       "173 2019-08-02     B      1294\n",
       "291 2019-08-03     A      1845"
      ]
     },
     "execution_count": 17,
     "metadata": {},
     "output_type": "execute_result"
    }
   ],
   "source": [
    "visitors_aggregated = datesGroups.apply(\n",
    "    lambda x: visitors[\n",
    "        np.logical_and(\n",
    "            visitors['date'] <= x['date'], visitors['group'] == x['group']\n",
    "        )\n",
    "    ].agg({'date': 'max', \n",
    "           'group': 'max',\n",
    "           'visitors': 'sum'}),\n",
    "    axis=1,\n",
    ").sort_values(by=['date', 'group'])\n",
    "\n",
    "visitors_aggregated.head(5)"
   ]
  },
  {
   "cell_type": "markdown",
   "metadata": {},
   "source": [
    "Теперь объединим полученные данные в одну таблицу и оформим для дальнейшей работы с данными."
   ]
  },
  {
   "cell_type": "code",
   "execution_count": 18,
   "metadata": {},
   "outputs": [
    {
     "data": {
      "text/html": [
       "<div>\n",
       "<style scoped>\n",
       "    .dataframe tbody tr th:only-of-type {\n",
       "        vertical-align: middle;\n",
       "    }\n",
       "\n",
       "    .dataframe tbody tr th {\n",
       "        vertical-align: top;\n",
       "    }\n",
       "\n",
       "    .dataframe thead th {\n",
       "        text-align: right;\n",
       "    }\n",
       "</style>\n",
       "<table border=\"1\" class=\"dataframe\">\n",
       "  <thead>\n",
       "    <tr style=\"text-align: right;\">\n",
       "      <th></th>\n",
       "      <th>date</th>\n",
       "      <th>group</th>\n",
       "      <th>orders</th>\n",
       "      <th>buyers</th>\n",
       "      <th>revenue</th>\n",
       "      <th>visitors</th>\n",
       "    </tr>\n",
       "  </thead>\n",
       "  <tbody>\n",
       "    <tr>\n",
       "      <th>0</th>\n",
       "      <td>2019-08-01</td>\n",
       "      <td>A</td>\n",
       "      <td>24</td>\n",
       "      <td>20</td>\n",
       "      <td>148579</td>\n",
       "      <td>719</td>\n",
       "    </tr>\n",
       "    <tr>\n",
       "      <th>1</th>\n",
       "      <td>2019-08-01</td>\n",
       "      <td>B</td>\n",
       "      <td>21</td>\n",
       "      <td>20</td>\n",
       "      <td>101217</td>\n",
       "      <td>713</td>\n",
       "    </tr>\n",
       "    <tr>\n",
       "      <th>2</th>\n",
       "      <td>2019-08-02</td>\n",
       "      <td>A</td>\n",
       "      <td>44</td>\n",
       "      <td>38</td>\n",
       "      <td>242401</td>\n",
       "      <td>1338</td>\n",
       "    </tr>\n",
       "    <tr>\n",
       "      <th>3</th>\n",
       "      <td>2019-08-02</td>\n",
       "      <td>B</td>\n",
       "      <td>45</td>\n",
       "      <td>43</td>\n",
       "      <td>266748</td>\n",
       "      <td>1294</td>\n",
       "    </tr>\n",
       "    <tr>\n",
       "      <th>4</th>\n",
       "      <td>2019-08-03</td>\n",
       "      <td>A</td>\n",
       "      <td>68</td>\n",
       "      <td>62</td>\n",
       "      <td>354874</td>\n",
       "      <td>1845</td>\n",
       "    </tr>\n",
       "  </tbody>\n",
       "</table>\n",
       "</div>"
      ],
      "text/plain": [
       "        date group  orders  buyers  revenue  visitors\n",
       "0 2019-08-01     A      24      20   148579       719\n",
       "1 2019-08-01     B      21      20   101217       713\n",
       "2 2019-08-02     A      44      38   242401      1338\n",
       "3 2019-08-02     B      45      43   266748      1294\n",
       "4 2019-08-03     A      68      62   354874      1845"
      ]
     },
     "execution_count": 18,
     "metadata": {},
     "output_type": "execute_result"
    }
   ],
   "source": [
    "cumulative_data = orders_aggregated.merge(\n",
    "    visitors_aggregated, left_on=['date', 'group'], right_on=['date', 'group']\n",
    ")\n",
    "cumulative_data.columns = [\n",
    "    'date',\n",
    "    'group',\n",
    "    'orders',\n",
    "    'buyers',\n",
    "    'revenue',\n",
    "    'visitors',\n",
    "]\n",
    "cumulative_data.head(5)"
   ]
  },
  {
   "cell_type": "markdown",
   "metadata": {},
   "source": [
    "#### Построение графика кумулятивной выручки по группам."
   ]
  },
  {
   "cell_type": "markdown",
   "metadata": {},
   "source": [
    "Теперь используя данные агрегированного датасета ***cumulative_data*** можно приступить к построению графика."
   ]
  },
  {
   "cell_type": "code",
   "execution_count": 19,
   "metadata": {},
   "outputs": [
    {
     "data": {
      "image/png": "[encoded data removed]",
      "text/plain": [
       "<Figure size 864x432 with 1 Axes>"
      ]
     },
     "metadata": {},
     "output_type": "display_data"
    }
   ],
   "source": [
    "cumulative_revenue_A = cumulative_data[cumulative_data['group'] == 'A'][['date','revenue', 'orders']]\n",
    "cumulative_revenue_B = cumulative_data[cumulative_data['group'] == 'B'][['date','revenue', 'orders']]\n",
    "\n",
    "sns.set(style=\"whitegrid\")\n",
    "\n",
    "\n",
    "plt.figure(figsize=(12, 6)) \n",
    "plt.plot(cumulative_revenue_A['date'], cumulative_revenue_A['revenue'], label='Группа A', color='blue', linewidth=2, marker='o')\n",
    "plt.plot(cumulative_revenue_B['date'], cumulative_revenue_B['revenue'], label='Группа B', color='orange', linewidth=2, marker='o')\n",
    "\n",
    "\n",
    "plt.title('График динамики кумулятивной выручки по группам A и B', fontsize=15)\n",
    "plt.xlabel('Дата', fontsize=12)\n",
    "plt.ylabel('Выручка, млн.', fontsize=12)\n",
    "\n",
    "plt.xticks(rotation=30)\n",
    "plt.xticks(fontsize=10)\n",
    "\n",
    "plt.grid(True)\n",
    "\n",
    "plt.legend(title='Группы', fontsize=10)\n",
    "\n",
    "plt.tight_layout() \n",
    "plt.show()"
   ]
  },
  {
   "cell_type": "markdown",
   "metadata": {},
   "source": [
    "***Вывод о динамике куммулятивной выручки по группам A и B***  \n",
    "\n",
    "На графике мы видим, что в первые 5 дней теста обе группы показывали практически одинакомые показатели выручки. Затем разрыв в показателях увеличился и группа B давала большую выручку. На 13 день теста показатели групп снова сравнялись, но не на долго, c 14 дня выручка группы B снова начала расти, на 18 день теста произошел резкий скачок по объему выручки группы B, и до конца эксперимента группа показывала стабильный рост выручки.  Резкий скачок 18 августа говорит либо об увеличеснии числа заказов в группе B, или о появлении заказов с большим чеком.\n",
    "В группе A выручка росла линейно с первого дня эксперимента, однако на протяжении всего эксперимента показывала меньший объем выручки чеи другая группа."
   ]
  },
  {
   "cell_type": "markdown",
   "metadata": {},
   "source": [
    "#### Построение графика кумулятивного среднего чека по группам."
   ]
  },
  {
   "cell_type": "code",
   "execution_count": 20,
   "metadata": {},
   "outputs": [
    {
     "data": {
      "image/png": "[encoded data removed]",
      "text/plain": [
       "<Figure size 864x432 with 1 Axes>"
      ]
     },
     "metadata": {},
     "output_type": "display_data"
    }
   ],
   "source": [
    "sns.set(style=\"whitegrid\")\n",
    "\n",
    "\n",
    "plt.figure(figsize=(12, 6)) \n",
    "plt.plot(cumulative_revenue_A['date'], cumulative_revenue_A['revenue'] / cumulative_revenue_A['orders'], label='Группа A', color='blue', linewidth=2, marker='o')\n",
    "plt.plot(cumulative_revenue_B['date'], cumulative_revenue_B['revenue'] / cumulative_revenue_B['orders'], label='Группа B', color='orange', linewidth=2, marker='o')\n",
    "\n",
    "\n",
    "plt.title('График динамики кумулятивного среднего чека по группам A и B', fontsize=15)\n",
    "plt.xlabel('Дата', fontsize=12)\n",
    "plt.ylabel('Выручка, млн.', fontsize=12)\n",
    "\n",
    "plt.xticks(rotation=30)\n",
    "plt.xticks(fontsize=10)\n",
    "\n",
    "plt.grid(True)\n",
    "\n",
    "plt.legend(title='Группы', fontsize=10)\n",
    "\n",
    "plt.tight_layout() \n",
    "plt.show()"
   ]
  },
  {
   "cell_type": "markdown",
   "metadata": {},
   "source": [
    "***Вывод о динамике куммулятивного среднего чека по группам.***   \n",
    "\n",
    "На графике сразу виден скачок 18 августа у группы B, такой же как и на графике куммулятивной выручки. Это указывает на появлении заказов с большим чеком. \n",
    "\n",
    "В общей динамике средний чек группы B, практически на всех этапах теста был выше чем у группы A, за исключением 1ого дня, а также с 12ого - 15е августа.\n"
   ]
  },
  {
   "cell_type": "markdown",
   "metadata": {},
   "source": [
    "#### Построение графика относительного изменения кумулятивного среднего чека группы B к группе A."
   ]
  },
  {
   "cell_type": "markdown",
   "metadata": {},
   "source": [
    "Сначала соберем данные в один датафрейм"
   ]
  },
  {
   "cell_type": "code",
   "execution_count": 21,
   "metadata": {},
   "outputs": [
    {
     "data": {
      "text/html": [
       "<div>\n",
       "<style scoped>\n",
       "    .dataframe tbody tr th:only-of-type {\n",
       "        vertical-align: middle;\n",
       "    }\n",
       "\n",
       "    .dataframe tbody tr th {\n",
       "        vertical-align: top;\n",
       "    }\n",
       "\n",
       "    .dataframe thead th {\n",
       "        text-align: right;\n",
       "    }\n",
       "</style>\n",
       "<table border=\"1\" class=\"dataframe\">\n",
       "  <thead>\n",
       "    <tr style=\"text-align: right;\">\n",
       "      <th></th>\n",
       "      <th>date</th>\n",
       "      <th>revenue_A</th>\n",
       "      <th>orders_A</th>\n",
       "      <th>revenue_B</th>\n",
       "      <th>orders_B</th>\n",
       "    </tr>\n",
       "  </thead>\n",
       "  <tbody>\n",
       "    <tr>\n",
       "      <th>0</th>\n",
       "      <td>2019-08-01</td>\n",
       "      <td>148579</td>\n",
       "      <td>24</td>\n",
       "      <td>101217</td>\n",
       "      <td>21</td>\n",
       "    </tr>\n",
       "    <tr>\n",
       "      <th>1</th>\n",
       "      <td>2019-08-02</td>\n",
       "      <td>242401</td>\n",
       "      <td>44</td>\n",
       "      <td>266748</td>\n",
       "      <td>45</td>\n",
       "    </tr>\n",
       "    <tr>\n",
       "      <th>2</th>\n",
       "      <td>2019-08-03</td>\n",
       "      <td>354874</td>\n",
       "      <td>68</td>\n",
       "      <td>380996</td>\n",
       "      <td>61</td>\n",
       "    </tr>\n",
       "    <tr>\n",
       "      <th>3</th>\n",
       "      <td>2019-08-04</td>\n",
       "      <td>425699</td>\n",
       "      <td>84</td>\n",
       "      <td>489567</td>\n",
       "      <td>78</td>\n",
       "    </tr>\n",
       "    <tr>\n",
       "      <th>4</th>\n",
       "      <td>2019-08-05</td>\n",
       "      <td>549917</td>\n",
       "      <td>109</td>\n",
       "      <td>581995</td>\n",
       "      <td>101</td>\n",
       "    </tr>\n",
       "  </tbody>\n",
       "</table>\n",
       "</div>"
      ],
      "text/plain": [
       "        date  revenue_A  orders_A  revenue_B  orders_B\n",
       "0 2019-08-01     148579        24     101217        21\n",
       "1 2019-08-02     242401        44     266748        45\n",
       "2 2019-08-03     354874        68     380996        61\n",
       "3 2019-08-04     425699        84     489567        78\n",
       "4 2019-08-05     549917       109     581995       101"
      ]
     },
     "execution_count": 21,
     "metadata": {},
     "output_type": "execute_result"
    }
   ],
   "source": [
    "merged_cumulative_revenue = cumulative_revenue_A.merge(\n",
    "    cumulative_revenue_B,\n",
    "    left_on='date',\n",
    "    right_on='date',\n",
    "    how='left',\n",
    "    suffixes=['_A', '_B']\n",
    ")\n",
    "\n",
    "merged_cumulative_revenue.head(5)\n"
   ]
  },
  {
   "cell_type": "markdown",
   "metadata": {},
   "source": [
    "Теперь на основании датафрейма ***merged_cumulative_revenue*** построим график."
   ]
  },
  {
   "cell_type": "code",
   "execution_count": 22,
   "metadata": {},
   "outputs": [
    {
     "data": {
      "image/png": "[encoded data removed]",
      "text/plain": [
       "<Figure size 864x432 with 1 Axes>"
      ]
     },
     "metadata": {},
     "output_type": "display_data"
    }
   ],
   "source": [
    "plt.figure(figsize=(12, 6))\n",
    "plt.plot(merged_cumulative_revenue['date'], \n",
    "         (\n",
    "             merged_cumulative_revenue['revenue_B']/merged_cumulative_revenue['orders_B']\n",
    "         )/\n",
    "         (\n",
    "             merged_cumulative_revenue['revenue_A']/merged_cumulative_revenue['orders_A']\n",
    "         )-1\n",
    "        )\n",
    "\n",
    "\n",
    "plt.axhline(y=0, color='black', linestyle='--')\n",
    "plt.title('График относительного изменения кумулятивного среднего чека группы B к группе A', fontsize=15)\n",
    "plt.xticks(rotation=30)\n",
    "plt.xticks(fontsize=10)\n",
    "\n",
    "\n",
    "plt.grid(True)\n",
    "plt.show()\n",
    " \n",
    "plt.show()\n"
   ]
  },
  {
   "cell_type": "markdown",
   "metadata": {},
   "source": [
    "***Вывод по изменению кумулятивного среднего чека группы B к группе А***.  \n",
    "\n",
    "На графике видны резкие скачки отношения среднего чека одной группы к другой, еще одно подтверждение наличия аномально дорогих заказов в даты скачков."
   ]
  },
  {
   "cell_type": "markdown",
   "metadata": {},
   "source": [
    "#### Построение графика кумулятивного среднего количества заказов на посетителя по группам."
   ]
  },
  {
   "cell_type": "markdown",
   "metadata": {},
   "source": [
    "Для построения графика необходимо добавить столбец с конверсией ('conversion') к датафрему ***cumulative_data***. После этого сгруппируем данные по группам."
   ]
  },
  {
   "cell_type": "code",
   "execution_count": 23,
   "metadata": {},
   "outputs": [],
   "source": [
    "cumulative_data['conversion'] = cumulative_data['orders']/cumulative_data['visitors']\n",
    "cumulative_data_A = cumulative_data[cumulative_data['group']=='A']\n",
    "cumulative_data_B = cumulative_data[cumulative_data['group']=='B']"
   ]
  },
  {
   "cell_type": "markdown",
   "metadata": {},
   "source": [
    "Теперь можем построить график"
   ]
  },
  {
   "cell_type": "code",
   "execution_count": 24,
   "metadata": {},
   "outputs": [
    {
     "data": {
      "image/png": "[encoded data removed]",
      "text/plain": [
       "<Figure size 864x432 with 1 Axes>"
      ]
     },
     "metadata": {},
     "output_type": "display_data"
    }
   ],
   "source": [
    "plt.figure(figsize=(12, 6)) \n",
    "\n",
    "plt.plot(cumulative_data_A['date'], cumulative_data_A['conversion'], label='A')\n",
    "plt.plot(cumulative_data_B['date'], cumulative_data_B['conversion'], label='B')\n",
    "\n",
    "\n",
    "plt.title('График динамики кумулятивного среднего кол-ва заказов на посетителя по группам A и B', fontsize=15)\n",
    "plt.xlabel('Дата', fontsize=12)\n",
    "plt.ylabel('Конверсия', fontsize=12)\n",
    "\n",
    "plt.xticks(rotation=30)\n",
    "plt.xticks(fontsize=10)\n",
    "\n",
    "plt.grid(True)\n",
    "\n",
    "plt.legend(title='Группы', fontsize=10)\n",
    "\n",
    "plt.tight_layout() \n",
    "plt.show()"
   ]
  },
  {
   "cell_type": "markdown",
   "metadata": {},
   "source": [
    "***Вывод по кумулятивному среднему количеству заказов на посетителя по группам***. \n",
    "\n",
    "В начале теста мы видим, что конверсия колеблется и группа A показывает лучший результат, но после 6ого августа ситуация стабилищируется и группа B показывает стабильно лучшую конверсию чем группа A."
   ]
  },
  {
   "cell_type": "markdown",
   "metadata": {},
   "source": [
    "#### Построение графика относительного изменения кумулятивного среднего количества заказов на посетителя группы B к группе A."
   ]
  },
  {
   "cell_type": "markdown",
   "metadata": {},
   "source": [
    "Сначала обединяем данные в таблицу ***merged_сumulative_сonversions***, после чего построим график."
   ]
  },
  {
   "cell_type": "code",
   "execution_count": 25,
   "metadata": {},
   "outputs": [],
   "source": [
    "merged_сumulative_сonversions = cumulative_data_A[['date','conversion']].merge(cumulative_data_B[['date',\n",
    "'conversion']], left_on='date', right_on='date', how='left', suffixes=['_A', '_B'])"
   ]
  },
  {
   "cell_type": "code",
   "execution_count": 26,
   "metadata": {},
   "outputs": [
    {
     "data": {
      "text/plain": [
       "<matplotlib.lines.Line2D at 0x7f1934ad4d90>"
      ]
     },
     "execution_count": 26,
     "metadata": {},
     "output_type": "execute_result"
    },
    {
     "data": {
      "image/png": "[encoded data removed]",
      "text/plain": [
       "<Figure size 864x432 with 1 Axes>"
      ]
     },
     "metadata": {},
     "output_type": "display_data"
    }
   ],
   "source": [
    "plt.figure(figsize=(12, 6)) \n",
    "\n",
    "plt.plot(merged_сumulative_сonversions['date'], merged_сumulative_сonversions['conversion_B']/\n",
    "         merged_сumulative_сonversions['conversion_A']-1)\n",
    "plt.title('График динамики кумулятивного среднего кол-ва заказов на посетителя группы B к группе A.', fontsize=15)\n",
    "\n",
    "\n",
    "plt.axhline(y=0, color='black', linestyle='--')\n",
    "plt.axhline(y=0.2, color='grey', linestyle='--')\n",
    "\n",
    "\n",
    "plt.axhline(y=0, color='black', linestyle='--')\n",
    "plt.axhline(y=0.2, color='grey', linestyle='--')\n"
   ]
  },
  {
   "cell_type": "markdown",
   "metadata": {},
   "source": [
    "***Вывод по кумулятивному среднему количеству заказов на посетителя группы B к группе A.***. \n",
    "\n",
    "Начиная с 6ого августа группа B лидирует по метрике: к 15 августа виден прирост в 20% относительно группы A, но после этого прирост уменьшается до 10%, а затем снова идет вверх до 14% прироста. \n",
    "Те точки на графиках где кривая резко меняет направление - говорит о том, что в эти даты присутствовали выбросы - то есть аномально большое количество заказов."
   ]
  },
  {
   "cell_type": "markdown",
   "metadata": {},
   "source": [
    "### Анализ выбросов и всплесков"
   ]
  },
  {
   "cell_type": "markdown",
   "metadata": {},
   "source": [
    "Итак, в предыдущем разделе на графиках были аномальные всплекски по стоимости заказов. В этом разделе детально рассмотрим данные на предмет вбросов."
   ]
  },
  {
   "cell_type": "markdown",
   "metadata": {},
   "source": [
    "#### Построение точечного графика количества заказов по пользователям."
   ]
  },
  {
   "cell_type": "markdown",
   "metadata": {},
   "source": [
    "Для начала сформируем таблицу по количеству заказов на пользователя. И посмотрим на описание данных столбца с количество заказов на 1ого пользователя."
   ]
  },
  {
   "cell_type": "code",
   "execution_count": 27,
   "metadata": {},
   "outputs": [
    {
     "data": {
      "text/plain": [
       "count    1031.000000\n",
       "mean        1.161009\n",
       "std         0.724919\n",
       "min         1.000000\n",
       "25%         1.000000\n",
       "50%         1.000000\n",
       "75%         1.000000\n",
       "max        11.000000\n",
       "Name: transaction_id, dtype: float64"
      ]
     },
     "metadata": {},
     "output_type": "display_data"
    }
   ],
   "source": [
    "orders_by_users = (\n",
    "    orders.groupby('visitor_id', as_index=False)\n",
    "    .agg({'transaction_id': 'nunique'})\n",
    ")\n",
    "\n",
    "display(orders_by_users['transaction_id'].describe())"
   ]
  },
  {
   "cell_type": "markdown",
   "metadata": {},
   "source": [
    "По описанию данных можно сделать вывод что на 1 пользователя приходится чуть больше одного заказа. Но также есть и аномальные показатель 11 заказов на пользователя. Построим точечный график, или так называемую диаграмму рассеяния, для лучше визуализации распределения количества заказ."
   ]
  },
  {
   "cell_type": "code",
   "execution_count": 28,
   "metadata": {},
   "outputs": [
    {
     "data": {
      "image/png": "[encoded data removed]",
      "text/plain": [
       "<Figure size 864x432 with 1 Axes>"
      ]
     },
     "metadata": {},
     "output_type": "display_data"
    }
   ],
   "source": [
    "x_values = pd.Series(range(0, len(orders_by_users)))\n",
    "plt.figure(figsize = (12, 6))\n",
    "sns.scatterplot(x_values, orders_by_users['transaction_id'], color = 'lightgreen', edgecolor = 'black')\n",
    "\n",
    "plt.title('Распределение количества заказов по пользователям', fontsize=15)\n",
    "plt.ylabel('Количество заказов на пользователя')\n",
    "plt.tight_layout()\n",
    "           \n",
    "plt.grid(True)\n",
    "plt.show()"
   ]
  },
  {
   "cell_type": "markdown",
   "metadata": {},
   "source": [
    "***Вывод по распределнию количества заказов на пользователя***. \n",
    "\n",
    "На диаграмме рассеяния хорошо видно, что подавляющее большинства пользователь сделали в течение месяца 1 заказ. Но также не редки случаи когда пользователь совершал 2 заказа. А вот болльше 3х заказов уже более редкие случаи.  \n",
    "\n",
    "Но нам нужно точно понять какое количество заказов можно считать аномалией, поэтому переходим к расчету перцентилей."
   ]
  },
  {
   "cell_type": "markdown",
   "metadata": {},
   "source": [
    "#### Считаем 95-й и 99-й перцентили количества заказов на пользователя. Выбераем границу для определения аномальных пользователей."
   ]
  },
  {
   "cell_type": "markdown",
   "metadata": {},
   "source": [
    "На практике принято отсеивать от 1% до 5% наблюдений с крайними значениями, именно поэтому мы считаем перцентили для определения границ аномальных значений."
   ]
  },
  {
   "cell_type": "code",
   "execution_count": 29,
   "metadata": {},
   "outputs": [
    {
     "name": "stdout",
     "output_type": "stream",
     "text": [
      "[2. 4.]\n"
     ]
    }
   ],
   "source": [
    "print(np.percentile(orders_by_users['transaction_id'], [95, 99]))"
   ]
  },
  {
   "cell_type": "markdown",
   "metadata": {},
   "source": [
    "***Вывод***.   \n",
    "Только 5% пользователей совершали больше 2-х покупок в процессе теста. А 4 и более заказов только 1%.\n",
    "Будем считать аномалией более 4х заказов на одного пользователя. То есть минимизируем потерю данных убрав только 1% от данных."
   ]
  },
  {
   "cell_type": "markdown",
   "metadata": {},
   "source": [
    "#### Построение точечного графика стоимостей заказов."
   ]
  },
  {
   "cell_type": "markdown",
   "metadata": {},
   "source": [
    "Посмотрим на описание данных столбца ***revenue***"
   ]
  },
  {
   "cell_type": "code",
   "execution_count": 30,
   "metadata": {},
   "outputs": [
    {
     "data": {
      "text/plain": [
       "count        1,197.000\n",
       "mean         8,348.006\n",
       "std         39,191.132\n",
       "min             50.000\n",
       "25%          1,220.000\n",
       "50%          2,978.000\n",
       "75%          8,290.000\n",
       "max      1,294,500.000\n",
       "Name: revenue, dtype: object"
      ]
     },
     "execution_count": 30,
     "metadata": {},
     "output_type": "execute_result"
    }
   ],
   "source": [
    "revenue_describe = orders['revenue'].describe()\n",
    "formatted_revenue = revenue_describe.apply(lambda x: f\"{x:,.3f}\")\n",
    "formatted_revenue"
   ]
  },
  {
   "cell_type": "markdown",
   "metadata": {},
   "source": [
    "По числовому описанию данных мы видим достаточно большое стандартное отклонение, то есть стоимость заказов достаточно сильно варьируется относительно среднего значения. А также виден \"аномально\" дорогой заказ на сумму более 1млн. Визуалищируем эти данные."
   ]
  },
  {
   "cell_type": "code",
   "execution_count": 31,
   "metadata": {},
   "outputs": [
    {
     "data": {
      "image/png": "[encoded data removed]",
      "text/plain": [
       "<Figure size 864x432 with 1 Axes>"
      ]
     },
     "metadata": {},
     "output_type": "display_data"
    }
   ],
   "source": [
    "plt.figure(figsize=(12,6))\n",
    "plt.hist(orders['revenue'], range=(0,100000), bins = 100)\n",
    "plt.title('Гистрограмма распределение стоимости заказов по пользователям')\n",
    "plt.show()"
   ]
  },
  {
   "cell_type": "code",
   "execution_count": 32,
   "metadata": {},
   "outputs": [
    {
     "data": {
      "image/png": "[encoded data removed]",
      "text/plain": [
       "<Figure size 864x432 with 1 Axes>"
      ]
     },
     "metadata": {},
     "output_type": "display_data"
    }
   ],
   "source": [
    "x_values = pd.Series(range(0, len(orders)))\n",
    "plt.figure(figsize=(12,6))\n",
    "plt.scatter(x_values, orders['revenue'], color = 'lightgreen', edgecolor = 'black')\n",
    "plt.title('Диаграмма рассеяния сумм заказов на одного пользователя',fontsize=15)\n",
    "plt.ylabel('Сумма заказов')\n",
    "plt.axis([0, 1200, 0, 200000])\n",
    "plt.show()"
   ]
  },
  {
   "cell_type": "markdown",
   "metadata": {},
   "source": [
    "***Вывод***.\n",
    "\n",
    "\n",
    "Основная часть пользователей совершает заказ до 25000 рублей, но при этом есть и аномальные заказы стоимостью в 1,294,500. Посмотрим на перцентили для определения границ аномальных значений суммы заказа."
   ]
  },
  {
   "cell_type": "markdown",
   "metadata": {},
   "source": [
    "#### Считаем 95-й и 99-й перцентили стоимости заказов и  выбераем границу для определения аномальных заказов."
   ]
  },
  {
   "cell_type": "code",
   "execution_count": 33,
   "metadata": {},
   "outputs": [
    {
     "name": "stdout",
     "output_type": "stream",
     "text": [
      "[28000.  58233.2]\n"
     ]
    }
   ],
   "source": [
    "print(np.percentile(orders['revenue'], [95, 99]))"
   ]
  },
  {
   "cell_type": "markdown",
   "metadata": {},
   "source": [
    "***Вывод***  \n",
    "\n",
    "Только 5% пользователей совершают заказ более 28000 и 1% более 58233,2. Границу берем по 99 перцентилю, то есть аномальные суммы заказа будут на сумму более 58233.2."
   ]
  },
  {
   "cell_type": "markdown",
   "metadata": {},
   "source": [
    "### Статистическая значимость"
   ]
  },
  {
   "cell_type": "markdown",
   "metadata": {},
   "source": [
    "#### Считаем статистическую значимость различий в среднем количестве заказов на посетителя между группами по «сырым» данным. "
   ]
  },
  {
   "cell_type": "markdown",
   "metadata": {},
   "source": [
    "Сформулируем нулевую и альтернативную гипотезы перед началом теста:\n",
    "\n",
    "- ***Нулевая гипотеза:*** различий в среднем количестве заказов между группами нет;\n",
    "- ***Альтернативная гипотеза:*** различия в среднем количестве заказов между группами есть.\n",
    "\n",
    "Для проверки гипотез будем использовать непараметрический тест Уилкоксона-Манна-Уитни, выбор метода теста обсуловлен наличием аномалий в данных, а данный тест устойчив к выбросам данных.\n",
    "Уровень стаитистической значимости объявим 0.05.   \n",
    "\n",
    "Начнем с подготовки данных для теста."
   ]
  },
  {
   "cell_type": "code",
   "execution_count": 34,
   "metadata": {},
   "outputs": [],
   "source": [
    "visitors_daily_A = visitors[visitors['group'] == 'A'][['date', 'visitors']]\n",
    "visitors_daily_A.columns = ['date', 'visitors_per_date_A']\n",
    "\n",
    "visitors_cummulative_A = visitors_daily_A.apply(\n",
    "    lambda x: visitors_daily_A[visitors_daily_A['date'] <= x['date']].agg(\n",
    "        {'date': 'max', 'visitors_per_date_A': 'sum'}\n",
    "    ),\n",
    "    axis=1,\n",
    ")\n",
    "visitors_cummulative_A.columns = ['date', 'visitors_cummulative_A']\n",
    "\n",
    "\n",
    "visitors_daily_B = visitors[visitors['group'] == 'B'][['date', 'visitors']]\n",
    "visitors_daily_B.columns = ['date', 'visitors_per_date_B']\n",
    "\n",
    "visitors_cummulative_B = visitors_daily_B.apply(\n",
    "    lambda x: visitors_daily_B[visitors_daily_B['date'] <= x['date']].agg(\n",
    "        {'date': 'max', 'visitors_per_date_B': 'sum'}\n",
    "    ),\n",
    "    axis=1,\n",
    ")\n",
    "visitors_cummulative_B.columns = ['date', 'visitors_cummulative_B']"
   ]
  },
  {
   "cell_type": "code",
   "execution_count": 35,
   "metadata": {},
   "outputs": [],
   "source": [
    "orders_daily_A = (\n",
    "    orders[orders['group'] == 'A'][['date', 'transaction_id', 'visitor_id', 'revenue']]\n",
    "    .groupby('date', as_index=False)\n",
    "    .agg({'transaction_id': pd.Series.nunique, 'revenue': 'sum'})\n",
    ")\n",
    "orders_daily_A.columns = ['date', 'orders_per_date_A', 'revenue_per_date_A']\n",
    "\n",
    "orders_cummulative_A = orders_daily_A.apply(\n",
    "    lambda x: orders_daily_A[orders_daily_A['date'] <= x['date']].agg(\n",
    "        {'date': 'max', 'orders_per_date_A': 'sum', 'revenue_per_date_A': 'sum'}\n",
    "    ),\n",
    "    axis=1,\n",
    ").sort_values(by=['date'])\n",
    "orders_cummulative_A.columns = [\n",
    "    'date',\n",
    "    'orders_cummulative_A',\n",
    "    'revenue_cummulative_A',\n",
    "]\n",
    "\n",
    "orders_daily_B = (\n",
    "    orders[orders['group'] == 'B'][['date', 'transaction_id', 'visitor_id', 'revenue']]\n",
    "    .groupby('date', as_index=False)\n",
    "    .agg({'transaction_id': pd.Series.nunique, 'revenue': 'sum'})\n",
    ")\n",
    "orders_daily_B.columns = ['date', 'orders_per_date_B', 'revenue_per_date_B']\n",
    "\n",
    "orders_cummulative_B = orders_daily_B.apply(\n",
    "    lambda x: orders_daily_B[orders_daily_B['date'] <= x['date']].agg(\n",
    "        {'date': 'max', 'orders_per_date_B': 'sum', 'revenue_per_date_B': 'sum'}\n",
    "    ),\n",
    "    axis=1,\n",
    ").sort_values(by=['date'])\n",
    "orders_cummulative_B.columns = [\n",
    "    'date',\n",
    "    'orders_cummulative_B',\n",
    "    'revenue_cummulative_B',\n",
    "]"
   ]
  },
  {
   "cell_type": "code",
   "execution_count": 36,
   "metadata": {},
   "outputs": [
    {
     "data": {
      "text/html": [
       "<div>\n",
       "<style scoped>\n",
       "    .dataframe tbody tr th:only-of-type {\n",
       "        vertical-align: middle;\n",
       "    }\n",
       "\n",
       "    .dataframe tbody tr th {\n",
       "        vertical-align: top;\n",
       "    }\n",
       "\n",
       "    .dataframe thead th {\n",
       "        text-align: right;\n",
       "    }\n",
       "</style>\n",
       "<table border=\"1\" class=\"dataframe\">\n",
       "  <thead>\n",
       "    <tr style=\"text-align: right;\">\n",
       "      <th></th>\n",
       "      <th>date</th>\n",
       "      <th>orders_per_date_A</th>\n",
       "      <th>revenue_per_date_A</th>\n",
       "      <th>orders_per_date_B</th>\n",
       "      <th>revenue_per_date_B</th>\n",
       "      <th>orders_cummulative_A</th>\n",
       "      <th>revenue_cummulative_A</th>\n",
       "      <th>orders_cummulative_B</th>\n",
       "      <th>revenue_cummulative_B</th>\n",
       "      <th>visitors_per_date_A</th>\n",
       "      <th>visitors_per_date_B</th>\n",
       "      <th>visitors_cummulative_A</th>\n",
       "      <th>visitors_cummulative_B</th>\n",
       "    </tr>\n",
       "  </thead>\n",
       "  <tbody>\n",
       "    <tr>\n",
       "      <th>0</th>\n",
       "      <td>2019-08-01</td>\n",
       "      <td>24</td>\n",
       "      <td>148579</td>\n",
       "      <td>21</td>\n",
       "      <td>101217</td>\n",
       "      <td>24</td>\n",
       "      <td>148579</td>\n",
       "      <td>21</td>\n",
       "      <td>101217</td>\n",
       "      <td>719</td>\n",
       "      <td>713</td>\n",
       "      <td>719</td>\n",
       "      <td>713</td>\n",
       "    </tr>\n",
       "    <tr>\n",
       "      <th>1</th>\n",
       "      <td>2019-08-02</td>\n",
       "      <td>20</td>\n",
       "      <td>93822</td>\n",
       "      <td>24</td>\n",
       "      <td>165531</td>\n",
       "      <td>44</td>\n",
       "      <td>242401</td>\n",
       "      <td>45</td>\n",
       "      <td>266748</td>\n",
       "      <td>619</td>\n",
       "      <td>581</td>\n",
       "      <td>1338</td>\n",
       "      <td>1294</td>\n",
       "    </tr>\n",
       "    <tr>\n",
       "      <th>2</th>\n",
       "      <td>2019-08-03</td>\n",
       "      <td>24</td>\n",
       "      <td>112473</td>\n",
       "      <td>16</td>\n",
       "      <td>114248</td>\n",
       "      <td>68</td>\n",
       "      <td>354874</td>\n",
       "      <td>61</td>\n",
       "      <td>380996</td>\n",
       "      <td>507</td>\n",
       "      <td>509</td>\n",
       "      <td>1845</td>\n",
       "      <td>1803</td>\n",
       "    </tr>\n",
       "    <tr>\n",
       "      <th>3</th>\n",
       "      <td>2019-08-04</td>\n",
       "      <td>16</td>\n",
       "      <td>70825</td>\n",
       "      <td>17</td>\n",
       "      <td>108571</td>\n",
       "      <td>84</td>\n",
       "      <td>425699</td>\n",
       "      <td>78</td>\n",
       "      <td>489567</td>\n",
       "      <td>717</td>\n",
       "      <td>770</td>\n",
       "      <td>2562</td>\n",
       "      <td>2573</td>\n",
       "    </tr>\n",
       "    <tr>\n",
       "      <th>4</th>\n",
       "      <td>2019-08-05</td>\n",
       "      <td>25</td>\n",
       "      <td>124218</td>\n",
       "      <td>23</td>\n",
       "      <td>92428</td>\n",
       "      <td>109</td>\n",
       "      <td>549917</td>\n",
       "      <td>101</td>\n",
       "      <td>581995</td>\n",
       "      <td>756</td>\n",
       "      <td>707</td>\n",
       "      <td>3318</td>\n",
       "      <td>3280</td>\n",
       "    </tr>\n",
       "  </tbody>\n",
       "</table>\n",
       "</div>"
      ],
      "text/plain": [
       "        date  orders_per_date_A  revenue_per_date_A  orders_per_date_B  \\\n",
       "0 2019-08-01                 24              148579                 21   \n",
       "1 2019-08-02                 20               93822                 24   \n",
       "2 2019-08-03                 24              112473                 16   \n",
       "3 2019-08-04                 16               70825                 17   \n",
       "4 2019-08-05                 25              124218                 23   \n",
       "\n",
       "   revenue_per_date_B  orders_cummulative_A  revenue_cummulative_A  \\\n",
       "0              101217                    24                 148579   \n",
       "1              165531                    44                 242401   \n",
       "2              114248                    68                 354874   \n",
       "3              108571                    84                 425699   \n",
       "4               92428                   109                 549917   \n",
       "\n",
       "   orders_cummulative_B  revenue_cummulative_B  visitors_per_date_A  \\\n",
       "0                    21                 101217                  719   \n",
       "1                    45                 266748                  619   \n",
       "2                    61                 380996                  507   \n",
       "3                    78                 489567                  717   \n",
       "4                   101                 581995                  756   \n",
       "\n",
       "   visitors_per_date_B  visitors_cummulative_A  visitors_cummulative_B  \n",
       "0                  713                     719                     713  \n",
       "1                  581                    1338                    1294  \n",
       "2                  509                    1845                    1803  \n",
       "3                  770                    2562                    2573  \n",
       "4                  707                    3318                    3280  "
      ]
     },
     "execution_count": 36,
     "metadata": {},
     "output_type": "execute_result"
    }
   ],
   "source": [
    "t1 = (\n",
    "    orders_daily_A.merge(\n",
    "        orders_daily_B, left_on='date', right_on='date', how='left'\n",
    "    )\n",
    "    .merge(orders_cummulative_A, left_on='date', right_on='date', how='left')\n",
    "    .merge(orders_cummulative_B, left_on='date', right_on='date', how='left')\n",
    "    .merge(visitors_daily_A, left_on='date', right_on='date', how='left')\n",
    "    .merge(visitors_daily_B, left_on='date', right_on='date', how='left')\n",
    "    .merge(visitors_cummulative_A, left_on='date', right_on='date', how='left')\n",
    "    .merge(visitors_cummulative_B, left_on='date', right_on='date', how='left')\n",
    ")\n",
    "\n",
    "t1.head(5)"
   ]
  },
  {
   "cell_type": "markdown",
   "metadata": {},
   "source": [
    "В созданном датафрейме мы разбили все показатели по группам A и B, и сгруппировали по дате. Таким образом для каждой группы за все даты проведения теста мы видим количество заказов, суммарную выручку группы, количество заказов сделанных в этот день, а также куммулятивные значения этих показателей.   \n",
    "\n",
    "Теперь приступим к подсчету статистической значимость различия в среднем количестве заказов между группами. Создадим переменные ***orders_by_users_A*** и ***orders_by_users_B***,  где укажем пользователей, которые заказывали хотя бы 1 раз. "
   ]
  },
  {
   "cell_type": "code",
   "execution_count": 37,
   "metadata": {},
   "outputs": [],
   "source": [
    "orders_by_users_A = (\n",
    "    orders[orders['group'] == 'A']\n",
    "    .groupby('visitor_id', as_index=False)\n",
    "    .agg({'transaction_id': pd.Series.nunique})\n",
    ")\n",
    "orders_by_users_A.columns = ['visitor_id', 'orders']\n",
    "\n",
    "orders_by_users_B = (\n",
    "    orders[orders['group'] == 'B']\n",
    "    .groupby('visitor_id', as_index=False)\n",
    "    .agg({'transaction_id': pd.Series.nunique})\n",
    ")\n",
    "orders_by_users_B.columns = ['visitor_id', 'orders'] "
   ]
  },
  {
   "cell_type": "markdown",
   "metadata": {},
   "source": [
    "Теперь введем переменные ***sample_A*** и ***sample_B***, в которых пользователям из разных групп будет соответствовать количество заказов. Тем, кто ничего не заказал, будут соответствовать нули. Данный шаг позволит подготовить выборки к проверке критерием Манна-Уитни"
   ]
  },
  {
   "cell_type": "code",
   "execution_count": 38,
   "metadata": {},
   "outputs": [],
   "source": [
    "sample_A = pd.concat([orders_by_users_A['orders'],pd.Series(0, index=np.arange(t1['visitors_per_date_A'].sum() \n",
    "                                  - len(orders_by_users_A['orders'])), name='orders')],axis=0)\n",
    "\n",
    "sample_B = pd.concat([orders_by_users_B['orders'],pd.Series(0, index=np.arange(t1['visitors_per_date_B'].sum() \n",
    "                                   - len(orders_by_users_B['orders'])), name='orders')],axis=0)\n"
   ]
  },
  {
   "cell_type": "markdown",
   "metadata": {},
   "source": [
    "Применим критерий и округлим p-value, а также выведем относительный прирост среднего числа заказов группы B, округлив оба показателя до трёх знаков после запятой."
   ]
  },
  {
   "cell_type": "code",
   "execution_count": 39,
   "metadata": {},
   "outputs": [
    {
     "name": "stdout",
     "output_type": "stream",
     "text": [
      "\n",
      "Относительный прирост конверсии группы B по отношению к группе A: 0.138\n",
      "p-value: 0.017\n",
      "По \"сырым\" данным есть статистически значимая разница в конверсиях между группами A и B\n"
     ]
    }
   ],
   "source": [
    "print('\\nОтносительный прирост конверсии группы B по отношению к группе A: {:.3f}'.format(sample_B.mean()/sample_A.mean()-1))\n",
    "alpha = 0.05\n",
    "results = stats.mannwhitneyu(sample_A, sample_B)\n",
    "\n",
    "print('p-value: {:.3f}'.format(results.pvalue))\n",
    "if results.pvalue < alpha:\n",
    "    print('По \"сырым\" данным есть статистически значимая разница в конверсиях между группами A и B')\n",
    "else:\n",
    "    print('По \"сырым\" данным не наблюдается статистически значимой разницы между конверсиями групп A и B' )"
   ]
  },
  {
   "cell_type": "markdown",
   "metadata": {},
   "source": [
    "***Вывод***  \n",
    "\n",
    "***P-value*** = 0.017 меньше 0.05. Значит, нулевую гипотезу о том, что статистически значимых различий в конверсии между группами нет, отвергаем. Конверсия группы ***B*** превышает конверсию группы ***A*** на 13.81%."
   ]
  },
  {
   "cell_type": "markdown",
   "metadata": {},
   "source": [
    "#### Считаем статистическую значимость различий в среднем чеке заказа между группами по «сырым» данным. "
   ]
  },
  {
   "cell_type": "markdown",
   "metadata": {},
   "source": [
    "Сформулируем нулувую и альтернативную гипотезы перед началом теста:\n",
    "\n",
    "- ***Нулевая гипотеза:*** Различий в среднем чеке между группами нет.\n",
    "- ***Альтернативная гипотеза:*** Различия в среднем чеке между группами есть.\n",
    "\n",
    "Уровень статистической значимости объявим 0.05  \n",
    "\n",
    "Чтобы рассчитать статистическую значимость различий в среднем чеке, передадим критерию ***mannwhitneyu()*** данные о выручке с заказов и отразим относительные различия в среднем чеке между группами."
   ]
  },
  {
   "cell_type": "code",
   "execution_count": 40,
   "metadata": {},
   "outputs": [
    {
     "name": "stdout",
     "output_type": "stream",
     "text": [
      "Относительное различие среднего чека в группе B по отношению группы A: 0.259\n"
     ]
    }
   ],
   "source": [
    "print('Относительное различие среднего чека в группе B по отношению группы A: {:.3f}'\n",
    "      .format(orders[orders['group']=='B']['revenue'].mean()/orders[orders['group']=='A']['revenue'].mean()-1)) "
   ]
  },
  {
   "cell_type": "code",
   "execution_count": 41,
   "metadata": {},
   "outputs": [
    {
     "name": "stdout",
     "output_type": "stream",
     "text": [
      "P-value: 0.729\n",
      "По \"сырым\" данным разницы в средних чеках группах A и B нет!\n"
     ]
    }
   ],
   "source": [
    "results = stats.mannwhitneyu(orders[orders['group']=='A']['revenue'], orders[orders['group']=='B']['revenue'])\n",
    "print('P-value: {:.3f}'.format(results.pvalue))\n",
    "if results.pvalue < alpha:\n",
    "    print('По \"сырым\" данным разницы в средних чеках между группами A и B есть!')\n",
    "else:\n",
    "    print('По \"сырым\" данным разницы в средних чеках группах A и B нет!')"
   ]
  },
  {
   "cell_type": "markdown",
   "metadata": {},
   "source": [
    "***Вывод***   \n",
    "\n",
    "Результат 0.259 говорит о том, что средний чек в группе B на 25.9% выше, чем в группе A. P-value, равное 0.729, указывает на то, что нет статистически значимых различий между группами. Поскольку P-value больше уровня значимости (0.05), отвергнуть нулевую гипотезу нельзя."
   ]
  },
  {
   "cell_type": "markdown",
   "metadata": {},
   "source": [
    "#### Считаем статистическую значимость различий в среднем количестве заказов на посетителя между группами по «очищенным» данным."
   ]
  },
  {
   "cell_type": "markdown",
   "metadata": {},
   "source": [
    "Сформулируем нулевую и альтернативную гипотезы перед началом теста:\n",
    "\n",
    "- ***Нулевая гипотеза:*** Различий в конверсии между группами нет.\n",
    "- ***Альтернативная гипотеза:*** Различия в конверсии между группами есть.\n",
    "\n",
    "Уровень статистической значимости объявим 0.05  "
   ]
  },
  {
   "cell_type": "markdown",
   "metadata": {},
   "source": [
    "Напомню, на этапе определения аномальных значений было решено исключить 1% данных - те кто совершил более 58233,2 (для удобства округлим до целого значения 58233), а также 1% тех пользователей которые совершили более 4х заказов. \n",
    "\n",
    "Выполним срез данных по этим критериям и сохраним в переменных ***users_many_orders*** и ***users_expensive_orders***. Объединим их в таблице ***filter_users*** и посмотрим на количество \"аномальных\" пользователей."
   ]
  },
  {
   "cell_type": "code",
   "execution_count": 42,
   "metadata": {},
   "outputs": [
    {
     "name": "stdout",
     "output_type": "stream",
     "text": [
      "1099     148427295\n",
      "949      887908475\n",
      "744      888512513\n",
      "1103    1164614297\n",
      "1136    1307669133\n",
      "Name: visitor_id, dtype: int64\n",
      "Количество \"аномальных\" пользователей: 15\n"
     ]
    }
   ],
   "source": [
    "users_many_orders = pd.concat(\n",
    "    [\n",
    "        orders_by_users_A[orders_by_users_A['orders'] > orders_by_users['transaction_id'].quantile(0.99)]['visitor_id'],\n",
    "        orders_by_users_B[orders_by_users_B['orders'] > orders_by_users['transaction_id'].quantile(0.99)]['visitor_id'],\n",
    "    ],\n",
    "    axis=0,\n",
    ")\n",
    "users_expensive_orders = orders[orders['revenue'] > orders['revenue'].quantile(0.99)]['visitor_id']\n",
    "filter_users = (\n",
    "    pd.concat([users_many_orders, users_expensive_orders], axis=0)\n",
    "    .drop_duplicates()\n",
    "    .sort_values()\n",
    ")\n",
    "print(filter_users.head(5))\n",
    "print('Количество \"аномальных\" пользователей:', filter_users.shape[0])"
   ]
  },
  {
   "cell_type": "markdown",
   "metadata": {},
   "source": [
    "Посчитаем статистическую значимость различий в среднем количестве заказов между группами теста по очищенным данным. Сначала подготовим выборки количества заказов по группам пользователей."
   ]
  },
  {
   "cell_type": "code",
   "execution_count": 43,
   "metadata": {},
   "outputs": [],
   "source": [
    "sample_filtered_A = pd.concat(\n",
    "    [orders_by_users_A[\n",
    "            np.logical_not(orders_by_users_A['visitor_id'].isin(filter_users))]['orders'],\n",
    "        pd.Series(\n",
    "            0,\n",
    "            index=np.arange(\n",
    "                t1['visitors_per_date_A'].sum() - len(orders_by_users_A['orders'])),\n",
    "            name='orders',),],axis=0,)\n",
    "\n",
    "sample_filtered_B = pd.concat(\n",
    "    [orders_by_users_B[\n",
    "            np.logical_not(orders_by_users_B['visitor_id'].isin(filter_users))]['orders'],\n",
    "        pd.Series(\n",
    "            0,\n",
    "            index=np.arange(\n",
    "                t1['visitors_per_date_B'].sum() - len(orders_by_users_B['orders'])),\n",
    "            name='orders',),\n",
    "    ],axis=0,)"
   ]
  },
  {
   "cell_type": "markdown",
   "metadata": {},
   "source": [
    "Применим статистический критерий Манна-Уитни к полученным выборкам:"
   ]
  },
  {
   "cell_type": "code",
   "execution_count": 44,
   "metadata": {},
   "outputs": [
    {
     "name": "stdout",
     "output_type": "stream",
     "text": [
      "\n",
      "Относительный прирост конверсии группы B по отношению к группе A на очищенных данных:0.153\n",
      "P-value: 0.014\n",
      "По \"очищенным\" данным есть статистически значимая разница в конверсиях групп A и B!\n"
     ]
    }
   ],
   "source": [
    "print('\\nОтносительный прирост конверсии группы B по отношению к группе A на очищенных данных:{0:.3f}'\n",
    "      .format(sample_filtered_B.mean()/sample_filtered_A.mean()-1)) \n",
    "results = stats.mannwhitneyu(sample_filtered_A, sample_filtered_B)\n",
    "print('P-value: {0:.3f}'.format(results.pvalue))\n",
    "if results.pvalue < alpha:\n",
    "    print('По \"очищенным\" данным есть статистически значимая разница в конверсиях групп A и B!')\n",
    "else:\n",
    "    print('По \"очищенным\" данным нет статистически значимая разница в конверсиях групп A и B!')"
   ]
  },
  {
   "cell_type": "markdown",
   "metadata": {},
   "source": [
    "***Вывод***.  \n",
    "\n",
    "P-value 0.014, указывает на то, что есть статистически значимые различия в конверсии между группами. Относительный прирост конверсии группы B по отношению к группе A, который составил 15.3%. Это говорит о том, что конверсия в группе B выше, чем в группе A. То есть результаты по сравнению с тестом на \"сырых\" не изменился. Однако на 2% увеличился показатель относительного прироста конверсии группы B c 13.8% до 15.3%."
   ]
  },
  {
   "cell_type": "markdown",
   "metadata": {},
   "source": [
    "#### Считаем статистическую значимость различий в среднем чеке заказа между группами по «очищенным» данным"
   ]
  },
  {
   "cell_type": "markdown",
   "metadata": {},
   "source": [
    "Сформулируем нулевую и альтернативную гипотезы перед началом теста:\n",
    "\n",
    "- ***Нулевая гипотеза:*** Различий в среднем чеке между группами нет.\n",
    "- ***Альтернативная гипотеза:*** Различия в среднем чеке между группами есть.\n",
    "    \n",
    "Уровень статистической значимости объявим 0.05\n",
    "\n",
    "Сначала посмотрим на изменение среднего чека группы B по отношению к группе A на \"очищенных\" данных."
   ]
  },
  {
   "cell_type": "code",
   "execution_count": 45,
   "metadata": {},
   "outputs": [
    {
     "name": "stdout",
     "output_type": "stream",
     "text": [
      "Относительное изменение среднего чека в группе B по отношению группы A после очистки данных:-0.006\n"
     ]
    }
   ],
   "source": [
    "print('Относительное изменение среднего чека в группе B по отношению группы A после очистки данных:{0:.3f}'.\n",
    "format(orders[np.logical_and(orders['group'] == 'B',np.logical_not\n",
    "                            (orders['visitor_id'].isin(filter_users)),)]['revenue'].mean()\n",
    "/orders[np.logical_and(orders['group'] == 'A',np.logical_not(orders['visitor_id'].isin(filter_users)),\n",
    ")]['revenue'].mean() - 1)) \n"
   ]
  },
  {
   "cell_type": "markdown",
   "metadata": {},
   "source": [
    "Теперь проведем тест гипотез."
   ]
  },
  {
   "cell_type": "code",
   "execution_count": 46,
   "metadata": {},
   "outputs": [
    {
     "name": "stdout",
     "output_type": "stream",
     "text": [
      "P-value: 0.8509126191381939\n",
      "По \"очищенным\" данным нет статистически значимой разницы в средних чеках между группами A и B.\n"
     ]
    }
   ],
   "source": [
    "results = stats.mannwhitneyu(orders[np.logical_and(orders['group']=='A', np.logical_not(orders['visitor_id'].isin(filter_users)))]['revenue'],\n",
    "orders[np.logical_and(orders['group']=='B', np.logical_not(orders['visitor_id'].isin(filter_users)))]['revenue'])\n",
    "\n",
    "print('P-value: {}'.format(results.pvalue))\n",
    "if results.pvalue < alpha:\n",
    "    print('По \"очищенным\" данным есть статистически значимая разница в средних чеках между группами A и B.')\n",
    "else:\n",
    "    print('По \"очищенным\" данным нет статистически значимой разницы в средних чеках между группами A и B.')\n"
   ]
  },
  {
   "cell_type": "markdown",
   "metadata": {},
   "source": [
    "***Вывод***  \n",
    "\n",
    "Изменение среднего чека в группе B по отношению к группе A на \"очищенных\" данных составило -0.006. Это означает, что средний чек в группе B на 0.6% ниже, чем в группе A. То есть минимальная разница в размере средних чеков.\n",
    "P-value, равное 0.851, указывает на то, что нет статистически значимых различий между группами. Поскольку P-value  больше уровня значимости (0.05), отвергнуть нулевую гипотезу нельзя.\n",
    "\n"
   ]
  },
  {
   "cell_type": "markdown",
   "metadata": {},
   "source": [
    "## Вывод по A/B тесту"
   ]
  },
  {
   "cell_type": "markdown",
   "metadata": {},
   "source": [
    "В первой часть исследования была проведена приоретизация гипотез интернет-магазина. В зависимости от предпочтительного метода оценки приоритеты могут быть расставлены по разному.\n",
    "\n",
    "Если использовать метод ***ICE (Impact, Confidence, Ease)***. Данный метод оценивает гипотезы по трем критериям — воздействию на бизнес, уверенности в успехе и простоте реализации, но не учитывает охват изменений.\n",
    "Приоритеты гипотез в этом методе следующие:\n",
    "\n",
    "8. Запустить акцию, дающую скидку на товар в день рождения*\n",
    "0. Добавить два новых канала привлечения трафика, что позволит привлекать на 30% больше пользователей \n",
    "7. Добавить форму подписки на все основные страницы, чтобы собрать базу клиентов для email-рассылок \n",
    "6. Показать на главной странице баннеры с актуальными акциями и распродажами, чтобы увеличить конверсию \n",
    "2. Добавить блоки рекомендаций товаров на сайт интернет магазина, чтобы повысить конверсию и средний чек \n",
    "\n",
    "Однако, если применять метод ***RICE (Reach, Impact, Confidence, Effort)***. Этот метод включает охват (количество пользователей, которых коснется изменение), что может привести к более сбалансированному подходу в приоретизации  гипотез:\n",
    "\n",
    "7.\tДобавить форму подписки на все основные страницы, чтобы собрать базу клиентов для email-рассылок\n",
    "2.\tДобавить блоки рекомендаций товаров на сайт интернет магазина, чтобы повысить конверсию и средний чек заказа\n",
    "0.\tДобавить два новых канала привлечения трафика, что позволит привлекать на 30% больше пользователей\n",
    "6.\tПоказать на главной странице баннеры с актуальными акциями и распродажами, чтобы увеличить конверси\n",
    "\n",
    "***Рекомендация по выбору приоритетов:*** Выбор метода оценки зависит от целей компании, если цель — быстро увеличить объем продаж, метод ICE может быть более подходящим. Если же стоит задача выстраивания устойчивого роста, лучше использовать метод RICE.\n",
    "\n",
    "Говоря об анализах A/B теста стоит отметить, что анализ был проведен на \"сырых\" данных, а затем на \"очищенных\", по следующим параметрам:  \n",
    "\n",
    "- ***Сравнение конверсий пользователей групп A и B***. Конверсия группы B превышает конверсию группы A как на \"сырых\" так и на \"очищенных\" от выбросов данных от 13.81% до 15.3%.\n",
    "\n",
    "- ***Сравнение среднего чека пользователей групп A и B***. Не обнаружено статистически значимого различия в среднем чеке между группами как до \"очистки\" данных так и после. \n",
    "\n",
    "Также проведено сравнение кумулятивных метрик (метрик с накоплением):\n",
    "\n",
    "- ***Кумулятивная выручка*** группы B была выше выручки группы A на протяжении всего теста.\n",
    "- ***Динамика куммулятивного среднего чека***.В общей динамике средний чек группы B, практически на всех этапах теста был выше чем у группы A, за исключением 1ого дня, а также с 12ого - 15е августа.\n",
    "- ***Кумулятивное среднее количество заказов на посетителя***. В начале теста конверсия колеблется и группа A показывает лучший результат, но после 6ого августа ситуация стабилиpируется и группа B показывает стабильно лучшую конверсию чем группа A.\n",
    "\n",
    "\n",
    "На основании результатов тестирования рекомендуется остановить тест и признать победителем группу B. "
   ]
  }
 ],
 "metadata": {
  "ExecuteTimeLog": [
   {
    "duration": 1202,
    "start_time": "2024-12-16T08:05:47.376Z"
   },
   {
    "duration": 74,
    "start_time": "2024-12-16T08:07:54.843Z"
   },
   {
    "duration": 33,
    "start_time": "2024-12-16T08:08:02.256Z"
   },
   {
    "duration": 34,
    "start_time": "2024-12-16T08:08:15.740Z"
   },
   {
    "duration": 35,
    "start_time": "2024-12-16T08:11:06.490Z"
   },
   {
    "duration": 8,
    "start_time": "2024-12-16T08:11:19.847Z"
   },
   {
    "duration": 34,
    "start_time": "2024-12-16T08:22:26.448Z"
   },
   {
    "duration": 7,
    "start_time": "2024-12-16T08:22:26.994Z"
   },
   {
    "duration": 91,
    "start_time": "2024-12-16T08:27:39.574Z"
   },
   {
    "duration": 12,
    "start_time": "2024-12-16T08:30:07.127Z"
   },
   {
    "duration": 10,
    "start_time": "2024-12-16T08:30:54.192Z"
   },
   {
    "duration": 13,
    "start_time": "2024-12-16T08:33:58.139Z"
   },
   {
    "duration": 96,
    "start_time": "2024-12-16T08:36:20.507Z"
   },
   {
    "duration": 85,
    "start_time": "2024-12-16T08:41:37.712Z"
   },
   {
    "duration": 3,
    "start_time": "2024-12-16T08:53:21.723Z"
   },
   {
    "duration": 44,
    "start_time": "2024-12-16T08:53:21.728Z"
   },
   {
    "duration": 54,
    "start_time": "2024-12-16T08:53:21.773Z"
   },
   {
    "duration": 10,
    "start_time": "2024-12-16T08:53:21.829Z"
   },
   {
    "duration": 85,
    "start_time": "2024-12-16T08:53:21.841Z"
   },
   {
    "duration": 112,
    "start_time": "2024-12-16T08:59:11.648Z"
   },
   {
    "duration": 3,
    "start_time": "2024-12-16T09:07:35.486Z"
   },
   {
    "duration": 9,
    "start_time": "2024-12-16T09:07:36.946Z"
   },
   {
    "duration": 2,
    "start_time": "2024-12-16T09:07:49.631Z"
   },
   {
    "duration": 2,
    "start_time": "2024-12-16T09:07:53.591Z"
   },
   {
    "duration": 2,
    "start_time": "2024-12-16T09:08:01.689Z"
   },
   {
    "duration": 2,
    "start_time": "2024-12-16T09:08:05.218Z"
   },
   {
    "duration": 9,
    "start_time": "2024-12-16T09:08:05.939Z"
   },
   {
    "duration": 3,
    "start_time": "2024-12-16T09:09:35.453Z"
   },
   {
    "duration": 8,
    "start_time": "2024-12-16T09:09:44.259Z"
   },
   {
    "duration": 9,
    "start_time": "2024-12-16T09:09:46.960Z"
   },
   {
    "duration": 3,
    "start_time": "2024-12-16T09:09:51.042Z"
   },
   {
    "duration": 70,
    "start_time": "2024-12-16T09:09:51.046Z"
   },
   {
    "duration": 7,
    "start_time": "2024-12-16T09:09:51.118Z"
   },
   {
    "duration": 33,
    "start_time": "2024-12-16T09:09:51.126Z"
   },
   {
    "duration": 36,
    "start_time": "2024-12-16T09:09:51.160Z"
   },
   {
    "duration": 77,
    "start_time": "2024-12-16T09:09:51.197Z"
   },
   {
    "duration": 3,
    "start_time": "2024-12-16T09:10:02.060Z"
   },
   {
    "duration": 75,
    "start_time": "2024-12-16T09:10:02.064Z"
   },
   {
    "duration": 7,
    "start_time": "2024-12-16T09:10:02.140Z"
   },
   {
    "duration": 50,
    "start_time": "2024-12-16T09:10:02.149Z"
   },
   {
    "duration": 54,
    "start_time": "2024-12-16T09:10:02.201Z"
   },
   {
    "duration": 84,
    "start_time": "2024-12-16T09:10:02.256Z"
   },
   {
    "duration": 3,
    "start_time": "2024-12-16T09:10:25.038Z"
   },
   {
    "duration": 47,
    "start_time": "2024-12-16T09:10:25.043Z"
   },
   {
    "duration": 7,
    "start_time": "2024-12-16T09:10:25.091Z"
   },
   {
    "duration": 10,
    "start_time": "2024-12-16T09:10:25.100Z"
   },
   {
    "duration": 22,
    "start_time": "2024-12-16T09:10:25.112Z"
   },
   {
    "duration": 46,
    "start_time": "2024-12-16T09:10:25.135Z"
   },
   {
    "duration": 1062,
    "start_time": "2024-12-16T09:10:44.014Z"
   },
   {
    "duration": 36,
    "start_time": "2024-12-16T09:10:45.078Z"
   },
   {
    "duration": 10,
    "start_time": "2024-12-16T09:10:45.116Z"
   },
   {
    "duration": 29,
    "start_time": "2024-12-16T09:10:45.127Z"
   },
   {
    "duration": 18,
    "start_time": "2024-12-16T09:10:45.158Z"
   },
   {
    "duration": 59,
    "start_time": "2024-12-16T09:10:45.178Z"
   },
   {
    "duration": 94,
    "start_time": "2024-12-16T09:11:30.799Z"
   },
   {
    "duration": 3,
    "start_time": "2024-12-16T09:11:42.053Z"
   },
   {
    "duration": 9,
    "start_time": "2024-12-16T09:12:19.634Z"
   },
   {
    "duration": 11,
    "start_time": "2024-12-16T09:12:29.585Z"
   },
   {
    "duration": 12,
    "start_time": "2024-12-16T09:12:34.653Z"
   },
   {
    "duration": 143,
    "start_time": "2024-12-16T09:15:18.434Z"
   },
   {
    "duration": 64,
    "start_time": "2024-12-16T09:15:26.821Z"
   },
   {
    "duration": 95,
    "start_time": "2024-12-16T09:15:37.365Z"
   },
   {
    "duration": 3,
    "start_time": "2024-12-16T09:19:26.555Z"
   },
   {
    "duration": 3,
    "start_time": "2024-12-16T09:19:45.529Z"
   },
   {
    "duration": 11,
    "start_time": "2024-12-16T09:20:15.486Z"
   },
   {
    "duration": 7,
    "start_time": "2024-12-16T09:22:56.564Z"
   },
   {
    "duration": 3,
    "start_time": "2024-12-16T09:23:54.455Z"
   },
   {
    "duration": 37,
    "start_time": "2024-12-16T09:23:54.460Z"
   },
   {
    "duration": 2,
    "start_time": "2024-12-16T09:23:54.499Z"
   },
   {
    "duration": 10,
    "start_time": "2024-12-16T09:23:54.503Z"
   },
   {
    "duration": 17,
    "start_time": "2024-12-16T09:23:54.515Z"
   },
   {
    "duration": 1318,
    "start_time": "2024-12-16T09:23:54.534Z"
   },
   {
    "duration": 0,
    "start_time": "2024-12-16T09:23:55.854Z"
   },
   {
    "duration": 0,
    "start_time": "2024-12-16T09:23:55.855Z"
   },
   {
    "duration": 0,
    "start_time": "2024-12-16T09:23:55.856Z"
   },
   {
    "duration": 0,
    "start_time": "2024-12-16T09:23:55.858Z"
   },
   {
    "duration": 0,
    "start_time": "2024-12-16T09:23:55.859Z"
   },
   {
    "duration": 7,
    "start_time": "2024-12-16T09:24:06.390Z"
   },
   {
    "duration": 11,
    "start_time": "2024-12-16T09:24:23.106Z"
   },
   {
    "duration": 16,
    "start_time": "2024-12-16T09:24:48.065Z"
   },
   {
    "duration": 64,
    "start_time": "2024-12-16T09:25:45.180Z"
   },
   {
    "duration": 6,
    "start_time": "2024-12-16T09:27:12.664Z"
   },
   {
    "duration": 20,
    "start_time": "2024-12-16T09:27:22.063Z"
   },
   {
    "duration": 39,
    "start_time": "2024-12-16T09:28:25.961Z"
   },
   {
    "duration": 4,
    "start_time": "2024-12-16T09:30:39.639Z"
   },
   {
    "duration": 10,
    "start_time": "2024-12-16T09:30:59.856Z"
   },
   {
    "duration": 17,
    "start_time": "2024-12-16T09:32:03.430Z"
   },
   {
    "duration": 5,
    "start_time": "2024-12-16T09:32:09.923Z"
   },
   {
    "duration": 6,
    "start_time": "2024-12-16T09:32:17.270Z"
   },
   {
    "duration": 85,
    "start_time": "2024-12-16T09:33:02.773Z"
   },
   {
    "duration": 5,
    "start_time": "2024-12-16T09:33:28.603Z"
   },
   {
    "duration": 4,
    "start_time": "2024-12-16T09:33:35.396Z"
   },
   {
    "duration": 4,
    "start_time": "2024-12-16T09:33:46.311Z"
   },
   {
    "duration": 246,
    "start_time": "2024-12-16T09:42:30.463Z"
   },
   {
    "duration": 279,
    "start_time": "2024-12-16T09:42:42.369Z"
   },
   {
    "duration": 257,
    "start_time": "2024-12-16T09:42:55.112Z"
   },
   {
    "duration": 254,
    "start_time": "2024-12-16T09:42:59.616Z"
   },
   {
    "duration": 256,
    "start_time": "2024-12-16T09:44:26.374Z"
   },
   {
    "duration": 251,
    "start_time": "2024-12-16T09:44:34.408Z"
   },
   {
    "duration": 408,
    "start_time": "2024-12-16T09:45:05.069Z"
   },
   {
    "duration": 368,
    "start_time": "2024-12-16T09:45:54.684Z"
   },
   {
    "duration": 403,
    "start_time": "2024-12-16T09:46:04.838Z"
   },
   {
    "duration": 87,
    "start_time": "2024-12-16T09:46:10.204Z"
   },
   {
    "duration": 446,
    "start_time": "2024-12-16T09:46:16.113Z"
   },
   {
    "duration": 359,
    "start_time": "2024-12-16T09:47:09.306Z"
   },
   {
    "duration": 386,
    "start_time": "2024-12-16T09:47:49.285Z"
   },
   {
    "duration": 421,
    "start_time": "2024-12-16T09:47:58.452Z"
   },
   {
    "duration": 424,
    "start_time": "2024-12-16T09:48:24.038Z"
   },
   {
    "duration": 459,
    "start_time": "2024-12-16T09:48:29.834Z"
   },
   {
    "duration": 399,
    "start_time": "2024-12-16T09:48:40.210Z"
   },
   {
    "duration": 370,
    "start_time": "2024-12-16T09:48:44.894Z"
   },
   {
    "duration": 398,
    "start_time": "2024-12-16T09:48:53.470Z"
   },
   {
    "duration": 386,
    "start_time": "2024-12-16T09:48:58.820Z"
   },
   {
    "duration": 376,
    "start_time": "2024-12-16T09:49:03.871Z"
   },
   {
    "duration": 332,
    "start_time": "2024-12-16T09:49:21.463Z"
   },
   {
    "duration": 308,
    "start_time": "2024-12-16T09:50:06.038Z"
   },
   {
    "duration": 263,
    "start_time": "2024-12-16T09:50:23.530Z"
   },
   {
    "duration": 264,
    "start_time": "2024-12-16T09:50:29.386Z"
   },
   {
    "duration": 252,
    "start_time": "2024-12-16T09:50:36.592Z"
   },
   {
    "duration": 261,
    "start_time": "2024-12-16T09:52:01.841Z"
   },
   {
    "duration": 261,
    "start_time": "2024-12-16T09:52:13.980Z"
   },
   {
    "duration": 240,
    "start_time": "2024-12-16T09:53:14.612Z"
   },
   {
    "duration": 261,
    "start_time": "2024-12-16T09:54:00.816Z"
   },
   {
    "duration": 245,
    "start_time": "2024-12-16T09:54:10.766Z"
   },
   {
    "duration": 247,
    "start_time": "2024-12-16T09:54:21.455Z"
   },
   {
    "duration": 330,
    "start_time": "2024-12-16T09:54:58.375Z"
   },
   {
    "duration": 254,
    "start_time": "2024-12-16T09:55:39.653Z"
   },
   {
    "duration": 270,
    "start_time": "2024-12-16T09:55:58.095Z"
   },
   {
    "duration": 257,
    "start_time": "2024-12-16T09:56:04.773Z"
   },
   {
    "duration": 259,
    "start_time": "2024-12-16T09:56:18.795Z"
   },
   {
    "duration": 243,
    "start_time": "2024-12-16T09:56:35.025Z"
   },
   {
    "duration": 26,
    "start_time": "2024-12-16T11:14:46.495Z"
   },
   {
    "duration": 24,
    "start_time": "2024-12-16T11:15:50.463Z"
   },
   {
    "duration": 156,
    "start_time": "2024-12-16T11:16:11.076Z"
   },
   {
    "duration": 165,
    "start_time": "2024-12-16T11:16:19.962Z"
   },
   {
    "duration": 166,
    "start_time": "2024-12-16T11:16:35.377Z"
   },
   {
    "duration": 104,
    "start_time": "2024-12-16T11:18:39.867Z"
   },
   {
    "duration": 126,
    "start_time": "2024-12-16T11:20:03.373Z"
   },
   {
    "duration": 125,
    "start_time": "2024-12-16T11:20:19.479Z"
   },
   {
    "duration": 7,
    "start_time": "2024-12-16T11:25:08.800Z"
   },
   {
    "duration": 13,
    "start_time": "2024-12-16T11:25:21.042Z"
   },
   {
    "duration": 12,
    "start_time": "2024-12-16T11:34:18.126Z"
   },
   {
    "duration": 234,
    "start_time": "2024-12-16T11:34:47.476Z"
   },
   {
    "duration": 13,
    "start_time": "2024-12-16T11:35:28.581Z"
   },
   {
    "duration": 182,
    "start_time": "2024-12-16T11:35:38.552Z"
   },
   {
    "duration": 194,
    "start_time": "2024-12-16T11:35:53.647Z"
   },
   {
    "duration": 121,
    "start_time": "2024-12-16T11:36:30.787Z"
   },
   {
    "duration": 10,
    "start_time": "2024-12-16T11:38:23.313Z"
   },
   {
    "duration": 138,
    "start_time": "2024-12-16T11:38:55.725Z"
   },
   {
    "duration": 35,
    "start_time": "2024-12-16T11:38:55.865Z"
   },
   {
    "duration": 3,
    "start_time": "2024-12-16T11:38:55.901Z"
   },
   {
    "duration": 27,
    "start_time": "2024-12-16T11:38:55.905Z"
   },
   {
    "duration": 7,
    "start_time": "2024-12-16T11:38:55.934Z"
   },
   {
    "duration": 11,
    "start_time": "2024-12-16T11:38:55.943Z"
   },
   {
    "duration": 11,
    "start_time": "2024-12-16T11:38:55.955Z"
   },
   {
    "duration": 262,
    "start_time": "2024-12-16T11:38:55.967Z"
   },
   {
    "duration": 12,
    "start_time": "2024-12-16T11:38:56.231Z"
   },
   {
    "duration": 261,
    "start_time": "2024-12-16T11:38:56.245Z"
   },
   {
    "duration": 53,
    "start_time": "2024-12-16T11:38:56.508Z"
   },
   {
    "duration": 5,
    "start_time": "2024-12-16T11:38:56.562Z"
   },
   {
    "duration": 73,
    "start_time": "2024-12-16T11:38:56.569Z"
   },
   {
    "duration": 5,
    "start_time": "2024-12-16T11:38:56.646Z"
   },
   {
    "duration": 37,
    "start_time": "2024-12-16T11:38:56.652Z"
   },
   {
    "duration": 23,
    "start_time": "2024-12-16T11:38:56.690Z"
   },
   {
    "duration": 161,
    "start_time": "2024-12-16T11:38:56.715Z"
   },
   {
    "duration": 118,
    "start_time": "2024-12-16T11:38:56.877Z"
   },
   {
    "duration": 11,
    "start_time": "2024-12-16T11:38:56.997Z"
   },
   {
    "duration": 213,
    "start_time": "2024-12-16T11:38:57.009Z"
   },
   {
    "duration": 494,
    "start_time": "2024-12-16T11:38:57.224Z"
   },
   {
    "duration": 461,
    "start_time": "2024-12-16T11:40:34.083Z"
   },
   {
    "duration": 245,
    "start_time": "2024-12-16T11:56:44.237Z"
   },
   {
    "duration": 498,
    "start_time": "2024-12-16T11:56:55.105Z"
   },
   {
    "duration": 6,
    "start_time": "2024-12-16T12:08:30.096Z"
   },
   {
    "duration": 12,
    "start_time": "2024-12-16T12:10:22.323Z"
   },
   {
    "duration": 12,
    "start_time": "2024-12-16T12:10:33.358Z"
   },
   {
    "duration": 95,
    "start_time": "2024-12-16T12:12:34.078Z"
   },
   {
    "duration": 121,
    "start_time": "2024-12-16T12:13:00.037Z"
   },
   {
    "duration": 12,
    "start_time": "2024-12-16T12:13:13.277Z"
   },
   {
    "duration": 373,
    "start_time": "2024-12-16T12:14:54.558Z"
   },
   {
    "duration": 3,
    "start_time": "2024-12-16T12:17:04.069Z"
   },
   {
    "duration": 70,
    "start_time": "2024-12-16T12:17:04.074Z"
   },
   {
    "duration": 3,
    "start_time": "2024-12-16T12:17:04.146Z"
   },
   {
    "duration": 23,
    "start_time": "2024-12-16T12:17:04.151Z"
   },
   {
    "duration": 26,
    "start_time": "2024-12-16T12:17:04.176Z"
   },
   {
    "duration": 37,
    "start_time": "2024-12-16T12:17:04.203Z"
   },
   {
    "duration": 43,
    "start_time": "2024-12-16T12:17:04.242Z"
   },
   {
    "duration": 347,
    "start_time": "2024-12-16T12:17:04.287Z"
   },
   {
    "duration": 12,
    "start_time": "2024-12-16T12:17:04.636Z"
   },
   {
    "duration": 276,
    "start_time": "2024-12-16T12:17:04.650Z"
   },
   {
    "duration": 53,
    "start_time": "2024-12-16T12:17:04.927Z"
   },
   {
    "duration": 6,
    "start_time": "2024-12-16T12:17:04.981Z"
   },
   {
    "duration": 46,
    "start_time": "2024-12-16T12:17:04.989Z"
   },
   {
    "duration": 4,
    "start_time": "2024-12-16T12:17:05.037Z"
   },
   {
    "duration": 33,
    "start_time": "2024-12-16T12:17:05.042Z"
   },
   {
    "duration": 13,
    "start_time": "2024-12-16T12:17:05.077Z"
   },
   {
    "duration": 241,
    "start_time": "2024-12-16T12:17:05.092Z"
   },
   {
    "duration": 137,
    "start_time": "2024-12-16T12:17:05.335Z"
   },
   {
    "duration": 12,
    "start_time": "2024-12-16T12:17:05.474Z"
   },
   {
    "duration": 490,
    "start_time": "2024-12-16T12:17:05.487Z"
   },
   {
    "duration": 459,
    "start_time": "2024-12-16T12:17:05.979Z"
   },
   {
    "duration": 395,
    "start_time": "2024-12-16T12:17:06.439Z"
   },
   {
    "duration": 2131,
    "start_time": "2024-12-16T12:17:23.890Z"
   },
   {
    "duration": 6,
    "start_time": "2024-12-16T12:22:46.995Z"
   },
   {
    "duration": 12,
    "start_time": "2024-12-16T12:22:57.792Z"
   },
   {
    "duration": 282,
    "start_time": "2024-12-16T12:25:21.822Z"
   },
   {
    "duration": 261,
    "start_time": "2024-12-16T12:28:04.197Z"
   },
   {
    "duration": 15,
    "start_time": "2024-12-16T12:28:52.367Z"
   },
   {
    "duration": 14,
    "start_time": "2024-12-16T12:30:20.723Z"
   },
   {
    "duration": 7,
    "start_time": "2024-12-16T12:30:38.754Z"
   },
   {
    "duration": 245,
    "start_time": "2024-12-16T12:30:51.663Z"
   },
   {
    "duration": 366,
    "start_time": "2024-12-16T12:33:51.111Z"
   },
   {
    "duration": 90,
    "start_time": "2024-12-16T12:34:14.550Z"
   },
   {
    "duration": 81,
    "start_time": "2024-12-16T12:34:35.027Z"
   },
   {
    "duration": 254,
    "start_time": "2024-12-16T12:34:43.495Z"
   },
   {
    "duration": 1637,
    "start_time": "2024-12-16T12:36:46.168Z"
   },
   {
    "duration": 675,
    "start_time": "2024-12-16T12:37:04.306Z"
   },
   {
    "duration": 370,
    "start_time": "2024-12-16T12:37:25.354Z"
   },
   {
    "duration": 376,
    "start_time": "2024-12-16T12:37:51.123Z"
   },
   {
    "duration": 499,
    "start_time": "2024-12-16T12:38:49.011Z"
   },
   {
    "duration": 425,
    "start_time": "2024-12-16T12:39:10.531Z"
   },
   {
    "duration": 436,
    "start_time": "2024-12-16T12:39:20.735Z"
   },
   {
    "duration": 442,
    "start_time": "2024-12-16T12:39:28.511Z"
   },
   {
    "duration": 395,
    "start_time": "2024-12-16T12:39:35.648Z"
   },
   {
    "duration": 12,
    "start_time": "2024-12-16T12:40:07.635Z"
   },
   {
    "duration": 101,
    "start_time": "2024-12-16T12:40:55.212Z"
   },
   {
    "duration": 467,
    "start_time": "2024-12-16T12:41:08.403Z"
   },
   {
    "duration": 385,
    "start_time": "2024-12-16T12:41:31.084Z"
   },
   {
    "duration": 423,
    "start_time": "2024-12-16T12:42:18.323Z"
   },
   {
    "duration": 418,
    "start_time": "2024-12-16T12:42:26.916Z"
   },
   {
    "duration": 4,
    "start_time": "2024-12-16T12:52:59.056Z"
   },
   {
    "duration": 6,
    "start_time": "2024-12-16T12:54:34.410Z"
   },
   {
    "duration": 563,
    "start_time": "2024-12-16T12:57:13.772Z"
   },
   {
    "duration": 439,
    "start_time": "2024-12-16T12:57:28.024Z"
   },
   {
    "duration": 501,
    "start_time": "2024-12-16T12:57:46.656Z"
   },
   {
    "duration": 631,
    "start_time": "2024-12-16T12:58:20.223Z"
   },
   {
    "duration": 520,
    "start_time": "2024-12-16T12:58:34.825Z"
   },
   {
    "duration": 3,
    "start_time": "2024-12-16T12:59:49.906Z"
   },
   {
    "duration": 63,
    "start_time": "2024-12-16T12:59:49.911Z"
   },
   {
    "duration": 2,
    "start_time": "2024-12-16T12:59:49.976Z"
   },
   {
    "duration": 11,
    "start_time": "2024-12-16T12:59:49.980Z"
   },
   {
    "duration": 17,
    "start_time": "2024-12-16T12:59:49.992Z"
   },
   {
    "duration": 36,
    "start_time": "2024-12-16T12:59:50.011Z"
   },
   {
    "duration": 30,
    "start_time": "2024-12-16T12:59:50.048Z"
   },
   {
    "duration": 310,
    "start_time": "2024-12-16T12:59:50.079Z"
   },
   {
    "duration": 12,
    "start_time": "2024-12-16T12:59:50.391Z"
   },
   {
    "duration": 287,
    "start_time": "2024-12-16T12:59:50.405Z"
   },
   {
    "duration": 52,
    "start_time": "2024-12-16T12:59:50.694Z"
   },
   {
    "duration": 5,
    "start_time": "2024-12-16T12:59:50.748Z"
   },
   {
    "duration": 30,
    "start_time": "2024-12-16T12:59:50.754Z"
   },
   {
    "duration": 4,
    "start_time": "2024-12-16T12:59:50.786Z"
   },
   {
    "duration": 12,
    "start_time": "2024-12-16T12:59:50.791Z"
   },
   {
    "duration": 39,
    "start_time": "2024-12-16T12:59:50.805Z"
   },
   {
    "duration": 177,
    "start_time": "2024-12-16T12:59:50.845Z"
   },
   {
    "duration": 129,
    "start_time": "2024-12-16T12:59:51.023Z"
   },
   {
    "duration": 11,
    "start_time": "2024-12-16T12:59:51.154Z"
   },
   {
    "duration": 457,
    "start_time": "2024-12-16T12:59:51.168Z"
   },
   {
    "duration": 481,
    "start_time": "2024-12-16T12:59:51.627Z"
   },
   {
    "duration": 19,
    "start_time": "2024-12-16T12:59:52.110Z"
   },
   {
    "duration": 407,
    "start_time": "2024-12-16T12:59:52.130Z"
   },
   {
    "duration": 5,
    "start_time": "2024-12-16T12:59:52.540Z"
   },
   {
    "duration": 505,
    "start_time": "2024-12-16T12:59:52.546Z"
   },
   {
    "duration": 359,
    "start_time": "2024-12-16T13:06:56.957Z"
   },
   {
    "duration": 8,
    "start_time": "2024-12-16T13:08:06.339Z"
   },
   {
    "duration": 8,
    "start_time": "2024-12-16T13:08:33.710Z"
   },
   {
    "duration": 393,
    "start_time": "2024-12-16T13:09:17.145Z"
   },
   {
    "duration": 106,
    "start_time": "2024-12-16T13:10:54.594Z"
   },
   {
    "duration": 4,
    "start_time": "2024-12-16T13:10:59.735Z"
   },
   {
    "duration": 83,
    "start_time": "2024-12-16T13:11:17.061Z"
   },
   {
    "duration": 139,
    "start_time": "2024-12-16T13:11:50.008Z"
   },
   {
    "duration": 413,
    "start_time": "2024-12-16T13:12:30.542Z"
   },
   {
    "duration": 492,
    "start_time": "2024-12-16T13:12:39.657Z"
   },
   {
    "duration": 382,
    "start_time": "2024-12-16T13:12:45.793Z"
   },
   {
    "duration": 3,
    "start_time": "2024-12-16T13:14:07.542Z"
   },
   {
    "duration": 46,
    "start_time": "2024-12-16T13:14:07.547Z"
   },
   {
    "duration": 3,
    "start_time": "2024-12-16T13:14:07.595Z"
   },
   {
    "duration": 18,
    "start_time": "2024-12-16T13:14:07.599Z"
   },
   {
    "duration": 12,
    "start_time": "2024-12-16T13:14:07.619Z"
   },
   {
    "duration": 26,
    "start_time": "2024-12-16T13:14:07.632Z"
   },
   {
    "duration": 23,
    "start_time": "2024-12-16T13:14:07.659Z"
   },
   {
    "duration": 301,
    "start_time": "2024-12-16T13:14:07.684Z"
   },
   {
    "duration": 13,
    "start_time": "2024-12-16T13:14:07.986Z"
   },
   {
    "duration": 324,
    "start_time": "2024-12-16T13:14:08.000Z"
   },
   {
    "duration": 53,
    "start_time": "2024-12-16T13:14:08.326Z"
   },
   {
    "duration": 5,
    "start_time": "2024-12-16T13:14:08.381Z"
   },
   {
    "duration": 45,
    "start_time": "2024-12-16T13:14:08.388Z"
   },
   {
    "duration": 4,
    "start_time": "2024-12-16T13:14:08.436Z"
   },
   {
    "duration": 14,
    "start_time": "2024-12-16T13:14:08.442Z"
   },
   {
    "duration": 24,
    "start_time": "2024-12-16T13:14:08.458Z"
   },
   {
    "duration": 160,
    "start_time": "2024-12-16T13:14:08.484Z"
   },
   {
    "duration": 125,
    "start_time": "2024-12-16T13:14:08.646Z"
   },
   {
    "duration": 13,
    "start_time": "2024-12-16T13:14:08.773Z"
   },
   {
    "duration": 477,
    "start_time": "2024-12-16T13:14:08.788Z"
   },
   {
    "duration": 461,
    "start_time": "2024-12-16T13:14:09.267Z"
   },
   {
    "duration": 11,
    "start_time": "2024-12-16T13:14:09.730Z"
   },
   {
    "duration": 388,
    "start_time": "2024-12-16T13:14:09.742Z"
   },
   {
    "duration": 8,
    "start_time": "2024-12-16T13:14:10.132Z"
   },
   {
    "duration": 499,
    "start_time": "2024-12-16T13:14:10.142Z"
   },
   {
    "duration": 7,
    "start_time": "2024-12-16T13:14:10.643Z"
   },
   {
    "duration": 367,
    "start_time": "2024-12-16T13:14:10.651Z"
   },
   {
    "duration": 343,
    "start_time": "2024-12-16T13:21:35.964Z"
   },
   {
    "duration": 9,
    "start_time": "2024-12-16T13:36:56.362Z"
   },
   {
    "duration": 12,
    "start_time": "2024-12-16T13:37:06.034Z"
   },
   {
    "duration": 11,
    "start_time": "2024-12-16T13:37:19.811Z"
   },
   {
    "duration": 1409,
    "start_time": "2024-12-16T13:38:43.318Z"
   },
   {
    "duration": 11,
    "start_time": "2024-12-16T13:39:07.973Z"
   },
   {
    "duration": 10,
    "start_time": "2024-12-16T13:39:37.974Z"
   },
   {
    "duration": 128,
    "start_time": "2024-12-16T13:42:58.516Z"
   },
   {
    "duration": 142,
    "start_time": "2024-12-16T13:44:30.709Z"
   },
   {
    "duration": 263,
    "start_time": "2024-12-16T13:44:38.203Z"
   },
   {
    "duration": 277,
    "start_time": "2024-12-16T13:45:05.856Z"
   },
   {
    "duration": 164,
    "start_time": "2024-12-16T13:45:14.906Z"
   },
   {
    "duration": 151,
    "start_time": "2024-12-16T13:45:33.059Z"
   },
   {
    "duration": 138,
    "start_time": "2024-12-16T13:45:55.709Z"
   },
   {
    "duration": 141,
    "start_time": "2024-12-16T13:46:01.081Z"
   },
   {
    "duration": 333,
    "start_time": "2024-12-16T13:51:13.039Z"
   },
   {
    "duration": 326,
    "start_time": "2024-12-16T13:51:18.865Z"
   },
   {
    "duration": 297,
    "start_time": "2024-12-16T13:52:24.939Z"
   },
   {
    "duration": 298,
    "start_time": "2024-12-16T13:52:34.837Z"
   },
   {
    "duration": 310,
    "start_time": "2024-12-16T13:53:05.938Z"
   },
   {
    "duration": 325,
    "start_time": "2024-12-16T13:53:41.554Z"
   },
   {
    "duration": 332,
    "start_time": "2024-12-16T13:54:03.153Z"
   },
   {
    "duration": 297,
    "start_time": "2024-12-16T13:54:19.308Z"
   },
   {
    "duration": 313,
    "start_time": "2024-12-16T13:54:28.484Z"
   },
   {
    "duration": 107,
    "start_time": "2024-12-16T14:06:20.681Z"
   },
   {
    "duration": 6,
    "start_time": "2024-12-16T14:06:42.399Z"
   },
   {
    "duration": 10,
    "start_time": "2024-12-16T14:07:17.396Z"
   },
   {
    "duration": 6,
    "start_time": "2024-12-16T14:07:56.517Z"
   },
   {
    "duration": 1506,
    "start_time": "2024-12-16T14:12:22.241Z"
   },
   {
    "duration": 1426,
    "start_time": "2024-12-16T14:12:30.204Z"
   },
   {
    "duration": 1548,
    "start_time": "2024-12-16T14:12:51.665Z"
   },
   {
    "duration": 161,
    "start_time": "2024-12-16T14:14:09.770Z"
   },
   {
    "duration": 510,
    "start_time": "2024-12-16T14:15:19.272Z"
   },
   {
    "duration": 443,
    "start_time": "2024-12-16T14:15:29.919Z"
   },
   {
    "duration": 267,
    "start_time": "2024-12-16T14:15:45.179Z"
   },
   {
    "duration": 161,
    "start_time": "2024-12-16T14:15:49.010Z"
   },
   {
    "duration": 176,
    "start_time": "2024-12-16T14:16:26.321Z"
   },
   {
    "duration": 176,
    "start_time": "2024-12-16T14:16:57.268Z"
   },
   {
    "duration": 292,
    "start_time": "2024-12-16T14:17:19.379Z"
   },
   {
    "duration": 264,
    "start_time": "2024-12-16T14:18:22.531Z"
   },
   {
    "duration": 3,
    "start_time": "2024-12-16T14:18:51.525Z"
   },
   {
    "duration": 34,
    "start_time": "2024-12-16T14:18:51.530Z"
   },
   {
    "duration": 2,
    "start_time": "2024-12-16T14:18:51.566Z"
   },
   {
    "duration": 22,
    "start_time": "2024-12-16T14:18:51.570Z"
   },
   {
    "duration": 6,
    "start_time": "2024-12-16T14:18:51.594Z"
   },
   {
    "duration": 23,
    "start_time": "2024-12-16T14:18:51.602Z"
   },
   {
    "duration": 70,
    "start_time": "2024-12-16T14:18:51.626Z"
   },
   {
    "duration": 292,
    "start_time": "2024-12-16T14:18:51.697Z"
   },
   {
    "duration": 11,
    "start_time": "2024-12-16T14:18:51.991Z"
   },
   {
    "duration": 283,
    "start_time": "2024-12-16T14:18:52.004Z"
   },
   {
    "duration": 54,
    "start_time": "2024-12-16T14:18:52.288Z"
   },
   {
    "duration": 5,
    "start_time": "2024-12-16T14:18:52.343Z"
   },
   {
    "duration": 63,
    "start_time": "2024-12-16T14:18:52.350Z"
   },
   {
    "duration": 5,
    "start_time": "2024-12-16T14:18:52.415Z"
   },
   {
    "duration": 29,
    "start_time": "2024-12-16T14:18:52.422Z"
   },
   {
    "duration": 21,
    "start_time": "2024-12-16T14:18:52.452Z"
   },
   {
    "duration": 172,
    "start_time": "2024-12-16T14:18:52.475Z"
   },
   {
    "duration": 120,
    "start_time": "2024-12-16T14:18:52.649Z"
   },
   {
    "duration": 12,
    "start_time": "2024-12-16T14:18:52.771Z"
   },
   {
    "duration": 453,
    "start_time": "2024-12-16T14:18:52.784Z"
   },
   {
    "duration": 466,
    "start_time": "2024-12-16T14:18:53.239Z"
   },
   {
    "duration": 16,
    "start_time": "2024-12-16T14:18:53.706Z"
   },
   {
    "duration": 379,
    "start_time": "2024-12-16T14:18:53.724Z"
   },
   {
    "duration": 6,
    "start_time": "2024-12-16T14:18:54.104Z"
   },
   {
    "duration": 466,
    "start_time": "2024-12-16T14:18:54.111Z"
   },
   {
    "duration": 7,
    "start_time": "2024-12-16T14:18:54.579Z"
   },
   {
    "duration": 388,
    "start_time": "2024-12-16T14:18:54.587Z"
   },
   {
    "duration": 10,
    "start_time": "2024-12-16T14:18:54.979Z"
   },
   {
    "duration": 194,
    "start_time": "2024-12-16T14:18:54.990Z"
   },
   {
    "duration": 441,
    "start_time": "2024-12-16T14:18:55.185Z"
   },
   {
    "duration": 4,
    "start_time": "2024-12-16T14:18:55.628Z"
   },
   {
    "duration": 270,
    "start_time": "2024-12-16T14:18:55.634Z"
   },
   {
    "duration": 187,
    "start_time": "2024-12-16T14:18:55.906Z"
   },
   {
    "duration": 245,
    "start_time": "2024-12-16T14:20:40.586Z"
   },
   {
    "duration": 7,
    "start_time": "2024-12-16T14:22:20.376Z"
   },
   {
    "duration": 6,
    "start_time": "2024-12-16T14:25:47.848Z"
   },
   {
    "duration": 8,
    "start_time": "2024-12-16T14:26:08.009Z"
   },
   {
    "duration": 257,
    "start_time": "2024-12-16T14:27:23.825Z"
   },
   {
    "duration": 175,
    "start_time": "2024-12-16T14:27:27.567Z"
   },
   {
    "duration": 1255,
    "start_time": "2024-12-17T07:20:10.712Z"
   },
   {
    "duration": 93,
    "start_time": "2024-12-17T07:20:11.969Z"
   },
   {
    "duration": 3,
    "start_time": "2024-12-17T07:20:12.063Z"
   },
   {
    "duration": 20,
    "start_time": "2024-12-17T07:20:12.068Z"
   },
   {
    "duration": 3,
    "start_time": "2024-12-17T07:20:12.090Z"
   },
   {
    "duration": 23,
    "start_time": "2024-12-17T07:20:12.095Z"
   },
   {
    "duration": 14,
    "start_time": "2024-12-17T07:20:12.119Z"
   },
   {
    "duration": 290,
    "start_time": "2024-12-17T07:20:12.134Z"
   },
   {
    "duration": 11,
    "start_time": "2024-12-17T07:20:12.425Z"
   },
   {
    "duration": 276,
    "start_time": "2024-12-17T07:20:12.440Z"
   },
   {
    "duration": 90,
    "start_time": "2024-12-17T07:20:12.718Z"
   },
   {
    "duration": 6,
    "start_time": "2024-12-17T07:20:12.810Z"
   },
   {
    "duration": 69,
    "start_time": "2024-12-17T07:20:12.817Z"
   },
   {
    "duration": 4,
    "start_time": "2024-12-17T07:20:12.888Z"
   },
   {
    "duration": 8,
    "start_time": "2024-12-17T07:20:12.894Z"
   },
   {
    "duration": 8,
    "start_time": "2024-12-17T07:20:12.903Z"
   },
   {
    "duration": 175,
    "start_time": "2024-12-17T07:20:12.912Z"
   },
   {
    "duration": 123,
    "start_time": "2024-12-17T07:20:13.089Z"
   },
   {
    "duration": 12,
    "start_time": "2024-12-17T07:20:13.214Z"
   },
   {
    "duration": 604,
    "start_time": "2024-12-17T07:20:13.228Z"
   },
   {
    "duration": 450,
    "start_time": "2024-12-17T07:20:13.834Z"
   },
   {
    "duration": 11,
    "start_time": "2024-12-17T07:20:14.286Z"
   },
   {
    "duration": 386,
    "start_time": "2024-12-17T07:20:14.298Z"
   },
   {
    "duration": 6,
    "start_time": "2024-12-17T07:20:14.685Z"
   },
   {
    "duration": 507,
    "start_time": "2024-12-17T07:20:14.692Z"
   },
   {
    "duration": 8,
    "start_time": "2024-12-17T07:20:15.200Z"
   },
   {
    "duration": 488,
    "start_time": "2024-12-17T07:20:15.209Z"
   },
   {
    "duration": 9,
    "start_time": "2024-12-17T07:20:15.700Z"
   },
   {
    "duration": 179,
    "start_time": "2024-12-17T07:20:15.710Z"
   },
   {
    "duration": 284,
    "start_time": "2024-12-17T07:20:15.890Z"
   },
   {
    "duration": 13,
    "start_time": "2024-12-17T07:20:16.176Z"
   },
   {
    "duration": 13,
    "start_time": "2024-12-17T07:20:16.190Z"
   },
   {
    "duration": 243,
    "start_time": "2024-12-17T07:20:16.204Z"
   },
   {
    "duration": 183,
    "start_time": "2024-12-17T07:20:16.449Z"
   },
   {
    "duration": 161,
    "start_time": "2024-12-17T07:24:12.033Z"
   },
   {
    "duration": 173,
    "start_time": "2024-12-17T07:24:28.095Z"
   },
   {
    "duration": 898,
    "start_time": "2024-12-17T07:29:19.770Z"
   },
   {
    "duration": 4,
    "start_time": "2024-12-17T07:29:39.654Z"
   },
   {
    "duration": 160,
    "start_time": "2024-12-17T08:04:49.385Z"
   },
   {
    "duration": 1233,
    "start_time": "2024-12-17T08:05:26.133Z"
   },
   {
    "duration": 860,
    "start_time": "2024-12-17T08:05:40.436Z"
   },
   {
    "duration": 196,
    "start_time": "2024-12-17T08:23:19.170Z"
   },
   {
    "duration": 196,
    "start_time": "2024-12-17T08:27:49.966Z"
   },
   {
    "duration": 79,
    "start_time": "2024-12-17T08:35:43.320Z"
   },
   {
    "duration": 101,
    "start_time": "2024-12-17T08:36:04.342Z"
   },
   {
    "duration": 43,
    "start_time": "2024-12-17T08:36:12.505Z"
   },
   {
    "duration": 26,
    "start_time": "2024-12-17T08:36:18.734Z"
   },
   {
    "duration": 109,
    "start_time": "2024-12-17T08:42:14.363Z"
   },
   {
    "duration": 99,
    "start_time": "2024-12-17T08:42:17.509Z"
   },
   {
    "duration": 4,
    "start_time": "2024-12-17T08:44:13.174Z"
   },
   {
    "duration": 38,
    "start_time": "2024-12-17T08:44:13.179Z"
   },
   {
    "duration": 2,
    "start_time": "2024-12-17T08:44:13.219Z"
   },
   {
    "duration": 23,
    "start_time": "2024-12-17T08:44:13.223Z"
   },
   {
    "duration": 10,
    "start_time": "2024-12-17T08:44:13.247Z"
   },
   {
    "duration": 13,
    "start_time": "2024-12-17T08:44:13.258Z"
   },
   {
    "duration": 11,
    "start_time": "2024-12-17T08:44:13.272Z"
   },
   {
    "duration": 287,
    "start_time": "2024-12-17T08:44:13.284Z"
   },
   {
    "duration": 21,
    "start_time": "2024-12-17T08:44:13.573Z"
   },
   {
    "duration": 297,
    "start_time": "2024-12-17T08:44:13.596Z"
   },
   {
    "duration": 50,
    "start_time": "2024-12-17T08:44:13.896Z"
   },
   {
    "duration": 5,
    "start_time": "2024-12-17T08:44:13.948Z"
   },
   {
    "duration": 32,
    "start_time": "2024-12-17T08:44:13.955Z"
   },
   {
    "duration": 4,
    "start_time": "2024-12-17T08:44:13.988Z"
   },
   {
    "duration": 12,
    "start_time": "2024-12-17T08:44:13.993Z"
   },
   {
    "duration": 10,
    "start_time": "2024-12-17T08:44:14.006Z"
   },
   {
    "duration": 233,
    "start_time": "2024-12-17T08:44:14.017Z"
   },
   {
    "duration": 121,
    "start_time": "2024-12-17T08:44:14.252Z"
   },
   {
    "duration": 17,
    "start_time": "2024-12-17T08:44:14.375Z"
   },
   {
    "duration": 476,
    "start_time": "2024-12-17T08:44:14.394Z"
   },
   {
    "duration": 455,
    "start_time": "2024-12-17T08:44:14.872Z"
   },
   {
    "duration": 11,
    "start_time": "2024-12-17T08:44:15.328Z"
   },
   {
    "duration": 388,
    "start_time": "2024-12-17T08:44:15.340Z"
   },
   {
    "duration": 5,
    "start_time": "2024-12-17T08:44:15.731Z"
   },
   {
    "duration": 472,
    "start_time": "2024-12-17T08:44:15.737Z"
   },
   {
    "duration": 7,
    "start_time": "2024-12-17T08:44:16.210Z"
   },
   {
    "duration": 436,
    "start_time": "2024-12-17T08:44:16.219Z"
   },
   {
    "duration": 10,
    "start_time": "2024-12-17T08:44:16.658Z"
   },
   {
    "duration": 147,
    "start_time": "2024-12-17T08:44:16.669Z"
   },
   {
    "duration": 311,
    "start_time": "2024-12-17T08:44:16.818Z"
   },
   {
    "duration": 3,
    "start_time": "2024-12-17T08:44:17.131Z"
   },
   {
    "duration": 22,
    "start_time": "2024-12-17T08:44:17.136Z"
   },
   {
    "duration": 249,
    "start_time": "2024-12-17T08:44:17.160Z"
   },
   {
    "duration": 179,
    "start_time": "2024-12-17T08:44:17.411Z"
   },
   {
    "duration": 3,
    "start_time": "2024-12-17T08:44:17.592Z"
   },
   {
    "duration": 94,
    "start_time": "2024-12-17T08:44:17.597Z"
   },
   {
    "duration": 111,
    "start_time": "2024-12-17T08:44:17.692Z"
   },
   {
    "duration": 25,
    "start_time": "2024-12-17T08:44:17.805Z"
   },
   {
    "duration": 202,
    "start_time": "2024-12-17T08:52:22.434Z"
   },
   {
    "duration": 81,
    "start_time": "2024-12-17T08:52:48.159Z"
   },
   {
    "duration": 22,
    "start_time": "2024-12-17T08:58:18.143Z"
   },
   {
    "duration": 79,
    "start_time": "2024-12-17T08:58:37.231Z"
   },
   {
    "duration": 98,
    "start_time": "2024-12-17T08:58:39.557Z"
   },
   {
    "duration": 107,
    "start_time": "2024-12-17T08:58:43.974Z"
   },
   {
    "duration": 29,
    "start_time": "2024-12-17T08:58:51.243Z"
   },
   {
    "duration": 29,
    "start_time": "2024-12-17T08:58:57.756Z"
   },
   {
    "duration": 80,
    "start_time": "2024-12-17T09:08:09.883Z"
   },
   {
    "duration": 127,
    "start_time": "2024-12-17T09:08:27.752Z"
   },
   {
    "duration": 8,
    "start_time": "2024-12-17T09:10:49.633Z"
   },
   {
    "duration": 703,
    "start_time": "2024-12-17T09:11:11.095Z"
   },
   {
    "duration": 9,
    "start_time": "2024-12-17T09:12:09.555Z"
   },
   {
    "duration": 9,
    "start_time": "2024-12-17T09:13:28.797Z"
   },
   {
    "duration": 9,
    "start_time": "2024-12-17T09:15:41.949Z"
   },
   {
    "duration": 3,
    "start_time": "2024-12-17T09:16:38.093Z"
   },
   {
    "duration": 46,
    "start_time": "2024-12-17T09:16:38.099Z"
   },
   {
    "duration": 3,
    "start_time": "2024-12-17T09:16:38.147Z"
   },
   {
    "duration": 20,
    "start_time": "2024-12-17T09:16:38.151Z"
   },
   {
    "duration": 9,
    "start_time": "2024-12-17T09:16:38.172Z"
   },
   {
    "duration": 14,
    "start_time": "2024-12-17T09:16:38.183Z"
   },
   {
    "duration": 16,
    "start_time": "2024-12-17T09:16:38.199Z"
   },
   {
    "duration": 377,
    "start_time": "2024-12-17T09:16:38.216Z"
   },
   {
    "duration": 12,
    "start_time": "2024-12-17T09:16:38.595Z"
   },
   {
    "duration": 286,
    "start_time": "2024-12-17T09:16:38.608Z"
   },
   {
    "duration": 49,
    "start_time": "2024-12-17T09:16:38.895Z"
   },
   {
    "duration": 5,
    "start_time": "2024-12-17T09:16:38.945Z"
   },
   {
    "duration": 37,
    "start_time": "2024-12-17T09:16:38.951Z"
   },
   {
    "duration": 3,
    "start_time": "2024-12-17T09:16:38.990Z"
   },
   {
    "duration": 7,
    "start_time": "2024-12-17T09:16:38.996Z"
   },
   {
    "duration": 5,
    "start_time": "2024-12-17T09:16:39.004Z"
   },
   {
    "duration": 169,
    "start_time": "2024-12-17T09:16:39.010Z"
   },
   {
    "duration": 124,
    "start_time": "2024-12-17T09:16:39.181Z"
   },
   {
    "duration": 10,
    "start_time": "2024-12-17T09:16:39.307Z"
   },
   {
    "duration": 468,
    "start_time": "2024-12-17T09:16:39.319Z"
   },
   {
    "duration": 443,
    "start_time": "2024-12-17T09:16:39.788Z"
   },
   {
    "duration": 11,
    "start_time": "2024-12-17T09:16:40.233Z"
   },
   {
    "duration": 360,
    "start_time": "2024-12-17T09:16:40.245Z"
   },
   {
    "duration": 5,
    "start_time": "2024-12-17T09:16:40.606Z"
   },
   {
    "duration": 459,
    "start_time": "2024-12-17T09:16:40.613Z"
   },
   {
    "duration": 14,
    "start_time": "2024-12-17T09:16:41.073Z"
   },
   {
    "duration": 362,
    "start_time": "2024-12-17T09:16:41.088Z"
   },
   {
    "duration": 9,
    "start_time": "2024-12-17T09:16:41.452Z"
   },
   {
    "duration": 150,
    "start_time": "2024-12-17T09:16:41.462Z"
   },
   {
    "duration": 316,
    "start_time": "2024-12-17T09:16:41.613Z"
   },
   {
    "duration": 4,
    "start_time": "2024-12-17T09:16:41.931Z"
   },
   {
    "duration": 15,
    "start_time": "2024-12-17T09:16:41.937Z"
   },
   {
    "duration": 247,
    "start_time": "2024-12-17T09:16:41.954Z"
   },
   {
    "duration": 253,
    "start_time": "2024-12-17T09:16:42.203Z"
   },
   {
    "duration": 5,
    "start_time": "2024-12-17T09:16:42.457Z"
   },
   {
    "duration": 96,
    "start_time": "2024-12-17T09:16:42.463Z"
   },
   {
    "duration": 104,
    "start_time": "2024-12-17T09:16:42.561Z"
   },
   {
    "duration": 142,
    "start_time": "2024-12-17T09:16:42.666Z"
   },
   {
    "duration": 10,
    "start_time": "2024-12-17T09:16:42.809Z"
   },
   {
    "duration": 26,
    "start_time": "2024-12-17T09:17:13.494Z"
   },
   {
    "duration": 127,
    "start_time": "2024-12-17T09:17:16.484Z"
   },
   {
    "duration": 9,
    "start_time": "2024-12-17T09:17:19.356Z"
   },
   {
    "duration": 10,
    "start_time": "2024-12-17T09:19:05.663Z"
   },
   {
    "duration": 10,
    "start_time": "2024-12-17T09:22:51.904Z"
   },
   {
    "duration": 11,
    "start_time": "2024-12-17T09:24:33.906Z"
   },
   {
    "duration": 9,
    "start_time": "2024-12-17T09:25:12.792Z"
   },
   {
    "duration": 127,
    "start_time": "2024-12-17T09:25:51.493Z"
   },
   {
    "duration": 12,
    "start_time": "2024-12-17T09:25:53.721Z"
   },
   {
    "duration": 9,
    "start_time": "2024-12-17T09:26:00.875Z"
   },
   {
    "duration": 6,
    "start_time": "2024-12-17T09:26:16.549Z"
   },
   {
    "duration": 21,
    "start_time": "2024-12-17T09:28:40.995Z"
   },
   {
    "duration": 11,
    "start_time": "2024-12-17T09:32:21.832Z"
   },
   {
    "duration": 22,
    "start_time": "2024-12-17T09:32:42.667Z"
   },
   {
    "duration": 22,
    "start_time": "2024-12-17T09:33:24.334Z"
   },
   {
    "duration": 21,
    "start_time": "2024-12-17T09:37:20.044Z"
   },
   {
    "duration": 10,
    "start_time": "2024-12-17T09:49:15.541Z"
   },
   {
    "duration": 9,
    "start_time": "2024-12-17T09:51:01.448Z"
   },
   {
    "duration": 11,
    "start_time": "2024-12-17T09:53:05.337Z"
   },
   {
    "duration": 12,
    "start_time": "2024-12-17T09:53:17.285Z"
   },
   {
    "duration": 3,
    "start_time": "2024-12-17T09:55:59.000Z"
   },
   {
    "duration": 36,
    "start_time": "2024-12-17T09:55:59.004Z"
   },
   {
    "duration": 2,
    "start_time": "2024-12-17T09:55:59.041Z"
   },
   {
    "duration": 13,
    "start_time": "2024-12-17T09:55:59.045Z"
   },
   {
    "duration": 5,
    "start_time": "2024-12-17T09:55:59.060Z"
   },
   {
    "duration": 8,
    "start_time": "2024-12-17T09:55:59.066Z"
   },
   {
    "duration": 15,
    "start_time": "2024-12-17T09:55:59.075Z"
   },
   {
    "duration": 290,
    "start_time": "2024-12-17T09:55:59.092Z"
   },
   {
    "duration": 11,
    "start_time": "2024-12-17T09:55:59.387Z"
   },
   {
    "duration": 308,
    "start_time": "2024-12-17T09:55:59.400Z"
   },
   {
    "duration": 49,
    "start_time": "2024-12-17T09:55:59.710Z"
   },
   {
    "duration": 4,
    "start_time": "2024-12-17T09:55:59.760Z"
   },
   {
    "duration": 73,
    "start_time": "2024-12-17T09:55:59.766Z"
   },
   {
    "duration": 3,
    "start_time": "2024-12-17T09:55:59.842Z"
   },
   {
    "duration": 30,
    "start_time": "2024-12-17T09:55:59.846Z"
   },
   {
    "duration": 7,
    "start_time": "2024-12-17T09:55:59.877Z"
   },
   {
    "duration": 150,
    "start_time": "2024-12-17T09:55:59.886Z"
   },
   {
    "duration": 116,
    "start_time": "2024-12-17T09:56:00.038Z"
   },
   {
    "duration": 11,
    "start_time": "2024-12-17T09:56:00.156Z"
   },
   {
    "duration": 499,
    "start_time": "2024-12-17T09:56:00.169Z"
   },
   {
    "duration": 437,
    "start_time": "2024-12-17T09:56:00.669Z"
   },
   {
    "duration": 11,
    "start_time": "2024-12-17T09:56:01.108Z"
   },
   {
    "duration": 344,
    "start_time": "2024-12-17T09:56:01.120Z"
   },
   {
    "duration": 5,
    "start_time": "2024-12-17T09:56:01.466Z"
   },
   {
    "duration": 473,
    "start_time": "2024-12-17T09:56:01.472Z"
   },
   {
    "duration": 7,
    "start_time": "2024-12-17T09:56:01.947Z"
   },
   {
    "duration": 390,
    "start_time": "2024-12-17T09:56:01.955Z"
   },
   {
    "duration": 9,
    "start_time": "2024-12-17T09:56:02.347Z"
   },
   {
    "duration": 178,
    "start_time": "2024-12-17T09:56:02.357Z"
   },
   {
    "duration": 315,
    "start_time": "2024-12-17T09:56:02.536Z"
   },
   {
    "duration": 3,
    "start_time": "2024-12-17T09:56:02.853Z"
   },
   {
    "duration": 139,
    "start_time": "2024-12-17T09:56:02.858Z"
   },
   {
    "duration": 335,
    "start_time": "2024-12-17T09:56:02.998Z"
   },
   {
    "duration": 183,
    "start_time": "2024-12-17T09:56:03.335Z"
   },
   {
    "duration": 4,
    "start_time": "2024-12-17T09:56:03.519Z"
   },
   {
    "duration": 92,
    "start_time": "2024-12-17T09:56:03.525Z"
   },
   {
    "duration": 114,
    "start_time": "2024-12-17T09:56:03.619Z"
   },
   {
    "duration": 25,
    "start_time": "2024-12-17T09:56:03.735Z"
   },
   {
    "duration": 194,
    "start_time": "2024-12-17T09:56:03.762Z"
   },
   {
    "duration": 6,
    "start_time": "2024-12-17T09:56:03.957Z"
   },
   {
    "duration": 36,
    "start_time": "2024-12-17T09:56:03.966Z"
   },
   {
    "duration": 11,
    "start_time": "2024-12-17T09:56:04.004Z"
   },
   {
    "duration": 7,
    "start_time": "2024-12-17T09:57:01.961Z"
   },
   {
    "duration": 7,
    "start_time": "2024-12-17T09:58:07.825Z"
   },
   {
    "duration": 4,
    "start_time": "2024-12-17T10:02:44.088Z"
   },
   {
    "duration": 6,
    "start_time": "2024-12-17T10:02:49.635Z"
   },
   {
    "duration": 6,
    "start_time": "2024-12-17T10:03:04.564Z"
   },
   {
    "duration": 8,
    "start_time": "2024-12-17T10:04:34.215Z"
   },
   {
    "duration": 21,
    "start_time": "2024-12-17T10:07:06.082Z"
   },
   {
    "duration": 8,
    "start_time": "2024-12-17T10:07:25.183Z"
   },
   {
    "duration": 9,
    "start_time": "2024-12-17T10:10:12.082Z"
   },
   {
    "duration": 9,
    "start_time": "2024-12-17T10:34:23.874Z"
   },
   {
    "duration": 4,
    "start_time": "2024-12-17T10:34:35.995Z"
   },
   {
    "duration": 10,
    "start_time": "2024-12-17T10:36:33.441Z"
   },
   {
    "duration": 9,
    "start_time": "2024-12-17T10:36:43.040Z"
   },
   {
    "duration": 48,
    "start_time": "2024-12-17T10:38:03.274Z"
   },
   {
    "duration": 9,
    "start_time": "2024-12-17T10:38:08.855Z"
   },
   {
    "duration": 9,
    "start_time": "2024-12-17T10:38:15.919Z"
   },
   {
    "duration": 10,
    "start_time": "2024-12-17T10:38:35.499Z"
   },
   {
    "duration": 8,
    "start_time": "2024-12-17T10:45:07.732Z"
   },
   {
    "duration": 20,
    "start_time": "2024-12-17T10:47:23.815Z"
   },
   {
    "duration": 20,
    "start_time": "2024-12-17T10:50:10.372Z"
   },
   {
    "duration": 21,
    "start_time": "2024-12-17T10:50:17.218Z"
   },
   {
    "duration": 20,
    "start_time": "2024-12-17T10:51:19.703Z"
   },
   {
    "duration": 26,
    "start_time": "2024-12-17T10:54:29.798Z"
   },
   {
    "duration": 20,
    "start_time": "2024-12-17T11:02:53.191Z"
   },
   {
    "duration": 719,
    "start_time": "2024-12-17T11:09:12.969Z"
   },
   {
    "duration": 922,
    "start_time": "2024-12-17T11:09:24.006Z"
   },
   {
    "duration": 17,
    "start_time": "2024-12-17T11:09:36.942Z"
   },
   {
    "duration": 12,
    "start_time": "2024-12-17T11:09:47.532Z"
   },
   {
    "duration": 13,
    "start_time": "2024-12-17T11:10:45.448Z"
   },
   {
    "duration": 5,
    "start_time": "2024-12-17T11:12:52.029Z"
   },
   {
    "duration": 13,
    "start_time": "2024-12-17T11:12:55.633Z"
   },
   {
    "duration": 12,
    "start_time": "2024-12-17T11:15:05.137Z"
   },
   {
    "duration": 3,
    "start_time": "2024-12-17T11:19:19.819Z"
   },
   {
    "duration": 39,
    "start_time": "2024-12-17T11:19:19.824Z"
   },
   {
    "duration": 2,
    "start_time": "2024-12-17T11:19:19.865Z"
   },
   {
    "duration": 9,
    "start_time": "2024-12-17T11:19:19.869Z"
   },
   {
    "duration": 10,
    "start_time": "2024-12-17T11:19:19.879Z"
   },
   {
    "duration": 8,
    "start_time": "2024-12-17T11:19:19.890Z"
   },
   {
    "duration": 11,
    "start_time": "2024-12-17T11:19:19.899Z"
   },
   {
    "duration": 303,
    "start_time": "2024-12-17T11:19:19.911Z"
   },
   {
    "duration": 12,
    "start_time": "2024-12-17T11:19:20.217Z"
   },
   {
    "duration": 298,
    "start_time": "2024-12-17T11:19:20.230Z"
   },
   {
    "duration": 49,
    "start_time": "2024-12-17T11:19:20.530Z"
   },
   {
    "duration": 4,
    "start_time": "2024-12-17T11:19:20.581Z"
   },
   {
    "duration": 42,
    "start_time": "2024-12-17T11:19:20.587Z"
   },
   {
    "duration": 9,
    "start_time": "2024-12-17T11:19:20.631Z"
   },
   {
    "duration": 25,
    "start_time": "2024-12-17T11:19:20.641Z"
   },
   {
    "duration": 9,
    "start_time": "2024-12-17T11:19:20.667Z"
   },
   {
    "duration": 167,
    "start_time": "2024-12-17T11:19:20.677Z"
   },
   {
    "duration": 114,
    "start_time": "2024-12-17T11:19:20.846Z"
   },
   {
    "duration": 11,
    "start_time": "2024-12-17T11:19:20.961Z"
   },
   {
    "duration": 485,
    "start_time": "2024-12-17T11:19:20.973Z"
   },
   {
    "duration": 440,
    "start_time": "2024-12-17T11:19:21.459Z"
   },
   {
    "duration": 10,
    "start_time": "2024-12-17T11:19:21.900Z"
   },
   {
    "duration": 354,
    "start_time": "2024-12-17T11:19:21.913Z"
   },
   {
    "duration": 6,
    "start_time": "2024-12-17T11:19:22.268Z"
   },
   {
    "duration": 449,
    "start_time": "2024-12-17T11:19:22.275Z"
   },
   {
    "duration": 7,
    "start_time": "2024-12-17T11:19:22.725Z"
   },
   {
    "duration": 419,
    "start_time": "2024-12-17T11:19:22.734Z"
   },
   {
    "duration": 9,
    "start_time": "2024-12-17T11:19:23.155Z"
   },
   {
    "duration": 149,
    "start_time": "2024-12-17T11:19:23.166Z"
   },
   {
    "duration": 320,
    "start_time": "2024-12-17T11:19:23.317Z"
   },
   {
    "duration": 3,
    "start_time": "2024-12-17T11:19:23.639Z"
   },
   {
    "duration": 19,
    "start_time": "2024-12-17T11:19:23.644Z"
   },
   {
    "duration": 323,
    "start_time": "2024-12-17T11:19:23.665Z"
   },
   {
    "duration": 187,
    "start_time": "2024-12-17T11:19:23.990Z"
   },
   {
    "duration": 3,
    "start_time": "2024-12-17T11:19:24.186Z"
   },
   {
    "duration": 120,
    "start_time": "2024-12-17T11:19:24.191Z"
   },
   {
    "duration": 122,
    "start_time": "2024-12-17T11:19:24.312Z"
   },
   {
    "duration": 26,
    "start_time": "2024-12-17T11:19:24.436Z"
   },
   {
    "duration": 149,
    "start_time": "2024-12-17T11:19:24.464Z"
   },
   {
    "duration": 5,
    "start_time": "2024-12-17T11:19:24.615Z"
   },
   {
    "duration": 28,
    "start_time": "2024-12-17T11:19:24.621Z"
   },
   {
    "duration": 5,
    "start_time": "2024-12-17T11:19:24.651Z"
   },
   {
    "duration": 15,
    "start_time": "2024-12-17T11:19:24.658Z"
   },
   {
    "duration": 15,
    "start_time": "2024-12-17T11:19:24.675Z"
   },
   {
    "duration": 28,
    "start_time": "2024-12-17T11:19:24.691Z"
   },
   {
    "duration": 80,
    "start_time": "2024-12-17T11:19:24.721Z"
   },
   {
    "duration": 13,
    "start_time": "2024-12-17T11:19:24.803Z"
   },
   {
    "duration": 9,
    "start_time": "2024-12-17T11:21:44.626Z"
   },
   {
    "duration": 3,
    "start_time": "2024-12-17T11:23:07.198Z"
   },
   {
    "duration": 10,
    "start_time": "2024-12-17T11:23:07.635Z"
   },
   {
    "duration": 4,
    "start_time": "2024-12-17T11:26:19.924Z"
   },
   {
    "duration": 5,
    "start_time": "2024-12-17T11:26:50.351Z"
   },
   {
    "duration": 5,
    "start_time": "2024-12-17T11:26:58.225Z"
   },
   {
    "duration": 19,
    "start_time": "2024-12-17T11:27:03.588Z"
   },
   {
    "duration": 19,
    "start_time": "2024-12-17T11:27:25.031Z"
   },
   {
    "duration": 653,
    "start_time": "2024-12-17T11:29:08.312Z"
   },
   {
    "duration": 4,
    "start_time": "2024-12-17T12:33:43.748Z"
   },
   {
    "duration": 10,
    "start_time": "2024-12-17T12:33:45.618Z"
   },
   {
    "duration": 1411,
    "start_time": "2024-12-17T12:38:44.293Z"
   },
   {
    "duration": 10,
    "start_time": "2024-12-17T12:39:15.686Z"
   },
   {
    "duration": 7,
    "start_time": "2024-12-17T12:39:35.683Z"
   },
   {
    "duration": 6,
    "start_time": "2024-12-17T12:46:55.450Z"
   },
   {
    "duration": 7,
    "start_time": "2024-12-17T12:47:47.099Z"
   },
   {
    "duration": 7,
    "start_time": "2024-12-17T12:47:57.968Z"
   },
   {
    "duration": 8,
    "start_time": "2024-12-17T12:48:17.205Z"
   },
   {
    "duration": 10,
    "start_time": "2024-12-17T12:48:23.129Z"
   },
   {
    "duration": 20,
    "start_time": "2024-12-17T12:51:58.663Z"
   },
   {
    "duration": 10,
    "start_time": "2024-12-17T12:53:52.826Z"
   },
   {
    "duration": 10,
    "start_time": "2024-12-17T12:55:32.662Z"
   },
   {
    "duration": 11,
    "start_time": "2024-12-17T12:56:20.922Z"
   },
   {
    "duration": 9,
    "start_time": "2024-12-17T12:59:31.204Z"
   },
   {
    "duration": 9,
    "start_time": "2024-12-17T12:59:31.864Z"
   },
   {
    "duration": 52,
    "start_time": "2024-12-17T13:02:58.273Z"
   },
   {
    "duration": 4,
    "start_time": "2024-12-17T13:03:10.592Z"
   },
   {
    "duration": 39,
    "start_time": "2024-12-17T13:03:10.599Z"
   },
   {
    "duration": 2,
    "start_time": "2024-12-17T13:03:10.640Z"
   },
   {
    "duration": 41,
    "start_time": "2024-12-17T13:03:10.644Z"
   },
   {
    "duration": 5,
    "start_time": "2024-12-17T13:03:10.688Z"
   },
   {
    "duration": 15,
    "start_time": "2024-12-17T13:03:10.695Z"
   },
   {
    "duration": 10,
    "start_time": "2024-12-17T13:03:10.712Z"
   },
   {
    "duration": 333,
    "start_time": "2024-12-17T13:03:10.723Z"
   },
   {
    "duration": 31,
    "start_time": "2024-12-17T13:03:11.058Z"
   },
   {
    "duration": 296,
    "start_time": "2024-12-17T13:03:11.091Z"
   },
   {
    "duration": 50,
    "start_time": "2024-12-17T13:03:11.389Z"
   },
   {
    "duration": 5,
    "start_time": "2024-12-17T13:03:11.441Z"
   },
   {
    "duration": 27,
    "start_time": "2024-12-17T13:03:11.447Z"
   },
   {
    "duration": 3,
    "start_time": "2024-12-17T13:03:11.478Z"
   },
   {
    "duration": 24,
    "start_time": "2024-12-17T13:03:11.483Z"
   },
   {
    "duration": 16,
    "start_time": "2024-12-17T13:03:11.509Z"
   },
   {
    "duration": 162,
    "start_time": "2024-12-17T13:03:11.526Z"
   },
   {
    "duration": 136,
    "start_time": "2024-12-17T13:03:11.690Z"
   },
   {
    "duration": 12,
    "start_time": "2024-12-17T13:03:11.827Z"
   },
   {
    "duration": 489,
    "start_time": "2024-12-17T13:03:11.840Z"
   },
   {
    "duration": 467,
    "start_time": "2024-12-17T13:03:12.331Z"
   },
   {
    "duration": 13,
    "start_time": "2024-12-17T13:03:12.800Z"
   },
   {
    "duration": 392,
    "start_time": "2024-12-17T13:03:12.815Z"
   },
   {
    "duration": 5,
    "start_time": "2024-12-17T13:03:13.209Z"
   },
   {
    "duration": 606,
    "start_time": "2024-12-17T13:03:13.216Z"
   },
   {
    "duration": 8,
    "start_time": "2024-12-17T13:03:13.824Z"
   },
   {
    "duration": 442,
    "start_time": "2024-12-17T13:03:13.834Z"
   },
   {
    "duration": 9,
    "start_time": "2024-12-17T13:03:14.278Z"
   },
   {
    "duration": 160,
    "start_time": "2024-12-17T13:03:14.288Z"
   },
   {
    "duration": 336,
    "start_time": "2024-12-17T13:03:14.450Z"
   },
   {
    "duration": 6,
    "start_time": "2024-12-17T13:03:14.789Z"
   },
   {
    "duration": 12,
    "start_time": "2024-12-17T13:03:14.797Z"
   },
   {
    "duration": 377,
    "start_time": "2024-12-17T13:03:14.810Z"
   },
   {
    "duration": 208,
    "start_time": "2024-12-17T13:03:15.189Z"
   },
   {
    "duration": 8,
    "start_time": "2024-12-17T13:03:15.399Z"
   },
   {
    "duration": 104,
    "start_time": "2024-12-17T13:03:15.409Z"
   },
   {
    "duration": 123,
    "start_time": "2024-12-17T13:03:15.515Z"
   },
   {
    "duration": 30,
    "start_time": "2024-12-17T13:03:15.640Z"
   },
   {
    "duration": 166,
    "start_time": "2024-12-17T13:03:15.672Z"
   },
   {
    "duration": 6,
    "start_time": "2024-12-17T13:03:15.840Z"
   },
   {
    "duration": 26,
    "start_time": "2024-12-17T13:03:15.850Z"
   },
   {
    "duration": 13,
    "start_time": "2024-12-17T13:03:15.878Z"
   },
   {
    "duration": 24,
    "start_time": "2024-12-17T13:03:15.893Z"
   },
   {
    "duration": 15,
    "start_time": "2024-12-17T13:03:15.918Z"
   },
   {
    "duration": 12,
    "start_time": "2024-12-17T13:03:15.935Z"
   },
   {
    "duration": 34,
    "start_time": "2024-12-17T13:03:15.948Z"
   },
   {
    "duration": 13,
    "start_time": "2024-12-17T13:03:15.984Z"
   },
   {
    "duration": 18,
    "start_time": "2024-12-17T13:03:15.999Z"
   },
   {
    "duration": 255,
    "start_time": "2024-12-17T13:07:55.864Z"
   },
   {
    "duration": 2,
    "start_time": "2024-12-17T13:11:43.330Z"
   },
   {
    "duration": 9,
    "start_time": "2024-12-17T13:11:43.852Z"
   },
   {
    "duration": 3,
    "start_time": "2024-12-17T13:11:51.756Z"
   },
   {
    "duration": 70,
    "start_time": "2024-12-17T13:11:51.762Z"
   },
   {
    "duration": 4,
    "start_time": "2024-12-17T13:11:51.834Z"
   },
   {
    "duration": 15,
    "start_time": "2024-12-17T13:11:51.840Z"
   },
   {
    "duration": 16,
    "start_time": "2024-12-17T13:11:51.856Z"
   },
   {
    "duration": 30,
    "start_time": "2024-12-17T13:11:51.875Z"
   },
   {
    "duration": 327,
    "start_time": "2024-12-17T13:11:51.907Z"
   },
   {
    "duration": 11,
    "start_time": "2024-12-17T13:11:52.235Z"
   },
   {
    "duration": 299,
    "start_time": "2024-12-17T13:11:52.248Z"
   },
   {
    "duration": 49,
    "start_time": "2024-12-17T13:11:52.549Z"
   },
   {
    "duration": 6,
    "start_time": "2024-12-17T13:11:52.599Z"
   },
   {
    "duration": 36,
    "start_time": "2024-12-17T13:11:52.607Z"
   },
   {
    "duration": 4,
    "start_time": "2024-12-17T13:11:52.644Z"
   },
   {
    "duration": 6,
    "start_time": "2024-12-17T13:11:52.649Z"
   },
   {
    "duration": 4,
    "start_time": "2024-12-17T13:11:52.658Z"
   },
   {
    "duration": 216,
    "start_time": "2024-12-17T13:11:52.664Z"
   },
   {
    "duration": 140,
    "start_time": "2024-12-17T13:11:52.881Z"
   },
   {
    "duration": 11,
    "start_time": "2024-12-17T13:11:53.023Z"
   },
   {
    "duration": 449,
    "start_time": "2024-12-17T13:11:53.035Z"
   },
   {
    "duration": 482,
    "start_time": "2024-12-17T13:11:53.486Z"
   },
   {
    "duration": 10,
    "start_time": "2024-12-17T13:11:53.970Z"
   },
   {
    "duration": 403,
    "start_time": "2024-12-17T13:11:53.986Z"
   },
   {
    "duration": 6,
    "start_time": "2024-12-17T13:11:54.391Z"
   },
   {
    "duration": 506,
    "start_time": "2024-12-17T13:11:54.398Z"
   },
   {
    "duration": 9,
    "start_time": "2024-12-17T13:11:54.906Z"
   },
   {
    "duration": 369,
    "start_time": "2024-12-17T13:11:54.917Z"
   },
   {
    "duration": 10,
    "start_time": "2024-12-17T13:11:55.288Z"
   },
   {
    "duration": 172,
    "start_time": "2024-12-17T13:11:55.300Z"
   },
   {
    "duration": 336,
    "start_time": "2024-12-17T13:11:55.473Z"
   },
   {
    "duration": 5,
    "start_time": "2024-12-17T13:11:55.811Z"
   },
   {
    "duration": 24,
    "start_time": "2024-12-17T13:11:55.817Z"
   },
   {
    "duration": 351,
    "start_time": "2024-12-17T13:11:55.843Z"
   },
   {
    "duration": 205,
    "start_time": "2024-12-17T13:11:56.197Z"
   },
   {
    "duration": 5,
    "start_time": "2024-12-17T13:11:56.404Z"
   },
   {
    "duration": 100,
    "start_time": "2024-12-17T13:11:56.411Z"
   },
   {
    "duration": 121,
    "start_time": "2024-12-17T13:11:56.513Z"
   },
   {
    "duration": 25,
    "start_time": "2024-12-17T13:11:56.635Z"
   },
   {
    "duration": 164,
    "start_time": "2024-12-17T13:11:56.662Z"
   },
   {
    "duration": 6,
    "start_time": "2024-12-17T13:11:56.827Z"
   },
   {
    "duration": 27,
    "start_time": "2024-12-17T13:11:56.834Z"
   },
   {
    "duration": 6,
    "start_time": "2024-12-17T13:11:56.862Z"
   },
   {
    "duration": 12,
    "start_time": "2024-12-17T13:11:56.889Z"
   },
   {
    "duration": 12,
    "start_time": "2024-12-17T13:11:56.903Z"
   },
   {
    "duration": 7,
    "start_time": "2024-12-17T13:11:56.917Z"
   },
   {
    "duration": 21,
    "start_time": "2024-12-17T13:11:56.925Z"
   },
   {
    "duration": 7,
    "start_time": "2024-12-17T13:11:56.947Z"
   },
   {
    "duration": 35,
    "start_time": "2024-12-17T13:11:56.955Z"
   },
   {
    "duration": 287,
    "start_time": "2024-12-17T13:14:11.022Z"
   },
   {
    "duration": 306,
    "start_time": "2024-12-17T13:14:18.520Z"
   },
   {
    "duration": 50,
    "start_time": "2024-12-17T13:15:39.446Z"
   },
   {
    "duration": 298,
    "start_time": "2024-12-17T13:15:57.553Z"
   },
   {
    "duration": 5,
    "start_time": "2024-12-17T13:23:54.405Z"
   },
   {
    "duration": 8,
    "start_time": "2024-12-17T13:24:29.017Z"
   },
   {
    "duration": 254,
    "start_time": "2024-12-17T13:27:23.036Z"
   },
   {
    "duration": 9,
    "start_time": "2024-12-17T13:44:44.925Z"
   },
   {
    "duration": 10,
    "start_time": "2024-12-17T13:45:07.818Z"
   },
   {
    "duration": 3,
    "start_time": "2024-12-17T15:16:49.989Z"
   },
   {
    "duration": 35,
    "start_time": "2024-12-17T15:16:49.994Z"
   },
   {
    "duration": 3,
    "start_time": "2024-12-17T15:16:50.031Z"
   },
   {
    "duration": 30,
    "start_time": "2024-12-17T15:16:50.035Z"
   },
   {
    "duration": 8,
    "start_time": "2024-12-17T15:16:50.066Z"
   },
   {
    "duration": 10,
    "start_time": "2024-12-17T15:16:50.075Z"
   },
   {
    "duration": 299,
    "start_time": "2024-12-17T15:16:50.087Z"
   },
   {
    "duration": 12,
    "start_time": "2024-12-17T15:16:50.388Z"
   },
   {
    "duration": 287,
    "start_time": "2024-12-17T15:16:50.402Z"
   },
   {
    "duration": 47,
    "start_time": "2024-12-17T15:16:50.692Z"
   },
   {
    "duration": 4,
    "start_time": "2024-12-17T15:16:50.741Z"
   },
   {
    "duration": 47,
    "start_time": "2024-12-17T15:16:50.747Z"
   },
   {
    "duration": 4,
    "start_time": "2024-12-17T15:16:50.795Z"
   },
   {
    "duration": 15,
    "start_time": "2024-12-17T15:16:50.800Z"
   },
   {
    "duration": 7,
    "start_time": "2024-12-17T15:16:50.816Z"
   },
   {
    "duration": 146,
    "start_time": "2024-12-17T15:16:50.825Z"
   },
   {
    "duration": 125,
    "start_time": "2024-12-17T15:16:50.972Z"
   },
   {
    "duration": 14,
    "start_time": "2024-12-17T15:16:51.099Z"
   },
   {
    "duration": 449,
    "start_time": "2024-12-17T15:16:51.115Z"
   },
   {
    "duration": 424,
    "start_time": "2024-12-17T15:16:51.565Z"
   },
   {
    "duration": 10,
    "start_time": "2024-12-17T15:16:51.990Z"
   },
   {
    "duration": 455,
    "start_time": "2024-12-17T15:16:52.002Z"
   },
   {
    "duration": 7,
    "start_time": "2024-12-17T15:16:52.459Z"
   },
   {
    "duration": 475,
    "start_time": "2024-12-17T15:16:52.468Z"
   },
   {
    "duration": 7,
    "start_time": "2024-12-17T15:16:52.945Z"
   },
   {
    "duration": 391,
    "start_time": "2024-12-17T15:16:52.954Z"
   },
   {
    "duration": 9,
    "start_time": "2024-12-17T15:16:53.346Z"
   },
   {
    "duration": 169,
    "start_time": "2024-12-17T15:16:53.359Z"
   },
   {
    "duration": 322,
    "start_time": "2024-12-17T15:16:53.529Z"
   },
   {
    "duration": 3,
    "start_time": "2024-12-17T15:16:53.853Z"
   },
   {
    "duration": 10,
    "start_time": "2024-12-17T15:16:53.857Z"
   },
   {
    "duration": 260,
    "start_time": "2024-12-17T15:16:53.868Z"
   },
   {
    "duration": 181,
    "start_time": "2024-12-17T15:16:54.130Z"
   },
   {
    "duration": 5,
    "start_time": "2024-12-17T15:16:54.312Z"
   },
   {
    "duration": 103,
    "start_time": "2024-12-17T15:16:54.319Z"
   },
   {
    "duration": 115,
    "start_time": "2024-12-17T15:16:54.424Z"
   },
   {
    "duration": 28,
    "start_time": "2024-12-17T15:16:54.541Z"
   },
   {
    "duration": 147,
    "start_time": "2024-12-17T15:16:54.570Z"
   },
   {
    "duration": 6,
    "start_time": "2024-12-17T15:16:54.718Z"
   },
   {
    "duration": 29,
    "start_time": "2024-12-17T15:16:54.725Z"
   },
   {
    "duration": 8,
    "start_time": "2024-12-17T15:16:54.755Z"
   },
   {
    "duration": 8,
    "start_time": "2024-12-17T15:16:54.764Z"
   },
   {
    "duration": 20,
    "start_time": "2024-12-17T15:16:54.773Z"
   },
   {
    "duration": 22,
    "start_time": "2024-12-17T15:16:54.795Z"
   },
   {
    "duration": 27,
    "start_time": "2024-12-17T15:16:54.818Z"
   },
   {
    "duration": 8,
    "start_time": "2024-12-17T15:16:54.846Z"
   },
   {
    "duration": 8,
    "start_time": "2024-12-17T15:16:54.856Z"
   },
   {
    "duration": 1036,
    "start_time": "2024-12-17T15:20:07.127Z"
   },
   {
    "duration": 32,
    "start_time": "2024-12-17T15:20:08.164Z"
   },
   {
    "duration": 3,
    "start_time": "2024-12-17T15:20:08.197Z"
   },
   {
    "duration": 16,
    "start_time": "2024-12-17T15:20:08.202Z"
   },
   {
    "duration": 2,
    "start_time": "2024-12-17T15:20:08.220Z"
   },
   {
    "duration": 12,
    "start_time": "2024-12-17T15:20:08.224Z"
   },
   {
    "duration": 292,
    "start_time": "2024-12-17T15:20:08.238Z"
   },
   {
    "duration": 11,
    "start_time": "2024-12-17T15:20:08.532Z"
   },
   {
    "duration": 259,
    "start_time": "2024-12-17T15:20:08.544Z"
   },
   {
    "duration": 48,
    "start_time": "2024-12-17T15:20:08.805Z"
   },
   {
    "duration": 5,
    "start_time": "2024-12-17T15:20:08.855Z"
   },
   {
    "duration": 35,
    "start_time": "2024-12-17T15:20:08.862Z"
   },
   {
    "duration": 3,
    "start_time": "2024-12-17T15:20:08.898Z"
   },
   {
    "duration": 12,
    "start_time": "2024-12-17T15:20:08.903Z"
   },
   {
    "duration": 17,
    "start_time": "2024-12-17T15:20:08.916Z"
   },
   {
    "duration": 161,
    "start_time": "2024-12-17T15:20:08.935Z"
   },
   {
    "duration": 133,
    "start_time": "2024-12-17T15:20:09.098Z"
   },
   {
    "duration": 12,
    "start_time": "2024-12-17T15:20:09.233Z"
   },
   {
    "duration": 546,
    "start_time": "2024-12-17T15:20:09.247Z"
   },
   {
    "duration": 477,
    "start_time": "2024-12-17T15:20:09.795Z"
   },
   {
    "duration": 14,
    "start_time": "2024-12-17T15:20:10.274Z"
   },
   {
    "duration": 367,
    "start_time": "2024-12-17T15:20:10.289Z"
   },
   {
    "duration": 5,
    "start_time": "2024-12-17T15:20:10.658Z"
   },
   {
    "duration": 515,
    "start_time": "2024-12-17T15:20:10.664Z"
   },
   {
    "duration": 7,
    "start_time": "2024-12-17T15:20:11.180Z"
   },
   {
    "duration": 366,
    "start_time": "2024-12-17T15:20:11.188Z"
   },
   {
    "duration": 9,
    "start_time": "2024-12-17T15:20:11.556Z"
   },
   {
    "duration": 203,
    "start_time": "2024-12-17T15:20:11.568Z"
   },
   {
    "duration": 293,
    "start_time": "2024-12-17T15:20:11.772Z"
   },
   {
    "duration": 4,
    "start_time": "2024-12-17T15:20:12.067Z"
   },
   {
    "duration": 21,
    "start_time": "2024-12-17T15:20:12.072Z"
   },
   {
    "duration": 261,
    "start_time": "2024-12-17T15:20:12.094Z"
   },
   {
    "duration": 190,
    "start_time": "2024-12-17T15:20:12.357Z"
   },
   {
    "duration": 4,
    "start_time": "2024-12-17T15:20:12.548Z"
   },
   {
    "duration": 92,
    "start_time": "2024-12-17T15:20:12.554Z"
   },
   {
    "duration": 106,
    "start_time": "2024-12-17T15:20:12.648Z"
   },
   {
    "duration": 33,
    "start_time": "2024-12-17T15:20:12.756Z"
   },
   {
    "duration": 132,
    "start_time": "2024-12-17T15:20:12.790Z"
   },
   {
    "duration": 5,
    "start_time": "2024-12-17T15:20:12.924Z"
   },
   {
    "duration": 21,
    "start_time": "2024-12-17T15:20:12.930Z"
   },
   {
    "duration": 5,
    "start_time": "2024-12-17T15:20:12.952Z"
   },
   {
    "duration": 27,
    "start_time": "2024-12-17T15:20:12.959Z"
   },
   {
    "duration": 8,
    "start_time": "2024-12-17T15:20:12.988Z"
   },
   {
    "duration": 9,
    "start_time": "2024-12-17T15:20:12.997Z"
   },
   {
    "duration": 24,
    "start_time": "2024-12-17T15:20:13.007Z"
   },
   {
    "duration": 7,
    "start_time": "2024-12-17T15:20:13.032Z"
   },
   {
    "duration": 8,
    "start_time": "2024-12-17T15:20:13.040Z"
   },
   {
    "duration": 276,
    "start_time": "2024-12-17T15:21:08.491Z"
   },
   {
    "duration": 1295,
    "start_time": "2024-12-18T08:06:26.948Z"
   },
   {
    "duration": 85,
    "start_time": "2024-12-18T08:06:28.245Z"
   },
   {
    "duration": 3,
    "start_time": "2024-12-18T08:06:28.331Z"
   },
   {
    "duration": 11,
    "start_time": "2024-12-18T08:06:28.336Z"
   },
   {
    "duration": 8,
    "start_time": "2024-12-18T08:06:28.349Z"
   },
   {
    "duration": 34,
    "start_time": "2024-12-18T08:06:28.358Z"
   },
   {
    "duration": 293,
    "start_time": "2024-12-18T08:06:28.394Z"
   },
   {
    "duration": 11,
    "start_time": "2024-12-18T08:06:28.689Z"
   },
   {
    "duration": 288,
    "start_time": "2024-12-18T08:06:28.701Z"
   },
   {
    "duration": 90,
    "start_time": "2024-12-18T08:06:28.992Z"
   },
   {
    "duration": 4,
    "start_time": "2024-12-18T08:06:29.084Z"
   },
   {
    "duration": 83,
    "start_time": "2024-12-18T08:06:29.089Z"
   },
   {
    "duration": 3,
    "start_time": "2024-12-18T08:06:29.174Z"
   },
   {
    "duration": 6,
    "start_time": "2024-12-18T08:06:29.179Z"
   },
   {
    "duration": 9,
    "start_time": "2024-12-18T08:06:29.186Z"
   },
   {
    "duration": 161,
    "start_time": "2024-12-18T08:06:29.197Z"
   },
   {
    "duration": 126,
    "start_time": "2024-12-18T08:06:29.360Z"
   },
   {
    "duration": 11,
    "start_time": "2024-12-18T08:06:29.487Z"
   },
   {
    "duration": 549,
    "start_time": "2024-12-18T08:06:29.510Z"
   },
   {
    "duration": 460,
    "start_time": "2024-12-18T08:06:30.060Z"
   },
   {
    "duration": 10,
    "start_time": "2024-12-18T08:06:30.522Z"
   },
   {
    "duration": 455,
    "start_time": "2024-12-18T08:06:30.534Z"
   },
   {
    "duration": 5,
    "start_time": "2024-12-18T08:06:30.990Z"
   },
   {
    "duration": 512,
    "start_time": "2024-12-18T08:06:30.996Z"
   },
   {
    "duration": 7,
    "start_time": "2024-12-18T08:06:31.509Z"
   },
   {
    "duration": 397,
    "start_time": "2024-12-18T08:06:31.518Z"
   },
   {
    "duration": 11,
    "start_time": "2024-12-18T08:06:31.917Z"
   },
   {
    "duration": 254,
    "start_time": "2024-12-18T08:06:31.932Z"
   },
   {
    "duration": 310,
    "start_time": "2024-12-18T08:06:32.188Z"
   },
   {
    "duration": 13,
    "start_time": "2024-12-18T08:06:32.500Z"
   },
   {
    "duration": 38,
    "start_time": "2024-12-18T08:06:32.514Z"
   },
   {
    "duration": 244,
    "start_time": "2024-12-18T08:06:32.554Z"
   },
   {
    "duration": 180,
    "start_time": "2024-12-18T08:06:32.799Z"
   },
   {
    "duration": 4,
    "start_time": "2024-12-18T08:06:32.980Z"
   },
   {
    "duration": 96,
    "start_time": "2024-12-18T08:06:32.986Z"
   },
   {
    "duration": 129,
    "start_time": "2024-12-18T08:06:33.083Z"
   },
   {
    "duration": 26,
    "start_time": "2024-12-18T08:06:33.213Z"
   },
   {
    "duration": 146,
    "start_time": "2024-12-18T08:06:33.240Z"
   },
   {
    "duration": 6,
    "start_time": "2024-12-18T08:06:33.387Z"
   },
   {
    "duration": 49,
    "start_time": "2024-12-18T08:06:33.394Z"
   },
   {
    "duration": 5,
    "start_time": "2024-12-18T08:06:33.444Z"
   },
   {
    "duration": 30,
    "start_time": "2024-12-18T08:06:33.451Z"
   },
   {
    "duration": 51,
    "start_time": "2024-12-18T08:06:33.483Z"
   },
   {
    "duration": 0,
    "start_time": "2024-12-18T08:06:33.535Z"
   },
   {
    "duration": 0,
    "start_time": "2024-12-18T08:06:33.537Z"
   },
   {
    "duration": 0,
    "start_time": "2024-12-18T08:06:33.538Z"
   },
   {
    "duration": 0,
    "start_time": "2024-12-18T08:06:33.539Z"
   },
   {
    "duration": 12,
    "start_time": "2024-12-18T08:13:01.722Z"
   },
   {
    "duration": 12,
    "start_time": "2024-12-18T08:26:00.310Z"
   },
   {
    "duration": 11,
    "start_time": "2024-12-18T08:26:15.152Z"
   },
   {
    "duration": 12,
    "start_time": "2024-12-18T08:27:02.305Z"
   },
   {
    "duration": 59,
    "start_time": "2024-12-18T08:27:48.708Z"
   },
   {
    "duration": 3,
    "start_time": "2024-12-18T08:27:57.179Z"
   },
   {
    "duration": 85,
    "start_time": "2024-12-18T08:28:07.645Z"
   },
   {
    "duration": 10,
    "start_time": "2024-12-18T08:28:13.905Z"
   },
   {
    "duration": 8,
    "start_time": "2024-12-18T08:28:36.224Z"
   },
   {
    "duration": 11,
    "start_time": "2024-12-18T08:28:39.788Z"
   },
   {
    "duration": 9,
    "start_time": "2024-12-18T08:31:54.750Z"
   },
   {
    "duration": 9,
    "start_time": "2024-12-18T08:32:02.515Z"
   },
   {
    "duration": 8,
    "start_time": "2024-12-18T08:32:07.457Z"
   },
   {
    "duration": 8,
    "start_time": "2024-12-18T08:32:12.459Z"
   },
   {
    "duration": 10,
    "start_time": "2024-12-18T08:32:55.731Z"
   },
   {
    "duration": 11,
    "start_time": "2024-12-18T08:32:58.358Z"
   },
   {
    "duration": 1031,
    "start_time": "2024-12-18T08:34:13.943Z"
   },
   {
    "duration": 10,
    "start_time": "2024-12-18T08:34:57.283Z"
   },
   {
    "duration": 11,
    "start_time": "2024-12-18T08:35:05.751Z"
   },
   {
    "duration": 1080,
    "start_time": "2024-12-18T08:47:32.615Z"
   },
   {
    "duration": 33,
    "start_time": "2024-12-18T08:47:33.697Z"
   },
   {
    "duration": 3,
    "start_time": "2024-12-18T08:47:33.731Z"
   },
   {
    "duration": 23,
    "start_time": "2024-12-18T08:47:33.735Z"
   },
   {
    "duration": 11,
    "start_time": "2024-12-18T08:47:33.759Z"
   },
   {
    "duration": 13,
    "start_time": "2024-12-18T08:47:33.771Z"
   },
   {
    "duration": 288,
    "start_time": "2024-12-18T08:47:33.785Z"
   },
   {
    "duration": 13,
    "start_time": "2024-12-18T08:47:34.075Z"
   },
   {
    "duration": 290,
    "start_time": "2024-12-18T08:47:34.089Z"
   },
   {
    "duration": 50,
    "start_time": "2024-12-18T08:47:34.382Z"
   },
   {
    "duration": 4,
    "start_time": "2024-12-18T08:47:34.433Z"
   },
   {
    "duration": 29,
    "start_time": "2024-12-18T08:47:34.439Z"
   },
   {
    "duration": 3,
    "start_time": "2024-12-18T08:47:34.469Z"
   },
   {
    "duration": 9,
    "start_time": "2024-12-18T08:47:34.473Z"
   },
   {
    "duration": 5,
    "start_time": "2024-12-18T08:47:34.483Z"
   },
   {
    "duration": 163,
    "start_time": "2024-12-18T08:47:34.489Z"
   },
   {
    "duration": 129,
    "start_time": "2024-12-18T08:47:34.653Z"
   },
   {
    "duration": 11,
    "start_time": "2024-12-18T08:47:34.784Z"
   },
   {
    "duration": 516,
    "start_time": "2024-12-18T08:47:34.810Z"
   },
   {
    "duration": 467,
    "start_time": "2024-12-18T08:47:35.328Z"
   },
   {
    "duration": 16,
    "start_time": "2024-12-18T08:47:35.796Z"
   },
   {
    "duration": 381,
    "start_time": "2024-12-18T08:47:35.813Z"
   },
   {
    "duration": 5,
    "start_time": "2024-12-18T08:47:36.195Z"
   },
   {
    "duration": 486,
    "start_time": "2024-12-18T08:47:36.202Z"
   },
   {
    "duration": 7,
    "start_time": "2024-12-18T08:47:36.689Z"
   },
   {
    "duration": 384,
    "start_time": "2024-12-18T08:47:36.697Z"
   },
   {
    "duration": 11,
    "start_time": "2024-12-18T08:47:37.083Z"
   },
   {
    "duration": 389,
    "start_time": "2024-12-18T08:47:37.110Z"
   },
   {
    "duration": 12,
    "start_time": "2024-12-18T08:47:37.500Z"
   },
   {
    "duration": 17,
    "start_time": "2024-12-18T08:47:37.513Z"
   },
   {
    "duration": 246,
    "start_time": "2024-12-18T08:47:37.532Z"
   },
   {
    "duration": 214,
    "start_time": "2024-12-18T08:47:37.780Z"
   },
   {
    "duration": 5,
    "start_time": "2024-12-18T08:47:37.996Z"
   },
   {
    "duration": 86,
    "start_time": "2024-12-18T08:47:38.011Z"
   },
   {
    "duration": 111,
    "start_time": "2024-12-18T08:47:38.111Z"
   },
   {
    "duration": 28,
    "start_time": "2024-12-18T08:47:38.224Z"
   },
   {
    "duration": 144,
    "start_time": "2024-12-18T08:47:38.253Z"
   },
   {
    "duration": 14,
    "start_time": "2024-12-18T08:47:38.399Z"
   },
   {
    "duration": 30,
    "start_time": "2024-12-18T08:47:38.415Z"
   },
   {
    "duration": 5,
    "start_time": "2024-12-18T08:47:38.447Z"
   },
   {
    "duration": 15,
    "start_time": "2024-12-18T08:47:38.453Z"
   },
   {
    "duration": 17,
    "start_time": "2024-12-18T08:47:38.470Z"
   },
   {
    "duration": 27,
    "start_time": "2024-12-18T08:47:38.488Z"
   },
   {
    "duration": 36,
    "start_time": "2024-12-18T08:47:38.516Z"
   },
   {
    "duration": 6,
    "start_time": "2024-12-18T08:47:38.553Z"
   },
   {
    "duration": 12,
    "start_time": "2024-12-18T08:47:38.560Z"
   },
   {
    "duration": 52,
    "start_time": "2024-12-20T12:45:30.171Z"
   },
   {
    "duration": 1386,
    "start_time": "2024-12-20T12:46:07.559Z"
   },
   {
    "duration": 84,
    "start_time": "2024-12-20T12:46:08.947Z"
   },
   {
    "duration": 3,
    "start_time": "2024-12-20T12:46:09.032Z"
   },
   {
    "duration": 23,
    "start_time": "2024-12-20T12:46:09.037Z"
   },
   {
    "duration": 7,
    "start_time": "2024-12-20T12:46:09.061Z"
   },
   {
    "duration": 18,
    "start_time": "2024-12-20T12:46:09.070Z"
   },
   {
    "duration": 299,
    "start_time": "2024-12-20T12:46:09.090Z"
   },
   {
    "duration": 13,
    "start_time": "2024-12-20T12:46:09.391Z"
   },
   {
    "duration": 284,
    "start_time": "2024-12-20T12:46:09.406Z"
   },
   {
    "duration": 112,
    "start_time": "2024-12-20T12:46:09.693Z"
   },
   {
    "duration": 6,
    "start_time": "2024-12-20T12:46:09.807Z"
   },
   {
    "duration": 93,
    "start_time": "2024-12-20T12:46:09.815Z"
   },
   {
    "duration": 4,
    "start_time": "2024-12-20T12:46:09.910Z"
   },
   {
    "duration": 8,
    "start_time": "2024-12-20T12:46:09.915Z"
   },
   {
    "duration": 7,
    "start_time": "2024-12-20T12:46:09.924Z"
   },
   {
    "duration": 10,
    "start_time": "2024-12-20T12:46:09.933Z"
   },
   {
    "duration": 258,
    "start_time": "2024-12-20T12:46:09.945Z"
   },
   {
    "duration": 148,
    "start_time": "2024-12-20T12:46:10.204Z"
   },
   {
    "duration": 75,
    "start_time": "2024-12-20T12:46:10.353Z"
   },
   {
    "duration": 643,
    "start_time": "2024-12-20T12:46:10.430Z"
   },
   {
    "duration": 473,
    "start_time": "2024-12-20T12:46:11.075Z"
   },
   {
    "duration": 11,
    "start_time": "2024-12-20T12:46:11.550Z"
   },
   {
    "duration": 388,
    "start_time": "2024-12-20T12:46:11.562Z"
   },
   {
    "duration": 6,
    "start_time": "2024-12-20T12:46:11.952Z"
   },
   {
    "duration": 508,
    "start_time": "2024-12-20T12:46:11.959Z"
   },
   {
    "duration": 8,
    "start_time": "2024-12-20T12:46:12.468Z"
   },
   {
    "duration": 354,
    "start_time": "2024-12-20T12:46:12.478Z"
   },
   {
    "duration": 11,
    "start_time": "2024-12-20T12:46:12.836Z"
   },
   {
    "duration": 411,
    "start_time": "2024-12-20T12:46:12.848Z"
   },
   {
    "duration": 5,
    "start_time": "2024-12-20T12:46:13.260Z"
   },
   {
    "duration": 16,
    "start_time": "2024-12-20T12:46:13.266Z"
   },
   {
    "duration": 299,
    "start_time": "2024-12-20T12:46:13.283Z"
   },
   {
    "duration": 204,
    "start_time": "2024-12-20T12:46:13.584Z"
   },
   {
    "duration": 5,
    "start_time": "2024-12-20T12:46:13.789Z"
   },
   {
    "duration": 115,
    "start_time": "2024-12-20T12:46:13.795Z"
   },
   {
    "duration": 122,
    "start_time": "2024-12-20T12:46:13.911Z"
   },
   {
    "duration": 29,
    "start_time": "2024-12-20T12:46:14.034Z"
   },
   {
    "duration": 138,
    "start_time": "2024-12-20T12:46:14.064Z"
   },
   {
    "duration": 11,
    "start_time": "2024-12-20T12:46:14.203Z"
   },
   {
    "duration": 31,
    "start_time": "2024-12-20T12:46:14.216Z"
   },
   {
    "duration": 7,
    "start_time": "2024-12-20T12:46:14.248Z"
   },
   {
    "duration": 8,
    "start_time": "2024-12-20T12:46:14.256Z"
   },
   {
    "duration": 14,
    "start_time": "2024-12-20T12:46:14.266Z"
   },
   {
    "duration": 7,
    "start_time": "2024-12-20T12:46:14.281Z"
   },
   {
    "duration": 142,
    "start_time": "2024-12-20T12:46:14.290Z"
   },
   {
    "duration": 8,
    "start_time": "2024-12-20T12:46:14.434Z"
   },
   {
    "duration": 10,
    "start_time": "2024-12-20T12:46:14.444Z"
   },
   {
    "duration": 10,
    "start_time": "2024-12-20T12:46:31.401Z"
   },
   {
    "duration": 9,
    "start_time": "2024-12-20T12:49:26.344Z"
   },
   {
    "duration": 8,
    "start_time": "2024-12-20T12:49:37.115Z"
   },
   {
    "duration": 3,
    "start_time": "2024-12-20T12:49:55.663Z"
   },
   {
    "duration": 43,
    "start_time": "2024-12-20T12:49:55.668Z"
   },
   {
    "duration": 3,
    "start_time": "2024-12-20T12:49:55.712Z"
   },
   {
    "duration": 29,
    "start_time": "2024-12-20T12:49:55.718Z"
   },
   {
    "duration": 14,
    "start_time": "2024-12-20T12:49:55.749Z"
   },
   {
    "duration": 12,
    "start_time": "2024-12-20T12:49:55.765Z"
   },
   {
    "duration": 345,
    "start_time": "2024-12-20T12:49:55.779Z"
   },
   {
    "duration": 13,
    "start_time": "2024-12-20T12:49:56.126Z"
   },
   {
    "duration": 326,
    "start_time": "2024-12-20T12:49:56.140Z"
   },
   {
    "duration": 56,
    "start_time": "2024-12-20T12:49:56.469Z"
   },
   {
    "duration": 6,
    "start_time": "2024-12-20T12:49:56.527Z"
   },
   {
    "duration": 37,
    "start_time": "2024-12-20T12:49:56.535Z"
   },
   {
    "duration": 4,
    "start_time": "2024-12-20T12:49:56.574Z"
   },
   {
    "duration": 19,
    "start_time": "2024-12-20T12:49:56.580Z"
   },
   {
    "duration": 90,
    "start_time": "2024-12-20T12:49:56.601Z"
   },
   {
    "duration": 169,
    "start_time": "2024-12-20T12:49:56.693Z"
   },
   {
    "duration": 132,
    "start_time": "2024-12-20T12:49:56.864Z"
   },
   {
    "duration": 13,
    "start_time": "2024-12-20T12:49:56.998Z"
   },
   {
    "duration": 539,
    "start_time": "2024-12-20T12:49:57.013Z"
   },
   {
    "duration": 492,
    "start_time": "2024-12-20T12:49:57.553Z"
   },
   {
    "duration": 12,
    "start_time": "2024-12-20T12:49:58.047Z"
   },
   {
    "duration": 520,
    "start_time": "2024-12-20T12:49:58.061Z"
   },
   {
    "duration": 7,
    "start_time": "2024-12-20T12:49:58.583Z"
   },
   {
    "duration": 553,
    "start_time": "2024-12-20T12:49:58.591Z"
   },
   {
    "duration": 9,
    "start_time": "2024-12-20T12:49:59.146Z"
   },
   {
    "duration": 495,
    "start_time": "2024-12-20T12:49:59.157Z"
   },
   {
    "duration": 11,
    "start_time": "2024-12-20T12:49:59.653Z"
   },
   {
    "duration": 341,
    "start_time": "2024-12-20T12:49:59.668Z"
   },
   {
    "duration": 19,
    "start_time": "2024-12-20T12:50:00.011Z"
   },
   {
    "duration": 227,
    "start_time": "2024-12-20T12:50:00.033Z"
   },
   {
    "duration": 303,
    "start_time": "2024-12-20T12:50:00.262Z"
   },
   {
    "duration": 203,
    "start_time": "2024-12-20T12:50:00.567Z"
   },
   {
    "duration": 4,
    "start_time": "2024-12-20T12:50:00.772Z"
   },
   {
    "duration": 126,
    "start_time": "2024-12-20T12:50:00.778Z"
   },
   {
    "duration": 125,
    "start_time": "2024-12-20T12:50:00.906Z"
   },
   {
    "duration": 30,
    "start_time": "2024-12-20T12:50:01.032Z"
   },
   {
    "duration": 145,
    "start_time": "2024-12-20T12:50:01.063Z"
   },
   {
    "duration": 6,
    "start_time": "2024-12-20T12:50:01.210Z"
   },
   {
    "duration": 58,
    "start_time": "2024-12-20T12:50:01.218Z"
   },
   {
    "duration": 7,
    "start_time": "2024-12-20T12:50:01.278Z"
   },
   {
    "duration": 34,
    "start_time": "2024-12-20T12:50:01.286Z"
   },
   {
    "duration": 47,
    "start_time": "2024-12-20T12:50:01.322Z"
   },
   {
    "duration": 22,
    "start_time": "2024-12-20T12:50:01.371Z"
   },
   {
    "duration": 54,
    "start_time": "2024-12-20T12:50:01.395Z"
   },
   {
    "duration": 12,
    "start_time": "2024-12-20T12:50:01.451Z"
   },
   {
    "duration": 30,
    "start_time": "2024-12-20T12:50:01.465Z"
   },
   {
    "duration": 1249,
    "start_time": "2025-03-10T12:48:10.475Z"
   },
   {
    "duration": 1315,
    "start_time": "2025-03-10T12:48:22.476Z"
   },
   {
    "duration": 37,
    "start_time": "2025-03-10T12:48:23.793Z"
   },
   {
    "duration": 4,
    "start_time": "2025-03-10T12:48:23.832Z"
   },
   {
    "duration": 17,
    "start_time": "2025-03-10T12:48:23.838Z"
   },
   {
    "duration": 6,
    "start_time": "2025-03-10T12:48:23.857Z"
   },
   {
    "duration": 27,
    "start_time": "2025-03-10T12:48:23.865Z"
   },
   {
    "duration": 336,
    "start_time": "2025-03-10T12:48:23.893Z"
   },
   {
    "duration": 13,
    "start_time": "2025-03-10T12:48:24.231Z"
   },
   {
    "duration": 307,
    "start_time": "2025-03-10T12:48:24.246Z"
   },
   {
    "duration": 54,
    "start_time": "2025-03-10T12:48:24.555Z"
   },
   {
    "duration": 6,
    "start_time": "2025-03-10T12:48:24.610Z"
   },
   {
    "duration": 47,
    "start_time": "2025-03-10T12:48:24.617Z"
   },
   {
    "duration": 4,
    "start_time": "2025-03-10T12:48:24.666Z"
   },
   {
    "duration": 21,
    "start_time": "2025-03-10T12:48:24.672Z"
   },
   {
    "duration": 8,
    "start_time": "2025-03-10T12:48:24.695Z"
   },
   {
    "duration": 189,
    "start_time": "2025-03-10T12:48:24.704Z"
   },
   {
    "duration": 142,
    "start_time": "2025-03-10T12:48:24.895Z"
   },
   {
    "duration": 13,
    "start_time": "2025-03-10T12:48:25.039Z"
   },
   {
    "duration": 593,
    "start_time": "2025-03-10T12:48:25.053Z"
   },
   {
    "duration": 486,
    "start_time": "2025-03-10T12:48:25.648Z"
   },
   {
    "duration": 11,
    "start_time": "2025-03-10T12:48:26.136Z"
   },
   {
    "duration": 394,
    "start_time": "2025-03-10T12:48:26.148Z"
   },
   {
    "duration": 7,
    "start_time": "2025-03-10T12:48:26.543Z"
   },
   {
    "duration": 519,
    "start_time": "2025-03-10T12:48:26.553Z"
   },
   {
    "duration": 7,
    "start_time": "2025-03-10T12:48:27.074Z"
   },
   {
    "duration": 429,
    "start_time": "2025-03-10T12:48:27.083Z"
   },
   {
    "duration": 13,
    "start_time": "2025-03-10T12:48:27.513Z"
   },
   {
    "duration": 452,
    "start_time": "2025-03-10T12:48:27.532Z"
   },
   {
    "duration": 4,
    "start_time": "2025-03-10T12:48:27.986Z"
   },
   {
    "duration": 11,
    "start_time": "2025-03-10T12:48:28.003Z"
   },
   {
    "duration": 298,
    "start_time": "2025-03-10T12:48:28.015Z"
   },
   {
    "duration": 212,
    "start_time": "2025-03-10T12:48:28.314Z"
   },
   {
    "duration": 4,
    "start_time": "2025-03-10T12:48:28.528Z"
   },
   {
    "duration": 115,
    "start_time": "2025-03-10T12:48:28.533Z"
   },
   {
    "duration": 126,
    "start_time": "2025-03-10T12:48:28.650Z"
   },
   {
    "duration": 39,
    "start_time": "2025-03-10T12:48:28.778Z"
   },
   {
    "duration": 153,
    "start_time": "2025-03-10T12:48:28.819Z"
   },
   {
    "duration": 6,
    "start_time": "2025-03-10T12:48:28.974Z"
   },
   {
    "duration": 41,
    "start_time": "2025-03-10T12:48:28.981Z"
   },
   {
    "duration": 7,
    "start_time": "2025-03-10T12:48:29.024Z"
   },
   {
    "duration": 9,
    "start_time": "2025-03-10T12:48:29.032Z"
   },
   {
    "duration": 14,
    "start_time": "2025-03-10T12:48:29.043Z"
   },
   {
    "duration": 8,
    "start_time": "2025-03-10T12:48:29.059Z"
   },
   {
    "duration": 55,
    "start_time": "2025-03-10T12:48:29.068Z"
   },
   {
    "duration": 9,
    "start_time": "2025-03-10T12:48:29.125Z"
   },
   {
    "duration": 11,
    "start_time": "2025-03-10T12:48:29.135Z"
   }
  ],
  "kernelspec": {
   "display_name": "Python 3 (ipykernel)",
   "language": "python",
   "name": "python3"
  },
  "language_info": {
   "codemirror_mode": {
    "name": "ipython",
    "version": 3
   },
   "file_extension": ".py",
   "mimetype": "text/x-python",
   "name": "python",
   "nbconvert_exporter": "python",
   "pygments_lexer": "ipython3",
   "version": "3.9.5"
  },
  "toc": {
   "base_numbering": 1,
   "nav_menu": {},
   "number_sections": true,
   "sideBar": true,
   "skip_h1_title": true,
   "title_cell": "Оглавление",
   "title_sidebar": "Contents",
   "toc_cell": true,
   "toc_position": {
    "height": "calc(100% - 180px)",
    "left": "10px",
    "top": "150px",
    "width": "347.594px"
   },
   "toc_section_display": true,
   "toc_window_display": true
  }
 },
 "nbformat": 4,
 "nbformat_minor": 2
}
